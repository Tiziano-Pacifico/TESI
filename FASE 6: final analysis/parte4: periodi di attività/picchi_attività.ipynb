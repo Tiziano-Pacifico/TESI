{
 "cells": [
  {
   "cell_type": "code",
   "execution_count": 1,
   "metadata": {},
   "outputs": [],
   "source": [
    "import pandas as pd\n",
    "import matplotlib.pyplot as plt\n",
    "import numpy as np\n",
    "import plotly.graph_objs as go\n",
    "from plotly.subplots import make_subplots\n",
    "from operator import itemgetter"
   ]
  },
  {
   "cell_type": "code",
   "execution_count": 2,
   "metadata": {},
   "outputs": [],
   "source": [
    "path = \"C:\\\\Users\\\\Tiziano Pacifico\\\\Desktop\\\\TESI General\\\\TESI_FINAL_STAGE\\\\FASE 6\\\\DFs\\\\\"\n",
    "filename = \"final_df.json\"\n",
    "df_in = pd.read_json(path+filename, lines=True)"
   ]
  },
  {
   "cell_type": "code",
   "execution_count": 3,
   "metadata": {},
   "outputs": [],
   "source": [
    "#Divido il dataframe per intervalli settimanali, riduco le colonne a quelle che mi initeressano\n",
    "df_in['time_utc'] = pd.to_datetime(df_in['utc_datetime_str'])\n",
    "df_small = df_in[['time_utc','GPT_label','polarity','text']].copy()\n",
    "day_intervals = pd.date_range(start=df_small['time_utc'].min(), end=df_small['time_utc'].max(), freq='1D')\n",
    "\n",
    "day_df_list = []\n",
    "for i in range(len(day_intervals) - 1):\n",
    "    start_date = day_intervals[i]\n",
    "    end_date = day_intervals[i + 1]\n",
    "    week_data = df_small[(df_small['time_utc'] >= start_date) & (df_small['time_utc'] < end_date)].copy()\n",
    "    day_df_list.append(week_data)\n",
    "day_df_list.append(df_small[(df_small['time_utc'] >= end_date) & (df_small['time_utc'] <= df_small['time_utc'].max())].copy())"
   ]
  },
  {
   "cell_type": "code",
   "execution_count": 4,
   "metadata": {},
   "outputs": [],
   "source": [
    "topics = list(df_small['GPT_label'].unique())"
   ]
  },
  {
   "cell_type": "code",
   "execution_count": 5,
   "metadata": {},
   "outputs": [],
   "source": [
    "#ottengo un dizionario in cui le chiavi sono i topic e i valori sono liste di DFs. Ogni lista contiene i DFs per quei topic divisi per giorni\n",
    "dfs_per_days_and_topics = {}\n",
    "for topic in topics:\n",
    "    days_df_list_per_topic = []\n",
    "    for dayly_df in day_df_list:\n",
    "        days_df_list_per_topic.append(dayly_df[dayly_df['GPT_label'] == topic])\n",
    "    dfs_per_days_and_topics[topic] = days_df_list_per_topic"
   ]
  },
  {
   "cell_type": "code",
   "execution_count": 6,
   "metadata": {},
   "outputs": [],
   "source": [
    "avg_post_per_days_per_topic_list = {}\n",
    "for topic in topics:\n",
    "    avg_post_per_day = (df_small.groupby('GPT_label')['GPT_label'].count()[topic])/len(dfs_per_days_and_topics[topic])\n",
    "    avg_post_per_days_per_topic_list[topic] = round(avg_post_per_day)"
   ]
  },
  {
   "cell_type": "code",
   "execution_count": 7,
   "metadata": {},
   "outputs": [],
   "source": [
    "filename = \"count_series.json\"\n",
    "count_series = pd.read_json(path+filename)\n",
    "count_series = count_series.drop('name', axis=1).rename(columns={'index':'topic'})\n"
   ]
  },
  {
   "cell_type": "code",
   "execution_count": 8,
   "metadata": {},
   "outputs": [],
   "source": [
    "period_max_activity = {}\n",
    "i = 0\n",
    "for topic in topics:\n",
    "    #print(i)\n",
    "    \n",
    "    start = False\n",
    "    period_max_activity[topic] = []\n",
    "    start_date = None\n",
    "    stop_date = None\n",
    "    j = 0\n",
    "    for df_per_day_and_topic in dfs_per_days_and_topics[topic]:\n",
    "        if(df_per_day_and_topic.shape[0] > avg_post_per_days_per_topic_list[topic] and not(start)):\n",
    "            start = True\n",
    "            start_date = df_per_day_and_topic['time_utc'].iloc[0]\n",
    "            stop_date = None\n",
    "            #print(f\"start: {start_date}\")\n",
    "        #print(f\"_____{df_per_day_and_topic.shape[0]}\")\n",
    "        if(df_per_day_and_topic.shape[0] < avg_post_per_days_per_topic_list[topic] and start):\n",
    "            start = False\n",
    "            if(df_per_day_and_topic.shape[0] <= 0):\n",
    "                stop_date = day_intervals[j]\n",
    "                #print(f\"stop: {stop_date}\")\n",
    "            else:\n",
    "                stop_date = df_per_day_and_topic['time_utc'].iloc[-1]\n",
    "            \n",
    "        if(start_date != None and stop_date != None):\n",
    "            period_max_activity[topic].append((start_date, stop_date))\n",
    "            start_date = None\n",
    "            stop_date = None\n",
    "        j += 1\n",
    "    if(start_date != None and stop_date == None):\n",
    "        stop_date = dfs_per_days_and_topics[topics[4]][-1]['time_utc'].iloc[-1]\n",
    "        period_max_activity[topic].append((start_date, stop_date))\n",
    "    i += 1\n",
    "#for topic in topics:\n",
    "#    for p in period_max_activity[topic]:\n",
    "#        print(p[0],p[1])\n",
    "#    print(\"-------------------\")\n",
    "        \n",
    "    "
   ]
  },
  {
   "cell_type": "code",
   "execution_count": 9,
   "metadata": {},
   "outputs": [],
   "source": [
    "colori = [\n",
    "    \"rgb(255, 0, 0)\",    # Rosso\n",
    "    \"rgb(0, 255, 0)\",    # Verde\n",
    "    \"rgb(0, 0, 255)\",    # Blu\n",
    "    \"rgb(255, 255, 0)\",  # Giallo\n",
    "    \"rgb(255, 0, 255)\",  # Magenta\n",
    "    \"rgb(0, 255, 255)\",  # Ciano\n",
    "    \"rgb(128, 0, 0)\",    # Marrone\n",
    "    \"rgb(128, 128, 0)\",  # Oliva\n",
    "    \"rgb(0, 128, 0)\",    # Verde Scuro\n",
    "    \"rgb(128, 0, 128)\",  # Viola\n",
    "    \"rgb(0, 128, 128)\",  # Verde Petrolio\n",
    "    \"rgb(0, 0, 128)\",    # Blu Marino\n",
    "    \"rgb(70, 130, 180)\", # Blu Acciaio\n",
    "    \"rgb(220, 20, 60)\",  # Rosso Cremisi\n",
    "    \"rgb(255, 140, 0)\",  # Arancione Scuro\n",
    "    \"rgb(46, 139, 87)\",  # Verde Mare\n",
    "    \"rgb(255, 69, 0)\",   # Rosso Arancio\n",
    "    \"rgb(75, 0, 130)\",   # Indaco\n",
    "    \"rgb(240, 230, 140)\",# Khaki\n",
    "    \"rgb(106, 90, 205)\", # Lavanda\n",
    "    \"rgb(173, 216, 230)\",# Azzurro\n",
    "    \"rgb(255, 105, 180)\" # Rosa Caldo\n",
    "]\n",
    "color_map = {topic: colori[idx % len(colori)] for idx, topic in enumerate(period_max_activity.keys())}"
   ]
  },
  {
   "cell_type": "code",
   "execution_count": 10,
   "metadata": {},
   "outputs": [],
   "source": [
    "count_series['period_max_Activity'] = count_series['topic'].map(period_max_activity)"
   ]
  },
  {
   "cell_type": "code",
   "execution_count": 11,
   "metadata": {},
   "outputs": [],
   "source": [
    "percentage_days_max_activity_per_topic = {}\n",
    "for topic in topics:\n",
    "    n_days_activity = 0\n",
    "    for start,end in period_max_activity[topic]:\n",
    "        if start.date()!= end.date():\n",
    "            n_days_activity += (end.date()-start.date()).days\n",
    "        else:\n",
    "            n_days_activity += 1\n",
    "    percentage_days_max_activity_per_topic[topic] = str(round(n_days_activity/len(day_intervals)*100)) + \"_%\"\n",
    "count_series['percentage_max_Activity'] = count_series['topic'].map(percentage_days_max_activity_per_topic)"
   ]
  },
  {
   "cell_type": "code",
   "execution_count": 12,
   "metadata": {},
   "outputs": [
    {
     "data": {
      "application/vnd.plotly.v1+json": {
       "config": {
        "plotlyServerURL": "https://plot.ly"
       },
       "data": [
        {
         "line": {
          "color": "rgb(255, 255, 0)",
          "width": 8
         },
         "mode": "lines",
         "name": "Managing Discord Server Interactions with GPT-powered Bots",
         "type": "scatter",
         "x": [
          "2022-12-07T20:03:59",
          "2022-12-18T20:32:58"
         ],
         "y": [
          0,
          0
         ]
        },
        {
         "line": {
          "color": "rgb(255, 255, 0)",
          "width": 8
         },
         "mode": "lines",
         "name": "Managing Discord Server Interactions with GPT-powered Bots",
         "type": "scatter",
         "x": [
          "2023-02-22T19:29:59",
          "2023-02-22T20:30:06"
         ],
         "y": [
          0,
          0
         ]
        },
        {
         "line": {
          "color": "rgb(255, 255, 0)",
          "width": 8
         },
         "mode": "lines",
         "name": "Managing Discord Server Interactions with GPT-powered Bots",
         "type": "scatter",
         "x": [
          "2023-02-24T19:49:31",
          "2023-03-02T20:31:27"
         ],
         "y": [
          0,
          0
         ]
        },
        {
         "line": {
          "color": "rgb(255, 255, 0)",
          "width": 8
         },
         "mode": "lines",
         "name": "Managing Discord Server Interactions with GPT-powered Bots",
         "type": "scatter",
         "x": [
          "2023-03-15T20:11:27",
          "2023-04-28T20:30:02"
         ],
         "y": [
          0,
          0
         ]
        },
        {
         "line": {
          "color": "rgb(255, 255, 0)",
          "width": 8
         },
         "mode": "lines",
         "name": "Managing Discord Server Interactions with GPT-powered Bots",
         "type": "scatter",
         "x": [
          "2023-04-30T20:08:15",
          "2023-04-30T20:25:18"
         ],
         "y": [
          0,
          0
         ]
        },
        {
         "line": {
          "color": "rgb(0, 255, 0)",
          "width": 8
         },
         "mode": "lines",
         "name": "Managing Discord Server Interactions with GPT-powered Bots",
         "type": "scatter",
         "x": [
          "2022-12-08T18:43:20",
          "2022-12-17T20:21:29"
         ],
         "y": [
          1,
          1
         ]
        },
        {
         "line": {
          "color": "rgb(0, 255, 0)",
          "width": 8
         },
         "mode": "lines",
         "name": "Managing Discord Server Interactions with GPT-powered Bots",
         "type": "scatter",
         "x": [
          "2023-02-26T20:18:21",
          "2023-03-02T20:23:52"
         ],
         "y": [
          1,
          1
         ]
        },
        {
         "line": {
          "color": "rgb(0, 255, 0)",
          "width": 8
         },
         "mode": "lines",
         "name": "Managing Discord Server Interactions with GPT-powered Bots",
         "type": "scatter",
         "x": [
          "2023-03-07T20:14:50",
          "2023-03-08T20:28:42"
         ],
         "y": [
          1,
          1
         ]
        },
        {
         "line": {
          "color": "rgb(0, 255, 0)",
          "width": 8
         },
         "mode": "lines",
         "name": "Managing Discord Server Interactions with GPT-powered Bots",
         "type": "scatter",
         "x": [
          "2023-03-15T20:17:24",
          "2023-03-18T20:37:11"
         ],
         "y": [
          1,
          1
         ]
        },
        {
         "line": {
          "color": "rgb(0, 255, 0)",
          "width": 8
         },
         "mode": "lines",
         "name": "Managing Discord Server Interactions with GPT-powered Bots",
         "type": "scatter",
         "x": [
          "2023-03-20T20:19:11",
          "2023-03-31T20:31:03"
         ],
         "y": [
          1,
          1
         ]
        },
        {
         "line": {
          "color": "rgb(0, 255, 0)",
          "width": 8
         },
         "mode": "lines",
         "name": "Managing Discord Server Interactions with GPT-powered Bots",
         "type": "scatter",
         "x": [
          "2023-04-03T20:03:12",
          "2023-04-03T20:25:33"
         ],
         "y": [
          1,
          1
         ]
        },
        {
         "line": {
          "color": "rgb(0, 255, 0)",
          "width": 8
         },
         "mode": "lines",
         "name": "Managing Discord Server Interactions with GPT-powered Bots",
         "type": "scatter",
         "x": [
          "2023-04-05T20:16:25",
          "2023-04-10T20:33:48"
         ],
         "y": [
          1,
          1
         ]
        },
        {
         "line": {
          "color": "rgb(0, 255, 0)",
          "width": 8
         },
         "mode": "lines",
         "name": "Managing Discord Server Interactions with GPT-powered Bots",
         "type": "scatter",
         "x": [
          "2023-04-12T20:09:35",
          "2023-04-30T21:14:11"
         ],
         "y": [
          1,
          1
         ]
        },
        {
         "line": {
          "color": "rgb(220, 20, 60)",
          "width": 8
         },
         "mode": "lines",
         "name": "Managing Discord Server Interactions with GPT-powered Bots",
         "type": "scatter",
         "x": [
          "2022-12-20T19:42:40",
          "2022-12-21T20:43:04"
         ],
         "y": [
          2,
          2
         ]
        },
        {
         "line": {
          "color": "rgb(220, 20, 60)",
          "width": 8
         },
         "mode": "lines",
         "name": "Managing Discord Server Interactions with GPT-powered Bots",
         "type": "scatter",
         "x": [
          "2023-01-03T20:17:59",
          "2023-01-03T21:11:01"
         ],
         "y": [
          2,
          2
         ]
        },
        {
         "line": {
          "color": "rgb(220, 20, 60)",
          "width": 8
         },
         "mode": "lines",
         "name": "Managing Discord Server Interactions with GPT-powered Bots",
         "type": "scatter",
         "x": [
          "2023-01-05T20:13:19",
          "2023-01-06T20:29:54"
         ],
         "y": [
          2,
          2
         ]
        },
        {
         "line": {
          "color": "rgb(220, 20, 60)",
          "width": 8
         },
         "mode": "lines",
         "name": "Managing Discord Server Interactions with GPT-powered Bots",
         "type": "scatter",
         "x": [
          "2023-01-08T20:18:44",
          "2023-02-25T20:25:52"
         ],
         "y": [
          2,
          2
         ]
        },
        {
         "line": {
          "color": "rgb(0, 128, 0)",
          "width": 8
         },
         "mode": "lines",
         "name": "Managing Discord Server Interactions with GPT-powered Bots",
         "type": "scatter",
         "x": [
          "2023-03-20T20:00:44",
          "2023-04-22T20:32:54"
         ],
         "y": [
          3,
          3
         ]
        },
        {
         "line": {
          "color": "rgb(0, 128, 0)",
          "width": 8
         },
         "mode": "lines",
         "name": "Managing Discord Server Interactions with GPT-powered Bots",
         "type": "scatter",
         "x": [
          "2023-04-24T19:33:58",
          "2023-04-29T21:46:42"
         ],
         "y": [
          3,
          3
         ]
        },
        {
         "line": {
          "color": "rgb(255, 69, 0)",
          "width": 8
         },
         "mode": "lines",
         "name": "Managing Discord Server Interactions with GPT-powered Bots",
         "type": "scatter",
         "x": [
          "2023-01-26T15:38:08",
          "2023-01-27T16:49:02"
         ],
         "y": [
          4,
          4
         ]
        },
        {
         "line": {
          "color": "rgb(255, 69, 0)",
          "width": 8
         },
         "mode": "lines",
         "name": "Managing Discord Server Interactions with GPT-powered Bots",
         "type": "scatter",
         "x": [
          "2023-03-03T20:16:42",
          "2023-03-23T00:17:24"
         ],
         "y": [
          4,
          4
         ]
        },
        {
         "line": {
          "color": "rgb(0, 128, 128)",
          "width": 8
         },
         "mode": "lines",
         "name": "Managing Discord Server Interactions with GPT-powered Bots",
         "type": "scatter",
         "x": [
          "2023-03-19T19:56:10",
          "2023-03-19T20:29:04"
         ],
         "y": [
          5,
          5
         ]
        },
        {
         "line": {
          "color": "rgb(0, 128, 128)",
          "width": 8
         },
         "mode": "lines",
         "name": "Managing Discord Server Interactions with GPT-powered Bots",
         "type": "scatter",
         "x": [
          "2023-03-22T20:11:55",
          "2023-04-14T20:19:59"
         ],
         "y": [
          5,
          5
         ]
        },
        {
         "line": {
          "color": "rgb(240, 230, 140)",
          "width": 8
         },
         "mode": "lines",
         "name": "Managing Discord Server Interactions with GPT-powered Bots",
         "type": "scatter",
         "x": [
          "2022-12-20T19:31:38",
          "2022-12-20T20:19:30"
         ],
         "y": [
          6,
          6
         ]
        },
        {
         "line": {
          "color": "rgb(240, 230, 140)",
          "width": 8
         },
         "mode": "lines",
         "name": "Managing Discord Server Interactions with GPT-powered Bots",
         "type": "scatter",
         "x": [
          "2022-12-22T20:11:01",
          "2022-12-22T21:23:45"
         ],
         "y": [
          6,
          6
         ]
        },
        {
         "line": {
          "color": "rgb(240, 230, 140)",
          "width": 8
         },
         "mode": "lines",
         "name": "Managing Discord Server Interactions with GPT-powered Bots",
         "type": "scatter",
         "x": [
          "2022-12-26T20:02:54",
          "2022-12-26T21:17:19"
         ],
         "y": [
          6,
          6
         ]
        },
        {
         "line": {
          "color": "rgb(240, 230, 140)",
          "width": 8
         },
         "mode": "lines",
         "name": "Managing Discord Server Interactions with GPT-powered Bots",
         "type": "scatter",
         "x": [
          "2022-12-29T19:22:18",
          "2022-12-30T21:18:41"
         ],
         "y": [
          6,
          6
         ]
        },
        {
         "line": {
          "color": "rgb(240, 230, 140)",
          "width": 8
         },
         "mode": "lines",
         "name": "Managing Discord Server Interactions with GPT-powered Bots",
         "type": "scatter",
         "x": [
          "2023-01-03T20:12:29",
          "2023-01-07T22:19:23"
         ],
         "y": [
          6,
          6
         ]
        },
        {
         "line": {
          "color": "rgb(240, 230, 140)",
          "width": 8
         },
         "mode": "lines",
         "name": "Managing Discord Server Interactions with GPT-powered Bots",
         "type": "scatter",
         "x": [
          "2023-01-28T20:03:03",
          "2023-02-25T20:29:57"
         ],
         "y": [
          6,
          6
         ]
        },
        {
         "line": {
          "color": "rgb(255, 0, 0)",
          "width": 8
         },
         "mode": "lines",
         "name": "Managing Discord Server Interactions with GPT-powered Bots",
         "type": "scatter",
         "x": [
          "2023-04-15T20:12:00",
          "2023-04-30T21:08:43"
         ],
         "y": [
          7,
          7
         ]
        },
        {
         "line": {
          "color": "rgb(128, 0, 128)",
          "width": 8
         },
         "mode": "lines",
         "name": "Managing Discord Server Interactions with GPT-powered Bots",
         "type": "scatter",
         "x": [
          "2022-12-13T20:19:08",
          "2022-12-13T21:08:48"
         ],
         "y": [
          8,
          8
         ]
        },
        {
         "line": {
          "color": "rgb(128, 0, 128)",
          "width": 8
         },
         "mode": "lines",
         "name": "Managing Discord Server Interactions with GPT-powered Bots",
         "type": "scatter",
         "x": [
          "2023-02-23T20:09:57",
          "2023-02-24T22:14:30"
         ],
         "y": [
          8,
          8
         ]
        },
        {
         "line": {
          "color": "rgb(128, 0, 128)",
          "width": 8
         },
         "mode": "lines",
         "name": "Managing Discord Server Interactions with GPT-powered Bots",
         "type": "scatter",
         "x": [
          "2023-02-27T19:52:16",
          "2023-03-03T21:13:18"
         ],
         "y": [
          8,
          8
         ]
        },
        {
         "line": {
          "color": "rgb(128, 0, 128)",
          "width": 8
         },
         "mode": "lines",
         "name": "Managing Discord Server Interactions with GPT-powered Bots",
         "type": "scatter",
         "x": [
          "2023-03-07T20:01:58",
          "2023-03-09T21:15:00"
         ],
         "y": [
          8,
          8
         ]
        },
        {
         "line": {
          "color": "rgb(128, 0, 128)",
          "width": 8
         },
         "mode": "lines",
         "name": "Managing Discord Server Interactions with GPT-powered Bots",
         "type": "scatter",
         "x": [
          "2023-03-14T19:01:01",
          "2023-04-30T21:08:43"
         ],
         "y": [
          8,
          8
         ]
        },
        {
         "line": {
          "color": "rgb(0, 255, 255)",
          "width": 8
         },
         "mode": "lines",
         "name": "Managing Discord Server Interactions with GPT-powered Bots",
         "type": "scatter",
         "x": [
          "2023-03-20T20:13:02",
          "2023-04-30T21:08:43"
         ],
         "y": [
          9,
          9
         ]
        },
        {
         "line": {
          "color": "rgb(128, 128, 0)",
          "width": 8
         },
         "mode": "lines",
         "name": "Managing Discord Server Interactions with GPT-powered Bots",
         "type": "scatter",
         "x": [
          "2022-12-04T19:42:44",
          "2022-12-19T22:17:53"
         ],
         "y": [
          10,
          10
         ]
        },
        {
         "line": {
          "color": "rgb(128, 128, 0)",
          "width": 8
         },
         "mode": "lines",
         "name": "Managing Discord Server Interactions with GPT-powered Bots",
         "type": "scatter",
         "x": [
          "2023-03-09T20:10:43",
          "2023-03-14T02:28:14"
         ],
         "y": [
          10,
          10
         ]
        },
        {
         "line": {
          "color": "rgb(128, 128, 0)",
          "width": 8
         },
         "mode": "lines",
         "name": "Managing Discord Server Interactions with GPT-powered Bots",
         "type": "scatter",
         "x": [
          "2023-03-31T19:20:14",
          "2023-03-31T20:58:51"
         ],
         "y": [
          10,
          10
         ]
        },
        {
         "line": {
          "color": "rgb(128, 128, 0)",
          "width": 8
         },
         "mode": "lines",
         "name": "Managing Discord Server Interactions with GPT-powered Bots",
         "type": "scatter",
         "x": [
          "2023-04-02T17:54:35",
          "2023-04-03T20:58:29"
         ],
         "y": [
          10,
          10
         ]
        },
        {
         "line": {
          "color": "rgb(128, 128, 0)",
          "width": 8
         },
         "mode": "lines",
         "name": "Managing Discord Server Interactions with GPT-powered Bots",
         "type": "scatter",
         "x": [
          "2023-04-19T17:51:34",
          "2023-04-19T20:46:14"
         ],
         "y": [
          10,
          10
         ]
        },
        {
         "line": {
          "color": "rgb(128, 128, 0)",
          "width": 8
         },
         "mode": "lines",
         "name": "Managing Discord Server Interactions with GPT-powered Bots",
         "type": "scatter",
         "x": [
          "2023-04-22T19:27:55",
          "2023-04-24T22:07:21"
         ],
         "y": [
          10,
          10
         ]
        },
        {
         "line": {
          "color": "rgb(255, 0, 255)",
          "width": 8
         },
         "mode": "lines",
         "name": "Managing Discord Server Interactions with GPT-powered Bots",
         "type": "scatter",
         "x": [
          "2023-03-20T20:13:26",
          "2023-04-30T21:08:43"
         ],
         "y": [
          11,
          11
         ]
        },
        {
         "line": {
          "color": "rgb(46, 139, 87)",
          "width": 8
         },
         "mode": "lines",
         "name": "Managing Discord Server Interactions with GPT-powered Bots",
         "type": "scatter",
         "x": [
          "2022-12-19T20:14:26",
          "2023-01-08T20:19:28"
         ],
         "y": [
          12,
          12
         ]
        },
        {
         "line": {
          "color": "rgb(46, 139, 87)",
          "width": 8
         },
         "mode": "lines",
         "name": "Managing Discord Server Interactions with GPT-powered Bots",
         "type": "scatter",
         "x": [
          "2023-01-28T19:34:52",
          "2023-02-05T21:42:13"
         ],
         "y": [
          12,
          12
         ]
        },
        {
         "line": {
          "color": "rgb(173, 216, 230)",
          "width": 8
         },
         "mode": "lines",
         "name": "Managing Discord Server Interactions with GPT-powered Bots",
         "type": "scatter",
         "x": [
          "2022-12-11T22:39:53",
          "2022-12-13T18:11:31"
         ],
         "y": [
          13,
          13
         ]
        },
        {
         "line": {
          "color": "rgb(173, 216, 230)",
          "width": 8
         },
         "mode": "lines",
         "name": "Managing Discord Server Interactions with GPT-powered Bots",
         "type": "scatter",
         "x": [
          "2022-12-20T20:02:41",
          "2022-12-24T20:33:40"
         ],
         "y": [
          13,
          13
         ]
        },
        {
         "line": {
          "color": "rgb(173, 216, 230)",
          "width": 8
         },
         "mode": "lines",
         "name": "Managing Discord Server Interactions with GPT-powered Bots",
         "type": "scatter",
         "x": [
          "2022-12-28T19:12:59",
          "2022-12-30T20:31:14"
         ],
         "y": [
          13,
          13
         ]
        },
        {
         "line": {
          "color": "rgb(173, 216, 230)",
          "width": 8
         },
         "mode": "lines",
         "name": "Managing Discord Server Interactions with GPT-powered Bots",
         "type": "scatter",
         "x": [
          "2023-01-04T18:48:26",
          "2023-01-04T20:31:33"
         ],
         "y": [
          13,
          13
         ]
        },
        {
         "line": {
          "color": "rgb(173, 216, 230)",
          "width": 8
         },
         "mode": "lines",
         "name": "Managing Discord Server Interactions with GPT-powered Bots",
         "type": "scatter",
         "x": [
          "2023-01-08T19:47:09",
          "2023-01-27T21:17:20"
         ],
         "y": [
          13,
          13
         ]
        },
        {
         "line": {
          "color": "rgb(128, 0, 0)",
          "width": 8
         },
         "mode": "lines",
         "name": "Managing Discord Server Interactions with GPT-powered Bots",
         "type": "scatter",
         "x": [
          "2022-12-04T19:31:30",
          "2022-12-19T20:19:28"
         ],
         "y": [
          14,
          14
         ]
        },
        {
         "line": {
          "color": "rgb(128, 0, 0)",
          "width": 8
         },
         "mode": "lines",
         "name": "Managing Discord Server Interactions with GPT-powered Bots",
         "type": "scatter",
         "x": [
          "2023-03-09T19:53:37",
          "2023-03-14T00:45:09"
         ],
         "y": [
          14,
          14
         ]
        },
        {
         "line": {
          "color": "rgb(128, 0, 0)",
          "width": 8
         },
         "mode": "lines",
         "name": "Managing Discord Server Interactions with GPT-powered Bots",
         "type": "scatter",
         "x": [
          "2023-03-18T11:34:29",
          "2023-03-18T21:29:04"
         ],
         "y": [
          14,
          14
         ]
        },
        {
         "line": {
          "color": "rgb(128, 0, 0)",
          "width": 8
         },
         "mode": "lines",
         "name": "Managing Discord Server Interactions with GPT-powered Bots",
         "type": "scatter",
         "x": [
          "2023-03-30T19:14:58",
          "2023-04-04T08:20:30"
         ],
         "y": [
          14,
          14
         ]
        },
        {
         "line": {
          "color": "rgb(128, 0, 0)",
          "width": 8
         },
         "mode": "lines",
         "name": "Managing Discord Server Interactions with GPT-powered Bots",
         "type": "scatter",
         "x": [
          "2023-04-12T18:43:53",
          "2023-04-14T06:31:14"
         ],
         "y": [
          14,
          14
         ]
        },
        {
         "line": {
          "color": "rgb(128, 0, 0)",
          "width": 8
         },
         "mode": "lines",
         "name": "Managing Discord Server Interactions with GPT-powered Bots",
         "type": "scatter",
         "x": [
          "2023-04-23T20:15:50",
          "2023-04-24T23:11:57"
         ],
         "y": [
          14,
          14
         ]
        },
        {
         "line": {
          "color": "rgb(70, 130, 180)",
          "width": 8
         },
         "mode": "lines",
         "name": "Managing Discord Server Interactions with GPT-powered Bots",
         "type": "scatter",
         "x": [
          "2022-12-11T18:09:04",
          "2022-12-12T20:19:28"
         ],
         "y": [
          15,
          15
         ]
        },
        {
         "line": {
          "color": "rgb(70, 130, 180)",
          "width": 8
         },
         "mode": "lines",
         "name": "Managing Discord Server Interactions with GPT-powered Bots",
         "type": "scatter",
         "x": [
          "2023-02-08T20:07:41",
          "2023-03-05T21:05:14"
         ],
         "y": [
          15,
          15
         ]
        },
        {
         "line": {
          "color": "rgb(70, 130, 180)",
          "width": 8
         },
         "mode": "lines",
         "name": "Managing Discord Server Interactions with GPT-powered Bots",
         "type": "scatter",
         "x": [
          "2023-03-09T19:39:19",
          "2023-03-18T22:22:10"
         ],
         "y": [
          15,
          15
         ]
        },
        {
         "line": {
          "color": "rgb(70, 130, 180)",
          "width": 8
         },
         "mode": "lines",
         "name": "Managing Discord Server Interactions with GPT-powered Bots",
         "type": "scatter",
         "x": [
          "2023-03-21T19:15:17",
          "2023-04-02T22:27:05"
         ],
         "y": [
          15,
          15
         ]
        },
        {
         "line": {
          "color": "rgb(70, 130, 180)",
          "width": 8
         },
         "mode": "lines",
         "name": "Managing Discord Server Interactions with GPT-powered Bots",
         "type": "scatter",
         "x": [
          "2023-04-12T19:50:11",
          "2023-04-13T22:44:29"
         ],
         "y": [
          15,
          15
         ]
        },
        {
         "line": {
          "color": "rgb(70, 130, 180)",
          "width": 8
         },
         "mode": "lines",
         "name": "Managing Discord Server Interactions with GPT-powered Bots",
         "type": "scatter",
         "x": [
          "2023-04-17T18:45:05",
          "2023-04-18T21:22:17"
         ],
         "y": [
          15,
          15
         ]
        },
        {
         "line": {
          "color": "rgb(70, 130, 180)",
          "width": 8
         },
         "mode": "lines",
         "name": "Managing Discord Server Interactions with GPT-powered Bots",
         "type": "scatter",
         "x": [
          "2023-04-23T18:02:24",
          "2023-04-24T00:14:14"
         ],
         "y": [
          15,
          15
         ]
        },
        {
         "line": {
          "color": "rgb(0, 0, 255)",
          "width": 8
         },
         "mode": "lines",
         "name": "Managing Discord Server Interactions with GPT-powered Bots",
         "type": "scatter",
         "x": [
          "2022-12-14T19:52:16",
          "2022-12-18T20:48:07"
         ],
         "y": [
          16,
          16
         ]
        },
        {
         "line": {
          "color": "rgb(0, 0, 255)",
          "width": 8
         },
         "mode": "lines",
         "name": "Managing Discord Server Interactions with GPT-powered Bots",
         "type": "scatter",
         "x": [
          "2022-12-20T18:10:55",
          "2022-12-21T20:14:23"
         ],
         "y": [
          16,
          16
         ]
        },
        {
         "line": {
          "color": "rgb(0, 0, 255)",
          "width": 8
         },
         "mode": "lines",
         "name": "Managing Discord Server Interactions with GPT-powered Bots",
         "type": "scatter",
         "x": [
          "2023-02-06T20:11:09",
          "2023-02-26T21:02:40"
         ],
         "y": [
          16,
          16
         ]
        },
        {
         "line": {
          "color": "rgb(0, 0, 255)",
          "width": 8
         },
         "mode": "lines",
         "name": "Managing Discord Server Interactions with GPT-powered Bots",
         "type": "scatter",
         "x": [
          "2023-02-28T19:35:29",
          "2023-03-11T02:21:47"
         ],
         "y": [
          16,
          16
         ]
        },
        {
         "line": {
          "color": "rgb(0, 0, 255)",
          "width": 8
         },
         "mode": "lines",
         "name": "Managing Discord Server Interactions with GPT-powered Bots",
         "type": "scatter",
         "x": [
          "2023-03-14T18:27:26",
          "2023-03-18T23:43:30"
         ],
         "y": [
          16,
          16
         ]
        },
        {
         "line": {
          "color": "rgb(0, 0, 255)",
          "width": 8
         },
         "mode": "lines",
         "name": "Managing Discord Server Interactions with GPT-powered Bots",
         "type": "scatter",
         "x": [
          "2023-03-20T18:48:56",
          "2023-03-21T21:37:46"
         ],
         "y": [
          16,
          16
         ]
        },
        {
         "line": {
          "color": "rgb(0, 0, 255)",
          "width": 8
         },
         "mode": "lines",
         "name": "Managing Discord Server Interactions with GPT-powered Bots",
         "type": "scatter",
         "x": [
          "2023-03-25T18:55:07",
          "2023-03-27T20:31:22"
         ],
         "y": [
          16,
          16
         ]
        },
        {
         "line": {
          "color": "rgb(0, 0, 255)",
          "width": 8
         },
         "mode": "lines",
         "name": "Managing Discord Server Interactions with GPT-powered Bots",
         "type": "scatter",
         "x": [
          "2023-03-29T17:19:07",
          "2023-03-30T20:49:18"
         ],
         "y": [
          16,
          16
         ]
        },
        {
         "line": {
          "color": "rgb(0, 0, 255)",
          "width": 8
         },
         "mode": "lines",
         "name": "Managing Discord Server Interactions with GPT-powered Bots",
         "type": "scatter",
         "x": [
          "2023-04-02T19:07:32",
          "2023-04-04T07:01:05"
         ],
         "y": [
          16,
          16
         ]
        },
        {
         "line": {
          "color": "rgb(0, 0, 255)",
          "width": 8
         },
         "mode": "lines",
         "name": "Managing Discord Server Interactions with GPT-powered Bots",
         "type": "scatter",
         "x": [
          "2023-04-05T17:42:30",
          "2023-04-05T23:15:16"
         ],
         "y": [
          16,
          16
         ]
        },
        {
         "line": {
          "color": "rgb(0, 0, 255)",
          "width": 8
         },
         "mode": "lines",
         "name": "Managing Discord Server Interactions with GPT-powered Bots",
         "type": "scatter",
         "x": [
          "2023-04-08T19:13:42",
          "2023-04-09T07:37:09"
         ],
         "y": [
          16,
          16
         ]
        },
        {
         "line": {
          "color": "rgb(0, 0, 255)",
          "width": 8
         },
         "mode": "lines",
         "name": "Managing Discord Server Interactions with GPT-powered Bots",
         "type": "scatter",
         "x": [
          "2023-04-12T19:31:14",
          "2023-04-12T20:43:02"
         ],
         "y": [
          16,
          16
         ]
        },
        {
         "line": {
          "color": "rgb(0, 0, 255)",
          "width": 8
         },
         "mode": "lines",
         "name": "Managing Discord Server Interactions with GPT-powered Bots",
         "type": "scatter",
         "x": [
          "2023-04-17T19:23:42",
          "2023-04-17T21:14:58"
         ],
         "y": [
          16,
          16
         ]
        },
        {
         "line": {
          "color": "rgb(0, 0, 255)",
          "width": 8
         },
         "mode": "lines",
         "name": "Managing Discord Server Interactions with GPT-powered Bots",
         "type": "scatter",
         "x": [
          "2023-04-23T09:32:13",
          "2023-04-25T23:27:18"
         ],
         "y": [
          16,
          16
         ]
        },
        {
         "line": {
          "color": "rgb(0, 0, 128)",
          "width": 8
         },
         "mode": "lines",
         "name": "Managing Discord Server Interactions with GPT-powered Bots",
         "type": "scatter",
         "x": [
          "2022-12-03T19:28:22",
          "2022-12-19T20:19:28"
         ],
         "y": [
          17,
          17
         ]
        },
        {
         "line": {
          "color": "rgb(0, 0, 128)",
          "width": 8
         },
         "mode": "lines",
         "name": "Managing Discord Server Interactions with GPT-powered Bots",
         "type": "scatter",
         "x": [
          "2022-12-23T17:19:07",
          "2022-12-24T01:06:56"
         ],
         "y": [
          17,
          17
         ]
        },
        {
         "line": {
          "color": "rgb(0, 0, 128)",
          "width": 8
         },
         "mode": "lines",
         "name": "Managing Discord Server Interactions with GPT-powered Bots",
         "type": "scatter",
         "x": [
          "2023-03-09T19:42:47",
          "2023-03-14T06:41:06"
         ],
         "y": [
          17,
          17
         ]
        },
        {
         "line": {
          "color": "rgb(0, 0, 128)",
          "width": 8
         },
         "mode": "lines",
         "name": "Managing Discord Server Interactions with GPT-powered Bots",
         "type": "scatter",
         "x": [
          "2023-04-17T16:35:28",
          "2023-04-17T20:19:28"
         ],
         "y": [
          17,
          17
         ]
        },
        {
         "line": {
          "color": "rgb(255, 140, 0)",
          "width": 8
         },
         "mode": "lines",
         "name": "Managing Discord Server Interactions with GPT-powered Bots",
         "type": "scatter",
         "x": [
          "2023-03-14T19:01:31",
          "2023-03-19T20:19:28"
         ],
         "y": [
          18,
          18
         ]
        },
        {
         "line": {
          "color": "rgb(255, 105, 180)",
          "width": 8
         },
         "mode": "lines",
         "name": "Managing Discord Server Interactions with GPT-powered Bots",
         "type": "scatter",
         "x": [
          "2023-01-08T20:15:15",
          "2023-01-27T20:19:28"
         ],
         "y": [
          19,
          19
         ]
        },
        {
         "line": {
          "color": "rgb(75, 0, 130)",
          "width": 8
         },
         "mode": "lines",
         "name": "Managing Discord Server Interactions with GPT-powered Bots",
         "type": "scatter",
         "x": [
          "2022-12-11T22:34:32",
          "2022-12-12T20:19:28"
         ],
         "y": [
          20,
          20
         ]
        },
        {
         "line": {
          "color": "rgb(75, 0, 130)",
          "width": 8
         },
         "mode": "lines",
         "name": "Managing Discord Server Interactions with GPT-powered Bots",
         "type": "scatter",
         "x": [
          "2022-12-21T22:37:44",
          "2022-12-24T20:19:28"
         ],
         "y": [
          20,
          20
         ]
        },
        {
         "line": {
          "color": "rgb(75, 0, 130)",
          "width": 8
         },
         "mode": "lines",
         "name": "Managing Discord Server Interactions with GPT-powered Bots",
         "type": "scatter",
         "x": [
          "2023-03-14T16:14:50",
          "2023-03-20T20:19:28"
         ],
         "y": [
          20,
          20
         ]
        },
        {
         "line": {
          "color": "rgb(106, 90, 205)",
          "width": 8
         },
         "mode": "lines",
         "name": "Managing Discord Server Interactions with GPT-powered Bots",
         "type": "scatter",
         "x": [
          "2023-03-17T23:59:58",
          "2023-03-18T20:19:28"
         ],
         "y": [
          21,
          21
         ]
        }
       ],
       "layout": {
        "annotations": [
         {
          "font": {
           "color": "black",
           "size": 14
          },
          "showarrow": false,
          "text": "42_%",
          "x": 1.07,
          "xref": "paper",
          "y": 0
         },
         {
          "font": {
           "color": "black",
           "size": 14
          },
          "showarrow": false,
          "text": "34_%",
          "x": 1.07,
          "xref": "paper",
          "y": 1
         },
         {
          "font": {
           "color": "black",
           "size": 14
          },
          "showarrow": false,
          "text": "34_%",
          "x": 1.07,
          "xref": "paper",
          "y": 2
         },
         {
          "font": {
           "color": "black",
           "size": 14
          },
          "showarrow": false,
          "text": "25_%",
          "x": 1.07,
          "xref": "paper",
          "y": 3
         },
         {
          "font": {
           "color": "black",
           "size": 14
          },
          "showarrow": false,
          "text": "14_%",
          "x": 1.07,
          "xref": "paper",
          "y": 4
         },
         {
          "font": {
           "color": "black",
           "size": 14
          },
          "showarrow": false,
          "text": "16_%",
          "x": 1.07,
          "xref": "paper",
          "y": 5
         },
         {
          "font": {
           "color": "black",
           "size": 14
          },
          "showarrow": false,
          "text": "24_%",
          "x": 1.07,
          "xref": "paper",
          "y": 6
         },
         {
          "font": {
           "color": "black",
           "size": 14
          },
          "showarrow": false,
          "text": "10_%",
          "x": 1.07,
          "xref": "paper",
          "y": 7
         },
         {
          "font": {
           "color": "black",
           "size": 14
          },
          "showarrow": false,
          "text": "36_%",
          "x": 1.07,
          "xref": "paper",
          "y": 8
         },
         {
          "font": {
           "color": "black",
           "size": 14
          },
          "showarrow": false,
          "text": "27_%",
          "x": 1.07,
          "xref": "paper",
          "y": 9
         },
         {
          "font": {
           "color": "black",
           "size": 14
          },
          "showarrow": false,
          "text": "17_%",
          "x": 1.07,
          "xref": "paper",
          "y": 10
         },
         {
          "font": {
           "color": "black",
           "size": 14
          },
          "showarrow": false,
          "text": "27_%",
          "x": 1.07,
          "xref": "paper",
          "y": 11
         },
         {
          "font": {
           "color": "black",
           "size": 14
          },
          "showarrow": false,
          "text": "19_%",
          "x": 1.07,
          "xref": "paper",
          "y": 12
         },
         {
          "font": {
           "color": "black",
           "size": 14
          },
          "showarrow": false,
          "text": "19_%",
          "x": 1.07,
          "xref": "paper",
          "y": 13
         },
         {
          "font": {
           "color": "black",
           "size": 14
          },
          "showarrow": false,
          "text": "19_%",
          "x": 1.07,
          "xref": "paper",
          "y": 14
         },
         {
          "font": {
           "color": "black",
           "size": 14
          },
          "showarrow": false,
          "text": "33_%",
          "x": 1.07,
          "xref": "paper",
          "y": 15
         },
         {
          "font": {
           "color": "black",
           "size": 14
          },
          "showarrow": false,
          "text": "34_%",
          "x": 1.07,
          "xref": "paper",
          "y": 16
         },
         {
          "font": {
           "color": "black",
           "size": 14
          },
          "showarrow": false,
          "text": "15_%",
          "x": 1.07,
          "xref": "paper",
          "y": 17
         },
         {
          "font": {
           "color": "black",
           "size": 14
          },
          "showarrow": false,
          "text": "3_%",
          "x": 1.07,
          "xref": "paper",
          "y": 18
         },
         {
          "font": {
           "color": "black",
           "size": 14
          },
          "showarrow": false,
          "text": "13_%",
          "x": 1.07,
          "xref": "paper",
          "y": 19
         },
         {
          "font": {
           "color": "black",
           "size": 14
          },
          "showarrow": false,
          "text": "7_%",
          "x": 1.07,
          "xref": "paper",
          "y": 20
         },
         {
          "font": {
           "color": "black",
           "size": 14
          },
          "showarrow": false,
          "text": "1_%",
          "x": 1.07,
          "xref": "paper",
          "y": 21
         }
        ],
        "height": 1000,
        "showlegend": false,
        "template": {
         "data": {
          "bar": [
           {
            "error_x": {
             "color": "#2a3f5f"
            },
            "error_y": {
             "color": "#2a3f5f"
            },
            "marker": {
             "line": {
              "color": "#E5ECF6",
              "width": 0.5
             },
             "pattern": {
              "fillmode": "overlay",
              "size": 10,
              "solidity": 0.2
             }
            },
            "type": "bar"
           }
          ],
          "barpolar": [
           {
            "marker": {
             "line": {
              "color": "#E5ECF6",
              "width": 0.5
             },
             "pattern": {
              "fillmode": "overlay",
              "size": 10,
              "solidity": 0.2
             }
            },
            "type": "barpolar"
           }
          ],
          "carpet": [
           {
            "aaxis": {
             "endlinecolor": "#2a3f5f",
             "gridcolor": "white",
             "linecolor": "white",
             "minorgridcolor": "white",
             "startlinecolor": "#2a3f5f"
            },
            "baxis": {
             "endlinecolor": "#2a3f5f",
             "gridcolor": "white",
             "linecolor": "white",
             "minorgridcolor": "white",
             "startlinecolor": "#2a3f5f"
            },
            "type": "carpet"
           }
          ],
          "choropleth": [
           {
            "colorbar": {
             "outlinewidth": 0,
             "ticks": ""
            },
            "type": "choropleth"
           }
          ],
          "contour": [
           {
            "colorbar": {
             "outlinewidth": 0,
             "ticks": ""
            },
            "colorscale": [
             [
              0,
              "#0d0887"
             ],
             [
              0.1111111111111111,
              "#46039f"
             ],
             [
              0.2222222222222222,
              "#7201a8"
             ],
             [
              0.3333333333333333,
              "#9c179e"
             ],
             [
              0.4444444444444444,
              "#bd3786"
             ],
             [
              0.5555555555555556,
              "#d8576b"
             ],
             [
              0.6666666666666666,
              "#ed7953"
             ],
             [
              0.7777777777777778,
              "#fb9f3a"
             ],
             [
              0.8888888888888888,
              "#fdca26"
             ],
             [
              1,
              "#f0f921"
             ]
            ],
            "type": "contour"
           }
          ],
          "contourcarpet": [
           {
            "colorbar": {
             "outlinewidth": 0,
             "ticks": ""
            },
            "type": "contourcarpet"
           }
          ],
          "heatmap": [
           {
            "colorbar": {
             "outlinewidth": 0,
             "ticks": ""
            },
            "colorscale": [
             [
              0,
              "#0d0887"
             ],
             [
              0.1111111111111111,
              "#46039f"
             ],
             [
              0.2222222222222222,
              "#7201a8"
             ],
             [
              0.3333333333333333,
              "#9c179e"
             ],
             [
              0.4444444444444444,
              "#bd3786"
             ],
             [
              0.5555555555555556,
              "#d8576b"
             ],
             [
              0.6666666666666666,
              "#ed7953"
             ],
             [
              0.7777777777777778,
              "#fb9f3a"
             ],
             [
              0.8888888888888888,
              "#fdca26"
             ],
             [
              1,
              "#f0f921"
             ]
            ],
            "type": "heatmap"
           }
          ],
          "heatmapgl": [
           {
            "colorbar": {
             "outlinewidth": 0,
             "ticks": ""
            },
            "colorscale": [
             [
              0,
              "#0d0887"
             ],
             [
              0.1111111111111111,
              "#46039f"
             ],
             [
              0.2222222222222222,
              "#7201a8"
             ],
             [
              0.3333333333333333,
              "#9c179e"
             ],
             [
              0.4444444444444444,
              "#bd3786"
             ],
             [
              0.5555555555555556,
              "#d8576b"
             ],
             [
              0.6666666666666666,
              "#ed7953"
             ],
             [
              0.7777777777777778,
              "#fb9f3a"
             ],
             [
              0.8888888888888888,
              "#fdca26"
             ],
             [
              1,
              "#f0f921"
             ]
            ],
            "type": "heatmapgl"
           }
          ],
          "histogram": [
           {
            "marker": {
             "pattern": {
              "fillmode": "overlay",
              "size": 10,
              "solidity": 0.2
             }
            },
            "type": "histogram"
           }
          ],
          "histogram2d": [
           {
            "colorbar": {
             "outlinewidth": 0,
             "ticks": ""
            },
            "colorscale": [
             [
              0,
              "#0d0887"
             ],
             [
              0.1111111111111111,
              "#46039f"
             ],
             [
              0.2222222222222222,
              "#7201a8"
             ],
             [
              0.3333333333333333,
              "#9c179e"
             ],
             [
              0.4444444444444444,
              "#bd3786"
             ],
             [
              0.5555555555555556,
              "#d8576b"
             ],
             [
              0.6666666666666666,
              "#ed7953"
             ],
             [
              0.7777777777777778,
              "#fb9f3a"
             ],
             [
              0.8888888888888888,
              "#fdca26"
             ],
             [
              1,
              "#f0f921"
             ]
            ],
            "type": "histogram2d"
           }
          ],
          "histogram2dcontour": [
           {
            "colorbar": {
             "outlinewidth": 0,
             "ticks": ""
            },
            "colorscale": [
             [
              0,
              "#0d0887"
             ],
             [
              0.1111111111111111,
              "#46039f"
             ],
             [
              0.2222222222222222,
              "#7201a8"
             ],
             [
              0.3333333333333333,
              "#9c179e"
             ],
             [
              0.4444444444444444,
              "#bd3786"
             ],
             [
              0.5555555555555556,
              "#d8576b"
             ],
             [
              0.6666666666666666,
              "#ed7953"
             ],
             [
              0.7777777777777778,
              "#fb9f3a"
             ],
             [
              0.8888888888888888,
              "#fdca26"
             ],
             [
              1,
              "#f0f921"
             ]
            ],
            "type": "histogram2dcontour"
           }
          ],
          "mesh3d": [
           {
            "colorbar": {
             "outlinewidth": 0,
             "ticks": ""
            },
            "type": "mesh3d"
           }
          ],
          "parcoords": [
           {
            "line": {
             "colorbar": {
              "outlinewidth": 0,
              "ticks": ""
             }
            },
            "type": "parcoords"
           }
          ],
          "pie": [
           {
            "automargin": true,
            "type": "pie"
           }
          ],
          "scatter": [
           {
            "fillpattern": {
             "fillmode": "overlay",
             "size": 10,
             "solidity": 0.2
            },
            "type": "scatter"
           }
          ],
          "scatter3d": [
           {
            "line": {
             "colorbar": {
              "outlinewidth": 0,
              "ticks": ""
             }
            },
            "marker": {
             "colorbar": {
              "outlinewidth": 0,
              "ticks": ""
             }
            },
            "type": "scatter3d"
           }
          ],
          "scattercarpet": [
           {
            "marker": {
             "colorbar": {
              "outlinewidth": 0,
              "ticks": ""
             }
            },
            "type": "scattercarpet"
           }
          ],
          "scattergeo": [
           {
            "marker": {
             "colorbar": {
              "outlinewidth": 0,
              "ticks": ""
             }
            },
            "type": "scattergeo"
           }
          ],
          "scattergl": [
           {
            "marker": {
             "colorbar": {
              "outlinewidth": 0,
              "ticks": ""
             }
            },
            "type": "scattergl"
           }
          ],
          "scattermapbox": [
           {
            "marker": {
             "colorbar": {
              "outlinewidth": 0,
              "ticks": ""
             }
            },
            "type": "scattermapbox"
           }
          ],
          "scatterpolar": [
           {
            "marker": {
             "colorbar": {
              "outlinewidth": 0,
              "ticks": ""
             }
            },
            "type": "scatterpolar"
           }
          ],
          "scatterpolargl": [
           {
            "marker": {
             "colorbar": {
              "outlinewidth": 0,
              "ticks": ""
             }
            },
            "type": "scatterpolargl"
           }
          ],
          "scatterternary": [
           {
            "marker": {
             "colorbar": {
              "outlinewidth": 0,
              "ticks": ""
             }
            },
            "type": "scatterternary"
           }
          ],
          "surface": [
           {
            "colorbar": {
             "outlinewidth": 0,
             "ticks": ""
            },
            "colorscale": [
             [
              0,
              "#0d0887"
             ],
             [
              0.1111111111111111,
              "#46039f"
             ],
             [
              0.2222222222222222,
              "#7201a8"
             ],
             [
              0.3333333333333333,
              "#9c179e"
             ],
             [
              0.4444444444444444,
              "#bd3786"
             ],
             [
              0.5555555555555556,
              "#d8576b"
             ],
             [
              0.6666666666666666,
              "#ed7953"
             ],
             [
              0.7777777777777778,
              "#fb9f3a"
             ],
             [
              0.8888888888888888,
              "#fdca26"
             ],
             [
              1,
              "#f0f921"
             ]
            ],
            "type": "surface"
           }
          ],
          "table": [
           {
            "cells": {
             "fill": {
              "color": "#EBF0F8"
             },
             "line": {
              "color": "white"
             }
            },
            "header": {
             "fill": {
              "color": "#C8D4E3"
             },
             "line": {
              "color": "white"
             }
            },
            "type": "table"
           }
          ]
         },
         "layout": {
          "annotationdefaults": {
           "arrowcolor": "#2a3f5f",
           "arrowhead": 0,
           "arrowwidth": 1
          },
          "autotypenumbers": "strict",
          "coloraxis": {
           "colorbar": {
            "outlinewidth": 0,
            "ticks": ""
           }
          },
          "colorscale": {
           "diverging": [
            [
             0,
             "#8e0152"
            ],
            [
             0.1,
             "#c51b7d"
            ],
            [
             0.2,
             "#de77ae"
            ],
            [
             0.3,
             "#f1b6da"
            ],
            [
             0.4,
             "#fde0ef"
            ],
            [
             0.5,
             "#f7f7f7"
            ],
            [
             0.6,
             "#e6f5d0"
            ],
            [
             0.7,
             "#b8e186"
            ],
            [
             0.8,
             "#7fbc41"
            ],
            [
             0.9,
             "#4d9221"
            ],
            [
             1,
             "#276419"
            ]
           ],
           "sequential": [
            [
             0,
             "#0d0887"
            ],
            [
             0.1111111111111111,
             "#46039f"
            ],
            [
             0.2222222222222222,
             "#7201a8"
            ],
            [
             0.3333333333333333,
             "#9c179e"
            ],
            [
             0.4444444444444444,
             "#bd3786"
            ],
            [
             0.5555555555555556,
             "#d8576b"
            ],
            [
             0.6666666666666666,
             "#ed7953"
            ],
            [
             0.7777777777777778,
             "#fb9f3a"
            ],
            [
             0.8888888888888888,
             "#fdca26"
            ],
            [
             1,
             "#f0f921"
            ]
           ],
           "sequentialminus": [
            [
             0,
             "#0d0887"
            ],
            [
             0.1111111111111111,
             "#46039f"
            ],
            [
             0.2222222222222222,
             "#7201a8"
            ],
            [
             0.3333333333333333,
             "#9c179e"
            ],
            [
             0.4444444444444444,
             "#bd3786"
            ],
            [
             0.5555555555555556,
             "#d8576b"
            ],
            [
             0.6666666666666666,
             "#ed7953"
            ],
            [
             0.7777777777777778,
             "#fb9f3a"
            ],
            [
             0.8888888888888888,
             "#fdca26"
            ],
            [
             1,
             "#f0f921"
            ]
           ]
          },
          "colorway": [
           "#636efa",
           "#EF553B",
           "#00cc96",
           "#ab63fa",
           "#FFA15A",
           "#19d3f3",
           "#FF6692",
           "#B6E880",
           "#FF97FF",
           "#FECB52"
          ],
          "font": {
           "color": "#2a3f5f"
          },
          "geo": {
           "bgcolor": "white",
           "lakecolor": "white",
           "landcolor": "#E5ECF6",
           "showlakes": true,
           "showland": true,
           "subunitcolor": "white"
          },
          "hoverlabel": {
           "align": "left"
          },
          "hovermode": "closest",
          "mapbox": {
           "style": "light"
          },
          "paper_bgcolor": "white",
          "plot_bgcolor": "#E5ECF6",
          "polar": {
           "angularaxis": {
            "gridcolor": "white",
            "linecolor": "white",
            "ticks": ""
           },
           "bgcolor": "#E5ECF6",
           "radialaxis": {
            "gridcolor": "white",
            "linecolor": "white",
            "ticks": ""
           }
          },
          "scene": {
           "xaxis": {
            "backgroundcolor": "#E5ECF6",
            "gridcolor": "white",
            "gridwidth": 2,
            "linecolor": "white",
            "showbackground": true,
            "ticks": "",
            "zerolinecolor": "white"
           },
           "yaxis": {
            "backgroundcolor": "#E5ECF6",
            "gridcolor": "white",
            "gridwidth": 2,
            "linecolor": "white",
            "showbackground": true,
            "ticks": "",
            "zerolinecolor": "white"
           },
           "zaxis": {
            "backgroundcolor": "#E5ECF6",
            "gridcolor": "white",
            "gridwidth": 2,
            "linecolor": "white",
            "showbackground": true,
            "ticks": "",
            "zerolinecolor": "white"
           }
          },
          "shapedefaults": {
           "line": {
            "color": "#2a3f5f"
           }
          },
          "ternary": {
           "aaxis": {
            "gridcolor": "white",
            "linecolor": "white",
            "ticks": ""
           },
           "baxis": {
            "gridcolor": "white",
            "linecolor": "white",
            "ticks": ""
           },
           "bgcolor": "#E5ECF6",
           "caxis": {
            "gridcolor": "white",
            "linecolor": "white",
            "ticks": ""
           }
          },
          "title": {
           "x": 0.05
          },
          "xaxis": {
           "automargin": true,
           "gridcolor": "white",
           "linecolor": "white",
           "ticks": "",
           "title": {
            "standoff": 15
           },
           "zerolinecolor": "white",
           "zerolinewidth": 2
          },
          "yaxis": {
           "automargin": true,
           "gridcolor": "white",
           "linecolor": "white",
           "ticks": "",
           "title": {
            "standoff": 15
           },
           "zerolinecolor": "white",
           "zerolinewidth": 2
          }
         }
        },
        "title": {
         "text": "Picchi di Attività per Topic in ordine ascendente di volume"
        },
        "xaxis": {
         "title": {
          "text": "Data"
         }
        },
        "yaxis": {
         "tickfont": {
          "color": "black",
          "size": 14
         },
         "tickmode": "array",
         "ticktext": [
          "AI and ChatGPT in Everyday Life",
          "Chatbot Interaction and Usage on Discord",
          "Discord Server Chatbot Interaction and User Requests",
          "AI Chatbot Interaction and Response automation",
          "Bot Moderation in Online Comment Sections",
          "AI Bots Managing Online Interactions in Chat Platforms",
          "Discord Server Moderation and ChatGPT Interaction",
          "AI Chatbot Interaction and Assistance on Cloud Platforms",
          "Social Media Automated Responses and Bots Interaction",
          "Social Media Karma and Automated Account Moderation",
          "Obama and Trump References in AI Conversations",
          "Reddit Karma and Account Restrictions",
          "Discord Moderation Bot Commands and User Interaction",
          "Discord GPT Bot Moderation and User Interaction",
          "ChatGPT Use Cases and Discussions",
          "Bing's AI Chatbot and User Interaction",
          "Dan Discussing ChatGPT Jailbreaking Ethics",
          "NFT Collecting and Discord Community Interaction",
          "Spam Threshold Management in Online Communities",
          "Managing Discord Server Interactions with GPT-powered Bots",
          "Spam Prevention and Account Karma Management",
          "Squirt: Addressing Spam and Hookup Content on Online Platforms"
         ],
         "tickvals": [
          0,
          1,
          2,
          3,
          4,
          5,
          6,
          7,
          8,
          9,
          10,
          11,
          12,
          13,
          14,
          15,
          16,
          17,
          18,
          19,
          20,
          21
         ],
         "title": {
          "text": "Topic"
         }
        }
       }
      }
     },
     "metadata": {},
     "output_type": "display_data"
    }
   ],
   "source": [
    "fig = go.Figure()\n",
    "y_values = {row['topic']: idx for idx, row in count_series.iterrows()}\n",
    "\n",
    "for index,row in count_series.iterrows():\n",
    "    for start, end in period_max_activity[row['topic']]:\n",
    "        fig.add_trace(go.Scatter(\n",
    "            x=[start, end],\n",
    "            y=[y_values[row['topic']], y_values[row['topic']]],\n",
    "            mode=\"lines\",\n",
    "            line=dict(color=color_map[row['topic']],width=8),\n",
    "            name=topic\n",
    "        ))\n",
    "\n",
    "fig.update_layout(\n",
    "    title=\"Picchi di Attività per Topic in ordine ascendente di volume\",\n",
    "    xaxis_title=\"Data\",\n",
    "    yaxis_title=\"Topic\",\n",
    "    yaxis=dict(\n",
    "        tickmode='array',\n",
    "        tickvals=list(y_values.values()),\n",
    "        ticktext=list(y_values.keys()),\n",
    "        tickfont=dict(\n",
    "            size=14,  # Aumenta la dimensione del font delle label dell'asse Y\n",
    "            color='black'  # Opzionale: cambia il colore del font (esempio)\n",
    "        )\n",
    "    ),\n",
    "    showlegend=False,  # Nasconde la leggenda\n",
    "    height=1000\n",
    ")\n",
    "\n",
    "\n",
    "for index,row in count_series.iterrows():\n",
    "    fig.add_annotation(\n",
    "        text=row['percentage_max_Activity'],\n",
    "        xref=\"paper\",  # Posizione orizzontale relativa al contenuto del grafico\n",
    "        x=1.07,  # Regola questa coordinata per posizionare l'etichetta\n",
    "        y=y_values[row['topic']],  # L'indice y associato all'etichetta\n",
    "        font=dict(size=14, color='black'),\n",
    "        showarrow=False,  # Nascondi la freccia di riferimento\n",
    "    )\n",
    "# Mostra il grafico\n",
    "fig.show()"
   ]
  },
  {
   "cell_type": "code",
   "execution_count": 13,
   "metadata": {},
   "outputs": [],
   "source": [
    "period_activity = {}\n",
    "i = 0\n",
    "for topic in topics:\n",
    "    #print(i)\n",
    "    \n",
    "    start = False\n",
    "    period_activity[topic] = []\n",
    "    start_date = None\n",
    "    stop_date = None\n",
    "    j = 0\n",
    "    for df_per_day_and_topic in dfs_per_days_and_topics[topic]:\n",
    "        if(df_per_day_and_topic.shape[0] > 0 and not(start)):\n",
    "            start = True\n",
    "            start_date = df_per_day_and_topic['time_utc'].iloc[0]\n",
    "            stop_date = None\n",
    "            #print(f\"start: {start_date}\")\n",
    "        #print(f\"_____{df_per_day_and_topic.shape[0]}\")\n",
    "        if(df_per_day_and_topic.shape[0] <= 0 and start):\n",
    "            start = False\n",
    "            if(df_per_day_and_topic.shape[0] <= 0):\n",
    "                stop_date = day_intervals[j]\n",
    "                #print(f\"stop: {stop_date}\")\n",
    "            else:\n",
    "                stop_date = df_per_day_and_topic['time_utc'].iloc[-1]\n",
    "            \n",
    "        if(start_date != None and stop_date != None):\n",
    "            period_activity[topic].append((start_date, stop_date))\n",
    "            start_date = None\n",
    "            stop_date = None\n",
    "        j += 1\n",
    "    if(start_date != None and stop_date == None):\n",
    "        stop_date = dfs_per_days_and_topics[topics[4]][-1]['time_utc'].iloc[-1]\n",
    "        period_activity[topic].append((start_date, stop_date))\n",
    "    i += 1"
   ]
  },
  {
   "cell_type": "code",
   "execution_count": 14,
   "metadata": {},
   "outputs": [
    {
     "data": {
      "application/vnd.plotly.v1+json": {
       "config": {
        "plotlyServerURL": "https://plot.ly"
       },
       "data": [
        {
         "line": {
          "color": "rgb(255, 0, 0)",
          "width": 8
         },
         "mode": "lines",
         "name": "AI Chatbot Interaction and Assistance on Cloud Platforms",
         "type": "scatter",
         "x": [
          "2022-12-05T04:44:15",
          "2022-12-05T20:19:28"
         ],
         "y": [
          0,
          0
         ]
        },
        {
         "line": {
          "color": "rgb(255, 0, 0)",
          "width": 8
         },
         "mode": "lines",
         "name": "AI Chatbot Interaction and Assistance on Cloud Platforms",
         "type": "scatter",
         "x": [
          "2022-12-08T13:09:49",
          "2022-12-14T20:19:28"
         ],
         "y": [
          0,
          0
         ]
        },
        {
         "line": {
          "color": "rgb(255, 0, 0)",
          "width": 8
         },
         "mode": "lines",
         "name": "AI Chatbot Interaction and Assistance on Cloud Platforms",
         "type": "scatter",
         "x": [
          "2022-12-16T19:34:40",
          "2022-12-17T20:19:28"
         ],
         "y": [
          0,
          0
         ]
        },
        {
         "line": {
          "color": "rgb(255, 0, 0)",
          "width": 8
         },
         "mode": "lines",
         "name": "AI Chatbot Interaction and Assistance on Cloud Platforms",
         "type": "scatter",
         "x": [
          "2022-12-22T18:23:47",
          "2022-12-23T20:19:28"
         ],
         "y": [
          0,
          0
         ]
        },
        {
         "line": {
          "color": "rgb(255, 0, 0)",
          "width": 8
         },
         "mode": "lines",
         "name": "AI Chatbot Interaction and Assistance on Cloud Platforms",
         "type": "scatter",
         "x": [
          "2022-12-25T08:22:18",
          "2022-12-25T20:19:28"
         ],
         "y": [
          0,
          0
         ]
        },
        {
         "line": {
          "color": "rgb(255, 0, 0)",
          "width": 8
         },
         "mode": "lines",
         "name": "AI Chatbot Interaction and Assistance on Cloud Platforms",
         "type": "scatter",
         "x": [
          "2022-12-27T06:19:42",
          "2022-12-27T20:19:28"
         ],
         "y": [
          0,
          0
         ]
        },
        {
         "line": {
          "color": "rgb(255, 0, 0)",
          "width": 8
         },
         "mode": "lines",
         "name": "AI Chatbot Interaction and Assistance on Cloud Platforms",
         "type": "scatter",
         "x": [
          "2023-01-04T01:10:36",
          "2023-01-04T20:19:28"
         ],
         "y": [
          0,
          0
         ]
        },
        {
         "line": {
          "color": "rgb(255, 0, 0)",
          "width": 8
         },
         "mode": "lines",
         "name": "AI Chatbot Interaction and Assistance on Cloud Platforms",
         "type": "scatter",
         "x": [
          "2023-01-08T06:00:34",
          "2023-01-08T20:19:28"
         ],
         "y": [
          0,
          0
         ]
        },
        {
         "line": {
          "color": "rgb(255, 0, 0)",
          "width": 8
         },
         "mode": "lines",
         "name": "AI Chatbot Interaction and Assistance on Cloud Platforms",
         "type": "scatter",
         "x": [
          "2023-01-10T08:21:30",
          "2023-01-12T20:19:28"
         ],
         "y": [
          0,
          0
         ]
        },
        {
         "line": {
          "color": "rgb(255, 0, 0)",
          "width": 8
         },
         "mode": "lines",
         "name": "AI Chatbot Interaction and Assistance on Cloud Platforms",
         "type": "scatter",
         "x": [
          "2023-01-16T12:30:28",
          "2023-01-16T20:19:28"
         ],
         "y": [
          0,
          0
         ]
        },
        {
         "line": {
          "color": "rgb(255, 0, 0)",
          "width": 8
         },
         "mode": "lines",
         "name": "AI Chatbot Interaction and Assistance on Cloud Platforms",
         "type": "scatter",
         "x": [
          "2023-01-20T17:47:17",
          "2023-01-20T20:19:28"
         ],
         "y": [
          0,
          0
         ]
        },
        {
         "line": {
          "color": "rgb(255, 0, 0)",
          "width": 8
         },
         "mode": "lines",
         "name": "AI Chatbot Interaction and Assistance on Cloud Platforms",
         "type": "scatter",
         "x": [
          "2023-01-22T19:28:27",
          "2023-01-24T20:19:28"
         ],
         "y": [
          0,
          0
         ]
        },
        {
         "line": {
          "color": "rgb(255, 0, 0)",
          "width": 8
         },
         "mode": "lines",
         "name": "AI Chatbot Interaction and Assistance on Cloud Platforms",
         "type": "scatter",
         "x": [
          "2023-01-30T08:01:12",
          "2023-01-30T20:19:28"
         ],
         "y": [
          0,
          0
         ]
        },
        {
         "line": {
          "color": "rgb(255, 0, 0)",
          "width": 8
         },
         "mode": "lines",
         "name": "AI Chatbot Interaction and Assistance on Cloud Platforms",
         "type": "scatter",
         "x": [
          "2023-02-04T00:44:43",
          "2023-02-04T20:19:28"
         ],
         "y": [
          0,
          0
         ]
        },
        {
         "line": {
          "color": "rgb(255, 0, 0)",
          "width": 8
         },
         "mode": "lines",
         "name": "AI Chatbot Interaction and Assistance on Cloud Platforms",
         "type": "scatter",
         "x": [
          "2023-02-07T16:17:09",
          "2023-02-07T20:19:28"
         ],
         "y": [
          0,
          0
         ]
        },
        {
         "line": {
          "color": "rgb(255, 0, 0)",
          "width": 8
         },
         "mode": "lines",
         "name": "AI Chatbot Interaction and Assistance on Cloud Platforms",
         "type": "scatter",
         "x": [
          "2023-02-09T18:19:14",
          "2023-02-10T20:19:28"
         ],
         "y": [
          0,
          0
         ]
        },
        {
         "line": {
          "color": "rgb(255, 0, 0)",
          "width": 8
         },
         "mode": "lines",
         "name": "AI Chatbot Interaction and Assistance on Cloud Platforms",
         "type": "scatter",
         "x": [
          "2023-02-12T15:40:25",
          "2023-02-12T20:19:28"
         ],
         "y": [
          0,
          0
         ]
        },
        {
         "line": {
          "color": "rgb(255, 0, 0)",
          "width": 8
         },
         "mode": "lines",
         "name": "AI Chatbot Interaction and Assistance on Cloud Platforms",
         "type": "scatter",
         "x": [
          "2023-02-14T16:05:59",
          "2023-02-14T20:19:28"
         ],
         "y": [
          0,
          0
         ]
        },
        {
         "line": {
          "color": "rgb(255, 0, 0)",
          "width": 8
         },
         "mode": "lines",
         "name": "AI Chatbot Interaction and Assistance on Cloud Platforms",
         "type": "scatter",
         "x": [
          "2023-02-16T19:09:50",
          "2023-02-20T20:19:28"
         ],
         "y": [
          0,
          0
         ]
        },
        {
         "line": {
          "color": "rgb(255, 0, 0)",
          "width": 8
         },
         "mode": "lines",
         "name": "AI Chatbot Interaction and Assistance on Cloud Platforms",
         "type": "scatter",
         "x": [
          "2023-02-22T12:02:12",
          "2023-02-25T20:19:28"
         ],
         "y": [
          0,
          0
         ]
        },
        {
         "line": {
          "color": "rgb(255, 0, 0)",
          "width": 8
         },
         "mode": "lines",
         "name": "AI Chatbot Interaction and Assistance on Cloud Platforms",
         "type": "scatter",
         "x": [
          "2023-03-02T16:32:20",
          "2023-03-09T20:19:28"
         ],
         "y": [
          0,
          0
         ]
        },
        {
         "line": {
          "color": "rgb(255, 0, 0)",
          "width": 8
         },
         "mode": "lines",
         "name": "AI Chatbot Interaction and Assistance on Cloud Platforms",
         "type": "scatter",
         "x": [
          "2023-03-11T15:28:49",
          "2023-03-11T20:19:28"
         ],
         "y": [
          0,
          0
         ]
        },
        {
         "line": {
          "color": "rgb(255, 0, 0)",
          "width": 8
         },
         "mode": "lines",
         "name": "AI Chatbot Interaction and Assistance on Cloud Platforms",
         "type": "scatter",
         "x": [
          "2023-03-13T17:19:27",
          "2023-03-25T20:19:28"
         ],
         "y": [
          0,
          0
         ]
        },
        {
         "line": {
          "color": "rgb(255, 0, 0)",
          "width": 8
         },
         "mode": "lines",
         "name": "AI Chatbot Interaction and Assistance on Cloud Platforms",
         "type": "scatter",
         "x": [
          "2023-03-27T15:44:50",
          "2023-04-30T21:08:43"
         ],
         "y": [
          0,
          0
         ]
        },
        {
         "line": {
          "color": "rgb(0, 255, 0)",
          "width": 8
         },
         "mode": "lines",
         "name": "Chatbot Interaction and Usage on Discord",
         "type": "scatter",
         "x": [
          "2022-12-02T19:23:24",
          "2023-04-30T21:08:43"
         ],
         "y": [
          1,
          1
         ]
        },
        {
         "line": {
          "color": "rgb(0, 0, 255)",
          "width": 8
         },
         "mode": "lines",
         "name": "Dan Discussing ChatGPT Jailbreaking Ethics",
         "type": "scatter",
         "x": [
          "2022-12-06T13:31:53",
          "2022-12-06T20:19:28"
         ],
         "y": [
          2,
          2
         ]
        },
        {
         "line": {
          "color": "rgb(0, 0, 255)",
          "width": 8
         },
         "mode": "lines",
         "name": "Dan Discussing ChatGPT Jailbreaking Ethics",
         "type": "scatter",
         "x": [
          "2022-12-08T11:00:41",
          "2022-12-08T20:19:28"
         ],
         "y": [
          2,
          2
         ]
        },
        {
         "line": {
          "color": "rgb(0, 0, 255)",
          "width": 8
         },
         "mode": "lines",
         "name": "Dan Discussing ChatGPT Jailbreaking Ethics",
         "type": "scatter",
         "x": [
          "2022-12-10T19:37:11",
          "2023-01-05T20:19:28"
         ],
         "y": [
          2,
          2
         ]
        },
        {
         "line": {
          "color": "rgb(0, 0, 255)",
          "width": 8
         },
         "mode": "lines",
         "name": "Dan Discussing ChatGPT Jailbreaking Ethics",
         "type": "scatter",
         "x": [
          "2023-01-06T21:48:05",
          "2023-01-08T20:19:28"
         ],
         "y": [
          2,
          2
         ]
        },
        {
         "line": {
          "color": "rgb(0, 0, 255)",
          "width": 8
         },
         "mode": "lines",
         "name": "Dan Discussing ChatGPT Jailbreaking Ethics",
         "type": "scatter",
         "x": [
          "2023-01-11T19:00:54",
          "2023-01-12T20:19:28"
         ],
         "y": [
          2,
          2
         ]
        },
        {
         "line": {
          "color": "rgb(0, 0, 255)",
          "width": 8
         },
         "mode": "lines",
         "name": "Dan Discussing ChatGPT Jailbreaking Ethics",
         "type": "scatter",
         "x": [
          "2023-01-14T12:47:38",
          "2023-01-15T20:19:28"
         ],
         "y": [
          2,
          2
         ]
        },
        {
         "line": {
          "color": "rgb(0, 0, 255)",
          "width": 8
         },
         "mode": "lines",
         "name": "Dan Discussing ChatGPT Jailbreaking Ethics",
         "type": "scatter",
         "x": [
          "2023-01-16T23:16:15",
          "2023-01-17T20:19:28"
         ],
         "y": [
          2,
          2
         ]
        },
        {
         "line": {
          "color": "rgb(0, 0, 255)",
          "width": 8
         },
         "mode": "lines",
         "name": "Dan Discussing ChatGPT Jailbreaking Ethics",
         "type": "scatter",
         "x": [
          "2023-01-21T00:07:20",
          "2023-01-24T20:19:28"
         ],
         "y": [
          2,
          2
         ]
        },
        {
         "line": {
          "color": "rgb(0, 0, 255)",
          "width": 8
         },
         "mode": "lines",
         "name": "Dan Discussing ChatGPT Jailbreaking Ethics",
         "type": "scatter",
         "x": [
          "2023-01-27T14:22:14",
          "2023-01-28T20:19:28"
         ],
         "y": [
          2,
          2
         ]
        },
        {
         "line": {
          "color": "rgb(0, 0, 255)",
          "width": 8
         },
         "mode": "lines",
         "name": "Dan Discussing ChatGPT Jailbreaking Ethics",
         "type": "scatter",
         "x": [
          "2023-01-30T14:19:41",
          "2023-01-31T20:19:28"
         ],
         "y": [
          2,
          2
         ]
        },
        {
         "line": {
          "color": "rgb(0, 0, 255)",
          "width": 8
         },
         "mode": "lines",
         "name": "Dan Discussing ChatGPT Jailbreaking Ethics",
         "type": "scatter",
         "x": [
          "2023-02-02T16:25:25",
          "2023-04-30T21:08:43"
         ],
         "y": [
          2,
          2
         ]
        },
        {
         "line": {
          "color": "rgb(255, 255, 0)",
          "width": 8
         },
         "mode": "lines",
         "name": "AI and ChatGPT in Everyday Life",
         "type": "scatter",
         "x": [
          "2022-12-02T14:26:01",
          "2023-04-30T21:08:43"
         ],
         "y": [
          3,
          3
         ]
        },
        {
         "line": {
          "color": "rgb(255, 0, 255)",
          "width": 8
         },
         "mode": "lines",
         "name": "Reddit Karma and Account Restrictions",
         "type": "scatter",
         "x": [
          "2022-12-10T17:09:52",
          "2022-12-11T20:19:28"
         ],
         "y": [
          4,
          4
         ]
        },
        {
         "line": {
          "color": "rgb(255, 0, 255)",
          "width": 8
         },
         "mode": "lines",
         "name": "Reddit Karma and Account Restrictions",
         "type": "scatter",
         "x": [
          "2023-03-01T07:41:55",
          "2023-03-01T20:19:28"
         ],
         "y": [
          4,
          4
         ]
        },
        {
         "line": {
          "color": "rgb(255, 0, 255)",
          "width": 8
         },
         "mode": "lines",
         "name": "Reddit Karma and Account Restrictions",
         "type": "scatter",
         "x": [
          "2023-03-19T13:51:36",
          "2023-04-30T21:08:43"
         ],
         "y": [
          4,
          4
         ]
        },
        {
         "line": {
          "color": "rgb(0, 255, 255)",
          "width": 8
         },
         "mode": "lines",
         "name": "Social Media Karma and Automated Account Moderation",
         "type": "scatter",
         "x": [
          "2022-12-13T13:11:59",
          "2022-12-13T20:19:28"
         ],
         "y": [
          5,
          5
         ]
        },
        {
         "line": {
          "color": "rgb(0, 255, 255)",
          "width": 8
         },
         "mode": "lines",
         "name": "Social Media Karma and Automated Account Moderation",
         "type": "scatter",
         "x": [
          "2022-12-16T06:54:46",
          "2022-12-16T20:19:28"
         ],
         "y": [
          5,
          5
         ]
        },
        {
         "line": {
          "color": "rgb(0, 255, 255)",
          "width": 8
         },
         "mode": "lines",
         "name": "Social Media Karma and Automated Account Moderation",
         "type": "scatter",
         "x": [
          "2023-02-11T18:41:46",
          "2023-02-11T20:19:28"
         ],
         "y": [
          5,
          5
         ]
        },
        {
         "line": {
          "color": "rgb(0, 255, 255)",
          "width": 8
         },
         "mode": "lines",
         "name": "Social Media Karma and Automated Account Moderation",
         "type": "scatter",
         "x": [
          "2023-02-25T17:39:11",
          "2023-02-25T20:19:28"
         ],
         "y": [
          5,
          5
         ]
        },
        {
         "line": {
          "color": "rgb(0, 255, 255)",
          "width": 8
         },
         "mode": "lines",
         "name": "Social Media Karma and Automated Account Moderation",
         "type": "scatter",
         "x": [
          "2023-03-09T22:06:36",
          "2023-03-12T20:19:28"
         ],
         "y": [
          5,
          5
         ]
        },
        {
         "line": {
          "color": "rgb(0, 255, 255)",
          "width": 8
         },
         "mode": "lines",
         "name": "Social Media Karma and Automated Account Moderation",
         "type": "scatter",
         "x": [
          "2023-03-20T20:13:02",
          "2023-04-30T21:08:43"
         ],
         "y": [
          5,
          5
         ]
        },
        {
         "line": {
          "color": "rgb(128, 0, 0)",
          "width": 8
         },
         "mode": "lines",
         "name": "ChatGPT Use Cases and Discussions",
         "type": "scatter",
         "x": [
          "2022-12-02T20:02:34",
          "2022-12-19T20:19:28"
         ],
         "y": [
          6,
          6
         ]
        },
        {
         "line": {
          "color": "rgb(128, 0, 0)",
          "width": 8
         },
         "mode": "lines",
         "name": "ChatGPT Use Cases and Discussions",
         "type": "scatter",
         "x": [
          "2022-12-22T12:01:46",
          "2022-12-24T20:19:28"
         ],
         "y": [
          6,
          6
         ]
        },
        {
         "line": {
          "color": "rgb(128, 0, 0)",
          "width": 8
         },
         "mode": "lines",
         "name": "ChatGPT Use Cases and Discussions",
         "type": "scatter",
         "x": [
          "2022-12-26T20:38:16",
          "2022-12-27T20:19:28"
         ],
         "y": [
          6,
          6
         ]
        },
        {
         "line": {
          "color": "rgb(128, 0, 0)",
          "width": 8
         },
         "mode": "lines",
         "name": "ChatGPT Use Cases and Discussions",
         "type": "scatter",
         "x": [
          "2022-12-31T18:34:27",
          "2022-12-31T20:19:28"
         ],
         "y": [
          6,
          6
         ]
        },
        {
         "line": {
          "color": "rgb(128, 0, 0)",
          "width": 8
         },
         "mode": "lines",
         "name": "ChatGPT Use Cases and Discussions",
         "type": "scatter",
         "x": [
          "2023-01-02T22:23:13",
          "2023-01-04T20:19:28"
         ],
         "y": [
          6,
          6
         ]
        },
        {
         "line": {
          "color": "rgb(128, 0, 0)",
          "width": 8
         },
         "mode": "lines",
         "name": "ChatGPT Use Cases and Discussions",
         "type": "scatter",
         "x": [
          "2023-01-07T17:29:21",
          "2023-01-07T20:19:28"
         ],
         "y": [
          6,
          6
         ]
        },
        {
         "line": {
          "color": "rgb(128, 0, 0)",
          "width": 8
         },
         "mode": "lines",
         "name": "ChatGPT Use Cases and Discussions",
         "type": "scatter",
         "x": [
          "2023-01-09T00:01:23",
          "2023-01-09T20:19:28"
         ],
         "y": [
          6,
          6
         ]
        },
        {
         "line": {
          "color": "rgb(128, 0, 0)",
          "width": 8
         },
         "mode": "lines",
         "name": "ChatGPT Use Cases and Discussions",
         "type": "scatter",
         "x": [
          "2023-01-10T20:49:43",
          "2023-01-11T20:19:28"
         ],
         "y": [
          6,
          6
         ]
        },
        {
         "line": {
          "color": "rgb(128, 0, 0)",
          "width": 8
         },
         "mode": "lines",
         "name": "ChatGPT Use Cases and Discussions",
         "type": "scatter",
         "x": [
          "2023-01-13T19:34:49",
          "2023-01-13T20:19:28"
         ],
         "y": [
          6,
          6
         ]
        },
        {
         "line": {
          "color": "rgb(128, 0, 0)",
          "width": 8
         },
         "mode": "lines",
         "name": "ChatGPT Use Cases and Discussions",
         "type": "scatter",
         "x": [
          "2023-01-16T08:00:40",
          "2023-01-19T20:19:28"
         ],
         "y": [
          6,
          6
         ]
        },
        {
         "line": {
          "color": "rgb(128, 0, 0)",
          "width": 8
         },
         "mode": "lines",
         "name": "ChatGPT Use Cases and Discussions",
         "type": "scatter",
         "x": [
          "2023-01-23T15:55:33",
          "2023-01-25T20:19:28"
         ],
         "y": [
          6,
          6
         ]
        },
        {
         "line": {
          "color": "rgb(128, 0, 0)",
          "width": 8
         },
         "mode": "lines",
         "name": "ChatGPT Use Cases and Discussions",
         "type": "scatter",
         "x": [
          "2023-01-28T16:39:08",
          "2023-02-05T20:19:28"
         ],
         "y": [
          6,
          6
         ]
        },
        {
         "line": {
          "color": "rgb(128, 0, 0)",
          "width": 8
         },
         "mode": "lines",
         "name": "ChatGPT Use Cases and Discussions",
         "type": "scatter",
         "x": [
          "2023-02-08T06:00:06",
          "2023-03-04T20:19:28"
         ],
         "y": [
          6,
          6
         ]
        },
        {
         "line": {
          "color": "rgb(128, 0, 0)",
          "width": 8
         },
         "mode": "lines",
         "name": "ChatGPT Use Cases and Discussions",
         "type": "scatter",
         "x": [
          "2023-03-07T00:53:03",
          "2023-03-15T20:19:28"
         ],
         "y": [
          6,
          6
         ]
        },
        {
         "line": {
          "color": "rgb(128, 0, 0)",
          "width": 8
         },
         "mode": "lines",
         "name": "ChatGPT Use Cases and Discussions",
         "type": "scatter",
         "x": [
          "2023-03-17T19:47:40",
          "2023-03-28T20:19:28"
         ],
         "y": [
          6,
          6
         ]
        },
        {
         "line": {
          "color": "rgb(128, 0, 0)",
          "width": 8
         },
         "mode": "lines",
         "name": "ChatGPT Use Cases and Discussions",
         "type": "scatter",
         "x": [
          "2023-03-30T19:14:58",
          "2023-04-30T21:08:43"
         ],
         "y": [
          6,
          6
         ]
        },
        {
         "line": {
          "color": "rgb(128, 128, 0)",
          "width": 8
         },
         "mode": "lines",
         "name": "Obama and Trump References in AI Conversations",
         "type": "scatter",
         "x": [
          "2022-12-02T19:52:37",
          "2022-12-20T20:19:28"
         ],
         "y": [
          7,
          7
         ]
        },
        {
         "line": {
          "color": "rgb(128, 128, 0)",
          "width": 8
         },
         "mode": "lines",
         "name": "Obama and Trump References in AI Conversations",
         "type": "scatter",
         "x": [
          "2022-12-27T03:48:45",
          "2022-12-27T20:19:28"
         ],
         "y": [
          7,
          7
         ]
        },
        {
         "line": {
          "color": "rgb(128, 128, 0)",
          "width": 8
         },
         "mode": "lines",
         "name": "Obama and Trump References in AI Conversations",
         "type": "scatter",
         "x": [
          "2022-12-29T10:26:15",
          "2022-12-29T20:19:28"
         ],
         "y": [
          7,
          7
         ]
        },
        {
         "line": {
          "color": "rgb(128, 128, 0)",
          "width": 8
         },
         "mode": "lines",
         "name": "Obama and Trump References in AI Conversations",
         "type": "scatter",
         "x": [
          "2023-01-05T22:23:27",
          "2023-01-06T20:19:28"
         ],
         "y": [
          7,
          7
         ]
        },
        {
         "line": {
          "color": "rgb(128, 128, 0)",
          "width": 8
         },
         "mode": "lines",
         "name": "Obama and Trump References in AI Conversations",
         "type": "scatter",
         "x": [
          "2023-01-08T03:12:20",
          "2023-01-08T20:19:28"
         ],
         "y": [
          7,
          7
         ]
        },
        {
         "line": {
          "color": "rgb(128, 128, 0)",
          "width": 8
         },
         "mode": "lines",
         "name": "Obama and Trump References in AI Conversations",
         "type": "scatter",
         "x": [
          "2023-01-11T15:31:35",
          "2023-01-12T20:19:28"
         ],
         "y": [
          7,
          7
         ]
        },
        {
         "line": {
          "color": "rgb(128, 128, 0)",
          "width": 8
         },
         "mode": "lines",
         "name": "Obama and Trump References in AI Conversations",
         "type": "scatter",
         "x": [
          "2023-01-15T09:44:33",
          "2023-01-15T20:19:28"
         ],
         "y": [
          7,
          7
         ]
        },
        {
         "line": {
          "color": "rgb(128, 128, 0)",
          "width": 8
         },
         "mode": "lines",
         "name": "Obama and Trump References in AI Conversations",
         "type": "scatter",
         "x": [
          "2023-01-19T02:47:08",
          "2023-01-19T20:19:28"
         ],
         "y": [
          7,
          7
         ]
        },
        {
         "line": {
          "color": "rgb(128, 128, 0)",
          "width": 8
         },
         "mode": "lines",
         "name": "Obama and Trump References in AI Conversations",
         "type": "scatter",
         "x": [
          "2023-01-22T11:56:30",
          "2023-01-23T20:19:28"
         ],
         "y": [
          7,
          7
         ]
        },
        {
         "line": {
          "color": "rgb(128, 128, 0)",
          "width": 8
         },
         "mode": "lines",
         "name": "Obama and Trump References in AI Conversations",
         "type": "scatter",
         "x": [
          "2023-01-26T14:39:44",
          "2023-01-29T20:19:28"
         ],
         "y": [
          7,
          7
         ]
        },
        {
         "line": {
          "color": "rgb(128, 128, 0)",
          "width": 8
         },
         "mode": "lines",
         "name": "Obama and Trump References in AI Conversations",
         "type": "scatter",
         "x": [
          "2023-01-31T16:05:56",
          "2023-01-31T20:19:28"
         ],
         "y": [
          7,
          7
         ]
        },
        {
         "line": {
          "color": "rgb(128, 128, 0)",
          "width": 8
         },
         "mode": "lines",
         "name": "Obama and Trump References in AI Conversations",
         "type": "scatter",
         "x": [
          "2023-02-02T17:21:16",
          "2023-02-03T20:19:28"
         ],
         "y": [
          7,
          7
         ]
        },
        {
         "line": {
          "color": "rgb(128, 128, 0)",
          "width": 8
         },
         "mode": "lines",
         "name": "Obama and Trump References in AI Conversations",
         "type": "scatter",
         "x": [
          "2023-02-04T23:49:22",
          "2023-02-05T20:19:28"
         ],
         "y": [
          7,
          7
         ]
        },
        {
         "line": {
          "color": "rgb(128, 128, 0)",
          "width": 8
         },
         "mode": "lines",
         "name": "Obama and Trump References in AI Conversations",
         "type": "scatter",
         "x": [
          "2023-02-06T22:20:18",
          "2023-03-03T20:19:28"
         ],
         "y": [
          7,
          7
         ]
        },
        {
         "line": {
          "color": "rgb(128, 128, 0)",
          "width": 8
         },
         "mode": "lines",
         "name": "Obama and Trump References in AI Conversations",
         "type": "scatter",
         "x": [
          "2023-03-05T16:39:32",
          "2023-04-30T21:08:43"
         ],
         "y": [
          7,
          7
         ]
        },
        {
         "line": {
          "color": "rgb(0, 128, 0)",
          "width": 8
         },
         "mode": "lines",
         "name": "AI Chatbot Interaction and Response automation",
         "type": "scatter",
         "x": [
          "2022-12-02T14:18:59",
          "2023-04-30T21:08:43"
         ],
         "y": [
          8,
          8
         ]
        },
        {
         "line": {
          "color": "rgb(128, 0, 128)",
          "width": 8
         },
         "mode": "lines",
         "name": "Social Media Automated Responses and Bots Interaction",
         "type": "scatter",
         "x": [
          "2022-12-04T19:47:54",
          "2023-01-05T20:19:28"
         ],
         "y": [
          9,
          9
         ]
        },
        {
         "line": {
          "color": "rgb(128, 0, 128)",
          "width": 8
         },
         "mode": "lines",
         "name": "Social Media Automated Responses and Bots Interaction",
         "type": "scatter",
         "x": [
          "2023-01-07T18:39:56",
          "2023-01-12T20:19:28"
         ],
         "y": [
          9,
          9
         ]
        },
        {
         "line": {
          "color": "rgb(128, 0, 128)",
          "width": 8
         },
         "mode": "lines",
         "name": "Social Media Automated Responses and Bots Interaction",
         "type": "scatter",
         "x": [
          "2023-01-14T15:54:49",
          "2023-01-28T20:19:28"
         ],
         "y": [
          9,
          9
         ]
        },
        {
         "line": {
          "color": "rgb(128, 0, 128)",
          "width": 8
         },
         "mode": "lines",
         "name": "Social Media Automated Responses and Bots Interaction",
         "type": "scatter",
         "x": [
          "2023-01-30T18:15:31",
          "2023-02-12T20:19:28"
         ],
         "y": [
          9,
          9
         ]
        },
        {
         "line": {
          "color": "rgb(128, 0, 128)",
          "width": 8
         },
         "mode": "lines",
         "name": "Social Media Automated Responses and Bots Interaction",
         "type": "scatter",
         "x": [
          "2023-02-14T19:25:04",
          "2023-04-30T21:08:43"
         ],
         "y": [
          9,
          9
         ]
        },
        {
         "line": {
          "color": "rgb(0, 128, 128)",
          "width": 8
         },
         "mode": "lines",
         "name": "AI Bots Managing Online Interactions in Chat Platforms",
         "type": "scatter",
         "x": [
          "2022-12-04T07:09:43",
          "2022-12-05T20:19:28"
         ],
         "y": [
          10,
          10
         ]
        },
        {
         "line": {
          "color": "rgb(0, 128, 128)",
          "width": 8
         },
         "mode": "lines",
         "name": "AI Bots Managing Online Interactions in Chat Platforms",
         "type": "scatter",
         "x": [
          "2022-12-08T05:42:43",
          "2022-12-08T20:19:28"
         ],
         "y": [
          10,
          10
         ]
        },
        {
         "line": {
          "color": "rgb(0, 128, 128)",
          "width": 8
         },
         "mode": "lines",
         "name": "AI Bots Managing Online Interactions in Chat Platforms",
         "type": "scatter",
         "x": [
          "2022-12-10T06:50:28",
          "2022-12-11T20:19:28"
         ],
         "y": [
          10,
          10
         ]
        },
        {
         "line": {
          "color": "rgb(0, 128, 128)",
          "width": 8
         },
         "mode": "lines",
         "name": "AI Bots Managing Online Interactions in Chat Platforms",
         "type": "scatter",
         "x": [
          "2022-12-13T18:34:06",
          "2022-12-13T20:19:28"
         ],
         "y": [
          10,
          10
         ]
        },
        {
         "line": {
          "color": "rgb(0, 128, 128)",
          "width": 8
         },
         "mode": "lines",
         "name": "AI Bots Managing Online Interactions in Chat Platforms",
         "type": "scatter",
         "x": [
          "2022-12-15T19:24:25",
          "2022-12-16T20:19:28"
         ],
         "y": [
          10,
          10
         ]
        },
        {
         "line": {
          "color": "rgb(0, 128, 128)",
          "width": 8
         },
         "mode": "lines",
         "name": "AI Bots Managing Online Interactions in Chat Platforms",
         "type": "scatter",
         "x": [
          "2022-12-18T19:36:28",
          "2022-12-19T20:19:28"
         ],
         "y": [
          10,
          10
         ]
        },
        {
         "line": {
          "color": "rgb(0, 128, 128)",
          "width": 8
         },
         "mode": "lines",
         "name": "AI Bots Managing Online Interactions in Chat Platforms",
         "type": "scatter",
         "x": [
          "2022-12-22T17:12:38",
          "2022-12-22T20:19:28"
         ],
         "y": [
          10,
          10
         ]
        },
        {
         "line": {
          "color": "rgb(0, 128, 128)",
          "width": 8
         },
         "mode": "lines",
         "name": "AI Bots Managing Online Interactions in Chat Platforms",
         "type": "scatter",
         "x": [
          "2022-12-24T14:49:56",
          "2022-12-24T20:19:28"
         ],
         "y": [
          10,
          10
         ]
        },
        {
         "line": {
          "color": "rgb(0, 128, 128)",
          "width": 8
         },
         "mode": "lines",
         "name": "AI Bots Managing Online Interactions in Chat Platforms",
         "type": "scatter",
         "x": [
          "2022-12-26T16:17:00",
          "2022-12-28T20:19:28"
         ],
         "y": [
          10,
          10
         ]
        },
        {
         "line": {
          "color": "rgb(0, 128, 128)",
          "width": 8
         },
         "mode": "lines",
         "name": "AI Bots Managing Online Interactions in Chat Platforms",
         "type": "scatter",
         "x": [
          "2022-12-30T17:45:23",
          "2023-01-08T20:19:28"
         ],
         "y": [
          10,
          10
         ]
        },
        {
         "line": {
          "color": "rgb(0, 128, 128)",
          "width": 8
         },
         "mode": "lines",
         "name": "AI Bots Managing Online Interactions in Chat Platforms",
         "type": "scatter",
         "x": [
          "2023-01-10T12:23:33",
          "2023-01-11T20:19:28"
         ],
         "y": [
          10,
          10
         ]
        },
        {
         "line": {
          "color": "rgb(0, 128, 128)",
          "width": 8
         },
         "mode": "lines",
         "name": "AI Bots Managing Online Interactions in Chat Platforms",
         "type": "scatter",
         "x": [
          "2023-01-16T16:51:40",
          "2023-01-17T20:19:28"
         ],
         "y": [
          10,
          10
         ]
        },
        {
         "line": {
          "color": "rgb(0, 128, 128)",
          "width": 8
         },
         "mode": "lines",
         "name": "AI Bots Managing Online Interactions in Chat Platforms",
         "type": "scatter",
         "x": [
          "2023-01-19T17:12:53",
          "2023-01-19T20:19:28"
         ],
         "y": [
          10,
          10
         ]
        },
        {
         "line": {
          "color": "rgb(0, 128, 128)",
          "width": 8
         },
         "mode": "lines",
         "name": "AI Bots Managing Online Interactions in Chat Platforms",
         "type": "scatter",
         "x": [
          "2023-01-21T08:17:45",
          "2023-01-23T20:19:28"
         ],
         "y": [
          10,
          10
         ]
        },
        {
         "line": {
          "color": "rgb(0, 128, 128)",
          "width": 8
         },
         "mode": "lines",
         "name": "AI Bots Managing Online Interactions in Chat Platforms",
         "type": "scatter",
         "x": [
          "2023-01-24T20:45:02",
          "2023-01-26T20:19:28"
         ],
         "y": [
          10,
          10
         ]
        },
        {
         "line": {
          "color": "rgb(0, 128, 128)",
          "width": 8
         },
         "mode": "lines",
         "name": "AI Bots Managing Online Interactions in Chat Platforms",
         "type": "scatter",
         "x": [
          "2023-01-28T19:21:58",
          "2023-01-28T20:19:28"
         ],
         "y": [
          10,
          10
         ]
        },
        {
         "line": {
          "color": "rgb(0, 128, 128)",
          "width": 8
         },
         "mode": "lines",
         "name": "AI Bots Managing Online Interactions in Chat Platforms",
         "type": "scatter",
         "x": [
          "2023-02-02T11:09:09",
          "2023-02-02T20:19:28"
         ],
         "y": [
          10,
          10
         ]
        },
        {
         "line": {
          "color": "rgb(0, 128, 128)",
          "width": 8
         },
         "mode": "lines",
         "name": "AI Bots Managing Online Interactions in Chat Platforms",
         "type": "scatter",
         "x": [
          "2023-02-04T12:51:44",
          "2023-02-05T20:19:28"
         ],
         "y": [
          10,
          10
         ]
        },
        {
         "line": {
          "color": "rgb(0, 128, 128)",
          "width": 8
         },
         "mode": "lines",
         "name": "AI Bots Managing Online Interactions in Chat Platforms",
         "type": "scatter",
         "x": [
          "2023-02-11T22:58:10",
          "2023-02-12T20:19:28"
         ],
         "y": [
          10,
          10
         ]
        },
        {
         "line": {
          "color": "rgb(0, 128, 128)",
          "width": 8
         },
         "mode": "lines",
         "name": "AI Bots Managing Online Interactions in Chat Platforms",
         "type": "scatter",
         "x": [
          "2023-02-25T18:06:17",
          "2023-02-25T20:19:28"
         ],
         "y": [
          10,
          10
         ]
        },
        {
         "line": {
          "color": "rgb(0, 128, 128)",
          "width": 8
         },
         "mode": "lines",
         "name": "AI Bots Managing Online Interactions in Chat Platforms",
         "type": "scatter",
         "x": [
          "2023-03-03T19:06:07",
          "2023-03-04T20:19:28"
         ],
         "y": [
          10,
          10
         ]
        },
        {
         "line": {
          "color": "rgb(0, 128, 128)",
          "width": 8
         },
         "mode": "lines",
         "name": "AI Bots Managing Online Interactions in Chat Platforms",
         "type": "scatter",
         "x": [
          "2023-03-06T16:37:11",
          "2023-04-16T20:19:28"
         ],
         "y": [
          10,
          10
         ]
        },
        {
         "line": {
          "color": "rgb(0, 128, 128)",
          "width": 8
         },
         "mode": "lines",
         "name": "AI Bots Managing Online Interactions in Chat Platforms",
         "type": "scatter",
         "x": [
          "2023-04-18T18:50:15",
          "2023-04-18T20:19:28"
         ],
         "y": [
          10,
          10
         ]
        },
        {
         "line": {
          "color": "rgb(0, 128, 128)",
          "width": 8
         },
         "mode": "lines",
         "name": "AI Bots Managing Online Interactions in Chat Platforms",
         "type": "scatter",
         "x": [
          "2023-04-20T19:24:14",
          "2023-04-22T20:19:28"
         ],
         "y": [
          10,
          10
         ]
        },
        {
         "line": {
          "color": "rgb(0, 128, 128)",
          "width": 8
         },
         "mode": "lines",
         "name": "AI Bots Managing Online Interactions in Chat Platforms",
         "type": "scatter",
         "x": [
          "2023-04-24T14:38:56",
          "2023-04-30T21:08:43"
         ],
         "y": [
          10,
          10
         ]
        },
        {
         "line": {
          "color": "rgb(0, 0, 128)",
          "width": 8
         },
         "mode": "lines",
         "name": "NFT Collecting and Discord Community Interaction",
         "type": "scatter",
         "x": [
          "2022-12-03T19:28:22",
          "2022-12-19T20:19:28"
         ],
         "y": [
          11,
          11
         ]
        },
        {
         "line": {
          "color": "rgb(0, 0, 128)",
          "width": 8
         },
         "mode": "lines",
         "name": "NFT Collecting and Discord Community Interaction",
         "type": "scatter",
         "x": [
          "2022-12-23T17:19:07",
          "2022-12-25T20:19:28"
         ],
         "y": [
          11,
          11
         ]
        },
        {
         "line": {
          "color": "rgb(0, 0, 128)",
          "width": 8
         },
         "mode": "lines",
         "name": "NFT Collecting and Discord Community Interaction",
         "type": "scatter",
         "x": [
          "2022-12-28T10:05:51",
          "2022-12-28T20:19:28"
         ],
         "y": [
          11,
          11
         ]
        },
        {
         "line": {
          "color": "rgb(0, 0, 128)",
          "width": 8
         },
         "mode": "lines",
         "name": "NFT Collecting and Discord Community Interaction",
         "type": "scatter",
         "x": [
          "2023-01-03T18:25:21",
          "2023-01-03T20:19:28"
         ],
         "y": [
          11,
          11
         ]
        },
        {
         "line": {
          "color": "rgb(0, 0, 128)",
          "width": 8
         },
         "mode": "lines",
         "name": "NFT Collecting and Discord Community Interaction",
         "type": "scatter",
         "x": [
          "2023-01-14T01:50:34",
          "2023-01-15T20:19:28"
         ],
         "y": [
          11,
          11
         ]
        },
        {
         "line": {
          "color": "rgb(0, 0, 128)",
          "width": 8
         },
         "mode": "lines",
         "name": "NFT Collecting and Discord Community Interaction",
         "type": "scatter",
         "x": [
          "2023-01-20T21:35:08",
          "2023-01-21T20:19:28"
         ],
         "y": [
          11,
          11
         ]
        },
        {
         "line": {
          "color": "rgb(0, 0, 128)",
          "width": 8
         },
         "mode": "lines",
         "name": "NFT Collecting and Discord Community Interaction",
         "type": "scatter",
         "x": [
          "2023-01-23T00:08:07",
          "2023-01-25T20:19:28"
         ],
         "y": [
          11,
          11
         ]
        },
        {
         "line": {
          "color": "rgb(0, 0, 128)",
          "width": 8
         },
         "mode": "lines",
         "name": "NFT Collecting and Discord Community Interaction",
         "type": "scatter",
         "x": [
          "2023-01-28T12:14:41",
          "2023-01-29T20:19:28"
         ],
         "y": [
          11,
          11
         ]
        },
        {
         "line": {
          "color": "rgb(0, 0, 128)",
          "width": 8
         },
         "mode": "lines",
         "name": "NFT Collecting and Discord Community Interaction",
         "type": "scatter",
         "x": [
          "2023-01-31T08:19:10",
          "2023-01-31T20:19:28"
         ],
         "y": [
          11,
          11
         ]
        },
        {
         "line": {
          "color": "rgb(0, 0, 128)",
          "width": 8
         },
         "mode": "lines",
         "name": "NFT Collecting and Discord Community Interaction",
         "type": "scatter",
         "x": [
          "2023-02-03T08:45:39",
          "2023-02-03T20:19:28"
         ],
         "y": [
          11,
          11
         ]
        },
        {
         "line": {
          "color": "rgb(0, 0, 128)",
          "width": 8
         },
         "mode": "lines",
         "name": "NFT Collecting and Discord Community Interaction",
         "type": "scatter",
         "x": [
          "2023-02-05T13:37:33",
          "2023-02-05T20:19:28"
         ],
         "y": [
          11,
          11
         ]
        },
        {
         "line": {
          "color": "rgb(0, 0, 128)",
          "width": 8
         },
         "mode": "lines",
         "name": "NFT Collecting and Discord Community Interaction",
         "type": "scatter",
         "x": [
          "2023-02-09T12:59:01",
          "2023-02-09T20:19:28"
         ],
         "y": [
          11,
          11
         ]
        },
        {
         "line": {
          "color": "rgb(0, 0, 128)",
          "width": 8
         },
         "mode": "lines",
         "name": "NFT Collecting and Discord Community Interaction",
         "type": "scatter",
         "x": [
          "2023-02-11T18:11:17",
          "2023-02-11T20:19:28"
         ],
         "y": [
          11,
          11
         ]
        },
        {
         "line": {
          "color": "rgb(0, 0, 128)",
          "width": 8
         },
         "mode": "lines",
         "name": "NFT Collecting and Discord Community Interaction",
         "type": "scatter",
         "x": [
          "2023-02-13T09:39:50",
          "2023-02-13T20:19:28"
         ],
         "y": [
          11,
          11
         ]
        },
        {
         "line": {
          "color": "rgb(0, 0, 128)",
          "width": 8
         },
         "mode": "lines",
         "name": "NFT Collecting and Discord Community Interaction",
         "type": "scatter",
         "x": [
          "2023-02-18T06:34:25",
          "2023-02-20T20:19:28"
         ],
         "y": [
          11,
          11
         ]
        },
        {
         "line": {
          "color": "rgb(0, 0, 128)",
          "width": 8
         },
         "mode": "lines",
         "name": "NFT Collecting and Discord Community Interaction",
         "type": "scatter",
         "x": [
          "2023-02-22T03:45:59",
          "2023-02-28T20:19:28"
         ],
         "y": [
          11,
          11
         ]
        },
        {
         "line": {
          "color": "rgb(0, 0, 128)",
          "width": 8
         },
         "mode": "lines",
         "name": "NFT Collecting and Discord Community Interaction",
         "type": "scatter",
         "x": [
          "2023-03-05T08:30:09",
          "2023-03-05T20:19:28"
         ],
         "y": [
          11,
          11
         ]
        },
        {
         "line": {
          "color": "rgb(0, 0, 128)",
          "width": 8
         },
         "mode": "lines",
         "name": "NFT Collecting and Discord Community Interaction",
         "type": "scatter",
         "x": [
          "2023-03-07T09:23:08",
          "2023-03-14T20:19:28"
         ],
         "y": [
          11,
          11
         ]
        },
        {
         "line": {
          "color": "rgb(0, 0, 128)",
          "width": 8
         },
         "mode": "lines",
         "name": "NFT Collecting and Discord Community Interaction",
         "type": "scatter",
         "x": [
          "2023-03-19T15:49:08",
          "2023-03-19T20:19:28"
         ],
         "y": [
          11,
          11
         ]
        },
        {
         "line": {
          "color": "rgb(0, 0, 128)",
          "width": 8
         },
         "mode": "lines",
         "name": "NFT Collecting and Discord Community Interaction",
         "type": "scatter",
         "x": [
          "2023-03-22T16:58:14",
          "2023-03-22T20:19:28"
         ],
         "y": [
          11,
          11
         ]
        },
        {
         "line": {
          "color": "rgb(0, 0, 128)",
          "width": 8
         },
         "mode": "lines",
         "name": "NFT Collecting and Discord Community Interaction",
         "type": "scatter",
         "x": [
          "2023-03-26T13:29:41",
          "2023-03-26T20:19:28"
         ],
         "y": [
          11,
          11
         ]
        },
        {
         "line": {
          "color": "rgb(0, 0, 128)",
          "width": 8
         },
         "mode": "lines",
         "name": "NFT Collecting and Discord Community Interaction",
         "type": "scatter",
         "x": [
          "2023-03-29T01:47:25",
          "2023-04-06T20:19:28"
         ],
         "y": [
          11,
          11
         ]
        },
        {
         "line": {
          "color": "rgb(0, 0, 128)",
          "width": 8
         },
         "mode": "lines",
         "name": "NFT Collecting and Discord Community Interaction",
         "type": "scatter",
         "x": [
          "2023-04-08T18:31:15",
          "2023-04-10T20:19:28"
         ],
         "y": [
          11,
          11
         ]
        },
        {
         "line": {
          "color": "rgb(0, 0, 128)",
          "width": 8
         },
         "mode": "lines",
         "name": "NFT Collecting and Discord Community Interaction",
         "type": "scatter",
         "x": [
          "2023-04-12T19:58:02",
          "2023-04-12T20:19:28"
         ],
         "y": [
          11,
          11
         ]
        },
        {
         "line": {
          "color": "rgb(0, 0, 128)",
          "width": 8
         },
         "mode": "lines",
         "name": "NFT Collecting and Discord Community Interaction",
         "type": "scatter",
         "x": [
          "2023-04-14T15:04:46",
          "2023-04-15T20:19:28"
         ],
         "y": [
          11,
          11
         ]
        },
        {
         "line": {
          "color": "rgb(0, 0, 128)",
          "width": 8
         },
         "mode": "lines",
         "name": "NFT Collecting and Discord Community Interaction",
         "type": "scatter",
         "x": [
          "2023-04-17T16:35:28",
          "2023-04-17T20:19:28"
         ],
         "y": [
          11,
          11
         ]
        },
        {
         "line": {
          "color": "rgb(0, 0, 128)",
          "width": 8
         },
         "mode": "lines",
         "name": "NFT Collecting and Discord Community Interaction",
         "type": "scatter",
         "x": [
          "2023-04-19T05:54:09",
          "2023-04-24T20:19:28"
         ],
         "y": [
          11,
          11
         ]
        },
        {
         "line": {
          "color": "rgb(0, 0, 128)",
          "width": 8
         },
         "mode": "lines",
         "name": "NFT Collecting and Discord Community Interaction",
         "type": "scatter",
         "x": [
          "2023-04-26T17:11:59",
          "2023-04-27T20:19:28"
         ],
         "y": [
          11,
          11
         ]
        },
        {
         "line": {
          "color": "rgb(0, 0, 128)",
          "width": 8
         },
         "mode": "lines",
         "name": "NFT Collecting and Discord Community Interaction",
         "type": "scatter",
         "x": [
          "2023-05-01T14:23:43",
          "2023-04-30T21:08:43"
         ],
         "y": [
          11,
          11
         ]
        },
        {
         "line": {
          "color": "rgb(70, 130, 180)",
          "width": 8
         },
         "mode": "lines",
         "name": "Bing's AI Chatbot and User Interaction",
         "type": "scatter",
         "x": [
          "2022-12-11T18:09:04",
          "2022-12-12T20:19:28"
         ],
         "y": [
          12,
          12
         ]
        },
        {
         "line": {
          "color": "rgb(70, 130, 180)",
          "width": 8
         },
         "mode": "lines",
         "name": "Bing's AI Chatbot and User Interaction",
         "type": "scatter",
         "x": [
          "2022-12-16T16:09:03",
          "2022-12-16T20:19:28"
         ],
         "y": [
          12,
          12
         ]
        },
        {
         "line": {
          "color": "rgb(70, 130, 180)",
          "width": 8
         },
         "mode": "lines",
         "name": "Bing's AI Chatbot and User Interaction",
         "type": "scatter",
         "x": [
          "2022-12-18T07:29:40",
          "2022-12-18T20:19:28"
         ],
         "y": [
          12,
          12
         ]
        },
        {
         "line": {
          "color": "rgb(70, 130, 180)",
          "width": 8
         },
         "mode": "lines",
         "name": "Bing's AI Chatbot and User Interaction",
         "type": "scatter",
         "x": [
          "2022-12-29T16:11:36",
          "2022-12-29T20:19:28"
         ],
         "y": [
          12,
          12
         ]
        },
        {
         "line": {
          "color": "rgb(70, 130, 180)",
          "width": 8
         },
         "mode": "lines",
         "name": "Bing's AI Chatbot and User Interaction",
         "type": "scatter",
         "x": [
          "2023-01-02T10:42:28",
          "2023-01-02T20:19:28"
         ],
         "y": [
          12,
          12
         ]
        },
        {
         "line": {
          "color": "rgb(70, 130, 180)",
          "width": 8
         },
         "mode": "lines",
         "name": "Bing's AI Chatbot and User Interaction",
         "type": "scatter",
         "x": [
          "2023-01-04T14:47:05",
          "2023-01-06T20:19:28"
         ],
         "y": [
          12,
          12
         ]
        },
        {
         "line": {
          "color": "rgb(70, 130, 180)",
          "width": 8
         },
         "mode": "lines",
         "name": "Bing's AI Chatbot and User Interaction",
         "type": "scatter",
         "x": [
          "2023-01-08T23:44:48",
          "2023-01-09T20:19:28"
         ],
         "y": [
          12,
          12
         ]
        },
        {
         "line": {
          "color": "rgb(70, 130, 180)",
          "width": 8
         },
         "mode": "lines",
         "name": "Bing's AI Chatbot and User Interaction",
         "type": "scatter",
         "x": [
          "2023-01-13T10:23:45",
          "2023-01-13T20:19:28"
         ],
         "y": [
          12,
          12
         ]
        },
        {
         "line": {
          "color": "rgb(70, 130, 180)",
          "width": 8
         },
         "mode": "lines",
         "name": "Bing's AI Chatbot and User Interaction",
         "type": "scatter",
         "x": [
          "2023-01-17T01:27:53",
          "2023-01-17T20:19:28"
         ],
         "y": [
          12,
          12
         ]
        },
        {
         "line": {
          "color": "rgb(70, 130, 180)",
          "width": 8
         },
         "mode": "lines",
         "name": "Bing's AI Chatbot and User Interaction",
         "type": "scatter",
         "x": [
          "2023-01-20T16:49:14",
          "2023-01-20T20:19:28"
         ],
         "y": [
          12,
          12
         ]
        },
        {
         "line": {
          "color": "rgb(70, 130, 180)",
          "width": 8
         },
         "mode": "lines",
         "name": "Bing's AI Chatbot and User Interaction",
         "type": "scatter",
         "x": [
          "2023-01-24T19:00:47",
          "2023-01-24T20:19:28"
         ],
         "y": [
          12,
          12
         ]
        },
        {
         "line": {
          "color": "rgb(70, 130, 180)",
          "width": 8
         },
         "mode": "lines",
         "name": "Bing's AI Chatbot and User Interaction",
         "type": "scatter",
         "x": [
          "2023-01-28T17:00:40",
          "2023-01-28T20:19:28"
         ],
         "y": [
          12,
          12
         ]
        },
        {
         "line": {
          "color": "rgb(70, 130, 180)",
          "width": 8
         },
         "mode": "lines",
         "name": "Bing's AI Chatbot and User Interaction",
         "type": "scatter",
         "x": [
          "2023-01-30T13:58:38",
          "2023-01-30T20:19:28"
         ],
         "y": [
          12,
          12
         ]
        },
        {
         "line": {
          "color": "rgb(70, 130, 180)",
          "width": 8
         },
         "mode": "lines",
         "name": "Bing's AI Chatbot and User Interaction",
         "type": "scatter",
         "x": [
          "2023-02-01T17:31:15",
          "2023-02-03T20:19:28"
         ],
         "y": [
          12,
          12
         ]
        },
        {
         "line": {
          "color": "rgb(70, 130, 180)",
          "width": 8
         },
         "mode": "lines",
         "name": "Bing's AI Chatbot and User Interaction",
         "type": "scatter",
         "x": [
          "2023-02-05T09:36:52",
          "2023-04-30T21:08:43"
         ],
         "y": [
          12,
          12
         ]
        },
        {
         "line": {
          "color": "rgb(220, 20, 60)",
          "width": 8
         },
         "mode": "lines",
         "name": "Discord Server Chatbot Interaction and User Requests",
         "type": "scatter",
         "x": [
          "2022-12-04T23:33:58",
          "2022-12-05T20:19:28"
         ],
         "y": [
          13,
          13
         ]
        },
        {
         "line": {
          "color": "rgb(220, 20, 60)",
          "width": 8
         },
         "mode": "lines",
         "name": "Discord Server Chatbot Interaction and User Requests",
         "type": "scatter",
         "x": [
          "2022-12-07T03:35:19",
          "2022-12-07T20:19:28"
         ],
         "y": [
          13,
          13
         ]
        },
        {
         "line": {
          "color": "rgb(220, 20, 60)",
          "width": 8
         },
         "mode": "lines",
         "name": "Discord Server Chatbot Interaction and User Requests",
         "type": "scatter",
         "x": [
          "2022-12-10T19:18:11",
          "2022-12-10T20:19:28"
         ],
         "y": [
          13,
          13
         ]
        },
        {
         "line": {
          "color": "rgb(220, 20, 60)",
          "width": 8
         },
         "mode": "lines",
         "name": "Discord Server Chatbot Interaction and User Requests",
         "type": "scatter",
         "x": [
          "2022-12-12T00:47:52",
          "2022-12-16T20:19:28"
         ],
         "y": [
          13,
          13
         ]
        },
        {
         "line": {
          "color": "rgb(220, 20, 60)",
          "width": 8
         },
         "mode": "lines",
         "name": "Discord Server Chatbot Interaction and User Requests",
         "type": "scatter",
         "x": [
          "2022-12-17T22:10:54",
          "2023-02-26T20:19:28"
         ],
         "y": [
          13,
          13
         ]
        },
        {
         "line": {
          "color": "rgb(220, 20, 60)",
          "width": 8
         },
         "mode": "lines",
         "name": "Discord Server Chatbot Interaction and User Requests",
         "type": "scatter",
         "x": [
          "2023-02-28T02:37:49",
          "2023-03-01T20:19:28"
         ],
         "y": [
          13,
          13
         ]
        },
        {
         "line": {
          "color": "rgb(220, 20, 60)",
          "width": 8
         },
         "mode": "lines",
         "name": "Discord Server Chatbot Interaction and User Requests",
         "type": "scatter",
         "x": [
          "2023-03-03T13:56:07",
          "2023-03-07T20:19:28"
         ],
         "y": [
          13,
          13
         ]
        },
        {
         "line": {
          "color": "rgb(220, 20, 60)",
          "width": 8
         },
         "mode": "lines",
         "name": "Discord Server Chatbot Interaction and User Requests",
         "type": "scatter",
         "x": [
          "2023-03-10T01:01:15",
          "2023-03-10T20:19:28"
         ],
         "y": [
          13,
          13
         ]
        },
        {
         "line": {
          "color": "rgb(220, 20, 60)",
          "width": 8
         },
         "mode": "lines",
         "name": "Discord Server Chatbot Interaction and User Requests",
         "type": "scatter",
         "x": [
          "2023-03-11T20:35:57",
          "2023-03-13T20:19:28"
         ],
         "y": [
          13,
          13
         ]
        },
        {
         "line": {
          "color": "rgb(220, 20, 60)",
          "width": 8
         },
         "mode": "lines",
         "name": "Discord Server Chatbot Interaction and User Requests",
         "type": "scatter",
         "x": [
          "2023-03-15T07:51:22",
          "2023-03-16T20:19:28"
         ],
         "y": [
          13,
          13
         ]
        },
        {
         "line": {
          "color": "rgb(220, 20, 60)",
          "width": 8
         },
         "mode": "lines",
         "name": "Discord Server Chatbot Interaction and User Requests",
         "type": "scatter",
         "x": [
          "2023-03-20T17:37:52",
          "2023-03-20T20:19:28"
         ],
         "y": [
          13,
          13
         ]
        },
        {
         "line": {
          "color": "rgb(220, 20, 60)",
          "width": 8
         },
         "mode": "lines",
         "name": "Discord Server Chatbot Interaction and User Requests",
         "type": "scatter",
         "x": [
          "2023-03-23T18:06:40",
          "2023-03-23T20:19:28"
         ],
         "y": [
          13,
          13
         ]
        },
        {
         "line": {
          "color": "rgb(220, 20, 60)",
          "width": 8
         },
         "mode": "lines",
         "name": "Discord Server Chatbot Interaction and User Requests",
         "type": "scatter",
         "x": [
          "2023-03-27T04:01:05",
          "2023-03-27T20:19:28"
         ],
         "y": [
          13,
          13
         ]
        },
        {
         "line": {
          "color": "rgb(220, 20, 60)",
          "width": 8
         },
         "mode": "lines",
         "name": "Discord Server Chatbot Interaction and User Requests",
         "type": "scatter",
         "x": [
          "2023-03-30T18:26:32",
          "2023-03-31T20:19:28"
         ],
         "y": [
          13,
          13
         ]
        },
        {
         "line": {
          "color": "rgb(220, 20, 60)",
          "width": 8
         },
         "mode": "lines",
         "name": "Discord Server Chatbot Interaction and User Requests",
         "type": "scatter",
         "x": [
          "2023-04-02T15:58:22",
          "2023-04-02T20:19:28"
         ],
         "y": [
          13,
          13
         ]
        },
        {
         "line": {
          "color": "rgb(220, 20, 60)",
          "width": 8
         },
         "mode": "lines",
         "name": "Discord Server Chatbot Interaction and User Requests",
         "type": "scatter",
         "x": [
          "2023-04-04T11:37:10",
          "2023-04-04T20:19:28"
         ],
         "y": [
          13,
          13
         ]
        },
        {
         "line": {
          "color": "rgb(220, 20, 60)",
          "width": 8
         },
         "mode": "lines",
         "name": "Discord Server Chatbot Interaction and User Requests",
         "type": "scatter",
         "x": [
          "2023-04-06T04:20:45",
          "2023-04-06T20:19:28"
         ],
         "y": [
          13,
          13
         ]
        },
        {
         "line": {
          "color": "rgb(220, 20, 60)",
          "width": 8
         },
         "mode": "lines",
         "name": "Discord Server Chatbot Interaction and User Requests",
         "type": "scatter",
         "x": [
          "2023-04-08T09:49:24",
          "2023-04-09T20:19:28"
         ],
         "y": [
          13,
          13
         ]
        },
        {
         "line": {
          "color": "rgb(220, 20, 60)",
          "width": 8
         },
         "mode": "lines",
         "name": "Discord Server Chatbot Interaction and User Requests",
         "type": "scatter",
         "x": [
          "2023-04-11T01:22:12",
          "2023-04-11T20:19:28"
         ],
         "y": [
          13,
          13
         ]
        },
        {
         "line": {
          "color": "rgb(220, 20, 60)",
          "width": 8
         },
         "mode": "lines",
         "name": "Discord Server Chatbot Interaction and User Requests",
         "type": "scatter",
         "x": [
          "2023-04-16T11:48:01",
          "2023-04-16T20:19:28"
         ],
         "y": [
          13,
          13
         ]
        },
        {
         "line": {
          "color": "rgb(220, 20, 60)",
          "width": 8
         },
         "mode": "lines",
         "name": "Discord Server Chatbot Interaction and User Requests",
         "type": "scatter",
         "x": [
          "2023-04-19T19:22:19",
          "2023-04-20T20:19:28"
         ],
         "y": [
          13,
          13
         ]
        },
        {
         "line": {
          "color": "rgb(220, 20, 60)",
          "width": 8
         },
         "mode": "lines",
         "name": "Discord Server Chatbot Interaction and User Requests",
         "type": "scatter",
         "x": [
          "2023-04-22T14:48:26",
          "2023-04-22T20:19:28"
         ],
         "y": [
          13,
          13
         ]
        },
        {
         "line": {
          "color": "rgb(220, 20, 60)",
          "width": 8
         },
         "mode": "lines",
         "name": "Discord Server Chatbot Interaction and User Requests",
         "type": "scatter",
         "x": [
          "2023-04-25T00:48:42",
          "2023-04-25T20:19:28"
         ],
         "y": [
          13,
          13
         ]
        },
        {
         "line": {
          "color": "rgb(220, 20, 60)",
          "width": 8
         },
         "mode": "lines",
         "name": "Discord Server Chatbot Interaction and User Requests",
         "type": "scatter",
         "x": [
          "2023-04-26T21:56:38",
          "2023-04-30T20:19:28"
         ],
         "y": [
          13,
          13
         ]
        },
        {
         "line": {
          "color": "rgb(255, 140, 0)",
          "width": 8
         },
         "mode": "lines",
         "name": "Spam Threshold Management in Online Communities",
         "type": "scatter",
         "x": [
          "2022-12-04T19:37:46",
          "2022-12-04T20:19:28"
         ],
         "y": [
          14,
          14
         ]
        },
        {
         "line": {
          "color": "rgb(255, 140, 0)",
          "width": 8
         },
         "mode": "lines",
         "name": "Spam Threshold Management in Online Communities",
         "type": "scatter",
         "x": [
          "2022-12-14T15:54:06",
          "2022-12-14T20:19:28"
         ],
         "y": [
          14,
          14
         ]
        },
        {
         "line": {
          "color": "rgb(255, 140, 0)",
          "width": 8
         },
         "mode": "lines",
         "name": "Spam Threshold Management in Online Communities",
         "type": "scatter",
         "x": [
          "2022-12-19T08:09:08",
          "2022-12-19T20:19:28"
         ],
         "y": [
          14,
          14
         ]
        },
        {
         "line": {
          "color": "rgb(255, 140, 0)",
          "width": 8
         },
         "mode": "lines",
         "name": "Spam Threshold Management in Online Communities",
         "type": "scatter",
         "x": [
          "2023-03-12T07:37:37",
          "2023-03-19T20:19:28"
         ],
         "y": [
          14,
          14
         ]
        },
        {
         "line": {
          "color": "rgb(255, 140, 0)",
          "width": 8
         },
         "mode": "lines",
         "name": "Spam Threshold Management in Online Communities",
         "type": "scatter",
         "x": [
          "2023-04-28T11:57:52",
          "2023-04-28T20:19:28"
         ],
         "y": [
          14,
          14
         ]
        },
        {
         "line": {
          "color": "rgb(46, 139, 87)",
          "width": 8
         },
         "mode": "lines",
         "name": "Discord Moderation Bot Commands and User Interaction",
         "type": "scatter",
         "x": [
          "2022-12-19T20:14:26",
          "2023-01-08T20:19:28"
         ],
         "y": [
          15,
          15
         ]
        },
        {
         "line": {
          "color": "rgb(46, 139, 87)",
          "width": 8
         },
         "mode": "lines",
         "name": "Discord Moderation Bot Commands and User Interaction",
         "type": "scatter",
         "x": [
          "2023-01-12T10:11:52",
          "2023-01-12T20:19:28"
         ],
         "y": [
          15,
          15
         ]
        },
        {
         "line": {
          "color": "rgb(46, 139, 87)",
          "width": 8
         },
         "mode": "lines",
         "name": "Discord Moderation Bot Commands and User Interaction",
         "type": "scatter",
         "x": [
          "2023-01-24T18:44:35",
          "2023-02-07T20:19:28"
         ],
         "y": [
          15,
          15
         ]
        },
        {
         "line": {
          "color": "rgb(46, 139, 87)",
          "width": 8
         },
         "mode": "lines",
         "name": "Discord Moderation Bot Commands and User Interaction",
         "type": "scatter",
         "x": [
          "2023-02-10T10:37:27",
          "2023-02-10T20:19:28"
         ],
         "y": [
          15,
          15
         ]
        },
        {
         "line": {
          "color": "rgb(46, 139, 87)",
          "width": 8
         },
         "mode": "lines",
         "name": "Discord Moderation Bot Commands and User Interaction",
         "type": "scatter",
         "x": [
          "2023-02-21T21:41:24",
          "2023-02-22T20:19:28"
         ],
         "y": [
          15,
          15
         ]
        },
        {
         "line": {
          "color": "rgb(46, 139, 87)",
          "width": 8
         },
         "mode": "lines",
         "name": "Discord Moderation Bot Commands and User Interaction",
         "type": "scatter",
         "x": [
          "2023-03-25T13:48:46",
          "2023-03-25T20:19:28"
         ],
         "y": [
          15,
          15
         ]
        },
        {
         "line": {
          "color": "rgb(46, 139, 87)",
          "width": 8
         },
         "mode": "lines",
         "name": "Discord Moderation Bot Commands and User Interaction",
         "type": "scatter",
         "x": [
          "2023-04-02T19:12:34",
          "2023-04-02T20:19:28"
         ],
         "y": [
          15,
          15
         ]
        },
        {
         "line": {
          "color": "rgb(46, 139, 87)",
          "width": 8
         },
         "mode": "lines",
         "name": "Discord Moderation Bot Commands and User Interaction",
         "type": "scatter",
         "x": [
          "2023-04-09T19:11:51",
          "2023-04-09T20:19:28"
         ],
         "y": [
          15,
          15
         ]
        },
        {
         "line": {
          "color": "rgb(46, 139, 87)",
          "width": 8
         },
         "mode": "lines",
         "name": "Discord Moderation Bot Commands and User Interaction",
         "type": "scatter",
         "x": [
          "2023-04-27T18:09:48",
          "2023-04-27T20:19:28"
         ],
         "y": [
          15,
          15
         ]
        },
        {
         "line": {
          "color": "rgb(255, 69, 0)",
          "width": 8
         },
         "mode": "lines",
         "name": "Bot Moderation in Online Comment Sections",
         "type": "scatter",
         "x": [
          "2022-12-08T11:44:33",
          "2022-12-09T20:19:28"
         ],
         "y": [
          16,
          16
         ]
        },
        {
         "line": {
          "color": "rgb(255, 69, 0)",
          "width": 8
         },
         "mode": "lines",
         "name": "Bot Moderation in Online Comment Sections",
         "type": "scatter",
         "x": [
          "2022-12-10T23:37:07",
          "2022-12-12T20:19:28"
         ],
         "y": [
          16,
          16
         ]
        },
        {
         "line": {
          "color": "rgb(255, 69, 0)",
          "width": 8
         },
         "mode": "lines",
         "name": "Bot Moderation in Online Comment Sections",
         "type": "scatter",
         "x": [
          "2022-12-13T22:55:37",
          "2022-12-14T20:19:28"
         ],
         "y": [
          16,
          16
         ]
        },
        {
         "line": {
          "color": "rgb(255, 69, 0)",
          "width": 8
         },
         "mode": "lines",
         "name": "Bot Moderation in Online Comment Sections",
         "type": "scatter",
         "x": [
          "2022-12-19T21:03:58",
          "2022-12-20T20:19:28"
         ],
         "y": [
          16,
          16
         ]
        },
        {
         "line": {
          "color": "rgb(255, 69, 0)",
          "width": 8
         },
         "mode": "lines",
         "name": "Bot Moderation in Online Comment Sections",
         "type": "scatter",
         "x": [
          "2022-12-23T08:40:21",
          "2022-12-23T20:19:28"
         ],
         "y": [
          16,
          16
         ]
        },
        {
         "line": {
          "color": "rgb(255, 69, 0)",
          "width": 8
         },
         "mode": "lines",
         "name": "Bot Moderation in Online Comment Sections",
         "type": "scatter",
         "x": [
          "2022-12-26T23:05:13",
          "2022-12-27T20:19:28"
         ],
         "y": [
          16,
          16
         ]
        },
        {
         "line": {
          "color": "rgb(255, 69, 0)",
          "width": 8
         },
         "mode": "lines",
         "name": "Bot Moderation in Online Comment Sections",
         "type": "scatter",
         "x": [
          "2022-12-29T01:13:15",
          "2022-12-29T20:19:28"
         ],
         "y": [
          16,
          16
         ]
        },
        {
         "line": {
          "color": "rgb(255, 69, 0)",
          "width": 8
         },
         "mode": "lines",
         "name": "Bot Moderation in Online Comment Sections",
         "type": "scatter",
         "x": [
          "2023-01-09T10:24:10",
          "2023-01-10T20:19:28"
         ],
         "y": [
          16,
          16
         ]
        },
        {
         "line": {
          "color": "rgb(255, 69, 0)",
          "width": 8
         },
         "mode": "lines",
         "name": "Bot Moderation in Online Comment Sections",
         "type": "scatter",
         "x": [
          "2023-01-12T04:43:01",
          "2023-01-12T20:19:28"
         ],
         "y": [
          16,
          16
         ]
        },
        {
         "line": {
          "color": "rgb(255, 69, 0)",
          "width": 8
         },
         "mode": "lines",
         "name": "Bot Moderation in Online Comment Sections",
         "type": "scatter",
         "x": [
          "2023-01-26T15:38:08",
          "2023-01-27T20:19:28"
         ],
         "y": [
          16,
          16
         ]
        },
        {
         "line": {
          "color": "rgb(255, 69, 0)",
          "width": 8
         },
         "mode": "lines",
         "name": "Bot Moderation in Online Comment Sections",
         "type": "scatter",
         "x": [
          "2023-02-01T05:41:04",
          "2023-02-02T20:19:28"
         ],
         "y": [
          16,
          16
         ]
        },
        {
         "line": {
          "color": "rgb(255, 69, 0)",
          "width": 8
         },
         "mode": "lines",
         "name": "Bot Moderation in Online Comment Sections",
         "type": "scatter",
         "x": [
          "2023-02-12T19:48:16",
          "2023-02-13T20:19:28"
         ],
         "y": [
          16,
          16
         ]
        },
        {
         "line": {
          "color": "rgb(255, 69, 0)",
          "width": 8
         },
         "mode": "lines",
         "name": "Bot Moderation in Online Comment Sections",
         "type": "scatter",
         "x": [
          "2023-02-25T12:33:33",
          "2023-02-28T20:19:28"
         ],
         "y": [
          16,
          16
         ]
        },
        {
         "line": {
          "color": "rgb(255, 69, 0)",
          "width": 8
         },
         "mode": "lines",
         "name": "Bot Moderation in Online Comment Sections",
         "type": "scatter",
         "x": [
          "2023-03-02T20:18:53",
          "2023-03-31T20:19:28"
         ],
         "y": [
          16,
          16
         ]
        },
        {
         "line": {
          "color": "rgb(255, 69, 0)",
          "width": 8
         },
         "mode": "lines",
         "name": "Bot Moderation in Online Comment Sections",
         "type": "scatter",
         "x": [
          "2023-04-05T01:28:32",
          "2023-04-06T20:19:28"
         ],
         "y": [
          16,
          16
         ]
        },
        {
         "line": {
          "color": "rgb(255, 69, 0)",
          "width": 8
         },
         "mode": "lines",
         "name": "Bot Moderation in Online Comment Sections",
         "type": "scatter",
         "x": [
          "2023-04-10T15:19:16",
          "2023-04-16T20:19:28"
         ],
         "y": [
          16,
          16
         ]
        },
        {
         "line": {
          "color": "rgb(255, 69, 0)",
          "width": 8
         },
         "mode": "lines",
         "name": "Bot Moderation in Online Comment Sections",
         "type": "scatter",
         "x": [
          "2023-04-19T09:13:22",
          "2023-04-19T20:19:28"
         ],
         "y": [
          16,
          16
         ]
        },
        {
         "line": {
          "color": "rgb(255, 69, 0)",
          "width": 8
         },
         "mode": "lines",
         "name": "Bot Moderation in Online Comment Sections",
         "type": "scatter",
         "x": [
          "2023-04-25T01:36:51",
          "2023-04-25T20:19:28"
         ],
         "y": [
          16,
          16
         ]
        },
        {
         "line": {
          "color": "rgb(75, 0, 130)",
          "width": 8
         },
         "mode": "lines",
         "name": "Spam Prevention and Account Karma Management",
         "type": "scatter",
         "x": [
          "2022-12-11T22:34:32",
          "2022-12-12T20:19:28"
         ],
         "y": [
          17,
          17
         ]
        },
        {
         "line": {
          "color": "rgb(75, 0, 130)",
          "width": 8
         },
         "mode": "lines",
         "name": "Spam Prevention and Account Karma Management",
         "type": "scatter",
         "x": [
          "2022-12-21T22:37:44",
          "2022-12-24T20:19:28"
         ],
         "y": [
          17,
          17
         ]
        },
        {
         "line": {
          "color": "rgb(75, 0, 130)",
          "width": 8
         },
         "mode": "lines",
         "name": "Spam Prevention and Account Karma Management",
         "type": "scatter",
         "x": [
          "2023-01-02T20:10:40",
          "2023-01-02T20:19:28"
         ],
         "y": [
          17,
          17
         ]
        },
        {
         "line": {
          "color": "rgb(75, 0, 130)",
          "width": 8
         },
         "mode": "lines",
         "name": "Spam Prevention and Account Karma Management",
         "type": "scatter",
         "x": [
          "2023-01-07T00:44:50",
          "2023-01-07T20:19:28"
         ],
         "y": [
          17,
          17
         ]
        },
        {
         "line": {
          "color": "rgb(75, 0, 130)",
          "width": 8
         },
         "mode": "lines",
         "name": "Spam Prevention and Account Karma Management",
         "type": "scatter",
         "x": [
          "2023-01-22T09:08:40",
          "2023-01-22T20:19:28"
         ],
         "y": [
          17,
          17
         ]
        },
        {
         "line": {
          "color": "rgb(75, 0, 130)",
          "width": 8
         },
         "mode": "lines",
         "name": "Spam Prevention and Account Karma Management",
         "type": "scatter",
         "x": [
          "2023-02-09T20:46:36",
          "2023-02-10T20:19:28"
         ],
         "y": [
          17,
          17
         ]
        },
        {
         "line": {
          "color": "rgb(75, 0, 130)",
          "width": 8
         },
         "mode": "lines",
         "name": "Spam Prevention and Account Karma Management",
         "type": "scatter",
         "x": [
          "2023-03-10T05:01:20",
          "2023-03-10T20:19:28"
         ],
         "y": [
          17,
          17
         ]
        },
        {
         "line": {
          "color": "rgb(75, 0, 130)",
          "width": 8
         },
         "mode": "lines",
         "name": "Spam Prevention and Account Karma Management",
         "type": "scatter",
         "x": [
          "2023-03-14T16:14:50",
          "2023-03-20T20:19:28"
         ],
         "y": [
          17,
          17
         ]
        },
        {
         "line": {
          "color": "rgb(240, 230, 140)",
          "width": 8
         },
         "mode": "lines",
         "name": "Discord Server Moderation and ChatGPT Interaction",
         "type": "scatter",
         "x": [
          "2022-12-10T17:37:07",
          "2022-12-10T20:19:28"
         ],
         "y": [
          18,
          18
         ]
        },
        {
         "line": {
          "color": "rgb(240, 230, 140)",
          "width": 8
         },
         "mode": "lines",
         "name": "Discord Server Moderation and ChatGPT Interaction",
         "type": "scatter",
         "x": [
          "2022-12-19T19:42:45",
          "2023-02-26T20:19:28"
         ],
         "y": [
          18,
          18
         ]
        },
        {
         "line": {
          "color": "rgb(240, 230, 140)",
          "width": 8
         },
         "mode": "lines",
         "name": "Discord Server Moderation and ChatGPT Interaction",
         "type": "scatter",
         "x": [
          "2023-03-07T23:30:09",
          "2023-03-08T20:19:28"
         ],
         "y": [
          18,
          18
         ]
        },
        {
         "line": {
          "color": "rgb(240, 230, 140)",
          "width": 8
         },
         "mode": "lines",
         "name": "Discord Server Moderation and ChatGPT Interaction",
         "type": "scatter",
         "x": [
          "2023-03-19T12:25:24",
          "2023-03-19T20:19:28"
         ],
         "y": [
          18,
          18
         ]
        },
        {
         "line": {
          "color": "rgb(106, 90, 205)",
          "width": 8
         },
         "mode": "lines",
         "name": "Squirt: Addressing Spam and Hookup Content on Online Platforms",
         "type": "scatter",
         "x": [
          "2022-12-11T06:36:21",
          "2022-12-11T20:19:28"
         ],
         "y": [
          19,
          19
         ]
        },
        {
         "line": {
          "color": "rgb(106, 90, 205)",
          "width": 8
         },
         "mode": "lines",
         "name": "Squirt: Addressing Spam and Hookup Content on Online Platforms",
         "type": "scatter",
         "x": [
          "2023-03-17T23:59:58",
          "2023-03-18T20:19:28"
         ],
         "y": [
          19,
          19
         ]
        },
        {
         "line": {
          "color": "rgb(173, 216, 230)",
          "width": 8
         },
         "mode": "lines",
         "name": "Discord GPT Bot Moderation and User Interaction",
         "type": "scatter",
         "x": [
          "2022-12-11T19:34:27",
          "2022-12-13T20:19:28"
         ],
         "y": [
          20,
          20
         ]
        },
        {
         "line": {
          "color": "rgb(173, 216, 230)",
          "width": 8
         },
         "mode": "lines",
         "name": "Discord GPT Bot Moderation and User Interaction",
         "type": "scatter",
         "x": [
          "2022-12-19T19:02:04",
          "2023-02-25T20:19:28"
         ],
         "y": [
          20,
          20
         ]
        },
        {
         "line": {
          "color": "rgb(255, 105, 180)",
          "width": 8
         },
         "mode": "lines",
         "name": "Managing Discord Server Interactions with GPT-powered Bots",
         "type": "scatter",
         "x": [
          "2023-01-08T20:15:15",
          "2023-01-27T20:19:28"
         ],
         "y": [
          21,
          21
         ]
        }
       ],
       "layout": {
        "height": 1000,
        "showlegend": false,
        "template": {
         "data": {
          "bar": [
           {
            "error_x": {
             "color": "#2a3f5f"
            },
            "error_y": {
             "color": "#2a3f5f"
            },
            "marker": {
             "line": {
              "color": "#E5ECF6",
              "width": 0.5
             },
             "pattern": {
              "fillmode": "overlay",
              "size": 10,
              "solidity": 0.2
             }
            },
            "type": "bar"
           }
          ],
          "barpolar": [
           {
            "marker": {
             "line": {
              "color": "#E5ECF6",
              "width": 0.5
             },
             "pattern": {
              "fillmode": "overlay",
              "size": 10,
              "solidity": 0.2
             }
            },
            "type": "barpolar"
           }
          ],
          "carpet": [
           {
            "aaxis": {
             "endlinecolor": "#2a3f5f",
             "gridcolor": "white",
             "linecolor": "white",
             "minorgridcolor": "white",
             "startlinecolor": "#2a3f5f"
            },
            "baxis": {
             "endlinecolor": "#2a3f5f",
             "gridcolor": "white",
             "linecolor": "white",
             "minorgridcolor": "white",
             "startlinecolor": "#2a3f5f"
            },
            "type": "carpet"
           }
          ],
          "choropleth": [
           {
            "colorbar": {
             "outlinewidth": 0,
             "ticks": ""
            },
            "type": "choropleth"
           }
          ],
          "contour": [
           {
            "colorbar": {
             "outlinewidth": 0,
             "ticks": ""
            },
            "colorscale": [
             [
              0,
              "#0d0887"
             ],
             [
              0.1111111111111111,
              "#46039f"
             ],
             [
              0.2222222222222222,
              "#7201a8"
             ],
             [
              0.3333333333333333,
              "#9c179e"
             ],
             [
              0.4444444444444444,
              "#bd3786"
             ],
             [
              0.5555555555555556,
              "#d8576b"
             ],
             [
              0.6666666666666666,
              "#ed7953"
             ],
             [
              0.7777777777777778,
              "#fb9f3a"
             ],
             [
              0.8888888888888888,
              "#fdca26"
             ],
             [
              1,
              "#f0f921"
             ]
            ],
            "type": "contour"
           }
          ],
          "contourcarpet": [
           {
            "colorbar": {
             "outlinewidth": 0,
             "ticks": ""
            },
            "type": "contourcarpet"
           }
          ],
          "heatmap": [
           {
            "colorbar": {
             "outlinewidth": 0,
             "ticks": ""
            },
            "colorscale": [
             [
              0,
              "#0d0887"
             ],
             [
              0.1111111111111111,
              "#46039f"
             ],
             [
              0.2222222222222222,
              "#7201a8"
             ],
             [
              0.3333333333333333,
              "#9c179e"
             ],
             [
              0.4444444444444444,
              "#bd3786"
             ],
             [
              0.5555555555555556,
              "#d8576b"
             ],
             [
              0.6666666666666666,
              "#ed7953"
             ],
             [
              0.7777777777777778,
              "#fb9f3a"
             ],
             [
              0.8888888888888888,
              "#fdca26"
             ],
             [
              1,
              "#f0f921"
             ]
            ],
            "type": "heatmap"
           }
          ],
          "heatmapgl": [
           {
            "colorbar": {
             "outlinewidth": 0,
             "ticks": ""
            },
            "colorscale": [
             [
              0,
              "#0d0887"
             ],
             [
              0.1111111111111111,
              "#46039f"
             ],
             [
              0.2222222222222222,
              "#7201a8"
             ],
             [
              0.3333333333333333,
              "#9c179e"
             ],
             [
              0.4444444444444444,
              "#bd3786"
             ],
             [
              0.5555555555555556,
              "#d8576b"
             ],
             [
              0.6666666666666666,
              "#ed7953"
             ],
             [
              0.7777777777777778,
              "#fb9f3a"
             ],
             [
              0.8888888888888888,
              "#fdca26"
             ],
             [
              1,
              "#f0f921"
             ]
            ],
            "type": "heatmapgl"
           }
          ],
          "histogram": [
           {
            "marker": {
             "pattern": {
              "fillmode": "overlay",
              "size": 10,
              "solidity": 0.2
             }
            },
            "type": "histogram"
           }
          ],
          "histogram2d": [
           {
            "colorbar": {
             "outlinewidth": 0,
             "ticks": ""
            },
            "colorscale": [
             [
              0,
              "#0d0887"
             ],
             [
              0.1111111111111111,
              "#46039f"
             ],
             [
              0.2222222222222222,
              "#7201a8"
             ],
             [
              0.3333333333333333,
              "#9c179e"
             ],
             [
              0.4444444444444444,
              "#bd3786"
             ],
             [
              0.5555555555555556,
              "#d8576b"
             ],
             [
              0.6666666666666666,
              "#ed7953"
             ],
             [
              0.7777777777777778,
              "#fb9f3a"
             ],
             [
              0.8888888888888888,
              "#fdca26"
             ],
             [
              1,
              "#f0f921"
             ]
            ],
            "type": "histogram2d"
           }
          ],
          "histogram2dcontour": [
           {
            "colorbar": {
             "outlinewidth": 0,
             "ticks": ""
            },
            "colorscale": [
             [
              0,
              "#0d0887"
             ],
             [
              0.1111111111111111,
              "#46039f"
             ],
             [
              0.2222222222222222,
              "#7201a8"
             ],
             [
              0.3333333333333333,
              "#9c179e"
             ],
             [
              0.4444444444444444,
              "#bd3786"
             ],
             [
              0.5555555555555556,
              "#d8576b"
             ],
             [
              0.6666666666666666,
              "#ed7953"
             ],
             [
              0.7777777777777778,
              "#fb9f3a"
             ],
             [
              0.8888888888888888,
              "#fdca26"
             ],
             [
              1,
              "#f0f921"
             ]
            ],
            "type": "histogram2dcontour"
           }
          ],
          "mesh3d": [
           {
            "colorbar": {
             "outlinewidth": 0,
             "ticks": ""
            },
            "type": "mesh3d"
           }
          ],
          "parcoords": [
           {
            "line": {
             "colorbar": {
              "outlinewidth": 0,
              "ticks": ""
             }
            },
            "type": "parcoords"
           }
          ],
          "pie": [
           {
            "automargin": true,
            "type": "pie"
           }
          ],
          "scatter": [
           {
            "fillpattern": {
             "fillmode": "overlay",
             "size": 10,
             "solidity": 0.2
            },
            "type": "scatter"
           }
          ],
          "scatter3d": [
           {
            "line": {
             "colorbar": {
              "outlinewidth": 0,
              "ticks": ""
             }
            },
            "marker": {
             "colorbar": {
              "outlinewidth": 0,
              "ticks": ""
             }
            },
            "type": "scatter3d"
           }
          ],
          "scattercarpet": [
           {
            "marker": {
             "colorbar": {
              "outlinewidth": 0,
              "ticks": ""
             }
            },
            "type": "scattercarpet"
           }
          ],
          "scattergeo": [
           {
            "marker": {
             "colorbar": {
              "outlinewidth": 0,
              "ticks": ""
             }
            },
            "type": "scattergeo"
           }
          ],
          "scattergl": [
           {
            "marker": {
             "colorbar": {
              "outlinewidth": 0,
              "ticks": ""
             }
            },
            "type": "scattergl"
           }
          ],
          "scattermapbox": [
           {
            "marker": {
             "colorbar": {
              "outlinewidth": 0,
              "ticks": ""
             }
            },
            "type": "scattermapbox"
           }
          ],
          "scatterpolar": [
           {
            "marker": {
             "colorbar": {
              "outlinewidth": 0,
              "ticks": ""
             }
            },
            "type": "scatterpolar"
           }
          ],
          "scatterpolargl": [
           {
            "marker": {
             "colorbar": {
              "outlinewidth": 0,
              "ticks": ""
             }
            },
            "type": "scatterpolargl"
           }
          ],
          "scatterternary": [
           {
            "marker": {
             "colorbar": {
              "outlinewidth": 0,
              "ticks": ""
             }
            },
            "type": "scatterternary"
           }
          ],
          "surface": [
           {
            "colorbar": {
             "outlinewidth": 0,
             "ticks": ""
            },
            "colorscale": [
             [
              0,
              "#0d0887"
             ],
             [
              0.1111111111111111,
              "#46039f"
             ],
             [
              0.2222222222222222,
              "#7201a8"
             ],
             [
              0.3333333333333333,
              "#9c179e"
             ],
             [
              0.4444444444444444,
              "#bd3786"
             ],
             [
              0.5555555555555556,
              "#d8576b"
             ],
             [
              0.6666666666666666,
              "#ed7953"
             ],
             [
              0.7777777777777778,
              "#fb9f3a"
             ],
             [
              0.8888888888888888,
              "#fdca26"
             ],
             [
              1,
              "#f0f921"
             ]
            ],
            "type": "surface"
           }
          ],
          "table": [
           {
            "cells": {
             "fill": {
              "color": "#EBF0F8"
             },
             "line": {
              "color": "white"
             }
            },
            "header": {
             "fill": {
              "color": "#C8D4E3"
             },
             "line": {
              "color": "white"
             }
            },
            "type": "table"
           }
          ]
         },
         "layout": {
          "annotationdefaults": {
           "arrowcolor": "#2a3f5f",
           "arrowhead": 0,
           "arrowwidth": 1
          },
          "autotypenumbers": "strict",
          "coloraxis": {
           "colorbar": {
            "outlinewidth": 0,
            "ticks": ""
           }
          },
          "colorscale": {
           "diverging": [
            [
             0,
             "#8e0152"
            ],
            [
             0.1,
             "#c51b7d"
            ],
            [
             0.2,
             "#de77ae"
            ],
            [
             0.3,
             "#f1b6da"
            ],
            [
             0.4,
             "#fde0ef"
            ],
            [
             0.5,
             "#f7f7f7"
            ],
            [
             0.6,
             "#e6f5d0"
            ],
            [
             0.7,
             "#b8e186"
            ],
            [
             0.8,
             "#7fbc41"
            ],
            [
             0.9,
             "#4d9221"
            ],
            [
             1,
             "#276419"
            ]
           ],
           "sequential": [
            [
             0,
             "#0d0887"
            ],
            [
             0.1111111111111111,
             "#46039f"
            ],
            [
             0.2222222222222222,
             "#7201a8"
            ],
            [
             0.3333333333333333,
             "#9c179e"
            ],
            [
             0.4444444444444444,
             "#bd3786"
            ],
            [
             0.5555555555555556,
             "#d8576b"
            ],
            [
             0.6666666666666666,
             "#ed7953"
            ],
            [
             0.7777777777777778,
             "#fb9f3a"
            ],
            [
             0.8888888888888888,
             "#fdca26"
            ],
            [
             1,
             "#f0f921"
            ]
           ],
           "sequentialminus": [
            [
             0,
             "#0d0887"
            ],
            [
             0.1111111111111111,
             "#46039f"
            ],
            [
             0.2222222222222222,
             "#7201a8"
            ],
            [
             0.3333333333333333,
             "#9c179e"
            ],
            [
             0.4444444444444444,
             "#bd3786"
            ],
            [
             0.5555555555555556,
             "#d8576b"
            ],
            [
             0.6666666666666666,
             "#ed7953"
            ],
            [
             0.7777777777777778,
             "#fb9f3a"
            ],
            [
             0.8888888888888888,
             "#fdca26"
            ],
            [
             1,
             "#f0f921"
            ]
           ]
          },
          "colorway": [
           "#636efa",
           "#EF553B",
           "#00cc96",
           "#ab63fa",
           "#FFA15A",
           "#19d3f3",
           "#FF6692",
           "#B6E880",
           "#FF97FF",
           "#FECB52"
          ],
          "font": {
           "color": "#2a3f5f"
          },
          "geo": {
           "bgcolor": "white",
           "lakecolor": "white",
           "landcolor": "#E5ECF6",
           "showlakes": true,
           "showland": true,
           "subunitcolor": "white"
          },
          "hoverlabel": {
           "align": "left"
          },
          "hovermode": "closest",
          "mapbox": {
           "style": "light"
          },
          "paper_bgcolor": "white",
          "plot_bgcolor": "#E5ECF6",
          "polar": {
           "angularaxis": {
            "gridcolor": "white",
            "linecolor": "white",
            "ticks": ""
           },
           "bgcolor": "#E5ECF6",
           "radialaxis": {
            "gridcolor": "white",
            "linecolor": "white",
            "ticks": ""
           }
          },
          "scene": {
           "xaxis": {
            "backgroundcolor": "#E5ECF6",
            "gridcolor": "white",
            "gridwidth": 2,
            "linecolor": "white",
            "showbackground": true,
            "ticks": "",
            "zerolinecolor": "white"
           },
           "yaxis": {
            "backgroundcolor": "#E5ECF6",
            "gridcolor": "white",
            "gridwidth": 2,
            "linecolor": "white",
            "showbackground": true,
            "ticks": "",
            "zerolinecolor": "white"
           },
           "zaxis": {
            "backgroundcolor": "#E5ECF6",
            "gridcolor": "white",
            "gridwidth": 2,
            "linecolor": "white",
            "showbackground": true,
            "ticks": "",
            "zerolinecolor": "white"
           }
          },
          "shapedefaults": {
           "line": {
            "color": "#2a3f5f"
           }
          },
          "ternary": {
           "aaxis": {
            "gridcolor": "white",
            "linecolor": "white",
            "ticks": ""
           },
           "baxis": {
            "gridcolor": "white",
            "linecolor": "white",
            "ticks": ""
           },
           "bgcolor": "#E5ECF6",
           "caxis": {
            "gridcolor": "white",
            "linecolor": "white",
            "ticks": ""
           }
          },
          "title": {
           "x": 0.05
          },
          "xaxis": {
           "automargin": true,
           "gridcolor": "white",
           "linecolor": "white",
           "ticks": "",
           "title": {
            "standoff": 15
           },
           "zerolinecolor": "white",
           "zerolinewidth": 2
          },
          "yaxis": {
           "automargin": true,
           "gridcolor": "white",
           "linecolor": "white",
           "ticks": "",
           "title": {
            "standoff": 15
           },
           "zerolinecolor": "white",
           "zerolinewidth": 2
          }
         }
        },
        "title": {
         "text": "Periodi di Attività per Topic"
        },
        "xaxis": {
         "title": {
          "text": "Data"
         }
        },
        "yaxis": {
         "tickfont": {
          "color": "black",
          "size": 14
         },
         "tickmode": "array",
         "ticktext": [
          "AI Chatbot Interaction and Assistance on Cloud Platforms",
          "Chatbot Interaction and Usage on Discord",
          "Dan Discussing ChatGPT Jailbreaking Ethics",
          "AI and ChatGPT in Everyday Life",
          "Reddit Karma and Account Restrictions",
          "Social Media Karma and Automated Account Moderation",
          "ChatGPT Use Cases and Discussions",
          "Obama and Trump References in AI Conversations",
          "AI Chatbot Interaction and Response automation",
          "Social Media Automated Responses and Bots Interaction",
          "AI Bots Managing Online Interactions in Chat Platforms",
          "NFT Collecting and Discord Community Interaction",
          "Bing's AI Chatbot and User Interaction",
          "Discord Server Chatbot Interaction and User Requests",
          "Spam Threshold Management in Online Communities",
          "Discord Moderation Bot Commands and User Interaction",
          "Bot Moderation in Online Comment Sections",
          "Spam Prevention and Account Karma Management",
          "Discord Server Moderation and ChatGPT Interaction",
          "Squirt: Addressing Spam and Hookup Content on Online Platforms",
          "Discord GPT Bot Moderation and User Interaction",
          "Managing Discord Server Interactions with GPT-powered Bots"
         ],
         "tickvals": [
          0,
          1,
          2,
          3,
          4,
          5,
          6,
          7,
          8,
          9,
          10,
          11,
          12,
          13,
          14,
          15,
          16,
          17,
          18,
          19,
          20,
          21
         ],
         "title": {
          "text": "Topic"
         }
        }
       }
      }
     },
     "metadata": {},
     "output_type": "display_data"
    }
   ],
   "source": [
    "fig = go.Figure()\n",
    "y_values = {topic: idx for idx, topic in enumerate(period_activity.keys())}\n",
    "\n",
    "for topic, periods in period_activity.items():\n",
    "    for start, end in periods:\n",
    "        fig.add_trace(go.Scatter(\n",
    "            x=[start, end],\n",
    "            y=[y_values[topic], y_values[topic]],\n",
    "            mode=\"lines\",\n",
    "            line=dict(color=color_map[topic],width=8),\n",
    "            name=topic\n",
    "        ))\n",
    "\n",
    "fig.update_layout(\n",
    "    title=\"Periodi di Attività per Topic\",\n",
    "    xaxis_title=\"Data\",\n",
    "    yaxis_title=\"Topic\",\n",
    "    yaxis=dict(\n",
    "        tickmode='array',\n",
    "        tickvals=list(y_values.values()),\n",
    "        ticktext=list(y_values.keys()),\n",
    "                tickfont=dict(\n",
    "            size=14,  # Aumenta la dimensione del font delle label dell'asse Y\n",
    "            color='black'  # Opzionale: cambia il colore del font (esempio)\n",
    "        )\n",
    "    ),\n",
    "    \n",
    "    showlegend=False,  # Nasconde la leggenda\n",
    "    height=1000\n",
    ")\n",
    "\n",
    "# Mostra il grafico\n",
    "fig.show()"
   ]
  },
  {
   "cell_type": "code",
   "execution_count": 15,
   "metadata": {},
   "outputs": [],
   "source": [
    "count_series['period_Activity'] = count_series['topic'].map(period_activity)"
   ]
  },
  {
   "cell_type": "code",
   "execution_count": 16,
   "metadata": {},
   "outputs": [],
   "source": [
    "percentage_days_activity_per_topic = {}\n",
    "for topic in topics:\n",
    "    n_days_activity = 0\n",
    "    for start,end in period_activity[topic]:\n",
    "        if start.date()!= end.date():\n",
    "            n_days_activity += (end.date()-start.date()).days\n",
    "        else:\n",
    "            n_days_activity += 1\n",
    "    percentage_days_activity_per_topic[topic] = str(round(n_days_activity/len(day_intervals)*100)) + \"_%\"\n",
    "count_series['percentage_Activity'] = count_series['topic'].map(percentage_days_activity_per_topic)"
   ]
  },
  {
   "cell_type": "code",
   "execution_count": null,
   "metadata": {},
   "outputs": [],
   "source": []
  },
  {
   "cell_type": "code",
   "execution_count": 17,
   "metadata": {},
   "outputs": [
    {
     "data": {
      "application/vnd.plotly.v1+json": {
       "config": {
        "plotlyServerURL": "https://plot.ly"
       },
       "data": [
        {
         "line": {
          "color": "rgb(255, 255, 0)",
          "width": 8
         },
         "mode": "lines",
         "name": "Managing Discord Server Interactions with GPT-powered Bots",
         "type": "scatter",
         "x": [
          "2022-12-02T14:26:01",
          "2023-04-30T21:08:43"
         ],
         "y": [
          0,
          0
         ]
        },
        {
         "line": {
          "color": "rgb(0, 255, 0)",
          "width": 8
         },
         "mode": "lines",
         "name": "Managing Discord Server Interactions with GPT-powered Bots",
         "type": "scatter",
         "x": [
          "2022-12-02T19:23:24",
          "2023-04-30T21:08:43"
         ],
         "y": [
          1,
          1
         ]
        },
        {
         "line": {
          "color": "rgb(220, 20, 60)",
          "width": 8
         },
         "mode": "lines",
         "name": "Managing Discord Server Interactions with GPT-powered Bots",
         "type": "scatter",
         "x": [
          "2022-12-04T23:33:58",
          "2022-12-05T20:19:28"
         ],
         "y": [
          2,
          2
         ]
        },
        {
         "line": {
          "color": "rgb(220, 20, 60)",
          "width": 8
         },
         "mode": "lines",
         "name": "Managing Discord Server Interactions with GPT-powered Bots",
         "type": "scatter",
         "x": [
          "2022-12-07T03:35:19",
          "2022-12-07T20:19:28"
         ],
         "y": [
          2,
          2
         ]
        },
        {
         "line": {
          "color": "rgb(220, 20, 60)",
          "width": 8
         },
         "mode": "lines",
         "name": "Managing Discord Server Interactions with GPT-powered Bots",
         "type": "scatter",
         "x": [
          "2022-12-10T19:18:11",
          "2022-12-10T20:19:28"
         ],
         "y": [
          2,
          2
         ]
        },
        {
         "line": {
          "color": "rgb(220, 20, 60)",
          "width": 8
         },
         "mode": "lines",
         "name": "Managing Discord Server Interactions with GPT-powered Bots",
         "type": "scatter",
         "x": [
          "2022-12-12T00:47:52",
          "2022-12-16T20:19:28"
         ],
         "y": [
          2,
          2
         ]
        },
        {
         "line": {
          "color": "rgb(220, 20, 60)",
          "width": 8
         },
         "mode": "lines",
         "name": "Managing Discord Server Interactions with GPT-powered Bots",
         "type": "scatter",
         "x": [
          "2022-12-17T22:10:54",
          "2023-02-26T20:19:28"
         ],
         "y": [
          2,
          2
         ]
        },
        {
         "line": {
          "color": "rgb(220, 20, 60)",
          "width": 8
         },
         "mode": "lines",
         "name": "Managing Discord Server Interactions with GPT-powered Bots",
         "type": "scatter",
         "x": [
          "2023-02-28T02:37:49",
          "2023-03-01T20:19:28"
         ],
         "y": [
          2,
          2
         ]
        },
        {
         "line": {
          "color": "rgb(220, 20, 60)",
          "width": 8
         },
         "mode": "lines",
         "name": "Managing Discord Server Interactions with GPT-powered Bots",
         "type": "scatter",
         "x": [
          "2023-03-03T13:56:07",
          "2023-03-07T20:19:28"
         ],
         "y": [
          2,
          2
         ]
        },
        {
         "line": {
          "color": "rgb(220, 20, 60)",
          "width": 8
         },
         "mode": "lines",
         "name": "Managing Discord Server Interactions with GPT-powered Bots",
         "type": "scatter",
         "x": [
          "2023-03-10T01:01:15",
          "2023-03-10T20:19:28"
         ],
         "y": [
          2,
          2
         ]
        },
        {
         "line": {
          "color": "rgb(220, 20, 60)",
          "width": 8
         },
         "mode": "lines",
         "name": "Managing Discord Server Interactions with GPT-powered Bots",
         "type": "scatter",
         "x": [
          "2023-03-11T20:35:57",
          "2023-03-13T20:19:28"
         ],
         "y": [
          2,
          2
         ]
        },
        {
         "line": {
          "color": "rgb(220, 20, 60)",
          "width": 8
         },
         "mode": "lines",
         "name": "Managing Discord Server Interactions with GPT-powered Bots",
         "type": "scatter",
         "x": [
          "2023-03-15T07:51:22",
          "2023-03-16T20:19:28"
         ],
         "y": [
          2,
          2
         ]
        },
        {
         "line": {
          "color": "rgb(220, 20, 60)",
          "width": 8
         },
         "mode": "lines",
         "name": "Managing Discord Server Interactions with GPT-powered Bots",
         "type": "scatter",
         "x": [
          "2023-03-20T17:37:52",
          "2023-03-20T20:19:28"
         ],
         "y": [
          2,
          2
         ]
        },
        {
         "line": {
          "color": "rgb(220, 20, 60)",
          "width": 8
         },
         "mode": "lines",
         "name": "Managing Discord Server Interactions with GPT-powered Bots",
         "type": "scatter",
         "x": [
          "2023-03-23T18:06:40",
          "2023-03-23T20:19:28"
         ],
         "y": [
          2,
          2
         ]
        },
        {
         "line": {
          "color": "rgb(220, 20, 60)",
          "width": 8
         },
         "mode": "lines",
         "name": "Managing Discord Server Interactions with GPT-powered Bots",
         "type": "scatter",
         "x": [
          "2023-03-27T04:01:05",
          "2023-03-27T20:19:28"
         ],
         "y": [
          2,
          2
         ]
        },
        {
         "line": {
          "color": "rgb(220, 20, 60)",
          "width": 8
         },
         "mode": "lines",
         "name": "Managing Discord Server Interactions with GPT-powered Bots",
         "type": "scatter",
         "x": [
          "2023-03-30T18:26:32",
          "2023-03-31T20:19:28"
         ],
         "y": [
          2,
          2
         ]
        },
        {
         "line": {
          "color": "rgb(220, 20, 60)",
          "width": 8
         },
         "mode": "lines",
         "name": "Managing Discord Server Interactions with GPT-powered Bots",
         "type": "scatter",
         "x": [
          "2023-04-02T15:58:22",
          "2023-04-02T20:19:28"
         ],
         "y": [
          2,
          2
         ]
        },
        {
         "line": {
          "color": "rgb(220, 20, 60)",
          "width": 8
         },
         "mode": "lines",
         "name": "Managing Discord Server Interactions with GPT-powered Bots",
         "type": "scatter",
         "x": [
          "2023-04-04T11:37:10",
          "2023-04-04T20:19:28"
         ],
         "y": [
          2,
          2
         ]
        },
        {
         "line": {
          "color": "rgb(220, 20, 60)",
          "width": 8
         },
         "mode": "lines",
         "name": "Managing Discord Server Interactions with GPT-powered Bots",
         "type": "scatter",
         "x": [
          "2023-04-06T04:20:45",
          "2023-04-06T20:19:28"
         ],
         "y": [
          2,
          2
         ]
        },
        {
         "line": {
          "color": "rgb(220, 20, 60)",
          "width": 8
         },
         "mode": "lines",
         "name": "Managing Discord Server Interactions with GPT-powered Bots",
         "type": "scatter",
         "x": [
          "2023-04-08T09:49:24",
          "2023-04-09T20:19:28"
         ],
         "y": [
          2,
          2
         ]
        },
        {
         "line": {
          "color": "rgb(220, 20, 60)",
          "width": 8
         },
         "mode": "lines",
         "name": "Managing Discord Server Interactions with GPT-powered Bots",
         "type": "scatter",
         "x": [
          "2023-04-11T01:22:12",
          "2023-04-11T20:19:28"
         ],
         "y": [
          2,
          2
         ]
        },
        {
         "line": {
          "color": "rgb(220, 20, 60)",
          "width": 8
         },
         "mode": "lines",
         "name": "Managing Discord Server Interactions with GPT-powered Bots",
         "type": "scatter",
         "x": [
          "2023-04-16T11:48:01",
          "2023-04-16T20:19:28"
         ],
         "y": [
          2,
          2
         ]
        },
        {
         "line": {
          "color": "rgb(220, 20, 60)",
          "width": 8
         },
         "mode": "lines",
         "name": "Managing Discord Server Interactions with GPT-powered Bots",
         "type": "scatter",
         "x": [
          "2023-04-19T19:22:19",
          "2023-04-20T20:19:28"
         ],
         "y": [
          2,
          2
         ]
        },
        {
         "line": {
          "color": "rgb(220, 20, 60)",
          "width": 8
         },
         "mode": "lines",
         "name": "Managing Discord Server Interactions with GPT-powered Bots",
         "type": "scatter",
         "x": [
          "2023-04-22T14:48:26",
          "2023-04-22T20:19:28"
         ],
         "y": [
          2,
          2
         ]
        },
        {
         "line": {
          "color": "rgb(220, 20, 60)",
          "width": 8
         },
         "mode": "lines",
         "name": "Managing Discord Server Interactions with GPT-powered Bots",
         "type": "scatter",
         "x": [
          "2023-04-25T00:48:42",
          "2023-04-25T20:19:28"
         ],
         "y": [
          2,
          2
         ]
        },
        {
         "line": {
          "color": "rgb(220, 20, 60)",
          "width": 8
         },
         "mode": "lines",
         "name": "Managing Discord Server Interactions with GPT-powered Bots",
         "type": "scatter",
         "x": [
          "2023-04-26T21:56:38",
          "2023-04-30T20:19:28"
         ],
         "y": [
          2,
          2
         ]
        },
        {
         "line": {
          "color": "rgb(0, 128, 0)",
          "width": 8
         },
         "mode": "lines",
         "name": "Managing Discord Server Interactions with GPT-powered Bots",
         "type": "scatter",
         "x": [
          "2022-12-02T14:18:59",
          "2023-04-30T21:08:43"
         ],
         "y": [
          3,
          3
         ]
        },
        {
         "line": {
          "color": "rgb(255, 69, 0)",
          "width": 8
         },
         "mode": "lines",
         "name": "Managing Discord Server Interactions with GPT-powered Bots",
         "type": "scatter",
         "x": [
          "2022-12-08T11:44:33",
          "2022-12-09T20:19:28"
         ],
         "y": [
          4,
          4
         ]
        },
        {
         "line": {
          "color": "rgb(255, 69, 0)",
          "width": 8
         },
         "mode": "lines",
         "name": "Managing Discord Server Interactions with GPT-powered Bots",
         "type": "scatter",
         "x": [
          "2022-12-10T23:37:07",
          "2022-12-12T20:19:28"
         ],
         "y": [
          4,
          4
         ]
        },
        {
         "line": {
          "color": "rgb(255, 69, 0)",
          "width": 8
         },
         "mode": "lines",
         "name": "Managing Discord Server Interactions with GPT-powered Bots",
         "type": "scatter",
         "x": [
          "2022-12-13T22:55:37",
          "2022-12-14T20:19:28"
         ],
         "y": [
          4,
          4
         ]
        },
        {
         "line": {
          "color": "rgb(255, 69, 0)",
          "width": 8
         },
         "mode": "lines",
         "name": "Managing Discord Server Interactions with GPT-powered Bots",
         "type": "scatter",
         "x": [
          "2022-12-19T21:03:58",
          "2022-12-20T20:19:28"
         ],
         "y": [
          4,
          4
         ]
        },
        {
         "line": {
          "color": "rgb(255, 69, 0)",
          "width": 8
         },
         "mode": "lines",
         "name": "Managing Discord Server Interactions with GPT-powered Bots",
         "type": "scatter",
         "x": [
          "2022-12-23T08:40:21",
          "2022-12-23T20:19:28"
         ],
         "y": [
          4,
          4
         ]
        },
        {
         "line": {
          "color": "rgb(255, 69, 0)",
          "width": 8
         },
         "mode": "lines",
         "name": "Managing Discord Server Interactions with GPT-powered Bots",
         "type": "scatter",
         "x": [
          "2022-12-26T23:05:13",
          "2022-12-27T20:19:28"
         ],
         "y": [
          4,
          4
         ]
        },
        {
         "line": {
          "color": "rgb(255, 69, 0)",
          "width": 8
         },
         "mode": "lines",
         "name": "Managing Discord Server Interactions with GPT-powered Bots",
         "type": "scatter",
         "x": [
          "2022-12-29T01:13:15",
          "2022-12-29T20:19:28"
         ],
         "y": [
          4,
          4
         ]
        },
        {
         "line": {
          "color": "rgb(255, 69, 0)",
          "width": 8
         },
         "mode": "lines",
         "name": "Managing Discord Server Interactions with GPT-powered Bots",
         "type": "scatter",
         "x": [
          "2023-01-09T10:24:10",
          "2023-01-10T20:19:28"
         ],
         "y": [
          4,
          4
         ]
        },
        {
         "line": {
          "color": "rgb(255, 69, 0)",
          "width": 8
         },
         "mode": "lines",
         "name": "Managing Discord Server Interactions with GPT-powered Bots",
         "type": "scatter",
         "x": [
          "2023-01-12T04:43:01",
          "2023-01-12T20:19:28"
         ],
         "y": [
          4,
          4
         ]
        },
        {
         "line": {
          "color": "rgb(255, 69, 0)",
          "width": 8
         },
         "mode": "lines",
         "name": "Managing Discord Server Interactions with GPT-powered Bots",
         "type": "scatter",
         "x": [
          "2023-01-26T15:38:08",
          "2023-01-27T20:19:28"
         ],
         "y": [
          4,
          4
         ]
        },
        {
         "line": {
          "color": "rgb(255, 69, 0)",
          "width": 8
         },
         "mode": "lines",
         "name": "Managing Discord Server Interactions with GPT-powered Bots",
         "type": "scatter",
         "x": [
          "2023-02-01T05:41:04",
          "2023-02-02T20:19:28"
         ],
         "y": [
          4,
          4
         ]
        },
        {
         "line": {
          "color": "rgb(255, 69, 0)",
          "width": 8
         },
         "mode": "lines",
         "name": "Managing Discord Server Interactions with GPT-powered Bots",
         "type": "scatter",
         "x": [
          "2023-02-12T19:48:16",
          "2023-02-13T20:19:28"
         ],
         "y": [
          4,
          4
         ]
        },
        {
         "line": {
          "color": "rgb(255, 69, 0)",
          "width": 8
         },
         "mode": "lines",
         "name": "Managing Discord Server Interactions with GPT-powered Bots",
         "type": "scatter",
         "x": [
          "2023-02-25T12:33:33",
          "2023-02-28T20:19:28"
         ],
         "y": [
          4,
          4
         ]
        },
        {
         "line": {
          "color": "rgb(255, 69, 0)",
          "width": 8
         },
         "mode": "lines",
         "name": "Managing Discord Server Interactions with GPT-powered Bots",
         "type": "scatter",
         "x": [
          "2023-03-02T20:18:53",
          "2023-03-31T20:19:28"
         ],
         "y": [
          4,
          4
         ]
        },
        {
         "line": {
          "color": "rgb(255, 69, 0)",
          "width": 8
         },
         "mode": "lines",
         "name": "Managing Discord Server Interactions with GPT-powered Bots",
         "type": "scatter",
         "x": [
          "2023-04-05T01:28:32",
          "2023-04-06T20:19:28"
         ],
         "y": [
          4,
          4
         ]
        },
        {
         "line": {
          "color": "rgb(255, 69, 0)",
          "width": 8
         },
         "mode": "lines",
         "name": "Managing Discord Server Interactions with GPT-powered Bots",
         "type": "scatter",
         "x": [
          "2023-04-10T15:19:16",
          "2023-04-16T20:19:28"
         ],
         "y": [
          4,
          4
         ]
        },
        {
         "line": {
          "color": "rgb(255, 69, 0)",
          "width": 8
         },
         "mode": "lines",
         "name": "Managing Discord Server Interactions with GPT-powered Bots",
         "type": "scatter",
         "x": [
          "2023-04-19T09:13:22",
          "2023-04-19T20:19:28"
         ],
         "y": [
          4,
          4
         ]
        },
        {
         "line": {
          "color": "rgb(255, 69, 0)",
          "width": 8
         },
         "mode": "lines",
         "name": "Managing Discord Server Interactions with GPT-powered Bots",
         "type": "scatter",
         "x": [
          "2023-04-25T01:36:51",
          "2023-04-25T20:19:28"
         ],
         "y": [
          4,
          4
         ]
        },
        {
         "line": {
          "color": "rgb(0, 128, 128)",
          "width": 8
         },
         "mode": "lines",
         "name": "Managing Discord Server Interactions with GPT-powered Bots",
         "type": "scatter",
         "x": [
          "2022-12-04T07:09:43",
          "2022-12-05T20:19:28"
         ],
         "y": [
          5,
          5
         ]
        },
        {
         "line": {
          "color": "rgb(0, 128, 128)",
          "width": 8
         },
         "mode": "lines",
         "name": "Managing Discord Server Interactions with GPT-powered Bots",
         "type": "scatter",
         "x": [
          "2022-12-08T05:42:43",
          "2022-12-08T20:19:28"
         ],
         "y": [
          5,
          5
         ]
        },
        {
         "line": {
          "color": "rgb(0, 128, 128)",
          "width": 8
         },
         "mode": "lines",
         "name": "Managing Discord Server Interactions with GPT-powered Bots",
         "type": "scatter",
         "x": [
          "2022-12-10T06:50:28",
          "2022-12-11T20:19:28"
         ],
         "y": [
          5,
          5
         ]
        },
        {
         "line": {
          "color": "rgb(0, 128, 128)",
          "width": 8
         },
         "mode": "lines",
         "name": "Managing Discord Server Interactions with GPT-powered Bots",
         "type": "scatter",
         "x": [
          "2022-12-13T18:34:06",
          "2022-12-13T20:19:28"
         ],
         "y": [
          5,
          5
         ]
        },
        {
         "line": {
          "color": "rgb(0, 128, 128)",
          "width": 8
         },
         "mode": "lines",
         "name": "Managing Discord Server Interactions with GPT-powered Bots",
         "type": "scatter",
         "x": [
          "2022-12-15T19:24:25",
          "2022-12-16T20:19:28"
         ],
         "y": [
          5,
          5
         ]
        },
        {
         "line": {
          "color": "rgb(0, 128, 128)",
          "width": 8
         },
         "mode": "lines",
         "name": "Managing Discord Server Interactions with GPT-powered Bots",
         "type": "scatter",
         "x": [
          "2022-12-18T19:36:28",
          "2022-12-19T20:19:28"
         ],
         "y": [
          5,
          5
         ]
        },
        {
         "line": {
          "color": "rgb(0, 128, 128)",
          "width": 8
         },
         "mode": "lines",
         "name": "Managing Discord Server Interactions with GPT-powered Bots",
         "type": "scatter",
         "x": [
          "2022-12-22T17:12:38",
          "2022-12-22T20:19:28"
         ],
         "y": [
          5,
          5
         ]
        },
        {
         "line": {
          "color": "rgb(0, 128, 128)",
          "width": 8
         },
         "mode": "lines",
         "name": "Managing Discord Server Interactions with GPT-powered Bots",
         "type": "scatter",
         "x": [
          "2022-12-24T14:49:56",
          "2022-12-24T20:19:28"
         ],
         "y": [
          5,
          5
         ]
        },
        {
         "line": {
          "color": "rgb(0, 128, 128)",
          "width": 8
         },
         "mode": "lines",
         "name": "Managing Discord Server Interactions with GPT-powered Bots",
         "type": "scatter",
         "x": [
          "2022-12-26T16:17:00",
          "2022-12-28T20:19:28"
         ],
         "y": [
          5,
          5
         ]
        },
        {
         "line": {
          "color": "rgb(0, 128, 128)",
          "width": 8
         },
         "mode": "lines",
         "name": "Managing Discord Server Interactions with GPT-powered Bots",
         "type": "scatter",
         "x": [
          "2022-12-30T17:45:23",
          "2023-01-08T20:19:28"
         ],
         "y": [
          5,
          5
         ]
        },
        {
         "line": {
          "color": "rgb(0, 128, 128)",
          "width": 8
         },
         "mode": "lines",
         "name": "Managing Discord Server Interactions with GPT-powered Bots",
         "type": "scatter",
         "x": [
          "2023-01-10T12:23:33",
          "2023-01-11T20:19:28"
         ],
         "y": [
          5,
          5
         ]
        },
        {
         "line": {
          "color": "rgb(0, 128, 128)",
          "width": 8
         },
         "mode": "lines",
         "name": "Managing Discord Server Interactions with GPT-powered Bots",
         "type": "scatter",
         "x": [
          "2023-01-16T16:51:40",
          "2023-01-17T20:19:28"
         ],
         "y": [
          5,
          5
         ]
        },
        {
         "line": {
          "color": "rgb(0, 128, 128)",
          "width": 8
         },
         "mode": "lines",
         "name": "Managing Discord Server Interactions with GPT-powered Bots",
         "type": "scatter",
         "x": [
          "2023-01-19T17:12:53",
          "2023-01-19T20:19:28"
         ],
         "y": [
          5,
          5
         ]
        },
        {
         "line": {
          "color": "rgb(0, 128, 128)",
          "width": 8
         },
         "mode": "lines",
         "name": "Managing Discord Server Interactions with GPT-powered Bots",
         "type": "scatter",
         "x": [
          "2023-01-21T08:17:45",
          "2023-01-23T20:19:28"
         ],
         "y": [
          5,
          5
         ]
        },
        {
         "line": {
          "color": "rgb(0, 128, 128)",
          "width": 8
         },
         "mode": "lines",
         "name": "Managing Discord Server Interactions with GPT-powered Bots",
         "type": "scatter",
         "x": [
          "2023-01-24T20:45:02",
          "2023-01-26T20:19:28"
         ],
         "y": [
          5,
          5
         ]
        },
        {
         "line": {
          "color": "rgb(0, 128, 128)",
          "width": 8
         },
         "mode": "lines",
         "name": "Managing Discord Server Interactions with GPT-powered Bots",
         "type": "scatter",
         "x": [
          "2023-01-28T19:21:58",
          "2023-01-28T20:19:28"
         ],
         "y": [
          5,
          5
         ]
        },
        {
         "line": {
          "color": "rgb(0, 128, 128)",
          "width": 8
         },
         "mode": "lines",
         "name": "Managing Discord Server Interactions with GPT-powered Bots",
         "type": "scatter",
         "x": [
          "2023-02-02T11:09:09",
          "2023-02-02T20:19:28"
         ],
         "y": [
          5,
          5
         ]
        },
        {
         "line": {
          "color": "rgb(0, 128, 128)",
          "width": 8
         },
         "mode": "lines",
         "name": "Managing Discord Server Interactions with GPT-powered Bots",
         "type": "scatter",
         "x": [
          "2023-02-04T12:51:44",
          "2023-02-05T20:19:28"
         ],
         "y": [
          5,
          5
         ]
        },
        {
         "line": {
          "color": "rgb(0, 128, 128)",
          "width": 8
         },
         "mode": "lines",
         "name": "Managing Discord Server Interactions with GPT-powered Bots",
         "type": "scatter",
         "x": [
          "2023-02-11T22:58:10",
          "2023-02-12T20:19:28"
         ],
         "y": [
          5,
          5
         ]
        },
        {
         "line": {
          "color": "rgb(0, 128, 128)",
          "width": 8
         },
         "mode": "lines",
         "name": "Managing Discord Server Interactions with GPT-powered Bots",
         "type": "scatter",
         "x": [
          "2023-02-25T18:06:17",
          "2023-02-25T20:19:28"
         ],
         "y": [
          5,
          5
         ]
        },
        {
         "line": {
          "color": "rgb(0, 128, 128)",
          "width": 8
         },
         "mode": "lines",
         "name": "Managing Discord Server Interactions with GPT-powered Bots",
         "type": "scatter",
         "x": [
          "2023-03-03T19:06:07",
          "2023-03-04T20:19:28"
         ],
         "y": [
          5,
          5
         ]
        },
        {
         "line": {
          "color": "rgb(0, 128, 128)",
          "width": 8
         },
         "mode": "lines",
         "name": "Managing Discord Server Interactions with GPT-powered Bots",
         "type": "scatter",
         "x": [
          "2023-03-06T16:37:11",
          "2023-04-16T20:19:28"
         ],
         "y": [
          5,
          5
         ]
        },
        {
         "line": {
          "color": "rgb(0, 128, 128)",
          "width": 8
         },
         "mode": "lines",
         "name": "Managing Discord Server Interactions with GPT-powered Bots",
         "type": "scatter",
         "x": [
          "2023-04-18T18:50:15",
          "2023-04-18T20:19:28"
         ],
         "y": [
          5,
          5
         ]
        },
        {
         "line": {
          "color": "rgb(0, 128, 128)",
          "width": 8
         },
         "mode": "lines",
         "name": "Managing Discord Server Interactions with GPT-powered Bots",
         "type": "scatter",
         "x": [
          "2023-04-20T19:24:14",
          "2023-04-22T20:19:28"
         ],
         "y": [
          5,
          5
         ]
        },
        {
         "line": {
          "color": "rgb(0, 128, 128)",
          "width": 8
         },
         "mode": "lines",
         "name": "Managing Discord Server Interactions with GPT-powered Bots",
         "type": "scatter",
         "x": [
          "2023-04-24T14:38:56",
          "2023-04-30T21:08:43"
         ],
         "y": [
          5,
          5
         ]
        },
        {
         "line": {
          "color": "rgb(240, 230, 140)",
          "width": 8
         },
         "mode": "lines",
         "name": "Managing Discord Server Interactions with GPT-powered Bots",
         "type": "scatter",
         "x": [
          "2022-12-10T17:37:07",
          "2022-12-10T20:19:28"
         ],
         "y": [
          6,
          6
         ]
        },
        {
         "line": {
          "color": "rgb(240, 230, 140)",
          "width": 8
         },
         "mode": "lines",
         "name": "Managing Discord Server Interactions with GPT-powered Bots",
         "type": "scatter",
         "x": [
          "2022-12-19T19:42:45",
          "2023-02-26T20:19:28"
         ],
         "y": [
          6,
          6
         ]
        },
        {
         "line": {
          "color": "rgb(240, 230, 140)",
          "width": 8
         },
         "mode": "lines",
         "name": "Managing Discord Server Interactions with GPT-powered Bots",
         "type": "scatter",
         "x": [
          "2023-03-07T23:30:09",
          "2023-03-08T20:19:28"
         ],
         "y": [
          6,
          6
         ]
        },
        {
         "line": {
          "color": "rgb(240, 230, 140)",
          "width": 8
         },
         "mode": "lines",
         "name": "Managing Discord Server Interactions with GPT-powered Bots",
         "type": "scatter",
         "x": [
          "2023-03-19T12:25:24",
          "2023-03-19T20:19:28"
         ],
         "y": [
          6,
          6
         ]
        },
        {
         "line": {
          "color": "rgb(255, 0, 0)",
          "width": 8
         },
         "mode": "lines",
         "name": "Managing Discord Server Interactions with GPT-powered Bots",
         "type": "scatter",
         "x": [
          "2022-12-05T04:44:15",
          "2022-12-05T20:19:28"
         ],
         "y": [
          7,
          7
         ]
        },
        {
         "line": {
          "color": "rgb(255, 0, 0)",
          "width": 8
         },
         "mode": "lines",
         "name": "Managing Discord Server Interactions with GPT-powered Bots",
         "type": "scatter",
         "x": [
          "2022-12-08T13:09:49",
          "2022-12-14T20:19:28"
         ],
         "y": [
          7,
          7
         ]
        },
        {
         "line": {
          "color": "rgb(255, 0, 0)",
          "width": 8
         },
         "mode": "lines",
         "name": "Managing Discord Server Interactions with GPT-powered Bots",
         "type": "scatter",
         "x": [
          "2022-12-16T19:34:40",
          "2022-12-17T20:19:28"
         ],
         "y": [
          7,
          7
         ]
        },
        {
         "line": {
          "color": "rgb(255, 0, 0)",
          "width": 8
         },
         "mode": "lines",
         "name": "Managing Discord Server Interactions with GPT-powered Bots",
         "type": "scatter",
         "x": [
          "2022-12-22T18:23:47",
          "2022-12-23T20:19:28"
         ],
         "y": [
          7,
          7
         ]
        },
        {
         "line": {
          "color": "rgb(255, 0, 0)",
          "width": 8
         },
         "mode": "lines",
         "name": "Managing Discord Server Interactions with GPT-powered Bots",
         "type": "scatter",
         "x": [
          "2022-12-25T08:22:18",
          "2022-12-25T20:19:28"
         ],
         "y": [
          7,
          7
         ]
        },
        {
         "line": {
          "color": "rgb(255, 0, 0)",
          "width": 8
         },
         "mode": "lines",
         "name": "Managing Discord Server Interactions with GPT-powered Bots",
         "type": "scatter",
         "x": [
          "2022-12-27T06:19:42",
          "2022-12-27T20:19:28"
         ],
         "y": [
          7,
          7
         ]
        },
        {
         "line": {
          "color": "rgb(255, 0, 0)",
          "width": 8
         },
         "mode": "lines",
         "name": "Managing Discord Server Interactions with GPT-powered Bots",
         "type": "scatter",
         "x": [
          "2023-01-04T01:10:36",
          "2023-01-04T20:19:28"
         ],
         "y": [
          7,
          7
         ]
        },
        {
         "line": {
          "color": "rgb(255, 0, 0)",
          "width": 8
         },
         "mode": "lines",
         "name": "Managing Discord Server Interactions with GPT-powered Bots",
         "type": "scatter",
         "x": [
          "2023-01-08T06:00:34",
          "2023-01-08T20:19:28"
         ],
         "y": [
          7,
          7
         ]
        },
        {
         "line": {
          "color": "rgb(255, 0, 0)",
          "width": 8
         },
         "mode": "lines",
         "name": "Managing Discord Server Interactions with GPT-powered Bots",
         "type": "scatter",
         "x": [
          "2023-01-10T08:21:30",
          "2023-01-12T20:19:28"
         ],
         "y": [
          7,
          7
         ]
        },
        {
         "line": {
          "color": "rgb(255, 0, 0)",
          "width": 8
         },
         "mode": "lines",
         "name": "Managing Discord Server Interactions with GPT-powered Bots",
         "type": "scatter",
         "x": [
          "2023-01-16T12:30:28",
          "2023-01-16T20:19:28"
         ],
         "y": [
          7,
          7
         ]
        },
        {
         "line": {
          "color": "rgb(255, 0, 0)",
          "width": 8
         },
         "mode": "lines",
         "name": "Managing Discord Server Interactions with GPT-powered Bots",
         "type": "scatter",
         "x": [
          "2023-01-20T17:47:17",
          "2023-01-20T20:19:28"
         ],
         "y": [
          7,
          7
         ]
        },
        {
         "line": {
          "color": "rgb(255, 0, 0)",
          "width": 8
         },
         "mode": "lines",
         "name": "Managing Discord Server Interactions with GPT-powered Bots",
         "type": "scatter",
         "x": [
          "2023-01-22T19:28:27",
          "2023-01-24T20:19:28"
         ],
         "y": [
          7,
          7
         ]
        },
        {
         "line": {
          "color": "rgb(255, 0, 0)",
          "width": 8
         },
         "mode": "lines",
         "name": "Managing Discord Server Interactions with GPT-powered Bots",
         "type": "scatter",
         "x": [
          "2023-01-30T08:01:12",
          "2023-01-30T20:19:28"
         ],
         "y": [
          7,
          7
         ]
        },
        {
         "line": {
          "color": "rgb(255, 0, 0)",
          "width": 8
         },
         "mode": "lines",
         "name": "Managing Discord Server Interactions with GPT-powered Bots",
         "type": "scatter",
         "x": [
          "2023-02-04T00:44:43",
          "2023-02-04T20:19:28"
         ],
         "y": [
          7,
          7
         ]
        },
        {
         "line": {
          "color": "rgb(255, 0, 0)",
          "width": 8
         },
         "mode": "lines",
         "name": "Managing Discord Server Interactions with GPT-powered Bots",
         "type": "scatter",
         "x": [
          "2023-02-07T16:17:09",
          "2023-02-07T20:19:28"
         ],
         "y": [
          7,
          7
         ]
        },
        {
         "line": {
          "color": "rgb(255, 0, 0)",
          "width": 8
         },
         "mode": "lines",
         "name": "Managing Discord Server Interactions with GPT-powered Bots",
         "type": "scatter",
         "x": [
          "2023-02-09T18:19:14",
          "2023-02-10T20:19:28"
         ],
         "y": [
          7,
          7
         ]
        },
        {
         "line": {
          "color": "rgb(255, 0, 0)",
          "width": 8
         },
         "mode": "lines",
         "name": "Managing Discord Server Interactions with GPT-powered Bots",
         "type": "scatter",
         "x": [
          "2023-02-12T15:40:25",
          "2023-02-12T20:19:28"
         ],
         "y": [
          7,
          7
         ]
        },
        {
         "line": {
          "color": "rgb(255, 0, 0)",
          "width": 8
         },
         "mode": "lines",
         "name": "Managing Discord Server Interactions with GPT-powered Bots",
         "type": "scatter",
         "x": [
          "2023-02-14T16:05:59",
          "2023-02-14T20:19:28"
         ],
         "y": [
          7,
          7
         ]
        },
        {
         "line": {
          "color": "rgb(255, 0, 0)",
          "width": 8
         },
         "mode": "lines",
         "name": "Managing Discord Server Interactions with GPT-powered Bots",
         "type": "scatter",
         "x": [
          "2023-02-16T19:09:50",
          "2023-02-20T20:19:28"
         ],
         "y": [
          7,
          7
         ]
        },
        {
         "line": {
          "color": "rgb(255, 0, 0)",
          "width": 8
         },
         "mode": "lines",
         "name": "Managing Discord Server Interactions with GPT-powered Bots",
         "type": "scatter",
         "x": [
          "2023-02-22T12:02:12",
          "2023-02-25T20:19:28"
         ],
         "y": [
          7,
          7
         ]
        },
        {
         "line": {
          "color": "rgb(255, 0, 0)",
          "width": 8
         },
         "mode": "lines",
         "name": "Managing Discord Server Interactions with GPT-powered Bots",
         "type": "scatter",
         "x": [
          "2023-03-02T16:32:20",
          "2023-03-09T20:19:28"
         ],
         "y": [
          7,
          7
         ]
        },
        {
         "line": {
          "color": "rgb(255, 0, 0)",
          "width": 8
         },
         "mode": "lines",
         "name": "Managing Discord Server Interactions with GPT-powered Bots",
         "type": "scatter",
         "x": [
          "2023-03-11T15:28:49",
          "2023-03-11T20:19:28"
         ],
         "y": [
          7,
          7
         ]
        },
        {
         "line": {
          "color": "rgb(255, 0, 0)",
          "width": 8
         },
         "mode": "lines",
         "name": "Managing Discord Server Interactions with GPT-powered Bots",
         "type": "scatter",
         "x": [
          "2023-03-13T17:19:27",
          "2023-03-25T20:19:28"
         ],
         "y": [
          7,
          7
         ]
        },
        {
         "line": {
          "color": "rgb(255, 0, 0)",
          "width": 8
         },
         "mode": "lines",
         "name": "Managing Discord Server Interactions with GPT-powered Bots",
         "type": "scatter",
         "x": [
          "2023-03-27T15:44:50",
          "2023-04-30T21:08:43"
         ],
         "y": [
          7,
          7
         ]
        },
        {
         "line": {
          "color": "rgb(128, 0, 128)",
          "width": 8
         },
         "mode": "lines",
         "name": "Managing Discord Server Interactions with GPT-powered Bots",
         "type": "scatter",
         "x": [
          "2022-12-04T19:47:54",
          "2023-01-05T20:19:28"
         ],
         "y": [
          8,
          8
         ]
        },
        {
         "line": {
          "color": "rgb(128, 0, 128)",
          "width": 8
         },
         "mode": "lines",
         "name": "Managing Discord Server Interactions with GPT-powered Bots",
         "type": "scatter",
         "x": [
          "2023-01-07T18:39:56",
          "2023-01-12T20:19:28"
         ],
         "y": [
          8,
          8
         ]
        },
        {
         "line": {
          "color": "rgb(128, 0, 128)",
          "width": 8
         },
         "mode": "lines",
         "name": "Managing Discord Server Interactions with GPT-powered Bots",
         "type": "scatter",
         "x": [
          "2023-01-14T15:54:49",
          "2023-01-28T20:19:28"
         ],
         "y": [
          8,
          8
         ]
        },
        {
         "line": {
          "color": "rgb(128, 0, 128)",
          "width": 8
         },
         "mode": "lines",
         "name": "Managing Discord Server Interactions with GPT-powered Bots",
         "type": "scatter",
         "x": [
          "2023-01-30T18:15:31",
          "2023-02-12T20:19:28"
         ],
         "y": [
          8,
          8
         ]
        },
        {
         "line": {
          "color": "rgb(128, 0, 128)",
          "width": 8
         },
         "mode": "lines",
         "name": "Managing Discord Server Interactions with GPT-powered Bots",
         "type": "scatter",
         "x": [
          "2023-02-14T19:25:04",
          "2023-04-30T21:08:43"
         ],
         "y": [
          8,
          8
         ]
        },
        {
         "line": {
          "color": "rgb(0, 255, 255)",
          "width": 8
         },
         "mode": "lines",
         "name": "Managing Discord Server Interactions with GPT-powered Bots",
         "type": "scatter",
         "x": [
          "2022-12-13T13:11:59",
          "2022-12-13T20:19:28"
         ],
         "y": [
          9,
          9
         ]
        },
        {
         "line": {
          "color": "rgb(0, 255, 255)",
          "width": 8
         },
         "mode": "lines",
         "name": "Managing Discord Server Interactions with GPT-powered Bots",
         "type": "scatter",
         "x": [
          "2022-12-16T06:54:46",
          "2022-12-16T20:19:28"
         ],
         "y": [
          9,
          9
         ]
        },
        {
         "line": {
          "color": "rgb(0, 255, 255)",
          "width": 8
         },
         "mode": "lines",
         "name": "Managing Discord Server Interactions with GPT-powered Bots",
         "type": "scatter",
         "x": [
          "2023-02-11T18:41:46",
          "2023-02-11T20:19:28"
         ],
         "y": [
          9,
          9
         ]
        },
        {
         "line": {
          "color": "rgb(0, 255, 255)",
          "width": 8
         },
         "mode": "lines",
         "name": "Managing Discord Server Interactions with GPT-powered Bots",
         "type": "scatter",
         "x": [
          "2023-02-25T17:39:11",
          "2023-02-25T20:19:28"
         ],
         "y": [
          9,
          9
         ]
        },
        {
         "line": {
          "color": "rgb(0, 255, 255)",
          "width": 8
         },
         "mode": "lines",
         "name": "Managing Discord Server Interactions with GPT-powered Bots",
         "type": "scatter",
         "x": [
          "2023-03-09T22:06:36",
          "2023-03-12T20:19:28"
         ],
         "y": [
          9,
          9
         ]
        },
        {
         "line": {
          "color": "rgb(0, 255, 255)",
          "width": 8
         },
         "mode": "lines",
         "name": "Managing Discord Server Interactions with GPT-powered Bots",
         "type": "scatter",
         "x": [
          "2023-03-20T20:13:02",
          "2023-04-30T21:08:43"
         ],
         "y": [
          9,
          9
         ]
        },
        {
         "line": {
          "color": "rgb(128, 128, 0)",
          "width": 8
         },
         "mode": "lines",
         "name": "Managing Discord Server Interactions with GPT-powered Bots",
         "type": "scatter",
         "x": [
          "2022-12-02T19:52:37",
          "2022-12-20T20:19:28"
         ],
         "y": [
          10,
          10
         ]
        },
        {
         "line": {
          "color": "rgb(128, 128, 0)",
          "width": 8
         },
         "mode": "lines",
         "name": "Managing Discord Server Interactions with GPT-powered Bots",
         "type": "scatter",
         "x": [
          "2022-12-27T03:48:45",
          "2022-12-27T20:19:28"
         ],
         "y": [
          10,
          10
         ]
        },
        {
         "line": {
          "color": "rgb(128, 128, 0)",
          "width": 8
         },
         "mode": "lines",
         "name": "Managing Discord Server Interactions with GPT-powered Bots",
         "type": "scatter",
         "x": [
          "2022-12-29T10:26:15",
          "2022-12-29T20:19:28"
         ],
         "y": [
          10,
          10
         ]
        },
        {
         "line": {
          "color": "rgb(128, 128, 0)",
          "width": 8
         },
         "mode": "lines",
         "name": "Managing Discord Server Interactions with GPT-powered Bots",
         "type": "scatter",
         "x": [
          "2023-01-05T22:23:27",
          "2023-01-06T20:19:28"
         ],
         "y": [
          10,
          10
         ]
        },
        {
         "line": {
          "color": "rgb(128, 128, 0)",
          "width": 8
         },
         "mode": "lines",
         "name": "Managing Discord Server Interactions with GPT-powered Bots",
         "type": "scatter",
         "x": [
          "2023-01-08T03:12:20",
          "2023-01-08T20:19:28"
         ],
         "y": [
          10,
          10
         ]
        },
        {
         "line": {
          "color": "rgb(128, 128, 0)",
          "width": 8
         },
         "mode": "lines",
         "name": "Managing Discord Server Interactions with GPT-powered Bots",
         "type": "scatter",
         "x": [
          "2023-01-11T15:31:35",
          "2023-01-12T20:19:28"
         ],
         "y": [
          10,
          10
         ]
        },
        {
         "line": {
          "color": "rgb(128, 128, 0)",
          "width": 8
         },
         "mode": "lines",
         "name": "Managing Discord Server Interactions with GPT-powered Bots",
         "type": "scatter",
         "x": [
          "2023-01-15T09:44:33",
          "2023-01-15T20:19:28"
         ],
         "y": [
          10,
          10
         ]
        },
        {
         "line": {
          "color": "rgb(128, 128, 0)",
          "width": 8
         },
         "mode": "lines",
         "name": "Managing Discord Server Interactions with GPT-powered Bots",
         "type": "scatter",
         "x": [
          "2023-01-19T02:47:08",
          "2023-01-19T20:19:28"
         ],
         "y": [
          10,
          10
         ]
        },
        {
         "line": {
          "color": "rgb(128, 128, 0)",
          "width": 8
         },
         "mode": "lines",
         "name": "Managing Discord Server Interactions with GPT-powered Bots",
         "type": "scatter",
         "x": [
          "2023-01-22T11:56:30",
          "2023-01-23T20:19:28"
         ],
         "y": [
          10,
          10
         ]
        },
        {
         "line": {
          "color": "rgb(128, 128, 0)",
          "width": 8
         },
         "mode": "lines",
         "name": "Managing Discord Server Interactions with GPT-powered Bots",
         "type": "scatter",
         "x": [
          "2023-01-26T14:39:44",
          "2023-01-29T20:19:28"
         ],
         "y": [
          10,
          10
         ]
        },
        {
         "line": {
          "color": "rgb(128, 128, 0)",
          "width": 8
         },
         "mode": "lines",
         "name": "Managing Discord Server Interactions with GPT-powered Bots",
         "type": "scatter",
         "x": [
          "2023-01-31T16:05:56",
          "2023-01-31T20:19:28"
         ],
         "y": [
          10,
          10
         ]
        },
        {
         "line": {
          "color": "rgb(128, 128, 0)",
          "width": 8
         },
         "mode": "lines",
         "name": "Managing Discord Server Interactions with GPT-powered Bots",
         "type": "scatter",
         "x": [
          "2023-02-02T17:21:16",
          "2023-02-03T20:19:28"
         ],
         "y": [
          10,
          10
         ]
        },
        {
         "line": {
          "color": "rgb(128, 128, 0)",
          "width": 8
         },
         "mode": "lines",
         "name": "Managing Discord Server Interactions with GPT-powered Bots",
         "type": "scatter",
         "x": [
          "2023-02-04T23:49:22",
          "2023-02-05T20:19:28"
         ],
         "y": [
          10,
          10
         ]
        },
        {
         "line": {
          "color": "rgb(128, 128, 0)",
          "width": 8
         },
         "mode": "lines",
         "name": "Managing Discord Server Interactions with GPT-powered Bots",
         "type": "scatter",
         "x": [
          "2023-02-06T22:20:18",
          "2023-03-03T20:19:28"
         ],
         "y": [
          10,
          10
         ]
        },
        {
         "line": {
          "color": "rgb(128, 128, 0)",
          "width": 8
         },
         "mode": "lines",
         "name": "Managing Discord Server Interactions with GPT-powered Bots",
         "type": "scatter",
         "x": [
          "2023-03-05T16:39:32",
          "2023-04-30T21:08:43"
         ],
         "y": [
          10,
          10
         ]
        },
        {
         "line": {
          "color": "rgb(255, 0, 255)",
          "width": 8
         },
         "mode": "lines",
         "name": "Managing Discord Server Interactions with GPT-powered Bots",
         "type": "scatter",
         "x": [
          "2022-12-10T17:09:52",
          "2022-12-11T20:19:28"
         ],
         "y": [
          11,
          11
         ]
        },
        {
         "line": {
          "color": "rgb(255, 0, 255)",
          "width": 8
         },
         "mode": "lines",
         "name": "Managing Discord Server Interactions with GPT-powered Bots",
         "type": "scatter",
         "x": [
          "2023-03-01T07:41:55",
          "2023-03-01T20:19:28"
         ],
         "y": [
          11,
          11
         ]
        },
        {
         "line": {
          "color": "rgb(255, 0, 255)",
          "width": 8
         },
         "mode": "lines",
         "name": "Managing Discord Server Interactions with GPT-powered Bots",
         "type": "scatter",
         "x": [
          "2023-03-19T13:51:36",
          "2023-04-30T21:08:43"
         ],
         "y": [
          11,
          11
         ]
        },
        {
         "line": {
          "color": "rgb(46, 139, 87)",
          "width": 8
         },
         "mode": "lines",
         "name": "Managing Discord Server Interactions with GPT-powered Bots",
         "type": "scatter",
         "x": [
          "2022-12-19T20:14:26",
          "2023-01-08T20:19:28"
         ],
         "y": [
          12,
          12
         ]
        },
        {
         "line": {
          "color": "rgb(46, 139, 87)",
          "width": 8
         },
         "mode": "lines",
         "name": "Managing Discord Server Interactions with GPT-powered Bots",
         "type": "scatter",
         "x": [
          "2023-01-12T10:11:52",
          "2023-01-12T20:19:28"
         ],
         "y": [
          12,
          12
         ]
        },
        {
         "line": {
          "color": "rgb(46, 139, 87)",
          "width": 8
         },
         "mode": "lines",
         "name": "Managing Discord Server Interactions with GPT-powered Bots",
         "type": "scatter",
         "x": [
          "2023-01-24T18:44:35",
          "2023-02-07T20:19:28"
         ],
         "y": [
          12,
          12
         ]
        },
        {
         "line": {
          "color": "rgb(46, 139, 87)",
          "width": 8
         },
         "mode": "lines",
         "name": "Managing Discord Server Interactions with GPT-powered Bots",
         "type": "scatter",
         "x": [
          "2023-02-10T10:37:27",
          "2023-02-10T20:19:28"
         ],
         "y": [
          12,
          12
         ]
        },
        {
         "line": {
          "color": "rgb(46, 139, 87)",
          "width": 8
         },
         "mode": "lines",
         "name": "Managing Discord Server Interactions with GPT-powered Bots",
         "type": "scatter",
         "x": [
          "2023-02-21T21:41:24",
          "2023-02-22T20:19:28"
         ],
         "y": [
          12,
          12
         ]
        },
        {
         "line": {
          "color": "rgb(46, 139, 87)",
          "width": 8
         },
         "mode": "lines",
         "name": "Managing Discord Server Interactions with GPT-powered Bots",
         "type": "scatter",
         "x": [
          "2023-03-25T13:48:46",
          "2023-03-25T20:19:28"
         ],
         "y": [
          12,
          12
         ]
        },
        {
         "line": {
          "color": "rgb(46, 139, 87)",
          "width": 8
         },
         "mode": "lines",
         "name": "Managing Discord Server Interactions with GPT-powered Bots",
         "type": "scatter",
         "x": [
          "2023-04-02T19:12:34",
          "2023-04-02T20:19:28"
         ],
         "y": [
          12,
          12
         ]
        },
        {
         "line": {
          "color": "rgb(46, 139, 87)",
          "width": 8
         },
         "mode": "lines",
         "name": "Managing Discord Server Interactions with GPT-powered Bots",
         "type": "scatter",
         "x": [
          "2023-04-09T19:11:51",
          "2023-04-09T20:19:28"
         ],
         "y": [
          12,
          12
         ]
        },
        {
         "line": {
          "color": "rgb(46, 139, 87)",
          "width": 8
         },
         "mode": "lines",
         "name": "Managing Discord Server Interactions with GPT-powered Bots",
         "type": "scatter",
         "x": [
          "2023-04-27T18:09:48",
          "2023-04-27T20:19:28"
         ],
         "y": [
          12,
          12
         ]
        },
        {
         "line": {
          "color": "rgb(173, 216, 230)",
          "width": 8
         },
         "mode": "lines",
         "name": "Managing Discord Server Interactions with GPT-powered Bots",
         "type": "scatter",
         "x": [
          "2022-12-11T19:34:27",
          "2022-12-13T20:19:28"
         ],
         "y": [
          13,
          13
         ]
        },
        {
         "line": {
          "color": "rgb(173, 216, 230)",
          "width": 8
         },
         "mode": "lines",
         "name": "Managing Discord Server Interactions with GPT-powered Bots",
         "type": "scatter",
         "x": [
          "2022-12-19T19:02:04",
          "2023-02-25T20:19:28"
         ],
         "y": [
          13,
          13
         ]
        },
        {
         "line": {
          "color": "rgb(128, 0, 0)",
          "width": 8
         },
         "mode": "lines",
         "name": "Managing Discord Server Interactions with GPT-powered Bots",
         "type": "scatter",
         "x": [
          "2022-12-02T20:02:34",
          "2022-12-19T20:19:28"
         ],
         "y": [
          14,
          14
         ]
        },
        {
         "line": {
          "color": "rgb(128, 0, 0)",
          "width": 8
         },
         "mode": "lines",
         "name": "Managing Discord Server Interactions with GPT-powered Bots",
         "type": "scatter",
         "x": [
          "2022-12-22T12:01:46",
          "2022-12-24T20:19:28"
         ],
         "y": [
          14,
          14
         ]
        },
        {
         "line": {
          "color": "rgb(128, 0, 0)",
          "width": 8
         },
         "mode": "lines",
         "name": "Managing Discord Server Interactions with GPT-powered Bots",
         "type": "scatter",
         "x": [
          "2022-12-26T20:38:16",
          "2022-12-27T20:19:28"
         ],
         "y": [
          14,
          14
         ]
        },
        {
         "line": {
          "color": "rgb(128, 0, 0)",
          "width": 8
         },
         "mode": "lines",
         "name": "Managing Discord Server Interactions with GPT-powered Bots",
         "type": "scatter",
         "x": [
          "2022-12-31T18:34:27",
          "2022-12-31T20:19:28"
         ],
         "y": [
          14,
          14
         ]
        },
        {
         "line": {
          "color": "rgb(128, 0, 0)",
          "width": 8
         },
         "mode": "lines",
         "name": "Managing Discord Server Interactions with GPT-powered Bots",
         "type": "scatter",
         "x": [
          "2023-01-02T22:23:13",
          "2023-01-04T20:19:28"
         ],
         "y": [
          14,
          14
         ]
        },
        {
         "line": {
          "color": "rgb(128, 0, 0)",
          "width": 8
         },
         "mode": "lines",
         "name": "Managing Discord Server Interactions with GPT-powered Bots",
         "type": "scatter",
         "x": [
          "2023-01-07T17:29:21",
          "2023-01-07T20:19:28"
         ],
         "y": [
          14,
          14
         ]
        },
        {
         "line": {
          "color": "rgb(128, 0, 0)",
          "width": 8
         },
         "mode": "lines",
         "name": "Managing Discord Server Interactions with GPT-powered Bots",
         "type": "scatter",
         "x": [
          "2023-01-09T00:01:23",
          "2023-01-09T20:19:28"
         ],
         "y": [
          14,
          14
         ]
        },
        {
         "line": {
          "color": "rgb(128, 0, 0)",
          "width": 8
         },
         "mode": "lines",
         "name": "Managing Discord Server Interactions with GPT-powered Bots",
         "type": "scatter",
         "x": [
          "2023-01-10T20:49:43",
          "2023-01-11T20:19:28"
         ],
         "y": [
          14,
          14
         ]
        },
        {
         "line": {
          "color": "rgb(128, 0, 0)",
          "width": 8
         },
         "mode": "lines",
         "name": "Managing Discord Server Interactions with GPT-powered Bots",
         "type": "scatter",
         "x": [
          "2023-01-13T19:34:49",
          "2023-01-13T20:19:28"
         ],
         "y": [
          14,
          14
         ]
        },
        {
         "line": {
          "color": "rgb(128, 0, 0)",
          "width": 8
         },
         "mode": "lines",
         "name": "Managing Discord Server Interactions with GPT-powered Bots",
         "type": "scatter",
         "x": [
          "2023-01-16T08:00:40",
          "2023-01-19T20:19:28"
         ],
         "y": [
          14,
          14
         ]
        },
        {
         "line": {
          "color": "rgb(128, 0, 0)",
          "width": 8
         },
         "mode": "lines",
         "name": "Managing Discord Server Interactions with GPT-powered Bots",
         "type": "scatter",
         "x": [
          "2023-01-23T15:55:33",
          "2023-01-25T20:19:28"
         ],
         "y": [
          14,
          14
         ]
        },
        {
         "line": {
          "color": "rgb(128, 0, 0)",
          "width": 8
         },
         "mode": "lines",
         "name": "Managing Discord Server Interactions with GPT-powered Bots",
         "type": "scatter",
         "x": [
          "2023-01-28T16:39:08",
          "2023-02-05T20:19:28"
         ],
         "y": [
          14,
          14
         ]
        },
        {
         "line": {
          "color": "rgb(128, 0, 0)",
          "width": 8
         },
         "mode": "lines",
         "name": "Managing Discord Server Interactions with GPT-powered Bots",
         "type": "scatter",
         "x": [
          "2023-02-08T06:00:06",
          "2023-03-04T20:19:28"
         ],
         "y": [
          14,
          14
         ]
        },
        {
         "line": {
          "color": "rgb(128, 0, 0)",
          "width": 8
         },
         "mode": "lines",
         "name": "Managing Discord Server Interactions with GPT-powered Bots",
         "type": "scatter",
         "x": [
          "2023-03-07T00:53:03",
          "2023-03-15T20:19:28"
         ],
         "y": [
          14,
          14
         ]
        },
        {
         "line": {
          "color": "rgb(128, 0, 0)",
          "width": 8
         },
         "mode": "lines",
         "name": "Managing Discord Server Interactions with GPT-powered Bots",
         "type": "scatter",
         "x": [
          "2023-03-17T19:47:40",
          "2023-03-28T20:19:28"
         ],
         "y": [
          14,
          14
         ]
        },
        {
         "line": {
          "color": "rgb(128, 0, 0)",
          "width": 8
         },
         "mode": "lines",
         "name": "Managing Discord Server Interactions with GPT-powered Bots",
         "type": "scatter",
         "x": [
          "2023-03-30T19:14:58",
          "2023-04-30T21:08:43"
         ],
         "y": [
          14,
          14
         ]
        },
        {
         "line": {
          "color": "rgb(70, 130, 180)",
          "width": 8
         },
         "mode": "lines",
         "name": "Managing Discord Server Interactions with GPT-powered Bots",
         "type": "scatter",
         "x": [
          "2022-12-11T18:09:04",
          "2022-12-12T20:19:28"
         ],
         "y": [
          15,
          15
         ]
        },
        {
         "line": {
          "color": "rgb(70, 130, 180)",
          "width": 8
         },
         "mode": "lines",
         "name": "Managing Discord Server Interactions with GPT-powered Bots",
         "type": "scatter",
         "x": [
          "2022-12-16T16:09:03",
          "2022-12-16T20:19:28"
         ],
         "y": [
          15,
          15
         ]
        },
        {
         "line": {
          "color": "rgb(70, 130, 180)",
          "width": 8
         },
         "mode": "lines",
         "name": "Managing Discord Server Interactions with GPT-powered Bots",
         "type": "scatter",
         "x": [
          "2022-12-18T07:29:40",
          "2022-12-18T20:19:28"
         ],
         "y": [
          15,
          15
         ]
        },
        {
         "line": {
          "color": "rgb(70, 130, 180)",
          "width": 8
         },
         "mode": "lines",
         "name": "Managing Discord Server Interactions with GPT-powered Bots",
         "type": "scatter",
         "x": [
          "2022-12-29T16:11:36",
          "2022-12-29T20:19:28"
         ],
         "y": [
          15,
          15
         ]
        },
        {
         "line": {
          "color": "rgb(70, 130, 180)",
          "width": 8
         },
         "mode": "lines",
         "name": "Managing Discord Server Interactions with GPT-powered Bots",
         "type": "scatter",
         "x": [
          "2023-01-02T10:42:28",
          "2023-01-02T20:19:28"
         ],
         "y": [
          15,
          15
         ]
        },
        {
         "line": {
          "color": "rgb(70, 130, 180)",
          "width": 8
         },
         "mode": "lines",
         "name": "Managing Discord Server Interactions with GPT-powered Bots",
         "type": "scatter",
         "x": [
          "2023-01-04T14:47:05",
          "2023-01-06T20:19:28"
         ],
         "y": [
          15,
          15
         ]
        },
        {
         "line": {
          "color": "rgb(70, 130, 180)",
          "width": 8
         },
         "mode": "lines",
         "name": "Managing Discord Server Interactions with GPT-powered Bots",
         "type": "scatter",
         "x": [
          "2023-01-08T23:44:48",
          "2023-01-09T20:19:28"
         ],
         "y": [
          15,
          15
         ]
        },
        {
         "line": {
          "color": "rgb(70, 130, 180)",
          "width": 8
         },
         "mode": "lines",
         "name": "Managing Discord Server Interactions with GPT-powered Bots",
         "type": "scatter",
         "x": [
          "2023-01-13T10:23:45",
          "2023-01-13T20:19:28"
         ],
         "y": [
          15,
          15
         ]
        },
        {
         "line": {
          "color": "rgb(70, 130, 180)",
          "width": 8
         },
         "mode": "lines",
         "name": "Managing Discord Server Interactions with GPT-powered Bots",
         "type": "scatter",
         "x": [
          "2023-01-17T01:27:53",
          "2023-01-17T20:19:28"
         ],
         "y": [
          15,
          15
         ]
        },
        {
         "line": {
          "color": "rgb(70, 130, 180)",
          "width": 8
         },
         "mode": "lines",
         "name": "Managing Discord Server Interactions with GPT-powered Bots",
         "type": "scatter",
         "x": [
          "2023-01-20T16:49:14",
          "2023-01-20T20:19:28"
         ],
         "y": [
          15,
          15
         ]
        },
        {
         "line": {
          "color": "rgb(70, 130, 180)",
          "width": 8
         },
         "mode": "lines",
         "name": "Managing Discord Server Interactions with GPT-powered Bots",
         "type": "scatter",
         "x": [
          "2023-01-24T19:00:47",
          "2023-01-24T20:19:28"
         ],
         "y": [
          15,
          15
         ]
        },
        {
         "line": {
          "color": "rgb(70, 130, 180)",
          "width": 8
         },
         "mode": "lines",
         "name": "Managing Discord Server Interactions with GPT-powered Bots",
         "type": "scatter",
         "x": [
          "2023-01-28T17:00:40",
          "2023-01-28T20:19:28"
         ],
         "y": [
          15,
          15
         ]
        },
        {
         "line": {
          "color": "rgb(70, 130, 180)",
          "width": 8
         },
         "mode": "lines",
         "name": "Managing Discord Server Interactions with GPT-powered Bots",
         "type": "scatter",
         "x": [
          "2023-01-30T13:58:38",
          "2023-01-30T20:19:28"
         ],
         "y": [
          15,
          15
         ]
        },
        {
         "line": {
          "color": "rgb(70, 130, 180)",
          "width": 8
         },
         "mode": "lines",
         "name": "Managing Discord Server Interactions with GPT-powered Bots",
         "type": "scatter",
         "x": [
          "2023-02-01T17:31:15",
          "2023-02-03T20:19:28"
         ],
         "y": [
          15,
          15
         ]
        },
        {
         "line": {
          "color": "rgb(70, 130, 180)",
          "width": 8
         },
         "mode": "lines",
         "name": "Managing Discord Server Interactions with GPT-powered Bots",
         "type": "scatter",
         "x": [
          "2023-02-05T09:36:52",
          "2023-04-30T21:08:43"
         ],
         "y": [
          15,
          15
         ]
        },
        {
         "line": {
          "color": "rgb(0, 0, 255)",
          "width": 8
         },
         "mode": "lines",
         "name": "Managing Discord Server Interactions with GPT-powered Bots",
         "type": "scatter",
         "x": [
          "2022-12-06T13:31:53",
          "2022-12-06T20:19:28"
         ],
         "y": [
          16,
          16
         ]
        },
        {
         "line": {
          "color": "rgb(0, 0, 255)",
          "width": 8
         },
         "mode": "lines",
         "name": "Managing Discord Server Interactions with GPT-powered Bots",
         "type": "scatter",
         "x": [
          "2022-12-08T11:00:41",
          "2022-12-08T20:19:28"
         ],
         "y": [
          16,
          16
         ]
        },
        {
         "line": {
          "color": "rgb(0, 0, 255)",
          "width": 8
         },
         "mode": "lines",
         "name": "Managing Discord Server Interactions with GPT-powered Bots",
         "type": "scatter",
         "x": [
          "2022-12-10T19:37:11",
          "2023-01-05T20:19:28"
         ],
         "y": [
          16,
          16
         ]
        },
        {
         "line": {
          "color": "rgb(0, 0, 255)",
          "width": 8
         },
         "mode": "lines",
         "name": "Managing Discord Server Interactions with GPT-powered Bots",
         "type": "scatter",
         "x": [
          "2023-01-06T21:48:05",
          "2023-01-08T20:19:28"
         ],
         "y": [
          16,
          16
         ]
        },
        {
         "line": {
          "color": "rgb(0, 0, 255)",
          "width": 8
         },
         "mode": "lines",
         "name": "Managing Discord Server Interactions with GPT-powered Bots",
         "type": "scatter",
         "x": [
          "2023-01-11T19:00:54",
          "2023-01-12T20:19:28"
         ],
         "y": [
          16,
          16
         ]
        },
        {
         "line": {
          "color": "rgb(0, 0, 255)",
          "width": 8
         },
         "mode": "lines",
         "name": "Managing Discord Server Interactions with GPT-powered Bots",
         "type": "scatter",
         "x": [
          "2023-01-14T12:47:38",
          "2023-01-15T20:19:28"
         ],
         "y": [
          16,
          16
         ]
        },
        {
         "line": {
          "color": "rgb(0, 0, 255)",
          "width": 8
         },
         "mode": "lines",
         "name": "Managing Discord Server Interactions with GPT-powered Bots",
         "type": "scatter",
         "x": [
          "2023-01-16T23:16:15",
          "2023-01-17T20:19:28"
         ],
         "y": [
          16,
          16
         ]
        },
        {
         "line": {
          "color": "rgb(0, 0, 255)",
          "width": 8
         },
         "mode": "lines",
         "name": "Managing Discord Server Interactions with GPT-powered Bots",
         "type": "scatter",
         "x": [
          "2023-01-21T00:07:20",
          "2023-01-24T20:19:28"
         ],
         "y": [
          16,
          16
         ]
        },
        {
         "line": {
          "color": "rgb(0, 0, 255)",
          "width": 8
         },
         "mode": "lines",
         "name": "Managing Discord Server Interactions with GPT-powered Bots",
         "type": "scatter",
         "x": [
          "2023-01-27T14:22:14",
          "2023-01-28T20:19:28"
         ],
         "y": [
          16,
          16
         ]
        },
        {
         "line": {
          "color": "rgb(0, 0, 255)",
          "width": 8
         },
         "mode": "lines",
         "name": "Managing Discord Server Interactions with GPT-powered Bots",
         "type": "scatter",
         "x": [
          "2023-01-30T14:19:41",
          "2023-01-31T20:19:28"
         ],
         "y": [
          16,
          16
         ]
        },
        {
         "line": {
          "color": "rgb(0, 0, 255)",
          "width": 8
         },
         "mode": "lines",
         "name": "Managing Discord Server Interactions with GPT-powered Bots",
         "type": "scatter",
         "x": [
          "2023-02-02T16:25:25",
          "2023-04-30T21:08:43"
         ],
         "y": [
          16,
          16
         ]
        },
        {
         "line": {
          "color": "rgb(0, 0, 128)",
          "width": 8
         },
         "mode": "lines",
         "name": "Managing Discord Server Interactions with GPT-powered Bots",
         "type": "scatter",
         "x": [
          "2022-12-03T19:28:22",
          "2022-12-19T20:19:28"
         ],
         "y": [
          17,
          17
         ]
        },
        {
         "line": {
          "color": "rgb(0, 0, 128)",
          "width": 8
         },
         "mode": "lines",
         "name": "Managing Discord Server Interactions with GPT-powered Bots",
         "type": "scatter",
         "x": [
          "2022-12-23T17:19:07",
          "2022-12-25T20:19:28"
         ],
         "y": [
          17,
          17
         ]
        },
        {
         "line": {
          "color": "rgb(0, 0, 128)",
          "width": 8
         },
         "mode": "lines",
         "name": "Managing Discord Server Interactions with GPT-powered Bots",
         "type": "scatter",
         "x": [
          "2022-12-28T10:05:51",
          "2022-12-28T20:19:28"
         ],
         "y": [
          17,
          17
         ]
        },
        {
         "line": {
          "color": "rgb(0, 0, 128)",
          "width": 8
         },
         "mode": "lines",
         "name": "Managing Discord Server Interactions with GPT-powered Bots",
         "type": "scatter",
         "x": [
          "2023-01-03T18:25:21",
          "2023-01-03T20:19:28"
         ],
         "y": [
          17,
          17
         ]
        },
        {
         "line": {
          "color": "rgb(0, 0, 128)",
          "width": 8
         },
         "mode": "lines",
         "name": "Managing Discord Server Interactions with GPT-powered Bots",
         "type": "scatter",
         "x": [
          "2023-01-14T01:50:34",
          "2023-01-15T20:19:28"
         ],
         "y": [
          17,
          17
         ]
        },
        {
         "line": {
          "color": "rgb(0, 0, 128)",
          "width": 8
         },
         "mode": "lines",
         "name": "Managing Discord Server Interactions with GPT-powered Bots",
         "type": "scatter",
         "x": [
          "2023-01-20T21:35:08",
          "2023-01-21T20:19:28"
         ],
         "y": [
          17,
          17
         ]
        },
        {
         "line": {
          "color": "rgb(0, 0, 128)",
          "width": 8
         },
         "mode": "lines",
         "name": "Managing Discord Server Interactions with GPT-powered Bots",
         "type": "scatter",
         "x": [
          "2023-01-23T00:08:07",
          "2023-01-25T20:19:28"
         ],
         "y": [
          17,
          17
         ]
        },
        {
         "line": {
          "color": "rgb(0, 0, 128)",
          "width": 8
         },
         "mode": "lines",
         "name": "Managing Discord Server Interactions with GPT-powered Bots",
         "type": "scatter",
         "x": [
          "2023-01-28T12:14:41",
          "2023-01-29T20:19:28"
         ],
         "y": [
          17,
          17
         ]
        },
        {
         "line": {
          "color": "rgb(0, 0, 128)",
          "width": 8
         },
         "mode": "lines",
         "name": "Managing Discord Server Interactions with GPT-powered Bots",
         "type": "scatter",
         "x": [
          "2023-01-31T08:19:10",
          "2023-01-31T20:19:28"
         ],
         "y": [
          17,
          17
         ]
        },
        {
         "line": {
          "color": "rgb(0, 0, 128)",
          "width": 8
         },
         "mode": "lines",
         "name": "Managing Discord Server Interactions with GPT-powered Bots",
         "type": "scatter",
         "x": [
          "2023-02-03T08:45:39",
          "2023-02-03T20:19:28"
         ],
         "y": [
          17,
          17
         ]
        },
        {
         "line": {
          "color": "rgb(0, 0, 128)",
          "width": 8
         },
         "mode": "lines",
         "name": "Managing Discord Server Interactions with GPT-powered Bots",
         "type": "scatter",
         "x": [
          "2023-02-05T13:37:33",
          "2023-02-05T20:19:28"
         ],
         "y": [
          17,
          17
         ]
        },
        {
         "line": {
          "color": "rgb(0, 0, 128)",
          "width": 8
         },
         "mode": "lines",
         "name": "Managing Discord Server Interactions with GPT-powered Bots",
         "type": "scatter",
         "x": [
          "2023-02-09T12:59:01",
          "2023-02-09T20:19:28"
         ],
         "y": [
          17,
          17
         ]
        },
        {
         "line": {
          "color": "rgb(0, 0, 128)",
          "width": 8
         },
         "mode": "lines",
         "name": "Managing Discord Server Interactions with GPT-powered Bots",
         "type": "scatter",
         "x": [
          "2023-02-11T18:11:17",
          "2023-02-11T20:19:28"
         ],
         "y": [
          17,
          17
         ]
        },
        {
         "line": {
          "color": "rgb(0, 0, 128)",
          "width": 8
         },
         "mode": "lines",
         "name": "Managing Discord Server Interactions with GPT-powered Bots",
         "type": "scatter",
         "x": [
          "2023-02-13T09:39:50",
          "2023-02-13T20:19:28"
         ],
         "y": [
          17,
          17
         ]
        },
        {
         "line": {
          "color": "rgb(0, 0, 128)",
          "width": 8
         },
         "mode": "lines",
         "name": "Managing Discord Server Interactions with GPT-powered Bots",
         "type": "scatter",
         "x": [
          "2023-02-18T06:34:25",
          "2023-02-20T20:19:28"
         ],
         "y": [
          17,
          17
         ]
        },
        {
         "line": {
          "color": "rgb(0, 0, 128)",
          "width": 8
         },
         "mode": "lines",
         "name": "Managing Discord Server Interactions with GPT-powered Bots",
         "type": "scatter",
         "x": [
          "2023-02-22T03:45:59",
          "2023-02-28T20:19:28"
         ],
         "y": [
          17,
          17
         ]
        },
        {
         "line": {
          "color": "rgb(0, 0, 128)",
          "width": 8
         },
         "mode": "lines",
         "name": "Managing Discord Server Interactions with GPT-powered Bots",
         "type": "scatter",
         "x": [
          "2023-03-05T08:30:09",
          "2023-03-05T20:19:28"
         ],
         "y": [
          17,
          17
         ]
        },
        {
         "line": {
          "color": "rgb(0, 0, 128)",
          "width": 8
         },
         "mode": "lines",
         "name": "Managing Discord Server Interactions with GPT-powered Bots",
         "type": "scatter",
         "x": [
          "2023-03-07T09:23:08",
          "2023-03-14T20:19:28"
         ],
         "y": [
          17,
          17
         ]
        },
        {
         "line": {
          "color": "rgb(0, 0, 128)",
          "width": 8
         },
         "mode": "lines",
         "name": "Managing Discord Server Interactions with GPT-powered Bots",
         "type": "scatter",
         "x": [
          "2023-03-19T15:49:08",
          "2023-03-19T20:19:28"
         ],
         "y": [
          17,
          17
         ]
        },
        {
         "line": {
          "color": "rgb(0, 0, 128)",
          "width": 8
         },
         "mode": "lines",
         "name": "Managing Discord Server Interactions with GPT-powered Bots",
         "type": "scatter",
         "x": [
          "2023-03-22T16:58:14",
          "2023-03-22T20:19:28"
         ],
         "y": [
          17,
          17
         ]
        },
        {
         "line": {
          "color": "rgb(0, 0, 128)",
          "width": 8
         },
         "mode": "lines",
         "name": "Managing Discord Server Interactions with GPT-powered Bots",
         "type": "scatter",
         "x": [
          "2023-03-26T13:29:41",
          "2023-03-26T20:19:28"
         ],
         "y": [
          17,
          17
         ]
        },
        {
         "line": {
          "color": "rgb(0, 0, 128)",
          "width": 8
         },
         "mode": "lines",
         "name": "Managing Discord Server Interactions with GPT-powered Bots",
         "type": "scatter",
         "x": [
          "2023-03-29T01:47:25",
          "2023-04-06T20:19:28"
         ],
         "y": [
          17,
          17
         ]
        },
        {
         "line": {
          "color": "rgb(0, 0, 128)",
          "width": 8
         },
         "mode": "lines",
         "name": "Managing Discord Server Interactions with GPT-powered Bots",
         "type": "scatter",
         "x": [
          "2023-04-08T18:31:15",
          "2023-04-10T20:19:28"
         ],
         "y": [
          17,
          17
         ]
        },
        {
         "line": {
          "color": "rgb(0, 0, 128)",
          "width": 8
         },
         "mode": "lines",
         "name": "Managing Discord Server Interactions with GPT-powered Bots",
         "type": "scatter",
         "x": [
          "2023-04-12T19:58:02",
          "2023-04-12T20:19:28"
         ],
         "y": [
          17,
          17
         ]
        },
        {
         "line": {
          "color": "rgb(0, 0, 128)",
          "width": 8
         },
         "mode": "lines",
         "name": "Managing Discord Server Interactions with GPT-powered Bots",
         "type": "scatter",
         "x": [
          "2023-04-14T15:04:46",
          "2023-04-15T20:19:28"
         ],
         "y": [
          17,
          17
         ]
        },
        {
         "line": {
          "color": "rgb(0, 0, 128)",
          "width": 8
         },
         "mode": "lines",
         "name": "Managing Discord Server Interactions with GPT-powered Bots",
         "type": "scatter",
         "x": [
          "2023-04-17T16:35:28",
          "2023-04-17T20:19:28"
         ],
         "y": [
          17,
          17
         ]
        },
        {
         "line": {
          "color": "rgb(0, 0, 128)",
          "width": 8
         },
         "mode": "lines",
         "name": "Managing Discord Server Interactions with GPT-powered Bots",
         "type": "scatter",
         "x": [
          "2023-04-19T05:54:09",
          "2023-04-24T20:19:28"
         ],
         "y": [
          17,
          17
         ]
        },
        {
         "line": {
          "color": "rgb(0, 0, 128)",
          "width": 8
         },
         "mode": "lines",
         "name": "Managing Discord Server Interactions with GPT-powered Bots",
         "type": "scatter",
         "x": [
          "2023-04-26T17:11:59",
          "2023-04-27T20:19:28"
         ],
         "y": [
          17,
          17
         ]
        },
        {
         "line": {
          "color": "rgb(0, 0, 128)",
          "width": 8
         },
         "mode": "lines",
         "name": "Managing Discord Server Interactions with GPT-powered Bots",
         "type": "scatter",
         "x": [
          "2023-05-01T14:23:43",
          "2023-04-30T21:08:43"
         ],
         "y": [
          17,
          17
         ]
        },
        {
         "line": {
          "color": "rgb(255, 140, 0)",
          "width": 8
         },
         "mode": "lines",
         "name": "Managing Discord Server Interactions with GPT-powered Bots",
         "type": "scatter",
         "x": [
          "2022-12-04T19:37:46",
          "2022-12-04T20:19:28"
         ],
         "y": [
          18,
          18
         ]
        },
        {
         "line": {
          "color": "rgb(255, 140, 0)",
          "width": 8
         },
         "mode": "lines",
         "name": "Managing Discord Server Interactions with GPT-powered Bots",
         "type": "scatter",
         "x": [
          "2022-12-14T15:54:06",
          "2022-12-14T20:19:28"
         ],
         "y": [
          18,
          18
         ]
        },
        {
         "line": {
          "color": "rgb(255, 140, 0)",
          "width": 8
         },
         "mode": "lines",
         "name": "Managing Discord Server Interactions with GPT-powered Bots",
         "type": "scatter",
         "x": [
          "2022-12-19T08:09:08",
          "2022-12-19T20:19:28"
         ],
         "y": [
          18,
          18
         ]
        },
        {
         "line": {
          "color": "rgb(255, 140, 0)",
          "width": 8
         },
         "mode": "lines",
         "name": "Managing Discord Server Interactions with GPT-powered Bots",
         "type": "scatter",
         "x": [
          "2023-03-12T07:37:37",
          "2023-03-19T20:19:28"
         ],
         "y": [
          18,
          18
         ]
        },
        {
         "line": {
          "color": "rgb(255, 140, 0)",
          "width": 8
         },
         "mode": "lines",
         "name": "Managing Discord Server Interactions with GPT-powered Bots",
         "type": "scatter",
         "x": [
          "2023-04-28T11:57:52",
          "2023-04-28T20:19:28"
         ],
         "y": [
          18,
          18
         ]
        },
        {
         "line": {
          "color": "rgb(255, 105, 180)",
          "width": 8
         },
         "mode": "lines",
         "name": "Managing Discord Server Interactions with GPT-powered Bots",
         "type": "scatter",
         "x": [
          "2023-01-08T20:15:15",
          "2023-01-27T20:19:28"
         ],
         "y": [
          19,
          19
         ]
        },
        {
         "line": {
          "color": "rgb(75, 0, 130)",
          "width": 8
         },
         "mode": "lines",
         "name": "Managing Discord Server Interactions with GPT-powered Bots",
         "type": "scatter",
         "x": [
          "2022-12-11T22:34:32",
          "2022-12-12T20:19:28"
         ],
         "y": [
          20,
          20
         ]
        },
        {
         "line": {
          "color": "rgb(75, 0, 130)",
          "width": 8
         },
         "mode": "lines",
         "name": "Managing Discord Server Interactions with GPT-powered Bots",
         "type": "scatter",
         "x": [
          "2022-12-21T22:37:44",
          "2022-12-24T20:19:28"
         ],
         "y": [
          20,
          20
         ]
        },
        {
         "line": {
          "color": "rgb(75, 0, 130)",
          "width": 8
         },
         "mode": "lines",
         "name": "Managing Discord Server Interactions with GPT-powered Bots",
         "type": "scatter",
         "x": [
          "2023-01-02T20:10:40",
          "2023-01-02T20:19:28"
         ],
         "y": [
          20,
          20
         ]
        },
        {
         "line": {
          "color": "rgb(75, 0, 130)",
          "width": 8
         },
         "mode": "lines",
         "name": "Managing Discord Server Interactions with GPT-powered Bots",
         "type": "scatter",
         "x": [
          "2023-01-07T00:44:50",
          "2023-01-07T20:19:28"
         ],
         "y": [
          20,
          20
         ]
        },
        {
         "line": {
          "color": "rgb(75, 0, 130)",
          "width": 8
         },
         "mode": "lines",
         "name": "Managing Discord Server Interactions with GPT-powered Bots",
         "type": "scatter",
         "x": [
          "2023-01-22T09:08:40",
          "2023-01-22T20:19:28"
         ],
         "y": [
          20,
          20
         ]
        },
        {
         "line": {
          "color": "rgb(75, 0, 130)",
          "width": 8
         },
         "mode": "lines",
         "name": "Managing Discord Server Interactions with GPT-powered Bots",
         "type": "scatter",
         "x": [
          "2023-02-09T20:46:36",
          "2023-02-10T20:19:28"
         ],
         "y": [
          20,
          20
         ]
        },
        {
         "line": {
          "color": "rgb(75, 0, 130)",
          "width": 8
         },
         "mode": "lines",
         "name": "Managing Discord Server Interactions with GPT-powered Bots",
         "type": "scatter",
         "x": [
          "2023-03-10T05:01:20",
          "2023-03-10T20:19:28"
         ],
         "y": [
          20,
          20
         ]
        },
        {
         "line": {
          "color": "rgb(75, 0, 130)",
          "width": 8
         },
         "mode": "lines",
         "name": "Managing Discord Server Interactions with GPT-powered Bots",
         "type": "scatter",
         "x": [
          "2023-03-14T16:14:50",
          "2023-03-20T20:19:28"
         ],
         "y": [
          20,
          20
         ]
        },
        {
         "line": {
          "color": "rgb(106, 90, 205)",
          "width": 8
         },
         "mode": "lines",
         "name": "Managing Discord Server Interactions with GPT-powered Bots",
         "type": "scatter",
         "x": [
          "2022-12-11T06:36:21",
          "2022-12-11T20:19:28"
         ],
         "y": [
          21,
          21
         ]
        },
        {
         "line": {
          "color": "rgb(106, 90, 205)",
          "width": 8
         },
         "mode": "lines",
         "name": "Managing Discord Server Interactions with GPT-powered Bots",
         "type": "scatter",
         "x": [
          "2023-03-17T23:59:58",
          "2023-03-18T20:19:28"
         ],
         "y": [
          21,
          21
         ]
        }
       ],
       "layout": {
        "annotations": [
         {
          "font": {
           "color": "black",
           "size": 14
          },
          "showarrow": false,
          "text": "99_%",
          "x": 1.07,
          "xref": "paper",
          "y": 0
         },
         {
          "font": {
           "color": "black",
           "size": 14
          },
          "showarrow": false,
          "text": "99_%",
          "x": 1.07,
          "xref": "paper",
          "y": 1
         },
         {
          "font": {
           "color": "black",
           "size": 14
          },
          "showarrow": false,
          "text": "69_%",
          "x": 1.07,
          "xref": "paper",
          "y": 2
         },
         {
          "font": {
           "color": "black",
           "size": 14
          },
          "showarrow": false,
          "text": "99_%",
          "x": 1.07,
          "xref": "paper",
          "y": 3
         },
         {
          "font": {
           "color": "black",
           "size": 14
          },
          "showarrow": false,
          "text": "36_%",
          "x": 1.07,
          "xref": "paper",
          "y": 4
         },
         {
          "font": {
           "color": "black",
           "size": 14
          },
          "showarrow": false,
          "text": "54_%",
          "x": 1.07,
          "xref": "paper",
          "y": 5
         },
         {
          "font": {
           "color": "black",
           "size": 14
          },
          "showarrow": false,
          "text": "48_%",
          "x": 1.07,
          "xref": "paper",
          "y": 6
         },
         {
          "font": {
           "color": "black",
           "size": 14
          },
          "showarrow": false,
          "text": "57_%",
          "x": 1.07,
          "xref": "paper",
          "y": 7
         },
         {
          "font": {
           "color": "black",
           "size": 14
          },
          "showarrow": false,
          "text": "92_%",
          "x": 1.07,
          "xref": "paper",
          "y": 8
         },
         {
          "font": {
           "color": "black",
           "size": 14
          },
          "showarrow": false,
          "text": "32_%",
          "x": 1.07,
          "xref": "paper",
          "y": 9
         },
         {
          "font": {
           "color": "black",
           "size": 14
          },
          "showarrow": false,
          "text": "75_%",
          "x": 1.07,
          "xref": "paper",
          "y": 10
         },
         {
          "font": {
           "color": "black",
           "size": 14
          },
          "showarrow": false,
          "text": "29_%",
          "x": 1.07,
          "xref": "paper",
          "y": 11
         },
         {
          "font": {
           "color": "black",
           "size": 14
          },
          "showarrow": false,
          "text": "27_%",
          "x": 1.07,
          "xref": "paper",
          "y": 12
         },
         {
          "font": {
           "color": "black",
           "size": 14
          },
          "showarrow": false,
          "text": "46_%",
          "x": 1.07,
          "xref": "paper",
          "y": 13
         },
         {
          "font": {
           "color": "black",
           "size": 14
          },
          "showarrow": false,
          "text": "75_%",
          "x": 1.07,
          "xref": "paper",
          "y": 14
         },
         {
          "font": {
           "color": "black",
           "size": 14
          },
          "showarrow": false,
          "text": "66_%",
          "x": 1.07,
          "xref": "paper",
          "y": 15
         },
         {
          "font": {
           "color": "black",
           "size": 14
          },
          "showarrow": false,
          "text": "83_%",
          "x": 1.07,
          "xref": "paper",
          "y": 16
         },
         {
          "font": {
           "color": "black",
           "size": 14
          },
          "showarrow": false,
          "text": "45_%",
          "x": 1.07,
          "xref": "paper",
          "y": 17
         },
         {
          "font": {
           "color": "black",
           "size": 14
          },
          "showarrow": false,
          "text": "7_%",
          "x": 1.07,
          "xref": "paper",
          "y": 18
         },
         {
          "font": {
           "color": "black",
           "size": 14
          },
          "showarrow": false,
          "text": "13_%",
          "x": 1.07,
          "xref": "paper",
          "y": 19
         },
         {
          "font": {
           "color": "black",
           "size": 14
          },
          "showarrow": false,
          "text": "10_%",
          "x": 1.07,
          "xref": "paper",
          "y": 20
         },
         {
          "font": {
           "color": "black",
           "size": 14
          },
          "showarrow": false,
          "text": "1_%",
          "x": 1.07,
          "xref": "paper",
          "y": 21
         }
        ],
        "height": 1000,
        "showlegend": false,
        "template": {
         "data": {
          "bar": [
           {
            "error_x": {
             "color": "#2a3f5f"
            },
            "error_y": {
             "color": "#2a3f5f"
            },
            "marker": {
             "line": {
              "color": "#E5ECF6",
              "width": 0.5
             },
             "pattern": {
              "fillmode": "overlay",
              "size": 10,
              "solidity": 0.2
             }
            },
            "type": "bar"
           }
          ],
          "barpolar": [
           {
            "marker": {
             "line": {
              "color": "#E5ECF6",
              "width": 0.5
             },
             "pattern": {
              "fillmode": "overlay",
              "size": 10,
              "solidity": 0.2
             }
            },
            "type": "barpolar"
           }
          ],
          "carpet": [
           {
            "aaxis": {
             "endlinecolor": "#2a3f5f",
             "gridcolor": "white",
             "linecolor": "white",
             "minorgridcolor": "white",
             "startlinecolor": "#2a3f5f"
            },
            "baxis": {
             "endlinecolor": "#2a3f5f",
             "gridcolor": "white",
             "linecolor": "white",
             "minorgridcolor": "white",
             "startlinecolor": "#2a3f5f"
            },
            "type": "carpet"
           }
          ],
          "choropleth": [
           {
            "colorbar": {
             "outlinewidth": 0,
             "ticks": ""
            },
            "type": "choropleth"
           }
          ],
          "contour": [
           {
            "colorbar": {
             "outlinewidth": 0,
             "ticks": ""
            },
            "colorscale": [
             [
              0,
              "#0d0887"
             ],
             [
              0.1111111111111111,
              "#46039f"
             ],
             [
              0.2222222222222222,
              "#7201a8"
             ],
             [
              0.3333333333333333,
              "#9c179e"
             ],
             [
              0.4444444444444444,
              "#bd3786"
             ],
             [
              0.5555555555555556,
              "#d8576b"
             ],
             [
              0.6666666666666666,
              "#ed7953"
             ],
             [
              0.7777777777777778,
              "#fb9f3a"
             ],
             [
              0.8888888888888888,
              "#fdca26"
             ],
             [
              1,
              "#f0f921"
             ]
            ],
            "type": "contour"
           }
          ],
          "contourcarpet": [
           {
            "colorbar": {
             "outlinewidth": 0,
             "ticks": ""
            },
            "type": "contourcarpet"
           }
          ],
          "heatmap": [
           {
            "colorbar": {
             "outlinewidth": 0,
             "ticks": ""
            },
            "colorscale": [
             [
              0,
              "#0d0887"
             ],
             [
              0.1111111111111111,
              "#46039f"
             ],
             [
              0.2222222222222222,
              "#7201a8"
             ],
             [
              0.3333333333333333,
              "#9c179e"
             ],
             [
              0.4444444444444444,
              "#bd3786"
             ],
             [
              0.5555555555555556,
              "#d8576b"
             ],
             [
              0.6666666666666666,
              "#ed7953"
             ],
             [
              0.7777777777777778,
              "#fb9f3a"
             ],
             [
              0.8888888888888888,
              "#fdca26"
             ],
             [
              1,
              "#f0f921"
             ]
            ],
            "type": "heatmap"
           }
          ],
          "heatmapgl": [
           {
            "colorbar": {
             "outlinewidth": 0,
             "ticks": ""
            },
            "colorscale": [
             [
              0,
              "#0d0887"
             ],
             [
              0.1111111111111111,
              "#46039f"
             ],
             [
              0.2222222222222222,
              "#7201a8"
             ],
             [
              0.3333333333333333,
              "#9c179e"
             ],
             [
              0.4444444444444444,
              "#bd3786"
             ],
             [
              0.5555555555555556,
              "#d8576b"
             ],
             [
              0.6666666666666666,
              "#ed7953"
             ],
             [
              0.7777777777777778,
              "#fb9f3a"
             ],
             [
              0.8888888888888888,
              "#fdca26"
             ],
             [
              1,
              "#f0f921"
             ]
            ],
            "type": "heatmapgl"
           }
          ],
          "histogram": [
           {
            "marker": {
             "pattern": {
              "fillmode": "overlay",
              "size": 10,
              "solidity": 0.2
             }
            },
            "type": "histogram"
           }
          ],
          "histogram2d": [
           {
            "colorbar": {
             "outlinewidth": 0,
             "ticks": ""
            },
            "colorscale": [
             [
              0,
              "#0d0887"
             ],
             [
              0.1111111111111111,
              "#46039f"
             ],
             [
              0.2222222222222222,
              "#7201a8"
             ],
             [
              0.3333333333333333,
              "#9c179e"
             ],
             [
              0.4444444444444444,
              "#bd3786"
             ],
             [
              0.5555555555555556,
              "#d8576b"
             ],
             [
              0.6666666666666666,
              "#ed7953"
             ],
             [
              0.7777777777777778,
              "#fb9f3a"
             ],
             [
              0.8888888888888888,
              "#fdca26"
             ],
             [
              1,
              "#f0f921"
             ]
            ],
            "type": "histogram2d"
           }
          ],
          "histogram2dcontour": [
           {
            "colorbar": {
             "outlinewidth": 0,
             "ticks": ""
            },
            "colorscale": [
             [
              0,
              "#0d0887"
             ],
             [
              0.1111111111111111,
              "#46039f"
             ],
             [
              0.2222222222222222,
              "#7201a8"
             ],
             [
              0.3333333333333333,
              "#9c179e"
             ],
             [
              0.4444444444444444,
              "#bd3786"
             ],
             [
              0.5555555555555556,
              "#d8576b"
             ],
             [
              0.6666666666666666,
              "#ed7953"
             ],
             [
              0.7777777777777778,
              "#fb9f3a"
             ],
             [
              0.8888888888888888,
              "#fdca26"
             ],
             [
              1,
              "#f0f921"
             ]
            ],
            "type": "histogram2dcontour"
           }
          ],
          "mesh3d": [
           {
            "colorbar": {
             "outlinewidth": 0,
             "ticks": ""
            },
            "type": "mesh3d"
           }
          ],
          "parcoords": [
           {
            "line": {
             "colorbar": {
              "outlinewidth": 0,
              "ticks": ""
             }
            },
            "type": "parcoords"
           }
          ],
          "pie": [
           {
            "automargin": true,
            "type": "pie"
           }
          ],
          "scatter": [
           {
            "fillpattern": {
             "fillmode": "overlay",
             "size": 10,
             "solidity": 0.2
            },
            "type": "scatter"
           }
          ],
          "scatter3d": [
           {
            "line": {
             "colorbar": {
              "outlinewidth": 0,
              "ticks": ""
             }
            },
            "marker": {
             "colorbar": {
              "outlinewidth": 0,
              "ticks": ""
             }
            },
            "type": "scatter3d"
           }
          ],
          "scattercarpet": [
           {
            "marker": {
             "colorbar": {
              "outlinewidth": 0,
              "ticks": ""
             }
            },
            "type": "scattercarpet"
           }
          ],
          "scattergeo": [
           {
            "marker": {
             "colorbar": {
              "outlinewidth": 0,
              "ticks": ""
             }
            },
            "type": "scattergeo"
           }
          ],
          "scattergl": [
           {
            "marker": {
             "colorbar": {
              "outlinewidth": 0,
              "ticks": ""
             }
            },
            "type": "scattergl"
           }
          ],
          "scattermapbox": [
           {
            "marker": {
             "colorbar": {
              "outlinewidth": 0,
              "ticks": ""
             }
            },
            "type": "scattermapbox"
           }
          ],
          "scatterpolar": [
           {
            "marker": {
             "colorbar": {
              "outlinewidth": 0,
              "ticks": ""
             }
            },
            "type": "scatterpolar"
           }
          ],
          "scatterpolargl": [
           {
            "marker": {
             "colorbar": {
              "outlinewidth": 0,
              "ticks": ""
             }
            },
            "type": "scatterpolargl"
           }
          ],
          "scatterternary": [
           {
            "marker": {
             "colorbar": {
              "outlinewidth": 0,
              "ticks": ""
             }
            },
            "type": "scatterternary"
           }
          ],
          "surface": [
           {
            "colorbar": {
             "outlinewidth": 0,
             "ticks": ""
            },
            "colorscale": [
             [
              0,
              "#0d0887"
             ],
             [
              0.1111111111111111,
              "#46039f"
             ],
             [
              0.2222222222222222,
              "#7201a8"
             ],
             [
              0.3333333333333333,
              "#9c179e"
             ],
             [
              0.4444444444444444,
              "#bd3786"
             ],
             [
              0.5555555555555556,
              "#d8576b"
             ],
             [
              0.6666666666666666,
              "#ed7953"
             ],
             [
              0.7777777777777778,
              "#fb9f3a"
             ],
             [
              0.8888888888888888,
              "#fdca26"
             ],
             [
              1,
              "#f0f921"
             ]
            ],
            "type": "surface"
           }
          ],
          "table": [
           {
            "cells": {
             "fill": {
              "color": "#EBF0F8"
             },
             "line": {
              "color": "white"
             }
            },
            "header": {
             "fill": {
              "color": "#C8D4E3"
             },
             "line": {
              "color": "white"
             }
            },
            "type": "table"
           }
          ]
         },
         "layout": {
          "annotationdefaults": {
           "arrowcolor": "#2a3f5f",
           "arrowhead": 0,
           "arrowwidth": 1
          },
          "autotypenumbers": "strict",
          "coloraxis": {
           "colorbar": {
            "outlinewidth": 0,
            "ticks": ""
           }
          },
          "colorscale": {
           "diverging": [
            [
             0,
             "#8e0152"
            ],
            [
             0.1,
             "#c51b7d"
            ],
            [
             0.2,
             "#de77ae"
            ],
            [
             0.3,
             "#f1b6da"
            ],
            [
             0.4,
             "#fde0ef"
            ],
            [
             0.5,
             "#f7f7f7"
            ],
            [
             0.6,
             "#e6f5d0"
            ],
            [
             0.7,
             "#b8e186"
            ],
            [
             0.8,
             "#7fbc41"
            ],
            [
             0.9,
             "#4d9221"
            ],
            [
             1,
             "#276419"
            ]
           ],
           "sequential": [
            [
             0,
             "#0d0887"
            ],
            [
             0.1111111111111111,
             "#46039f"
            ],
            [
             0.2222222222222222,
             "#7201a8"
            ],
            [
             0.3333333333333333,
             "#9c179e"
            ],
            [
             0.4444444444444444,
             "#bd3786"
            ],
            [
             0.5555555555555556,
             "#d8576b"
            ],
            [
             0.6666666666666666,
             "#ed7953"
            ],
            [
             0.7777777777777778,
             "#fb9f3a"
            ],
            [
             0.8888888888888888,
             "#fdca26"
            ],
            [
             1,
             "#f0f921"
            ]
           ],
           "sequentialminus": [
            [
             0,
             "#0d0887"
            ],
            [
             0.1111111111111111,
             "#46039f"
            ],
            [
             0.2222222222222222,
             "#7201a8"
            ],
            [
             0.3333333333333333,
             "#9c179e"
            ],
            [
             0.4444444444444444,
             "#bd3786"
            ],
            [
             0.5555555555555556,
             "#d8576b"
            ],
            [
             0.6666666666666666,
             "#ed7953"
            ],
            [
             0.7777777777777778,
             "#fb9f3a"
            ],
            [
             0.8888888888888888,
             "#fdca26"
            ],
            [
             1,
             "#f0f921"
            ]
           ]
          },
          "colorway": [
           "#636efa",
           "#EF553B",
           "#00cc96",
           "#ab63fa",
           "#FFA15A",
           "#19d3f3",
           "#FF6692",
           "#B6E880",
           "#FF97FF",
           "#FECB52"
          ],
          "font": {
           "color": "#2a3f5f"
          },
          "geo": {
           "bgcolor": "white",
           "lakecolor": "white",
           "landcolor": "#E5ECF6",
           "showlakes": true,
           "showland": true,
           "subunitcolor": "white"
          },
          "hoverlabel": {
           "align": "left"
          },
          "hovermode": "closest",
          "mapbox": {
           "style": "light"
          },
          "paper_bgcolor": "white",
          "plot_bgcolor": "#E5ECF6",
          "polar": {
           "angularaxis": {
            "gridcolor": "white",
            "linecolor": "white",
            "ticks": ""
           },
           "bgcolor": "#E5ECF6",
           "radialaxis": {
            "gridcolor": "white",
            "linecolor": "white",
            "ticks": ""
           }
          },
          "scene": {
           "xaxis": {
            "backgroundcolor": "#E5ECF6",
            "gridcolor": "white",
            "gridwidth": 2,
            "linecolor": "white",
            "showbackground": true,
            "ticks": "",
            "zerolinecolor": "white"
           },
           "yaxis": {
            "backgroundcolor": "#E5ECF6",
            "gridcolor": "white",
            "gridwidth": 2,
            "linecolor": "white",
            "showbackground": true,
            "ticks": "",
            "zerolinecolor": "white"
           },
           "zaxis": {
            "backgroundcolor": "#E5ECF6",
            "gridcolor": "white",
            "gridwidth": 2,
            "linecolor": "white",
            "showbackground": true,
            "ticks": "",
            "zerolinecolor": "white"
           }
          },
          "shapedefaults": {
           "line": {
            "color": "#2a3f5f"
           }
          },
          "ternary": {
           "aaxis": {
            "gridcolor": "white",
            "linecolor": "white",
            "ticks": ""
           },
           "baxis": {
            "gridcolor": "white",
            "linecolor": "white",
            "ticks": ""
           },
           "bgcolor": "#E5ECF6",
           "caxis": {
            "gridcolor": "white",
            "linecolor": "white",
            "ticks": ""
           }
          },
          "title": {
           "x": 0.05
          },
          "xaxis": {
           "automargin": true,
           "gridcolor": "white",
           "linecolor": "white",
           "ticks": "",
           "title": {
            "standoff": 15
           },
           "zerolinecolor": "white",
           "zerolinewidth": 2
          },
          "yaxis": {
           "automargin": true,
           "gridcolor": "white",
           "linecolor": "white",
           "ticks": "",
           "title": {
            "standoff": 15
           },
           "zerolinecolor": "white",
           "zerolinewidth": 2
          }
         }
        },
        "title": {
         "text": "Periodi di Attività per Topic in ordine ascendente di volume"
        },
        "xaxis": {
         "title": {
          "text": "Data"
         }
        },
        "yaxis": {
         "tickfont": {
          "color": "black",
          "size": 14
         },
         "tickmode": "array",
         "ticktext": [
          "AI and ChatGPT in Everyday Life",
          "Chatbot Interaction and Usage on Discord",
          "Discord Server Chatbot Interaction and User Requests",
          "AI Chatbot Interaction and Response automation",
          "Bot Moderation in Online Comment Sections",
          "AI Bots Managing Online Interactions in Chat Platforms",
          "Discord Server Moderation and ChatGPT Interaction",
          "AI Chatbot Interaction and Assistance on Cloud Platforms",
          "Social Media Automated Responses and Bots Interaction",
          "Social Media Karma and Automated Account Moderation",
          "Obama and Trump References in AI Conversations",
          "Reddit Karma and Account Restrictions",
          "Discord Moderation Bot Commands and User Interaction",
          "Discord GPT Bot Moderation and User Interaction",
          "ChatGPT Use Cases and Discussions",
          "Bing's AI Chatbot and User Interaction",
          "Dan Discussing ChatGPT Jailbreaking Ethics",
          "NFT Collecting and Discord Community Interaction",
          "Spam Threshold Management in Online Communities",
          "Managing Discord Server Interactions with GPT-powered Bots",
          "Spam Prevention and Account Karma Management",
          "Squirt: Addressing Spam and Hookup Content on Online Platforms"
         ],
         "tickvals": [
          0,
          1,
          2,
          3,
          4,
          5,
          6,
          7,
          8,
          9,
          10,
          11,
          12,
          13,
          14,
          15,
          16,
          17,
          18,
          19,
          20,
          21
         ],
         "title": {
          "text": "Topic"
         }
        }
       }
      }
     },
     "metadata": {},
     "output_type": "display_data"
    }
   ],
   "source": [
    "fig = go.Figure()\n",
    "y_values = {row['topic']: idx for idx, row in count_series.iterrows()}\n",
    "\n",
    "for index,row in count_series.iterrows():\n",
    "    for start, end in period_activity[row['topic']]:\n",
    "        fig.add_trace(go.Scatter(\n",
    "            x=[start, end],\n",
    "            y=[y_values[row['topic']], y_values[row['topic']]],\n",
    "            mode=\"lines\",\n",
    "            line=dict(color=color_map[row['topic']],width=8),\n",
    "            name=topic\n",
    "        ))\n",
    "\n",
    "fig.update_layout(\n",
    "    title=\"Periodi di Attività per Topic in ordine ascendente di volume\",\n",
    "    xaxis_title=\"Data\",\n",
    "    yaxis_title=\"Topic\",\n",
    "    yaxis=dict(\n",
    "        tickmode='array',\n",
    "        tickvals=list(y_values.values()),\n",
    "        ticktext=list(y_values.keys()),\n",
    "                tickfont=dict(\n",
    "            size=14,  # Aumenta la dimensione del font delle label dell'asse Y\n",
    "            color='black'  # Opzionale: cambia il colore del font (esempio)\n",
    "        )\n",
    "    ),\n",
    "    \n",
    "    showlegend=False,  # Nasconde la leggenda\n",
    "    height=1000\n",
    ")\n",
    "for index,row in count_series.iterrows():\n",
    "    fig.add_annotation(\n",
    "        text=row['percentage_Activity'],\n",
    "        xref=\"paper\",  # Posizione orizzontale relativa al contenuto del grafico\n",
    "        x=1.07,  # Regola questa coordinata per posizionare l'etichetta\n",
    "        y=y_values[row['topic']],  # L'indice y associato all'etichetta\n",
    "        font=dict(size=14, color='black'),\n",
    "        showarrow=False,  # Nascondi la freccia di riferimento\n",
    "    )\n",
    "# Mostra il grafico\n",
    "fig.show()"
   ]
  },
  {
   "cell_type": "code",
   "execution_count": 20,
   "metadata": {},
   "outputs": [
    {
     "data": {
      "text/html": [
       "<div>\n",
       "<style scoped>\n",
       "    .dataframe tbody tr th:only-of-type {\n",
       "        vertical-align: middle;\n",
       "    }\n",
       "\n",
       "    .dataframe tbody tr th {\n",
       "        vertical-align: top;\n",
       "    }\n",
       "\n",
       "    .dataframe thead th {\n",
       "        text-align: right;\n",
       "    }\n",
       "</style>\n",
       "<table border=\"1\" class=\"dataframe\">\n",
       "  <thead>\n",
       "    <tr style=\"text-align: right;\">\n",
       "      <th></th>\n",
       "      <th>time_utc</th>\n",
       "      <th>GPT_label</th>\n",
       "      <th>polarity</th>\n",
       "      <th>text</th>\n",
       "    </tr>\n",
       "  </thead>\n",
       "  <tbody>\n",
       "    <tr>\n",
       "      <th>0</th>\n",
       "      <td>2023-05-01 17:00:56</td>\n",
       "      <td>AI Chatbot Interaction and Assistance on Cloud...</td>\n",
       "      <td>0.117045</td>\n",
       "      <td>ChatGPT does not do stand up comedyI don’t thi...</td>\n",
       "    </tr>\n",
       "    <tr>\n",
       "      <th>1</th>\n",
       "      <td>2023-05-01 16:59:32</td>\n",
       "      <td>Chatbot Interaction and Usage on Discord</td>\n",
       "      <td>0.158333</td>\n",
       "      <td>Dreamcatcher - ChatGPT Retrieval on SteroidsA ...</td>\n",
       "    </tr>\n",
       "    <tr>\n",
       "      <th>2</th>\n",
       "      <td>2023-05-01 16:57:39</td>\n",
       "      <td>Dan Discussing ChatGPT Jailbreaking Ethics</td>\n",
       "      <td>0.166667</td>\n",
       "      <td>Thoughts on this?[How to Jailbreak ChatGPT, Li...</td>\n",
       "    </tr>\n",
       "    <tr>\n",
       "      <th>3</th>\n",
       "      <td>2023-05-01 16:50:02</td>\n",
       "      <td>AI and ChatGPT in Everyday Life</td>\n",
       "      <td>-0.074985</td>\n",
       "      <td>Emergent abilities of chat GPT. We don't reall...</td>\n",
       "    </tr>\n",
       "    <tr>\n",
       "      <th>4</th>\n",
       "      <td>2023-05-01 16:43:19</td>\n",
       "      <td>AI Chatbot Interaction and Assistance on Cloud...</td>\n",
       "      <td>0.200000</td>\n",
       "      <td>This chatgpt app gives me a 20 free chat credi...</td>\n",
       "    </tr>\n",
       "  </tbody>\n",
       "</table>\n",
       "</div>"
      ],
      "text/plain": [
       "             time_utc                                          GPT_label  \\\n",
       "0 2023-05-01 17:00:56  AI Chatbot Interaction and Assistance on Cloud...   \n",
       "1 2023-05-01 16:59:32           Chatbot Interaction and Usage on Discord   \n",
       "2 2023-05-01 16:57:39         Dan Discussing ChatGPT Jailbreaking Ethics   \n",
       "3 2023-05-01 16:50:02                    AI and ChatGPT in Everyday Life   \n",
       "4 2023-05-01 16:43:19  AI Chatbot Interaction and Assistance on Cloud...   \n",
       "\n",
       "   polarity                                               text  \n",
       "0  0.117045  ChatGPT does not do stand up comedyI don’t thi...  \n",
       "1  0.158333  Dreamcatcher - ChatGPT Retrieval on SteroidsA ...  \n",
       "2  0.166667  Thoughts on this?[How to Jailbreak ChatGPT, Li...  \n",
       "3 -0.074985  Emergent abilities of chat GPT. We don't reall...  \n",
       "4  0.200000  This chatgpt app gives me a 20 free chat credi...  "
      ]
     },
     "execution_count": 20,
     "metadata": {},
     "output_type": "execute_result"
    }
   ],
   "source": [
    "df_small.head()"
   ]
  },
  {
   "cell_type": "code",
   "execution_count": 18,
   "metadata": {},
   "outputs": [],
   "source": [
    "period_not_max = {}\n",
    "for topic,periods in period_activity.items():\n",
    "    period_not_max[topic] = []\n",
    "    for start,end in periods:\n",
    "        for start1,end1 in period_max_activity[topic]:\n",
    "            if (start <= start1 and end >= end1):\n",
    "                period_not_max[topic].append((start,start1))\n",
    "                period_not_max[topic].append((end1,end))\n",
    "            else:\n",
    "                period_not_max[topic].append((start,end))\n"
   ]
  },
  {
   "cell_type": "code",
   "execution_count": 19,
   "metadata": {},
   "outputs": [],
   "source": [
    "std_per_topic_activity = {}\n",
    "for topic,periods in period_activity.items():\n",
    "    df_vuoto = pd.DataFrame(columns=df_small.columns)\n",
    "    for start,end in periods:\n",
    "        df_vuoto = pd.concat([df_vuoto, df_small[(df_small['time_utc'] >= start) & (df_small['time_utc'] <= end) & (df_small['GPT_label'] == topic)]])\n",
    "    std_per_topic_activity[topic] = df_vuoto['polarity'].std()\n"
   ]
  },
  {
   "cell_type": "code",
   "execution_count": 20,
   "metadata": {},
   "outputs": [],
   "source": [
    "std_per_topic_max = {}\n",
    "for topic,periods in period_max_activity.items():\n",
    "    df_vuoto = pd.DataFrame(columns=df_small.columns)\n",
    "    for start,end in periods:\n",
    "        df_vuoto = pd.concat([df_vuoto, df_small[(df_small['time_utc'] >= start) & (df_small['time_utc'] <= end) & (df_small['GPT_label'] == topic)]])\n",
    "    std_per_topic_max[topic] = df_vuoto['polarity'].std()"
   ]
  },
  {
   "cell_type": "code",
   "execution_count": 21,
   "metadata": {},
   "outputs": [],
   "source": [
    "std_per_topic_not_max = {}\n",
    "for topic,periods in period_not_max.items():\n",
    "    df_vuoto = pd.DataFrame(columns=df_small.columns)\n",
    "    for start,end in periods:\n",
    "        df_vuoto = pd.concat([df_vuoto, df_small[(df_small['time_utc'] >= start) & (df_small['time_utc'] <= end) & (df_small['GPT_label'] == topic)]])\n",
    "    std_per_topic_not_max[topic] = df_vuoto['polarity'].std()"
   ]
  },
  {
   "cell_type": "code",
   "execution_count": 22,
   "metadata": {},
   "outputs": [
    {
     "data": {
      "text/html": [
       "<div>\n",
       "<style scoped>\n",
       "    .dataframe tbody tr th:only-of-type {\n",
       "        vertical-align: middle;\n",
       "    }\n",
       "\n",
       "    .dataframe tbody tr th {\n",
       "        vertical-align: top;\n",
       "    }\n",
       "\n",
       "    .dataframe thead th {\n",
       "        text-align: right;\n",
       "    }\n",
       "</style>\n",
       "<table border=\"1\" class=\"dataframe\">\n",
       "  <thead>\n",
       "    <tr style=\"text-align: right;\">\n",
       "      <th></th>\n",
       "      <th>topic</th>\n",
       "      <th>data</th>\n",
       "      <th>period_max_Activity</th>\n",
       "      <th>percentage_max_Activity</th>\n",
       "      <th>period_Activity</th>\n",
       "      <th>percentage_Activity</th>\n",
       "    </tr>\n",
       "  </thead>\n",
       "  <tbody>\n",
       "    <tr>\n",
       "      <th>0</th>\n",
       "      <td>AI and ChatGPT in Everyday Life</td>\n",
       "      <td>13263</td>\n",
       "      <td>[(2022-12-07 20:03:59, 2022-12-18 20:32:58), (...</td>\n",
       "      <td>42_%</td>\n",
       "      <td>[(2022-12-02 14:26:01, 2023-04-30 21:08:43)]</td>\n",
       "      <td>99_%</td>\n",
       "    </tr>\n",
       "    <tr>\n",
       "      <th>1</th>\n",
       "      <td>Chatbot Interaction and Usage on Discord</td>\n",
       "      <td>8155</td>\n",
       "      <td>[(2022-12-08 18:43:20, 2022-12-17 20:21:29), (...</td>\n",
       "      <td>34_%</td>\n",
       "      <td>[(2022-12-02 19:23:24, 2023-04-30 21:08:43)]</td>\n",
       "      <td>99_%</td>\n",
       "    </tr>\n",
       "    <tr>\n",
       "      <th>2</th>\n",
       "      <td>Discord Server Chatbot Interaction and User Re...</td>\n",
       "      <td>7704</td>\n",
       "      <td>[(2022-12-20 19:42:40, 2022-12-21 20:43:04), (...</td>\n",
       "      <td>34_%</td>\n",
       "      <td>[(2022-12-04 23:33:58, 2022-12-05 20:19:28), (...</td>\n",
       "      <td>69_%</td>\n",
       "    </tr>\n",
       "    <tr>\n",
       "      <th>3</th>\n",
       "      <td>AI Chatbot Interaction and Response automation</td>\n",
       "      <td>5197</td>\n",
       "      <td>[(2023-03-20 20:00:44, 2023-04-22 20:32:54), (...</td>\n",
       "      <td>25_%</td>\n",
       "      <td>[(2022-12-02 14:18:59, 2023-04-30 21:08:43)]</td>\n",
       "      <td>99_%</td>\n",
       "    </tr>\n",
       "    <tr>\n",
       "      <th>4</th>\n",
       "      <td>Bot Moderation in Online Comment Sections</td>\n",
       "      <td>4714</td>\n",
       "      <td>[(2023-01-26 15:38:08, 2023-01-27 16:49:02), (...</td>\n",
       "      <td>14_%</td>\n",
       "      <td>[(2022-12-08 11:44:33, 2022-12-09 20:19:28), (...</td>\n",
       "      <td>36_%</td>\n",
       "    </tr>\n",
       "  </tbody>\n",
       "</table>\n",
       "</div>"
      ],
      "text/plain": [
       "                                               topic   data  \\\n",
       "0                    AI and ChatGPT in Everyday Life  13263   \n",
       "1           Chatbot Interaction and Usage on Discord   8155   \n",
       "2  Discord Server Chatbot Interaction and User Re...   7704   \n",
       "3     AI Chatbot Interaction and Response automation   5197   \n",
       "4          Bot Moderation in Online Comment Sections   4714   \n",
       "\n",
       "                                 period_max_Activity percentage_max_Activity  \\\n",
       "0  [(2022-12-07 20:03:59, 2022-12-18 20:32:58), (...                    42_%   \n",
       "1  [(2022-12-08 18:43:20, 2022-12-17 20:21:29), (...                    34_%   \n",
       "2  [(2022-12-20 19:42:40, 2022-12-21 20:43:04), (...                    34_%   \n",
       "3  [(2023-03-20 20:00:44, 2023-04-22 20:32:54), (...                    25_%   \n",
       "4  [(2023-01-26 15:38:08, 2023-01-27 16:49:02), (...                    14_%   \n",
       "\n",
       "                                     period_Activity percentage_Activity  \n",
       "0       [(2022-12-02 14:26:01, 2023-04-30 21:08:43)]                99_%  \n",
       "1       [(2022-12-02 19:23:24, 2023-04-30 21:08:43)]                99_%  \n",
       "2  [(2022-12-04 23:33:58, 2022-12-05 20:19:28), (...                69_%  \n",
       "3       [(2022-12-02 14:18:59, 2023-04-30 21:08:43)]                99_%  \n",
       "4  [(2022-12-08 11:44:33, 2022-12-09 20:19:28), (...                36_%  "
      ]
     },
     "execution_count": 22,
     "metadata": {},
     "output_type": "execute_result"
    }
   ],
   "source": [
    "count_series.head()"
   ]
  },
  {
   "cell_type": "code",
   "execution_count": 23,
   "metadata": {},
   "outputs": [],
   "source": [
    "count_series['std_per_topic_max'] = count_series['topic'].map(std_per_topic_max)\n",
    "count_series['std_per_topic_not_max'] = count_series['topic'].map(std_per_topic_not_max)"
   ]
  },
  {
   "cell_type": "code",
   "execution_count": 24,
   "metadata": {},
   "outputs": [
    {
     "data": {
      "application/vnd.plotly.v1+json": {
       "config": {
        "plotlyServerURL": "https://plot.ly"
       },
       "data": [
        {
         "marker": {
          "color": "rgba(246, 78, 139, 0.6)",
          "line": {
           "color": "rgba(246, 78, 139, 1.0)",
           "width": 3
          }
         },
         "name": "not max",
         "orientation": "h",
         "type": "bar",
         "x": [
          0.10524836251025414,
          0.11662577310456203,
          0.0952744484841106,
          0.1090397292122792,
          0.06246288497495299,
          0.07002771901777156,
          0.07320506421909437,
          0.09612127003312342,
          0.0926230966519069,
          0.09756122845076796,
          0.23419832604716975,
          0.07411654358523646,
          0.08314864335513449,
          0.09858472046087466,
          0.2308498633569386,
          0.08312913375067826,
          0.09102784155796564,
          0.0061192121613477665,
          0.09958354739395583,
          null,
          0.09710339804369397,
          0.271057599431273
         ],
         "y": [
          "AI and ChatGPT in Everyday Life",
          "Chatbot Interaction and Usage on Discord",
          "Discord Server Chatbot Interaction and User Requests",
          "AI Chatbot Interaction and Response automation",
          "Bot Moderation in Online Comment Sections",
          "AI Bots Managing Online Interactions in Chat Platforms",
          "Discord Server Moderation and ChatGPT Interaction",
          "AI Chatbot Interaction and Assistance on Cloud Platforms",
          "Social Media Automated Responses and Bots Interaction",
          "Social Media Karma and Automated Account Moderation",
          "Obama and Trump References in AI Conversations",
          "Reddit Karma and Account Restrictions",
          "Discord Moderation Bot Commands and User Interaction",
          "Discord GPT Bot Moderation and User Interaction",
          "ChatGPT Use Cases and Discussions",
          "Bing's AI Chatbot and User Interaction",
          "Dan Discussing ChatGPT Jailbreaking Ethics",
          "NFT Collecting and Discord Community Interaction",
          "Spam Threshold Management in Online Communities",
          "Managing Discord Server Interactions with GPT-powered Bots",
          "Spam Prevention and Account Karma Management",
          "Squirt: Addressing Spam and Hookup Content on Online Platforms"
         ]
        },
        {
         "marker": {
          "color": "rgba(58, 71, 80, 0.6)",
          "line": {
           "color": "rgba(58, 71, 80, 1.0)",
           "width": 3
          }
         },
         "name": "max",
         "orientation": "h",
         "type": "bar",
         "x": [
          0.10813839938893491,
          0.11163107161653926,
          0.0872359164295784,
          0.0765908759432749,
          0.058301783448313764,
          0.06229850417046691,
          0.06540395799654142,
          0.0566707239436363,
          0.06948368883178323,
          0.06966303531738441,
          0.23516374065489334,
          0.07210779338985339,
          0.08413860352481897,
          0.0914693729503354,
          0.23877819570205722,
          0.08345822940106844,
          0.09108537698097943,
          0.005684690051082188,
          0.056137060395219,
          0.006038391205292957,
          0.08751908145940052,
          null
         ],
         "y": [
          "AI and ChatGPT in Everyday Life",
          "Chatbot Interaction and Usage on Discord",
          "Discord Server Chatbot Interaction and User Requests",
          "AI Chatbot Interaction and Response automation",
          "Bot Moderation in Online Comment Sections",
          "AI Bots Managing Online Interactions in Chat Platforms",
          "Discord Server Moderation and ChatGPT Interaction",
          "AI Chatbot Interaction and Assistance on Cloud Platforms",
          "Social Media Automated Responses and Bots Interaction",
          "Social Media Karma and Automated Account Moderation",
          "Obama and Trump References in AI Conversations",
          "Reddit Karma and Account Restrictions",
          "Discord Moderation Bot Commands and User Interaction",
          "Discord GPT Bot Moderation and User Interaction",
          "ChatGPT Use Cases and Discussions",
          "Bing's AI Chatbot and User Interaction",
          "Dan Discussing ChatGPT Jailbreaking Ethics",
          "NFT Collecting and Discord Community Interaction",
          "Spam Threshold Management in Online Communities",
          "Managing Discord Server Interactions with GPT-powered Bots",
          "Spam Prevention and Account Karma Management",
          "Squirt: Addressing Spam and Hookup Content on Online Platforms"
         ]
        }
       ],
       "layout": {
        "height": 600,
        "legend": {
         "title": {
          "text": "Legenda"
         },
         "x": 1,
         "xanchor": "left",
         "y": 1,
         "yanchor": "top"
        },
        "template": {
         "data": {
          "bar": [
           {
            "error_x": {
             "color": "#2a3f5f"
            },
            "error_y": {
             "color": "#2a3f5f"
            },
            "marker": {
             "line": {
              "color": "#E5ECF6",
              "width": 0.5
             },
             "pattern": {
              "fillmode": "overlay",
              "size": 10,
              "solidity": 0.2
             }
            },
            "type": "bar"
           }
          ],
          "barpolar": [
           {
            "marker": {
             "line": {
              "color": "#E5ECF6",
              "width": 0.5
             },
             "pattern": {
              "fillmode": "overlay",
              "size": 10,
              "solidity": 0.2
             }
            },
            "type": "barpolar"
           }
          ],
          "carpet": [
           {
            "aaxis": {
             "endlinecolor": "#2a3f5f",
             "gridcolor": "white",
             "linecolor": "white",
             "minorgridcolor": "white",
             "startlinecolor": "#2a3f5f"
            },
            "baxis": {
             "endlinecolor": "#2a3f5f",
             "gridcolor": "white",
             "linecolor": "white",
             "minorgridcolor": "white",
             "startlinecolor": "#2a3f5f"
            },
            "type": "carpet"
           }
          ],
          "choropleth": [
           {
            "colorbar": {
             "outlinewidth": 0,
             "ticks": ""
            },
            "type": "choropleth"
           }
          ],
          "contour": [
           {
            "colorbar": {
             "outlinewidth": 0,
             "ticks": ""
            },
            "colorscale": [
             [
              0,
              "#0d0887"
             ],
             [
              0.1111111111111111,
              "#46039f"
             ],
             [
              0.2222222222222222,
              "#7201a8"
             ],
             [
              0.3333333333333333,
              "#9c179e"
             ],
             [
              0.4444444444444444,
              "#bd3786"
             ],
             [
              0.5555555555555556,
              "#d8576b"
             ],
             [
              0.6666666666666666,
              "#ed7953"
             ],
             [
              0.7777777777777778,
              "#fb9f3a"
             ],
             [
              0.8888888888888888,
              "#fdca26"
             ],
             [
              1,
              "#f0f921"
             ]
            ],
            "type": "contour"
           }
          ],
          "contourcarpet": [
           {
            "colorbar": {
             "outlinewidth": 0,
             "ticks": ""
            },
            "type": "contourcarpet"
           }
          ],
          "heatmap": [
           {
            "colorbar": {
             "outlinewidth": 0,
             "ticks": ""
            },
            "colorscale": [
             [
              0,
              "#0d0887"
             ],
             [
              0.1111111111111111,
              "#46039f"
             ],
             [
              0.2222222222222222,
              "#7201a8"
             ],
             [
              0.3333333333333333,
              "#9c179e"
             ],
             [
              0.4444444444444444,
              "#bd3786"
             ],
             [
              0.5555555555555556,
              "#d8576b"
             ],
             [
              0.6666666666666666,
              "#ed7953"
             ],
             [
              0.7777777777777778,
              "#fb9f3a"
             ],
             [
              0.8888888888888888,
              "#fdca26"
             ],
             [
              1,
              "#f0f921"
             ]
            ],
            "type": "heatmap"
           }
          ],
          "heatmapgl": [
           {
            "colorbar": {
             "outlinewidth": 0,
             "ticks": ""
            },
            "colorscale": [
             [
              0,
              "#0d0887"
             ],
             [
              0.1111111111111111,
              "#46039f"
             ],
             [
              0.2222222222222222,
              "#7201a8"
             ],
             [
              0.3333333333333333,
              "#9c179e"
             ],
             [
              0.4444444444444444,
              "#bd3786"
             ],
             [
              0.5555555555555556,
              "#d8576b"
             ],
             [
              0.6666666666666666,
              "#ed7953"
             ],
             [
              0.7777777777777778,
              "#fb9f3a"
             ],
             [
              0.8888888888888888,
              "#fdca26"
             ],
             [
              1,
              "#f0f921"
             ]
            ],
            "type": "heatmapgl"
           }
          ],
          "histogram": [
           {
            "marker": {
             "pattern": {
              "fillmode": "overlay",
              "size": 10,
              "solidity": 0.2
             }
            },
            "type": "histogram"
           }
          ],
          "histogram2d": [
           {
            "colorbar": {
             "outlinewidth": 0,
             "ticks": ""
            },
            "colorscale": [
             [
              0,
              "#0d0887"
             ],
             [
              0.1111111111111111,
              "#46039f"
             ],
             [
              0.2222222222222222,
              "#7201a8"
             ],
             [
              0.3333333333333333,
              "#9c179e"
             ],
             [
              0.4444444444444444,
              "#bd3786"
             ],
             [
              0.5555555555555556,
              "#d8576b"
             ],
             [
              0.6666666666666666,
              "#ed7953"
             ],
             [
              0.7777777777777778,
              "#fb9f3a"
             ],
             [
              0.8888888888888888,
              "#fdca26"
             ],
             [
              1,
              "#f0f921"
             ]
            ],
            "type": "histogram2d"
           }
          ],
          "histogram2dcontour": [
           {
            "colorbar": {
             "outlinewidth": 0,
             "ticks": ""
            },
            "colorscale": [
             [
              0,
              "#0d0887"
             ],
             [
              0.1111111111111111,
              "#46039f"
             ],
             [
              0.2222222222222222,
              "#7201a8"
             ],
             [
              0.3333333333333333,
              "#9c179e"
             ],
             [
              0.4444444444444444,
              "#bd3786"
             ],
             [
              0.5555555555555556,
              "#d8576b"
             ],
             [
              0.6666666666666666,
              "#ed7953"
             ],
             [
              0.7777777777777778,
              "#fb9f3a"
             ],
             [
              0.8888888888888888,
              "#fdca26"
             ],
             [
              1,
              "#f0f921"
             ]
            ],
            "type": "histogram2dcontour"
           }
          ],
          "mesh3d": [
           {
            "colorbar": {
             "outlinewidth": 0,
             "ticks": ""
            },
            "type": "mesh3d"
           }
          ],
          "parcoords": [
           {
            "line": {
             "colorbar": {
              "outlinewidth": 0,
              "ticks": ""
             }
            },
            "type": "parcoords"
           }
          ],
          "pie": [
           {
            "automargin": true,
            "type": "pie"
           }
          ],
          "scatter": [
           {
            "fillpattern": {
             "fillmode": "overlay",
             "size": 10,
             "solidity": 0.2
            },
            "type": "scatter"
           }
          ],
          "scatter3d": [
           {
            "line": {
             "colorbar": {
              "outlinewidth": 0,
              "ticks": ""
             }
            },
            "marker": {
             "colorbar": {
              "outlinewidth": 0,
              "ticks": ""
             }
            },
            "type": "scatter3d"
           }
          ],
          "scattercarpet": [
           {
            "marker": {
             "colorbar": {
              "outlinewidth": 0,
              "ticks": ""
             }
            },
            "type": "scattercarpet"
           }
          ],
          "scattergeo": [
           {
            "marker": {
             "colorbar": {
              "outlinewidth": 0,
              "ticks": ""
             }
            },
            "type": "scattergeo"
           }
          ],
          "scattergl": [
           {
            "marker": {
             "colorbar": {
              "outlinewidth": 0,
              "ticks": ""
             }
            },
            "type": "scattergl"
           }
          ],
          "scattermapbox": [
           {
            "marker": {
             "colorbar": {
              "outlinewidth": 0,
              "ticks": ""
             }
            },
            "type": "scattermapbox"
           }
          ],
          "scatterpolar": [
           {
            "marker": {
             "colorbar": {
              "outlinewidth": 0,
              "ticks": ""
             }
            },
            "type": "scatterpolar"
           }
          ],
          "scatterpolargl": [
           {
            "marker": {
             "colorbar": {
              "outlinewidth": 0,
              "ticks": ""
             }
            },
            "type": "scatterpolargl"
           }
          ],
          "scatterternary": [
           {
            "marker": {
             "colorbar": {
              "outlinewidth": 0,
              "ticks": ""
             }
            },
            "type": "scatterternary"
           }
          ],
          "surface": [
           {
            "colorbar": {
             "outlinewidth": 0,
             "ticks": ""
            },
            "colorscale": [
             [
              0,
              "#0d0887"
             ],
             [
              0.1111111111111111,
              "#46039f"
             ],
             [
              0.2222222222222222,
              "#7201a8"
             ],
             [
              0.3333333333333333,
              "#9c179e"
             ],
             [
              0.4444444444444444,
              "#bd3786"
             ],
             [
              0.5555555555555556,
              "#d8576b"
             ],
             [
              0.6666666666666666,
              "#ed7953"
             ],
             [
              0.7777777777777778,
              "#fb9f3a"
             ],
             [
              0.8888888888888888,
              "#fdca26"
             ],
             [
              1,
              "#f0f921"
             ]
            ],
            "type": "surface"
           }
          ],
          "table": [
           {
            "cells": {
             "fill": {
              "color": "#EBF0F8"
             },
             "line": {
              "color": "white"
             }
            },
            "header": {
             "fill": {
              "color": "#C8D4E3"
             },
             "line": {
              "color": "white"
             }
            },
            "type": "table"
           }
          ]
         },
         "layout": {
          "annotationdefaults": {
           "arrowcolor": "#2a3f5f",
           "arrowhead": 0,
           "arrowwidth": 1
          },
          "autotypenumbers": "strict",
          "coloraxis": {
           "colorbar": {
            "outlinewidth": 0,
            "ticks": ""
           }
          },
          "colorscale": {
           "diverging": [
            [
             0,
             "#8e0152"
            ],
            [
             0.1,
             "#c51b7d"
            ],
            [
             0.2,
             "#de77ae"
            ],
            [
             0.3,
             "#f1b6da"
            ],
            [
             0.4,
             "#fde0ef"
            ],
            [
             0.5,
             "#f7f7f7"
            ],
            [
             0.6,
             "#e6f5d0"
            ],
            [
             0.7,
             "#b8e186"
            ],
            [
             0.8,
             "#7fbc41"
            ],
            [
             0.9,
             "#4d9221"
            ],
            [
             1,
             "#276419"
            ]
           ],
           "sequential": [
            [
             0,
             "#0d0887"
            ],
            [
             0.1111111111111111,
             "#46039f"
            ],
            [
             0.2222222222222222,
             "#7201a8"
            ],
            [
             0.3333333333333333,
             "#9c179e"
            ],
            [
             0.4444444444444444,
             "#bd3786"
            ],
            [
             0.5555555555555556,
             "#d8576b"
            ],
            [
             0.6666666666666666,
             "#ed7953"
            ],
            [
             0.7777777777777778,
             "#fb9f3a"
            ],
            [
             0.8888888888888888,
             "#fdca26"
            ],
            [
             1,
             "#f0f921"
            ]
           ],
           "sequentialminus": [
            [
             0,
             "#0d0887"
            ],
            [
             0.1111111111111111,
             "#46039f"
            ],
            [
             0.2222222222222222,
             "#7201a8"
            ],
            [
             0.3333333333333333,
             "#9c179e"
            ],
            [
             0.4444444444444444,
             "#bd3786"
            ],
            [
             0.5555555555555556,
             "#d8576b"
            ],
            [
             0.6666666666666666,
             "#ed7953"
            ],
            [
             0.7777777777777778,
             "#fb9f3a"
            ],
            [
             0.8888888888888888,
             "#fdca26"
            ],
            [
             1,
             "#f0f921"
            ]
           ]
          },
          "colorway": [
           "#636efa",
           "#EF553B",
           "#00cc96",
           "#ab63fa",
           "#FFA15A",
           "#19d3f3",
           "#FF6692",
           "#B6E880",
           "#FF97FF",
           "#FECB52"
          ],
          "font": {
           "color": "#2a3f5f"
          },
          "geo": {
           "bgcolor": "white",
           "lakecolor": "white",
           "landcolor": "#E5ECF6",
           "showlakes": true,
           "showland": true,
           "subunitcolor": "white"
          },
          "hoverlabel": {
           "align": "left"
          },
          "hovermode": "closest",
          "mapbox": {
           "style": "light"
          },
          "paper_bgcolor": "white",
          "plot_bgcolor": "#E5ECF6",
          "polar": {
           "angularaxis": {
            "gridcolor": "white",
            "linecolor": "white",
            "ticks": ""
           },
           "bgcolor": "#E5ECF6",
           "radialaxis": {
            "gridcolor": "white",
            "linecolor": "white",
            "ticks": ""
           }
          },
          "scene": {
           "xaxis": {
            "backgroundcolor": "#E5ECF6",
            "gridcolor": "white",
            "gridwidth": 2,
            "linecolor": "white",
            "showbackground": true,
            "ticks": "",
            "zerolinecolor": "white"
           },
           "yaxis": {
            "backgroundcolor": "#E5ECF6",
            "gridcolor": "white",
            "gridwidth": 2,
            "linecolor": "white",
            "showbackground": true,
            "ticks": "",
            "zerolinecolor": "white"
           },
           "zaxis": {
            "backgroundcolor": "#E5ECF6",
            "gridcolor": "white",
            "gridwidth": 2,
            "linecolor": "white",
            "showbackground": true,
            "ticks": "",
            "zerolinecolor": "white"
           }
          },
          "shapedefaults": {
           "line": {
            "color": "#2a3f5f"
           }
          },
          "ternary": {
           "aaxis": {
            "gridcolor": "white",
            "linecolor": "white",
            "ticks": ""
           },
           "baxis": {
            "gridcolor": "white",
            "linecolor": "white",
            "ticks": ""
           },
           "bgcolor": "#E5ECF6",
           "caxis": {
            "gridcolor": "white",
            "linecolor": "white",
            "ticks": ""
           }
          },
          "title": {
           "x": 0.05
          },
          "xaxis": {
           "automargin": true,
           "gridcolor": "white",
           "linecolor": "white",
           "ticks": "",
           "title": {
            "standoff": 15
           },
           "zerolinecolor": "white",
           "zerolinewidth": 2
          },
          "yaxis": {
           "automargin": true,
           "gridcolor": "white",
           "linecolor": "white",
           "ticks": "",
           "title": {
            "standoff": 15
           },
           "zerolinecolor": "white",
           "zerolinewidth": 2
          }
         }
        },
        "title": {
         "font": {
          "color": "black",
          "family": "Arial, sans-serif",
          "size": 24
         },
         "text": "<b>Confronto tra std nei periodi di massima attività, rispetto ai periodi di attività regolare",
         "x": 0.5,
         "xanchor": "center"
        },
        "width": 1000
       }
      }
     },
     "metadata": {},
     "output_type": "display_data"
    }
   ],
   "source": [
    "fig = go.Figure()\n",
    "fig.add_trace(go.Bar(\n",
    "    y=list(list(count_series['topic'])),\n",
    "    x=list(list(count_series['std_per_topic_not_max'])),\n",
    "    name='not max',\n",
    "    orientation='h', \n",
    "    marker=dict(\n",
    "        color='rgba(246, 78, 139, 0.6)',\n",
    "        line=dict(color='rgba(246, 78, 139, 1.0)', width=3)\n",
    "    )\n",
    "))\n",
    "fig.add_trace(go.Bar(\n",
    "    y=list(list(count_series['topic'])),\n",
    "    x=list(list(count_series['std_per_topic_max'])),\n",
    "    name='max',\n",
    "    orientation='h',\n",
    "    marker=dict(\n",
    "        color='rgba(58, 71, 80, 0.6)',\n",
    "        line=dict(color='rgba(58, 71, 80, 1.0)', width=3)\n",
    "    )\n",
    "))\n",
    "fig.update_layout(\n",
    "    legend=dict(\n",
    "        title=\"Legenda\",  # Titolo della legenda\n",
    "        yanchor=\"top\",  # Posizione verticale della legenda\n",
    "        y=1.0,  # Posizione verticale della legenda\n",
    "        xanchor=\"left\",  # Posizione orizzontale della legenda\n",
    "        x=1  # Posizione orizzontale della legenda\n",
    "    ),\n",
    "    title=dict(\n",
    "        text='<b>Confronto tra std nei periodi di massima attività, rispetto ai periodi di attività regolare',  # Title text\n",
    "        x=0.5,  # x=0.5 centers the title\n",
    "        xanchor='center',  # 'center' ensures the title is centered\n",
    "        font=dict(\n",
    "            size=24,\n",
    "            color='black',\n",
    "            family=\"Arial, sans-serif\",\n",
    "        )\n",
    "        )\n",
    ")\n",
    "\n",
    "\n",
    "fig.update_layout(\n",
    "    width=1000,   # Larghezza in pixel\n",
    "    height=600   # Altezza in pixel\n",
    ")\n",
    "\n"
   ]
  },
  {
   "cell_type": "code",
   "execution_count": 25,
   "metadata": {},
   "outputs": [
    {
     "name": "stdout",
     "output_type": "stream",
     "text": [
      "14\n"
     ]
    }
   ],
   "source": [
    "count = 0\n",
    "for topic in topics:\n",
    "    if(std_per_topic_not_max[topic] > std_per_topic_max[topic]):\n",
    "        count += 1\n",
    "print(count)"
   ]
  },
  {
   "cell_type": "code",
   "execution_count": 26,
   "metadata": {},
   "outputs": [],
   "source": [
    "std_difference_per_topic = {}\n",
    "for topic in topics:\n",
    "    std_difference_per_topic[topic] = std_per_topic_not_max[topic] - std_per_topic_max[topic]\n",
    "    "
   ]
  },
  {
   "cell_type": "code",
   "execution_count": 27,
   "metadata": {},
   "outputs": [],
   "source": [
    "dizionario_ordinato = dict(sorted(std_difference_per_topic.items(), key=itemgetter(1), reverse=True))"
   ]
  },
  {
   "cell_type": "code",
   "execution_count": null,
   "metadata": {},
   "outputs": [],
   "source": []
  },
  {
   "cell_type": "code",
   "execution_count": null,
   "metadata": {},
   "outputs": [],
   "source": []
  }
 ],
 "metadata": {
  "kernelspec": {
   "display_name": "tesi10",
   "language": "python",
   "name": "p10"
  },
  "language_info": {
   "codemirror_mode": {
    "name": "ipython",
    "version": 3
   },
   "file_extension": ".py",
   "mimetype": "text/x-python",
   "name": "python",
   "nbconvert_exporter": "python",
   "pygments_lexer": "ipython3",
   "version": "3.10.11"
  }
 },
 "nbformat": 4,
 "nbformat_minor": 2
}
