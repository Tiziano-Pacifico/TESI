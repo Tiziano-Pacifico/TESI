{
 "cells": [
  {
   "cell_type": "code",
   "execution_count": 1,
   "id": "0c342fd9",
   "metadata": {},
   "outputs": [],
   "source": [
    "import pandas as pd\n",
    "import matplotlib.pyplot as plt\n",
    "import numpy as np\n",
    "import plotly.graph_objs as go\n",
    "from plotly.subplots import make_subplots\n",
    "from operator import itemgetter"
   ]
  },
  {
   "cell_type": "code",
   "execution_count": 2,
   "id": "ec7796df",
   "metadata": {},
   "outputs": [],
   "source": [
    "path = \"C:\\\\Users\\\\Tiziano Pacifico\\\\Desktop\\\\TESI General\\\\TESI_FINAL_STAGE\\\\FASE 6\\\\DFs\\\\\"\n",
    "filename = \"final_df.json\"\n",
    "df_in = pd.read_json(path+filename, lines=True)"
   ]
  },
  {
   "cell_type": "code",
   "execution_count": 3,
   "id": "054a1b30",
   "metadata": {},
   "outputs": [],
   "source": [
    "#Divido il dataframe per intervalli settimanali, riduco le colonne a quelle che mi initeressano\n",
    "df_in['time_utc'] = pd.to_datetime(df_in['utc_datetime_str'])\n",
    "df_small = df_in[['time_utc','GPT_label','polarity','text']].copy()\n",
    "day_intervals = pd.date_range(start=df_small['time_utc'].min(), end=df_small['time_utc'].max(), freq='1D')\n",
    "\n",
    "day_df_list = []\n",
    "for i in range(len(day_intervals) - 1):\n",
    "    start_date = day_intervals[i]\n",
    "    end_date = day_intervals[i + 1]\n",
    "    week_data = df_small[(df_small['time_utc'] >= start_date) & (df_small['time_utc'] < end_date)].copy()\n",
    "    day_df_list.append(week_data)\n",
    "day_df_list.append(df_small[(df_small['time_utc'] >= end_date) & (df_small['time_utc'] <= df_small['time_utc'].max())].copy())"
   ]
  },
  {
   "cell_type": "code",
   "execution_count": 4,
   "id": "a6b10c6a",
   "metadata": {},
   "outputs": [],
   "source": [
    "topics = list(df_small['GPT_label'].unique())"
   ]
  },
  {
   "cell_type": "code",
   "execution_count": 5,
   "id": "eab77afe",
   "metadata": {},
   "outputs": [],
   "source": [
    "#ottengo un dizionario in cui le chiavi sono i topic e i valori sono liste di DFs. Ogni lista contiene i DFs per quei topic divisi per giorni\n",
    "dfs_per_days_and_topics = {}\n",
    "for topic in topics:\n",
    "    days_df_list_per_topic = []\n",
    "    for dayly_df in day_df_list:\n",
    "        days_df_list_per_topic.append(dayly_df[dayly_df['GPT_label'] == topic])\n",
    "    dfs_per_days_and_topics[topic] = days_df_list_per_topic"
   ]
  },
  {
   "cell_type": "code",
   "execution_count": 6,
   "id": "b648399d",
   "metadata": {},
   "outputs": [],
   "source": [
    "avg_post_per_days_per_topic_list = {}\n",
    "for topic in topics:\n",
    "    avg_post_per_day = (df_small.groupby('GPT_label')['GPT_label'].count()[topic])/len(dfs_per_days_and_topics[topic])\n",
    "    avg_post_per_days_per_topic_list[topic] = round(avg_post_per_day)"
   ]
  },
  {
   "cell_type": "code",
   "execution_count": 7,
   "id": "f02f5e0f",
   "metadata": {},
   "outputs": [],
   "source": [
    "filename = \"count_series.json\"\n",
    "count_series = pd.read_json(path+filename)\n",
    "count_series = count_series.drop('name', axis=1).rename(columns={'index':'topic'})\n"
   ]
  },
  {
   "cell_type": "code",
   "execution_count": 10,
   "id": "b9ce0e97",
   "metadata": {},
   "outputs": [],
   "source": [
    "period_max_activity = {}\n",
    "i = 0\n",
    "for topic in topics:\n",
    "    #print(i)\n",
    "    \n",
    "    start = False\n",
    "    period_max_activity[topic] = []\n",
    "    start_date = None\n",
    "    stop_date = None\n",
    "    j = 0\n",
    "    for df_per_day_and_topic in dfs_per_days_and_topics[topic]:\n",
    "        if(df_per_day_and_topic.shape[0] > avg_post_per_days_per_topic_list[topic] and not(start)):\n",
    "            start = True\n",
    "            start_date = df_per_day_and_topic['time_utc'].iloc[0]\n",
    "            stop_date = None\n",
    "            #print(f\"start: {start_date}\")\n",
    "        #print(f\"_____{df_per_day_and_topic.shape[0]}\")\n",
    "        if(df_per_day_and_topic.shape[0] < avg_post_per_days_per_topic_list[topic] and start):\n",
    "            start = False\n",
    "            if(df_per_day_and_topic.shape[0] <= 0):\n",
    "                stop_date = day_intervals[j]\n",
    "                #print(f\"stop: {stop_date}\")\n",
    "            else:\n",
    "                stop_date = df_per_day_and_topic['time_utc'].iloc[-1]\n",
    "            \n",
    "        if(start_date != None and stop_date != None):\n",
    "            period_max_activity[topic].append((start_date, stop_date))\n",
    "            start_date = None\n",
    "            stop_date = None\n",
    "        j += 1\n",
    "    if(start_date != None and stop_date == None):\n",
    "        stop_date = dfs_per_days_and_topics[topics[4]][-1]['time_utc'].iloc[-1]\n",
    "        period_max_activity[topic].append((start_date, stop_date))\n",
    "    i += 1\n",
    "#for topic in topics:\n",
    "#    for p in period_max_activity[topic]:\n",
    "#        print(p[0],p[1])\n",
    "#    print(\"-------------------\")"
   ]
  },
  {
   "cell_type": "code",
   "execution_count": 11,
   "id": "d3ffa572",
   "metadata": {},
   "outputs": [],
   "source": [
    "count_series['period_max_Activity'] = count_series['topic'].map(period_max_activity)"
   ]
  },
  {
   "cell_type": "code",
   "execution_count": 13,
   "id": "e52e0780",
   "metadata": {},
   "outputs": [],
   "source": [
    "period_activity = {}\n",
    "i = 0\n",
    "for topic in topics:\n",
    "    #print(i)\n",
    "    \n",
    "    start = False\n",
    "    period_activity[topic] = []\n",
    "    start_date = None\n",
    "    stop_date = None\n",
    "    j = 0\n",
    "    for df_per_day_and_topic in dfs_per_days_and_topics[topic]:\n",
    "        if(df_per_day_and_topic.shape[0] > 0 and not(start)):\n",
    "            start = True\n",
    "            start_date = df_per_day_and_topic['time_utc'].iloc[0]\n",
    "            stop_date = None\n",
    "            #print(f\"start: {start_date}\")\n",
    "        #print(f\"_____{df_per_day_and_topic.shape[0]}\")\n",
    "        if(df_per_day_and_topic.shape[0] <= 0 and start):\n",
    "            start = False\n",
    "            if(df_per_day_and_topic.shape[0] <= 0):\n",
    "                stop_date = day_intervals[j]\n",
    "                #print(f\"stop: {stop_date}\")\n",
    "            else:\n",
    "                stop_date = df_per_day_and_topic['time_utc'].iloc[-1]\n",
    "            \n",
    "        if(start_date != None and stop_date != None):\n",
    "            period_activity[topic].append((start_date, stop_date))\n",
    "            start_date = None\n",
    "            stop_date = None\n",
    "        j += 1\n",
    "    if(start_date != None and stop_date == None):\n",
    "        stop_date = dfs_per_days_and_topics[topics[4]][-1]['time_utc'].iloc[-1]\n",
    "        period_activity[topic].append((start_date, stop_date))\n",
    "    i += 1"
   ]
  },
  {
   "cell_type": "code",
   "execution_count": 15,
   "id": "10094bb0",
   "metadata": {},
   "outputs": [],
   "source": [
    "count_series['period_Activity'] = count_series['topic'].map(period_activity)"
   ]
  },
  {
   "cell_type": "code",
   "execution_count": 17,
   "id": "17f66f0d",
   "metadata": {},
   "outputs": [],
   "source": [
    "period_not_max = {}\n",
    "for topic,periods in period_activity.items():\n",
    "    period_not_max[topic] = []\n",
    "    for start,end in periods:\n",
    "        for start1,end1 in period_max_activity[topic]:\n",
    "            if (start <= start1 and end >= end1):\n",
    "                period_not_max[topic].append((start,start1))\n",
    "                period_not_max[topic].append((end1,end))\n",
    "            else:\n",
    "                period_not_max[topic].append((start,end))\n"
   ]
  },
  {
   "cell_type": "code",
   "execution_count": 23,
   "id": "e65125de",
   "metadata": {},
   "outputs": [
    {
     "data": {
      "text/html": [
       "<div>\n",
       "<style scoped>\n",
       "    .dataframe tbody tr th:only-of-type {\n",
       "        vertical-align: middle;\n",
       "    }\n",
       "\n",
       "    .dataframe tbody tr th {\n",
       "        vertical-align: top;\n",
       "    }\n",
       "\n",
       "    .dataframe thead th {\n",
       "        text-align: right;\n",
       "    }\n",
       "</style>\n",
       "<table border=\"1\" class=\"dataframe\">\n",
       "  <thead>\n",
       "    <tr style=\"text-align: right;\">\n",
       "      <th></th>\n",
       "      <th>time_utc</th>\n",
       "      <th>GPT_label</th>\n",
       "      <th>polarity</th>\n",
       "      <th>text</th>\n",
       "      <th>polarity_label</th>\n",
       "    </tr>\n",
       "  </thead>\n",
       "  <tbody>\n",
       "    <tr>\n",
       "      <th>0</th>\n",
       "      <td>2023-05-01 17:00:56</td>\n",
       "      <td>AI Chatbot Interaction and Assistance on Cloud...</td>\n",
       "      <td>0.117045</td>\n",
       "      <td>ChatGPT does not do stand up comedyI don’t thi...</td>\n",
       "      <td>positive</td>\n",
       "    </tr>\n",
       "    <tr>\n",
       "      <th>1</th>\n",
       "      <td>2023-05-01 16:59:32</td>\n",
       "      <td>Chatbot Interaction and Usage on Discord</td>\n",
       "      <td>0.158333</td>\n",
       "      <td>Dreamcatcher - ChatGPT Retrieval on SteroidsA ...</td>\n",
       "      <td>positive</td>\n",
       "    </tr>\n",
       "    <tr>\n",
       "      <th>2</th>\n",
       "      <td>2023-05-01 16:57:39</td>\n",
       "      <td>Dan Discussing ChatGPT Jailbreaking Ethics</td>\n",
       "      <td>0.166667</td>\n",
       "      <td>Thoughts on this?[How to Jailbreak ChatGPT, Li...</td>\n",
       "      <td>positive</td>\n",
       "    </tr>\n",
       "    <tr>\n",
       "      <th>3</th>\n",
       "      <td>2023-05-01 16:50:02</td>\n",
       "      <td>AI and ChatGPT in Everyday Life</td>\n",
       "      <td>-0.074985</td>\n",
       "      <td>Emergent abilities of chat GPT. We don't reall...</td>\n",
       "      <td>negative</td>\n",
       "    </tr>\n",
       "    <tr>\n",
       "      <th>4</th>\n",
       "      <td>2023-05-01 16:43:19</td>\n",
       "      <td>AI Chatbot Interaction and Assistance on Cloud...</td>\n",
       "      <td>0.200000</td>\n",
       "      <td>This chatgpt app gives me a 20 free chat credi...</td>\n",
       "      <td>positive</td>\n",
       "    </tr>\n",
       "  </tbody>\n",
       "</table>\n",
       "</div>"
      ],
      "text/plain": [
       "             time_utc                                          GPT_label  \\\n",
       "0 2023-05-01 17:00:56  AI Chatbot Interaction and Assistance on Cloud...   \n",
       "1 2023-05-01 16:59:32           Chatbot Interaction and Usage on Discord   \n",
       "2 2023-05-01 16:57:39         Dan Discussing ChatGPT Jailbreaking Ethics   \n",
       "3 2023-05-01 16:50:02                    AI and ChatGPT in Everyday Life   \n",
       "4 2023-05-01 16:43:19  AI Chatbot Interaction and Assistance on Cloud...   \n",
       "\n",
       "   polarity                                               text polarity_label  \n",
       "0  0.117045  ChatGPT does not do stand up comedyI don’t thi...       positive  \n",
       "1  0.158333  Dreamcatcher - ChatGPT Retrieval on SteroidsA ...       positive  \n",
       "2  0.166667  Thoughts on this?[How to Jailbreak ChatGPT, Li...       positive  \n",
       "3 -0.074985  Emergent abilities of chat GPT. We don't reall...       negative  \n",
       "4  0.200000  This chatgpt app gives me a 20 free chat credi...       positive  "
      ]
     },
     "execution_count": 23,
     "metadata": {},
     "output_type": "execute_result"
    }
   ],
   "source": [
    "df_small.head()"
   ]
  },
  {
   "cell_type": "code",
   "execution_count": 19,
   "id": "6f70dbf3",
   "metadata": {},
   "outputs": [],
   "source": [
    "def polarize(polarity):\n",
    "    if polarity < 0:\n",
    "        return 'negative'\n",
    "    else:\n",
    "        return 'positive'"
   ]
  },
  {
   "cell_type": "code",
   "execution_count": 21,
   "id": "a685eb2a",
   "metadata": {},
   "outputs": [],
   "source": [
    "df_small['polarity_label'] = df_small['polarity'].apply(polarize)"
   ]
  },
  {
   "cell_type": "code",
   "execution_count": 26,
   "id": "a66b02ca",
   "metadata": {},
   "outputs": [],
   "source": [
    "avg_pos_per_topic_max = {}\n",
    "for topic,periods in period_max_activity.items():\n",
    "    df_vuoto = pd.DataFrame(columns=df_small.columns)\n",
    "    for start,end in periods:\n",
    "        df_vuoto = pd.concat([df_vuoto, df_small[(df_small['time_utc'] >= start) & (df_small['time_utc'] <= end) & (df_small['GPT_label'] == topic)]])\n",
    "    avg_pos_per_topic_max[topic] = df_vuoto[df_vuoto['polarity_label'] == 'positive']['polarity'].mean()"
   ]
  },
  {
   "cell_type": "code",
   "execution_count": 28,
   "id": "eb2e5133",
   "metadata": {},
   "outputs": [],
   "source": [
    "avg_neg_per_topic_max = {}\n",
    "for topic,periods in period_max_activity.items():\n",
    "    df_vuoto = pd.DataFrame(columns=df_small.columns)\n",
    "    for start,end in periods:\n",
    "        df_vuoto = pd.concat([df_vuoto, df_small[(df_small['time_utc'] >= start) & (df_small['time_utc'] <= end) & (df_small['GPT_label'] == topic)]])\n",
    "    avg_neg_per_topic_max[topic] = df_vuoto[df_vuoto['polarity_label'] == 'negative']['polarity'].mean()"
   ]
  },
  {
   "cell_type": "code",
   "execution_count": 29,
   "id": "83ab9197",
   "metadata": {},
   "outputs": [],
   "source": [
    "avg_pos_per_topic_not_max = {}\n",
    "for topic,periods in period_not_max.items():\n",
    "    df_vuoto = pd.DataFrame(columns=df_small.columns)\n",
    "    for start,end in periods:\n",
    "        df_vuoto = pd.concat([df_vuoto, df_small[(df_small['time_utc'] >= start) & (df_small['time_utc'] <= end) & (df_small['GPT_label'] == topic)]])\n",
    "    avg_pos_per_topic_not_max[topic] = df_vuoto[df_vuoto['polarity_label'] == 'positive']['polarity'].mean()"
   ]
  },
  {
   "cell_type": "code",
   "execution_count": 30,
   "id": "34735c25",
   "metadata": {},
   "outputs": [],
   "source": [
    "avg_neg_per_topic_not_max = {}\n",
    "for topic,periods in period_not_max.items():\n",
    "    df_vuoto = pd.DataFrame(columns=df_small.columns)\n",
    "    for start,end in periods:\n",
    "        df_vuoto = pd.concat([df_vuoto, df_small[(df_small['time_utc'] >= start) & (df_small['time_utc'] <= end) & (df_small['GPT_label'] == topic)]])\n",
    "    avg_neg_per_topic_not_max[topic] = df_vuoto[df_vuoto['polarity_label'] == 'negative']['polarity'].mean()"
   ]
  },
  {
   "cell_type": "code",
   "execution_count": 31,
   "id": "1ba0d1ed",
   "metadata": {},
   "outputs": [],
   "source": [
    "count_series['avg_pos_per_topic_max'] = count_series['topic'].map(avg_pos_per_topic_max)\n",
    "count_series['avg_neg_per_topic_max'] = count_series['topic'].map(avg_neg_per_topic_max)\n",
    "count_series['avg_pos_per_topic_not_max'] = count_series['topic'].map(avg_pos_per_topic_not_max)\n",
    "count_series['avg_neg_per_topic_not_max'] = count_series['topic'].map(avg_neg_per_topic_not_max)"
   ]
  },
  {
   "cell_type": "code",
   "execution_count": 36,
   "id": "2aa290ba",
   "metadata": {
    "scrolled": false
   },
   "outputs": [
    {
     "data": {
      "application/vnd.plotly.v1+json": {
       "config": {
        "plotlyServerURL": "https://plot.ly"
       },
       "data": [
        {
         "marker": {
          "color": "rgba(246, 78, 139, 0.6)",
          "line": {
           "color": "rgba(246, 78, 139, 1.0)",
           "width": 3
          }
         },
         "name": "pos max",
         "orientation": "h",
         "type": "bar",
         "x": [
          0.11254033235247055,
          0.12988406715111167,
          0.13646417490588142,
          0.1084673967664422,
          0.09143925106186397,
          0.09833101095499155,
          0.12634360253892216,
          0.159169070590973,
          0.1293981594582565,
          0.1095614194039788,
          0.08880863118213886,
          0.10299416749856732,
          0.08363389110414048,
          0.16083169853302237,
          0.09247309250945608,
          0.11152953181529143,
          0.1076596606495302,
          0.00025974025964546404,
          0.12082996372039276,
          0.16630994977316638,
          0.13149280829247317,
          0.1166666667
         ],
         "y": [
          "AI and ChatGPT in Everyday Life",
          "Chatbot Interaction and Usage on Discord",
          "Discord Server Chatbot Interaction and User Requests",
          "AI Chatbot Interaction and Response automation",
          "Bot Moderation in Online Comment Sections",
          "AI Bots Managing Online Interactions in Chat Platforms",
          "Discord Server Moderation and ChatGPT Interaction",
          "AI Chatbot Interaction and Assistance on Cloud Platforms",
          "Social Media Automated Responses and Bots Interaction",
          "Social Media Karma and Automated Account Moderation",
          "Obama and Trump References in AI Conversations",
          "Reddit Karma and Account Restrictions",
          "Discord Moderation Bot Commands and User Interaction",
          "Discord GPT Bot Moderation and User Interaction",
          "ChatGPT Use Cases and Discussions",
          "Bing's AI Chatbot and User Interaction",
          "Dan Discussing ChatGPT Jailbreaking Ethics",
          "NFT Collecting and Discord Community Interaction",
          "Spam Threshold Management in Online Communities",
          "Managing Discord Server Interactions with GPT-powered Bots",
          "Spam Prevention and Account Karma Management",
          "Squirt: Addressing Spam and Hookup Content on Online Platforms"
         ]
        },
        {
         "marker": {
          "color": "rgba(58, 71, 80, 0.6)",
          "line": {
           "color": "rgba(58, 71, 80, 1.0)",
           "width": 3
          }
         },
         "name": "pos not max",
         "orientation": "h",
         "type": "bar",
         "x": [
          0.11175570342901493,
          0.13030939996746482,
          0.13415266342973642,
          0.11604825289924783,
          0.09428938206932934,
          0.10124331145755344,
          0.12320432408378704,
          0.13094536370119403,
          0.12792832962274353,
          0.05519480520000001,
          0.08940618848454678,
          0.0683982684,
          0.08629557920861645,
          0.15443765928922684,
          0.0908744564647889,
          0.11337685926001134,
          0.10910815702009583,
          0.00030128927608104024,
          0.12941971667000005,
          0.1666666667,
          0.1310796920896552,
          0.30833333335
         ],
         "y": [
          "AI and ChatGPT in Everyday Life",
          "Chatbot Interaction and Usage on Discord",
          "Discord Server Chatbot Interaction and User Requests",
          "AI Chatbot Interaction and Response automation",
          "Bot Moderation in Online Comment Sections",
          "AI Bots Managing Online Interactions in Chat Platforms",
          "Discord Server Moderation and ChatGPT Interaction",
          "AI Chatbot Interaction and Assistance on Cloud Platforms",
          "Social Media Automated Responses and Bots Interaction",
          "Social Media Karma and Automated Account Moderation",
          "Obama and Trump References in AI Conversations",
          "Reddit Karma and Account Restrictions",
          "Discord Moderation Bot Commands and User Interaction",
          "Discord GPT Bot Moderation and User Interaction",
          "ChatGPT Use Cases and Discussions",
          "Bing's AI Chatbot and User Interaction",
          "Dan Discussing ChatGPT Jailbreaking Ethics",
          "NFT Collecting and Discord Community Interaction",
          "Spam Threshold Management in Online Communities",
          "Managing Discord Server Interactions with GPT-powered Bots",
          "Spam Prevention and Account Karma Management",
          "Squirt: Addressing Spam and Hookup Content on Online Platforms"
         ]
        }
       ],
       "layout": {
        "height": 600,
        "legend": {
         "title": {
          "text": "Legenda"
         },
         "x": 1,
         "xanchor": "left",
         "y": 1,
         "yanchor": "top"
        },
        "template": {
         "data": {
          "bar": [
           {
            "error_x": {
             "color": "#2a3f5f"
            },
            "error_y": {
             "color": "#2a3f5f"
            },
            "marker": {
             "line": {
              "color": "#E5ECF6",
              "width": 0.5
             },
             "pattern": {
              "fillmode": "overlay",
              "size": 10,
              "solidity": 0.2
             }
            },
            "type": "bar"
           }
          ],
          "barpolar": [
           {
            "marker": {
             "line": {
              "color": "#E5ECF6",
              "width": 0.5
             },
             "pattern": {
              "fillmode": "overlay",
              "size": 10,
              "solidity": 0.2
             }
            },
            "type": "barpolar"
           }
          ],
          "carpet": [
           {
            "aaxis": {
             "endlinecolor": "#2a3f5f",
             "gridcolor": "white",
             "linecolor": "white",
             "minorgridcolor": "white",
             "startlinecolor": "#2a3f5f"
            },
            "baxis": {
             "endlinecolor": "#2a3f5f",
             "gridcolor": "white",
             "linecolor": "white",
             "minorgridcolor": "white",
             "startlinecolor": "#2a3f5f"
            },
            "type": "carpet"
           }
          ],
          "choropleth": [
           {
            "colorbar": {
             "outlinewidth": 0,
             "ticks": ""
            },
            "type": "choropleth"
           }
          ],
          "contour": [
           {
            "colorbar": {
             "outlinewidth": 0,
             "ticks": ""
            },
            "colorscale": [
             [
              0,
              "#0d0887"
             ],
             [
              0.1111111111111111,
              "#46039f"
             ],
             [
              0.2222222222222222,
              "#7201a8"
             ],
             [
              0.3333333333333333,
              "#9c179e"
             ],
             [
              0.4444444444444444,
              "#bd3786"
             ],
             [
              0.5555555555555556,
              "#d8576b"
             ],
             [
              0.6666666666666666,
              "#ed7953"
             ],
             [
              0.7777777777777778,
              "#fb9f3a"
             ],
             [
              0.8888888888888888,
              "#fdca26"
             ],
             [
              1,
              "#f0f921"
             ]
            ],
            "type": "contour"
           }
          ],
          "contourcarpet": [
           {
            "colorbar": {
             "outlinewidth": 0,
             "ticks": ""
            },
            "type": "contourcarpet"
           }
          ],
          "heatmap": [
           {
            "colorbar": {
             "outlinewidth": 0,
             "ticks": ""
            },
            "colorscale": [
             [
              0,
              "#0d0887"
             ],
             [
              0.1111111111111111,
              "#46039f"
             ],
             [
              0.2222222222222222,
              "#7201a8"
             ],
             [
              0.3333333333333333,
              "#9c179e"
             ],
             [
              0.4444444444444444,
              "#bd3786"
             ],
             [
              0.5555555555555556,
              "#d8576b"
             ],
             [
              0.6666666666666666,
              "#ed7953"
             ],
             [
              0.7777777777777778,
              "#fb9f3a"
             ],
             [
              0.8888888888888888,
              "#fdca26"
             ],
             [
              1,
              "#f0f921"
             ]
            ],
            "type": "heatmap"
           }
          ],
          "heatmapgl": [
           {
            "colorbar": {
             "outlinewidth": 0,
             "ticks": ""
            },
            "colorscale": [
             [
              0,
              "#0d0887"
             ],
             [
              0.1111111111111111,
              "#46039f"
             ],
             [
              0.2222222222222222,
              "#7201a8"
             ],
             [
              0.3333333333333333,
              "#9c179e"
             ],
             [
              0.4444444444444444,
              "#bd3786"
             ],
             [
              0.5555555555555556,
              "#d8576b"
             ],
             [
              0.6666666666666666,
              "#ed7953"
             ],
             [
              0.7777777777777778,
              "#fb9f3a"
             ],
             [
              0.8888888888888888,
              "#fdca26"
             ],
             [
              1,
              "#f0f921"
             ]
            ],
            "type": "heatmapgl"
           }
          ],
          "histogram": [
           {
            "marker": {
             "pattern": {
              "fillmode": "overlay",
              "size": 10,
              "solidity": 0.2
             }
            },
            "type": "histogram"
           }
          ],
          "histogram2d": [
           {
            "colorbar": {
             "outlinewidth": 0,
             "ticks": ""
            },
            "colorscale": [
             [
              0,
              "#0d0887"
             ],
             [
              0.1111111111111111,
              "#46039f"
             ],
             [
              0.2222222222222222,
              "#7201a8"
             ],
             [
              0.3333333333333333,
              "#9c179e"
             ],
             [
              0.4444444444444444,
              "#bd3786"
             ],
             [
              0.5555555555555556,
              "#d8576b"
             ],
             [
              0.6666666666666666,
              "#ed7953"
             ],
             [
              0.7777777777777778,
              "#fb9f3a"
             ],
             [
              0.8888888888888888,
              "#fdca26"
             ],
             [
              1,
              "#f0f921"
             ]
            ],
            "type": "histogram2d"
           }
          ],
          "histogram2dcontour": [
           {
            "colorbar": {
             "outlinewidth": 0,
             "ticks": ""
            },
            "colorscale": [
             [
              0,
              "#0d0887"
             ],
             [
              0.1111111111111111,
              "#46039f"
             ],
             [
              0.2222222222222222,
              "#7201a8"
             ],
             [
              0.3333333333333333,
              "#9c179e"
             ],
             [
              0.4444444444444444,
              "#bd3786"
             ],
             [
              0.5555555555555556,
              "#d8576b"
             ],
             [
              0.6666666666666666,
              "#ed7953"
             ],
             [
              0.7777777777777778,
              "#fb9f3a"
             ],
             [
              0.8888888888888888,
              "#fdca26"
             ],
             [
              1,
              "#f0f921"
             ]
            ],
            "type": "histogram2dcontour"
           }
          ],
          "mesh3d": [
           {
            "colorbar": {
             "outlinewidth": 0,
             "ticks": ""
            },
            "type": "mesh3d"
           }
          ],
          "parcoords": [
           {
            "line": {
             "colorbar": {
              "outlinewidth": 0,
              "ticks": ""
             }
            },
            "type": "parcoords"
           }
          ],
          "pie": [
           {
            "automargin": true,
            "type": "pie"
           }
          ],
          "scatter": [
           {
            "fillpattern": {
             "fillmode": "overlay",
             "size": 10,
             "solidity": 0.2
            },
            "type": "scatter"
           }
          ],
          "scatter3d": [
           {
            "line": {
             "colorbar": {
              "outlinewidth": 0,
              "ticks": ""
             }
            },
            "marker": {
             "colorbar": {
              "outlinewidth": 0,
              "ticks": ""
             }
            },
            "type": "scatter3d"
           }
          ],
          "scattercarpet": [
           {
            "marker": {
             "colorbar": {
              "outlinewidth": 0,
              "ticks": ""
             }
            },
            "type": "scattercarpet"
           }
          ],
          "scattergeo": [
           {
            "marker": {
             "colorbar": {
              "outlinewidth": 0,
              "ticks": ""
             }
            },
            "type": "scattergeo"
           }
          ],
          "scattergl": [
           {
            "marker": {
             "colorbar": {
              "outlinewidth": 0,
              "ticks": ""
             }
            },
            "type": "scattergl"
           }
          ],
          "scattermapbox": [
           {
            "marker": {
             "colorbar": {
              "outlinewidth": 0,
              "ticks": ""
             }
            },
            "type": "scattermapbox"
           }
          ],
          "scatterpolar": [
           {
            "marker": {
             "colorbar": {
              "outlinewidth": 0,
              "ticks": ""
             }
            },
            "type": "scatterpolar"
           }
          ],
          "scatterpolargl": [
           {
            "marker": {
             "colorbar": {
              "outlinewidth": 0,
              "ticks": ""
             }
            },
            "type": "scatterpolargl"
           }
          ],
          "scatterternary": [
           {
            "marker": {
             "colorbar": {
              "outlinewidth": 0,
              "ticks": ""
             }
            },
            "type": "scatterternary"
           }
          ],
          "surface": [
           {
            "colorbar": {
             "outlinewidth": 0,
             "ticks": ""
            },
            "colorscale": [
             [
              0,
              "#0d0887"
             ],
             [
              0.1111111111111111,
              "#46039f"
             ],
             [
              0.2222222222222222,
              "#7201a8"
             ],
             [
              0.3333333333333333,
              "#9c179e"
             ],
             [
              0.4444444444444444,
              "#bd3786"
             ],
             [
              0.5555555555555556,
              "#d8576b"
             ],
             [
              0.6666666666666666,
              "#ed7953"
             ],
             [
              0.7777777777777778,
              "#fb9f3a"
             ],
             [
              0.8888888888888888,
              "#fdca26"
             ],
             [
              1,
              "#f0f921"
             ]
            ],
            "type": "surface"
           }
          ],
          "table": [
           {
            "cells": {
             "fill": {
              "color": "#EBF0F8"
             },
             "line": {
              "color": "white"
             }
            },
            "header": {
             "fill": {
              "color": "#C8D4E3"
             },
             "line": {
              "color": "white"
             }
            },
            "type": "table"
           }
          ]
         },
         "layout": {
          "annotationdefaults": {
           "arrowcolor": "#2a3f5f",
           "arrowhead": 0,
           "arrowwidth": 1
          },
          "autotypenumbers": "strict",
          "coloraxis": {
           "colorbar": {
            "outlinewidth": 0,
            "ticks": ""
           }
          },
          "colorscale": {
           "diverging": [
            [
             0,
             "#8e0152"
            ],
            [
             0.1,
             "#c51b7d"
            ],
            [
             0.2,
             "#de77ae"
            ],
            [
             0.3,
             "#f1b6da"
            ],
            [
             0.4,
             "#fde0ef"
            ],
            [
             0.5,
             "#f7f7f7"
            ],
            [
             0.6,
             "#e6f5d0"
            ],
            [
             0.7,
             "#b8e186"
            ],
            [
             0.8,
             "#7fbc41"
            ],
            [
             0.9,
             "#4d9221"
            ],
            [
             1,
             "#276419"
            ]
           ],
           "sequential": [
            [
             0,
             "#0d0887"
            ],
            [
             0.1111111111111111,
             "#46039f"
            ],
            [
             0.2222222222222222,
             "#7201a8"
            ],
            [
             0.3333333333333333,
             "#9c179e"
            ],
            [
             0.4444444444444444,
             "#bd3786"
            ],
            [
             0.5555555555555556,
             "#d8576b"
            ],
            [
             0.6666666666666666,
             "#ed7953"
            ],
            [
             0.7777777777777778,
             "#fb9f3a"
            ],
            [
             0.8888888888888888,
             "#fdca26"
            ],
            [
             1,
             "#f0f921"
            ]
           ],
           "sequentialminus": [
            [
             0,
             "#0d0887"
            ],
            [
             0.1111111111111111,
             "#46039f"
            ],
            [
             0.2222222222222222,
             "#7201a8"
            ],
            [
             0.3333333333333333,
             "#9c179e"
            ],
            [
             0.4444444444444444,
             "#bd3786"
            ],
            [
             0.5555555555555556,
             "#d8576b"
            ],
            [
             0.6666666666666666,
             "#ed7953"
            ],
            [
             0.7777777777777778,
             "#fb9f3a"
            ],
            [
             0.8888888888888888,
             "#fdca26"
            ],
            [
             1,
             "#f0f921"
            ]
           ]
          },
          "colorway": [
           "#636efa",
           "#EF553B",
           "#00cc96",
           "#ab63fa",
           "#FFA15A",
           "#19d3f3",
           "#FF6692",
           "#B6E880",
           "#FF97FF",
           "#FECB52"
          ],
          "font": {
           "color": "#2a3f5f"
          },
          "geo": {
           "bgcolor": "white",
           "lakecolor": "white",
           "landcolor": "#E5ECF6",
           "showlakes": true,
           "showland": true,
           "subunitcolor": "white"
          },
          "hoverlabel": {
           "align": "left"
          },
          "hovermode": "closest",
          "mapbox": {
           "style": "light"
          },
          "paper_bgcolor": "white",
          "plot_bgcolor": "#E5ECF6",
          "polar": {
           "angularaxis": {
            "gridcolor": "white",
            "linecolor": "white",
            "ticks": ""
           },
           "bgcolor": "#E5ECF6",
           "radialaxis": {
            "gridcolor": "white",
            "linecolor": "white",
            "ticks": ""
           }
          },
          "scene": {
           "xaxis": {
            "backgroundcolor": "#E5ECF6",
            "gridcolor": "white",
            "gridwidth": 2,
            "linecolor": "white",
            "showbackground": true,
            "ticks": "",
            "zerolinecolor": "white"
           },
           "yaxis": {
            "backgroundcolor": "#E5ECF6",
            "gridcolor": "white",
            "gridwidth": 2,
            "linecolor": "white",
            "showbackground": true,
            "ticks": "",
            "zerolinecolor": "white"
           },
           "zaxis": {
            "backgroundcolor": "#E5ECF6",
            "gridcolor": "white",
            "gridwidth": 2,
            "linecolor": "white",
            "showbackground": true,
            "ticks": "",
            "zerolinecolor": "white"
           }
          },
          "shapedefaults": {
           "line": {
            "color": "#2a3f5f"
           }
          },
          "ternary": {
           "aaxis": {
            "gridcolor": "white",
            "linecolor": "white",
            "ticks": ""
           },
           "baxis": {
            "gridcolor": "white",
            "linecolor": "white",
            "ticks": ""
           },
           "bgcolor": "#E5ECF6",
           "caxis": {
            "gridcolor": "white",
            "linecolor": "white",
            "ticks": ""
           }
          },
          "title": {
           "x": 0.05
          },
          "xaxis": {
           "automargin": true,
           "gridcolor": "white",
           "linecolor": "white",
           "ticks": "",
           "title": {
            "standoff": 15
           },
           "zerolinecolor": "white",
           "zerolinewidth": 2
          },
          "yaxis": {
           "automargin": true,
           "gridcolor": "white",
           "linecolor": "white",
           "ticks": "",
           "title": {
            "standoff": 15
           },
           "zerolinecolor": "white",
           "zerolinewidth": 2
          }
         }
        },
        "title": {
         "font": {
          "color": "black",
          "family": "Arial, sans-serif",
          "size": 18
         },
         "text": "<b>Confronto tra avg_pos nei periodi di massima attività, rispetto ai periodi di attività regolare",
         "x": 0.5,
         "xanchor": "center"
        },
        "width": 1000
       }
      },
      "text/html": [
       "<div>                            <div id=\"e64fcc9c-1b76-465c-8089-f289178677ae\" class=\"plotly-graph-div\" style=\"height:600px; width:1000px;\"></div>            <script type=\"text/javascript\">                require([\"plotly\"], function(Plotly) {                    window.PLOTLYENV=window.PLOTLYENV || {};                                    if (document.getElementById(\"e64fcc9c-1b76-465c-8089-f289178677ae\")) {                    Plotly.newPlot(                        \"e64fcc9c-1b76-465c-8089-f289178677ae\",                        [{\"marker\":{\"color\":\"rgba(246, 78, 139, 0.6)\",\"line\":{\"color\":\"rgba(246, 78, 139, 1.0)\",\"width\":3}},\"name\":\"pos max\",\"orientation\":\"h\",\"x\":[0.11254033235247055,0.12988406715111167,0.13646417490588142,0.1084673967664422,0.09143925106186397,0.09833101095499155,0.12634360253892216,0.159169070590973,0.1293981594582565,0.1095614194039788,0.08880863118213886,0.10299416749856732,0.08363389110414048,0.16083169853302237,0.09247309250945608,0.11152953181529143,0.1076596606495302,0.00025974025964546404,0.12082996372039276,0.16630994977316638,0.13149280829247317,0.1166666667],\"y\":[\"AI and ChatGPT in Everyday Life\",\"Chatbot Interaction and Usage on Discord\",\"Discord Server Chatbot Interaction and User Requests\",\"AI Chatbot Interaction and Response automation\",\"Bot Moderation in Online Comment Sections\",\"AI Bots Managing Online Interactions in Chat Platforms\",\"Discord Server Moderation and ChatGPT Interaction\",\"AI Chatbot Interaction and Assistance on Cloud Platforms\",\"Social Media Automated Responses and Bots Interaction\",\"Social Media Karma and Automated Account Moderation\",\"Obama and Trump References in AI Conversations\",\"Reddit Karma and Account Restrictions\",\"Discord Moderation Bot Commands and User Interaction\",\"Discord GPT Bot Moderation and User Interaction\",\"ChatGPT Use Cases and Discussions\",\"Bing's AI Chatbot and User Interaction\",\"Dan Discussing ChatGPT Jailbreaking Ethics\",\"NFT Collecting and Discord Community Interaction\",\"Spam Threshold Management in Online Communities\",\"Managing Discord Server Interactions with GPT-powered Bots\",\"Spam Prevention and Account Karma Management\",\"Squirt: Addressing Spam and Hookup Content on Online Platforms\"],\"type\":\"bar\"},{\"marker\":{\"color\":\"rgba(58, 71, 80, 0.6)\",\"line\":{\"color\":\"rgba(58, 71, 80, 1.0)\",\"width\":3}},\"name\":\"pos not max\",\"orientation\":\"h\",\"x\":[0.11175570342901493,0.13030939996746482,0.13415266342973642,0.11604825289924783,0.09428938206932934,0.10124331145755344,0.12320432408378704,0.13094536370119403,0.12792832962274353,0.05519480520000001,0.08940618848454678,0.0683982684,0.08629557920861645,0.15443765928922684,0.0908744564647889,0.11337685926001134,0.10910815702009583,0.00030128927608104024,0.12941971667000005,0.1666666667,0.1310796920896552,0.30833333335],\"y\":[\"AI and ChatGPT in Everyday Life\",\"Chatbot Interaction and Usage on Discord\",\"Discord Server Chatbot Interaction and User Requests\",\"AI Chatbot Interaction and Response automation\",\"Bot Moderation in Online Comment Sections\",\"AI Bots Managing Online Interactions in Chat Platforms\",\"Discord Server Moderation and ChatGPT Interaction\",\"AI Chatbot Interaction and Assistance on Cloud Platforms\",\"Social Media Automated Responses and Bots Interaction\",\"Social Media Karma and Automated Account Moderation\",\"Obama and Trump References in AI Conversations\",\"Reddit Karma and Account Restrictions\",\"Discord Moderation Bot Commands and User Interaction\",\"Discord GPT Bot Moderation and User Interaction\",\"ChatGPT Use Cases and Discussions\",\"Bing's AI Chatbot and User Interaction\",\"Dan Discussing ChatGPT Jailbreaking Ethics\",\"NFT Collecting and Discord Community Interaction\",\"Spam Threshold Management in Online Communities\",\"Managing Discord Server Interactions with GPT-powered Bots\",\"Spam Prevention and Account Karma Management\",\"Squirt: Addressing Spam and Hookup Content on Online Platforms\"],\"type\":\"bar\"}],                        {\"template\":{\"data\":{\"histogram2dcontour\":[{\"type\":\"histogram2dcontour\",\"colorbar\":{\"outlinewidth\":0,\"ticks\":\"\"},\"colorscale\":[[0.0,\"#0d0887\"],[0.1111111111111111,\"#46039f\"],[0.2222222222222222,\"#7201a8\"],[0.3333333333333333,\"#9c179e\"],[0.4444444444444444,\"#bd3786\"],[0.5555555555555556,\"#d8576b\"],[0.6666666666666666,\"#ed7953\"],[0.7777777777777778,\"#fb9f3a\"],[0.8888888888888888,\"#fdca26\"],[1.0,\"#f0f921\"]]}],\"choropleth\":[{\"type\":\"choropleth\",\"colorbar\":{\"outlinewidth\":0,\"ticks\":\"\"}}],\"histogram2d\":[{\"type\":\"histogram2d\",\"colorbar\":{\"outlinewidth\":0,\"ticks\":\"\"},\"colorscale\":[[0.0,\"#0d0887\"],[0.1111111111111111,\"#46039f\"],[0.2222222222222222,\"#7201a8\"],[0.3333333333333333,\"#9c179e\"],[0.4444444444444444,\"#bd3786\"],[0.5555555555555556,\"#d8576b\"],[0.6666666666666666,\"#ed7953\"],[0.7777777777777778,\"#fb9f3a\"],[0.8888888888888888,\"#fdca26\"],[1.0,\"#f0f921\"]]}],\"heatmap\":[{\"type\":\"heatmap\",\"colorbar\":{\"outlinewidth\":0,\"ticks\":\"\"},\"colorscale\":[[0.0,\"#0d0887\"],[0.1111111111111111,\"#46039f\"],[0.2222222222222222,\"#7201a8\"],[0.3333333333333333,\"#9c179e\"],[0.4444444444444444,\"#bd3786\"],[0.5555555555555556,\"#d8576b\"],[0.6666666666666666,\"#ed7953\"],[0.7777777777777778,\"#fb9f3a\"],[0.8888888888888888,\"#fdca26\"],[1.0,\"#f0f921\"]]}],\"heatmapgl\":[{\"type\":\"heatmapgl\",\"colorbar\":{\"outlinewidth\":0,\"ticks\":\"\"},\"colorscale\":[[0.0,\"#0d0887\"],[0.1111111111111111,\"#46039f\"],[0.2222222222222222,\"#7201a8\"],[0.3333333333333333,\"#9c179e\"],[0.4444444444444444,\"#bd3786\"],[0.5555555555555556,\"#d8576b\"],[0.6666666666666666,\"#ed7953\"],[0.7777777777777778,\"#fb9f3a\"],[0.8888888888888888,\"#fdca26\"],[1.0,\"#f0f921\"]]}],\"contourcarpet\":[{\"type\":\"contourcarpet\",\"colorbar\":{\"outlinewidth\":0,\"ticks\":\"\"}}],\"contour\":[{\"type\":\"contour\",\"colorbar\":{\"outlinewidth\":0,\"ticks\":\"\"},\"colorscale\":[[0.0,\"#0d0887\"],[0.1111111111111111,\"#46039f\"],[0.2222222222222222,\"#7201a8\"],[0.3333333333333333,\"#9c179e\"],[0.4444444444444444,\"#bd3786\"],[0.5555555555555556,\"#d8576b\"],[0.6666666666666666,\"#ed7953\"],[0.7777777777777778,\"#fb9f3a\"],[0.8888888888888888,\"#fdca26\"],[1.0,\"#f0f921\"]]}],\"surface\":[{\"type\":\"surface\",\"colorbar\":{\"outlinewidth\":0,\"ticks\":\"\"},\"colorscale\":[[0.0,\"#0d0887\"],[0.1111111111111111,\"#46039f\"],[0.2222222222222222,\"#7201a8\"],[0.3333333333333333,\"#9c179e\"],[0.4444444444444444,\"#bd3786\"],[0.5555555555555556,\"#d8576b\"],[0.6666666666666666,\"#ed7953\"],[0.7777777777777778,\"#fb9f3a\"],[0.8888888888888888,\"#fdca26\"],[1.0,\"#f0f921\"]]}],\"mesh3d\":[{\"type\":\"mesh3d\",\"colorbar\":{\"outlinewidth\":0,\"ticks\":\"\"}}],\"scatter\":[{\"fillpattern\":{\"fillmode\":\"overlay\",\"size\":10,\"solidity\":0.2},\"type\":\"scatter\"}],\"parcoords\":[{\"type\":\"parcoords\",\"line\":{\"colorbar\":{\"outlinewidth\":0,\"ticks\":\"\"}}}],\"scatterpolargl\":[{\"type\":\"scatterpolargl\",\"marker\":{\"colorbar\":{\"outlinewidth\":0,\"ticks\":\"\"}}}],\"bar\":[{\"error_x\":{\"color\":\"#2a3f5f\"},\"error_y\":{\"color\":\"#2a3f5f\"},\"marker\":{\"line\":{\"color\":\"#E5ECF6\",\"width\":0.5},\"pattern\":{\"fillmode\":\"overlay\",\"size\":10,\"solidity\":0.2}},\"type\":\"bar\"}],\"scattergeo\":[{\"type\":\"scattergeo\",\"marker\":{\"colorbar\":{\"outlinewidth\":0,\"ticks\":\"\"}}}],\"scatterpolar\":[{\"type\":\"scatterpolar\",\"marker\":{\"colorbar\":{\"outlinewidth\":0,\"ticks\":\"\"}}}],\"histogram\":[{\"marker\":{\"pattern\":{\"fillmode\":\"overlay\",\"size\":10,\"solidity\":0.2}},\"type\":\"histogram\"}],\"scattergl\":[{\"type\":\"scattergl\",\"marker\":{\"colorbar\":{\"outlinewidth\":0,\"ticks\":\"\"}}}],\"scatter3d\":[{\"type\":\"scatter3d\",\"line\":{\"colorbar\":{\"outlinewidth\":0,\"ticks\":\"\"}},\"marker\":{\"colorbar\":{\"outlinewidth\":0,\"ticks\":\"\"}}}],\"scattermapbox\":[{\"type\":\"scattermapbox\",\"marker\":{\"colorbar\":{\"outlinewidth\":0,\"ticks\":\"\"}}}],\"scatterternary\":[{\"type\":\"scatterternary\",\"marker\":{\"colorbar\":{\"outlinewidth\":0,\"ticks\":\"\"}}}],\"scattercarpet\":[{\"type\":\"scattercarpet\",\"marker\":{\"colorbar\":{\"outlinewidth\":0,\"ticks\":\"\"}}}],\"carpet\":[{\"aaxis\":{\"endlinecolor\":\"#2a3f5f\",\"gridcolor\":\"white\",\"linecolor\":\"white\",\"minorgridcolor\":\"white\",\"startlinecolor\":\"#2a3f5f\"},\"baxis\":{\"endlinecolor\":\"#2a3f5f\",\"gridcolor\":\"white\",\"linecolor\":\"white\",\"minorgridcolor\":\"white\",\"startlinecolor\":\"#2a3f5f\"},\"type\":\"carpet\"}],\"table\":[{\"cells\":{\"fill\":{\"color\":\"#EBF0F8\"},\"line\":{\"color\":\"white\"}},\"header\":{\"fill\":{\"color\":\"#C8D4E3\"},\"line\":{\"color\":\"white\"}},\"type\":\"table\"}],\"barpolar\":[{\"marker\":{\"line\":{\"color\":\"#E5ECF6\",\"width\":0.5},\"pattern\":{\"fillmode\":\"overlay\",\"size\":10,\"solidity\":0.2}},\"type\":\"barpolar\"}],\"pie\":[{\"automargin\":true,\"type\":\"pie\"}]},\"layout\":{\"autotypenumbers\":\"strict\",\"colorway\":[\"#636efa\",\"#EF553B\",\"#00cc96\",\"#ab63fa\",\"#FFA15A\",\"#19d3f3\",\"#FF6692\",\"#B6E880\",\"#FF97FF\",\"#FECB52\"],\"font\":{\"color\":\"#2a3f5f\"},\"hovermode\":\"closest\",\"hoverlabel\":{\"align\":\"left\"},\"paper_bgcolor\":\"white\",\"plot_bgcolor\":\"#E5ECF6\",\"polar\":{\"bgcolor\":\"#E5ECF6\",\"angularaxis\":{\"gridcolor\":\"white\",\"linecolor\":\"white\",\"ticks\":\"\"},\"radialaxis\":{\"gridcolor\":\"white\",\"linecolor\":\"white\",\"ticks\":\"\"}},\"ternary\":{\"bgcolor\":\"#E5ECF6\",\"aaxis\":{\"gridcolor\":\"white\",\"linecolor\":\"white\",\"ticks\":\"\"},\"baxis\":{\"gridcolor\":\"white\",\"linecolor\":\"white\",\"ticks\":\"\"},\"caxis\":{\"gridcolor\":\"white\",\"linecolor\":\"white\",\"ticks\":\"\"}},\"coloraxis\":{\"colorbar\":{\"outlinewidth\":0,\"ticks\":\"\"}},\"colorscale\":{\"sequential\":[[0.0,\"#0d0887\"],[0.1111111111111111,\"#46039f\"],[0.2222222222222222,\"#7201a8\"],[0.3333333333333333,\"#9c179e\"],[0.4444444444444444,\"#bd3786\"],[0.5555555555555556,\"#d8576b\"],[0.6666666666666666,\"#ed7953\"],[0.7777777777777778,\"#fb9f3a\"],[0.8888888888888888,\"#fdca26\"],[1.0,\"#f0f921\"]],\"sequentialminus\":[[0.0,\"#0d0887\"],[0.1111111111111111,\"#46039f\"],[0.2222222222222222,\"#7201a8\"],[0.3333333333333333,\"#9c179e\"],[0.4444444444444444,\"#bd3786\"],[0.5555555555555556,\"#d8576b\"],[0.6666666666666666,\"#ed7953\"],[0.7777777777777778,\"#fb9f3a\"],[0.8888888888888888,\"#fdca26\"],[1.0,\"#f0f921\"]],\"diverging\":[[0,\"#8e0152\"],[0.1,\"#c51b7d\"],[0.2,\"#de77ae\"],[0.3,\"#f1b6da\"],[0.4,\"#fde0ef\"],[0.5,\"#f7f7f7\"],[0.6,\"#e6f5d0\"],[0.7,\"#b8e186\"],[0.8,\"#7fbc41\"],[0.9,\"#4d9221\"],[1,\"#276419\"]]},\"xaxis\":{\"gridcolor\":\"white\",\"linecolor\":\"white\",\"ticks\":\"\",\"title\":{\"standoff\":15},\"zerolinecolor\":\"white\",\"automargin\":true,\"zerolinewidth\":2},\"yaxis\":{\"gridcolor\":\"white\",\"linecolor\":\"white\",\"ticks\":\"\",\"title\":{\"standoff\":15},\"zerolinecolor\":\"white\",\"automargin\":true,\"zerolinewidth\":2},\"scene\":{\"xaxis\":{\"backgroundcolor\":\"#E5ECF6\",\"gridcolor\":\"white\",\"linecolor\":\"white\",\"showbackground\":true,\"ticks\":\"\",\"zerolinecolor\":\"white\",\"gridwidth\":2},\"yaxis\":{\"backgroundcolor\":\"#E5ECF6\",\"gridcolor\":\"white\",\"linecolor\":\"white\",\"showbackground\":true,\"ticks\":\"\",\"zerolinecolor\":\"white\",\"gridwidth\":2},\"zaxis\":{\"backgroundcolor\":\"#E5ECF6\",\"gridcolor\":\"white\",\"linecolor\":\"white\",\"showbackground\":true,\"ticks\":\"\",\"zerolinecolor\":\"white\",\"gridwidth\":2}},\"shapedefaults\":{\"line\":{\"color\":\"#2a3f5f\"}},\"annotationdefaults\":{\"arrowcolor\":\"#2a3f5f\",\"arrowhead\":0,\"arrowwidth\":1},\"geo\":{\"bgcolor\":\"white\",\"landcolor\":\"#E5ECF6\",\"subunitcolor\":\"white\",\"showland\":true,\"showlakes\":true,\"lakecolor\":\"white\"},\"title\":{\"x\":0.05},\"mapbox\":{\"style\":\"light\"}}},\"legend\":{\"title\":{\"text\":\"Legenda\"},\"yanchor\":\"top\",\"y\":1.0,\"xanchor\":\"left\",\"x\":1},\"title\":{\"font\":{\"size\":18,\"color\":\"black\",\"family\":\"Arial, sans-serif\"},\"text\":\"\\u003cb\\u003eConfronto tra avg_pos nei periodi di massima attivit\\u00e0, rispetto ai periodi di attivit\\u00e0 regolare\",\"x\":0.5,\"xanchor\":\"center\"},\"width\":1000,\"height\":600},                        {\"responsive\": true}                    ).then(function(){\n",
       "                            \n",
       "var gd = document.getElementById('e64fcc9c-1b76-465c-8089-f289178677ae');\n",
       "var x = new MutationObserver(function (mutations, observer) {{\n",
       "        var display = window.getComputedStyle(gd).display;\n",
       "        if (!display || display === 'none') {{\n",
       "            console.log([gd, 'removed!']);\n",
       "            Plotly.purge(gd);\n",
       "            observer.disconnect();\n",
       "        }}\n",
       "}});\n",
       "\n",
       "// Listen for the removal of the full notebook cells\n",
       "var notebookContainer = gd.closest('#notebook-container');\n",
       "if (notebookContainer) {{\n",
       "    x.observe(notebookContainer, {childList: true});\n",
       "}}\n",
       "\n",
       "// Listen for the clearing of the current output cell\n",
       "var outputEl = gd.closest('.output');\n",
       "if (outputEl) {{\n",
       "    x.observe(outputEl, {childList: true});\n",
       "}}\n",
       "\n",
       "                        })                };                });            </script>        </div>"
      ]
     },
     "metadata": {},
     "output_type": "display_data"
    }
   ],
   "source": [
    "fig = go.Figure()\n",
    "fig.add_trace(go.Bar(\n",
    "    y=list(list(count_series['topic'])),\n",
    "    x=list(list(count_series['avg_pos_per_topic_max'])),\n",
    "    name='pos max',\n",
    "    orientation='h', \n",
    "    marker=dict(\n",
    "        color='rgba(246, 78, 139, 0.6)',\n",
    "        line=dict(color='rgba(246, 78, 139, 1.0)', width=3)\n",
    "    )\n",
    "))\n",
    "fig.add_trace(go.Bar(\n",
    "    y=list(list(count_series['topic'])),\n",
    "    x=list(list(count_series['avg_pos_per_topic_not_max'])),\n",
    "    name='pos not max',\n",
    "    orientation='h',\n",
    "    marker=dict(\n",
    "        color='rgba(58, 71, 80, 0.6)',\n",
    "        line=dict(color='rgba(58, 71, 80, 1.0)', width=3)\n",
    "    )\n",
    "))\n",
    "fig.update_layout(\n",
    "    legend=dict(\n",
    "        title=\"Legenda\",  # Titolo della legenda\n",
    "        yanchor=\"top\",  # Posizione verticale della legenda\n",
    "        y=1.0,  # Posizione verticale della legenda\n",
    "        xanchor=\"left\",  # Posizione orizzontale della legenda\n",
    "        x=1  # Posizione orizzontale della legenda\n",
    "    ),\n",
    "    title=dict(\n",
    "        text='<b>Confronto tra avg_pos nei periodi di massima attività, rispetto ai periodi di attività regolare',  # Title text\n",
    "        x=0.5,  # x=0.5 centers the title\n",
    "        xanchor='center',  # 'center' ensures the title is centered\n",
    "        font=dict(\n",
    "            size=18,\n",
    "            color='black',\n",
    "            family=\"Arial, sans-serif\",\n",
    "        )\n",
    "        )\n",
    ")\n",
    "\n",
    "\n",
    "fig.update_layout(\n",
    "    width=1000,   # Larghezza in pixel\n",
    "    height=600   # Altezza in pixel\n",
    ")"
   ]
  },
  {
   "cell_type": "code",
   "execution_count": 38,
   "id": "b558d198",
   "metadata": {},
   "outputs": [
    {
     "data": {
      "application/vnd.plotly.v1+json": {
       "config": {
        "plotlyServerURL": "https://plot.ly"
       },
       "data": [
        {
         "marker": {
          "color": "rgba(246, 78, 139, 0.6)",
          "line": {
           "color": "rgba(246, 78, 139, 1.0)",
           "width": 3
          }
         },
         "name": "pos max",
         "orientation": "h",
         "type": "bar",
         "x": [
          -0.07418863917939877,
          -0.09079805938453159,
          -0.06504792798952043,
          -0.05362131687300771,
          -0.044912566857186545,
          -0.053817035993199994,
          -0.06919902995,
          -0.052262824428205124,
          -0.06413956193298968,
          -0.041611330173911394,
          -0.31703261823034184,
          -0.04247274770104329,
          -0.1068849765994681,
          -0.07195283264215685,
          -0.3476142647690323,
          -0.06884061061346154,
          -0.06248733515508475,
          null,
          -0.06431857638749999,
          null,
          -0.1236038961,
          null
         ],
         "y": [
          "AI and ChatGPT in Everyday Life",
          "Chatbot Interaction and Usage on Discord",
          "Discord Server Chatbot Interaction and User Requests",
          "AI Chatbot Interaction and Response automation",
          "Bot Moderation in Online Comment Sections",
          "AI Bots Managing Online Interactions in Chat Platforms",
          "Discord Server Moderation and ChatGPT Interaction",
          "AI Chatbot Interaction and Assistance on Cloud Platforms",
          "Social Media Automated Responses and Bots Interaction",
          "Social Media Karma and Automated Account Moderation",
          "Obama and Trump References in AI Conversations",
          "Reddit Karma and Account Restrictions",
          "Discord Moderation Bot Commands and User Interaction",
          "Discord GPT Bot Moderation and User Interaction",
          "ChatGPT Use Cases and Discussions",
          "Bing's AI Chatbot and User Interaction",
          "Dan Discussing ChatGPT Jailbreaking Ethics",
          "NFT Collecting and Discord Community Interaction",
          "Spam Threshold Management in Online Communities",
          "Managing Discord Server Interactions with GPT-powered Bots",
          "Spam Prevention and Account Karma Management",
          "Squirt: Addressing Spam and Hookup Content on Online Platforms"
         ]
        },
        {
         "marker": {
          "color": "rgba(58, 71, 80, 0.6)",
          "line": {
           "color": "rgba(58, 71, 80, 1.0)",
           "width": 3
          }
         },
         "name": "pos not max",
         "orientation": "h",
         "type": "bar",
         "x": [
          -0.0693219747311544,
          -0.08940751289444059,
          -0.07387202359626656,
          -0.0881790304987207,
          -0.04382936681068493,
          -0.06244332861442308,
          -0.07737601954758064,
          -0.06911501900454546,
          -0.09972490060143738,
          -0.033333333300000004,
          -0.32329176962766665,
          -0.05181159418260868,
          -0.10388286870969389,
          -0.08192347141171875,
          -0.3350065930814127,
          -0.06957215566270983,
          -0.06065575804773578,
          null,
          -0.06134259258888889,
          null,
          -0.14869696969333335,
          null
         ],
         "y": [
          "AI and ChatGPT in Everyday Life",
          "Chatbot Interaction and Usage on Discord",
          "Discord Server Chatbot Interaction and User Requests",
          "AI Chatbot Interaction and Response automation",
          "Bot Moderation in Online Comment Sections",
          "AI Bots Managing Online Interactions in Chat Platforms",
          "Discord Server Moderation and ChatGPT Interaction",
          "AI Chatbot Interaction and Assistance on Cloud Platforms",
          "Social Media Automated Responses and Bots Interaction",
          "Social Media Karma and Automated Account Moderation",
          "Obama and Trump References in AI Conversations",
          "Reddit Karma and Account Restrictions",
          "Discord Moderation Bot Commands and User Interaction",
          "Discord GPT Bot Moderation and User Interaction",
          "ChatGPT Use Cases and Discussions",
          "Bing's AI Chatbot and User Interaction",
          "Dan Discussing ChatGPT Jailbreaking Ethics",
          "NFT Collecting and Discord Community Interaction",
          "Spam Threshold Management in Online Communities",
          "Managing Discord Server Interactions with GPT-powered Bots",
          "Spam Prevention and Account Karma Management",
          "Squirt: Addressing Spam and Hookup Content on Online Platforms"
         ]
        }
       ],
       "layout": {
        "height": 600,
        "legend": {
         "title": {
          "text": "Legenda"
         },
         "x": 1,
         "xanchor": "left",
         "y": 1,
         "yanchor": "top"
        },
        "template": {
         "data": {
          "bar": [
           {
            "error_x": {
             "color": "#2a3f5f"
            },
            "error_y": {
             "color": "#2a3f5f"
            },
            "marker": {
             "line": {
              "color": "#E5ECF6",
              "width": 0.5
             },
             "pattern": {
              "fillmode": "overlay",
              "size": 10,
              "solidity": 0.2
             }
            },
            "type": "bar"
           }
          ],
          "barpolar": [
           {
            "marker": {
             "line": {
              "color": "#E5ECF6",
              "width": 0.5
             },
             "pattern": {
              "fillmode": "overlay",
              "size": 10,
              "solidity": 0.2
             }
            },
            "type": "barpolar"
           }
          ],
          "carpet": [
           {
            "aaxis": {
             "endlinecolor": "#2a3f5f",
             "gridcolor": "white",
             "linecolor": "white",
             "minorgridcolor": "white",
             "startlinecolor": "#2a3f5f"
            },
            "baxis": {
             "endlinecolor": "#2a3f5f",
             "gridcolor": "white",
             "linecolor": "white",
             "minorgridcolor": "white",
             "startlinecolor": "#2a3f5f"
            },
            "type": "carpet"
           }
          ],
          "choropleth": [
           {
            "colorbar": {
             "outlinewidth": 0,
             "ticks": ""
            },
            "type": "choropleth"
           }
          ],
          "contour": [
           {
            "colorbar": {
             "outlinewidth": 0,
             "ticks": ""
            },
            "colorscale": [
             [
              0,
              "#0d0887"
             ],
             [
              0.1111111111111111,
              "#46039f"
             ],
             [
              0.2222222222222222,
              "#7201a8"
             ],
             [
              0.3333333333333333,
              "#9c179e"
             ],
             [
              0.4444444444444444,
              "#bd3786"
             ],
             [
              0.5555555555555556,
              "#d8576b"
             ],
             [
              0.6666666666666666,
              "#ed7953"
             ],
             [
              0.7777777777777778,
              "#fb9f3a"
             ],
             [
              0.8888888888888888,
              "#fdca26"
             ],
             [
              1,
              "#f0f921"
             ]
            ],
            "type": "contour"
           }
          ],
          "contourcarpet": [
           {
            "colorbar": {
             "outlinewidth": 0,
             "ticks": ""
            },
            "type": "contourcarpet"
           }
          ],
          "heatmap": [
           {
            "colorbar": {
             "outlinewidth": 0,
             "ticks": ""
            },
            "colorscale": [
             [
              0,
              "#0d0887"
             ],
             [
              0.1111111111111111,
              "#46039f"
             ],
             [
              0.2222222222222222,
              "#7201a8"
             ],
             [
              0.3333333333333333,
              "#9c179e"
             ],
             [
              0.4444444444444444,
              "#bd3786"
             ],
             [
              0.5555555555555556,
              "#d8576b"
             ],
             [
              0.6666666666666666,
              "#ed7953"
             ],
             [
              0.7777777777777778,
              "#fb9f3a"
             ],
             [
              0.8888888888888888,
              "#fdca26"
             ],
             [
              1,
              "#f0f921"
             ]
            ],
            "type": "heatmap"
           }
          ],
          "heatmapgl": [
           {
            "colorbar": {
             "outlinewidth": 0,
             "ticks": ""
            },
            "colorscale": [
             [
              0,
              "#0d0887"
             ],
             [
              0.1111111111111111,
              "#46039f"
             ],
             [
              0.2222222222222222,
              "#7201a8"
             ],
             [
              0.3333333333333333,
              "#9c179e"
             ],
             [
              0.4444444444444444,
              "#bd3786"
             ],
             [
              0.5555555555555556,
              "#d8576b"
             ],
             [
              0.6666666666666666,
              "#ed7953"
             ],
             [
              0.7777777777777778,
              "#fb9f3a"
             ],
             [
              0.8888888888888888,
              "#fdca26"
             ],
             [
              1,
              "#f0f921"
             ]
            ],
            "type": "heatmapgl"
           }
          ],
          "histogram": [
           {
            "marker": {
             "pattern": {
              "fillmode": "overlay",
              "size": 10,
              "solidity": 0.2
             }
            },
            "type": "histogram"
           }
          ],
          "histogram2d": [
           {
            "colorbar": {
             "outlinewidth": 0,
             "ticks": ""
            },
            "colorscale": [
             [
              0,
              "#0d0887"
             ],
             [
              0.1111111111111111,
              "#46039f"
             ],
             [
              0.2222222222222222,
              "#7201a8"
             ],
             [
              0.3333333333333333,
              "#9c179e"
             ],
             [
              0.4444444444444444,
              "#bd3786"
             ],
             [
              0.5555555555555556,
              "#d8576b"
             ],
             [
              0.6666666666666666,
              "#ed7953"
             ],
             [
              0.7777777777777778,
              "#fb9f3a"
             ],
             [
              0.8888888888888888,
              "#fdca26"
             ],
             [
              1,
              "#f0f921"
             ]
            ],
            "type": "histogram2d"
           }
          ],
          "histogram2dcontour": [
           {
            "colorbar": {
             "outlinewidth": 0,
             "ticks": ""
            },
            "colorscale": [
             [
              0,
              "#0d0887"
             ],
             [
              0.1111111111111111,
              "#46039f"
             ],
             [
              0.2222222222222222,
              "#7201a8"
             ],
             [
              0.3333333333333333,
              "#9c179e"
             ],
             [
              0.4444444444444444,
              "#bd3786"
             ],
             [
              0.5555555555555556,
              "#d8576b"
             ],
             [
              0.6666666666666666,
              "#ed7953"
             ],
             [
              0.7777777777777778,
              "#fb9f3a"
             ],
             [
              0.8888888888888888,
              "#fdca26"
             ],
             [
              1,
              "#f0f921"
             ]
            ],
            "type": "histogram2dcontour"
           }
          ],
          "mesh3d": [
           {
            "colorbar": {
             "outlinewidth": 0,
             "ticks": ""
            },
            "type": "mesh3d"
           }
          ],
          "parcoords": [
           {
            "line": {
             "colorbar": {
              "outlinewidth": 0,
              "ticks": ""
             }
            },
            "type": "parcoords"
           }
          ],
          "pie": [
           {
            "automargin": true,
            "type": "pie"
           }
          ],
          "scatter": [
           {
            "fillpattern": {
             "fillmode": "overlay",
             "size": 10,
             "solidity": 0.2
            },
            "type": "scatter"
           }
          ],
          "scatter3d": [
           {
            "line": {
             "colorbar": {
              "outlinewidth": 0,
              "ticks": ""
             }
            },
            "marker": {
             "colorbar": {
              "outlinewidth": 0,
              "ticks": ""
             }
            },
            "type": "scatter3d"
           }
          ],
          "scattercarpet": [
           {
            "marker": {
             "colorbar": {
              "outlinewidth": 0,
              "ticks": ""
             }
            },
            "type": "scattercarpet"
           }
          ],
          "scattergeo": [
           {
            "marker": {
             "colorbar": {
              "outlinewidth": 0,
              "ticks": ""
             }
            },
            "type": "scattergeo"
           }
          ],
          "scattergl": [
           {
            "marker": {
             "colorbar": {
              "outlinewidth": 0,
              "ticks": ""
             }
            },
            "type": "scattergl"
           }
          ],
          "scattermapbox": [
           {
            "marker": {
             "colorbar": {
              "outlinewidth": 0,
              "ticks": ""
             }
            },
            "type": "scattermapbox"
           }
          ],
          "scatterpolar": [
           {
            "marker": {
             "colorbar": {
              "outlinewidth": 0,
              "ticks": ""
             }
            },
            "type": "scatterpolar"
           }
          ],
          "scatterpolargl": [
           {
            "marker": {
             "colorbar": {
              "outlinewidth": 0,
              "ticks": ""
             }
            },
            "type": "scatterpolargl"
           }
          ],
          "scatterternary": [
           {
            "marker": {
             "colorbar": {
              "outlinewidth": 0,
              "ticks": ""
             }
            },
            "type": "scatterternary"
           }
          ],
          "surface": [
           {
            "colorbar": {
             "outlinewidth": 0,
             "ticks": ""
            },
            "colorscale": [
             [
              0,
              "#0d0887"
             ],
             [
              0.1111111111111111,
              "#46039f"
             ],
             [
              0.2222222222222222,
              "#7201a8"
             ],
             [
              0.3333333333333333,
              "#9c179e"
             ],
             [
              0.4444444444444444,
              "#bd3786"
             ],
             [
              0.5555555555555556,
              "#d8576b"
             ],
             [
              0.6666666666666666,
              "#ed7953"
             ],
             [
              0.7777777777777778,
              "#fb9f3a"
             ],
             [
              0.8888888888888888,
              "#fdca26"
             ],
             [
              1,
              "#f0f921"
             ]
            ],
            "type": "surface"
           }
          ],
          "table": [
           {
            "cells": {
             "fill": {
              "color": "#EBF0F8"
             },
             "line": {
              "color": "white"
             }
            },
            "header": {
             "fill": {
              "color": "#C8D4E3"
             },
             "line": {
              "color": "white"
             }
            },
            "type": "table"
           }
          ]
         },
         "layout": {
          "annotationdefaults": {
           "arrowcolor": "#2a3f5f",
           "arrowhead": 0,
           "arrowwidth": 1
          },
          "autotypenumbers": "strict",
          "coloraxis": {
           "colorbar": {
            "outlinewidth": 0,
            "ticks": ""
           }
          },
          "colorscale": {
           "diverging": [
            [
             0,
             "#8e0152"
            ],
            [
             0.1,
             "#c51b7d"
            ],
            [
             0.2,
             "#de77ae"
            ],
            [
             0.3,
             "#f1b6da"
            ],
            [
             0.4,
             "#fde0ef"
            ],
            [
             0.5,
             "#f7f7f7"
            ],
            [
             0.6,
             "#e6f5d0"
            ],
            [
             0.7,
             "#b8e186"
            ],
            [
             0.8,
             "#7fbc41"
            ],
            [
             0.9,
             "#4d9221"
            ],
            [
             1,
             "#276419"
            ]
           ],
           "sequential": [
            [
             0,
             "#0d0887"
            ],
            [
             0.1111111111111111,
             "#46039f"
            ],
            [
             0.2222222222222222,
             "#7201a8"
            ],
            [
             0.3333333333333333,
             "#9c179e"
            ],
            [
             0.4444444444444444,
             "#bd3786"
            ],
            [
             0.5555555555555556,
             "#d8576b"
            ],
            [
             0.6666666666666666,
             "#ed7953"
            ],
            [
             0.7777777777777778,
             "#fb9f3a"
            ],
            [
             0.8888888888888888,
             "#fdca26"
            ],
            [
             1,
             "#f0f921"
            ]
           ],
           "sequentialminus": [
            [
             0,
             "#0d0887"
            ],
            [
             0.1111111111111111,
             "#46039f"
            ],
            [
             0.2222222222222222,
             "#7201a8"
            ],
            [
             0.3333333333333333,
             "#9c179e"
            ],
            [
             0.4444444444444444,
             "#bd3786"
            ],
            [
             0.5555555555555556,
             "#d8576b"
            ],
            [
             0.6666666666666666,
             "#ed7953"
            ],
            [
             0.7777777777777778,
             "#fb9f3a"
            ],
            [
             0.8888888888888888,
             "#fdca26"
            ],
            [
             1,
             "#f0f921"
            ]
           ]
          },
          "colorway": [
           "#636efa",
           "#EF553B",
           "#00cc96",
           "#ab63fa",
           "#FFA15A",
           "#19d3f3",
           "#FF6692",
           "#B6E880",
           "#FF97FF",
           "#FECB52"
          ],
          "font": {
           "color": "#2a3f5f"
          },
          "geo": {
           "bgcolor": "white",
           "lakecolor": "white",
           "landcolor": "#E5ECF6",
           "showlakes": true,
           "showland": true,
           "subunitcolor": "white"
          },
          "hoverlabel": {
           "align": "left"
          },
          "hovermode": "closest",
          "mapbox": {
           "style": "light"
          },
          "paper_bgcolor": "white",
          "plot_bgcolor": "#E5ECF6",
          "polar": {
           "angularaxis": {
            "gridcolor": "white",
            "linecolor": "white",
            "ticks": ""
           },
           "bgcolor": "#E5ECF6",
           "radialaxis": {
            "gridcolor": "white",
            "linecolor": "white",
            "ticks": ""
           }
          },
          "scene": {
           "xaxis": {
            "backgroundcolor": "#E5ECF6",
            "gridcolor": "white",
            "gridwidth": 2,
            "linecolor": "white",
            "showbackground": true,
            "ticks": "",
            "zerolinecolor": "white"
           },
           "yaxis": {
            "backgroundcolor": "#E5ECF6",
            "gridcolor": "white",
            "gridwidth": 2,
            "linecolor": "white",
            "showbackground": true,
            "ticks": "",
            "zerolinecolor": "white"
           },
           "zaxis": {
            "backgroundcolor": "#E5ECF6",
            "gridcolor": "white",
            "gridwidth": 2,
            "linecolor": "white",
            "showbackground": true,
            "ticks": "",
            "zerolinecolor": "white"
           }
          },
          "shapedefaults": {
           "line": {
            "color": "#2a3f5f"
           }
          },
          "ternary": {
           "aaxis": {
            "gridcolor": "white",
            "linecolor": "white",
            "ticks": ""
           },
           "baxis": {
            "gridcolor": "white",
            "linecolor": "white",
            "ticks": ""
           },
           "bgcolor": "#E5ECF6",
           "caxis": {
            "gridcolor": "white",
            "linecolor": "white",
            "ticks": ""
           }
          },
          "title": {
           "x": 0.05
          },
          "xaxis": {
           "automargin": true,
           "gridcolor": "white",
           "linecolor": "white",
           "ticks": "",
           "title": {
            "standoff": 15
           },
           "zerolinecolor": "white",
           "zerolinewidth": 2
          },
          "yaxis": {
           "automargin": true,
           "gridcolor": "white",
           "linecolor": "white",
           "ticks": "",
           "title": {
            "standoff": 15
           },
           "zerolinecolor": "white",
           "zerolinewidth": 2
          }
         }
        },
        "title": {
         "font": {
          "color": "black",
          "family": "Arial, sans-serif",
          "size": 18
         },
         "text": "<b>Confronto tra avg_pos nei periodi di massima attività, rispetto ai periodi di attività regolare",
         "x": 0.5,
         "xanchor": "center"
        },
        "width": 1000
       }
      },
      "text/html": [
       "<div>                            <div id=\"6a5e2fe7-1d9e-4fe3-9fff-f9e391c49f89\" class=\"plotly-graph-div\" style=\"height:600px; width:1000px;\"></div>            <script type=\"text/javascript\">                require([\"plotly\"], function(Plotly) {                    window.PLOTLYENV=window.PLOTLYENV || {};                                    if (document.getElementById(\"6a5e2fe7-1d9e-4fe3-9fff-f9e391c49f89\")) {                    Plotly.newPlot(                        \"6a5e2fe7-1d9e-4fe3-9fff-f9e391c49f89\",                        [{\"marker\":{\"color\":\"rgba(246, 78, 139, 0.6)\",\"line\":{\"color\":\"rgba(246, 78, 139, 1.0)\",\"width\":3}},\"name\":\"pos max\",\"orientation\":\"h\",\"x\":[-0.07418863917939877,-0.09079805938453159,-0.06504792798952043,-0.05362131687300771,-0.044912566857186545,-0.053817035993199994,-0.06919902995,-0.052262824428205124,-0.06413956193298968,-0.041611330173911394,-0.31703261823034184,-0.04247274770104329,-0.1068849765994681,-0.07195283264215685,-0.3476142647690323,-0.06884061061346154,-0.06248733515508475,null,-0.06431857638749999,null,-0.1236038961,null],\"y\":[\"AI and ChatGPT in Everyday Life\",\"Chatbot Interaction and Usage on Discord\",\"Discord Server Chatbot Interaction and User Requests\",\"AI Chatbot Interaction and Response automation\",\"Bot Moderation in Online Comment Sections\",\"AI Bots Managing Online Interactions in Chat Platforms\",\"Discord Server Moderation and ChatGPT Interaction\",\"AI Chatbot Interaction and Assistance on Cloud Platforms\",\"Social Media Automated Responses and Bots Interaction\",\"Social Media Karma and Automated Account Moderation\",\"Obama and Trump References in AI Conversations\",\"Reddit Karma and Account Restrictions\",\"Discord Moderation Bot Commands and User Interaction\",\"Discord GPT Bot Moderation and User Interaction\",\"ChatGPT Use Cases and Discussions\",\"Bing's AI Chatbot and User Interaction\",\"Dan Discussing ChatGPT Jailbreaking Ethics\",\"NFT Collecting and Discord Community Interaction\",\"Spam Threshold Management in Online Communities\",\"Managing Discord Server Interactions with GPT-powered Bots\",\"Spam Prevention and Account Karma Management\",\"Squirt: Addressing Spam and Hookup Content on Online Platforms\"],\"type\":\"bar\"},{\"marker\":{\"color\":\"rgba(58, 71, 80, 0.6)\",\"line\":{\"color\":\"rgba(58, 71, 80, 1.0)\",\"width\":3}},\"name\":\"pos not max\",\"orientation\":\"h\",\"x\":[-0.0693219747311544,-0.08940751289444059,-0.07387202359626656,-0.0881790304987207,-0.04382936681068493,-0.06244332861442308,-0.07737601954758064,-0.06911501900454546,-0.09972490060143738,-0.033333333300000004,-0.32329176962766665,-0.05181159418260868,-0.10388286870969389,-0.08192347141171875,-0.3350065930814127,-0.06957215566270983,-0.06065575804773578,null,-0.06134259258888889,null,-0.14869696969333335,null],\"y\":[\"AI and ChatGPT in Everyday Life\",\"Chatbot Interaction and Usage on Discord\",\"Discord Server Chatbot Interaction and User Requests\",\"AI Chatbot Interaction and Response automation\",\"Bot Moderation in Online Comment Sections\",\"AI Bots Managing Online Interactions in Chat Platforms\",\"Discord Server Moderation and ChatGPT Interaction\",\"AI Chatbot Interaction and Assistance on Cloud Platforms\",\"Social Media Automated Responses and Bots Interaction\",\"Social Media Karma and Automated Account Moderation\",\"Obama and Trump References in AI Conversations\",\"Reddit Karma and Account Restrictions\",\"Discord Moderation Bot Commands and User Interaction\",\"Discord GPT Bot Moderation and User Interaction\",\"ChatGPT Use Cases and Discussions\",\"Bing's AI Chatbot and User Interaction\",\"Dan Discussing ChatGPT Jailbreaking Ethics\",\"NFT Collecting and Discord Community Interaction\",\"Spam Threshold Management in Online Communities\",\"Managing Discord Server Interactions with GPT-powered Bots\",\"Spam Prevention and Account Karma Management\",\"Squirt: Addressing Spam and Hookup Content on Online Platforms\"],\"type\":\"bar\"}],                        {\"template\":{\"data\":{\"histogram2dcontour\":[{\"type\":\"histogram2dcontour\",\"colorbar\":{\"outlinewidth\":0,\"ticks\":\"\"},\"colorscale\":[[0.0,\"#0d0887\"],[0.1111111111111111,\"#46039f\"],[0.2222222222222222,\"#7201a8\"],[0.3333333333333333,\"#9c179e\"],[0.4444444444444444,\"#bd3786\"],[0.5555555555555556,\"#d8576b\"],[0.6666666666666666,\"#ed7953\"],[0.7777777777777778,\"#fb9f3a\"],[0.8888888888888888,\"#fdca26\"],[1.0,\"#f0f921\"]]}],\"choropleth\":[{\"type\":\"choropleth\",\"colorbar\":{\"outlinewidth\":0,\"ticks\":\"\"}}],\"histogram2d\":[{\"type\":\"histogram2d\",\"colorbar\":{\"outlinewidth\":0,\"ticks\":\"\"},\"colorscale\":[[0.0,\"#0d0887\"],[0.1111111111111111,\"#46039f\"],[0.2222222222222222,\"#7201a8\"],[0.3333333333333333,\"#9c179e\"],[0.4444444444444444,\"#bd3786\"],[0.5555555555555556,\"#d8576b\"],[0.6666666666666666,\"#ed7953\"],[0.7777777777777778,\"#fb9f3a\"],[0.8888888888888888,\"#fdca26\"],[1.0,\"#f0f921\"]]}],\"heatmap\":[{\"type\":\"heatmap\",\"colorbar\":{\"outlinewidth\":0,\"ticks\":\"\"},\"colorscale\":[[0.0,\"#0d0887\"],[0.1111111111111111,\"#46039f\"],[0.2222222222222222,\"#7201a8\"],[0.3333333333333333,\"#9c179e\"],[0.4444444444444444,\"#bd3786\"],[0.5555555555555556,\"#d8576b\"],[0.6666666666666666,\"#ed7953\"],[0.7777777777777778,\"#fb9f3a\"],[0.8888888888888888,\"#fdca26\"],[1.0,\"#f0f921\"]]}],\"heatmapgl\":[{\"type\":\"heatmapgl\",\"colorbar\":{\"outlinewidth\":0,\"ticks\":\"\"},\"colorscale\":[[0.0,\"#0d0887\"],[0.1111111111111111,\"#46039f\"],[0.2222222222222222,\"#7201a8\"],[0.3333333333333333,\"#9c179e\"],[0.4444444444444444,\"#bd3786\"],[0.5555555555555556,\"#d8576b\"],[0.6666666666666666,\"#ed7953\"],[0.7777777777777778,\"#fb9f3a\"],[0.8888888888888888,\"#fdca26\"],[1.0,\"#f0f921\"]]}],\"contourcarpet\":[{\"type\":\"contourcarpet\",\"colorbar\":{\"outlinewidth\":0,\"ticks\":\"\"}}],\"contour\":[{\"type\":\"contour\",\"colorbar\":{\"outlinewidth\":0,\"ticks\":\"\"},\"colorscale\":[[0.0,\"#0d0887\"],[0.1111111111111111,\"#46039f\"],[0.2222222222222222,\"#7201a8\"],[0.3333333333333333,\"#9c179e\"],[0.4444444444444444,\"#bd3786\"],[0.5555555555555556,\"#d8576b\"],[0.6666666666666666,\"#ed7953\"],[0.7777777777777778,\"#fb9f3a\"],[0.8888888888888888,\"#fdca26\"],[1.0,\"#f0f921\"]]}],\"surface\":[{\"type\":\"surface\",\"colorbar\":{\"outlinewidth\":0,\"ticks\":\"\"},\"colorscale\":[[0.0,\"#0d0887\"],[0.1111111111111111,\"#46039f\"],[0.2222222222222222,\"#7201a8\"],[0.3333333333333333,\"#9c179e\"],[0.4444444444444444,\"#bd3786\"],[0.5555555555555556,\"#d8576b\"],[0.6666666666666666,\"#ed7953\"],[0.7777777777777778,\"#fb9f3a\"],[0.8888888888888888,\"#fdca26\"],[1.0,\"#f0f921\"]]}],\"mesh3d\":[{\"type\":\"mesh3d\",\"colorbar\":{\"outlinewidth\":0,\"ticks\":\"\"}}],\"scatter\":[{\"fillpattern\":{\"fillmode\":\"overlay\",\"size\":10,\"solidity\":0.2},\"type\":\"scatter\"}],\"parcoords\":[{\"type\":\"parcoords\",\"line\":{\"colorbar\":{\"outlinewidth\":0,\"ticks\":\"\"}}}],\"scatterpolargl\":[{\"type\":\"scatterpolargl\",\"marker\":{\"colorbar\":{\"outlinewidth\":0,\"ticks\":\"\"}}}],\"bar\":[{\"error_x\":{\"color\":\"#2a3f5f\"},\"error_y\":{\"color\":\"#2a3f5f\"},\"marker\":{\"line\":{\"color\":\"#E5ECF6\",\"width\":0.5},\"pattern\":{\"fillmode\":\"overlay\",\"size\":10,\"solidity\":0.2}},\"type\":\"bar\"}],\"scattergeo\":[{\"type\":\"scattergeo\",\"marker\":{\"colorbar\":{\"outlinewidth\":0,\"ticks\":\"\"}}}],\"scatterpolar\":[{\"type\":\"scatterpolar\",\"marker\":{\"colorbar\":{\"outlinewidth\":0,\"ticks\":\"\"}}}],\"histogram\":[{\"marker\":{\"pattern\":{\"fillmode\":\"overlay\",\"size\":10,\"solidity\":0.2}},\"type\":\"histogram\"}],\"scattergl\":[{\"type\":\"scattergl\",\"marker\":{\"colorbar\":{\"outlinewidth\":0,\"ticks\":\"\"}}}],\"scatter3d\":[{\"type\":\"scatter3d\",\"line\":{\"colorbar\":{\"outlinewidth\":0,\"ticks\":\"\"}},\"marker\":{\"colorbar\":{\"outlinewidth\":0,\"ticks\":\"\"}}}],\"scattermapbox\":[{\"type\":\"scattermapbox\",\"marker\":{\"colorbar\":{\"outlinewidth\":0,\"ticks\":\"\"}}}],\"scatterternary\":[{\"type\":\"scatterternary\",\"marker\":{\"colorbar\":{\"outlinewidth\":0,\"ticks\":\"\"}}}],\"scattercarpet\":[{\"type\":\"scattercarpet\",\"marker\":{\"colorbar\":{\"outlinewidth\":0,\"ticks\":\"\"}}}],\"carpet\":[{\"aaxis\":{\"endlinecolor\":\"#2a3f5f\",\"gridcolor\":\"white\",\"linecolor\":\"white\",\"minorgridcolor\":\"white\",\"startlinecolor\":\"#2a3f5f\"},\"baxis\":{\"endlinecolor\":\"#2a3f5f\",\"gridcolor\":\"white\",\"linecolor\":\"white\",\"minorgridcolor\":\"white\",\"startlinecolor\":\"#2a3f5f\"},\"type\":\"carpet\"}],\"table\":[{\"cells\":{\"fill\":{\"color\":\"#EBF0F8\"},\"line\":{\"color\":\"white\"}},\"header\":{\"fill\":{\"color\":\"#C8D4E3\"},\"line\":{\"color\":\"white\"}},\"type\":\"table\"}],\"barpolar\":[{\"marker\":{\"line\":{\"color\":\"#E5ECF6\",\"width\":0.5},\"pattern\":{\"fillmode\":\"overlay\",\"size\":10,\"solidity\":0.2}},\"type\":\"barpolar\"}],\"pie\":[{\"automargin\":true,\"type\":\"pie\"}]},\"layout\":{\"autotypenumbers\":\"strict\",\"colorway\":[\"#636efa\",\"#EF553B\",\"#00cc96\",\"#ab63fa\",\"#FFA15A\",\"#19d3f3\",\"#FF6692\",\"#B6E880\",\"#FF97FF\",\"#FECB52\"],\"font\":{\"color\":\"#2a3f5f\"},\"hovermode\":\"closest\",\"hoverlabel\":{\"align\":\"left\"},\"paper_bgcolor\":\"white\",\"plot_bgcolor\":\"#E5ECF6\",\"polar\":{\"bgcolor\":\"#E5ECF6\",\"angularaxis\":{\"gridcolor\":\"white\",\"linecolor\":\"white\",\"ticks\":\"\"},\"radialaxis\":{\"gridcolor\":\"white\",\"linecolor\":\"white\",\"ticks\":\"\"}},\"ternary\":{\"bgcolor\":\"#E5ECF6\",\"aaxis\":{\"gridcolor\":\"white\",\"linecolor\":\"white\",\"ticks\":\"\"},\"baxis\":{\"gridcolor\":\"white\",\"linecolor\":\"white\",\"ticks\":\"\"},\"caxis\":{\"gridcolor\":\"white\",\"linecolor\":\"white\",\"ticks\":\"\"}},\"coloraxis\":{\"colorbar\":{\"outlinewidth\":0,\"ticks\":\"\"}},\"colorscale\":{\"sequential\":[[0.0,\"#0d0887\"],[0.1111111111111111,\"#46039f\"],[0.2222222222222222,\"#7201a8\"],[0.3333333333333333,\"#9c179e\"],[0.4444444444444444,\"#bd3786\"],[0.5555555555555556,\"#d8576b\"],[0.6666666666666666,\"#ed7953\"],[0.7777777777777778,\"#fb9f3a\"],[0.8888888888888888,\"#fdca26\"],[1.0,\"#f0f921\"]],\"sequentialminus\":[[0.0,\"#0d0887\"],[0.1111111111111111,\"#46039f\"],[0.2222222222222222,\"#7201a8\"],[0.3333333333333333,\"#9c179e\"],[0.4444444444444444,\"#bd3786\"],[0.5555555555555556,\"#d8576b\"],[0.6666666666666666,\"#ed7953\"],[0.7777777777777778,\"#fb9f3a\"],[0.8888888888888888,\"#fdca26\"],[1.0,\"#f0f921\"]],\"diverging\":[[0,\"#8e0152\"],[0.1,\"#c51b7d\"],[0.2,\"#de77ae\"],[0.3,\"#f1b6da\"],[0.4,\"#fde0ef\"],[0.5,\"#f7f7f7\"],[0.6,\"#e6f5d0\"],[0.7,\"#b8e186\"],[0.8,\"#7fbc41\"],[0.9,\"#4d9221\"],[1,\"#276419\"]]},\"xaxis\":{\"gridcolor\":\"white\",\"linecolor\":\"white\",\"ticks\":\"\",\"title\":{\"standoff\":15},\"zerolinecolor\":\"white\",\"automargin\":true,\"zerolinewidth\":2},\"yaxis\":{\"gridcolor\":\"white\",\"linecolor\":\"white\",\"ticks\":\"\",\"title\":{\"standoff\":15},\"zerolinecolor\":\"white\",\"automargin\":true,\"zerolinewidth\":2},\"scene\":{\"xaxis\":{\"backgroundcolor\":\"#E5ECF6\",\"gridcolor\":\"white\",\"linecolor\":\"white\",\"showbackground\":true,\"ticks\":\"\",\"zerolinecolor\":\"white\",\"gridwidth\":2},\"yaxis\":{\"backgroundcolor\":\"#E5ECF6\",\"gridcolor\":\"white\",\"linecolor\":\"white\",\"showbackground\":true,\"ticks\":\"\",\"zerolinecolor\":\"white\",\"gridwidth\":2},\"zaxis\":{\"backgroundcolor\":\"#E5ECF6\",\"gridcolor\":\"white\",\"linecolor\":\"white\",\"showbackground\":true,\"ticks\":\"\",\"zerolinecolor\":\"white\",\"gridwidth\":2}},\"shapedefaults\":{\"line\":{\"color\":\"#2a3f5f\"}},\"annotationdefaults\":{\"arrowcolor\":\"#2a3f5f\",\"arrowhead\":0,\"arrowwidth\":1},\"geo\":{\"bgcolor\":\"white\",\"landcolor\":\"#E5ECF6\",\"subunitcolor\":\"white\",\"showland\":true,\"showlakes\":true,\"lakecolor\":\"white\"},\"title\":{\"x\":0.05},\"mapbox\":{\"style\":\"light\"}}},\"legend\":{\"title\":{\"text\":\"Legenda\"},\"yanchor\":\"top\",\"y\":1.0,\"xanchor\":\"left\",\"x\":1},\"title\":{\"font\":{\"size\":18,\"color\":\"black\",\"family\":\"Arial, sans-serif\"},\"text\":\"\\u003cb\\u003eConfronto tra avg_pos nei periodi di massima attivit\\u00e0, rispetto ai periodi di attivit\\u00e0 regolare\",\"x\":0.5,\"xanchor\":\"center\"},\"width\":1000,\"height\":600},                        {\"responsive\": true}                    ).then(function(){\n",
       "                            \n",
       "var gd = document.getElementById('6a5e2fe7-1d9e-4fe3-9fff-f9e391c49f89');\n",
       "var x = new MutationObserver(function (mutations, observer) {{\n",
       "        var display = window.getComputedStyle(gd).display;\n",
       "        if (!display || display === 'none') {{\n",
       "            console.log([gd, 'removed!']);\n",
       "            Plotly.purge(gd);\n",
       "            observer.disconnect();\n",
       "        }}\n",
       "}});\n",
       "\n",
       "// Listen for the removal of the full notebook cells\n",
       "var notebookContainer = gd.closest('#notebook-container');\n",
       "if (notebookContainer) {{\n",
       "    x.observe(notebookContainer, {childList: true});\n",
       "}}\n",
       "\n",
       "// Listen for the clearing of the current output cell\n",
       "var outputEl = gd.closest('.output');\n",
       "if (outputEl) {{\n",
       "    x.observe(outputEl, {childList: true});\n",
       "}}\n",
       "\n",
       "                        })                };                });            </script>        </div>"
      ]
     },
     "metadata": {},
     "output_type": "display_data"
    }
   ],
   "source": [
    "fig = go.Figure()\n",
    "fig.add_trace(go.Bar(\n",
    "    y=list(list(count_series['topic'])),\n",
    "    x=list(list(count_series['avg_neg_per_topic_max'])),\n",
    "    name='neg max',\n",
    "    orientation='h', \n",
    "    marker=dict(\n",
    "        color='rgba(246, 78, 139, 0.6)',\n",
    "        line=dict(color='rgba(246, 78, 139, 1.0)', width=3)\n",
    "    )\n",
    "))\n",
    "fig.add_trace(go.Bar(\n",
    "    y=list(list(count_series['topic'])),\n",
    "    x=list(list(count_series['avg_neg_per_topic_not_max'])),\n",
    "    name='neg not max',\n",
    "    orientation='h',\n",
    "    marker=dict(\n",
    "        color='rgba(58, 71, 80, 0.6)',\n",
    "        line=dict(color='rgba(58, 71, 80, 1.0)', width=3)\n",
    "    )\n",
    "))\n",
    "fig.update_layout(\n",
    "    legend=dict(\n",
    "        title=\"Legenda\",  # Titolo della legenda\n",
    "        yanchor=\"top\",  # Posizione verticale della legenda\n",
    "        y=1.0,  # Posizione verticale della legenda\n",
    "        xanchor=\"left\",  # Posizione orizzontale della legenda\n",
    "        x=1  # Posizione orizzontale della legenda\n",
    "    ),\n",
    "    title=dict(\n",
    "        text='<b>Confronto tra avg_neg nei periodi di massima attività, rispetto ai periodi di attività regolare',  # Title text\n",
    "        x=0.5,  # x=0.5 centers the title\n",
    "        xanchor='center',  # 'center' ensures the title is centered\n",
    "        font=dict(\n",
    "            size=18,\n",
    "            color='black',\n",
    "            family=\"Arial, sans-serif\",\n",
    "        )\n",
    "        )\n",
    ")\n",
    "\n",
    "\n",
    "fig.update_layout(\n",
    "    width=1000,   # Larghezza in pixel\n",
    "    height=600   # Altezza in pixel\n",
    ")"
   ]
  },
  {
   "cell_type": "code",
   "execution_count": null,
   "id": "74e41f39",
   "metadata": {},
   "outputs": [],
   "source": []
  }
 ],
 "metadata": {
  "kernelspec": {
   "display_name": "tesi10",
   "language": "python",
   "name": "p10"
  },
  "language_info": {
   "codemirror_mode": {
    "name": "ipython",
    "version": 3
   },
   "file_extension": ".py",
   "mimetype": "text/x-python",
   "name": "python",
   "nbconvert_exporter": "python",
   "pygments_lexer": "ipython3",
   "version": "3.10.11"
  }
 },
 "nbformat": 4,
 "nbformat_minor": 5
}
