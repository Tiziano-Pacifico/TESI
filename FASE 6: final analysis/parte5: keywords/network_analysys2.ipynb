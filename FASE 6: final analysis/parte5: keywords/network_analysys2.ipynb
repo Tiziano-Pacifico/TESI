{
 "cells": [
  {
   "cell_type": "code",
   "execution_count": 1,
   "id": "57e3f9b8",
   "metadata": {},
   "outputs": [],
   "source": [
    "import networkx as nx\n",
    "import matplotlib.pyplot as plt\n",
    "import json\n",
    "import pandas as pd\n",
    "import numpy as np\n",
    "import re\n",
    "import plotly.offline as py\n",
    "import plotly.graph_objects as go\n",
    "import math\n",
    "import pickle"
   ]
  },
  {
   "cell_type": "code",
   "execution_count": 2,
   "id": "ab03dcce",
   "metadata": {},
   "outputs": [],
   "source": [
    "path = \"C:\\\\Users\\\\Tiziano Pacifico\\\\Desktop\\\\TESI General\\\\TESI_FINAL_STAGE\\\\FASE 6\\\\DFs\\\\\"\n",
    "file = \"sim_matrix_final.json\"\n",
    "with open(path+file, 'r') as file_json:\n",
    "    # Usa json.load() per caricare il contenuto del file JSON in un dizionario\n",
    "    sim_matrix_final = json.load(file_json)"
   ]
  },
  {
   "cell_type": "code",
   "execution_count": 3,
   "id": "42e1b980",
   "metadata": {},
   "outputs": [],
   "source": [
    "path = \"C:\\\\Users\\\\Tiziano Pacifico\\\\Desktop\\\\TESI General\\\\TESI_FINAL_STAGE\\\\FASE 6\\\\DFs\\\\\"\n",
    "filename = \"final_df.json\"\n",
    "df = pd.read_json(path+filename, lines=True)"
   ]
  },
  {
   "cell_type": "code",
   "execution_count": 4,
   "id": "7466c270",
   "metadata": {},
   "outputs": [],
   "source": [
    "path = \"C:\\\\Users\\\\Tiziano Pacifico\\\\Desktop\\\\TESI General\\\\TESI_FINAL_STAGE\\\\FASE 6\\\\DFs\\\\\"\n",
    "file = \"n_different_words_per_topic.json\"\n",
    "with open(path+file, 'r') as file_json:\n",
    "    # Usa json.load() per caricare il contenuto del file JSON in un dizionario\n",
    "    n_different_words_per_topic = json.load(file_json)"
   ]
  },
  {
   "cell_type": "code",
   "execution_count": 5,
   "id": "708fe988",
   "metadata": {},
   "outputs": [],
   "source": [
    "path = \"C:\\\\Users\\\\Tiziano Pacifico\\\\Desktop\\\\TESI General\\\\TESI_FINAL_STAGE\\\\FASE 6\\\\DFs\\\\\"\n",
    "file = \"n_words_per_topic.json\"\n",
    "with open(path+file, 'r') as file_json:\n",
    "    # Usa json.load() per caricare il contenuto del file JSON in un dizionario\n",
    "    n_words_per_topic = json.load(file_json)"
   ]
  },
  {
   "cell_type": "code",
   "execution_count": 6,
   "id": "9b9266b5",
   "metadata": {},
   "outputs": [],
   "source": [
    "topics = list(df['GPT_label'].unique())"
   ]
  },
  {
   "cell_type": "code",
   "execution_count": 7,
   "id": "900a322c",
   "metadata": {},
   "outputs": [],
   "source": [
    "G = nx.Graph()"
   ]
  },
  {
   "cell_type": "code",
   "execution_count": 8,
   "id": "f505dff5",
   "metadata": {},
   "outputs": [],
   "source": [
    "for topic in topics:\n",
    "    G.add_node(topic, size = math.log(n_words_per_topic[topic]))"
   ]
  },
  {
   "cell_type": "code",
   "execution_count": 9,
   "id": "9c4ed461",
   "metadata": {},
   "outputs": [],
   "source": [
    "\n",
    "for tx in topics:\n",
    "    for ty in topics:\n",
    "        if(sim_matrix_final[tx][ty] > 0.78 and tx != ty):\n",
    "            G.add_edge(tx,ty)"
   ]
  },
  {
   "cell_type": "code",
   "execution_count": 10,
   "id": "c2ac3973",
   "metadata": {},
   "outputs": [],
   "source": [
    "pos_ = nx.circular_layout(G)"
   ]
  },
  {
   "cell_type": "code",
   "execution_count": 11,
   "id": "dcd500f3",
   "metadata": {},
   "outputs": [],
   "source": [
    "def make_edge(x, y, text):\n",
    "    \n",
    "    '''Creates a scatter trace for the edge between x's and y's with given width\n",
    "\n",
    "    Parameters\n",
    "    ----------\n",
    "    x    : a tuple of the endpoints' x-coordinates in the form, tuple([x0, x1, None])\n",
    "    \n",
    "    y    : a tuple of the endpoints' y-coordinates in the form, tuple([y0, y1, None])\n",
    "    \n",
    "    width: the width of the line\n",
    "\n",
    "    Returns\n",
    "    -------\n",
    "    An edge trace that goes between x0 and x1 with specified width.\n",
    "    '''\n",
    "    return  go.Scatter(x         = x,\n",
    "                       y         = y,\n",
    "                       line      = dict(width = 1,\n",
    "                                   color = 'black'),\n",
    "                       hoverinfo = 'none',\n",
    "                       text      = ([text]),\n",
    "                       mode      = 'lines')"
   ]
  },
  {
   "cell_type": "code",
   "execution_count": 12,
   "id": "79d06577",
   "metadata": {},
   "outputs": [],
   "source": [
    "edge_trace = []\n",
    "for edge in G.edges():\n",
    "    char_1 = edge[0]\n",
    "    char_2 = edge[1]\n",
    "    \n",
    "    x0,y0 = pos_[char_1]\n",
    "    x1,y1 = pos_[char_2]\n",
    "    \n",
    "    text = char_1 + '--' + ': ' + str(G.edges()[edge])\n",
    "    \n",
    "    trace = make_edge([x0,x1,None],[y0,y1,None],text)\n",
    "    edge_trace.append(trace)"
   ]
  },
  {
   "cell_type": "code",
   "execution_count": 13,
   "id": "04f56097",
   "metadata": {},
   "outputs": [],
   "source": [
    "node_trace = go.Scatter(x=[],\n",
    "                        y=[],\n",
    "                        text=[],\n",
    "                        textposition='top right',\n",
    "                       textfont_size = 8,\n",
    "                       mode = 'markers+text',\n",
    "                       hoverinfo = 'text',\n",
    "                       marker = dict(color = [],\n",
    "                                    size = [],\n",
    "                                    line = None))\n",
    "for node in G.nodes():\n",
    "    x,y = pos_[node]\n",
    "    node_trace['x'] += tuple([x])\n",
    "    node_trace['y'] += tuple([y])\n",
    "    node_trace['marker']['color'] += tuple(['cornflowerblue'])\n",
    "    node_trace['marker']['size'] += tuple([(4* G.nodes()[node]['size'])] )\n",
    "    node_trace['text'] += tuple(['<b>' + node + '</b>'])"
   ]
  },
  {
   "cell_type": "code",
   "execution_count": 14,
   "id": "8c7f1627",
   "metadata": {},
   "outputs": [
    {
     "data": {
      "application/vnd.plotly.v1+json": {
       "config": {
        "plotlyServerURL": "https://plot.ly"
       },
       "data": [
        {
         "hoverinfo": "none",
         "line": {
          "color": "black",
          "width": 1
         },
         "mode": "lines",
         "text": [
          "AI Chatbot Interaction and Assistance on Cloud Platforms--: {}"
         ],
         "type": "scatter",
         "x": [
          1,
          0.9594929815436141,
          null
         ],
         "y": [
          8.037715602612573e-9,
          0.2817325664785185,
          null
         ]
        },
        {
         "hoverinfo": "none",
         "line": {
          "color": "black",
          "width": 1
         },
         "mode": "lines",
         "text": [
          "AI Chatbot Interaction and Assistance on Cloud Platforms--: {}"
         ],
         "type": "scatter",
         "x": [
          1,
          0.6548607358746616,
          null
         ],
         "y": [
          8.037715602612573e-9,
          0.7557495892344853,
          null
         ]
        },
        {
         "hoverinfo": "none",
         "line": {
          "color": "black",
          "width": 1
         },
         "mode": "lines",
         "text": [
          "AI Chatbot Interaction and Assistance on Cloud Platforms--: {}"
         ],
         "type": "scatter",
         "x": [
          1,
          0.14231486850891636,
          null
         ],
         "y": [
          8.037715602612573e-9,
          0.9898214393769864,
          null
         ]
        },
        {
         "hoverinfo": "none",
         "line": {
          "color": "black",
          "width": 1
         },
         "mode": "lines",
         "text": [
          "AI Chatbot Interaction and Assistance on Cloud Platforms--: {}"
         ],
         "type": "scatter",
         "x": [
          1,
          -0.654860670851413,
          null
         ],
         "y": [
          8.037715602612573e-9,
          0.75574964883913,
          null
         ]
        },
        {
         "hoverinfo": "none",
         "line": {
          "color": "black",
          "width": 1
         },
         "mode": "lines",
         "text": [
          "AI Chatbot Interaction and Assistance on Cloud Platforms--: {}"
         ],
         "type": "scatter",
         "x": [
          1,
          -0.8412535140697156,
          null
         ],
         "y": [
          8.037715602612573e-9,
          0.540640777961964,
          null
         ]
        },
        {
         "hoverinfo": "none",
         "line": {
          "color": "black",
          "width": 1
         },
         "mode": "lines",
         "text": [
          "AI Chatbot Interaction and Assistance on Cloud Platforms--: {}"
         ],
         "type": "scatter",
         "x": [
          1,
          -0.95949297612501,
          null
         ],
         "y": [
          8.037715602612573e-9,
          0.28173259628084085,
          null
         ]
        },
        {
         "hoverinfo": "none",
         "line": {
          "color": "black",
          "width": 1
         },
         "mode": "lines",
         "text": [
          "AI Chatbot Interaction and Assistance on Cloud Platforms--: {}"
         ],
         "type": "scatter",
         "x": [
          1,
          -0.95949297612501,
          null
         ],
         "y": [
          8.037715602612573e-9,
          -0.28173255040308737,
          null
         ]
        },
        {
         "hoverinfo": "none",
         "line": {
          "color": "black",
          "width": 1
         },
         "mode": "lines",
         "text": [
          "AI Chatbot Interaction and Assistance on Cloud Platforms--: {}"
         ],
         "type": "scatter",
         "x": [
          1,
          -0.8412536332790048,
          null
         ],
         "y": [
          8.037715602612573e-9,
          -0.5406407022818882,
          null
         ]
        },
        {
         "hoverinfo": "none",
         "line": {
          "color": "black",
          "width": 1
         },
         "mode": "lines",
         "text": [
          "AI Chatbot Interaction and Assistance on Cloud Platforms--: {}"
         ],
         "type": "scatter",
         "x": [
          1,
          -0.41541510436910084,
          null
         ],
         "y": [
          8.037715602612573e-9,
          -0.9096319570423723,
          null
         ]
        },
        {
         "hoverinfo": "none",
         "line": {
          "color": "black",
          "width": 1
         },
         "mode": "lines",
         "text": [
          "AI Chatbot Interaction and Assistance on Cloud Platforms--: {}"
         ],
         "type": "scatter",
         "x": [
          1,
          -0.14231501210192382,
          null
         ],
         "y": [
          8.037715602612573e-9,
          -0.9898214233015552,
          null
         ]
        },
        {
         "hoverinfo": "none",
         "line": {
          "color": "black",
          "width": 1
         },
         "mode": "lines",
         "text": [
          "AI Chatbot Interaction and Assistance on Cloud Platforms--: {}"
         ],
         "type": "scatter",
         "x": [
          1,
          0.1423150473228502,
          null
         ],
         "y": [
          8.037715602612573e-9,
          -0.9898214233015552,
          null
         ]
        },
        {
         "hoverinfo": "none",
         "line": {
          "color": "black",
          "width": 1
         },
         "mode": "lines",
         "text": [
          "AI Chatbot Interaction and Assistance on Cloud Platforms--: {}"
         ],
         "type": "scatter",
         "x": [
          1,
          0.41541510978770496,
          null
         ],
         "y": [
          8.037715602612573e-9,
          -0.9096319570423723,
          null
         ]
        },
        {
         "hoverinfo": "none",
         "line": {
          "color": "black",
          "width": 1
         },
         "mode": "lines",
         "text": [
          "AI Chatbot Interaction and Assistance on Cloud Platforms--: {}"
         ],
         "type": "scatter",
         "x": [
          1,
          0.6548607358746616,
          null
         ],
         "y": [
          8.037715602612573e-9,
          -0.7557495731590542,
          null
         ]
        },
        {
         "hoverinfo": "none",
         "line": {
          "color": "black",
          "width": 1
         },
         "mode": "lines",
         "text": [
          "AI Chatbot Interaction and Assistance on Cloud Platforms--: {}"
         ],
         "type": "scatter",
         "x": [
          1,
          0.841253459883675,
          null
         ],
         "y": [
          8.037715602612573e-9,
          -0.540640881095822,
          null
         ]
        },
        {
         "hoverinfo": "none",
         "line": {
          "color": "black",
          "width": 1
         },
         "mode": "lines",
         "text": [
          "AI Chatbot Interaction and Assistance on Cloud Platforms--: {}"
         ],
         "type": "scatter",
         "x": [
          1,
          0.9594929219389694,
          null
         ],
         "y": [
          8.037715602612573e-9,
          -0.2817327292170212,
          null
         ]
        },
        {
         "hoverinfo": "none",
         "line": {
          "color": "black",
          "width": 1
         },
         "mode": "lines",
         "text": [
          "Chatbot Interaction and Usage on Discord--: {}"
         ],
         "type": "scatter",
         "x": [
          0.9594929815436141,
          -0.14231483328799,
          null
         ],
         "y": [
          0.2817325664785185,
          0.9898214393769864,
          null
         ]
        },
        {
         "hoverinfo": "none",
         "line": {
          "color": "black",
          "width": 1
         },
         "mode": "lines",
         "text": [
          "Chatbot Interaction and Usage on Discord--: {}"
         ],
         "type": "scatter",
         "x": [
          0.9594929815436141,
          -0.654860670851413,
          null
         ],
         "y": [
          0.2817325664785185,
          0.75574964883913,
          null
         ]
        },
        {
         "hoverinfo": "none",
         "line": {
          "color": "black",
          "width": 1
         },
         "mode": "lines",
         "text": [
          "Chatbot Interaction and Usage on Discord--: {}"
         ],
         "type": "scatter",
         "x": [
          0.9594929815436141,
          -0.8412535140697156,
          null
         ],
         "y": [
          0.2817325664785185,
          0.540640777961964,
          null
         ]
        },
        {
         "hoverinfo": "none",
         "line": {
          "color": "black",
          "width": 1
         },
         "mode": "lines",
         "text": [
          "Chatbot Interaction and Usage on Discord--: {}"
         ],
         "type": "scatter",
         "x": [
          0.9594929815436141,
          -0.95949297612501,
          null
         ],
         "y": [
          0.2817325664785185,
          0.28173259628084085,
          null
         ]
        },
        {
         "hoverinfo": "none",
         "line": {
          "color": "black",
          "width": 1
         },
         "mode": "lines",
         "text": [
          "Chatbot Interaction and Usage on Discord--: {}"
         ],
         "type": "scatter",
         "x": [
          0.9594929815436141,
          -0.8412536332790048,
          null
         ],
         "y": [
          0.2817325664785185,
          -0.5406407022818882,
          null
         ]
        },
        {
         "hoverinfo": "none",
         "line": {
          "color": "black",
          "width": 1
         },
         "mode": "lines",
         "text": [
          "Chatbot Interaction and Usage on Discord--: {}"
         ],
         "type": "scatter",
         "x": [
          0.9594929815436141,
          -0.41541510436910084,
          null
         ],
         "y": [
          0.2817325664785185,
          -0.9096319570423723,
          null
         ]
        },
        {
         "hoverinfo": "none",
         "line": {
          "color": "black",
          "width": 1
         },
         "mode": "lines",
         "text": [
          "Chatbot Interaction and Usage on Discord--: {}"
         ],
         "type": "scatter",
         "x": [
          0.9594929815436141,
          -0.14231501210192382,
          null
         ],
         "y": [
          0.2817325664785185,
          -0.9898214233015552,
          null
         ]
        },
        {
         "hoverinfo": "none",
         "line": {
          "color": "black",
          "width": 1
         },
         "mode": "lines",
         "text": [
          "Chatbot Interaction and Usage on Discord--: {}"
         ],
         "type": "scatter",
         "x": [
          0.9594929815436141,
          0.41541510978770496,
          null
         ],
         "y": [
          0.2817325664785185,
          -0.9096319570423723,
          null
         ]
        },
        {
         "hoverinfo": "none",
         "line": {
          "color": "black",
          "width": 1
         },
         "mode": "lines",
         "text": [
          "Chatbot Interaction and Usage on Discord--: {}"
         ],
         "type": "scatter",
         "x": [
          0.9594929815436141,
          0.6548607358746616,
          null
         ],
         "y": [
          0.2817325664785185,
          -0.7557495731590542,
          null
         ]
        },
        {
         "hoverinfo": "none",
         "line": {
          "color": "black",
          "width": 1
         },
         "mode": "lines",
         "text": [
          "Chatbot Interaction and Usage on Discord--: {}"
         ],
         "type": "scatter",
         "x": [
          0.9594929815436141,
          0.841253459883675,
          null
         ],
         "y": [
          0.2817325664785185,
          -0.540640881095822,
          null
         ]
        },
        {
         "hoverinfo": "none",
         "line": {
          "color": "black",
          "width": 1
         },
         "mode": "lines",
         "text": [
          "AI and ChatGPT in Everyday Life--: {}"
         ],
         "type": "scatter",
         "x": [
          0.6548607358746616,
          -0.41541501496213395,
          null
         ],
         "y": [
          0.7557495892344853,
          0.9096320327224481,
          null
         ]
        },
        {
         "hoverinfo": "none",
         "line": {
          "color": "black",
          "width": 1
         },
         "mode": "lines",
         "text": [
          "AI and ChatGPT in Everyday Life--: {}"
         ],
         "type": "scatter",
         "x": [
          0.6548607358746616,
          -0.654860670851413,
          null
         ],
         "y": [
          0.7557495892344853,
          0.75574964883913,
          null
         ]
        },
        {
         "hoverinfo": "none",
         "line": {
          "color": "black",
          "width": 1
         },
         "mode": "lines",
         "text": [
          "AI and ChatGPT in Everyday Life--: {}"
         ],
         "type": "scatter",
         "x": [
          0.6548607358746616,
          -0.95949297612501,
          null
         ],
         "y": [
          0.7557495892344853,
          0.28173259628084085,
          null
         ]
        },
        {
         "hoverinfo": "none",
         "line": {
          "color": "black",
          "width": 1
         },
         "mode": "lines",
         "text": [
          "AI and ChatGPT in Everyday Life--: {}"
         ],
         "type": "scatter",
         "x": [
          0.6548607358746616,
          -0.95949297612501,
          null
         ],
         "y": [
          0.7557495892344853,
          -0.28173255040308737,
          null
         ]
        },
        {
         "hoverinfo": "none",
         "line": {
          "color": "black",
          "width": 1
         },
         "mode": "lines",
         "text": [
          "Reddit Karma and Account Restrictions--: {}"
         ],
         "type": "scatter",
         "x": [
          0.41541507998538263,
          0.14231486850891636,
          null
         ],
         "y": [
          0.9096319731178034,
          0.9898214393769864,
          null
         ]
        },
        {
         "hoverinfo": "none",
         "line": {
          "color": "black",
          "width": 1
         },
         "mode": "lines",
         "text": [
          "Reddit Karma and Account Restrictions--: {}"
         ],
         "type": "scatter",
         "x": [
          0.41541507998538263,
          -0.8412535140697156,
          null
         ],
         "y": [
          0.9096319731178034,
          0.540640777961964,
          null
         ]
        },
        {
         "hoverinfo": "none",
         "line": {
          "color": "black",
          "width": 1
         },
         "mode": "lines",
         "text": [
          "Reddit Karma and Account Restrictions--: {}"
         ],
         "type": "scatter",
         "x": [
          0.41541507998538263,
          -0.8412536332790048,
          null
         ],
         "y": [
          0.9096319731178034,
          -0.5406407022818882,
          null
         ]
        },
        {
         "hoverinfo": "none",
         "line": {
          "color": "black",
          "width": 1
         },
         "mode": "lines",
         "text": [
          "Reddit Karma and Account Restrictions--: {}"
         ],
         "type": "scatter",
         "x": [
          0.41541507998538263,
          -0.6548607304560576,
          null
         ],
         "y": [
          0.9096319731178034,
          -0.7557495731590542,
          null
         ]
        },
        {
         "hoverinfo": "none",
         "line": {
          "color": "black",
          "width": 1
         },
         "mode": "lines",
         "text": [
          "Reddit Karma and Account Restrictions--: {}"
         ],
         "type": "scatter",
         "x": [
          0.41541507998538263,
          -0.41541510436910084,
          null
         ],
         "y": [
          0.9096319731178034,
          -0.9096319570423723,
          null
         ]
        },
        {
         "hoverinfo": "none",
         "line": {
          "color": "black",
          "width": 1
         },
         "mode": "lines",
         "text": [
          "Reddit Karma and Account Restrictions--: {}"
         ],
         "type": "scatter",
         "x": [
          0.41541507998538263,
          -0.14231501210192382,
          null
         ],
         "y": [
          0.9096319731178034,
          -0.9898214233015552,
          null
         ]
        },
        {
         "hoverinfo": "none",
         "line": {
          "color": "black",
          "width": 1
         },
         "mode": "lines",
         "text": [
          "Reddit Karma and Account Restrictions--: {}"
         ],
         "type": "scatter",
         "x": [
          0.41541507998538263,
          0.1423150473228502,
          null
         ],
         "y": [
          0.9096319731178034,
          -0.9898214233015552,
          null
         ]
        },
        {
         "hoverinfo": "none",
         "line": {
          "color": "black",
          "width": 1
         },
         "mode": "lines",
         "text": [
          "Reddit Karma and Account Restrictions--: {}"
         ],
         "type": "scatter",
         "x": [
          0.41541507998538263,
          0.41541510978770496,
          null
         ],
         "y": [
          0.9096319731178034,
          -0.9096319570423723,
          null
         ]
        },
        {
         "hoverinfo": "none",
         "line": {
          "color": "black",
          "width": 1
         },
         "mode": "lines",
         "text": [
          "Reddit Karma and Account Restrictions--: {}"
         ],
         "type": "scatter",
         "x": [
          0.41541507998538263,
          0.841253459883675,
          null
         ],
         "y": [
          0.9096319731178034,
          -0.540640881095822,
          null
         ]
        },
        {
         "hoverinfo": "none",
         "line": {
          "color": "black",
          "width": 1
         },
         "mode": "lines",
         "text": [
          "Social Media Karma and Automated Account Moderation--: {}"
         ],
         "type": "scatter",
         "x": [
          0.14231486850891636,
          -0.654860670851413,
          null
         ],
         "y": [
          0.9898214393769864,
          0.75574964883913,
          null
         ]
        },
        {
         "hoverinfo": "none",
         "line": {
          "color": "black",
          "width": 1
         },
         "mode": "lines",
         "text": [
          "Social Media Karma and Automated Account Moderation--: {}"
         ],
         "type": "scatter",
         "x": [
          0.14231486850891636,
          -0.8412535140697156,
          null
         ],
         "y": [
          0.9898214393769864,
          0.540640777961964,
          null
         ]
        },
        {
         "hoverinfo": "none",
         "line": {
          "color": "black",
          "width": 1
         },
         "mode": "lines",
         "text": [
          "Social Media Karma and Automated Account Moderation--: {}"
         ],
         "type": "scatter",
         "x": [
          0.14231486850891636,
          -0.95949297612501,
          null
         ],
         "y": [
          0.9898214393769864,
          0.28173259628084085,
          null
         ]
        },
        {
         "hoverinfo": "none",
         "line": {
          "color": "black",
          "width": 1
         },
         "mode": "lines",
         "text": [
          "Social Media Karma and Automated Account Moderation--: {}"
         ],
         "type": "scatter",
         "x": [
          0.14231486850891636,
          -0.8412536332790048,
          null
         ],
         "y": [
          0.9898214393769864,
          -0.5406407022818882,
          null
         ]
        },
        {
         "hoverinfo": "none",
         "line": {
          "color": "black",
          "width": 1
         },
         "mode": "lines",
         "text": [
          "Social Media Karma and Automated Account Moderation--: {}"
         ],
         "type": "scatter",
         "x": [
          0.14231486850891636,
          -0.6548607304560576,
          null
         ],
         "y": [
          0.9898214393769864,
          -0.7557495731590542,
          null
         ]
        },
        {
         "hoverinfo": "none",
         "line": {
          "color": "black",
          "width": 1
         },
         "mode": "lines",
         "text": [
          "Social Media Karma and Automated Account Moderation--: {}"
         ],
         "type": "scatter",
         "x": [
          0.14231486850891636,
          -0.41541510436910084,
          null
         ],
         "y": [
          0.9898214393769864,
          -0.9096319570423723,
          null
         ]
        },
        {
         "hoverinfo": "none",
         "line": {
          "color": "black",
          "width": 1
         },
         "mode": "lines",
         "text": [
          "Social Media Karma and Automated Account Moderation--: {}"
         ],
         "type": "scatter",
         "x": [
          0.14231486850891636,
          -0.14231501210192382,
          null
         ],
         "y": [
          0.9898214393769864,
          -0.9898214233015552,
          null
         ]
        },
        {
         "hoverinfo": "none",
         "line": {
          "color": "black",
          "width": 1
         },
         "mode": "lines",
         "text": [
          "Social Media Karma and Automated Account Moderation--: {}"
         ],
         "type": "scatter",
         "x": [
          0.14231486850891636,
          0.1423150473228502,
          null
         ],
         "y": [
          0.9898214393769864,
          -0.9898214233015552,
          null
         ]
        },
        {
         "hoverinfo": "none",
         "line": {
          "color": "black",
          "width": 1
         },
         "mode": "lines",
         "text": [
          "Social Media Karma and Automated Account Moderation--: {}"
         ],
         "type": "scatter",
         "x": [
          0.14231486850891636,
          0.41541510978770496,
          null
         ],
         "y": [
          0.9898214393769864,
          -0.9096319570423723,
          null
         ]
        },
        {
         "hoverinfo": "none",
         "line": {
          "color": "black",
          "width": 1
         },
         "mode": "lines",
         "text": [
          "Social Media Karma and Automated Account Moderation--: {}"
         ],
         "type": "scatter",
         "x": [
          0.14231486850891636,
          0.841253459883675,
          null
         ],
         "y": [
          0.9898214393769864,
          -0.540640881095822,
          null
         ]
        },
        {
         "hoverinfo": "none",
         "line": {
          "color": "black",
          "width": 1
         },
         "mode": "lines",
         "text": [
          "Social Media Karma and Automated Account Moderation--: {}"
         ],
         "type": "scatter",
         "x": [
          0.14231486850891636,
          0.9594929219389694,
          null
         ],
         "y": [
          0.9898214393769864,
          -0.2817327292170212,
          null
         ]
        },
        {
         "hoverinfo": "none",
         "line": {
          "color": "black",
          "width": 1
         },
         "mode": "lines",
         "text": [
          "ChatGPT Use Cases and Discussions--: {}"
         ],
         "type": "scatter",
         "x": [
          -0.14231483328799,
          -0.654860670851413,
          null
         ],
         "y": [
          0.9898214393769864,
          0.75574964883913,
          null
         ]
        },
        {
         "hoverinfo": "none",
         "line": {
          "color": "black",
          "width": 1
         },
         "mode": "lines",
         "text": [
          "ChatGPT Use Cases and Discussions--: {}"
         ],
         "type": "scatter",
         "x": [
          -0.14231483328799,
          -0.8412535140697156,
          null
         ],
         "y": [
          0.9898214393769864,
          0.540640777961964,
          null
         ]
        },
        {
         "hoverinfo": "none",
         "line": {
          "color": "black",
          "width": 1
         },
         "mode": "lines",
         "text": [
          "ChatGPT Use Cases and Discussions--: {}"
         ],
         "type": "scatter",
         "x": [
          -0.14231483328799,
          -0.8412536332790048,
          null
         ],
         "y": [
          0.9898214393769864,
          -0.5406407022818882,
          null
         ]
        },
        {
         "hoverinfo": "none",
         "line": {
          "color": "black",
          "width": 1
         },
         "mode": "lines",
         "text": [
          "ChatGPT Use Cases and Discussions--: {}"
         ],
         "type": "scatter",
         "x": [
          -0.14231483328799,
          0.41541510978770496,
          null
         ],
         "y": [
          0.9898214393769864,
          -0.9096319570423723,
          null
         ]
        },
        {
         "hoverinfo": "none",
         "line": {
          "color": "black",
          "width": 1
         },
         "mode": "lines",
         "text": [
          "ChatGPT Use Cases and Discussions--: {}"
         ],
         "type": "scatter",
         "x": [
          -0.14231483328799,
          0.6548607358746616,
          null
         ],
         "y": [
          0.9898214393769864,
          -0.7557495731590542,
          null
         ]
        },
        {
         "hoverinfo": "none",
         "line": {
          "color": "black",
          "width": 1
         },
         "mode": "lines",
         "text": [
          "ChatGPT Use Cases and Discussions--: {}"
         ],
         "type": "scatter",
         "x": [
          -0.14231483328799,
          0.841253459883675,
          null
         ],
         "y": [
          0.9898214393769864,
          -0.540640881095822,
          null
         ]
        },
        {
         "hoverinfo": "none",
         "line": {
          "color": "black",
          "width": 1
         },
         "mode": "lines",
         "text": [
          "Obama and Trump References in AI Conversations--: {}"
         ],
         "type": "scatter",
         "x": [
          -0.41541501496213395,
          -0.654860670851413,
          null
         ],
         "y": [
          0.9096320327224481,
          0.75574964883913,
          null
         ]
        },
        {
         "hoverinfo": "none",
         "line": {
          "color": "black",
          "width": 1
         },
         "mode": "lines",
         "text": [
          "Obama and Trump References in AI Conversations--: {}"
         ],
         "type": "scatter",
         "x": [
          -0.41541501496213395,
          -0.95949297612501,
          null
         ],
         "y": [
          0.9096320327224481,
          0.28173259628084085,
          null
         ]
        },
        {
         "hoverinfo": "none",
         "line": {
          "color": "black",
          "width": 1
         },
         "mode": "lines",
         "text": [
          "AI Chatbot Interaction and Response automation--: {}"
         ],
         "type": "scatter",
         "x": [
          -0.654860670851413,
          -0.8412535140697156,
          null
         ],
         "y": [
          0.75574964883913,
          0.540640777961964,
          null
         ]
        },
        {
         "hoverinfo": "none",
         "line": {
          "color": "black",
          "width": 1
         },
         "mode": "lines",
         "text": [
          "AI Chatbot Interaction and Response automation--: {}"
         ],
         "type": "scatter",
         "x": [
          -0.654860670851413,
          -0.95949297612501,
          null
         ],
         "y": [
          0.75574964883913,
          0.28173259628084085,
          null
         ]
        },
        {
         "hoverinfo": "none",
         "line": {
          "color": "black",
          "width": 1
         },
         "mode": "lines",
         "text": [
          "AI Chatbot Interaction and Response automation--: {}"
         ],
         "type": "scatter",
         "x": [
          -0.654860670851413,
          -0.95949297612501,
          null
         ],
         "y": [
          0.75574964883913,
          -0.28173255040308737,
          null
         ]
        },
        {
         "hoverinfo": "none",
         "line": {
          "color": "black",
          "width": 1
         },
         "mode": "lines",
         "text": [
          "AI Chatbot Interaction and Response automation--: {}"
         ],
         "type": "scatter",
         "x": [
          -0.654860670851413,
          -0.8412536332790048,
          null
         ],
         "y": [
          0.75574964883913,
          -0.5406407022818882,
          null
         ]
        },
        {
         "hoverinfo": "none",
         "line": {
          "color": "black",
          "width": 1
         },
         "mode": "lines",
         "text": [
          "AI Chatbot Interaction and Response automation--: {}"
         ],
         "type": "scatter",
         "x": [
          -0.654860670851413,
          -0.41541510436910084,
          null
         ],
         "y": [
          0.75574964883913,
          -0.9096319570423723,
          null
         ]
        },
        {
         "hoverinfo": "none",
         "line": {
          "color": "black",
          "width": 1
         },
         "mode": "lines",
         "text": [
          "AI Chatbot Interaction and Response automation--: {}"
         ],
         "type": "scatter",
         "x": [
          -0.654860670851413,
          -0.14231501210192382,
          null
         ],
         "y": [
          0.75574964883913,
          -0.9898214233015552,
          null
         ]
        },
        {
         "hoverinfo": "none",
         "line": {
          "color": "black",
          "width": 1
         },
         "mode": "lines",
         "text": [
          "AI Chatbot Interaction and Response automation--: {}"
         ],
         "type": "scatter",
         "x": [
          -0.654860670851413,
          0.1423150473228502,
          null
         ],
         "y": [
          0.75574964883913,
          -0.9898214233015552,
          null
         ]
        },
        {
         "hoverinfo": "none",
         "line": {
          "color": "black",
          "width": 1
         },
         "mode": "lines",
         "text": [
          "AI Chatbot Interaction and Response automation--: {}"
         ],
         "type": "scatter",
         "x": [
          -0.654860670851413,
          0.41541510978770496,
          null
         ],
         "y": [
          0.75574964883913,
          -0.9096319570423723,
          null
         ]
        },
        {
         "hoverinfo": "none",
         "line": {
          "color": "black",
          "width": 1
         },
         "mode": "lines",
         "text": [
          "AI Chatbot Interaction and Response automation--: {}"
         ],
         "type": "scatter",
         "x": [
          -0.654860670851413,
          0.6548607358746616,
          null
         ],
         "y": [
          0.75574964883913,
          -0.7557495731590542,
          null
         ]
        },
        {
         "hoverinfo": "none",
         "line": {
          "color": "black",
          "width": 1
         },
         "mode": "lines",
         "text": [
          "AI Chatbot Interaction and Response automation--: {}"
         ],
         "type": "scatter",
         "x": [
          -0.654860670851413,
          0.841253459883675,
          null
         ],
         "y": [
          0.75574964883913,
          -0.540640881095822,
          null
         ]
        },
        {
         "hoverinfo": "none",
         "line": {
          "color": "black",
          "width": 1
         },
         "mode": "lines",
         "text": [
          "AI Chatbot Interaction and Response automation--: {}"
         ],
         "type": "scatter",
         "x": [
          -0.654860670851413,
          0.9594929219389694,
          null
         ],
         "y": [
          0.75574964883913,
          -0.2817327292170212,
          null
         ]
        },
        {
         "hoverinfo": "none",
         "line": {
          "color": "black",
          "width": 1
         },
         "mode": "lines",
         "text": [
          "Social Media Automated Responses and Bots Interaction--: {}"
         ],
         "type": "scatter",
         "x": [
          -0.8412535140697156,
          -0.95949297612501,
          null
         ],
         "y": [
          0.540640777961964,
          0.28173259628084085,
          null
         ]
        },
        {
         "hoverinfo": "none",
         "line": {
          "color": "black",
          "width": 1
         },
         "mode": "lines",
         "text": [
          "Social Media Automated Responses and Bots Interaction--: {}"
         ],
         "type": "scatter",
         "x": [
          -0.8412535140697156,
          -0.95949297612501,
          null
         ],
         "y": [
          0.540640777961964,
          -0.28173255040308737,
          null
         ]
        },
        {
         "hoverinfo": "none",
         "line": {
          "color": "black",
          "width": 1
         },
         "mode": "lines",
         "text": [
          "Social Media Automated Responses and Bots Interaction--: {}"
         ],
         "type": "scatter",
         "x": [
          -0.8412535140697156,
          -0.8412536332790048,
          null
         ],
         "y": [
          0.540640777961964,
          -0.5406407022818882,
          null
         ]
        },
        {
         "hoverinfo": "none",
         "line": {
          "color": "black",
          "width": 1
         },
         "mode": "lines",
         "text": [
          "Social Media Automated Responses and Bots Interaction--: {}"
         ],
         "type": "scatter",
         "x": [
          -0.8412535140697156,
          -0.6548607304560576,
          null
         ],
         "y": [
          0.540640777961964,
          -0.7557495731590542,
          null
         ]
        },
        {
         "hoverinfo": "none",
         "line": {
          "color": "black",
          "width": 1
         },
         "mode": "lines",
         "text": [
          "Social Media Automated Responses and Bots Interaction--: {}"
         ],
         "type": "scatter",
         "x": [
          -0.8412535140697156,
          -0.41541510436910084,
          null
         ],
         "y": [
          0.540640777961964,
          -0.9096319570423723,
          null
         ]
        },
        {
         "hoverinfo": "none",
         "line": {
          "color": "black",
          "width": 1
         },
         "mode": "lines",
         "text": [
          "Social Media Automated Responses and Bots Interaction--: {}"
         ],
         "type": "scatter",
         "x": [
          -0.8412535140697156,
          -0.14231501210192382,
          null
         ],
         "y": [
          0.540640777961964,
          -0.9898214233015552,
          null
         ]
        },
        {
         "hoverinfo": "none",
         "line": {
          "color": "black",
          "width": 1
         },
         "mode": "lines",
         "text": [
          "Social Media Automated Responses and Bots Interaction--: {}"
         ],
         "type": "scatter",
         "x": [
          -0.8412535140697156,
          0.1423150473228502,
          null
         ],
         "y": [
          0.540640777961964,
          -0.9898214233015552,
          null
         ]
        },
        {
         "hoverinfo": "none",
         "line": {
          "color": "black",
          "width": 1
         },
         "mode": "lines",
         "text": [
          "Social Media Automated Responses and Bots Interaction--: {}"
         ],
         "type": "scatter",
         "x": [
          -0.8412535140697156,
          0.41541510978770496,
          null
         ],
         "y": [
          0.540640777961964,
          -0.9096319570423723,
          null
         ]
        },
        {
         "hoverinfo": "none",
         "line": {
          "color": "black",
          "width": 1
         },
         "mode": "lines",
         "text": [
          "Social Media Automated Responses and Bots Interaction--: {}"
         ],
         "type": "scatter",
         "x": [
          -0.8412535140697156,
          0.6548607358746616,
          null
         ],
         "y": [
          0.540640777961964,
          -0.7557495731590542,
          null
         ]
        },
        {
         "hoverinfo": "none",
         "line": {
          "color": "black",
          "width": 1
         },
         "mode": "lines",
         "text": [
          "Social Media Automated Responses and Bots Interaction--: {}"
         ],
         "type": "scatter",
         "x": [
          -0.8412535140697156,
          0.841253459883675,
          null
         ],
         "y": [
          0.540640777961964,
          -0.540640881095822,
          null
         ]
        },
        {
         "hoverinfo": "none",
         "line": {
          "color": "black",
          "width": 1
         },
         "mode": "lines",
         "text": [
          "Social Media Automated Responses and Bots Interaction--: {}"
         ],
         "type": "scatter",
         "x": [
          -0.8412535140697156,
          0.9594929219389694,
          null
         ],
         "y": [
          0.540640777961964,
          -0.2817327292170212,
          null
         ]
        },
        {
         "hoverinfo": "none",
         "line": {
          "color": "black",
          "width": 1
         },
         "mode": "lines",
         "text": [
          "AI Bots Managing Online Interactions in Chat Platforms--: {}"
         ],
         "type": "scatter",
         "x": [
          -0.95949297612501,
          -0.95949297612501,
          null
         ],
         "y": [
          0.28173259628084085,
          -0.28173255040308737,
          null
         ]
        },
        {
         "hoverinfo": "none",
         "line": {
          "color": "black",
          "width": 1
         },
         "mode": "lines",
         "text": [
          "AI Bots Managing Online Interactions in Chat Platforms--: {}"
         ],
         "type": "scatter",
         "x": [
          -0.95949297612501,
          -0.8412536332790048,
          null
         ],
         "y": [
          0.28173259628084085,
          -0.5406407022818882,
          null
         ]
        },
        {
         "hoverinfo": "none",
         "line": {
          "color": "black",
          "width": 1
         },
         "mode": "lines",
         "text": [
          "AI Bots Managing Online Interactions in Chat Platforms--: {}"
         ],
         "type": "scatter",
         "x": [
          -0.95949297612501,
          -0.6548607304560576,
          null
         ],
         "y": [
          0.28173259628084085,
          -0.7557495731590542,
          null
         ]
        },
        {
         "hoverinfo": "none",
         "line": {
          "color": "black",
          "width": 1
         },
         "mode": "lines",
         "text": [
          "AI Bots Managing Online Interactions in Chat Platforms--: {}"
         ],
         "type": "scatter",
         "x": [
          -0.95949297612501,
          -0.41541510436910084,
          null
         ],
         "y": [
          0.28173259628084085,
          -0.9096319570423723,
          null
         ]
        },
        {
         "hoverinfo": "none",
         "line": {
          "color": "black",
          "width": 1
         },
         "mode": "lines",
         "text": [
          "AI Bots Managing Online Interactions in Chat Platforms--: {}"
         ],
         "type": "scatter",
         "x": [
          -0.95949297612501,
          -0.14231501210192382,
          null
         ],
         "y": [
          0.28173259628084085,
          -0.9898214233015552,
          null
         ]
        },
        {
         "hoverinfo": "none",
         "line": {
          "color": "black",
          "width": 1
         },
         "mode": "lines",
         "text": [
          "AI Bots Managing Online Interactions in Chat Platforms--: {}"
         ],
         "type": "scatter",
         "x": [
          -0.95949297612501,
          0.1423150473228502,
          null
         ],
         "y": [
          0.28173259628084085,
          -0.9898214233015552,
          null
         ]
        },
        {
         "hoverinfo": "none",
         "line": {
          "color": "black",
          "width": 1
         },
         "mode": "lines",
         "text": [
          "AI Bots Managing Online Interactions in Chat Platforms--: {}"
         ],
         "type": "scatter",
         "x": [
          -0.95949297612501,
          0.41541510978770496,
          null
         ],
         "y": [
          0.28173259628084085,
          -0.9096319570423723,
          null
         ]
        },
        {
         "hoverinfo": "none",
         "line": {
          "color": "black",
          "width": 1
         },
         "mode": "lines",
         "text": [
          "AI Bots Managing Online Interactions in Chat Platforms--: {}"
         ],
         "type": "scatter",
         "x": [
          -0.95949297612501,
          0.6548607358746616,
          null
         ],
         "y": [
          0.28173259628084085,
          -0.7557495731590542,
          null
         ]
        },
        {
         "hoverinfo": "none",
         "line": {
          "color": "black",
          "width": 1
         },
         "mode": "lines",
         "text": [
          "AI Bots Managing Online Interactions in Chat Platforms--: {}"
         ],
         "type": "scatter",
         "x": [
          -0.95949297612501,
          0.841253459883675,
          null
         ],
         "y": [
          0.28173259628084085,
          -0.540640881095822,
          null
         ]
        },
        {
         "hoverinfo": "none",
         "line": {
          "color": "black",
          "width": 1
         },
         "mode": "lines",
         "text": [
          "AI Bots Managing Online Interactions in Chat Platforms--: {}"
         ],
         "type": "scatter",
         "x": [
          -0.95949297612501,
          0.9594929219389694,
          null
         ],
         "y": [
          0.28173259628084085,
          -0.2817327292170212,
          null
         ]
        },
        {
         "hoverinfo": "none",
         "line": {
          "color": "black",
          "width": 1
         },
         "mode": "lines",
         "text": [
          "NFT Collecting and Discord Community Interaction--: {}"
         ],
         "type": "scatter",
         "x": [
          -0.9999999945813959,
          -0.41541510436910084,
          null
         ],
         "y": [
          -7.938506073400856e-8,
          -0.9096319570423723,
          null
         ]
        },
        {
         "hoverinfo": "none",
         "line": {
          "color": "black",
          "width": 1
         },
         "mode": "lines",
         "text": [
          "NFT Collecting and Discord Community Interaction--: {}"
         ],
         "type": "scatter",
         "x": [
          -0.9999999945813959,
          0.41541510978770496,
          null
         ],
         "y": [
          -7.938506073400856e-8,
          -0.9096319570423723,
          null
         ]
        },
        {
         "hoverinfo": "none",
         "line": {
          "color": "black",
          "width": 1
         },
         "mode": "lines",
         "text": [
          "Bing's AI Chatbot and User Interaction--: {}"
         ],
         "type": "scatter",
         "x": [
          -0.95949297612501,
          -0.8412536332790048,
          null
         ],
         "y": [
          -0.28173255040308737,
          -0.5406407022818882,
          null
         ]
        },
        {
         "hoverinfo": "none",
         "line": {
          "color": "black",
          "width": 1
         },
         "mode": "lines",
         "text": [
          "Bing's AI Chatbot and User Interaction--: {}"
         ],
         "type": "scatter",
         "x": [
          -0.95949297612501,
          0.841253459883675,
          null
         ],
         "y": [
          -0.28173255040308737,
          -0.540640881095822,
          null
         ]
        },
        {
         "hoverinfo": "none",
         "line": {
          "color": "black",
          "width": 1
         },
         "mode": "lines",
         "text": [
          "Discord Server Chatbot Interaction and User Requests--: {}"
         ],
         "type": "scatter",
         "x": [
          -0.8412536332790048,
          -0.6548607304560576,
          null
         ],
         "y": [
          -0.5406407022818882,
          -0.7557495731590542,
          null
         ]
        },
        {
         "hoverinfo": "none",
         "line": {
          "color": "black",
          "width": 1
         },
         "mode": "lines",
         "text": [
          "Discord Server Chatbot Interaction and User Requests--: {}"
         ],
         "type": "scatter",
         "x": [
          -0.8412536332790048,
          -0.41541510436910084,
          null
         ],
         "y": [
          -0.5406407022818882,
          -0.9096319570423723,
          null
         ]
        },
        {
         "hoverinfo": "none",
         "line": {
          "color": "black",
          "width": 1
         },
         "mode": "lines",
         "text": [
          "Discord Server Chatbot Interaction and User Requests--: {}"
         ],
         "type": "scatter",
         "x": [
          -0.8412536332790048,
          -0.14231501210192382,
          null
         ],
         "y": [
          -0.5406407022818882,
          -0.9898214233015552,
          null
         ]
        },
        {
         "hoverinfo": "none",
         "line": {
          "color": "black",
          "width": 1
         },
         "mode": "lines",
         "text": [
          "Discord Server Chatbot Interaction and User Requests--: {}"
         ],
         "type": "scatter",
         "x": [
          -0.8412536332790048,
          0.1423150473228502,
          null
         ],
         "y": [
          -0.5406407022818882,
          -0.9898214233015552,
          null
         ]
        },
        {
         "hoverinfo": "none",
         "line": {
          "color": "black",
          "width": 1
         },
         "mode": "lines",
         "text": [
          "Discord Server Chatbot Interaction and User Requests--: {}"
         ],
         "type": "scatter",
         "x": [
          -0.8412536332790048,
          0.41541510978770496,
          null
         ],
         "y": [
          -0.5406407022818882,
          -0.9096319570423723,
          null
         ]
        },
        {
         "hoverinfo": "none",
         "line": {
          "color": "black",
          "width": 1
         },
         "mode": "lines",
         "text": [
          "Discord Server Chatbot Interaction and User Requests--: {}"
         ],
         "type": "scatter",
         "x": [
          -0.8412536332790048,
          0.6548607358746616,
          null
         ],
         "y": [
          -0.5406407022818882,
          -0.7557495731590542,
          null
         ]
        },
        {
         "hoverinfo": "none",
         "line": {
          "color": "black",
          "width": 1
         },
         "mode": "lines",
         "text": [
          "Discord Server Chatbot Interaction and User Requests--: {}"
         ],
         "type": "scatter",
         "x": [
          -0.8412536332790048,
          0.841253459883675,
          null
         ],
         "y": [
          -0.5406407022818882,
          -0.540640881095822,
          null
         ]
        },
        {
         "hoverinfo": "none",
         "line": {
          "color": "black",
          "width": 1
         },
         "mode": "lines",
         "text": [
          "Discord Server Chatbot Interaction and User Requests--: {}"
         ],
         "type": "scatter",
         "x": [
          -0.8412536332790048,
          0.9594929219389694,
          null
         ],
         "y": [
          -0.5406407022818882,
          -0.2817327292170212,
          null
         ]
        },
        {
         "hoverinfo": "none",
         "line": {
          "color": "black",
          "width": 1
         },
         "mode": "lines",
         "text": [
          "Spam Threshold Management in Online Communities--: {}"
         ],
         "type": "scatter",
         "x": [
          -0.6548607304560576,
          -0.41541510436910084,
          null
         ],
         "y": [
          -0.7557495731590542,
          -0.9096319570423723,
          null
         ]
        },
        {
         "hoverinfo": "none",
         "line": {
          "color": "black",
          "width": 1
         },
         "mode": "lines",
         "text": [
          "Spam Threshold Management in Online Communities--: {}"
         ],
         "type": "scatter",
         "x": [
          -0.6548607304560576,
          -0.14231501210192382,
          null
         ],
         "y": [
          -0.7557495731590542,
          -0.9898214233015552,
          null
         ]
        },
        {
         "hoverinfo": "none",
         "line": {
          "color": "black",
          "width": 1
         },
         "mode": "lines",
         "text": [
          "Spam Threshold Management in Online Communities--: {}"
         ],
         "type": "scatter",
         "x": [
          -0.6548607304560576,
          0.1423150473228502,
          null
         ],
         "y": [
          -0.7557495731590542,
          -0.9898214233015552,
          null
         ]
        },
        {
         "hoverinfo": "none",
         "line": {
          "color": "black",
          "width": 1
         },
         "mode": "lines",
         "text": [
          "Spam Threshold Management in Online Communities--: {}"
         ],
         "type": "scatter",
         "x": [
          -0.6548607304560576,
          0.41541510978770496,
          null
         ],
         "y": [
          -0.7557495731590542,
          -0.9096319570423723,
          null
         ]
        },
        {
         "hoverinfo": "none",
         "line": {
          "color": "black",
          "width": 1
         },
         "mode": "lines",
         "text": [
          "Discord Moderation Bot Commands and User Interaction--: {}"
         ],
         "type": "scatter",
         "x": [
          -0.41541510436910084,
          -0.14231501210192382,
          null
         ],
         "y": [
          -0.9096319570423723,
          -0.9898214233015552,
          null
         ]
        },
        {
         "hoverinfo": "none",
         "line": {
          "color": "black",
          "width": 1
         },
         "mode": "lines",
         "text": [
          "Discord Moderation Bot Commands and User Interaction--: {}"
         ],
         "type": "scatter",
         "x": [
          -0.41541510436910084,
          0.1423150473228502,
          null
         ],
         "y": [
          -0.9096319570423723,
          -0.9898214233015552,
          null
         ]
        },
        {
         "hoverinfo": "none",
         "line": {
          "color": "black",
          "width": 1
         },
         "mode": "lines",
         "text": [
          "Discord Moderation Bot Commands and User Interaction--: {}"
         ],
         "type": "scatter",
         "x": [
          -0.41541510436910084,
          0.41541510978770496,
          null
         ],
         "y": [
          -0.9096319570423723,
          -0.9096319570423723,
          null
         ]
        },
        {
         "hoverinfo": "none",
         "line": {
          "color": "black",
          "width": 1
         },
         "mode": "lines",
         "text": [
          "Discord Moderation Bot Commands and User Interaction--: {}"
         ],
         "type": "scatter",
         "x": [
          -0.41541510436910084,
          0.6548607358746616,
          null
         ],
         "y": [
          -0.9096319570423723,
          -0.7557495731590542,
          null
         ]
        },
        {
         "hoverinfo": "none",
         "line": {
          "color": "black",
          "width": 1
         },
         "mode": "lines",
         "text": [
          "Discord Moderation Bot Commands and User Interaction--: {}"
         ],
         "type": "scatter",
         "x": [
          -0.41541510436910084,
          0.841253459883675,
          null
         ],
         "y": [
          -0.9096319570423723,
          -0.540640881095822,
          null
         ]
        },
        {
         "hoverinfo": "none",
         "line": {
          "color": "black",
          "width": 1
         },
         "mode": "lines",
         "text": [
          "Discord Moderation Bot Commands and User Interaction--: {}"
         ],
         "type": "scatter",
         "x": [
          -0.41541510436910084,
          0.9594929219389694,
          null
         ],
         "y": [
          -0.9096319570423723,
          -0.2817327292170212,
          null
         ]
        },
        {
         "hoverinfo": "none",
         "line": {
          "color": "black",
          "width": 1
         },
         "mode": "lines",
         "text": [
          "Bot Moderation in Online Comment Sections--: {}"
         ],
         "type": "scatter",
         "x": [
          -0.14231501210192382,
          0.1423150473228502,
          null
         ],
         "y": [
          -0.9898214233015552,
          -0.9898214233015552,
          null
         ]
        },
        {
         "hoverinfo": "none",
         "line": {
          "color": "black",
          "width": 1
         },
         "mode": "lines",
         "text": [
          "Bot Moderation in Online Comment Sections--: {}"
         ],
         "type": "scatter",
         "x": [
          -0.14231501210192382,
          0.41541510978770496,
          null
         ],
         "y": [
          -0.9898214233015552,
          -0.9096319570423723,
          null
         ]
        },
        {
         "hoverinfo": "none",
         "line": {
          "color": "black",
          "width": 1
         },
         "mode": "lines",
         "text": [
          "Bot Moderation in Online Comment Sections--: {}"
         ],
         "type": "scatter",
         "x": [
          -0.14231501210192382,
          0.841253459883675,
          null
         ],
         "y": [
          -0.9898214233015552,
          -0.540640881095822,
          null
         ]
        },
        {
         "hoverinfo": "none",
         "line": {
          "color": "black",
          "width": 1
         },
         "mode": "lines",
         "text": [
          "Spam Prevention and Account Karma Management--: {}"
         ],
         "type": "scatter",
         "x": [
          0.1423150473228502,
          0.41541510978770496,
          null
         ],
         "y": [
          -0.9898214233015552,
          -0.9096319570423723,
          null
         ]
        },
        {
         "hoverinfo": "none",
         "line": {
          "color": "black",
          "width": 1
         },
         "mode": "lines",
         "text": [
          "Spam Prevention and Account Karma Management--: {}"
         ],
         "type": "scatter",
         "x": [
          0.1423150473228502,
          0.6548607358746616,
          null
         ],
         "y": [
          -0.9898214233015552,
          -0.7557495731590542,
          null
         ]
        },
        {
         "hoverinfo": "none",
         "line": {
          "color": "black",
          "width": 1
         },
         "mode": "lines",
         "text": [
          "Spam Prevention and Account Karma Management--: {}"
         ],
         "type": "scatter",
         "x": [
          0.1423150473228502,
          0.841253459883675,
          null
         ],
         "y": [
          -0.9898214233015552,
          -0.540640881095822,
          null
         ]
        },
        {
         "hoverinfo": "none",
         "line": {
          "color": "black",
          "width": 1
         },
         "mode": "lines",
         "text": [
          "Spam Prevention and Account Karma Management--: {}"
         ],
         "type": "scatter",
         "x": [
          0.1423150473228502,
          0.9594929219389694,
          null
         ],
         "y": [
          -0.9898214233015552,
          -0.2817327292170212,
          null
         ]
        },
        {
         "hoverinfo": "none",
         "line": {
          "color": "black",
          "width": 1
         },
         "mode": "lines",
         "text": [
          "Discord Server Moderation and ChatGPT Interaction--: {}"
         ],
         "type": "scatter",
         "x": [
          0.41541510978770496,
          0.6548607358746616,
          null
         ],
         "y": [
          -0.9096319570423723,
          -0.7557495731590542,
          null
         ]
        },
        {
         "hoverinfo": "none",
         "line": {
          "color": "black",
          "width": 1
         },
         "mode": "lines",
         "text": [
          "Discord Server Moderation and ChatGPT Interaction--: {}"
         ],
         "type": "scatter",
         "x": [
          0.41541510978770496,
          0.841253459883675,
          null
         ],
         "y": [
          -0.9096319570423723,
          -0.540640881095822,
          null
         ]
        },
        {
         "hoverinfo": "none",
         "line": {
          "color": "black",
          "width": 1
         },
         "mode": "lines",
         "text": [
          "Discord Server Moderation and ChatGPT Interaction--: {}"
         ],
         "type": "scatter",
         "x": [
          0.41541510978770496,
          0.9594929219389694,
          null
         ],
         "y": [
          -0.9096319570423723,
          -0.2817327292170212,
          null
         ]
        },
        {
         "hoverinfo": "none",
         "line": {
          "color": "black",
          "width": 1
         },
         "mode": "lines",
         "text": [
          "Squirt: Addressing Spam and Hookup Content on Online Platforms--: {}"
         ],
         "type": "scatter",
         "x": [
          0.6548607358746616,
          0.841253459883675,
          null
         ],
         "y": [
          -0.7557495731590542,
          -0.540640881095822,
          null
         ]
        },
        {
         "hoverinfo": "none",
         "line": {
          "color": "black",
          "width": 1
         },
         "mode": "lines",
         "text": [
          "Discord GPT Bot Moderation and User Interaction--: {}"
         ],
         "type": "scatter",
         "x": [
          0.841253459883675,
          0.9594929219389694,
          null
         ],
         "y": [
          -0.540640881095822,
          -0.2817327292170212,
          null
         ]
        },
        {
         "hoverinfo": "text",
         "marker": {
          "color": [
           "cornflowerblue",
           "cornflowerblue",
           "cornflowerblue",
           "cornflowerblue",
           "cornflowerblue",
           "cornflowerblue",
           "cornflowerblue",
           "cornflowerblue",
           "cornflowerblue",
           "cornflowerblue",
           "cornflowerblue",
           "cornflowerblue",
           "cornflowerblue",
           "cornflowerblue",
           "cornflowerblue",
           "cornflowerblue",
           "cornflowerblue",
           "cornflowerblue",
           "cornflowerblue",
           "cornflowerblue",
           "cornflowerblue",
           "cornflowerblue"
          ],
          "size": [
           49.660112075956036,
           55.430987647226665,
           53.00495378463677,
           64.3767291686833,
           43.98291837678558,
           44.8232635794094,
           38.88594377821237,
           41.14737350022477,
           52.142007229499576,
           51.25376530064006,
           50.594923085521714,
           29.38404083965317,
           52.10122428905993,
           52.420087516176906,
           41.3246826768429,
           45.137569665486325,
           50.18910610953728,
           32.90950202733614,
           48.40884402398434,
           32.801153041150215,
           46.22872622489906,
           39.28976069473122
          ]
         },
         "mode": "markers+text",
         "text": [
          "<b>AI Chatbot Interaction and Assistance on Cloud Platforms</b>",
          "<b>Chatbot Interaction and Usage on Discord</b>",
          "<b>Dan Discussing ChatGPT Jailbreaking Ethics</b>",
          "<b>AI and ChatGPT in Everyday Life</b>",
          "<b>Reddit Karma and Account Restrictions</b>",
          "<b>Social Media Karma and Automated Account Moderation</b>",
          "<b>ChatGPT Use Cases and Discussions</b>",
          "<b>Obama and Trump References in AI Conversations</b>",
          "<b>AI Chatbot Interaction and Response automation</b>",
          "<b>Social Media Automated Responses and Bots Interaction</b>",
          "<b>AI Bots Managing Online Interactions in Chat Platforms</b>",
          "<b>NFT Collecting and Discord Community Interaction</b>",
          "<b>Bing's AI Chatbot and User Interaction</b>",
          "<b>Discord Server Chatbot Interaction and User Requests</b>",
          "<b>Spam Threshold Management in Online Communities</b>",
          "<b>Discord Moderation Bot Commands and User Interaction</b>",
          "<b>Bot Moderation in Online Comment Sections</b>",
          "<b>Spam Prevention and Account Karma Management</b>",
          "<b>Discord Server Moderation and ChatGPT Interaction</b>",
          "<b>Squirt: Addressing Spam and Hookup Content on Online Platforms</b>",
          "<b>Discord GPT Bot Moderation and User Interaction</b>",
          "<b>Managing Discord Server Interactions with GPT-powered Bots</b>"
         ],
         "textfont": {
          "size": 8
         },
         "textposition": "top right",
         "type": "scatter",
         "x": [
          1,
          0.9594929815436141,
          0.8412535194883196,
          0.6548607358746616,
          0.41541507998538263,
          0.14231486850891636,
          -0.14231483328799,
          -0.41541501496213395,
          -0.654860670851413,
          -0.8412535140697156,
          -0.95949297612501,
          -0.9999999945813959,
          -0.95949297612501,
          -0.8412536332790048,
          -0.6548607304560576,
          -0.41541510436910084,
          -0.14231501210192382,
          0.1423150473228502,
          0.41541510978770496,
          0.6548607358746616,
          0.841253459883675,
          0.9594929219389694
         ],
         "y": [
          8.037715602612573e-9,
          0.2817325664785185,
          0.540640777961964,
          0.7557495892344853,
          0.9096319731178034,
          0.9898214393769864,
          0.9898214393769864,
          0.9096320327224481,
          0.75574964883913,
          0.540640777961964,
          0.28173259628084085,
          -7.938506073400856e-8,
          -0.28173255040308737,
          -0.5406407022818882,
          -0.7557495731590542,
          -0.9096319570423723,
          -0.9898214233015552,
          -0.9898214233015552,
          -0.9096319570423723,
          -0.7557495731590542,
          -0.540640881095822,
          -0.2817327292170212
         ]
        }
       ],
       "layout": {
        "height": 1000,
        "paper_bgcolor": "lavender",
        "plot_bgcolor": "lightgray",
        "showlegend": false,
        "template": {
         "data": {
          "bar": [
           {
            "error_x": {
             "color": "#2a3f5f"
            },
            "error_y": {
             "color": "#2a3f5f"
            },
            "marker": {
             "line": {
              "color": "#E5ECF6",
              "width": 0.5
             },
             "pattern": {
              "fillmode": "overlay",
              "size": 10,
              "solidity": 0.2
             }
            },
            "type": "bar"
           }
          ],
          "barpolar": [
           {
            "marker": {
             "line": {
              "color": "#E5ECF6",
              "width": 0.5
             },
             "pattern": {
              "fillmode": "overlay",
              "size": 10,
              "solidity": 0.2
             }
            },
            "type": "barpolar"
           }
          ],
          "carpet": [
           {
            "aaxis": {
             "endlinecolor": "#2a3f5f",
             "gridcolor": "white",
             "linecolor": "white",
             "minorgridcolor": "white",
             "startlinecolor": "#2a3f5f"
            },
            "baxis": {
             "endlinecolor": "#2a3f5f",
             "gridcolor": "white",
             "linecolor": "white",
             "minorgridcolor": "white",
             "startlinecolor": "#2a3f5f"
            },
            "type": "carpet"
           }
          ],
          "choropleth": [
           {
            "colorbar": {
             "outlinewidth": 0,
             "ticks": ""
            },
            "type": "choropleth"
           }
          ],
          "contour": [
           {
            "colorbar": {
             "outlinewidth": 0,
             "ticks": ""
            },
            "colorscale": [
             [
              0,
              "#0d0887"
             ],
             [
              0.1111111111111111,
              "#46039f"
             ],
             [
              0.2222222222222222,
              "#7201a8"
             ],
             [
              0.3333333333333333,
              "#9c179e"
             ],
             [
              0.4444444444444444,
              "#bd3786"
             ],
             [
              0.5555555555555556,
              "#d8576b"
             ],
             [
              0.6666666666666666,
              "#ed7953"
             ],
             [
              0.7777777777777778,
              "#fb9f3a"
             ],
             [
              0.8888888888888888,
              "#fdca26"
             ],
             [
              1,
              "#f0f921"
             ]
            ],
            "type": "contour"
           }
          ],
          "contourcarpet": [
           {
            "colorbar": {
             "outlinewidth": 0,
             "ticks": ""
            },
            "type": "contourcarpet"
           }
          ],
          "heatmap": [
           {
            "colorbar": {
             "outlinewidth": 0,
             "ticks": ""
            },
            "colorscale": [
             [
              0,
              "#0d0887"
             ],
             [
              0.1111111111111111,
              "#46039f"
             ],
             [
              0.2222222222222222,
              "#7201a8"
             ],
             [
              0.3333333333333333,
              "#9c179e"
             ],
             [
              0.4444444444444444,
              "#bd3786"
             ],
             [
              0.5555555555555556,
              "#d8576b"
             ],
             [
              0.6666666666666666,
              "#ed7953"
             ],
             [
              0.7777777777777778,
              "#fb9f3a"
             ],
             [
              0.8888888888888888,
              "#fdca26"
             ],
             [
              1,
              "#f0f921"
             ]
            ],
            "type": "heatmap"
           }
          ],
          "heatmapgl": [
           {
            "colorbar": {
             "outlinewidth": 0,
             "ticks": ""
            },
            "colorscale": [
             [
              0,
              "#0d0887"
             ],
             [
              0.1111111111111111,
              "#46039f"
             ],
             [
              0.2222222222222222,
              "#7201a8"
             ],
             [
              0.3333333333333333,
              "#9c179e"
             ],
             [
              0.4444444444444444,
              "#bd3786"
             ],
             [
              0.5555555555555556,
              "#d8576b"
             ],
             [
              0.6666666666666666,
              "#ed7953"
             ],
             [
              0.7777777777777778,
              "#fb9f3a"
             ],
             [
              0.8888888888888888,
              "#fdca26"
             ],
             [
              1,
              "#f0f921"
             ]
            ],
            "type": "heatmapgl"
           }
          ],
          "histogram": [
           {
            "marker": {
             "pattern": {
              "fillmode": "overlay",
              "size": 10,
              "solidity": 0.2
             }
            },
            "type": "histogram"
           }
          ],
          "histogram2d": [
           {
            "colorbar": {
             "outlinewidth": 0,
             "ticks": ""
            },
            "colorscale": [
             [
              0,
              "#0d0887"
             ],
             [
              0.1111111111111111,
              "#46039f"
             ],
             [
              0.2222222222222222,
              "#7201a8"
             ],
             [
              0.3333333333333333,
              "#9c179e"
             ],
             [
              0.4444444444444444,
              "#bd3786"
             ],
             [
              0.5555555555555556,
              "#d8576b"
             ],
             [
              0.6666666666666666,
              "#ed7953"
             ],
             [
              0.7777777777777778,
              "#fb9f3a"
             ],
             [
              0.8888888888888888,
              "#fdca26"
             ],
             [
              1,
              "#f0f921"
             ]
            ],
            "type": "histogram2d"
           }
          ],
          "histogram2dcontour": [
           {
            "colorbar": {
             "outlinewidth": 0,
             "ticks": ""
            },
            "colorscale": [
             [
              0,
              "#0d0887"
             ],
             [
              0.1111111111111111,
              "#46039f"
             ],
             [
              0.2222222222222222,
              "#7201a8"
             ],
             [
              0.3333333333333333,
              "#9c179e"
             ],
             [
              0.4444444444444444,
              "#bd3786"
             ],
             [
              0.5555555555555556,
              "#d8576b"
             ],
             [
              0.6666666666666666,
              "#ed7953"
             ],
             [
              0.7777777777777778,
              "#fb9f3a"
             ],
             [
              0.8888888888888888,
              "#fdca26"
             ],
             [
              1,
              "#f0f921"
             ]
            ],
            "type": "histogram2dcontour"
           }
          ],
          "mesh3d": [
           {
            "colorbar": {
             "outlinewidth": 0,
             "ticks": ""
            },
            "type": "mesh3d"
           }
          ],
          "parcoords": [
           {
            "line": {
             "colorbar": {
              "outlinewidth": 0,
              "ticks": ""
             }
            },
            "type": "parcoords"
           }
          ],
          "pie": [
           {
            "automargin": true,
            "type": "pie"
           }
          ],
          "scatter": [
           {
            "fillpattern": {
             "fillmode": "overlay",
             "size": 10,
             "solidity": 0.2
            },
            "type": "scatter"
           }
          ],
          "scatter3d": [
           {
            "line": {
             "colorbar": {
              "outlinewidth": 0,
              "ticks": ""
             }
            },
            "marker": {
             "colorbar": {
              "outlinewidth": 0,
              "ticks": ""
             }
            },
            "type": "scatter3d"
           }
          ],
          "scattercarpet": [
           {
            "marker": {
             "colorbar": {
              "outlinewidth": 0,
              "ticks": ""
             }
            },
            "type": "scattercarpet"
           }
          ],
          "scattergeo": [
           {
            "marker": {
             "colorbar": {
              "outlinewidth": 0,
              "ticks": ""
             }
            },
            "type": "scattergeo"
           }
          ],
          "scattergl": [
           {
            "marker": {
             "colorbar": {
              "outlinewidth": 0,
              "ticks": ""
             }
            },
            "type": "scattergl"
           }
          ],
          "scattermapbox": [
           {
            "marker": {
             "colorbar": {
              "outlinewidth": 0,
              "ticks": ""
             }
            },
            "type": "scattermapbox"
           }
          ],
          "scatterpolar": [
           {
            "marker": {
             "colorbar": {
              "outlinewidth": 0,
              "ticks": ""
             }
            },
            "type": "scatterpolar"
           }
          ],
          "scatterpolargl": [
           {
            "marker": {
             "colorbar": {
              "outlinewidth": 0,
              "ticks": ""
             }
            },
            "type": "scatterpolargl"
           }
          ],
          "scatterternary": [
           {
            "marker": {
             "colorbar": {
              "outlinewidth": 0,
              "ticks": ""
             }
            },
            "type": "scatterternary"
           }
          ],
          "surface": [
           {
            "colorbar": {
             "outlinewidth": 0,
             "ticks": ""
            },
            "colorscale": [
             [
              0,
              "#0d0887"
             ],
             [
              0.1111111111111111,
              "#46039f"
             ],
             [
              0.2222222222222222,
              "#7201a8"
             ],
             [
              0.3333333333333333,
              "#9c179e"
             ],
             [
              0.4444444444444444,
              "#bd3786"
             ],
             [
              0.5555555555555556,
              "#d8576b"
             ],
             [
              0.6666666666666666,
              "#ed7953"
             ],
             [
              0.7777777777777778,
              "#fb9f3a"
             ],
             [
              0.8888888888888888,
              "#fdca26"
             ],
             [
              1,
              "#f0f921"
             ]
            ],
            "type": "surface"
           }
          ],
          "table": [
           {
            "cells": {
             "fill": {
              "color": "#EBF0F8"
             },
             "line": {
              "color": "white"
             }
            },
            "header": {
             "fill": {
              "color": "#C8D4E3"
             },
             "line": {
              "color": "white"
             }
            },
            "type": "table"
           }
          ]
         },
         "layout": {
          "annotationdefaults": {
           "arrowcolor": "#2a3f5f",
           "arrowhead": 0,
           "arrowwidth": 1
          },
          "autotypenumbers": "strict",
          "coloraxis": {
           "colorbar": {
            "outlinewidth": 0,
            "ticks": ""
           }
          },
          "colorscale": {
           "diverging": [
            [
             0,
             "#8e0152"
            ],
            [
             0.1,
             "#c51b7d"
            ],
            [
             0.2,
             "#de77ae"
            ],
            [
             0.3,
             "#f1b6da"
            ],
            [
             0.4,
             "#fde0ef"
            ],
            [
             0.5,
             "#f7f7f7"
            ],
            [
             0.6,
             "#e6f5d0"
            ],
            [
             0.7,
             "#b8e186"
            ],
            [
             0.8,
             "#7fbc41"
            ],
            [
             0.9,
             "#4d9221"
            ],
            [
             1,
             "#276419"
            ]
           ],
           "sequential": [
            [
             0,
             "#0d0887"
            ],
            [
             0.1111111111111111,
             "#46039f"
            ],
            [
             0.2222222222222222,
             "#7201a8"
            ],
            [
             0.3333333333333333,
             "#9c179e"
            ],
            [
             0.4444444444444444,
             "#bd3786"
            ],
            [
             0.5555555555555556,
             "#d8576b"
            ],
            [
             0.6666666666666666,
             "#ed7953"
            ],
            [
             0.7777777777777778,
             "#fb9f3a"
            ],
            [
             0.8888888888888888,
             "#fdca26"
            ],
            [
             1,
             "#f0f921"
            ]
           ],
           "sequentialminus": [
            [
             0,
             "#0d0887"
            ],
            [
             0.1111111111111111,
             "#46039f"
            ],
            [
             0.2222222222222222,
             "#7201a8"
            ],
            [
             0.3333333333333333,
             "#9c179e"
            ],
            [
             0.4444444444444444,
             "#bd3786"
            ],
            [
             0.5555555555555556,
             "#d8576b"
            ],
            [
             0.6666666666666666,
             "#ed7953"
            ],
            [
             0.7777777777777778,
             "#fb9f3a"
            ],
            [
             0.8888888888888888,
             "#fdca26"
            ],
            [
             1,
             "#f0f921"
            ]
           ]
          },
          "colorway": [
           "#636efa",
           "#EF553B",
           "#00cc96",
           "#ab63fa",
           "#FFA15A",
           "#19d3f3",
           "#FF6692",
           "#B6E880",
           "#FF97FF",
           "#FECB52"
          ],
          "font": {
           "color": "#2a3f5f"
          },
          "geo": {
           "bgcolor": "white",
           "lakecolor": "white",
           "landcolor": "#E5ECF6",
           "showlakes": true,
           "showland": true,
           "subunitcolor": "white"
          },
          "hoverlabel": {
           "align": "left"
          },
          "hovermode": "closest",
          "mapbox": {
           "style": "light"
          },
          "paper_bgcolor": "white",
          "plot_bgcolor": "#E5ECF6",
          "polar": {
           "angularaxis": {
            "gridcolor": "white",
            "linecolor": "white",
            "ticks": ""
           },
           "bgcolor": "#E5ECF6",
           "radialaxis": {
            "gridcolor": "white",
            "linecolor": "white",
            "ticks": ""
           }
          },
          "scene": {
           "xaxis": {
            "backgroundcolor": "#E5ECF6",
            "gridcolor": "white",
            "gridwidth": 2,
            "linecolor": "white",
            "showbackground": true,
            "ticks": "",
            "zerolinecolor": "white"
           },
           "yaxis": {
            "backgroundcolor": "#E5ECF6",
            "gridcolor": "white",
            "gridwidth": 2,
            "linecolor": "white",
            "showbackground": true,
            "ticks": "",
            "zerolinecolor": "white"
           },
           "zaxis": {
            "backgroundcolor": "#E5ECF6",
            "gridcolor": "white",
            "gridwidth": 2,
            "linecolor": "white",
            "showbackground": true,
            "ticks": "",
            "zerolinecolor": "white"
           }
          },
          "shapedefaults": {
           "line": {
            "color": "#2a3f5f"
           }
          },
          "ternary": {
           "aaxis": {
            "gridcolor": "white",
            "linecolor": "white",
            "ticks": ""
           },
           "baxis": {
            "gridcolor": "white",
            "linecolor": "white",
            "ticks": ""
           },
           "bgcolor": "#E5ECF6",
           "caxis": {
            "gridcolor": "white",
            "linecolor": "white",
            "ticks": ""
           }
          },
          "title": {
           "x": 0.05
          },
          "xaxis": {
           "automargin": true,
           "gridcolor": "white",
           "linecolor": "white",
           "ticks": "",
           "title": {
            "standoff": 15
           },
           "zerolinecolor": "white",
           "zerolinewidth": 2
          },
          "yaxis": {
           "automargin": true,
           "gridcolor": "white",
           "linecolor": "white",
           "ticks": "",
           "title": {
            "standoff": 15
           },
           "zerolinecolor": "white",
           "zerolinewidth": 2
          }
         }
        },
        "width": 1500,
        "xaxis": {
         "showticklabels": false
        },
        "yaxis": {
         "showticklabels": false
        }
       }
      }
     },
     "metadata": {},
     "output_type": "display_data"
    }
   ],
   "source": [
    "layout = go.Layout(\n",
    "    paper_bgcolor='rgba(0,0,0,0)',\n",
    "    plot_bgcolor='rgba(0,0,0,0)'\n",
    ")\n",
    "\n",
    "\n",
    "fig = go.Figure(layout = layout)\n",
    "\n",
    "for trace in edge_trace:\n",
    "    fig.add_trace(trace)\n",
    "\n",
    "fig.add_trace(node_trace)\n",
    "\n",
    "fig.update_layout(showlegend = False, height = 1000, width = 1500,    plot_bgcolor='lightgray', paper_bgcolor='lavender')\n",
    "\n",
    "fig.update_xaxes(showticklabels = False)\n",
    "\n",
    "fig.update_yaxes(showticklabels = False)\n",
    "\n",
    "fig.show()"
   ]
  },
  {
   "cell_type": "code",
   "execution_count": 19,
   "id": "bfd9915b",
   "metadata": {},
   "outputs": [],
   "source": [
    "file = 'rete.pickle'\n",
    "with open(path+file, 'wb') as f:\n",
    "    pickle.dump(G, f)"
   ]
  },
  {
   "cell_type": "code",
   "execution_count": 34,
   "id": "1c184123",
   "metadata": {},
   "outputs": [
    {
     "data": {
      "text/plain": [
       "185"
      ]
     },
     "execution_count": 34,
     "metadata": {},
     "output_type": "execute_result"
    }
   ],
   "source": [
    "G.number_of_edges()"
   ]
  },
  {
   "cell_type": "code",
   "execution_count": null,
   "id": "81022d08",
   "metadata": {},
   "outputs": [],
   "source": []
  }
 ],
 "metadata": {
  "kernelspec": {
   "display_name": "tesi10",
   "language": "python",
   "name": "p10"
  },
  "language_info": {
   "codemirror_mode": {
    "name": "ipython",
    "version": 3
   },
   "file_extension": ".py",
   "mimetype": "text/x-python",
   "name": "python",
   "nbconvert_exporter": "python",
   "pygments_lexer": "ipython3",
   "version": "3.10.11"
  }
 },
 "nbformat": 4,
 "nbformat_minor": 5
}
