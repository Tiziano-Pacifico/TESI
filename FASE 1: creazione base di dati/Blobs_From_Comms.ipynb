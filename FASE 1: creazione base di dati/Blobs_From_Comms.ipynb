{
 "cells": [
  {
   "cell_type": "code",
   "execution_count": 1,
   "id": "d9b75ec8",
   "metadata": {},
   "outputs": [],
   "source": [
    "import pandas as pd\n",
    "import os\n",
    "os.chdir('C:\\\\Users\\\\Tiziano Pacifico\\\\Desktop\\\\TESI\\\\RedditDS')"
   ]
  },
  {
   "cell_type": "markdown",
   "id": "50b03d8a",
   "metadata": {},
   "source": [
    "# Note\n",
    "\n",
    "I signoli json dei commenti sono stati fusi aggregando il testo in base all'id della submission"
   ]
  },
  {
   "cell_type": "code",
   "execution_count": 2,
   "id": "ffe155fc",
   "metadata": {},
   "outputs": [],
   "source": [
    "cols = ['sub_id','blob']"
   ]
  },
  {
   "cell_type": "code",
   "execution_count": 17,
   "id": "a3f5790c",
   "metadata": {},
   "outputs": [],
   "source": [
    "start = 51\n",
    "end = 75"
   ]
  },
  {
   "cell_type": "code",
   "execution_count": 18,
   "id": "c1381bbd",
   "metadata": {
    "collapsed": true
   },
   "outputs": [
    {
     "name": "stdout",
     "output_type": "stream",
     "text": [
      "51\n",
      "52\n",
      "53\n",
      "54\n",
      "55\n",
      "56\n",
      "57\n",
      "58\n",
      "59\n",
      "60\n",
      "61\n",
      "62\n",
      "63\n",
      "64\n",
      "65\n",
      "66\n",
      "67\n",
      "68\n",
      "69\n",
      "70\n",
      "71\n",
      "72\n",
      "73\n",
      "74\n"
     ]
    }
   ],
   "source": [
    "for i in range(start,end):\n",
    "    print(i)\n",
    "    file_path = f'splitted_df_com\\\\splitted_df_comm{i}.json'\n",
    "    df_comments = pd.read_json(file_path, lines = True)\n",
    "    df_blob = df_comments.groupby(['sub_id'], as_index = False).agg({'body': ' '.join})\n",
    "    df_count = df_comments.groupby(['sub_id'], as_index = False).size()\n",
    "    df_blob['num_extracted_comments'] = df_count['size']\n",
    "    save_file = f'splitted_df_blob\\\\splitted_df_blob{i}.json'\n",
    "    df_blob.to_json(save_file, orient='records', lines=True)"
   ]
  },
  {
   "cell_type": "code",
   "execution_count": 9,
   "id": "0b06fecc",
   "metadata": {
    "collapsed": true
   },
   "outputs": [
    {
     "data": {
      "text/html": [
       "<div>\n",
       "<style scoped>\n",
       "    .dataframe tbody tr th:only-of-type {\n",
       "        vertical-align: middle;\n",
       "    }\n",
       "\n",
       "    .dataframe tbody tr th {\n",
       "        vertical-align: top;\n",
       "    }\n",
       "\n",
       "    .dataframe thead th {\n",
       "        text-align: right;\n",
       "    }\n",
       "</style>\n",
       "<table border=\"1\" class=\"dataframe\">\n",
       "  <thead>\n",
       "    <tr style=\"text-align: right;\">\n",
       "      <th></th>\n",
       "      <th>sub_id</th>\n",
       "      <th>body</th>\n",
       "      <th>num_extracted_comments</th>\n",
       "    </tr>\n",
       "  </thead>\n",
       "  <tbody>\n",
       "    <tr>\n",
       "      <th>0</th>\n",
       "      <td>12ne0rh</td>\n",
       "      <td>Hey /u/_sneakypeaky, please respond to this co...</td>\n",
       "      <td>3</td>\n",
       "    </tr>\n",
       "    <tr>\n",
       "      <th>1</th>\n",
       "      <td>12ne3uc</td>\n",
       "      <td>Hey u/local_reddituser, your post has been rem...</td>\n",
       "      <td>1</td>\n",
       "    </tr>\n",
       "    <tr>\n",
       "      <th>2</th>\n",
       "      <td>12ne74d</td>\n",
       "      <td>Hey /u/HowardRoark555, please respond to this ...</td>\n",
       "      <td>11</td>\n",
       "    </tr>\n",
       "    <tr>\n",
       "      <th>3</th>\n",
       "      <td>12ne990</td>\n",
       "      <td>Hey /u/Left-Plant2717, please respond to this ...</td>\n",
       "      <td>2</td>\n",
       "    </tr>\n",
       "    <tr>\n",
       "      <th>4</th>\n",
       "      <td>12neek9</td>\n",
       "      <td>Hey u/No-Till-3266, your post has been removed...</td>\n",
       "      <td>1</td>\n",
       "    </tr>\n",
       "    <tr>\n",
       "      <th>...</th>\n",
       "      <td>...</td>\n",
       "      <td>...</td>\n",
       "      <td>...</td>\n",
       "    </tr>\n",
       "    <tr>\n",
       "      <th>955</th>\n",
       "      <td>12p7624</td>\n",
       "      <td>Hey /u/Prince-of-Privacy, please respond to th...</td>\n",
       "      <td>2</td>\n",
       "    </tr>\n",
       "    <tr>\n",
       "      <th>956</th>\n",
       "      <td>12p7bip</td>\n",
       "      <td>Hey /u/Minecon724, please respond to this comm...</td>\n",
       "      <td>6</td>\n",
       "    </tr>\n",
       "    <tr>\n",
       "      <th>957</th>\n",
       "      <td>12p7d6v</td>\n",
       "      <td>Hey u/mindly_rewired, your post has been remov...</td>\n",
       "      <td>1</td>\n",
       "    </tr>\n",
       "    <tr>\n",
       "      <th>958</th>\n",
       "      <td>12p7gyf</td>\n",
       "      <td>Hey /u/geozstevenzz, please respond to this co...</td>\n",
       "      <td>3</td>\n",
       "    </tr>\n",
       "    <tr>\n",
       "      <th>959</th>\n",
       "      <td>12p7xu1</td>\n",
       "      <td>Hey u/Open_Independence_18, your post has been...</td>\n",
       "      <td>1</td>\n",
       "    </tr>\n",
       "  </tbody>\n",
       "</table>\n",
       "<p>960 rows × 3 columns</p>\n",
       "</div>"
      ],
      "text/plain": [
       "      sub_id                                               body  \\\n",
       "0    12ne0rh  Hey /u/_sneakypeaky, please respond to this co...   \n",
       "1    12ne3uc  Hey u/local_reddituser, your post has been rem...   \n",
       "2    12ne74d  Hey /u/HowardRoark555, please respond to this ...   \n",
       "3    12ne990  Hey /u/Left-Plant2717, please respond to this ...   \n",
       "4    12neek9  Hey u/No-Till-3266, your post has been removed...   \n",
       "..       ...                                                ...   \n",
       "955  12p7624  Hey /u/Prince-of-Privacy, please respond to th...   \n",
       "956  12p7bip  Hey /u/Minecon724, please respond to this comm...   \n",
       "957  12p7d6v  Hey u/mindly_rewired, your post has been remov...   \n",
       "958  12p7gyf  Hey /u/geozstevenzz, please respond to this co...   \n",
       "959  12p7xu1  Hey u/Open_Independence_18, your post has been...   \n",
       "\n",
       "     num_extracted_comments  \n",
       "0                         3  \n",
       "1                         1  \n",
       "2                        11  \n",
       "3                         2  \n",
       "4                         1  \n",
       "..                      ...  \n",
       "955                       2  \n",
       "956                       6  \n",
       "957                       1  \n",
       "958                       3  \n",
       "959                       1  \n",
       "\n",
       "[960 rows x 3 columns]"
      ]
     },
     "execution_count": 9,
     "metadata": {},
     "output_type": "execute_result"
    }
   ],
   "source": [
    "df_blob"
   ]
  },
  {
   "cell_type": "code",
   "execution_count": null,
   "id": "a925f4f3",
   "metadata": {},
   "outputs": [],
   "source": []
  }
 ],
 "metadata": {
  "kernelspec": {
   "display_name": "Python 3 (ipykernel)",
   "language": "python",
   "name": "python3"
  },
  "language_info": {
   "codemirror_mode": {
    "name": "ipython",
    "version": 3
   },
   "file_extension": ".py",
   "mimetype": "text/x-python",
   "name": "python",
   "nbconvert_exporter": "python",
   "pygments_lexer": "ipython3",
   "version": "3.10.9"
  }
 },
 "nbformat": 4,
 "nbformat_minor": 5
}
