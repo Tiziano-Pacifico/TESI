{
 "cells": [
  {
   "cell_type": "code",
   "execution_count": 4,
   "id": "765f743d",
   "metadata": {},
   "outputs": [],
   "source": [
    "import praw\n",
    "import pandas as pd\n",
    "import sys\n",
    "sys.path.append(\"C:\\\\Users\\\\Tiziano Pacifico\\\\Desktop\\\\CodeTesi\\\\FASE 1 DATASET\")\n",
    "import credential"
   ]
  },
  {
   "cell_type": "markdown",
   "id": "21dd1a8e",
   "metadata": {},
   "source": [
    "# Note\n",
    "\n",
    "Il dataset id_utc_.json viene qui utilizato come base per l'estrazione delle informazioni direttamente con l'api di reddit e il wrapper di python praw. In questo modo non utilizziamo praw come base per l'estrazione di tutte le submission in quanto potremmo incorrere in alcune limitazioni temporali insite nelle api di reddit ma utilizziamo l'id delle submissions ottenute tramite l'api di pushshift. \n",
    "La struttura del dataframe contenente le informazioni di pertinenza è la seguente:\n",
    "ID - AUTHOR - CREATED_UTC - EDITED - NUM_COMMENTS - SELF_TEXT - TITLE - UTC_STR\n",
    "Il significato di ognuno dei campi è intuibile dalla label del campo stesso.\n",
    "Per gli autori è stato optato di ottenere il nickname piuttosto che l'id del loro nome. Questo perchè abbiamo notato il sollevars di molte eccezioni relativamente al tentativo di recuperare l'id del redditor rispetto al nickname. Le successive analisi non avranno bisogno della costruzione di un dataframe di redditor, per il quale l'id sarebbe stata più comoda del nickname, ma nel caso si volesse procedere in quella direzione le informazioni salvate saranno sufficienti per l'estrazione dei dati relativi.\n",
    "Tecnicamente abbiamo iterato direttamente sulla lista di id delle submissions utitlizzanto una chiamata all'api di reddit per ottenere la submission relativa. \n",
    "Su ogni submission abbiamo utilizzato un dizionario per creare una riga del dataframe e abbiamo inserito la riga del dataframe direttamente all'interno del ciclo. Il sistema si è rivelato piuttosto lento per le ragioni già esposte in PushshiftPostDowload.\n",
    "Il dataframe così ottenuto è stato df_submissions.json, contentente 73943 entries di cui 0 null per ognuno dei campi di interesse."
   ]
  },
  {
   "cell_type": "code",
   "execution_count": 47,
   "id": "3408cdd3",
   "metadata": {},
   "outputs": [],
   "source": [
    "df_cols = ['id','author', 'created_utc','edited','num_comments','self_text','title','utc_datetime_str','blob']"
   ]
  },
  {
   "cell_type": "code",
   "execution_count": 6,
   "id": "04af21de",
   "metadata": {},
   "outputs": [],
   "source": [
    "reddit = praw.Reddit(client_id = credential.CLIENT_ID,\n",
    "                     client_secret = credential.CLIENT_SECRET,\n",
    "                     user_agent = 'fetching submission: u/Ardenzio')"
   ]
  },
  {
   "cell_type": "code",
   "execution_count": 9,
   "id": "33481e7c",
   "metadata": {},
   "outputs": [],
   "source": [
    "df = pd.read_json('C:\\\\Users\\\\Tiziano Pacifico\\\\Desktop\\\\TESI\\\\RedditDS\\\\id_utc.json', lines = True)"
   ]
  },
  {
   "cell_type": "code",
   "execution_count": 13,
   "id": "926ee946",
   "metadata": {},
   "outputs": [],
   "source": [
    "id_list = list(df['id'])"
   ]
  },
  {
   "cell_type": "code",
   "execution_count": 79,
   "id": "c3f58a2f",
   "metadata": {},
   "outputs": [],
   "source": [
    "df_submissions = pd.DataFrame(columns=df_cols[0:7])"
   ]
  },
  {
   "cell_type": "code",
   "execution_count": 80,
   "id": "0f765453",
   "metadata": {},
   "outputs": [],
   "source": [
    "row = {}\n",
    "for submission_id in id_list:\n",
    "    submission = reddit.submission(id=submission_id)\n",
    "    if submission:\n",
    "        row[df_cols[0]] = submission.id\n",
    "        if submission.author:\n",
    "            row[df_cols[1]] = submission.author.name\n",
    "        row[df_cols[2]] = int(submission.created_utc)\n",
    "        row[df_cols[3]] = submission.edited\n",
    "        row[df_cols[4]] = submission.num_comments\n",
    "        row[df_cols[5]] = submission.selftext\n",
    "        row[df_cols[6]] = submission.title\n",
    "        df_submissions.loc[len(df_submissions)] = row\n",
    "    else:\n",
    "        print('qui')\n",
    "        s = pd.Series([None,None,None,None,None,None,None,None],index=df_cols[0:7])\n",
    "        df_submissions.loc[len(df)] = s"
   ]
  },
  {
   "cell_type": "code",
   "execution_count": 83,
   "id": "8f31de5b",
   "metadata": {},
   "outputs": [
    {
     "name": "stdout",
     "output_type": "stream",
     "text": [
      "<class 'pandas.core.frame.DataFrame'>\n",
      "Int64Index: 73943 entries, 0 to 73942\n",
      "Data columns (total 7 columns):\n",
      " #   Column          Non-Null Count  Dtype \n",
      "---  ------          --------------  ----- \n",
      " 0   id              73943 non-null  object\n",
      " 1   author          73943 non-null  object\n",
      " 2   author_premium  73943 non-null  int64 \n",
      " 3   created_utc     73943 non-null  object\n",
      " 4   edited          73943 non-null  int64 \n",
      " 5   num_comments    73943 non-null  object\n",
      " 6   self_text       73943 non-null  object\n",
      "dtypes: int64(2), object(5)\n",
      "memory usage: 4.5+ MB\n"
     ]
    }
   ],
   "source": [
    "df_submissions.info()"
   ]
  },
  {
   "cell_type": "code",
   "execution_count": 84,
   "id": "84a19034",
   "metadata": {
    "collapsed": true
   },
   "outputs": [
    {
     "data": {
      "text/html": [
       "<div>\n",
       "<style scoped>\n",
       "    .dataframe tbody tr th:only-of-type {\n",
       "        vertical-align: middle;\n",
       "    }\n",
       "\n",
       "    .dataframe tbody tr th {\n",
       "        vertical-align: top;\n",
       "    }\n",
       "\n",
       "    .dataframe thead th {\n",
       "        text-align: right;\n",
       "    }\n",
       "</style>\n",
       "<table border=\"1\" class=\"dataframe\">\n",
       "  <thead>\n",
       "    <tr style=\"text-align: right;\">\n",
       "      <th></th>\n",
       "      <th>id</th>\n",
       "      <th>author</th>\n",
       "      <th>author_premium</th>\n",
       "      <th>created_utc</th>\n",
       "      <th>edited</th>\n",
       "      <th>num_comments</th>\n",
       "      <th>self_text</th>\n",
       "    </tr>\n",
       "  </thead>\n",
       "  <tbody>\n",
       "    <tr>\n",
       "      <th>0</th>\n",
       "      <td>134stgc</td>\n",
       "      <td>tattedboi1_</td>\n",
       "      <td>1682960456</td>\n",
       "      <td>False</td>\n",
       "      <td>3</td>\n",
       "      <td>I don’t think Michael McIntyre has anything to...</td>\n",
       "      <td>ChatGPT does not do stand up comedy</td>\n",
       "    </tr>\n",
       "    <tr>\n",
       "      <th>1</th>\n",
       "      <td>134sq2h</td>\n",
       "      <td>cstein123</td>\n",
       "      <td>1682960372</td>\n",
       "      <td>False</td>\n",
       "      <td>1</td>\n",
       "      <td>A little over a week ago I released a tool cal...</td>\n",
       "      <td>Dreamcatcher - ChatGPT Retrieval on Steroids</td>\n",
       "    </tr>\n",
       "    <tr>\n",
       "      <th>2</th>\n",
       "      <td>134slvb</td>\n",
       "      <td>Technology342</td>\n",
       "      <td>1682960259</td>\n",
       "      <td>False</td>\n",
       "      <td>2</td>\n",
       "      <td>[How to Jailbreak ChatGPT, List of Prompts](ht...</td>\n",
       "      <td>Thoughts on this?</td>\n",
       "    </tr>\n",
       "    <tr>\n",
       "      <th>3</th>\n",
       "      <td>134s4jz</td>\n",
       "      <td>WW_III_ANGRY</td>\n",
       "      <td>1682959802</td>\n",
       "      <td>False</td>\n",
       "      <td>1</td>\n",
       "      <td>**Me:**  What insights and discoveries have yo...</td>\n",
       "      <td>Emergent abilities of chat GPT. We don't reall...</td>\n",
       "    </tr>\n",
       "    <tr>\n",
       "      <th>4</th>\n",
       "      <td>134rp29</td>\n",
       "      <td>NiceGuy-n2</td>\n",
       "      <td>1682959399</td>\n",
       "      <td>False</td>\n",
       "      <td>1</td>\n",
       "      <td></td>\n",
       "      <td>This chatgpt app gives me a 20 free chat credits</td>\n",
       "    </tr>\n",
       "  </tbody>\n",
       "</table>\n",
       "</div>"
      ],
      "text/plain": [
       "        id         author  author_premium created_utc  edited  \\\n",
       "0  134stgc    tattedboi1_      1682960456       False       3   \n",
       "1  134sq2h      cstein123      1682960372       False       1   \n",
       "2  134slvb  Technology342      1682960259       False       2   \n",
       "3  134s4jz   WW_III_ANGRY      1682959802       False       1   \n",
       "4  134rp29     NiceGuy-n2      1682959399       False       1   \n",
       "\n",
       "                                        num_comments  \\\n",
       "0  I don’t think Michael McIntyre has anything to...   \n",
       "1  A little over a week ago I released a tool cal...   \n",
       "2  [How to Jailbreak ChatGPT, List of Prompts](ht...   \n",
       "3  **Me:**  What insights and discoveries have yo...   \n",
       "4                                                      \n",
       "\n",
       "                                           self_text  \n",
       "0                ChatGPT does not do stand up comedy  \n",
       "1       Dreamcatcher - ChatGPT Retrieval on Steroids  \n",
       "2                                  Thoughts on this?  \n",
       "3  Emergent abilities of chat GPT. We don't reall...  \n",
       "4   This chatgpt app gives me a 20 free chat credits  "
      ]
     },
     "execution_count": 84,
     "metadata": {},
     "output_type": "execute_result"
    }
   ],
   "source": [
    "df_submissions.head()"
   ]
  },
  {
   "cell_type": "code",
   "execution_count": 85,
   "id": "c9c0a06e",
   "metadata": {},
   "outputs": [],
   "source": [
    "df_submissions_change = df_submissions.rename(columns = {'author_premium':'created_utc', \n",
    "                                                        'created_utc': 'edited',\n",
    "                                                        'edited': 'num_comments',\n",
    "                                                        'num_comments': 'self_text',\n",
    "                                                        'self_text': 'title'})"
   ]
  },
  {
   "cell_type": "code",
   "execution_count": 87,
   "id": "935a7c99",
   "metadata": {
    "collapsed": true
   },
   "outputs": [
    {
     "name": "stdout",
     "output_type": "stream",
     "text": [
      "<class 'pandas.core.frame.DataFrame'>\n",
      "Int64Index: 73943 entries, 0 to 73942\n",
      "Data columns (total 7 columns):\n",
      " #   Column        Non-Null Count  Dtype \n",
      "---  ------        --------------  ----- \n",
      " 0   id            73943 non-null  object\n",
      " 1   author        73943 non-null  object\n",
      " 2   created_utc   73943 non-null  int64 \n",
      " 3   edited        73943 non-null  object\n",
      " 4   num_comments  73943 non-null  int64 \n",
      " 5   self_text     73943 non-null  object\n",
      " 6   title         73943 non-null  object\n",
      "dtypes: int64(2), object(5)\n",
      "memory usage: 4.5+ MB\n"
     ]
    }
   ],
   "source": [
    "df_submissions_change.info()"
   ]
  },
  {
   "cell_type": "code",
   "execution_count": 89,
   "id": "c2083c8a",
   "metadata": {},
   "outputs": [],
   "source": [
    "df_submissions = df_submissions_change.astype({\"edited\": bool})"
   ]
  },
  {
   "cell_type": "code",
   "execution_count": 91,
   "id": "15f0d52c",
   "metadata": {
    "collapsed": true
   },
   "outputs": [
    {
     "name": "stdout",
     "output_type": "stream",
     "text": [
      "<class 'pandas.core.frame.DataFrame'>\n",
      "Int64Index: 73943 entries, 0 to 73942\n",
      "Data columns (total 7 columns):\n",
      " #   Column        Non-Null Count  Dtype \n",
      "---  ------        --------------  ----- \n",
      " 0   id            73943 non-null  object\n",
      " 1   author        73943 non-null  object\n",
      " 2   created_utc   73943 non-null  int64 \n",
      " 3   edited        73943 non-null  bool  \n",
      " 4   num_comments  73943 non-null  int64 \n",
      " 5   self_text     73943 non-null  object\n",
      " 6   title         73943 non-null  object\n",
      "dtypes: bool(1), int64(2), object(4)\n",
      "memory usage: 4.0+ MB\n"
     ]
    }
   ],
   "source": [
    "df_submissions.info()"
   ]
  },
  {
   "cell_type": "code",
   "execution_count": 92,
   "id": "0ba3a2de",
   "metadata": {},
   "outputs": [],
   "source": [
    "df_submissions.to_json('C:\\\\Users\\\\Tiziano Pacifico\\\\Desktop\\\\TESI\\\\RedditDS\\\\df_submissions.json', orient='records', lines=True)"
   ]
  },
  {
   "cell_type": "code",
   "execution_count": null,
   "id": "16572bc9",
   "metadata": {},
   "outputs": [],
   "source": []
  }
 ],
 "metadata": {
  "kernelspec": {
   "display_name": "Python 3 (ipykernel)",
   "language": "python",
   "name": "python3"
  },
  "language_info": {
   "codemirror_mode": {
    "name": "ipython",
    "version": 3
   },
   "file_extension": ".py",
   "mimetype": "text/x-python",
   "name": "python",
   "nbconvert_exporter": "python",
   "pygments_lexer": "ipython3",
   "version": "3.10.9"
  }
 },
 "nbformat": 4,
 "nbformat_minor": 5
}
