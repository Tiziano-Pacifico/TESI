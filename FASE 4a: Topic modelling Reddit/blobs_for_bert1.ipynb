{
 "cells": [
  {
   "cell_type": "code",
   "execution_count": 1,
   "metadata": {},
   "outputs": [],
   "source": [
    "import pandas as pd"
   ]
  },
  {
   "cell_type": "code",
   "execution_count": 3,
   "metadata": {},
   "outputs": [],
   "source": [
    "path = \"C:\\\\Users\\\\Tiziano Pacifico\\\\Desktop\\\\TESI\\\\RedditDS\\\\chatGPT\\\\FASE 2\\\\splitted_df_cleaned_dict\\\\\"\n"
   ]
  },
  {
   "cell_type": "code",
   "execution_count": 4,
   "metadata": {},
   "outputs": [],
   "source": [
    "start = 0\n",
    "end = 74\n",
    "dfs = []\n",
    "for i in range(start,end+1):\n",
    "    df = pd.read_json(path + f'splitted_df_cleaned_dict_{i}.json', encoding='utf-8',lines = True)\n",
    "    dfs.append(df)"
   ]
  },
  {
   "cell_type": "code",
   "execution_count": 5,
   "metadata": {},
   "outputs": [
    {
     "data": {
      "text/html": [
       "<div>\n",
       "<style scoped>\n",
       "    .dataframe tbody tr th:only-of-type {\n",
       "        vertical-align: middle;\n",
       "    }\n",
       "\n",
       "    .dataframe tbody tr th {\n",
       "        vertical-align: top;\n",
       "    }\n",
       "\n",
       "    .dataframe thead th {\n",
       "        text-align: right;\n",
       "    }\n",
       "</style>\n",
       "<table border=\"1\" class=\"dataframe\">\n",
       "  <thead>\n",
       "    <tr style=\"text-align: right;\">\n",
       "      <th></th>\n",
       "      <th>id</th>\n",
       "      <th>author</th>\n",
       "      <th>created_utc</th>\n",
       "      <th>edited</th>\n",
       "      <th>num_comments</th>\n",
       "      <th>self_text</th>\n",
       "      <th>title</th>\n",
       "      <th>utc_datetime_str</th>\n",
       "      <th>clean_blob</th>\n",
       "    </tr>\n",
       "  </thead>\n",
       "  <tbody>\n",
       "    <tr>\n",
       "      <th>0</th>\n",
       "      <td>134stgc</td>\n",
       "      <td>tattedboi1_</td>\n",
       "      <td>1682960456</td>\n",
       "      <td>False</td>\n",
       "      <td>3</td>\n",
       "      <td>I don’t think Michael McIntyre has anything to...</td>\n",
       "      <td>ChatGPT does not do stand up comedy</td>\n",
       "      <td>2023-05-01 17:00:56</td>\n",
       "      <td>chatgpt stand dont think michael anyth hey ple...</td>\n",
       "    </tr>\n",
       "    <tr>\n",
       "      <th>1</th>\n",
       "      <td>134sq2h</td>\n",
       "      <td>cstein123</td>\n",
       "      <td>1682960372</td>\n",
       "      <td>False</td>\n",
       "      <td>1</td>\n",
       "      <td>A little over a week ago I released a tool cal...</td>\n",
       "      <td>Dreamcatcher - ChatGPT Retrieval on Steroids</td>\n",
       "      <td>2023-05-01 16:59:32</td>\n",
       "      <td>chatgpt week ago tool call allow user upload c...</td>\n",
       "    </tr>\n",
       "    <tr>\n",
       "      <th>2</th>\n",
       "      <td>134slvb</td>\n",
       "      <td>Technology342</td>\n",
       "      <td>1682960259</td>\n",
       "      <td>False</td>\n",
       "      <td>2</td>\n",
       "      <td>[How to Jailbreak ChatGPT, List of Prompts](ht...</td>\n",
       "      <td>Thoughts on this?</td>\n",
       "      <td>2023-05-01 16:57:39</td>\n",
       "      <td>thought jailbreak chatgpt list prompt pleas re...</td>\n",
       "    </tr>\n",
       "    <tr>\n",
       "      <th>3</th>\n",
       "      <td>134s4jz</td>\n",
       "      <td>WW_III_ANGRY</td>\n",
       "      <td>1682959802</td>\n",
       "      <td>False</td>\n",
       "      <td>1</td>\n",
       "      <td>**Me:**  What insights and discoveries have yo...</td>\n",
       "      <td>Emergent abilities of chat GPT. We don't reall...</td>\n",
       "      <td>2023-05-01 16:50:02</td>\n",
       "      <td>chat gpt dont know thing insight learn gpt ai ...</td>\n",
       "    </tr>\n",
       "    <tr>\n",
       "      <th>4</th>\n",
       "      <td>134rp29</td>\n",
       "      <td>NiceGuy-n2</td>\n",
       "      <td>1682959399</td>\n",
       "      <td>False</td>\n",
       "      <td>1</td>\n",
       "      <td></td>\n",
       "      <td>This chatgpt app gives me a 20 free chat credits</td>\n",
       "      <td>2023-05-01 16:43:19</td>\n",
       "      <td>chatgpt app give free chat pleas respond comme...</td>\n",
       "    </tr>\n",
       "  </tbody>\n",
       "</table>\n",
       "</div>"
      ],
      "text/plain": [
       "        id         author  created_utc  edited  num_comments  \\\n",
       "0  134stgc    tattedboi1_   1682960456   False             3   \n",
       "1  134sq2h      cstein123   1682960372   False             1   \n",
       "2  134slvb  Technology342   1682960259   False             2   \n",
       "3  134s4jz   WW_III_ANGRY   1682959802   False             1   \n",
       "4  134rp29     NiceGuy-n2   1682959399   False             1   \n",
       "\n",
       "                                           self_text  \\\n",
       "0  I don’t think Michael McIntyre has anything to...   \n",
       "1  A little over a week ago I released a tool cal...   \n",
       "2  [How to Jailbreak ChatGPT, List of Prompts](ht...   \n",
       "3  **Me:**  What insights and discoveries have yo...   \n",
       "4                                                      \n",
       "\n",
       "                                               title     utc_datetime_str  \\\n",
       "0                ChatGPT does not do stand up comedy  2023-05-01 17:00:56   \n",
       "1       Dreamcatcher - ChatGPT Retrieval on Steroids  2023-05-01 16:59:32   \n",
       "2                                  Thoughts on this?  2023-05-01 16:57:39   \n",
       "3  Emergent abilities of chat GPT. We don't reall...  2023-05-01 16:50:02   \n",
       "4   This chatgpt app gives me a 20 free chat credits  2023-05-01 16:43:19   \n",
       "\n",
       "                                          clean_blob  \n",
       "0  chatgpt stand dont think michael anyth hey ple...  \n",
       "1  chatgpt week ago tool call allow user upload c...  \n",
       "2  thought jailbreak chatgpt list prompt pleas re...  \n",
       "3  chat gpt dont know thing insight learn gpt ai ...  \n",
       "4  chatgpt app give free chat pleas respond comme...  "
      ]
     },
     "execution_count": 5,
     "metadata": {},
     "output_type": "execute_result"
    }
   ],
   "source": [
    "dfs[0].head()"
   ]
  },
  {
   "cell_type": "code",
   "execution_count": 9,
   "metadata": {},
   "outputs": [],
   "source": [
    "blobs =  []\n",
    "ids = []\n",
    "for df in dfs:\n",
    "    for index,row in df.iterrows():\n",
    "        blobs.append(row['clean_blob'])\n",
    "        ids.append(row['id'])"
   ]
  },
  {
   "cell_type": "code",
   "execution_count": 10,
   "metadata": {},
   "outputs": [],
   "source": [
    "df_final = pd.DataFrame()"
   ]
  },
  {
   "cell_type": "code",
   "execution_count": 11,
   "metadata": {},
   "outputs": [],
   "source": [
    "df_final['id'] = ids\n",
    "df_final['clean_blobs'] = blobs"
   ]
  },
  {
   "cell_type": "code",
   "execution_count": 13,
   "metadata": {},
   "outputs": [],
   "source": [
    "path = \"C:\\\\Users\\\\Tiziano Pacifico\\\\Desktop\\\\TESI\\\\RedditDS\\\\chatGPT\\\\BERTopic_out\\\\\"\n",
    "filename = \"blobs_for_bert_clean_dict.json\"\n",
    "df_final.to_json(path+filename, orient=\"records\", lines=True)"
   ]
  },
  {
   "cell_type": "code",
   "execution_count": null,
   "metadata": {},
   "outputs": [],
   "source": []
  }
 ],
 "metadata": {
  "kernelspec": {
   "display_name": "tesi10",
   "language": "python",
   "name": "p10"
  },
  "language_info": {
   "codemirror_mode": {
    "name": "ipython",
    "version": 3
   },
   "file_extension": ".py",
   "mimetype": "text/x-python",
   "name": "python",
   "nbconvert_exporter": "python",
   "pygments_lexer": "ipython3",
   "version": "3.10.11"
  }
 },
 "nbformat": 4,
 "nbformat_minor": 2
}
