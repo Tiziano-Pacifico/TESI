{
 "cells": [
  {
   "cell_type": "code",
   "execution_count": 7,
   "id": "8e14cabc",
   "metadata": {},
   "outputs": [],
   "source": [
    "from decouple import Config, RepositoryEnv\n",
    "from json import dumps\n",
    "import json\n",
    "import openai\n",
    "from langchain.prompts import ChatPromptTemplate\n",
    "from langchain.chat_models import ChatOpenAI\n",
    "import pandas as pd\n",
    "from pydantic import BaseModel, ValidationError, Field\n",
    "from typing import List, Tuple , Union, Optional\n",
    "from langchain.schema import HumanMessage, SystemMessage, AIMessage"
   ]
  },
  {
   "cell_type": "code",
   "execution_count": 8,
   "id": "a0e3714b",
   "metadata": {},
   "outputs": [],
   "source": [
    "from sentence_transformers import SentenceTransformer, util"
   ]
  },
  {
   "cell_type": "code",
   "execution_count": 9,
   "id": "54847be1",
   "metadata": {},
   "outputs": [],
   "source": [
    "import time\n",
    "import matplotlib.pyplot as plt\n",
    "import seaborn as sns"
   ]
  },
  {
   "cell_type": "code",
   "execution_count": 10,
   "id": "5afa5d61",
   "metadata": {},
   "outputs": [],
   "source": [
    "from openai import OpenAI"
   ]
  },
  {
   "cell_type": "code",
   "execution_count": 11,
   "id": "bbeeaad7",
   "metadata": {},
   "outputs": [],
   "source": [
    "DOTENV_FILE = 'C:\\\\Users\\\\Tiziano Pacifico\\\\Desktop\\\\OpenAICourses\\\\.env'\n",
    "env_config = Config(RepositoryEnv(DOTENV_FILE))\n",
    "openai.api_key = env_config.get('CHATGPT_API_KEY')"
   ]
  },
  {
   "cell_type": "code",
   "execution_count": 15,
   "id": "e1bc9936",
   "metadata": {},
   "outputs": [],
   "source": [
    "path = \"C:\\\\Users\\\\Tiziano Pacifico\\\\Desktop\\\\TESI\\\\RedditDS\\\\chatGPT\\\\BERTopic_out\\\\\"\n",
    "filename = \"BERTopic_out_df.json\"\n",
    "df = pd.read_json(path+filename,lines=True)"
   ]
  },
  {
   "cell_type": "code",
   "execution_count": 16,
   "id": "21f94b40",
   "metadata": {},
   "outputs": [],
   "source": [
    "filename = \"BERTopic_id_list.json\"\n",
    "df_id = pd.read_json(path+filename,lines=True)"
   ]
  },
  {
   "cell_type": "code",
   "execution_count": 17,
   "id": "3b7c0d99",
   "metadata": {},
   "outputs": [],
   "source": [
    "df_final = pd.merge(df, df_id, on='Topic')"
   ]
  },
  {
   "cell_type": "code",
   "execution_count": 20,
   "id": "24e74072",
   "metadata": {},
   "outputs": [
    {
     "name": "stdout",
     "output_type": "stream",
     "text": [
      "<class 'pandas.core.frame.DataFrame'>\n",
      "RangeIndex: 73943 entries, 0 to 73942\n",
      "Data columns (total 4 columns):\n",
      " #   Column    Non-Null Count  Dtype \n",
      "---  ------    --------------  ----- \n",
      " 0   Document  73943 non-null  object\n",
      " 1   Topic     73943 non-null  int64 \n",
      " 2   id        73943 non-null  object\n",
      " 3   BERT_out  73943 non-null  object\n",
      "dtypes: int64(1), object(3)\n",
      "memory usage: 2.3+ MB\n"
     ]
    }
   ],
   "source": [
    "df_final.info()"
   ]
  },
  {
   "cell_type": "code",
   "execution_count": 21,
   "id": "5982e7ce",
   "metadata": {},
   "outputs": [],
   "source": [
    "def create_topwords_string(top_words_list):\n",
    "    topwords_string = ''\n",
    "    for line in top_words_list:\n",
    "        topwords_string += f\"({line[0]}, {line[1]}) \"\n",
    "    return topwords_string"
   ]
  },
  {
   "cell_type": "code",
   "execution_count": 22,
   "id": "f3c53ecf",
   "metadata": {},
   "outputs": [],
   "source": [
    "df = df_final"
   ]
  },
  {
   "cell_type": "code",
   "execution_count": 23,
   "id": "a837f032",
   "metadata": {},
   "outputs": [],
   "source": [
    "df['top_words_str'] = df['BERT_out'].apply(create_topwords_string)"
   ]
  },
  {
   "cell_type": "code",
   "execution_count": 24,
   "id": "350b0bc3",
   "metadata": {},
   "outputs": [
    {
     "data": {
      "text/html": [
       "<div>\n",
       "<style scoped>\n",
       "    .dataframe tbody tr th:only-of-type {\n",
       "        vertical-align: middle;\n",
       "    }\n",
       "\n",
       "    .dataframe tbody tr th {\n",
       "        vertical-align: top;\n",
       "    }\n",
       "\n",
       "    .dataframe thead th {\n",
       "        text-align: right;\n",
       "    }\n",
       "</style>\n",
       "<table border=\"1\" class=\"dataframe\">\n",
       "  <thead>\n",
       "    <tr style=\"text-align: right;\">\n",
       "      <th></th>\n",
       "      <th>Document</th>\n",
       "      <th>Topic</th>\n",
       "      <th>id</th>\n",
       "      <th>BERT_out</th>\n",
       "      <th>top_words_str</th>\n",
       "    </tr>\n",
       "  </thead>\n",
       "  <tbody>\n",
       "    <tr>\n",
       "      <th>0</th>\n",
       "      <td>chatgpt stand dont think michael anyth hey ple...</td>\n",
       "      <td>7</td>\n",
       "      <td>134stgc</td>\n",
       "      <td>[[bot, 0.12105691510000001], [pleas, 0.0709474...</td>\n",
       "      <td>(bot, 0.12105691510000001) (pleas, 0.070947460...</td>\n",
       "    </tr>\n",
       "    <tr>\n",
       "      <th>1</th>\n",
       "      <td>chatgpt app give free chat pleas respond comme...</td>\n",
       "      <td>7</td>\n",
       "      <td>134rp29</td>\n",
       "      <td>[[bot, 0.12105691510000001], [pleas, 0.0709474...</td>\n",
       "      <td>(bot, 0.12105691510000001) (pleas, 0.070947460...</td>\n",
       "    </tr>\n",
       "    <tr>\n",
       "      <th>2</th>\n",
       "      <td>automat grammar visual model chatgpt pleas res...</td>\n",
       "      <td>7</td>\n",
       "      <td>134rk8e</td>\n",
       "      <td>[[bot, 0.12105691510000001], [pleas, 0.0709474...</td>\n",
       "      <td>(bot, 0.12105691510000001) (pleas, 0.070947460...</td>\n",
       "    </tr>\n",
       "    <tr>\n",
       "      <th>3</th>\n",
       "      <td>host pleas respond comment prompt use output p...</td>\n",
       "      <td>7</td>\n",
       "      <td>134r7kv</td>\n",
       "      <td>[[bot, 0.12105691510000001], [pleas, 0.0709474...</td>\n",
       "      <td>(bot, 0.12105691510000001) (pleas, 0.070947460...</td>\n",
       "    </tr>\n",
       "    <tr>\n",
       "      <th>4</th>\n",
       "      <td>there pleas respond comment prompt use output ...</td>\n",
       "      <td>7</td>\n",
       "      <td>134r49c</td>\n",
       "      <td>[[bot, 0.12105691510000001], [pleas, 0.0709474...</td>\n",
       "      <td>(bot, 0.12105691510000001) (pleas, 0.070947460...</td>\n",
       "    </tr>\n",
       "  </tbody>\n",
       "</table>\n",
       "</div>"
      ],
      "text/plain": [
       "                                            Document  Topic       id  \\\n",
       "0  chatgpt stand dont think michael anyth hey ple...      7  134stgc   \n",
       "1  chatgpt app give free chat pleas respond comme...      7  134rp29   \n",
       "2  automat grammar visual model chatgpt pleas res...      7  134rk8e   \n",
       "3  host pleas respond comment prompt use output p...      7  134r7kv   \n",
       "4  there pleas respond comment prompt use output ...      7  134r49c   \n",
       "\n",
       "                                            BERT_out  \\\n",
       "0  [[bot, 0.12105691510000001], [pleas, 0.0709474...   \n",
       "1  [[bot, 0.12105691510000001], [pleas, 0.0709474...   \n",
       "2  [[bot, 0.12105691510000001], [pleas, 0.0709474...   \n",
       "3  [[bot, 0.12105691510000001], [pleas, 0.0709474...   \n",
       "4  [[bot, 0.12105691510000001], [pleas, 0.0709474...   \n",
       "\n",
       "                                       top_words_str  \n",
       "0  (bot, 0.12105691510000001) (pleas, 0.070947460...  \n",
       "1  (bot, 0.12105691510000001) (pleas, 0.070947460...  \n",
       "2  (bot, 0.12105691510000001) (pleas, 0.070947460...  \n",
       "3  (bot, 0.12105691510000001) (pleas, 0.070947460...  \n",
       "4  (bot, 0.12105691510000001) (pleas, 0.070947460...  "
      ]
     },
     "execution_count": 24,
     "metadata": {},
     "output_type": "execute_result"
    }
   ],
   "source": [
    "df.head()"
   ]
  },
  {
   "cell_type": "code",
   "execution_count": 25,
   "id": "e4e8d10e",
   "metadata": {},
   "outputs": [],
   "source": [
    "system_message = \"\"\"You will act as a topic label creator. \\\n",
    "You will create a label that identify a topic given a set of 30 keywords that are meaningfull for the topic.\\\n",
    "                               The topic can be one word or one short sentence, depending how many words you need\\\n",
    "                              to capture the essence of the text. The text will be given in input as human message. Give as output just the sentence or the words that identify the topic.\\\n",
    "                              The keywords list will be given as a result of a BERTopic alghoritm over a short article in the following format: ###\\\n",
    "                              \\(celebrities, 0.0569693501) (influence, 0.0549841217) (their, 0.0467051602) (the, 0.044765043500000004) (and, 0.0443447511) (culture, 0.042227265) (to, 0.0411800998)....\\\n",
    "                                where each number after the word state how important is the word in the topic description in terms of c-TF_IDF score\"\"\""
   ]
  },
  {
   "cell_type": "code",
   "execution_count": 26,
   "id": "0649f1b2",
   "metadata": {},
   "outputs": [],
   "source": [
    "BERT_out = list(df['top_words_str'].unique())"
   ]
  },
  {
   "cell_type": "code",
   "execution_count": 27,
   "id": "1e3aeee5",
   "metadata": {
    "scrolled": false
   },
   "outputs": [
    {
     "name": "stdout",
     "output_type": "stream",
     "text": [
      "elaborato messaggio n: 0\n",
      "elaborato messaggio n: 1\n",
      "elaborato messaggio n: 2\n",
      "elaborato messaggio n: 3\n",
      "elaborato messaggio n: 4\n",
      "elaborato messaggio n: 5\n",
      "elaborato messaggio n: 6\n",
      "elaborato messaggio n: 7\n",
      "elaborato messaggio n: 8\n",
      "elaborato messaggio n: 9\n",
      "elaborato messaggio n: 10\n",
      "elaborato messaggio n: 11\n",
      "elaborato messaggio n: 12\n",
      "elaborato messaggio n: 13\n",
      "elaborato messaggio n: 14\n",
      "elaborato messaggio n: 15\n",
      "elaborato messaggio n: 16\n",
      "elaborato messaggio n: 17\n",
      "elaborato messaggio n: 18\n",
      "elaborato messaggio n: 19\n",
      "elaborato messaggio n: 20\n",
      "elaborato messaggio n: 21\n"
     ]
    }
   ],
   "source": [
    "GPT_topics = []\n",
    "client = OpenAI()\n",
    "for i,out in enumerate(BERT_out):\n",
    "    user_message = f\"\\nCreate a topic label for the following BERTopic output{out}\"\n",
    "    topic = client.chat.completions.create(\n",
    "        model=\"gpt-4-1106-preview\",\n",
    "        messages= [\n",
    "            {\"role\":\"system\", \"content\":system_message},\n",
    "            {\"role\":\"user\", \"content\":user_message}\n",
    "        ]\n",
    "    )\n",
    "    print(f\"elaborato messaggio n: {i}\")\n",
    "    GPT_topics.append((out,topic))"
   ]
  },
  {
   "cell_type": "code",
   "execution_count": 28,
   "id": "44a3156e",
   "metadata": {},
   "outputs": [
    {
     "data": {
      "text/plain": [
       "'Chatbot Interaction and Usage on Discord'"
      ]
     },
     "execution_count": 28,
     "metadata": {},
     "output_type": "execute_result"
    }
   ],
   "source": [
    "GPT_topics[1][1].choices[0].message.content"
   ]
  },
  {
   "cell_type": "code",
   "execution_count": 29,
   "id": "a167bbd3",
   "metadata": {},
   "outputs": [],
   "source": [
    "GPT_topics_str = []\n",
    "for s in GPT_topics:\n",
    "    GPT_topics_str.append((s[0],s[1].choices[0].message.content))"
   ]
  },
  {
   "cell_type": "code",
   "execution_count": 30,
   "id": "e8d28fac",
   "metadata": {},
   "outputs": [],
   "source": [
    "GPT_topics_clean = []\n",
    "for topic in GPT_topics_str:\n",
    "    if len(topic[1].split(\"\\\"\")) > 1:\n",
    "        GPT_topics_clean.append((topic[0],topic[1].split(\"\\\"\")[1]))\n",
    "    else:GPT_topics_clean.append(topic)"
   ]
  },
  {
   "cell_type": "code",
   "execution_count": 31,
   "id": "f71a398e",
   "metadata": {},
   "outputs": [],
   "source": [
    "def add_topic_label(df_col):\n",
    "    for topic in GPT_topics_clean:\n",
    "        if topic[0] == df_col:\n",
    "            return topic[1]"
   ]
  },
  {
   "cell_type": "code",
   "execution_count": 32,
   "id": "0f156d07",
   "metadata": {},
   "outputs": [],
   "source": [
    "df['GPT_label'] = df['top_words_str'].apply(add_topic_label)"
   ]
  },
  {
   "cell_type": "code",
   "execution_count": 33,
   "id": "861a7f5e",
   "metadata": {},
   "outputs": [
    {
     "data": {
      "text/html": [
       "<div>\n",
       "<style scoped>\n",
       "    .dataframe tbody tr th:only-of-type {\n",
       "        vertical-align: middle;\n",
       "    }\n",
       "\n",
       "    .dataframe tbody tr th {\n",
       "        vertical-align: top;\n",
       "    }\n",
       "\n",
       "    .dataframe thead th {\n",
       "        text-align: right;\n",
       "    }\n",
       "</style>\n",
       "<table border=\"1\" class=\"dataframe\">\n",
       "  <thead>\n",
       "    <tr style=\"text-align: right;\">\n",
       "      <th></th>\n",
       "      <th>Document</th>\n",
       "      <th>Topic</th>\n",
       "      <th>id</th>\n",
       "      <th>BERT_out</th>\n",
       "      <th>top_words_str</th>\n",
       "      <th>GPT_label</th>\n",
       "    </tr>\n",
       "  </thead>\n",
       "  <tbody>\n",
       "    <tr>\n",
       "      <th>0</th>\n",
       "      <td>chatgpt stand dont think michael anyth hey ple...</td>\n",
       "      <td>7</td>\n",
       "      <td>134stgc</td>\n",
       "      <td>[[bot, 0.12105691510000001], [pleas, 0.0709474...</td>\n",
       "      <td>(bot, 0.12105691510000001) (pleas, 0.070947460...</td>\n",
       "      <td>AI Chatbot Interaction and Assistance on Cloud...</td>\n",
       "    </tr>\n",
       "    <tr>\n",
       "      <th>1</th>\n",
       "      <td>chatgpt app give free chat pleas respond comme...</td>\n",
       "      <td>7</td>\n",
       "      <td>134rp29</td>\n",
       "      <td>[[bot, 0.12105691510000001], [pleas, 0.0709474...</td>\n",
       "      <td>(bot, 0.12105691510000001) (pleas, 0.070947460...</td>\n",
       "      <td>AI Chatbot Interaction and Assistance on Cloud...</td>\n",
       "    </tr>\n",
       "    <tr>\n",
       "      <th>2</th>\n",
       "      <td>automat grammar visual model chatgpt pleas res...</td>\n",
       "      <td>7</td>\n",
       "      <td>134rk8e</td>\n",
       "      <td>[[bot, 0.12105691510000001], [pleas, 0.0709474...</td>\n",
       "      <td>(bot, 0.12105691510000001) (pleas, 0.070947460...</td>\n",
       "      <td>AI Chatbot Interaction and Assistance on Cloud...</td>\n",
       "    </tr>\n",
       "    <tr>\n",
       "      <th>3</th>\n",
       "      <td>host pleas respond comment prompt use output p...</td>\n",
       "      <td>7</td>\n",
       "      <td>134r7kv</td>\n",
       "      <td>[[bot, 0.12105691510000001], [pleas, 0.0709474...</td>\n",
       "      <td>(bot, 0.12105691510000001) (pleas, 0.070947460...</td>\n",
       "      <td>AI Chatbot Interaction and Assistance on Cloud...</td>\n",
       "    </tr>\n",
       "    <tr>\n",
       "      <th>4</th>\n",
       "      <td>there pleas respond comment prompt use output ...</td>\n",
       "      <td>7</td>\n",
       "      <td>134r49c</td>\n",
       "      <td>[[bot, 0.12105691510000001], [pleas, 0.0709474...</td>\n",
       "      <td>(bot, 0.12105691510000001) (pleas, 0.070947460...</td>\n",
       "      <td>AI Chatbot Interaction and Assistance on Cloud...</td>\n",
       "    </tr>\n",
       "  </tbody>\n",
       "</table>\n",
       "</div>"
      ],
      "text/plain": [
       "                                            Document  Topic       id  \\\n",
       "0  chatgpt stand dont think michael anyth hey ple...      7  134stgc   \n",
       "1  chatgpt app give free chat pleas respond comme...      7  134rp29   \n",
       "2  automat grammar visual model chatgpt pleas res...      7  134rk8e   \n",
       "3  host pleas respond comment prompt use output p...      7  134r7kv   \n",
       "4  there pleas respond comment prompt use output ...      7  134r49c   \n",
       "\n",
       "                                            BERT_out  \\\n",
       "0  [[bot, 0.12105691510000001], [pleas, 0.0709474...   \n",
       "1  [[bot, 0.12105691510000001], [pleas, 0.0709474...   \n",
       "2  [[bot, 0.12105691510000001], [pleas, 0.0709474...   \n",
       "3  [[bot, 0.12105691510000001], [pleas, 0.0709474...   \n",
       "4  [[bot, 0.12105691510000001], [pleas, 0.0709474...   \n",
       "\n",
       "                                       top_words_str  \\\n",
       "0  (bot, 0.12105691510000001) (pleas, 0.070947460...   \n",
       "1  (bot, 0.12105691510000001) (pleas, 0.070947460...   \n",
       "2  (bot, 0.12105691510000001) (pleas, 0.070947460...   \n",
       "3  (bot, 0.12105691510000001) (pleas, 0.070947460...   \n",
       "4  (bot, 0.12105691510000001) (pleas, 0.070947460...   \n",
       "\n",
       "                                           GPT_label  \n",
       "0  AI Chatbot Interaction and Assistance on Cloud...  \n",
       "1  AI Chatbot Interaction and Assistance on Cloud...  \n",
       "2  AI Chatbot Interaction and Assistance on Cloud...  \n",
       "3  AI Chatbot Interaction and Assistance on Cloud...  \n",
       "4  AI Chatbot Interaction and Assistance on Cloud...  "
      ]
     },
     "execution_count": 33,
     "metadata": {},
     "output_type": "execute_result"
    }
   ],
   "source": [
    "df.head()"
   ]
  },
  {
   "cell_type": "code",
   "execution_count": 34,
   "id": "18da7a4b",
   "metadata": {},
   "outputs": [],
   "source": [
    "filename = \"BERTopic_gpt_out_df.json\"\n",
    "df.to_json(path+filename, orient=\"records\", lines=True)"
   ]
  },
  {
   "cell_type": "code",
   "execution_count": 35,
   "id": "a5432917",
   "metadata": {},
   "outputs": [
    {
     "data": {
      "text/plain": [
       "array(['AI Chatbot Interaction and Assistance on Cloud Platforms',\n",
       "       'Chatbot Interaction and Usage on Discord',\n",
       "       'Dan Discussing ChatGPT Jailbreaking Ethics',\n",
       "       'AI and ChatGPT in Everyday Life',\n",
       "       'Reddit Karma and Account Restrictions',\n",
       "       'Social Media Karma and Automated Account Moderation',\n",
       "       'ChatGPT Use Cases and Discussions',\n",
       "       'Obama and Trump References in AI Conversations',\n",
       "       'AI Chatbot Interaction and Response automation',\n",
       "       'Social Media Automated Responses and Bots Interaction',\n",
       "       'AI Bots Managing Online Interactions in Chat Platforms',\n",
       "       'NFT Collecting and Discord Community Interaction',\n",
       "       \"Bing's AI Chatbot and User Interaction\",\n",
       "       'Discord Server Chatbot Interaction and User Requests',\n",
       "       'Spam Threshold Management in Online Communities',\n",
       "       'Discord Moderation Bot Commands and User Interaction',\n",
       "       'Bot Moderation in Online Comment Sections',\n",
       "       'Spam Prevention and Account Karma Management',\n",
       "       'Discord Server Moderation and ChatGPT Interaction',\n",
       "       'Squirt: Addressing Spam and Hookup Content on Online Platforms',\n",
       "       'Discord GPT Bot Moderation and User Interaction',\n",
       "       'Managing Discord Server Interactions with GPT-powered Bots'],\n",
       "      dtype=object)"
      ]
     },
     "execution_count": 35,
     "metadata": {},
     "output_type": "execute_result"
    }
   ],
   "source": [
    "df['GPT_label'].unique()"
   ]
  },
  {
   "cell_type": "code",
   "execution_count": 36,
   "id": "5f671685",
   "metadata": {},
   "outputs": [],
   "source": [
    "df_id_gpt = df[['Topic','GPT_label']].sort_values(by='Topic').drop_duplicates(subset='Topic').reset_index(drop=True)"
   ]
  },
  {
   "cell_type": "code",
   "execution_count": 37,
   "id": "1d626857",
   "metadata": {},
   "outputs": [
    {
     "data": {
      "text/html": [
       "<div>\n",
       "<style scoped>\n",
       "    .dataframe tbody tr th:only-of-type {\n",
       "        vertical-align: middle;\n",
       "    }\n",
       "\n",
       "    .dataframe tbody tr th {\n",
       "        vertical-align: top;\n",
       "    }\n",
       "\n",
       "    .dataframe thead th {\n",
       "        text-align: right;\n",
       "    }\n",
       "</style>\n",
       "<table border=\"1\" class=\"dataframe\">\n",
       "  <thead>\n",
       "    <tr style=\"text-align: right;\">\n",
       "      <th></th>\n",
       "      <th>Topic</th>\n",
       "      <th>GPT_label</th>\n",
       "    </tr>\n",
       "  </thead>\n",
       "  <tbody>\n",
       "    <tr>\n",
       "      <th>0</th>\n",
       "      <td>0</td>\n",
       "      <td>AI and ChatGPT in Everyday Life</td>\n",
       "    </tr>\n",
       "    <tr>\n",
       "      <th>1</th>\n",
       "      <td>1</td>\n",
       "      <td>Chatbot Interaction and Usage on Discord</td>\n",
       "    </tr>\n",
       "    <tr>\n",
       "      <th>2</th>\n",
       "      <td>2</td>\n",
       "      <td>Discord Server Chatbot Interaction and User Re...</td>\n",
       "    </tr>\n",
       "    <tr>\n",
       "      <th>3</th>\n",
       "      <td>3</td>\n",
       "      <td>AI Chatbot Interaction and Response automation</td>\n",
       "    </tr>\n",
       "    <tr>\n",
       "      <th>4</th>\n",
       "      <td>4</td>\n",
       "      <td>Bot Moderation in Online Comment Sections</td>\n",
       "    </tr>\n",
       "    <tr>\n",
       "      <th>5</th>\n",
       "      <td>5</td>\n",
       "      <td>AI Bots Managing Online Interactions in Chat P...</td>\n",
       "    </tr>\n",
       "    <tr>\n",
       "      <th>6</th>\n",
       "      <td>6</td>\n",
       "      <td>Discord Server Moderation and ChatGPT Interaction</td>\n",
       "    </tr>\n",
       "    <tr>\n",
       "      <th>7</th>\n",
       "      <td>7</td>\n",
       "      <td>AI Chatbot Interaction and Assistance on Cloud...</td>\n",
       "    </tr>\n",
       "    <tr>\n",
       "      <th>8</th>\n",
       "      <td>8</td>\n",
       "      <td>Social Media Automated Responses and Bots Inte...</td>\n",
       "    </tr>\n",
       "    <tr>\n",
       "      <th>9</th>\n",
       "      <td>9</td>\n",
       "      <td>Social Media Karma and Automated Account Moder...</td>\n",
       "    </tr>\n",
       "    <tr>\n",
       "      <th>10</th>\n",
       "      <td>10</td>\n",
       "      <td>Obama and Trump References in AI Conversations</td>\n",
       "    </tr>\n",
       "    <tr>\n",
       "      <th>11</th>\n",
       "      <td>11</td>\n",
       "      <td>Reddit Karma and Account Restrictions</td>\n",
       "    </tr>\n",
       "    <tr>\n",
       "      <th>12</th>\n",
       "      <td>12</td>\n",
       "      <td>Discord Moderation Bot Commands and User Inter...</td>\n",
       "    </tr>\n",
       "    <tr>\n",
       "      <th>13</th>\n",
       "      <td>13</td>\n",
       "      <td>Discord GPT Bot Moderation and User Interaction</td>\n",
       "    </tr>\n",
       "    <tr>\n",
       "      <th>14</th>\n",
       "      <td>14</td>\n",
       "      <td>ChatGPT Use Cases and Discussions</td>\n",
       "    </tr>\n",
       "    <tr>\n",
       "      <th>15</th>\n",
       "      <td>15</td>\n",
       "      <td>Bing's AI Chatbot and User Interaction</td>\n",
       "    </tr>\n",
       "    <tr>\n",
       "      <th>16</th>\n",
       "      <td>16</td>\n",
       "      <td>Dan Discussing ChatGPT Jailbreaking Ethics</td>\n",
       "    </tr>\n",
       "    <tr>\n",
       "      <th>17</th>\n",
       "      <td>17</td>\n",
       "      <td>NFT Collecting and Discord Community Interaction</td>\n",
       "    </tr>\n",
       "    <tr>\n",
       "      <th>18</th>\n",
       "      <td>18</td>\n",
       "      <td>Spam Threshold Management in Online Communities</td>\n",
       "    </tr>\n",
       "    <tr>\n",
       "      <th>19</th>\n",
       "      <td>19</td>\n",
       "      <td>Managing Discord Server Interactions with GPT-...</td>\n",
       "    </tr>\n",
       "    <tr>\n",
       "      <th>20</th>\n",
       "      <td>20</td>\n",
       "      <td>Spam Prevention and Account Karma Management</td>\n",
       "    </tr>\n",
       "    <tr>\n",
       "      <th>21</th>\n",
       "      <td>21</td>\n",
       "      <td>Squirt: Addressing Spam and Hookup Content on ...</td>\n",
       "    </tr>\n",
       "  </tbody>\n",
       "</table>\n",
       "</div>"
      ],
      "text/plain": [
       "    Topic                                          GPT_label\n",
       "0       0                    AI and ChatGPT in Everyday Life\n",
       "1       1           Chatbot Interaction and Usage on Discord\n",
       "2       2  Discord Server Chatbot Interaction and User Re...\n",
       "3       3     AI Chatbot Interaction and Response automation\n",
       "4       4          Bot Moderation in Online Comment Sections\n",
       "5       5  AI Bots Managing Online Interactions in Chat P...\n",
       "6       6  Discord Server Moderation and ChatGPT Interaction\n",
       "7       7  AI Chatbot Interaction and Assistance on Cloud...\n",
       "8       8  Social Media Automated Responses and Bots Inte...\n",
       "9       9  Social Media Karma and Automated Account Moder...\n",
       "10     10     Obama and Trump References in AI Conversations\n",
       "11     11              Reddit Karma and Account Restrictions\n",
       "12     12  Discord Moderation Bot Commands and User Inter...\n",
       "13     13    Discord GPT Bot Moderation and User Interaction\n",
       "14     14                  ChatGPT Use Cases and Discussions\n",
       "15     15             Bing's AI Chatbot and User Interaction\n",
       "16     16         Dan Discussing ChatGPT Jailbreaking Ethics\n",
       "17     17   NFT Collecting and Discord Community Interaction\n",
       "18     18    Spam Threshold Management in Online Communities\n",
       "19     19  Managing Discord Server Interactions with GPT-...\n",
       "20     20       Spam Prevention and Account Karma Management\n",
       "21     21  Squirt: Addressing Spam and Hookup Content on ..."
      ]
     },
     "execution_count": 37,
     "metadata": {},
     "output_type": "execute_result"
    }
   ],
   "source": [
    "df_id_gpt"
   ]
  },
  {
   "cell_type": "code",
   "execution_count": null,
   "id": "ccde52c1",
   "metadata": {},
   "outputs": [],
   "source": []
  }
 ],
 "metadata": {
  "kernelspec": {
   "display_name": "tesi10",
   "language": "python",
   "name": "p10"
  },
  "language_info": {
   "codemirror_mode": {
    "name": "ipython",
    "version": 3
   },
   "file_extension": ".py",
   "mimetype": "text/x-python",
   "name": "python",
   "nbconvert_exporter": "python",
   "pygments_lexer": "ipython3",
   "version": "3.10.11"
  }
 },
 "nbformat": 4,
 "nbformat_minor": 5
}
