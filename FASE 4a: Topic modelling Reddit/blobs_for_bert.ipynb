{
 "cells": [
  {
   "cell_type": "code",
   "execution_count": 1,
   "metadata": {},
   "outputs": [],
   "source": [
    "import pandas as pd\n",
    "import gensim\n",
    "from gensim import corpora\n",
    "from gensim.models import LdaModel, LdaMulticore\n",
    "from gensim.corpora.dictionary import Dictionary\n",
    "import spacy\n",
    "from gensim.models import CoherenceModel\n",
    "from nltk.tokenize import word_tokenize\n",
    "import nltk\n",
    "from nltk.corpus import stopwords\n",
    "from nltk.stem import WordNetLemmatizer"
   ]
  },
  {
   "cell_type": "code",
   "execution_count": 2,
   "metadata": {},
   "outputs": [],
   "source": [
    "path = \"C:\\\\Users\\\\Tiziano Pacifico\\\\Desktop\\\\TESI\\\\RedditDS\\\\chatGPT\\\\splitted_df_sub_blob\\\\\"\n",
    "dfs = []\n",
    "for i in range(0,75):\n",
    "    file = f\"splitted_df_sub_blob{i+1}.json\"\n",
    "    df = pd.read_json(path+file,encoding='utf-8', lines = True)\n",
    "    dfs.append(df)"
   ]
  },
  {
   "cell_type": "code",
   "execution_count": 2,
   "metadata": {},
   "outputs": [],
   "source": [
    "path = \"C:\\\\Users\\\\Tiziano Pacifico\\\\Desktop\\\\TESI\\\\RedditDS\\\\chatGPT\\\\splitted_df_cleaned\\\\\"\n",
    "dfs1 = []\n",
    "for i in range(0,75):\n",
    "    file = f\"splitted_df_cleaned{i}.json\"\n",
    "    df = pd.read_json(path+file,encoding='utf-8', lines = True)\n",
    "    dfs1.append(df)"
   ]
  },
  {
   "cell_type": "code",
   "execution_count": 3,
   "metadata": {},
   "outputs": [],
   "source": [
    "path = \"C:\\\\Users\\\\Tiziano Pacifico\\\\Desktop\\\\TESI\\\\RedditDS\\\\chatGPT\\\\splitted_df_cleaned_b\\\\\"\n",
    "dfs2 = []\n",
    "for i in range(0,75):\n",
    "    file = f\"splitted_df_cleaned{i}_b.json\"\n",
    "    df = pd.read_json(path+file,encoding='utf-8', lines = True)\n",
    "    dfs2.append(df)"
   ]
  },
  {
   "cell_type": "code",
   "execution_count": 3,
   "metadata": {},
   "outputs": [
    {
     "data": {
      "text/html": [
       "<div>\n",
       "<style scoped>\n",
       "    .dataframe tbody tr th:only-of-type {\n",
       "        vertical-align: middle;\n",
       "    }\n",
       "\n",
       "    .dataframe tbody tr th {\n",
       "        vertical-align: top;\n",
       "    }\n",
       "\n",
       "    .dataframe thead th {\n",
       "        text-align: right;\n",
       "    }\n",
       "</style>\n",
       "<table border=\"1\" class=\"dataframe\">\n",
       "  <thead>\n",
       "    <tr style=\"text-align: right;\">\n",
       "      <th></th>\n",
       "      <th>id</th>\n",
       "      <th>author</th>\n",
       "      <th>created_utc</th>\n",
       "      <th>edited</th>\n",
       "      <th>num_comments</th>\n",
       "      <th>self_text</th>\n",
       "      <th>title</th>\n",
       "      <th>utc_datetime_str</th>\n",
       "      <th>clean_blob</th>\n",
       "    </tr>\n",
       "  </thead>\n",
       "  <tbody>\n",
       "    <tr>\n",
       "      <th>0</th>\n",
       "      <td>134stgc</td>\n",
       "      <td>tattedboi1_</td>\n",
       "      <td>1682960456</td>\n",
       "      <td>False</td>\n",
       "      <td>3</td>\n",
       "      <td>I don’t think Michael McIntyre has anything to...</td>\n",
       "      <td>ChatGPT does not do stand up comedy</td>\n",
       "      <td>2023-05-01 17:00:56</td>\n",
       "      <td>chatgpt stand dont think michael anything worr...</td>\n",
       "    </tr>\n",
       "    <tr>\n",
       "      <th>1</th>\n",
       "      <td>134sq2h</td>\n",
       "      <td>cstein123</td>\n",
       "      <td>1682960372</td>\n",
       "      <td>False</td>\n",
       "      <td>1</td>\n",
       "      <td>A little over a week ago I released a tool cal...</td>\n",
       "      <td>Dreamcatcher - ChatGPT Retrieval on Steroids</td>\n",
       "      <td>2023-05-01 16:59:32</td>\n",
       "      <td>chatgpt retrieval little week ago released too...</td>\n",
       "    </tr>\n",
       "    <tr>\n",
       "      <th>2</th>\n",
       "      <td>134slvb</td>\n",
       "      <td>Technology342</td>\n",
       "      <td>1682960259</td>\n",
       "      <td>False</td>\n",
       "      <td>2</td>\n",
       "      <td>[How to Jailbreak ChatGPT, List of Prompts](ht...</td>\n",
       "      <td>Thoughts on this?</td>\n",
       "      <td>2023-05-01 16:57:39</td>\n",
       "      <td>thoughts jailbreak chatgpt list prompts please...</td>\n",
       "    </tr>\n",
       "    <tr>\n",
       "      <th>3</th>\n",
       "      <td>134s4jz</td>\n",
       "      <td>WW_III_ANGRY</td>\n",
       "      <td>1682959802</td>\n",
       "      <td>False</td>\n",
       "      <td>1</td>\n",
       "      <td>**Me:**  What insights and discoveries have yo...</td>\n",
       "      <td>Emergent abilities of chat GPT. We don't reall...</td>\n",
       "      <td>2023-05-01 16:50:02</td>\n",
       "      <td>emergent abilities chat gpt dont really know t...</td>\n",
       "    </tr>\n",
       "    <tr>\n",
       "      <th>4</th>\n",
       "      <td>134rp29</td>\n",
       "      <td>NiceGuy-n2</td>\n",
       "      <td>1682959399</td>\n",
       "      <td>False</td>\n",
       "      <td>1</td>\n",
       "      <td></td>\n",
       "      <td>This chatgpt app gives me a 20 free chat credits</td>\n",
       "      <td>2023-05-01 16:43:19</td>\n",
       "      <td>chatgpt app gives free chat please respond com...</td>\n",
       "    </tr>\n",
       "  </tbody>\n",
       "</table>\n",
       "</div>"
      ],
      "text/plain": [
       "        id         author  created_utc  edited  num_comments  \\\n",
       "0  134stgc    tattedboi1_   1682960456   False             3   \n",
       "1  134sq2h      cstein123   1682960372   False             1   \n",
       "2  134slvb  Technology342   1682960259   False             2   \n",
       "3  134s4jz   WW_III_ANGRY   1682959802   False             1   \n",
       "4  134rp29     NiceGuy-n2   1682959399   False             1   \n",
       "\n",
       "                                           self_text  \\\n",
       "0  I don’t think Michael McIntyre has anything to...   \n",
       "1  A little over a week ago I released a tool cal...   \n",
       "2  [How to Jailbreak ChatGPT, List of Prompts](ht...   \n",
       "3  **Me:**  What insights and discoveries have yo...   \n",
       "4                                                      \n",
       "\n",
       "                                               title     utc_datetime_str  \\\n",
       "0                ChatGPT does not do stand up comedy  2023-05-01 17:00:56   \n",
       "1       Dreamcatcher - ChatGPT Retrieval on Steroids  2023-05-01 16:59:32   \n",
       "2                                  Thoughts on this?  2023-05-01 16:57:39   \n",
       "3  Emergent abilities of chat GPT. We don't reall...  2023-05-01 16:50:02   \n",
       "4   This chatgpt app gives me a 20 free chat credits  2023-05-01 16:43:19   \n",
       "\n",
       "                                          clean_blob  \n",
       "0  chatgpt stand dont think michael anything worr...  \n",
       "1  chatgpt retrieval little week ago released too...  \n",
       "2  thoughts jailbreak chatgpt list prompts please...  \n",
       "3  emergent abilities chat gpt dont really know t...  \n",
       "4  chatgpt app gives free chat please respond com...  "
      ]
     },
     "execution_count": 3,
     "metadata": {},
     "output_type": "execute_result"
    }
   ],
   "source": [
    "dfs1[0].head()"
   ]
  },
  {
   "cell_type": "code",
   "execution_count": 3,
   "metadata": {},
   "outputs": [
    {
     "data": {
      "text/html": [
       "<div>\n",
       "<style scoped>\n",
       "    .dataframe tbody tr th:only-of-type {\n",
       "        vertical-align: middle;\n",
       "    }\n",
       "\n",
       "    .dataframe tbody tr th {\n",
       "        vertical-align: top;\n",
       "    }\n",
       "\n",
       "    .dataframe thead th {\n",
       "        text-align: right;\n",
       "    }\n",
       "</style>\n",
       "<table border=\"1\" class=\"dataframe\">\n",
       "  <thead>\n",
       "    <tr style=\"text-align: right;\">\n",
       "      <th></th>\n",
       "      <th>id</th>\n",
       "      <th>author</th>\n",
       "      <th>created_utc</th>\n",
       "      <th>edited</th>\n",
       "      <th>num_comments</th>\n",
       "      <th>self_text</th>\n",
       "      <th>title</th>\n",
       "      <th>utc_datetime_str</th>\n",
       "      <th>blob</th>\n",
       "    </tr>\n",
       "  </thead>\n",
       "  <tbody>\n",
       "    <tr>\n",
       "      <th>0</th>\n",
       "      <td>134stgc</td>\n",
       "      <td>tattedboi1_</td>\n",
       "      <td>1682960456</td>\n",
       "      <td>False</td>\n",
       "      <td>3</td>\n",
       "      <td>I don’t think Michael McIntyre has anything to...</td>\n",
       "      <td>ChatGPT does not do stand up comedy</td>\n",
       "      <td>2023-05-01 17:00:56</td>\n",
       "      <td>ChatGPT does not do stand up comedyI don’t thi...</td>\n",
       "    </tr>\n",
       "    <tr>\n",
       "      <th>1</th>\n",
       "      <td>134sq2h</td>\n",
       "      <td>cstein123</td>\n",
       "      <td>1682960372</td>\n",
       "      <td>False</td>\n",
       "      <td>1</td>\n",
       "      <td>A little over a week ago I released a tool cal...</td>\n",
       "      <td>Dreamcatcher - ChatGPT Retrieval on Steroids</td>\n",
       "      <td>2023-05-01 16:59:32</td>\n",
       "      <td>Dreamcatcher - ChatGPT Retrieval on SteroidsA ...</td>\n",
       "    </tr>\n",
       "    <tr>\n",
       "      <th>2</th>\n",
       "      <td>134slvb</td>\n",
       "      <td>Technology342</td>\n",
       "      <td>1682960259</td>\n",
       "      <td>False</td>\n",
       "      <td>2</td>\n",
       "      <td>[How to Jailbreak ChatGPT, List of Prompts](ht...</td>\n",
       "      <td>Thoughts on this?</td>\n",
       "      <td>2023-05-01 16:57:39</td>\n",
       "      <td>Thoughts on this?[How to Jailbreak ChatGPT, Li...</td>\n",
       "    </tr>\n",
       "    <tr>\n",
       "      <th>3</th>\n",
       "      <td>134s4jz</td>\n",
       "      <td>WW_III_ANGRY</td>\n",
       "      <td>1682959802</td>\n",
       "      <td>False</td>\n",
       "      <td>1</td>\n",
       "      <td>**Me:**  What insights and discoveries have yo...</td>\n",
       "      <td>Emergent abilities of chat GPT. We don't reall...</td>\n",
       "      <td>2023-05-01 16:50:02</td>\n",
       "      <td>Emergent abilities of chat GPT. We don't reall...</td>\n",
       "    </tr>\n",
       "    <tr>\n",
       "      <th>4</th>\n",
       "      <td>134rp29</td>\n",
       "      <td>NiceGuy-n2</td>\n",
       "      <td>1682959399</td>\n",
       "      <td>False</td>\n",
       "      <td>1</td>\n",
       "      <td></td>\n",
       "      <td>This chatgpt app gives me a 20 free chat credits</td>\n",
       "      <td>2023-05-01 16:43:19</td>\n",
       "      <td>This chatgpt app gives me a 20 free chat credi...</td>\n",
       "    </tr>\n",
       "  </tbody>\n",
       "</table>\n",
       "</div>"
      ],
      "text/plain": [
       "        id         author  created_utc  edited  num_comments  \\\n",
       "0  134stgc    tattedboi1_   1682960456   False             3   \n",
       "1  134sq2h      cstein123   1682960372   False             1   \n",
       "2  134slvb  Technology342   1682960259   False             2   \n",
       "3  134s4jz   WW_III_ANGRY   1682959802   False             1   \n",
       "4  134rp29     NiceGuy-n2   1682959399   False             1   \n",
       "\n",
       "                                           self_text  \\\n",
       "0  I don’t think Michael McIntyre has anything to...   \n",
       "1  A little over a week ago I released a tool cal...   \n",
       "2  [How to Jailbreak ChatGPT, List of Prompts](ht...   \n",
       "3  **Me:**  What insights and discoveries have yo...   \n",
       "4                                                      \n",
       "\n",
       "                                               title     utc_datetime_str  \\\n",
       "0                ChatGPT does not do stand up comedy  2023-05-01 17:00:56   \n",
       "1       Dreamcatcher - ChatGPT Retrieval on Steroids  2023-05-01 16:59:32   \n",
       "2                                  Thoughts on this?  2023-05-01 16:57:39   \n",
       "3  Emergent abilities of chat GPT. We don't reall...  2023-05-01 16:50:02   \n",
       "4   This chatgpt app gives me a 20 free chat credits  2023-05-01 16:43:19   \n",
       "\n",
       "                                                blob  \n",
       "0  ChatGPT does not do stand up comedyI don’t thi...  \n",
       "1  Dreamcatcher - ChatGPT Retrieval on SteroidsA ...  \n",
       "2  Thoughts on this?[How to Jailbreak ChatGPT, Li...  \n",
       "3  Emergent abilities of chat GPT. We don't reall...  \n",
       "4  This chatgpt app gives me a 20 free chat credi...  "
      ]
     },
     "execution_count": 3,
     "metadata": {},
     "output_type": "execute_result"
    }
   ],
   "source": [
    "dfs[0].head()"
   ]
  },
  {
   "cell_type": "code",
   "execution_count": 4,
   "metadata": {},
   "outputs": [],
   "source": [
    "blobs =  []\n",
    "for df in dfs:\n",
    "    for b in list(df[\"blob\"]):\n",
    "        blobs.append(b)"
   ]
  },
  {
   "cell_type": "code",
   "execution_count": 5,
   "metadata": {},
   "outputs": [
    {
     "data": {
      "text/plain": [
       "73943"
      ]
     },
     "execution_count": 5,
     "metadata": {},
     "output_type": "execute_result"
    }
   ],
   "source": [
    "len(blobs)"
   ]
  },
  {
   "cell_type": "code",
   "execution_count": 6,
   "metadata": {},
   "outputs": [],
   "source": [
    "path = \"C:\\\\Users\\\\Tiziano Pacifico\\\\Desktop\\\\TESI\\\\RedditDS\\\\chatGPT\\\\BERTopic_out\\\\\"\n",
    "filename = \"blobs_for_bert_clean.txt\""
   ]
  },
  {
   "cell_type": "code",
   "execution_count": 7,
   "metadata": {},
   "outputs": [],
   "source": [
    "with open(path+filename, 'w', encoding=\"utf-8\") as file:\n",
    "    for elemento in blobs:\n",
    "        file.write(elemento.replace('\\n','') + '\\n') "
   ]
  },
  {
   "cell_type": "code",
   "execution_count": 4,
   "metadata": {},
   "outputs": [],
   "source": [
    "blobs_1 = []\n",
    "for df in dfs1:\n",
    "    for b in list(df[\"clean_blob\"]):\n",
    "        blobs_1.append(b)"
   ]
  },
  {
   "cell_type": "code",
   "execution_count": 8,
   "metadata": {},
   "outputs": [],
   "source": [
    "with open(path+filename, 'w', encoding=\"utf-8\") as file:\n",
    "    for elemento in blobs_1:\n",
    "        file.write(elemento.replace('\\n','') + '\\n') "
   ]
  },
  {
   "cell_type": "code",
   "execution_count": 6,
   "metadata": {},
   "outputs": [],
   "source": [
    "blobs_2 = []\n",
    "for df in dfs2:\n",
    "    for b in list(df[\"clean_blob\"]):\n",
    "        blobs_2.append(b)"
   ]
  },
  {
   "cell_type": "markdown",
   "metadata": {},
   "source": []
  },
  {
   "cell_type": "code",
   "execution_count": 8,
   "metadata": {},
   "outputs": [],
   "source": [
    "path = \"C:\\\\Users\\\\Tiziano Pacifico\\\\Desktop\\\\TESI\\\\RedditDS\\\\chatGPT\\\\BERTopic_out\\\\\"\n",
    "filename = \"blobs_for_bert_clean_b.txt\"\n",
    "with open(path+filename, 'w', encoding=\"utf-8\") as file:\n",
    "    for elemento in blobs_2:\n",
    "        file.write(elemento.replace('\\n','') + '\\n') "
   ]
  },
  {
   "cell_type": "code",
   "execution_count": null,
   "metadata": {},
   "outputs": [],
   "source": []
  }
 ],
 "metadata": {
  "kernelspec": {
   "display_name": "tesi10",
   "language": "python",
   "name": "p10"
  },
  "language_info": {
   "codemirror_mode": {
    "name": "ipython",
    "version": 3
   },
   "file_extension": ".py",
   "mimetype": "text/x-python",
   "name": "python",
   "nbconvert_exporter": "python",
   "pygments_lexer": "ipython3",
   "version": "3.10.11"
  }
 },
 "nbformat": 4,
 "nbformat_minor": 2
}
