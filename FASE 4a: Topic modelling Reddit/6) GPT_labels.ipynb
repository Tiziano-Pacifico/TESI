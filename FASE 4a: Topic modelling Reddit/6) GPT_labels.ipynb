{
 "cells": [
  {
   "cell_type": "code",
   "execution_count": 1,
   "metadata": {},
   "outputs": [],
   "source": [
    "import pandas as pd"
   ]
  },
  {
   "cell_type": "code",
   "execution_count": 2,
   "metadata": {},
   "outputs": [],
   "source": [
    "path = \"C:\\\\Users\\\\Tiziano Pacifico\\\\Desktop\\\\TESI\\\\RedditDS\\\\chatGPT\\\\BERTopic_out\\\\\"\n",
    "filename = \"BERTopic_gpt_out_df.json\""
   ]
  },
  {
   "cell_type": "code",
   "execution_count": 3,
   "metadata": {},
   "outputs": [],
   "source": [
    "df = pd.read_json(path+filename,lines=True)"
   ]
  },
  {
   "cell_type": "code",
   "execution_count": 4,
   "metadata": {},
   "outputs": [
    {
     "data": {
      "text/html": [
       "<div>\n",
       "<style scoped>\n",
       "    .dataframe tbody tr th:only-of-type {\n",
       "        vertical-align: middle;\n",
       "    }\n",
       "\n",
       "    .dataframe tbody tr th {\n",
       "        vertical-align: top;\n",
       "    }\n",
       "\n",
       "    .dataframe thead th {\n",
       "        text-align: right;\n",
       "    }\n",
       "</style>\n",
       "<table border=\"1\" class=\"dataframe\">\n",
       "  <thead>\n",
       "    <tr style=\"text-align: right;\">\n",
       "      <th></th>\n",
       "      <th>Document</th>\n",
       "      <th>Topic</th>\n",
       "      <th>id</th>\n",
       "      <th>BERT_out</th>\n",
       "      <th>top_words_str</th>\n",
       "      <th>GPT_label</th>\n",
       "    </tr>\n",
       "  </thead>\n",
       "  <tbody>\n",
       "    <tr>\n",
       "      <th>0</th>\n",
       "      <td>chatgpt stand dont think michael anyth hey ple...</td>\n",
       "      <td>7</td>\n",
       "      <td>134stgc</td>\n",
       "      <td>[[bot, 0.12105691510000001], [pleas, 0.0709474...</td>\n",
       "      <td>(bot, 0.12105691510000001) (pleas, 0.070947460...</td>\n",
       "      <td>AI Chatbot Interaction and Assistance on Cloud...</td>\n",
       "    </tr>\n",
       "    <tr>\n",
       "      <th>1</th>\n",
       "      <td>chatgpt app give free chat pleas respond comme...</td>\n",
       "      <td>7</td>\n",
       "      <td>134rp29</td>\n",
       "      <td>[[bot, 0.12105691510000001], [pleas, 0.0709474...</td>\n",
       "      <td>(bot, 0.12105691510000001) (pleas, 0.070947460...</td>\n",
       "      <td>AI Chatbot Interaction and Assistance on Cloud...</td>\n",
       "    </tr>\n",
       "    <tr>\n",
       "      <th>2</th>\n",
       "      <td>automat grammar visual model chatgpt pleas res...</td>\n",
       "      <td>7</td>\n",
       "      <td>134rk8e</td>\n",
       "      <td>[[bot, 0.12105691510000001], [pleas, 0.0709474...</td>\n",
       "      <td>(bot, 0.12105691510000001) (pleas, 0.070947460...</td>\n",
       "      <td>AI Chatbot Interaction and Assistance on Cloud...</td>\n",
       "    </tr>\n",
       "    <tr>\n",
       "      <th>3</th>\n",
       "      <td>host pleas respond comment prompt use output p...</td>\n",
       "      <td>7</td>\n",
       "      <td>134r7kv</td>\n",
       "      <td>[[bot, 0.12105691510000001], [pleas, 0.0709474...</td>\n",
       "      <td>(bot, 0.12105691510000001) (pleas, 0.070947460...</td>\n",
       "      <td>AI Chatbot Interaction and Assistance on Cloud...</td>\n",
       "    </tr>\n",
       "    <tr>\n",
       "      <th>4</th>\n",
       "      <td>there pleas respond comment prompt use output ...</td>\n",
       "      <td>7</td>\n",
       "      <td>134r49c</td>\n",
       "      <td>[[bot, 0.12105691510000001], [pleas, 0.0709474...</td>\n",
       "      <td>(bot, 0.12105691510000001) (pleas, 0.070947460...</td>\n",
       "      <td>AI Chatbot Interaction and Assistance on Cloud...</td>\n",
       "    </tr>\n",
       "  </tbody>\n",
       "</table>\n",
       "</div>"
      ],
      "text/plain": [
       "                                            Document  Topic       id  \\\n",
       "0  chatgpt stand dont think michael anyth hey ple...      7  134stgc   \n",
       "1  chatgpt app give free chat pleas respond comme...      7  134rp29   \n",
       "2  automat grammar visual model chatgpt pleas res...      7  134rk8e   \n",
       "3  host pleas respond comment prompt use output p...      7  134r7kv   \n",
       "4  there pleas respond comment prompt use output ...      7  134r49c   \n",
       "\n",
       "                                            BERT_out  \\\n",
       "0  [[bot, 0.12105691510000001], [pleas, 0.0709474...   \n",
       "1  [[bot, 0.12105691510000001], [pleas, 0.0709474...   \n",
       "2  [[bot, 0.12105691510000001], [pleas, 0.0709474...   \n",
       "3  [[bot, 0.12105691510000001], [pleas, 0.0709474...   \n",
       "4  [[bot, 0.12105691510000001], [pleas, 0.0709474...   \n",
       "\n",
       "                                       top_words_str  \\\n",
       "0  (bot, 0.12105691510000001) (pleas, 0.070947460...   \n",
       "1  (bot, 0.12105691510000001) (pleas, 0.070947460...   \n",
       "2  (bot, 0.12105691510000001) (pleas, 0.070947460...   \n",
       "3  (bot, 0.12105691510000001) (pleas, 0.070947460...   \n",
       "4  (bot, 0.12105691510000001) (pleas, 0.070947460...   \n",
       "\n",
       "                                           GPT_label  \n",
       "0  AI Chatbot Interaction and Assistance on Cloud...  \n",
       "1  AI Chatbot Interaction and Assistance on Cloud...  \n",
       "2  AI Chatbot Interaction and Assistance on Cloud...  \n",
       "3  AI Chatbot Interaction and Assistance on Cloud...  \n",
       "4  AI Chatbot Interaction and Assistance on Cloud...  "
      ]
     },
     "execution_count": 4,
     "metadata": {},
     "output_type": "execute_result"
    }
   ],
   "source": [
    "df.head()"
   ]
  },
  {
   "cell_type": "code",
   "execution_count": 5,
   "metadata": {},
   "outputs": [],
   "source": [
    "df = df.sort_values(by='Topic')"
   ]
  },
  {
   "cell_type": "code",
   "execution_count": 6,
   "metadata": {},
   "outputs": [],
   "source": [
    "GPT_topics = list(df['GPT_label'].drop_duplicates())"
   ]
  },
  {
   "cell_type": "code",
   "execution_count": 7,
   "metadata": {},
   "outputs": [
    {
     "data": {
      "text/plain": [
       "['AI and ChatGPT in Everyday Life',\n",
       " 'Chatbot Interaction and Usage on Discord',\n",
       " 'Discord Server Chatbot Interaction and User Requests',\n",
       " 'AI Chatbot Interaction and Response automation',\n",
       " 'Bot Moderation in Online Comment Sections',\n",
       " 'AI Bots Managing Online Interactions in Chat Platforms',\n",
       " 'Discord Server Moderation and ChatGPT Interaction',\n",
       " 'AI Chatbot Interaction and Assistance on Cloud Platforms',\n",
       " 'Social Media Automated Responses and Bots Interaction',\n",
       " 'Social Media Karma and Automated Account Moderation',\n",
       " 'Obama and Trump References in AI Conversations',\n",
       " 'Reddit Karma and Account Restrictions',\n",
       " 'Discord Moderation Bot Commands and User Interaction',\n",
       " 'Discord GPT Bot Moderation and User Interaction',\n",
       " 'ChatGPT Use Cases and Discussions',\n",
       " \"Bing's AI Chatbot and User Interaction\",\n",
       " 'Dan Discussing ChatGPT Jailbreaking Ethics',\n",
       " 'NFT Collecting and Discord Community Interaction',\n",
       " 'Spam Threshold Management in Online Communities',\n",
       " 'Managing Discord Server Interactions with GPT-powered Bots',\n",
       " 'Spam Prevention and Account Karma Management',\n",
       " 'Squirt: Addressing Spam and Hookup Content on Online Platforms']"
      ]
     },
     "execution_count": 7,
     "metadata": {},
     "output_type": "execute_result"
    }
   ],
   "source": [
    "GPT_topics"
   ]
  },
  {
   "cell_type": "code",
   "execution_count": 8,
   "metadata": {},
   "outputs": [],
   "source": [
    "path = \"C:\\\\Users\\\\Tiziano Pacifico\\\\Desktop\\\\TESI\\\\RedditDS\\\\chatGPT\\\\BERTopic_out\\\\\"\n",
    "filename = \"GPT_labels.txt\"\n",
    "with open(path+filename, \"w\") as file:\n",
    "    for elemento in GPT_topics:\n",
    "        # Scrivere ogni elemento della lista nel file seguito da un a capo\n",
    "        file.write(elemento + \"\\n\")"
   ]
  },
  {
   "cell_type": "code",
   "execution_count": null,
   "metadata": {},
   "outputs": [],
   "source": []
  }
 ],
 "metadata": {
  "kernelspec": {
   "display_name": "tesi10",
   "language": "python",
   "name": "p10"
  },
  "language_info": {
   "codemirror_mode": {
    "name": "ipython",
    "version": 3
   },
   "file_extension": ".py",
   "mimetype": "text/x-python",
   "name": "python",
   "nbconvert_exporter": "python",
   "pygments_lexer": "ipython3",
   "version": "3.10.11"
  }
 },
 "nbformat": 4,
 "nbformat_minor": 2
}
