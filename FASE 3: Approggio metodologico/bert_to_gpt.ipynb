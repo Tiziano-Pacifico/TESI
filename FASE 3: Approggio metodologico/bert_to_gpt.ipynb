{
 "cells": [
  {
   "cell_type": "code",
   "execution_count": 69,
   "metadata": {},
   "outputs": [],
   "source": [
    "from decouple import Config, RepositoryEnv\n",
    "from json import dumps\n",
    "import json\n",
    "import openai\n",
    "from langchain.prompts import ChatPromptTemplate\n",
    "from langchain.chat_models import ChatOpenAI\n",
    "import pandas as pd\n",
    "from pydantic import BaseModel, ValidationError, Field\n",
    "from typing import List, Tuple , Union, Optional\n",
    "from langchain.schema import HumanMessage, SystemMessage, AIMessage"
   ]
  },
  {
   "cell_type": "code",
   "execution_count": 70,
   "metadata": {},
   "outputs": [],
   "source": [
    "from sentence_transformers import SentenceTransformer, util"
   ]
  },
  {
   "cell_type": "code",
   "execution_count": 71,
   "metadata": {},
   "outputs": [],
   "source": [
    "import time\n",
    "import matplotlib.pyplot as plt\n",
    "import seaborn as sns"
   ]
  },
  {
   "cell_type": "code",
   "execution_count": 72,
   "metadata": {},
   "outputs": [],
   "source": [
    "DOTENV_FILE = 'C:\\\\Users\\\\Tiziano Pacifico\\\\Desktop\\\\OpenAICourses\\\\.env'\n",
    "env_config = Config(RepositoryEnv(DOTENV_FILE))\n",
    "openai.api_key = env_config.get('CHATGPT_API_KEY')"
   ]
  },
  {
   "cell_type": "code",
   "execution_count": 73,
   "metadata": {},
   "outputs": [],
   "source": [
    "path = \"C:\\\\Users\\\\Tiziano Pacifico\\\\Desktop\\\\Applicativi personali\\\\Test Bertopic\\Output\\\\\"\n",
    "filename = \"bert_result.json\""
   ]
  },
  {
   "cell_type": "code",
   "execution_count": 74,
   "metadata": {},
   "outputs": [],
   "source": [
    "df = pd.read_json(path+filename,lines=True)"
   ]
  },
  {
   "cell_type": "code",
   "execution_count": 75,
   "metadata": {},
   "outputs": [],
   "source": [
    "def create_topwords_string(top_words_list):\n",
    "    topwords_string = ''\n",
    "    for line in top_words_list:\n",
    "        topwords_string += f\"({line[0]}, {line[1]}) \"\n",
    "    return topwords_string"
   ]
  },
  {
   "cell_type": "code",
   "execution_count": 76,
   "metadata": {},
   "outputs": [
    {
     "data": {
      "text/plain": [
       "[['culture', 0.1025166737],\n",
       " ['pop', 0.0867954693],\n",
       " ['popular', 0.060102045400000005],\n",
       " ['entertainment', 0.0443290389],\n",
       " ['fashion', 0.0409196078],\n",
       " ['norms', 0.0384180662],\n",
       " ['trends', 0.0366076776],\n",
       " ['societal', 0.0344830633],\n",
       " ['movies', 0.0320962724],\n",
       " ['influence', 0.026422253200000002],\n",
       " ['society', 0.023914337900000002],\n",
       " ['choices', 0.0238645743],\n",
       " ['shows', 0.0234683147],\n",
       " ['influenced', 0.0230960484],\n",
       " ['representation', 0.022744625100000002],\n",
       " ['diverse', 0.0196185865],\n",
       " ['it', 0.0193858108],\n",
       " ['its', 0.018870697000000002],\n",
       " ['the', 0.018656005700000002],\n",
       " ['has', 0.0183413044],\n",
       " ['shapes', 0.0181665867],\n",
       " ['our', 0.0171312625],\n",
       " ['and', 0.016799046],\n",
       " ['for', 0.0167709762],\n",
       " ['instance', 0.0167546547],\n",
       " ['beliefs', 0.016390110700000002],\n",
       " ['by', 0.016293981000000003],\n",
       " ['in', 0.015478194],\n",
       " ['television', 0.0149687415],\n",
       " ['music', 0.0145265451]]"
      ]
     },
     "execution_count": 76,
     "metadata": {},
     "output_type": "execute_result"
    }
   ],
   "source": [
    "df['top_words'].iloc[0]"
   ]
  },
  {
   "cell_type": "code",
   "execution_count": 77,
   "metadata": {},
   "outputs": [],
   "source": [
    "df['top_words_str'] = df['top_words'].apply(create_topwords_string)"
   ]
  },
  {
   "cell_type": "code",
   "execution_count": 78,
   "metadata": {},
   "outputs": [
    {
     "data": {
      "text/plain": [
       "'(culture, 0.1025166737) (pop, 0.0867954693) (popular, 0.060102045400000005) (entertainment, 0.0443290389) (fashion, 0.0409196078) (norms, 0.0384180662) (trends, 0.0366076776) (societal, 0.0344830633) (movies, 0.0320962724) (influence, 0.026422253200000002) (society, 0.023914337900000002) (choices, 0.0238645743) (shows, 0.0234683147) (influenced, 0.0230960484) (representation, 0.022744625100000002) (diverse, 0.0196185865) (it, 0.0193858108) (its, 0.018870697000000002) (the, 0.018656005700000002) (has, 0.0183413044) (shapes, 0.0181665867) (our, 0.0171312625) (and, 0.016799046) (for, 0.0167709762) (instance, 0.0167546547) (beliefs, 0.016390110700000002) (by, 0.016293981000000003) (in, 0.015478194) (television, 0.0149687415) (music, 0.0145265451) '"
      ]
     },
     "execution_count": 78,
     "metadata": {},
     "output_type": "execute_result"
    }
   ],
   "source": [
    "df['top_words_str'].iloc[0]"
   ]
  },
  {
   "cell_type": "code",
   "execution_count": 79,
   "metadata": {},
   "outputs": [],
   "source": [
    "systemMessage = SystemMessage(content=\"\"\"You will act as a topic label creator. \\\n",
    "You will create a label that identify a topic given a set of 30 keywords that are meaningfull for the topic.\\\n",
    "                               The topic can be one word or one short sentence, depending how many words you need\\\n",
    "                              to capture the essence of the text. The text will be given in input as human message. Give as output just the sentence or the words that identify the topic.\\\n",
    "                              The keywords list will be given as a result of a BERTopic alghoritm over a short article in the following format: ###\\\n",
    "                              \\(celebrities, 0.0569693501) (influence, 0.0549841217) (their, 0.0467051602) (the, 0.044765043500000004) (and, 0.0443447511) (culture, 0.042227265) (to, 0.0411800998)....\\\n",
    "                                where each number after the word state how important is the word in the topic description in terms of c-TF_IDF score\"\"\")"
   ]
  },
  {
   "cell_type": "code",
   "execution_count": 80,
   "metadata": {},
   "outputs": [
    {
     "data": {
      "text/html": [
       "<div>\n",
       "<style scoped>\n",
       "    .dataframe tbody tr th:only-of-type {\n",
       "        vertical-align: middle;\n",
       "    }\n",
       "\n",
       "    .dataframe tbody tr th {\n",
       "        vertical-align: top;\n",
       "    }\n",
       "\n",
       "    .dataframe thead th {\n",
       "        text-align: right;\n",
       "    }\n",
       "</style>\n",
       "<table border=\"1\" class=\"dataframe\">\n",
       "  <thead>\n",
       "    <tr style=\"text-align: right;\">\n",
       "      <th></th>\n",
       "      <th>Articolo</th>\n",
       "      <th>Argomento</th>\n",
       "      <th>Descrizione</th>\n",
       "      <th>Topic</th>\n",
       "      <th>top_words</th>\n",
       "      <th>top_words_str</th>\n",
       "    </tr>\n",
       "  </thead>\n",
       "  <tbody>\n",
       "    <tr>\n",
       "      <th>0</th>\n",
       "      <td>Pop culture, short for popular culture, refers...</td>\n",
       "      <td>The Influence of Pop Culture on Society</td>\n",
       "      <td>Explore how popular culture trends influence f...</td>\n",
       "      <td>38</td>\n",
       "      <td>[[culture, 0.1025166737], [pop, 0.0867954693],...</td>\n",
       "      <td>(culture, 0.1025166737) (pop, 0.0867954693) (p...</td>\n",
       "    </tr>\n",
       "    <tr>\n",
       "      <th>1</th>\n",
       "      <td>In our fast-paced and hectic lives, we often f...</td>\n",
       "      <td>The Benefits of Mindful Eating</td>\n",
       "      <td>Learn how practicing mindful eating can improv...</td>\n",
       "      <td>29</td>\n",
       "      <td>[[eating, 0.1186194418], [food, 0.0718457016],...</td>\n",
       "      <td>(eating, 0.1186194418) (food, 0.0718457016) (m...</td>\n",
       "    </tr>\n",
       "    <tr>\n",
       "      <th>2</th>\n",
       "      <td>Financial literacy is a crucial skill that eve...</td>\n",
       "      <td>The Importance of Financial Literacy</td>\n",
       "      <td>Learn about the significance of understanding ...</td>\n",
       "      <td>49</td>\n",
       "      <td>[[financial, 0.1605916457], [literacy, 0.09661...</td>\n",
       "      <td>(financial, 0.1605916457) (literacy, 0.0966170...</td>\n",
       "    </tr>\n",
       "    <tr>\n",
       "      <th>3</th>\n",
       "      <td>Fast fashion has become a dominant force in th...</td>\n",
       "      <td>The Impact of Fast Fashion on the Environment</td>\n",
       "      <td>Explore the environmental consequences of fast...</td>\n",
       "      <td>33</td>\n",
       "      <td>[[fashion, 0.09808000430000001], [fast, 0.0800...</td>\n",
       "      <td>(fashion, 0.09808000430000001) (fast, 0.080015...</td>\n",
       "    </tr>\n",
       "    <tr>\n",
       "      <th>4</th>\n",
       "      <td>Physical exercise has long been known to have ...</td>\n",
       "      <td>The Benefits of Regular Exercise for Mental He...</td>\n",
       "      <td>Learn how physical activity can improve mental...</td>\n",
       "      <td>21</td>\n",
       "      <td>[[exercise, 0.0724763518], [mental, 0.05382092...</td>\n",
       "      <td>(exercise, 0.0724763518) (mental, 0.05382092) ...</td>\n",
       "    </tr>\n",
       "  </tbody>\n",
       "</table>\n",
       "</div>"
      ],
      "text/plain": [
       "                                            Articolo  \\\n",
       "0  Pop culture, short for popular culture, refers...   \n",
       "1  In our fast-paced and hectic lives, we often f...   \n",
       "2  Financial literacy is a crucial skill that eve...   \n",
       "3  Fast fashion has become a dominant force in th...   \n",
       "4  Physical exercise has long been known to have ...   \n",
       "\n",
       "                                           Argomento  \\\n",
       "0            The Influence of Pop Culture on Society   \n",
       "1                     The Benefits of Mindful Eating   \n",
       "2               The Importance of Financial Literacy   \n",
       "3      The Impact of Fast Fashion on the Environment   \n",
       "4  The Benefits of Regular Exercise for Mental He...   \n",
       "\n",
       "                                         Descrizione  Topic  \\\n",
       "0  Explore how popular culture trends influence f...     38   \n",
       "1  Learn how practicing mindful eating can improv...     29   \n",
       "2  Learn about the significance of understanding ...     49   \n",
       "3  Explore the environmental consequences of fast...     33   \n",
       "4  Learn how physical activity can improve mental...     21   \n",
       "\n",
       "                                           top_words  \\\n",
       "0  [[culture, 0.1025166737], [pop, 0.0867954693],...   \n",
       "1  [[eating, 0.1186194418], [food, 0.0718457016],...   \n",
       "2  [[financial, 0.1605916457], [literacy, 0.09661...   \n",
       "3  [[fashion, 0.09808000430000001], [fast, 0.0800...   \n",
       "4  [[exercise, 0.0724763518], [mental, 0.05382092...   \n",
       "\n",
       "                                       top_words_str  \n",
       "0  (culture, 0.1025166737) (pop, 0.0867954693) (p...  \n",
       "1  (eating, 0.1186194418) (food, 0.0718457016) (m...  \n",
       "2  (financial, 0.1605916457) (literacy, 0.0966170...  \n",
       "3  (fashion, 0.09808000430000001) (fast, 0.080015...  \n",
       "4  (exercise, 0.0724763518) (mental, 0.05382092) ...  "
      ]
     },
     "execution_count": 80,
     "metadata": {},
     "output_type": "execute_result"
    }
   ],
   "source": [
    "df.head()"
   ]
  },
  {
   "cell_type": "code",
   "execution_count": 81,
   "metadata": {},
   "outputs": [],
   "source": [
    "BERT_out = list(df['top_words_str'].unique())"
   ]
  },
  {
   "cell_type": "code",
   "execution_count": 82,
   "metadata": {},
   "outputs": [],
   "source": [
    "chat = ChatOpenAI(temperature=0.7, model=\"gpt-3.5-turbo-0613\")"
   ]
  },
  {
   "cell_type": "code",
   "execution_count": 83,
   "metadata": {},
   "outputs": [
    {
     "name": "stdout",
     "output_type": "stream",
     "text": [
      "elaborato messaggio n: 0\n",
      "elaborato messaggio n: 1\n",
      "elaborato messaggio n: 2\n",
      "elaborato messaggio n: 3\n",
      "elaborato messaggio n: 4\n",
      "elaborato messaggio n: 5\n",
      "elaborato messaggio n: 6\n",
      "elaborato messaggio n: 7\n",
      "elaborato messaggio n: 8\n",
      "elaborato messaggio n: 9\n",
      "elaborato messaggio n: 10\n",
      "elaborato messaggio n: 11\n",
      "elaborato messaggio n: 12\n",
      "elaborato messaggio n: 13\n",
      "elaborato messaggio n: 14\n",
      "elaborato messaggio n: 15\n",
      "elaborato messaggio n: 16\n",
      "elaborato messaggio n: 17\n",
      "elaborato messaggio n: 18\n",
      "elaborato messaggio n: 19\n",
      "elaborato messaggio n: 20\n",
      "elaborato messaggio n: 21\n",
      "elaborato messaggio n: 22\n",
      "elaborato messaggio n: 23\n",
      "elaborato messaggio n: 24\n",
      "elaborato messaggio n: 25\n",
      "elaborato messaggio n: 26\n",
      "elaborato messaggio n: 27\n",
      "elaborato messaggio n: 28\n",
      "elaborato messaggio n: 29\n",
      "elaborato messaggio n: 30\n",
      "elaborato messaggio n: 31\n",
      "elaborato messaggio n: 32\n",
      "elaborato messaggio n: 33\n",
      "elaborato messaggio n: 34\n",
      "elaborato messaggio n: 35\n",
      "elaborato messaggio n: 36\n",
      "elaborato messaggio n: 37\n",
      "elaborato messaggio n: 38\n",
      "elaborato messaggio n: 39\n",
      "elaborato messaggio n: 40\n",
      "elaborato messaggio n: 41\n",
      "elaborato messaggio n: 42\n",
      "elaborato messaggio n: 43\n",
      "elaborato messaggio n: 44\n",
      "elaborato messaggio n: 45\n",
      "elaborato messaggio n: 46\n",
      "elaborato messaggio n: 47\n",
      "elaborato messaggio n: 48\n",
      "elaborato messaggio n: 49\n",
      "elaborato messaggio n: 50\n",
      "elaborato messaggio n: 51\n"
     ]
    }
   ],
   "source": [
    "GPT_topics = []\n",
    "for i,out in enumerate(BERT_out):\n",
    "    humanMessage=HumanMessage(content=f\"Create a topic label for the following LDA output{out}\")\n",
    "    messages = [systemMessage, humanMessage]\n",
    "    topic = chat(messages)\n",
    "    print(f\"elaborato messaggio n: {i}\")\n",
    "    GPT_topics.append((out,topic))"
   ]
  },
  {
   "cell_type": "code",
   "execution_count": 84,
   "metadata": {},
   "outputs": [],
   "source": [
    "GPT_topics_str = []\n",
    "for s in GPT_topics:\n",
    "    GPT_topics_str.append((s[0],s[1].content))"
   ]
  },
  {
   "cell_type": "code",
   "execution_count": 85,
   "metadata": {},
   "outputs": [],
   "source": [
    "GPT_topics_clean = []\n",
    "for topic in GPT_topics_str:\n",
    "    if len(topic[1].split(\"\\\"\")) > 1:\n",
    "        GPT_topics_clean.append((topic[0],topic[1].split(\"\\\"\")[1]))\n",
    "    else:GPT_topics_clean.append(topic)"
   ]
  },
  {
   "cell_type": "code",
   "execution_count": 86,
   "metadata": {},
   "outputs": [
    {
     "data": {
      "text/plain": [
       "'(culture, 0.1025166737) (pop, 0.0867954693) (popular, 0.060102045400000005) (entertainment, 0.0443290389) (fashion, 0.0409196078) (norms, 0.0384180662) (trends, 0.0366076776) (societal, 0.0344830633) (movies, 0.0320962724) (influence, 0.026422253200000002) (society, 0.023914337900000002) (choices, 0.0238645743) (shows, 0.0234683147) (influenced, 0.0230960484) (representation, 0.022744625100000002) (diverse, 0.0196185865) (it, 0.0193858108) (its, 0.018870697000000002) (the, 0.018656005700000002) (has, 0.0183413044) (shapes, 0.0181665867) (our, 0.0171312625) (and, 0.016799046) (for, 0.0167709762) (instance, 0.0167546547) (beliefs, 0.016390110700000002) (by, 0.016293981000000003) (in, 0.015478194) (television, 0.0149687415) (music, 0.0145265451) '"
      ]
     },
     "execution_count": 86,
     "metadata": {},
     "output_type": "execute_result"
    }
   ],
   "source": [
    "GPT_topics_clean[0][0]"
   ]
  },
  {
   "cell_type": "code",
   "execution_count": 87,
   "metadata": {},
   "outputs": [
    {
     "data": {
      "text/html": [
       "<div>\n",
       "<style scoped>\n",
       "    .dataframe tbody tr th:only-of-type {\n",
       "        vertical-align: middle;\n",
       "    }\n",
       "\n",
       "    .dataframe tbody tr th {\n",
       "        vertical-align: top;\n",
       "    }\n",
       "\n",
       "    .dataframe thead th {\n",
       "        text-align: right;\n",
       "    }\n",
       "</style>\n",
       "<table border=\"1\" class=\"dataframe\">\n",
       "  <thead>\n",
       "    <tr style=\"text-align: right;\">\n",
       "      <th></th>\n",
       "      <th>Articolo</th>\n",
       "      <th>Argomento</th>\n",
       "      <th>Descrizione</th>\n",
       "      <th>Topic</th>\n",
       "      <th>top_words</th>\n",
       "      <th>top_words_str</th>\n",
       "    </tr>\n",
       "  </thead>\n",
       "  <tbody>\n",
       "    <tr>\n",
       "      <th>0</th>\n",
       "      <td>Pop culture, short for popular culture, refers...</td>\n",
       "      <td>The Influence of Pop Culture on Society</td>\n",
       "      <td>Explore how popular culture trends influence f...</td>\n",
       "      <td>38</td>\n",
       "      <td>[[culture, 0.1025166737], [pop, 0.0867954693],...</td>\n",
       "      <td>(culture, 0.1025166737) (pop, 0.0867954693) (p...</td>\n",
       "    </tr>\n",
       "    <tr>\n",
       "      <th>1</th>\n",
       "      <td>In our fast-paced and hectic lives, we often f...</td>\n",
       "      <td>The Benefits of Mindful Eating</td>\n",
       "      <td>Learn how practicing mindful eating can improv...</td>\n",
       "      <td>29</td>\n",
       "      <td>[[eating, 0.1186194418], [food, 0.0718457016],...</td>\n",
       "      <td>(eating, 0.1186194418) (food, 0.0718457016) (m...</td>\n",
       "    </tr>\n",
       "    <tr>\n",
       "      <th>2</th>\n",
       "      <td>Financial literacy is a crucial skill that eve...</td>\n",
       "      <td>The Importance of Financial Literacy</td>\n",
       "      <td>Learn about the significance of understanding ...</td>\n",
       "      <td>49</td>\n",
       "      <td>[[financial, 0.1605916457], [literacy, 0.09661...</td>\n",
       "      <td>(financial, 0.1605916457) (literacy, 0.0966170...</td>\n",
       "    </tr>\n",
       "    <tr>\n",
       "      <th>3</th>\n",
       "      <td>Fast fashion has become a dominant force in th...</td>\n",
       "      <td>The Impact of Fast Fashion on the Environment</td>\n",
       "      <td>Explore the environmental consequences of fast...</td>\n",
       "      <td>33</td>\n",
       "      <td>[[fashion, 0.09808000430000001], [fast, 0.0800...</td>\n",
       "      <td>(fashion, 0.09808000430000001) (fast, 0.080015...</td>\n",
       "    </tr>\n",
       "    <tr>\n",
       "      <th>4</th>\n",
       "      <td>Physical exercise has long been known to have ...</td>\n",
       "      <td>The Benefits of Regular Exercise for Mental He...</td>\n",
       "      <td>Learn how physical activity can improve mental...</td>\n",
       "      <td>21</td>\n",
       "      <td>[[exercise, 0.0724763518], [mental, 0.05382092...</td>\n",
       "      <td>(exercise, 0.0724763518) (mental, 0.05382092) ...</td>\n",
       "    </tr>\n",
       "  </tbody>\n",
       "</table>\n",
       "</div>"
      ],
      "text/plain": [
       "                                            Articolo  \\\n",
       "0  Pop culture, short for popular culture, refers...   \n",
       "1  In our fast-paced and hectic lives, we often f...   \n",
       "2  Financial literacy is a crucial skill that eve...   \n",
       "3  Fast fashion has become a dominant force in th...   \n",
       "4  Physical exercise has long been known to have ...   \n",
       "\n",
       "                                           Argomento  \\\n",
       "0            The Influence of Pop Culture on Society   \n",
       "1                     The Benefits of Mindful Eating   \n",
       "2               The Importance of Financial Literacy   \n",
       "3      The Impact of Fast Fashion on the Environment   \n",
       "4  The Benefits of Regular Exercise for Mental He...   \n",
       "\n",
       "                                         Descrizione  Topic  \\\n",
       "0  Explore how popular culture trends influence f...     38   \n",
       "1  Learn how practicing mindful eating can improv...     29   \n",
       "2  Learn about the significance of understanding ...     49   \n",
       "3  Explore the environmental consequences of fast...     33   \n",
       "4  Learn how physical activity can improve mental...     21   \n",
       "\n",
       "                                           top_words  \\\n",
       "0  [[culture, 0.1025166737], [pop, 0.0867954693],...   \n",
       "1  [[eating, 0.1186194418], [food, 0.0718457016],...   \n",
       "2  [[financial, 0.1605916457], [literacy, 0.09661...   \n",
       "3  [[fashion, 0.09808000430000001], [fast, 0.0800...   \n",
       "4  [[exercise, 0.0724763518], [mental, 0.05382092...   \n",
       "\n",
       "                                       top_words_str  \n",
       "0  (culture, 0.1025166737) (pop, 0.0867954693) (p...  \n",
       "1  (eating, 0.1186194418) (food, 0.0718457016) (m...  \n",
       "2  (financial, 0.1605916457) (literacy, 0.0966170...  \n",
       "3  (fashion, 0.09808000430000001) (fast, 0.080015...  \n",
       "4  (exercise, 0.0724763518) (mental, 0.05382092) ...  "
      ]
     },
     "execution_count": 87,
     "metadata": {},
     "output_type": "execute_result"
    }
   ],
   "source": [
    "df.head()"
   ]
  },
  {
   "cell_type": "code",
   "execution_count": 88,
   "metadata": {},
   "outputs": [],
   "source": [
    "def add_topic_label(df_col):\n",
    "    for topic in GPT_topics_clean:\n",
    "        if topic[0] == df_col:\n",
    "            return topic[1]"
   ]
  },
  {
   "cell_type": "code",
   "execution_count": 89,
   "metadata": {},
   "outputs": [],
   "source": [
    "df['GPT_label'] = df['top_words_str'].apply(add_topic_label)"
   ]
  },
  {
   "cell_type": "code",
   "execution_count": 105,
   "metadata": {},
   "outputs": [
    {
     "data": {
      "text/html": [
       "<div>\n",
       "<style scoped>\n",
       "    .dataframe tbody tr th:only-of-type {\n",
       "        vertical-align: middle;\n",
       "    }\n",
       "\n",
       "    .dataframe tbody tr th {\n",
       "        vertical-align: top;\n",
       "    }\n",
       "\n",
       "    .dataframe thead th {\n",
       "        text-align: right;\n",
       "    }\n",
       "</style>\n",
       "<table border=\"1\" class=\"dataframe\">\n",
       "  <thead>\n",
       "    <tr style=\"text-align: right;\">\n",
       "      <th></th>\n",
       "      <th>Articolo</th>\n",
       "      <th>Argomento</th>\n",
       "      <th>Descrizione</th>\n",
       "      <th>Topic</th>\n",
       "      <th>top_words</th>\n",
       "      <th>top_words_str</th>\n",
       "      <th>GPT_label</th>\n",
       "      <th>Similarity</th>\n",
       "      <th>Similarity class</th>\n",
       "    </tr>\n",
       "  </thead>\n",
       "  <tbody>\n",
       "    <tr>\n",
       "      <th>4</th>\n",
       "      <td>Physical exercise has long been known to have ...</td>\n",
       "      <td>The Benefits of Regular Exercise for Mental He...</td>\n",
       "      <td>Learn how physical activity can improve mental...</td>\n",
       "      <td>21</td>\n",
       "      <td>[[exercise, 0.0724763518], [mental, 0.05382092...</td>\n",
       "      <td>(exercise, 0.0724763518) (mental, 0.05382092) ...</td>\n",
       "      <td>The Benefits of Regular Exercise for Mental He...</td>\n",
       "      <td>1.000000</td>\n",
       "      <td>&lt; 1.0</td>\n",
       "    </tr>\n",
       "    <tr>\n",
       "      <th>8</th>\n",
       "      <td>It’s no secret that regular exercise is essent...</td>\n",
       "      <td>The Benefits of Regular Exercise for Mental He...</td>\n",
       "      <td>Learn how physical activity can improve mental...</td>\n",
       "      <td>21</td>\n",
       "      <td>[[exercise, 0.0724763518], [mental, 0.05382092...</td>\n",
       "      <td>(exercise, 0.0724763518) (mental, 0.05382092) ...</td>\n",
       "      <td>The Benefits of Regular Exercise for Mental He...</td>\n",
       "      <td>1.000000</td>\n",
       "      <td>&lt; 1.0</td>\n",
       "    </tr>\n",
       "    <tr>\n",
       "      <th>13</th>\n",
       "      <td>Parenting is one of the most important and cha...</td>\n",
       "      <td>The Benefits of Positive Parenting</td>\n",
       "      <td>Explore the advantages of adopting positive pa...</td>\n",
       "      <td>1</td>\n",
       "      <td>[[positive, 0.0863371671], [mindset, 0.0457818...</td>\n",
       "      <td>(positive, 0.0863371671) (mindset, 0.045781882...</td>\n",
       "      <td>Positive Parenting and Mindset</td>\n",
       "      <td>0.955261</td>\n",
       "      <td>&lt; 1.0</td>\n",
       "    </tr>\n",
       "    <tr>\n",
       "      <th>52</th>\n",
       "      <td>Positive parenting is a parenting style that f...</td>\n",
       "      <td>The Benefits of Positive Parenting</td>\n",
       "      <td>Explore the advantages of adopting positive pa...</td>\n",
       "      <td>1</td>\n",
       "      <td>[[positive, 0.0863371671], [mindset, 0.0457818...</td>\n",
       "      <td>(positive, 0.0863371671) (mindset, 0.045781882...</td>\n",
       "      <td>Positive Parenting and Mindset</td>\n",
       "      <td>0.955261</td>\n",
       "      <td>&lt; 1.0</td>\n",
       "    </tr>\n",
       "    <tr>\n",
       "      <th>53</th>\n",
       "      <td>One of the most significant consequences of cy...</td>\n",
       "      <td>The Impact of Cybersecurity Threats</td>\n",
       "      <td>Explore the consequences of cyber threats and ...</td>\n",
       "      <td>47</td>\n",
       "      <td>[[threats, 0.0981638703], [cybersecurity, 0.09...</td>\n",
       "      <td>(threats, 0.0981638703) (cybersecurity, 0.0907...</td>\n",
       "      <td>Cybersecurity Threats and Consequences</td>\n",
       "      <td>0.981635</td>\n",
       "      <td>&lt; 1.0</td>\n",
       "    </tr>\n",
       "    <tr>\n",
       "      <th>54</th>\n",
       "      <td>Music has a powerful impact on our emotions an...</td>\n",
       "      <td>The Influence of Music on Mood and Emotions</td>\n",
       "      <td>Learn how music can affect emotions, reduce st...</td>\n",
       "      <td>41</td>\n",
       "      <td>[[music, 0.14408743770000002], [emotions, 0.05...</td>\n",
       "      <td>(music, 0.14408743770000002) (emotions, 0.0500...</td>\n",
       "      <td>The Influence of Music on Emotions and Mood</td>\n",
       "      <td>0.998788</td>\n",
       "      <td>&lt; 1.0</td>\n",
       "    </tr>\n",
       "    <tr>\n",
       "      <th>80</th>\n",
       "      <td>Exercise is often associated with physical hea...</td>\n",
       "      <td>The Benefits of Regular Exercise for Mental He...</td>\n",
       "      <td>Learn how physical activity can improve mental...</td>\n",
       "      <td>21</td>\n",
       "      <td>[[exercise, 0.0724763518], [mental, 0.05382092...</td>\n",
       "      <td>(exercise, 0.0724763518) (mental, 0.05382092) ...</td>\n",
       "      <td>The Benefits of Regular Exercise for Mental He...</td>\n",
       "      <td>1.000000</td>\n",
       "      <td>&lt; 1.0</td>\n",
       "    </tr>\n",
       "    <tr>\n",
       "      <th>118</th>\n",
       "      <td>In today's digital age, cybersecurity threats ...</td>\n",
       "      <td>The Impact of Cybersecurity Threats</td>\n",
       "      <td>Explore the consequences of cyber threats and ...</td>\n",
       "      <td>47</td>\n",
       "      <td>[[threats, 0.0981638703], [cybersecurity, 0.09...</td>\n",
       "      <td>(threats, 0.0981638703) (cybersecurity, 0.0907...</td>\n",
       "      <td>Cybersecurity Threats and Consequences</td>\n",
       "      <td>0.981635</td>\n",
       "      <td>&lt; 1.0</td>\n",
       "    </tr>\n",
       "    <tr>\n",
       "      <th>137</th>\n",
       "      <td>Music has a profound impact on our emotions an...</td>\n",
       "      <td>The Influence of Music on Mood and Emotions</td>\n",
       "      <td>Learn how music can affect emotions, reduce st...</td>\n",
       "      <td>41</td>\n",
       "      <td>[[music, 0.14408743770000002], [emotions, 0.05...</td>\n",
       "      <td>(music, 0.14408743770000002) (emotions, 0.0500...</td>\n",
       "      <td>The Influence of Music on Emotions and Mood</td>\n",
       "      <td>0.998788</td>\n",
       "      <td>&lt; 1.0</td>\n",
       "    </tr>\n",
       "    <tr>\n",
       "      <th>140</th>\n",
       "      <td>Positive parenting is an approach to raising c...</td>\n",
       "      <td>The Benefits of Positive Parenting</td>\n",
       "      <td>Explore the advantages of adopting positive pa...</td>\n",
       "      <td>1</td>\n",
       "      <td>[[positive, 0.0863371671], [mindset, 0.0457818...</td>\n",
       "      <td>(positive, 0.0863371671) (mindset, 0.045781882...</td>\n",
       "      <td>Positive Parenting and Mindset</td>\n",
       "      <td>0.955261</td>\n",
       "      <td>&lt; 1.0</td>\n",
       "    </tr>\n",
       "    <tr>\n",
       "      <th>144</th>\n",
       "      <td>In today's fast-paced and stressful world, tak...</td>\n",
       "      <td>The Benefits of Regular Exercise for Mental He...</td>\n",
       "      <td>Learn how physical activity can improve mental...</td>\n",
       "      <td>21</td>\n",
       "      <td>[[exercise, 0.0724763518], [mental, 0.05382092...</td>\n",
       "      <td>(exercise, 0.0724763518) (mental, 0.05382092) ...</td>\n",
       "      <td>The Benefits of Regular Exercise for Mental He...</td>\n",
       "      <td>1.000000</td>\n",
       "      <td>&lt; 1.0</td>\n",
       "    </tr>\n",
       "    <tr>\n",
       "      <th>162</th>\n",
       "      <td>Regular exercise is not only important for mai...</td>\n",
       "      <td>The Benefits of Regular Exercise for Mental He...</td>\n",
       "      <td>Learn how physical activity can improve mental...</td>\n",
       "      <td>21</td>\n",
       "      <td>[[exercise, 0.0724763518], [mental, 0.05382092...</td>\n",
       "      <td>(exercise, 0.0724763518) (mental, 0.05382092) ...</td>\n",
       "      <td>The Benefits of Regular Exercise for Mental He...</td>\n",
       "      <td>1.000000</td>\n",
       "      <td>&lt; 1.0</td>\n",
       "    </tr>\n",
       "    <tr>\n",
       "      <th>204</th>\n",
       "      <td>Music has been a part of human culture for cen...</td>\n",
       "      <td>The Influence of Music on Mood and Emotions</td>\n",
       "      <td>Learn how music can affect emotions, reduce st...</td>\n",
       "      <td>41</td>\n",
       "      <td>[[music, 0.14408743770000002], [emotions, 0.05...</td>\n",
       "      <td>(music, 0.14408743770000002) (emotions, 0.0500...</td>\n",
       "      <td>The Influence of Music on Emotions and Mood</td>\n",
       "      <td>0.998788</td>\n",
       "      <td>&lt; 1.0</td>\n",
       "    </tr>\n",
       "    <tr>\n",
       "      <th>243</th>\n",
       "      <td>Music has always been a part of human life. It...</td>\n",
       "      <td>The Influence of Music on Mood and Emotions</td>\n",
       "      <td>Learn how music can affect emotions, reduce st...</td>\n",
       "      <td>41</td>\n",
       "      <td>[[music, 0.14408743770000002], [emotions, 0.05...</td>\n",
       "      <td>(music, 0.14408743770000002) (emotions, 0.0500...</td>\n",
       "      <td>The Influence of Music on Emotions and Mood</td>\n",
       "      <td>0.998788</td>\n",
       "      <td>&lt; 1.0</td>\n",
       "    </tr>\n",
       "    <tr>\n",
       "      <th>289</th>\n",
       "      <td>In today's digital age, cybersecurity threats ...</td>\n",
       "      <td>The Impact of Cybersecurity Threats</td>\n",
       "      <td>Explore the consequences of cyber threats and ...</td>\n",
       "      <td>47</td>\n",
       "      <td>[[threats, 0.0981638703], [cybersecurity, 0.09...</td>\n",
       "      <td>(threats, 0.0981638703) (cybersecurity, 0.0907...</td>\n",
       "      <td>Cybersecurity Threats and Consequences</td>\n",
       "      <td>0.981635</td>\n",
       "      <td>&lt; 1.0</td>\n",
       "    </tr>\n",
       "    <tr>\n",
       "      <th>292</th>\n",
       "      <td>In today's fast-paced and stressful world, tak...</td>\n",
       "      <td>The Benefits of Regular Exercise for Mental He...</td>\n",
       "      <td>Learn how physical activity can improve mental...</td>\n",
       "      <td>21</td>\n",
       "      <td>[[exercise, 0.0724763518], [mental, 0.05382092...</td>\n",
       "      <td>(exercise, 0.0724763518) (mental, 0.05382092) ...</td>\n",
       "      <td>The Benefits of Regular Exercise for Mental He...</td>\n",
       "      <td>1.000000</td>\n",
       "      <td>&lt; 1.0</td>\n",
       "    </tr>\n",
       "  </tbody>\n",
       "</table>\n",
       "</div>"
      ],
      "text/plain": [
       "                                              Articolo  \\\n",
       "4    Physical exercise has long been known to have ...   \n",
       "8    It’s no secret that regular exercise is essent...   \n",
       "13   Parenting is one of the most important and cha...   \n",
       "52   Positive parenting is a parenting style that f...   \n",
       "53   One of the most significant consequences of cy...   \n",
       "54   Music has a powerful impact on our emotions an...   \n",
       "80   Exercise is often associated with physical hea...   \n",
       "118  In today's digital age, cybersecurity threats ...   \n",
       "137  Music has a profound impact on our emotions an...   \n",
       "140  Positive parenting is an approach to raising c...   \n",
       "144  In today's fast-paced and stressful world, tak...   \n",
       "162  Regular exercise is not only important for mai...   \n",
       "204  Music has been a part of human culture for cen...   \n",
       "243  Music has always been a part of human life. It...   \n",
       "289  In today's digital age, cybersecurity threats ...   \n",
       "292  In today's fast-paced and stressful world, tak...   \n",
       "\n",
       "                                             Argomento  \\\n",
       "4    The Benefits of Regular Exercise for Mental He...   \n",
       "8    The Benefits of Regular Exercise for Mental He...   \n",
       "13                  The Benefits of Positive Parenting   \n",
       "52                  The Benefits of Positive Parenting   \n",
       "53                 The Impact of Cybersecurity Threats   \n",
       "54         The Influence of Music on Mood and Emotions   \n",
       "80   The Benefits of Regular Exercise for Mental He...   \n",
       "118                The Impact of Cybersecurity Threats   \n",
       "137        The Influence of Music on Mood and Emotions   \n",
       "140                 The Benefits of Positive Parenting   \n",
       "144  The Benefits of Regular Exercise for Mental He...   \n",
       "162  The Benefits of Regular Exercise for Mental He...   \n",
       "204        The Influence of Music on Mood and Emotions   \n",
       "243        The Influence of Music on Mood and Emotions   \n",
       "289                The Impact of Cybersecurity Threats   \n",
       "292  The Benefits of Regular Exercise for Mental He...   \n",
       "\n",
       "                                           Descrizione  Topic  \\\n",
       "4    Learn how physical activity can improve mental...     21   \n",
       "8    Learn how physical activity can improve mental...     21   \n",
       "13   Explore the advantages of adopting positive pa...      1   \n",
       "52   Explore the advantages of adopting positive pa...      1   \n",
       "53   Explore the consequences of cyber threats and ...     47   \n",
       "54   Learn how music can affect emotions, reduce st...     41   \n",
       "80   Learn how physical activity can improve mental...     21   \n",
       "118  Explore the consequences of cyber threats and ...     47   \n",
       "137  Learn how music can affect emotions, reduce st...     41   \n",
       "140  Explore the advantages of adopting positive pa...      1   \n",
       "144  Learn how physical activity can improve mental...     21   \n",
       "162  Learn how physical activity can improve mental...     21   \n",
       "204  Learn how music can affect emotions, reduce st...     41   \n",
       "243  Learn how music can affect emotions, reduce st...     41   \n",
       "289  Explore the consequences of cyber threats and ...     47   \n",
       "292  Learn how physical activity can improve mental...     21   \n",
       "\n",
       "                                             top_words  \\\n",
       "4    [[exercise, 0.0724763518], [mental, 0.05382092...   \n",
       "8    [[exercise, 0.0724763518], [mental, 0.05382092...   \n",
       "13   [[positive, 0.0863371671], [mindset, 0.0457818...   \n",
       "52   [[positive, 0.0863371671], [mindset, 0.0457818...   \n",
       "53   [[threats, 0.0981638703], [cybersecurity, 0.09...   \n",
       "54   [[music, 0.14408743770000002], [emotions, 0.05...   \n",
       "80   [[exercise, 0.0724763518], [mental, 0.05382092...   \n",
       "118  [[threats, 0.0981638703], [cybersecurity, 0.09...   \n",
       "137  [[music, 0.14408743770000002], [emotions, 0.05...   \n",
       "140  [[positive, 0.0863371671], [mindset, 0.0457818...   \n",
       "144  [[exercise, 0.0724763518], [mental, 0.05382092...   \n",
       "162  [[exercise, 0.0724763518], [mental, 0.05382092...   \n",
       "204  [[music, 0.14408743770000002], [emotions, 0.05...   \n",
       "243  [[music, 0.14408743770000002], [emotions, 0.05...   \n",
       "289  [[threats, 0.0981638703], [cybersecurity, 0.09...   \n",
       "292  [[exercise, 0.0724763518], [mental, 0.05382092...   \n",
       "\n",
       "                                         top_words_str  \\\n",
       "4    (exercise, 0.0724763518) (mental, 0.05382092) ...   \n",
       "8    (exercise, 0.0724763518) (mental, 0.05382092) ...   \n",
       "13   (positive, 0.0863371671) (mindset, 0.045781882...   \n",
       "52   (positive, 0.0863371671) (mindset, 0.045781882...   \n",
       "53   (threats, 0.0981638703) (cybersecurity, 0.0907...   \n",
       "54   (music, 0.14408743770000002) (emotions, 0.0500...   \n",
       "80   (exercise, 0.0724763518) (mental, 0.05382092) ...   \n",
       "118  (threats, 0.0981638703) (cybersecurity, 0.0907...   \n",
       "137  (music, 0.14408743770000002) (emotions, 0.0500...   \n",
       "140  (positive, 0.0863371671) (mindset, 0.045781882...   \n",
       "144  (exercise, 0.0724763518) (mental, 0.05382092) ...   \n",
       "162  (exercise, 0.0724763518) (mental, 0.05382092) ...   \n",
       "204  (music, 0.14408743770000002) (emotions, 0.0500...   \n",
       "243  (music, 0.14408743770000002) (emotions, 0.0500...   \n",
       "289  (threats, 0.0981638703) (cybersecurity, 0.0907...   \n",
       "292  (exercise, 0.0724763518) (mental, 0.05382092) ...   \n",
       "\n",
       "                                             GPT_label  Similarity  \\\n",
       "4    The Benefits of Regular Exercise for Mental He...    1.000000   \n",
       "8    The Benefits of Regular Exercise for Mental He...    1.000000   \n",
       "13                      Positive Parenting and Mindset    0.955261   \n",
       "52                      Positive Parenting and Mindset    0.955261   \n",
       "53              Cybersecurity Threats and Consequences    0.981635   \n",
       "54         The Influence of Music on Emotions and Mood    0.998788   \n",
       "80   The Benefits of Regular Exercise for Mental He...    1.000000   \n",
       "118             Cybersecurity Threats and Consequences    0.981635   \n",
       "137        The Influence of Music on Emotions and Mood    0.998788   \n",
       "140                     Positive Parenting and Mindset    0.955261   \n",
       "144  The Benefits of Regular Exercise for Mental He...    1.000000   \n",
       "162  The Benefits of Regular Exercise for Mental He...    1.000000   \n",
       "204        The Influence of Music on Emotions and Mood    0.998788   \n",
       "243        The Influence of Music on Emotions and Mood    0.998788   \n",
       "289             Cybersecurity Threats and Consequences    0.981635   \n",
       "292  The Benefits of Regular Exercise for Mental He...    1.000000   \n",
       "\n",
       "    Similarity class  \n",
       "4              < 1.0  \n",
       "8              < 1.0  \n",
       "13             < 1.0  \n",
       "52             < 1.0  \n",
       "53             < 1.0  \n",
       "54             < 1.0  \n",
       "80             < 1.0  \n",
       "118            < 1.0  \n",
       "137            < 1.0  \n",
       "140            < 1.0  \n",
       "144            < 1.0  \n",
       "162            < 1.0  \n",
       "204            < 1.0  \n",
       "243            < 1.0  \n",
       "289            < 1.0  \n",
       "292            < 1.0  "
      ]
     },
     "execution_count": 105,
     "metadata": {},
     "output_type": "execute_result"
    }
   ],
   "source": [
    "df[df['Similarity'] > 0.95]"
   ]
  },
  {
   "cell_type": "code",
   "execution_count": 91,
   "metadata": {},
   "outputs": [],
   "source": [
    "model = SentenceTransformer('bert-base-nli-mean-tokens')"
   ]
  },
  {
   "cell_type": "code",
   "execution_count": 92,
   "metadata": {},
   "outputs": [],
   "source": [
    "original_topic_embeddings = model.encode(list(df['Argomento']), convert_to_tensor=True)\n",
    "GPT_topic_embeddings = model.encode(list(df['GPT_label']), convert_to_tensor=True)"
   ]
  },
  {
   "cell_type": "code",
   "execution_count": 93,
   "metadata": {},
   "outputs": [],
   "source": [
    "sim = []\n",
    "for a,b in zip(original_topic_embeddings,GPT_topic_embeddings):\n",
    "    value = util.pytorch_cos_sim(a.unsqueeze(0), b.unsqueeze(0))\n",
    "    sim.append(value.item())"
   ]
  },
  {
   "cell_type": "code",
   "execution_count": 94,
   "metadata": {},
   "outputs": [
    {
     "data": {
      "text/plain": [
       "0.9999998807907104"
      ]
     },
     "execution_count": 94,
     "metadata": {},
     "output_type": "execute_result"
    }
   ],
   "source": [
    "max(sim)"
   ]
  },
  {
   "cell_type": "code",
   "execution_count": 95,
   "metadata": {},
   "outputs": [
    {
     "data": {
      "text/plain": [
       "0.5127623677253723"
      ]
     },
     "execution_count": 95,
     "metadata": {},
     "output_type": "execute_result"
    }
   ],
   "source": [
    "min(sim)"
   ]
  },
  {
   "cell_type": "code",
   "execution_count": 96,
   "metadata": {},
   "outputs": [
    {
     "data": {
      "text/plain": [
       "0.8316077800591787"
      ]
     },
     "execution_count": 96,
     "metadata": {},
     "output_type": "execute_result"
    }
   ],
   "source": [
    "sum(sim)/len(sim)"
   ]
  },
  {
   "cell_type": "code",
   "execution_count": 97,
   "metadata": {},
   "outputs": [],
   "source": [
    "df['Similarity'] = sim"
   ]
  },
  {
   "cell_type": "code",
   "execution_count": 98,
   "metadata": {},
   "outputs": [],
   "source": [
    "def reclass_similarity(similarity):\n",
    "    start = 0.6\n",
    "    end = 1.0\n",
    "    classi = [x / 10.0 for x in range(int(start * 10), int(end * 10) + 1)]\n",
    "    for classe in classi:\n",
    "        if similarity < classe:\n",
    "            return \"< \" + str(classe)"
   ]
  },
  {
   "cell_type": "code",
   "execution_count": 99,
   "metadata": {},
   "outputs": [],
   "source": [
    "df['Similarity class'] = df['Similarity'].apply(reclass_similarity)"
   ]
  },
  {
   "cell_type": "code",
   "execution_count": 100,
   "metadata": {},
   "outputs": [],
   "source": [
    "df_freq_sim = df.groupby('Similarity class').size().reset_index(name='Frequenza')"
   ]
  },
  {
   "cell_type": "code",
   "execution_count": 101,
   "metadata": {},
   "outputs": [
    {
     "data": {
      "text/html": [
       "<div>\n",
       "<style scoped>\n",
       "    .dataframe tbody tr th:only-of-type {\n",
       "        vertical-align: middle;\n",
       "    }\n",
       "\n",
       "    .dataframe tbody tr th {\n",
       "        vertical-align: top;\n",
       "    }\n",
       "\n",
       "    .dataframe thead th {\n",
       "        text-align: right;\n",
       "    }\n",
       "</style>\n",
       "<table border=\"1\" class=\"dataframe\">\n",
       "  <thead>\n",
       "    <tr style=\"text-align: right;\">\n",
       "      <th></th>\n",
       "      <th>Similarity class</th>\n",
       "      <th>Frequenza</th>\n",
       "    </tr>\n",
       "  </thead>\n",
       "  <tbody>\n",
       "    <tr>\n",
       "      <th>0</th>\n",
       "      <td>&lt; 0.6</td>\n",
       "      <td>8</td>\n",
       "    </tr>\n",
       "    <tr>\n",
       "      <th>1</th>\n",
       "      <td>&lt; 0.7</td>\n",
       "      <td>4</td>\n",
       "    </tr>\n",
       "    <tr>\n",
       "      <th>2</th>\n",
       "      <td>&lt; 0.8</td>\n",
       "      <td>94</td>\n",
       "    </tr>\n",
       "    <tr>\n",
       "      <th>3</th>\n",
       "      <td>&lt; 0.9</td>\n",
       "      <td>117</td>\n",
       "    </tr>\n",
       "    <tr>\n",
       "      <th>4</th>\n",
       "      <td>&lt; 1.0</td>\n",
       "      <td>77</td>\n",
       "    </tr>\n",
       "  </tbody>\n",
       "</table>\n",
       "</div>"
      ],
      "text/plain": [
       "  Similarity class  Frequenza\n",
       "0            < 0.6          8\n",
       "1            < 0.7          4\n",
       "2            < 0.8         94\n",
       "3            < 0.9        117\n",
       "4            < 1.0         77"
      ]
     },
     "execution_count": 101,
     "metadata": {},
     "output_type": "execute_result"
    }
   ],
   "source": [
    "df_freq_sim.head()"
   ]
  },
  {
   "cell_type": "code",
   "execution_count": 102,
   "metadata": {},
   "outputs": [
    {
     "data": {
      "image/png": "[encoded data removed]",
      "text/plain": [
       "<Figure size 600x600 with 1 Axes>"
      ]
     },
     "metadata": {},
     "output_type": "display_data"
    }
   ],
   "source": [
    "plt.figure(figsize=(6, 6))  # Imposta la dimensione del grafico\n",
    "plt.pie(df_freq_sim['Frequenza'], labels=df_freq_sim['Similarity class'], autopct='%1.1f%%', startangle=140)\n",
    "\n",
    "# Aggiunge un titolo\n",
    "plt.title('Distribuzione delle Classi')\n",
    "\n",
    "# Mostra il grafico\n",
    "plt.axis('equal')  # Imposta gli assi per avere un aspetto circolare\n",
    "plt.show()"
   ]
  },
  {
   "cell_type": "code",
   "execution_count": null,
   "metadata": {},
   "outputs": [],
   "source": []
  }
 ],
 "metadata": {
  "kernelspec": {
   "display_name": "tesi10",
   "language": "python",
   "name": "p10"
  },
  "language_info": {
   "codemirror_mode": {
    "name": "ipython",
    "version": 3
   },
   "file_extension": ".py",
   "mimetype": "text/x-python",
   "name": "python",
   "nbconvert_exporter": "python",
   "pygments_lexer": "ipython3",
   "version": "3.10.11"
  }
 },
 "nbformat": 4,
 "nbformat_minor": 2
}
