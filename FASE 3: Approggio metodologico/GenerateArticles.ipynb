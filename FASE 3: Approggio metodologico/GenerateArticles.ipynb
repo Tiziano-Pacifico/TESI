{
 "cells": [
  {
   "cell_type": "code",
   "execution_count": 1,
   "metadata": {},
   "outputs": [],
   "source": [
    "from decouple import Config, RepositoryEnv\n",
    "import requests\n",
    "from json import dumps\n",
    "import json\n",
    "import openai\n",
    "from langchain.prompts import ChatPromptTemplate\n",
    "from langchain.chat_models import ChatOpenAI\n",
    "import pandas as pd\n",
    "import logging\n",
    "from pydantic import BaseModel, ValidationError, Field\n",
    "from typing import List, Tuple , Union, Optional\n",
    "from langchain.schema import HumanMessage, SystemMessage, AIMessage\n",
    "import random\n",
    "import time"
   ]
  },
  {
   "cell_type": "code",
   "execution_count": 2,
   "metadata": {},
   "outputs": [],
   "source": [
    "from tenacity import (\n",
    "    retry,\n",
    "    stop_after_attempt,\n",
    "    wait_random_exponential,\n",
    ")  # for exponential backoff"
   ]
  },
  {
   "cell_type": "code",
   "execution_count": 3,
   "metadata": {},
   "outputs": [],
   "source": [
    "DOTENV_FILE = 'C:\\\\Users\\\\Tiziano Pacifico\\\\Desktop\\\\OpenAICourses\\\\.env'\n",
    "env_config = Config(RepositoryEnv(DOTENV_FILE))\n",
    "openai.api_key = env_config.get('CHATGPT_API_KEY')"
   ]
  },
  {
   "cell_type": "code",
   "execution_count": 5,
   "metadata": {},
   "outputs": [],
   "source": [
    "def create1(messages : List[Union[HumanMessage,SystemMessage,AIMessage]], \n",
    "            model_class: BaseModel, retry=2, temperature=0.7, debug = False,\n",
    "           model=\"gpt-3.5-turbo-0613\") -> BaseModel:\n",
    "    \n",
    "    chat = ChatOpenAI(temperature=temperature, model=model)\n",
    "    \n",
    "    system_update = f\"Please respond ONLY with valid json that conforms to this pydantic\\\n",
    "    json_schema: {model_class.schema_json()}. \\\n",
    "    Do not include additional text other than the object json as we will load this object with json.loads() and pydantic.\"\n",
    "    \n",
    "    system_message = messages[0].content\n",
    "    update_system_message = system_message + system_update\n",
    "    messages[0].content = update_system_message\n",
    "    if debug:\n",
    "        print(messages)\n",
    "    last_exception = None\n",
    "    for i in range(retry+1):\n",
    "        response = chat(messages)\n",
    "        #assistant_message= messages\n",
    "        content = response.content\n",
    "        try:\n",
    "            if debug:\n",
    "                print(\"------------------------\")\n",
    "                print(response)\n",
    "            json_content = json.loads(content, strict=False)\n",
    "        except Exception as e:\n",
    "            last_exception = e\n",
    "            error_msg = f\"json.loads exception: {e}\"\n",
    "            logging.error(error_msg)\n",
    "            errorMessage = HumanMessage(content=\"\\nThe previous try generate the following error message:\\n###\"+error_msg+\"###\")\n",
    "            messages.append(errorMessage)\n",
    "            continue\n",
    "        try:\n",
    "            return model_class(**json_content)\n",
    "        except ValidationError as e:\n",
    "            last_exception = e\n",
    "            error_msg = f\"pydantic exception: {e}\"\n",
    "            logging.error(error_msg)\n",
    "            errorMessage = HumanMessage(content=\"\\nThe previous try generate the following error message:\\n###\"+error_msg+\"###\")\n",
    "            messages.append(errorMessage)\n",
    "    raise last_exception"
   ]
  },
  {
   "cell_type": "code",
   "execution_count": 6,
   "metadata": {},
   "outputs": [],
   "source": [
    "systemMessage = SystemMessage(content=\"You are a random topic creator. \\\n",
    "You will create a list of topic for short articles. The number of topic will be given by human message\")\n",
    "humanMessage=HumanMessage(content=\"Give me a list of 50 topics\")\n",
    "messages = [systemMessage, humanMessage]"
   ]
  },
  {
   "cell_type": "code",
   "execution_count": 43,
   "metadata": {},
   "outputs": [],
   "source": [
    "class single_topic(BaseModel):\n",
    "    title: str = Field(description = \"The title of the topic\")\n",
    "    description: str = Field(description= \"A short description of the topic\")\n",
    "class topics(BaseModel):\n",
    "    topic: List[single_topic] = Field(description= \"A list of single topic, each composed by title and short description\")"
   ]
  },
  {
   "cell_type": "code",
   "execution_count": 45,
   "metadata": {},
   "outputs": [
    {
     "name": "stderr",
     "output_type": "stream",
     "text": [
      "C:\\Users\\Tiziano Pacifico\\AppData\\Local\\Temp\\ipykernel_4864\\2224441599.py:1: PydanticDeprecatedSince20: The `schema` method is deprecated; use `model_json_schema` instead. Deprecated in Pydantic V2.0 to be removed in V3.0. See Pydantic V2 Migration Guide at https://errors.pydantic.dev/2.3/migration/\n",
      "  topics.schema()\n"
     ]
    },
    {
     "data": {
      "text/plain": [
       "{'$defs': {'single_topic': {'properties': {'title': {'description': 'The title of the topic',\n",
       "     'title': 'Title',\n",
       "     'type': 'string'},\n",
       "    'description': {'description': 'A short description of the topic',\n",
       "     'title': 'Description',\n",
       "     'type': 'string'}},\n",
       "   'required': ['title', 'description'],\n",
       "   'title': 'single_topic',\n",
       "   'type': 'object'}},\n",
       " 'properties': {'topic': {'description': 'A list of single topic, each composed by title and short description',\n",
       "   'items': {'$ref': '#/$defs/single_topic'},\n",
       "   'title': 'Topic',\n",
       "   'type': 'array'}},\n",
       " 'required': ['topic'],\n",
       " 'title': 'topics',\n",
       " 'type': 'object'}"
      ]
     },
     "execution_count": 45,
     "metadata": {},
     "output_type": "execute_result"
    }
   ],
   "source": [
    "topics.schema()"
   ]
  },
  {
   "cell_type": "code",
   "execution_count": 8,
   "metadata": {},
   "outputs": [
    {
     "name": "stderr",
     "output_type": "stream",
     "text": [
      "C:\\Users\\Tiziano Pacifico\\AppData\\Local\\Temp\\ipykernel_4864\\3382781326.py:6: PydanticDeprecatedSince20: The `schema_json` method is deprecated; use `model_json_schema` and json.dumps instead. Deprecated in Pydantic V2.0 to be removed in V3.0. See Pydantic V2 Migration Guide at https://errors.pydantic.dev/2.3/migration/\n",
      "  system_update = f\"Please respond ONLY with valid json that conforms to this pydantic json_schema: {model_class.schema_json()}. \\\n"
     ]
    }
   ],
   "source": [
    "res = create1(messages, topics)"
   ]
  },
  {
   "cell_type": "code",
   "execution_count": 9,
   "metadata": {},
   "outputs": [],
   "source": [
    "res_dict = res.model_dump()"
   ]
  },
  {
   "cell_type": "code",
   "execution_count": 10,
   "metadata": {},
   "outputs": [],
   "source": [
    "systemMessage = SystemMessage(content=\"You are a blog writer. \\\n",
    "You will create a short article for a blog given a topic. The topic will be given in the form enclosed by delimitator ###\\\n",
    "###Topic title: short topic description.### The topic will be given in the following human message. The article has to be short between 500 and 800 token\")"
   ]
  },
  {
   "cell_type": "code",
   "execution_count": 11,
   "metadata": {},
   "outputs": [],
   "source": [
    "class Article(BaseModel):\n",
    "    text: str = Field(description=\"The text of the article\")"
   ]
  },
  {
   "cell_type": "code",
   "execution_count": 12,
   "metadata": {},
   "outputs": [],
   "source": [
    "topics = res_dict['topic']\n",
    "articles = []"
   ]
  },
  {
   "cell_type": "code",
   "execution_count": 16,
   "metadata": {
    "collapsed": true
   },
   "outputs": [
    {
     "name": "stdout",
     "output_type": "stream",
     "text": [
      "Generate article 240\n",
      "Generate article 241\n",
      "Generate article 242\n",
      "Generate article 243\n",
      "Generate article 244\n",
      "Generate article 245\n",
      "Generate article 246\n",
      "Generate article 247\n",
      "Generate article 248\n",
      "Generate article 249\n",
      "Generate article 250\n",
      "Generate article 251\n",
      "Generate article 252\n",
      "Generate article 253\n",
      "Generate article 254\n",
      "Generate article 255\n",
      "Generate article 256\n",
      "Generate article 257\n",
      "Generate article 258\n",
      "Generate article 259\n",
      "sistem pause\n",
      "sistem restart\n",
      "Generate article 260\n",
      "Generate article 261\n",
      "Generate article 262\n",
      "Generate article 263\n",
      "Generate article 264\n",
      "Generate article 265\n",
      "Generate article 266\n",
      "Generate article 267\n",
      "Generate article 268\n",
      "Generate article 269\n",
      "Generate article 270\n",
      "Generate article 271\n",
      "Generate article 272\n",
      "Generate article 273\n",
      "Generate article 274\n",
      "Generate article 275\n",
      "Generate article 276\n",
      "Generate article 277\n",
      "Generate article 278\n",
      "Generate article 279\n",
      "sistem pause\n",
      "sistem restart\n",
      "Generate article 280\n",
      "Generate article 281\n",
      "Generate article 282\n",
      "Generate article 283\n",
      "Generate article 284\n",
      "Generate article 285\n",
      "Generate article 286\n",
      "Generate article 287\n",
      "Generate article 288\n",
      "Generate article 289\n",
      "Generate article 290\n",
      "Generate article 291\n",
      "Generate article 292\n",
      "Generate article 293\n",
      "Generate article 294\n",
      "Generate article 295\n",
      "Generate article 296\n",
      "Generate article 297\n",
      "Generate article 298\n",
      "Generate article 299\n",
      "sistem pause\n",
      "sistem restart\n"
     ]
    }
   ],
   "source": [
    "\n",
    "chat = ChatOpenAI(temperature=0.7, model=\"gpt-3.5-turbo-0613\")\n",
    "systemMessage = SystemMessage(content=\"You are a blog writer. \\\n",
    "You will create a short article for a blog given a topic. The topic will be given in the form enclosed by delimitator ###\\\n",
    "###Topic title: short topic description.### The topic will be given in the following human message. The article has to be short between 500 and 800 token\")\n",
    "#article_n = 0\n",
    "for j in range(3):\n",
    "    for i in range(20):\n",
    "        n = random.randint(0, len(topics)-1)\n",
    "        title = topics[n]['title']\n",
    "        description = topics[n]['description']\n",
    "        humanMessage=HumanMessage(content=f\"Write a short article about the topic included by the separator ###.\\\n",
    "        ###{title}: {description}###.\")\n",
    "        messages = [systemMessage, humanMessage]\n",
    "        try: \n",
    "            article = chat(messages)\n",
    "        except Exception as e:\n",
    "            print(\"function error\")\n",
    "        else:\n",
    "            articles.append((article, title, description))\n",
    "            print(f\"Generate article {article_n}\")\n",
    "            article_n +=1\n",
    "    print(\"sistem pause\")\n",
    "    time.sleep(300)\n",
    "    print(\"sistem restart\")\n",
    "\n"
   ]
  },
  {
   "cell_type": "code",
   "execution_count": 17,
   "metadata": {},
   "outputs": [
    {
     "data": {
      "text/plain": [
       "300"
      ]
     },
     "execution_count": 17,
     "metadata": {},
     "output_type": "execute_result"
    }
   ],
   "source": [
    "len(articles)"
   ]
  },
  {
   "cell_type": "code",
   "execution_count": 22,
   "metadata": {},
   "outputs": [
    {
     "data": {
      "text/plain": [
       "(AIMessage(content=\"###The Benefits of Mindful Eating: Learn how practicing mindful eating can improve digestion and enhance the enjoyment of food.###\\n\\nIn our fast-paced and hectic lives, we often find ourselves rushing through meals, barely taking the time to savor and enjoy our food. However, practicing mindful eating can offer numerous benefits to our overall well-being.\\n\\nOne of the key benefits of mindful eating is improved digestion. When we eat mindfully, we are more attuned to our body's hunger and fullness cues. This means that we are less likely to overeat or eat when we are not truly hungry. By eating in this way, we give our digestive system the chance to properly process and break down the food we consume, leading to better digestion and absorption of nutrients.\\n\\nMindful eating also allows us to fully appreciate and enjoy our food. By paying attention to the taste, texture, and aroma of each bite, we can experience a deeper sense of satisfaction and pleasure from our meals. This can prevent us from mindlessly reaching for unhealthy snacks or indulging in emotional eating, as we become more aware of our true cravings and preferences.\\n\\nAnother benefit of mindful eating is the potential for weight management. When we eat mindfully, we are more likely to make healthier food choices and eat in moderation. By being fully present and engaged in the eating experience, we can recognize when we are satisfied and avoid overeating. This can contribute to maintaining a healthy weight and preventing weight gain.\\n\\nIn addition to the physical benefits, practicing mindful eating can also have a positive impact on our mental and emotional well-being. By slowing down and being fully present during meals, we can reduce stress and anxiety related to food. Mindful eating encourages a non-judgmental awareness of our eating habits, promoting a healthier relationship with food and ourselves.\\n\\nSo, how can we incorporate mindful eating into our daily lives? Start by setting aside dedicated time for meals, free from distractions such as screens or work. Take the time to truly savor each bite, paying attention to the flavors, textures, and smells. Chew slowly and mindfully, being aware of the sensations and signals from your body. Notice any emotions or thoughts that arise during the meal, without judgment.\\n\\nIn conclusion, practicing mindful eating can have numerous benefits for our overall well-being. From improved digestion and weight management to increased enjoyment of food, it is a simple yet powerful practice that can positively impact our lives. So, let's slow down, savor each bite, and nourish our bodies and souls with mindful eating.\", additional_kwargs={}, example=False),\n",
       " 'The Benefits of Mindful Eating',\n",
       " 'Learn how practicing mindful eating can improve digestion and enhance the enjoyment of food.')"
      ]
     },
     "execution_count": 22,
     "metadata": {},
     "output_type": "execute_result"
    }
   ],
   "source": [
    "articles[1]"
   ]
  },
  {
   "cell_type": "code",
   "execution_count": 19,
   "metadata": {},
   "outputs": [],
   "source": [
    "df = pd.DataFrame(articles, columns=[\"Articolo\", \"Argomento\", \"Descrizione\"])"
   ]
  },
  {
   "cell_type": "code",
   "execution_count": 20,
   "metadata": {},
   "outputs": [
    {
     "data": {
      "text/html": [
       "<div>\n",
       "<style scoped>\n",
       "    .dataframe tbody tr th:only-of-type {\n",
       "        vertical-align: middle;\n",
       "    }\n",
       "\n",
       "    .dataframe tbody tr th {\n",
       "        vertical-align: top;\n",
       "    }\n",
       "\n",
       "    .dataframe thead th {\n",
       "        text-align: right;\n",
       "    }\n",
       "</style>\n",
       "<table border=\"1\" class=\"dataframe\">\n",
       "  <thead>\n",
       "    <tr style=\"text-align: right;\">\n",
       "      <th></th>\n",
       "      <th>Articolo</th>\n",
       "      <th>Argomento</th>\n",
       "      <th>Descrizione</th>\n",
       "    </tr>\n",
       "  </thead>\n",
       "  <tbody>\n",
       "    <tr>\n",
       "      <th>0</th>\n",
       "      <td>content=\"###The Influence of Pop Culture on So...</td>\n",
       "      <td>The Influence of Pop Culture on Society</td>\n",
       "      <td>Explore how popular culture trends influence f...</td>\n",
       "    </tr>\n",
       "    <tr>\n",
       "      <th>1</th>\n",
       "      <td>content=\"###The Benefits of Mindful Eating: Le...</td>\n",
       "      <td>The Benefits of Mindful Eating</td>\n",
       "      <td>Learn how practicing mindful eating can improv...</td>\n",
       "    </tr>\n",
       "    <tr>\n",
       "      <th>2</th>\n",
       "      <td>content=\"######The Importance of Financial Lit...</td>\n",
       "      <td>The Importance of Financial Literacy</td>\n",
       "      <td>Learn about the significance of understanding ...</td>\n",
       "    </tr>\n",
       "    <tr>\n",
       "      <th>3</th>\n",
       "      <td>content=\"###The Impact of Fast Fashion on the ...</td>\n",
       "      <td>The Impact of Fast Fashion on the Environment</td>\n",
       "      <td>Explore the environmental consequences of fast...</td>\n",
       "    </tr>\n",
       "    <tr>\n",
       "      <th>4</th>\n",
       "      <td>content='###The Benefits of Regular Exercise f...</td>\n",
       "      <td>The Benefits of Regular Exercise for Mental He...</td>\n",
       "      <td>Learn how physical activity can improve mental...</td>\n",
       "    </tr>\n",
       "  </tbody>\n",
       "</table>\n",
       "</div>"
      ],
      "text/plain": [
       "                                            Articolo  \\\n",
       "0  content=\"###The Influence of Pop Culture on So...   \n",
       "1  content=\"###The Benefits of Mindful Eating: Le...   \n",
       "2  content=\"######The Importance of Financial Lit...   \n",
       "3  content=\"###The Impact of Fast Fashion on the ...   \n",
       "4  content='###The Benefits of Regular Exercise f...   \n",
       "\n",
       "                                           Argomento  \\\n",
       "0            The Influence of Pop Culture on Society   \n",
       "1                     The Benefits of Mindful Eating   \n",
       "2               The Importance of Financial Literacy   \n",
       "3      The Impact of Fast Fashion on the Environment   \n",
       "4  The Benefits of Regular Exercise for Mental He...   \n",
       "\n",
       "                                         Descrizione  \n",
       "0  Explore how popular culture trends influence f...  \n",
       "1  Learn how practicing mindful eating can improv...  \n",
       "2  Learn about the significance of understanding ...  \n",
       "3  Explore the environmental consequences of fast...  \n",
       "4  Learn how physical activity can improve mental...  "
      ]
     },
     "execution_count": 20,
     "metadata": {},
     "output_type": "execute_result"
    }
   ],
   "source": [
    "df.head()"
   ]
  },
  {
   "cell_type": "code",
   "execution_count": 32,
   "metadata": {},
   "outputs": [],
   "source": [
    "df['Articolo'] = df['Articolo'].apply(lambda x: x.content.split(\"\\n\\n\",1)[1])"
   ]
  },
  {
   "cell_type": "code",
   "execution_count": 33,
   "metadata": {},
   "outputs": [
    {
     "data": {
      "text/html": [
       "<div>\n",
       "<style scoped>\n",
       "    .dataframe tbody tr th:only-of-type {\n",
       "        vertical-align: middle;\n",
       "    }\n",
       "\n",
       "    .dataframe tbody tr th {\n",
       "        vertical-align: top;\n",
       "    }\n",
       "\n",
       "    .dataframe thead th {\n",
       "        text-align: right;\n",
       "    }\n",
       "</style>\n",
       "<table border=\"1\" class=\"dataframe\">\n",
       "  <thead>\n",
       "    <tr style=\"text-align: right;\">\n",
       "      <th></th>\n",
       "      <th>Articolo</th>\n",
       "      <th>Argomento</th>\n",
       "      <th>Descrizione</th>\n",
       "    </tr>\n",
       "  </thead>\n",
       "  <tbody>\n",
       "    <tr>\n",
       "      <th>0</th>\n",
       "      <td>Pop culture, short for popular culture, refers...</td>\n",
       "      <td>The Influence of Pop Culture on Society</td>\n",
       "      <td>Explore how popular culture trends influence f...</td>\n",
       "    </tr>\n",
       "    <tr>\n",
       "      <th>1</th>\n",
       "      <td>In our fast-paced and hectic lives, we often f...</td>\n",
       "      <td>The Benefits of Mindful Eating</td>\n",
       "      <td>Learn how practicing mindful eating can improv...</td>\n",
       "    </tr>\n",
       "    <tr>\n",
       "      <th>2</th>\n",
       "      <td>Financial literacy is a crucial skill that eve...</td>\n",
       "      <td>The Importance of Financial Literacy</td>\n",
       "      <td>Learn about the significance of understanding ...</td>\n",
       "    </tr>\n",
       "    <tr>\n",
       "      <th>3</th>\n",
       "      <td>Fast fashion has become a dominant force in th...</td>\n",
       "      <td>The Impact of Fast Fashion on the Environment</td>\n",
       "      <td>Explore the environmental consequences of fast...</td>\n",
       "    </tr>\n",
       "    <tr>\n",
       "      <th>4</th>\n",
       "      <td>Physical exercise has long been known to have ...</td>\n",
       "      <td>The Benefits of Regular Exercise for Mental He...</td>\n",
       "      <td>Learn how physical activity can improve mental...</td>\n",
       "    </tr>\n",
       "  </tbody>\n",
       "</table>\n",
       "</div>"
      ],
      "text/plain": [
       "                                            Articolo  \\\n",
       "0  Pop culture, short for popular culture, refers...   \n",
       "1  In our fast-paced and hectic lives, we often f...   \n",
       "2  Financial literacy is a crucial skill that eve...   \n",
       "3  Fast fashion has become a dominant force in th...   \n",
       "4  Physical exercise has long been known to have ...   \n",
       "\n",
       "                                           Argomento  \\\n",
       "0            The Influence of Pop Culture on Society   \n",
       "1                     The Benefits of Mindful Eating   \n",
       "2               The Importance of Financial Literacy   \n",
       "3      The Impact of Fast Fashion on the Environment   \n",
       "4  The Benefits of Regular Exercise for Mental He...   \n",
       "\n",
       "                                         Descrizione  \n",
       "0  Explore how popular culture trends influence f...  \n",
       "1  Learn how practicing mindful eating can improv...  \n",
       "2  Learn about the significance of understanding ...  \n",
       "3  Explore the environmental consequences of fast...  \n",
       "4  Learn how physical activity can improve mental...  "
      ]
     },
     "execution_count": 33,
     "metadata": {},
     "output_type": "execute_result"
    }
   ],
   "source": [
    "df.head()"
   ]
  },
  {
   "cell_type": "code",
   "execution_count": 41,
   "metadata": {},
   "outputs": [],
   "source": [
    "path = \"C:\\\\Users\\\\Tiziano Pacifico\\\\Desktop\\\\Applicativi personali\\\\Test LDA,keybert,bertopic\\\\Outputs\\\\\"\n",
    "filename = \"Articles_DF.json\""
   ]
  },
  {
   "cell_type": "code",
   "execution_count": 40,
   "metadata": {},
   "outputs": [],
   "source": [
    "df.to_json(path+filename, orient=\"records\", lines=True)"
   ]
  },
  {
   "cell_type": "code",
   "execution_count": null,
   "metadata": {},
   "outputs": [],
   "source": []
  }
 ],
 "metadata": {
  "kernelspec": {
   "display_name": "tesi10",
   "language": "python",
   "name": "p10"
  },
  "language_info": {
   "codemirror_mode": {
    "name": "ipython",
    "version": 3
   },
   "file_extension": ".py",
   "mimetype": "text/x-python",
   "name": "python",
   "nbconvert_exporter": "python",
   "pygments_lexer": "ipython3",
   "version": "3.10.11"
  }
 },
 "nbformat": 4,
 "nbformat_minor": 2
}
