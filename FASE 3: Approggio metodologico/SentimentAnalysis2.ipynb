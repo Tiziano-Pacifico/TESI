{
 "cells": [
  {
   "cell_type": "code",
   "execution_count": 5,
   "id": "1dd191d4",
   "metadata": {},
   "outputs": [],
   "source": [
    "import pandas as pd\n",
    "\n",
    "import matplotlib.pyplot as plt\n",
    "import numpy as np\n",
    "from textblob import TextBlob\n",
    "import re\n",
    "from nltk.corpus import stopwords\n",
    "\n",
    "from vaderSentiment.vaderSentiment import SentimentIntensityAnalyzer\n",
    "\n",
    "from sklearn.linear_model import LinearRegression\n",
    "\n",
    "from sklearn.metrics import mean_squared_error, mean_absolute_error, r2_score\n",
    "import plotly.graph_objects as go"
   ]
  },
  {
   "cell_type": "code",
   "execution_count": 6,
   "metadata": {},
   "outputs": [],
   "source": [
    "import plotly.express as px"
   ]
  },
  {
   "cell_type": "code",
   "execution_count": 7,
   "id": "7af93ece",
   "metadata": {},
   "outputs": [],
   "source": [
    "#https://medium.com/@gabya06/python-sentiment-analysis-using-textblob-and-vader-for-glassdoor-reviews-cc9632babb73"
   ]
  },
  {
   "cell_type": "code",
   "execution_count": 8,
   "id": "2b973978",
   "metadata": {},
   "outputs": [],
   "source": [
    "path = \"C:\\\\Users\\\\Tiziano Pacifico\\\\Desktop\\\\Applicativi personali\\\\Sentiment\\\\Outputs\\\\\"\n",
    "filename = \"Company_DF.json\""
   ]
  },
  {
   "cell_type": "code",
   "execution_count": 9,
   "id": "d1cf91c7",
   "metadata": {},
   "outputs": [],
   "source": [
    "data = pd.read_json(path+filename,lines=True)"
   ]
  },
  {
   "cell_type": "code",
   "execution_count": 10,
   "metadata": {},
   "outputs": [
    {
     "data": {
      "text/html": [
       "<div>\n",
       "<style scoped>\n",
       "    .dataframe tbody tr th:only-of-type {\n",
       "        vertical-align: middle;\n",
       "    }\n",
       "\n",
       "    .dataframe tbody tr th {\n",
       "        vertical-align: top;\n",
       "    }\n",
       "\n",
       "    .dataframe thead th {\n",
       "        text-align: right;\n",
       "    }\n",
       "</style>\n",
       "<table border=\"1\" class=\"dataframe\">\n",
       "  <thead>\n",
       "    <tr style=\"text-align: right;\">\n",
       "      <th></th>\n",
       "      <th>name</th>\n",
       "      <th>rating</th>\n",
       "      <th>review</th>\n",
       "    </tr>\n",
       "  </thead>\n",
       "  <tbody>\n",
       "    <tr>\n",
       "      <th>0</th>\n",
       "      <td>GreenTech Innovations</td>\n",
       "      <td>1.3</td>\n",
       "      <td>Extremely disappointed with their service. Pro...</td>\n",
       "    </tr>\n",
       "    <tr>\n",
       "      <th>1</th>\n",
       "      <td>CrispCloud Solutions</td>\n",
       "      <td>4.7</td>\n",
       "      <td>CrispCloud Solutions has consistently exceeded...</td>\n",
       "    </tr>\n",
       "    <tr>\n",
       "      <th>2</th>\n",
       "      <td>HappyHome Gardening</td>\n",
       "      <td>1.8</td>\n",
       "      <td>Extremely dissatisfied with the service. The p...</td>\n",
       "    </tr>\n",
       "    <tr>\n",
       "      <th>3</th>\n",
       "      <td>AquaPure Waters</td>\n",
       "      <td>1.2</td>\n",
       "      <td>Extremely dissatisfied with the water quality ...</td>\n",
       "    </tr>\n",
       "    <tr>\n",
       "      <th>4</th>\n",
       "      <td>QuickFix Plumbing</td>\n",
       "      <td>1.7</td>\n",
       "      <td>Very disappointing experience with QuickFix Pl...</td>\n",
       "    </tr>\n",
       "  </tbody>\n",
       "</table>\n",
       "</div>"
      ],
      "text/plain": [
       "                    name  rating  \\\n",
       "0  GreenTech Innovations     1.3   \n",
       "1   CrispCloud Solutions     4.7   \n",
       "2    HappyHome Gardening     1.8   \n",
       "3        AquaPure Waters     1.2   \n",
       "4      QuickFix Plumbing     1.7   \n",
       "\n",
       "                                              review  \n",
       "0  Extremely disappointed with their service. Pro...  \n",
       "1  CrispCloud Solutions has consistently exceeded...  \n",
       "2  Extremely dissatisfied with the service. The p...  \n",
       "3  Extremely dissatisfied with the water quality ...  \n",
       "4  Very disappointing experience with QuickFix Pl...  "
      ]
     },
     "execution_count": 10,
     "metadata": {},
     "output_type": "execute_result"
    }
   ],
   "source": [
    "data.head()"
   ]
  },
  {
   "cell_type": "code",
   "execution_count": 11,
   "id": "2a1bff6a",
   "metadata": {},
   "outputs": [],
   "source": [
    "nuovi_nomi_colonne = {\n",
    "    'name': 'company',\n",
    "    'rating': 'stars',\n",
    "}\n",
    "data = data.rename(columns=nuovi_nomi_colonne)"
   ]
  },
  {
   "cell_type": "code",
   "execution_count": 12,
   "metadata": {},
   "outputs": [],
   "source": [
    "data['review len'] = data['review'].apply(lambda x: len(x))"
   ]
  },
  {
   "cell_type": "code",
   "execution_count": 13,
   "metadata": {},
   "outputs": [],
   "source": [
    "data = data.sort_values(by='stars', ascending=False)"
   ]
  },
  {
   "cell_type": "code",
   "execution_count": 14,
   "metadata": {},
   "outputs": [
    {
     "data": {
      "application/vnd.plotly.v1+json": {
       "config": {
        "plotlyServerURL": "https://plot.ly"
       },
       "data": [
        {
         "marker": {
          "color": "rgba(246, 78, 139, 0.6)",
          "line": {
           "color": "rgba(246, 78, 139, 1.0)",
           "width": 3
          }
         },
         "opacity": 0.75,
         "type": "histogram",
         "x": [
          4.9,
          4.9,
          4.8,
          4.8,
          4.8,
          4.7,
          4.7,
          4.6,
          4.6,
          4.5,
          2.9,
          2.7,
          2.5,
          2.4,
          2.4,
          2.3,
          2.3,
          2.3,
          2.3,
          2.3,
          2.3,
          2.3,
          2.2,
          2.2,
          2.2,
          2.2,
          2.1,
          2.1,
          2.1,
          2.1,
          2.1,
          2.1,
          2.1,
          2.1,
          2,
          2,
          2,
          2,
          2,
          2,
          2,
          2,
          2,
          2,
          2,
          2,
          2,
          2,
          2,
          1.9,
          1.9,
          1.9,
          1.9,
          1.9,
          1.9,
          1.9,
          1.9,
          1.9,
          1.9,
          1.9,
          1.9,
          1.9,
          1.9,
          1.9,
          1.9,
          1.9,
          1.9,
          1.8,
          1.8,
          1.8,
          1.8,
          1.8,
          1.8,
          1.8,
          1.8,
          1.8,
          1.8,
          1.8,
          1.8,
          1.8,
          1.8,
          1.8,
          1.8,
          1.8,
          1.8,
          1.8,
          1.8,
          1.8,
          1.8,
          1.8,
          1.8,
          1.7,
          1.7,
          1.7,
          1.7,
          1.7,
          1.7,
          1.7,
          1.7,
          1.7,
          1.7,
          1.7,
          1.7,
          1.7,
          1.7,
          1.7,
          1.7,
          1.7,
          1.7,
          1.7,
          1.7,
          1.7,
          1.7,
          1.7,
          1.7,
          1.7,
          1.7,
          1.7,
          1.7,
          1.7,
          1.7,
          1.7,
          1.6,
          1.6,
          1.6,
          1.6,
          1.6,
          1.6,
          1.6,
          1.6,
          1.6,
          1.6,
          1.6,
          1.6,
          1.6,
          1.6,
          1.6,
          1.6,
          1.6,
          1.6,
          1.6,
          1.6,
          1.6,
          1.6,
          1.6,
          1.6,
          1.6,
          1.6,
          1.6,
          1.6,
          1.5,
          1.5,
          1.5,
          1.5,
          1.5,
          1.5,
          1.5,
          1.5,
          1.5,
          1.5,
          1.5,
          1.5,
          1.5,
          1.5,
          1.4,
          1.4,
          1.4,
          1.4,
          1.4,
          1.4,
          1.4,
          1.4,
          1.4,
          1.4,
          1.4,
          1.4,
          1.4,
          1.4,
          1.4,
          1.4,
          1.4,
          1.4,
          1.4,
          1.4,
          1.4,
          1.4,
          1.4,
          1.4,
          1.4,
          1.4,
          1.4,
          1.4,
          1.4,
          1.3,
          1.3,
          1.3,
          1.3,
          1.3,
          1.3,
          1.3,
          1.3,
          1.3,
          1.3,
          1.3,
          1.3,
          1.3,
          1.3,
          1.3,
          1.3,
          1.3,
          1.3,
          1.3,
          1.3,
          1.3,
          1.3,
          1.3,
          1.3,
          1.3,
          1.3,
          1.3,
          1.3,
          1.3,
          1.3,
          1.3,
          1.3,
          1.3,
          1.3,
          1.2,
          1.2,
          1.2,
          1.2,
          1.2,
          1.2,
          1.2,
          1.2,
          1.2,
          1.2,
          1.2,
          1.2,
          1.2,
          1.2,
          1.2,
          1.2,
          1.2,
          1.2,
          1.2,
          1.2,
          1.2,
          1.2,
          1.2,
          1.2,
          1.2,
          1.2,
          1.2,
          1.1,
          1.1,
          1.1,
          1.1,
          1.1,
          1.1,
          1.1,
          1.1,
          1.1,
          1.1,
          1.1,
          1.1,
          1.1,
          1.1,
          1.1,
          1.1,
          1.1,
          1.1,
          1.1,
          1.1,
          1.1,
          1.1,
          1.1,
          1.1,
          1.1,
          1.1,
          1.1,
          1,
          1,
          1,
          1,
          1,
          1,
          1,
          1,
          1,
          1,
          1,
          1,
          1,
          1,
          1,
          1,
          1,
          1,
          1,
          1,
          1,
          1,
          1,
          1,
          0.9,
          0.8,
          0.7,
          0.6,
          0.6,
          0.5
         ]
        }
       ],
       "layout": {
        "bargap": 0,
        "bargroupgap": 0.1,
        "font": {
         "color": "#000000"
        },
        "template": {
         "data": {
          "bar": [
           {
            "error_x": {
             "color": "#2a3f5f"
            },
            "error_y": {
             "color": "#2a3f5f"
            },
            "marker": {
             "line": {
              "color": "#E5ECF6",
              "width": 0.5
             },
             "pattern": {
              "fillmode": "overlay",
              "size": 10,
              "solidity": 0.2
             }
            },
            "type": "bar"
           }
          ],
          "barpolar": [
           {
            "marker": {
             "line": {
              "color": "#E5ECF6",
              "width": 0.5
             },
             "pattern": {
              "fillmode": "overlay",
              "size": 10,
              "solidity": 0.2
             }
            },
            "type": "barpolar"
           }
          ],
          "carpet": [
           {
            "aaxis": {
             "endlinecolor": "#2a3f5f",
             "gridcolor": "white",
             "linecolor": "white",
             "minorgridcolor": "white",
             "startlinecolor": "#2a3f5f"
            },
            "baxis": {
             "endlinecolor": "#2a3f5f",
             "gridcolor": "white",
             "linecolor": "white",
             "minorgridcolor": "white",
             "startlinecolor": "#2a3f5f"
            },
            "type": "carpet"
           }
          ],
          "choropleth": [
           {
            "colorbar": {
             "outlinewidth": 0,
             "ticks": ""
            },
            "type": "choropleth"
           }
          ],
          "contour": [
           {
            "colorbar": {
             "outlinewidth": 0,
             "ticks": ""
            },
            "colorscale": [
             [
              0,
              "#0d0887"
             ],
             [
              0.1111111111111111,
              "#46039f"
             ],
             [
              0.2222222222222222,
              "#7201a8"
             ],
             [
              0.3333333333333333,
              "#9c179e"
             ],
             [
              0.4444444444444444,
              "#bd3786"
             ],
             [
              0.5555555555555556,
              "#d8576b"
             ],
             [
              0.6666666666666666,
              "#ed7953"
             ],
             [
              0.7777777777777778,
              "#fb9f3a"
             ],
             [
              0.8888888888888888,
              "#fdca26"
             ],
             [
              1,
              "#f0f921"
             ]
            ],
            "type": "contour"
           }
          ],
          "contourcarpet": [
           {
            "colorbar": {
             "outlinewidth": 0,
             "ticks": ""
            },
            "type": "contourcarpet"
           }
          ],
          "heatmap": [
           {
            "colorbar": {
             "outlinewidth": 0,
             "ticks": ""
            },
            "colorscale": [
             [
              0,
              "#0d0887"
             ],
             [
              0.1111111111111111,
              "#46039f"
             ],
             [
              0.2222222222222222,
              "#7201a8"
             ],
             [
              0.3333333333333333,
              "#9c179e"
             ],
             [
              0.4444444444444444,
              "#bd3786"
             ],
             [
              0.5555555555555556,
              "#d8576b"
             ],
             [
              0.6666666666666666,
              "#ed7953"
             ],
             [
              0.7777777777777778,
              "#fb9f3a"
             ],
             [
              0.8888888888888888,
              "#fdca26"
             ],
             [
              1,
              "#f0f921"
             ]
            ],
            "type": "heatmap"
           }
          ],
          "heatmapgl": [
           {
            "colorbar": {
             "outlinewidth": 0,
             "ticks": ""
            },
            "colorscale": [
             [
              0,
              "#0d0887"
             ],
             [
              0.1111111111111111,
              "#46039f"
             ],
             [
              0.2222222222222222,
              "#7201a8"
             ],
             [
              0.3333333333333333,
              "#9c179e"
             ],
             [
              0.4444444444444444,
              "#bd3786"
             ],
             [
              0.5555555555555556,
              "#d8576b"
             ],
             [
              0.6666666666666666,
              "#ed7953"
             ],
             [
              0.7777777777777778,
              "#fb9f3a"
             ],
             [
              0.8888888888888888,
              "#fdca26"
             ],
             [
              1,
              "#f0f921"
             ]
            ],
            "type": "heatmapgl"
           }
          ],
          "histogram": [
           {
            "marker": {
             "pattern": {
              "fillmode": "overlay",
              "size": 10,
              "solidity": 0.2
             }
            },
            "type": "histogram"
           }
          ],
          "histogram2d": [
           {
            "colorbar": {
             "outlinewidth": 0,
             "ticks": ""
            },
            "colorscale": [
             [
              0,
              "#0d0887"
             ],
             [
              0.1111111111111111,
              "#46039f"
             ],
             [
              0.2222222222222222,
              "#7201a8"
             ],
             [
              0.3333333333333333,
              "#9c179e"
             ],
             [
              0.4444444444444444,
              "#bd3786"
             ],
             [
              0.5555555555555556,
              "#d8576b"
             ],
             [
              0.6666666666666666,
              "#ed7953"
             ],
             [
              0.7777777777777778,
              "#fb9f3a"
             ],
             [
              0.8888888888888888,
              "#fdca26"
             ],
             [
              1,
              "#f0f921"
             ]
            ],
            "type": "histogram2d"
           }
          ],
          "histogram2dcontour": [
           {
            "colorbar": {
             "outlinewidth": 0,
             "ticks": ""
            },
            "colorscale": [
             [
              0,
              "#0d0887"
             ],
             [
              0.1111111111111111,
              "#46039f"
             ],
             [
              0.2222222222222222,
              "#7201a8"
             ],
             [
              0.3333333333333333,
              "#9c179e"
             ],
             [
              0.4444444444444444,
              "#bd3786"
             ],
             [
              0.5555555555555556,
              "#d8576b"
             ],
             [
              0.6666666666666666,
              "#ed7953"
             ],
             [
              0.7777777777777778,
              "#fb9f3a"
             ],
             [
              0.8888888888888888,
              "#fdca26"
             ],
             [
              1,
              "#f0f921"
             ]
            ],
            "type": "histogram2dcontour"
           }
          ],
          "mesh3d": [
           {
            "colorbar": {
             "outlinewidth": 0,
             "ticks": ""
            },
            "type": "mesh3d"
           }
          ],
          "parcoords": [
           {
            "line": {
             "colorbar": {
              "outlinewidth": 0,
              "ticks": ""
             }
            },
            "type": "parcoords"
           }
          ],
          "pie": [
           {
            "automargin": true,
            "type": "pie"
           }
          ],
          "scatter": [
           {
            "fillpattern": {
             "fillmode": "overlay",
             "size": 10,
             "solidity": 0.2
            },
            "type": "scatter"
           }
          ],
          "scatter3d": [
           {
            "line": {
             "colorbar": {
              "outlinewidth": 0,
              "ticks": ""
             }
            },
            "marker": {
             "colorbar": {
              "outlinewidth": 0,
              "ticks": ""
             }
            },
            "type": "scatter3d"
           }
          ],
          "scattercarpet": [
           {
            "marker": {
             "colorbar": {
              "outlinewidth": 0,
              "ticks": ""
             }
            },
            "type": "scattercarpet"
           }
          ],
          "scattergeo": [
           {
            "marker": {
             "colorbar": {
              "outlinewidth": 0,
              "ticks": ""
             }
            },
            "type": "scattergeo"
           }
          ],
          "scattergl": [
           {
            "marker": {
             "colorbar": {
              "outlinewidth": 0,
              "ticks": ""
             }
            },
            "type": "scattergl"
           }
          ],
          "scattermapbox": [
           {
            "marker": {
             "colorbar": {
              "outlinewidth": 0,
              "ticks": ""
             }
            },
            "type": "scattermapbox"
           }
          ],
          "scatterpolar": [
           {
            "marker": {
             "colorbar": {
              "outlinewidth": 0,
              "ticks": ""
             }
            },
            "type": "scatterpolar"
           }
          ],
          "scatterpolargl": [
           {
            "marker": {
             "colorbar": {
              "outlinewidth": 0,
              "ticks": ""
             }
            },
            "type": "scatterpolargl"
           }
          ],
          "scatterternary": [
           {
            "marker": {
             "colorbar": {
              "outlinewidth": 0,
              "ticks": ""
             }
            },
            "type": "scatterternary"
           }
          ],
          "surface": [
           {
            "colorbar": {
             "outlinewidth": 0,
             "ticks": ""
            },
            "colorscale": [
             [
              0,
              "#0d0887"
             ],
             [
              0.1111111111111111,
              "#46039f"
             ],
             [
              0.2222222222222222,
              "#7201a8"
             ],
             [
              0.3333333333333333,
              "#9c179e"
             ],
             [
              0.4444444444444444,
              "#bd3786"
             ],
             [
              0.5555555555555556,
              "#d8576b"
             ],
             [
              0.6666666666666666,
              "#ed7953"
             ],
             [
              0.7777777777777778,
              "#fb9f3a"
             ],
             [
              0.8888888888888888,
              "#fdca26"
             ],
             [
              1,
              "#f0f921"
             ]
            ],
            "type": "surface"
           }
          ],
          "table": [
           {
            "cells": {
             "fill": {
              "color": "#EBF0F8"
             },
             "line": {
              "color": "white"
             }
            },
            "header": {
             "fill": {
              "color": "#C8D4E3"
             },
             "line": {
              "color": "white"
             }
            },
            "type": "table"
           }
          ]
         },
         "layout": {
          "annotationdefaults": {
           "arrowcolor": "#2a3f5f",
           "arrowhead": 0,
           "arrowwidth": 1
          },
          "autotypenumbers": "strict",
          "coloraxis": {
           "colorbar": {
            "outlinewidth": 0,
            "ticks": ""
           }
          },
          "colorscale": {
           "diverging": [
            [
             0,
             "#8e0152"
            ],
            [
             0.1,
             "#c51b7d"
            ],
            [
             0.2,
             "#de77ae"
            ],
            [
             0.3,
             "#f1b6da"
            ],
            [
             0.4,
             "#fde0ef"
            ],
            [
             0.5,
             "#f7f7f7"
            ],
            [
             0.6,
             "#e6f5d0"
            ],
            [
             0.7,
             "#b8e186"
            ],
            [
             0.8,
             "#7fbc41"
            ],
            [
             0.9,
             "#4d9221"
            ],
            [
             1,
             "#276419"
            ]
           ],
           "sequential": [
            [
             0,
             "#0d0887"
            ],
            [
             0.1111111111111111,
             "#46039f"
            ],
            [
             0.2222222222222222,
             "#7201a8"
            ],
            [
             0.3333333333333333,
             "#9c179e"
            ],
            [
             0.4444444444444444,
             "#bd3786"
            ],
            [
             0.5555555555555556,
             "#d8576b"
            ],
            [
             0.6666666666666666,
             "#ed7953"
            ],
            [
             0.7777777777777778,
             "#fb9f3a"
            ],
            [
             0.8888888888888888,
             "#fdca26"
            ],
            [
             1,
             "#f0f921"
            ]
           ],
           "sequentialminus": [
            [
             0,
             "#0d0887"
            ],
            [
             0.1111111111111111,
             "#46039f"
            ],
            [
             0.2222222222222222,
             "#7201a8"
            ],
            [
             0.3333333333333333,
             "#9c179e"
            ],
            [
             0.4444444444444444,
             "#bd3786"
            ],
            [
             0.5555555555555556,
             "#d8576b"
            ],
            [
             0.6666666666666666,
             "#ed7953"
            ],
            [
             0.7777777777777778,
             "#fb9f3a"
            ],
            [
             0.8888888888888888,
             "#fdca26"
            ],
            [
             1,
             "#f0f921"
            ]
           ]
          },
          "colorway": [
           "#636efa",
           "#EF553B",
           "#00cc96",
           "#ab63fa",
           "#FFA15A",
           "#19d3f3",
           "#FF6692",
           "#B6E880",
           "#FF97FF",
           "#FECB52"
          ],
          "font": {
           "color": "#2a3f5f"
          },
          "geo": {
           "bgcolor": "white",
           "lakecolor": "white",
           "landcolor": "#E5ECF6",
           "showlakes": true,
           "showland": true,
           "subunitcolor": "white"
          },
          "hoverlabel": {
           "align": "left"
          },
          "hovermode": "closest",
          "mapbox": {
           "style": "light"
          },
          "paper_bgcolor": "white",
          "plot_bgcolor": "#E5ECF6",
          "polar": {
           "angularaxis": {
            "gridcolor": "white",
            "linecolor": "white",
            "ticks": ""
           },
           "bgcolor": "#E5ECF6",
           "radialaxis": {
            "gridcolor": "white",
            "linecolor": "white",
            "ticks": ""
           }
          },
          "scene": {
           "xaxis": {
            "backgroundcolor": "#E5ECF6",
            "gridcolor": "white",
            "gridwidth": 2,
            "linecolor": "white",
            "showbackground": true,
            "ticks": "",
            "zerolinecolor": "white"
           },
           "yaxis": {
            "backgroundcolor": "#E5ECF6",
            "gridcolor": "white",
            "gridwidth": 2,
            "linecolor": "white",
            "showbackground": true,
            "ticks": "",
            "zerolinecolor": "white"
           },
           "zaxis": {
            "backgroundcolor": "#E5ECF6",
            "gridcolor": "white",
            "gridwidth": 2,
            "linecolor": "white",
            "showbackground": true,
            "ticks": "",
            "zerolinecolor": "white"
           }
          },
          "shapedefaults": {
           "line": {
            "color": "#2a3f5f"
           }
          },
          "ternary": {
           "aaxis": {
            "gridcolor": "white",
            "linecolor": "white",
            "ticks": ""
           },
           "baxis": {
            "gridcolor": "white",
            "linecolor": "white",
            "ticks": ""
           },
           "bgcolor": "#E5ECF6",
           "caxis": {
            "gridcolor": "white",
            "linecolor": "white",
            "ticks": ""
           }
          },
          "title": {
           "x": 0.05
          },
          "xaxis": {
           "automargin": true,
           "gridcolor": "white",
           "linecolor": "white",
           "ticks": "",
           "title": {
            "standoff": 15
           },
           "zerolinecolor": "white",
           "zerolinewidth": 2
          },
          "yaxis": {
           "automargin": true,
           "gridcolor": "white",
           "linecolor": "white",
           "ticks": "",
           "title": {
            "standoff": 15
           },
           "zerolinecolor": "white",
           "zerolinewidth": 2
          }
         }
        },
        "title": {
         "font": {
          "color": "#000000"
         },
         "text": "<b>Distribuzione delle recensioni per valutazione",
         "x": 0.5,
         "xanchor": "center"
        },
        "width": 800,
        "xaxis": {
         "title": {
          "font": {
           "color": "#000000"
          },
          "text": "Stars rating"
         }
        },
        "yaxis": {
         "title": {
          "font": {
           "color": "#000000"
          },
          "text": "Numero recensioni"
         }
        }
       }
      }
     },
     "metadata": {},
     "output_type": "display_data"
    }
   ],
   "source": [
    "fig = go.Figure()\n",
    "fig.add_trace(go.Histogram(\n",
    "    x=data['stars'],\n",
    "    marker=dict(\n",
    "        color='rgba(246, 78, 139, 0.6)',\n",
    "        line=dict(color='rgba(246, 78, 139, 1.0)', width=3)\n",
    "    ),\n",
    "    opacity=0.75\n",
    "))\n",
    "\n",
    "fig.update_layout(\n",
    "    title_font=dict(color='#000000'),\n",
    "    xaxis_title_font=dict(color='#000000'),\n",
    "    yaxis_title_font=dict(color='#000000'),\n",
    "    font=dict(color='#000000'),\n",
    "    title_text='<b>Distribuzione delle recensioni per valutazione', # title of plot\n",
    "    title_x=0.5,\n",
    "    title_xanchor='center',\n",
    "    xaxis_title_text='Stars rating', # xaxis label\n",
    "    yaxis_title_text='Numero recensioni', # yaxis label\n",
    "    bargap=0, # gap between bars of adjacent location coordinates\n",
    "    bargroupgap=0.1, # gap between bars of the same location coordinates\n",
    "    width = 800\n",
    ")\n",
    "\n",
    "fig.show()"
   ]
  },
  {
   "cell_type": "code",
   "execution_count": 15,
   "metadata": {},
   "outputs": [
    {
     "data": {
      "application/vnd.plotly.v1+json": {
       "config": {
        "plotlyServerURL": "https://plot.ly"
       },
       "data": [
        {
         "marker": {
          "color": "rgba(246, 78, 139, 0.6)",
          "line": {
           "color": "rgba(246, 78, 139, 1.0)",
           "width": 3
          }
         },
         "opacity": 0.75,
         "type": "histogram",
         "x": [
          209,
          194,
          207,
          171,
          218,
          225,
          198,
          176,
          146,
          301,
          141,
          187,
          212,
          204,
          152,
          245,
          189,
          253,
          194,
          149,
          225,
          204,
          149,
          196,
          263,
          170,
          172,
          190,
          192,
          238,
          227,
          193,
          179,
          224,
          190,
          215,
          132,
          241,
          122,
          195,
          192,
          228,
          167,
          291,
          181,
          188,
          201,
          129,
          183,
          143,
          193,
          141,
          178,
          240,
          220,
          225,
          200,
          153,
          201,
          198,
          207,
          176,
          279,
          235,
          176,
          223,
          182,
          196,
          183,
          215,
          162,
          148,
          167,
          224,
          246,
          190,
          146,
          229,
          195,
          207,
          136,
          194,
          205,
          152,
          190,
          195,
          171,
          243,
          216,
          221,
          199,
          170,
          169,
          190,
          203,
          219,
          240,
          138,
          165,
          184,
          115,
          170,
          167,
          152,
          155,
          153,
          166,
          230,
          170,
          165,
          227,
          217,
          193,
          222,
          216,
          169,
          180,
          202,
          193,
          136,
          192,
          241,
          211,
          240,
          210,
          162,
          143,
          163,
          122,
          113,
          188,
          161,
          184,
          206,
          184,
          180,
          210,
          223,
          147,
          115,
          188,
          193,
          143,
          222,
          155,
          199,
          168,
          250,
          137,
          142,
          157,
          260,
          245,
          179,
          238,
          158,
          211,
          204,
          218,
          237,
          95,
          153,
          196,
          149,
          166,
          204,
          128,
          185,
          201,
          131,
          150,
          224,
          185,
          263,
          101,
          239,
          194,
          176,
          157,
          176,
          202,
          199,
          257,
          130,
          186,
          136,
          237,
          186,
          173,
          181,
          185,
          192,
          107,
          200,
          127,
          168,
          223,
          105,
          139,
          178,
          221,
          186,
          252,
          188,
          155,
          179,
          196,
          100,
          201,
          148,
          166,
          162,
          228,
          233,
          170,
          173,
          191,
          208,
          145,
          190,
          184,
          207,
          207,
          242,
          122,
          185,
          138,
          161,
          154,
          196,
          144,
          163,
          156,
          215,
          151,
          208,
          173,
          176,
          136,
          162,
          202,
          209,
          178,
          161,
          167,
          127,
          175,
          200,
          167,
          195,
          243,
          123,
          170,
          154,
          199,
          247,
          164,
          158,
          124,
          156,
          219,
          199,
          175,
          205,
          171,
          152,
          157,
          195,
          202,
          215,
          157,
          172,
          204,
          208,
          196,
          206,
          187,
          210,
          168,
          204,
          204,
          169,
          142,
          190,
          157,
          274,
          202,
          180,
          165,
          194,
          146,
          223,
          155,
          185,
          229,
          154,
          250,
          163,
          166,
          137,
          158,
          203,
          176,
          217,
          172,
          173,
          156,
          180,
          185,
          132,
          167
         ]
        }
       ],
       "layout": {
        "bargap": 0,
        "bargroupgap": 0.1,
        "font": {
         "color": "#000000"
        },
        "template": {
         "data": {
          "bar": [
           {
            "error_x": {
             "color": "#2a3f5f"
            },
            "error_y": {
             "color": "#2a3f5f"
            },
            "marker": {
             "line": {
              "color": "#E5ECF6",
              "width": 0.5
             },
             "pattern": {
              "fillmode": "overlay",
              "size": 10,
              "solidity": 0.2
             }
            },
            "type": "bar"
           }
          ],
          "barpolar": [
           {
            "marker": {
             "line": {
              "color": "#E5ECF6",
              "width": 0.5
             },
             "pattern": {
              "fillmode": "overlay",
              "size": 10,
              "solidity": 0.2
             }
            },
            "type": "barpolar"
           }
          ],
          "carpet": [
           {
            "aaxis": {
             "endlinecolor": "#2a3f5f",
             "gridcolor": "white",
             "linecolor": "white",
             "minorgridcolor": "white",
             "startlinecolor": "#2a3f5f"
            },
            "baxis": {
             "endlinecolor": "#2a3f5f",
             "gridcolor": "white",
             "linecolor": "white",
             "minorgridcolor": "white",
             "startlinecolor": "#2a3f5f"
            },
            "type": "carpet"
           }
          ],
          "choropleth": [
           {
            "colorbar": {
             "outlinewidth": 0,
             "ticks": ""
            },
            "type": "choropleth"
           }
          ],
          "contour": [
           {
            "colorbar": {
             "outlinewidth": 0,
             "ticks": ""
            },
            "colorscale": [
             [
              0,
              "#0d0887"
             ],
             [
              0.1111111111111111,
              "#46039f"
             ],
             [
              0.2222222222222222,
              "#7201a8"
             ],
             [
              0.3333333333333333,
              "#9c179e"
             ],
             [
              0.4444444444444444,
              "#bd3786"
             ],
             [
              0.5555555555555556,
              "#d8576b"
             ],
             [
              0.6666666666666666,
              "#ed7953"
             ],
             [
              0.7777777777777778,
              "#fb9f3a"
             ],
             [
              0.8888888888888888,
              "#fdca26"
             ],
             [
              1,
              "#f0f921"
             ]
            ],
            "type": "contour"
           }
          ],
          "contourcarpet": [
           {
            "colorbar": {
             "outlinewidth": 0,
             "ticks": ""
            },
            "type": "contourcarpet"
           }
          ],
          "heatmap": [
           {
            "colorbar": {
             "outlinewidth": 0,
             "ticks": ""
            },
            "colorscale": [
             [
              0,
              "#0d0887"
             ],
             [
              0.1111111111111111,
              "#46039f"
             ],
             [
              0.2222222222222222,
              "#7201a8"
             ],
             [
              0.3333333333333333,
              "#9c179e"
             ],
             [
              0.4444444444444444,
              "#bd3786"
             ],
             [
              0.5555555555555556,
              "#d8576b"
             ],
             [
              0.6666666666666666,
              "#ed7953"
             ],
             [
              0.7777777777777778,
              "#fb9f3a"
             ],
             [
              0.8888888888888888,
              "#fdca26"
             ],
             [
              1,
              "#f0f921"
             ]
            ],
            "type": "heatmap"
           }
          ],
          "heatmapgl": [
           {
            "colorbar": {
             "outlinewidth": 0,
             "ticks": ""
            },
            "colorscale": [
             [
              0,
              "#0d0887"
             ],
             [
              0.1111111111111111,
              "#46039f"
             ],
             [
              0.2222222222222222,
              "#7201a8"
             ],
             [
              0.3333333333333333,
              "#9c179e"
             ],
             [
              0.4444444444444444,
              "#bd3786"
             ],
             [
              0.5555555555555556,
              "#d8576b"
             ],
             [
              0.6666666666666666,
              "#ed7953"
             ],
             [
              0.7777777777777778,
              "#fb9f3a"
             ],
             [
              0.8888888888888888,
              "#fdca26"
             ],
             [
              1,
              "#f0f921"
             ]
            ],
            "type": "heatmapgl"
           }
          ],
          "histogram": [
           {
            "marker": {
             "pattern": {
              "fillmode": "overlay",
              "size": 10,
              "solidity": 0.2
             }
            },
            "type": "histogram"
           }
          ],
          "histogram2d": [
           {
            "colorbar": {
             "outlinewidth": 0,
             "ticks": ""
            },
            "colorscale": [
             [
              0,
              "#0d0887"
             ],
             [
              0.1111111111111111,
              "#46039f"
             ],
             [
              0.2222222222222222,
              "#7201a8"
             ],
             [
              0.3333333333333333,
              "#9c179e"
             ],
             [
              0.4444444444444444,
              "#bd3786"
             ],
             [
              0.5555555555555556,
              "#d8576b"
             ],
             [
              0.6666666666666666,
              "#ed7953"
             ],
             [
              0.7777777777777778,
              "#fb9f3a"
             ],
             [
              0.8888888888888888,
              "#fdca26"
             ],
             [
              1,
              "#f0f921"
             ]
            ],
            "type": "histogram2d"
           }
          ],
          "histogram2dcontour": [
           {
            "colorbar": {
             "outlinewidth": 0,
             "ticks": ""
            },
            "colorscale": [
             [
              0,
              "#0d0887"
             ],
             [
              0.1111111111111111,
              "#46039f"
             ],
             [
              0.2222222222222222,
              "#7201a8"
             ],
             [
              0.3333333333333333,
              "#9c179e"
             ],
             [
              0.4444444444444444,
              "#bd3786"
             ],
             [
              0.5555555555555556,
              "#d8576b"
             ],
             [
              0.6666666666666666,
              "#ed7953"
             ],
             [
              0.7777777777777778,
              "#fb9f3a"
             ],
             [
              0.8888888888888888,
              "#fdca26"
             ],
             [
              1,
              "#f0f921"
             ]
            ],
            "type": "histogram2dcontour"
           }
          ],
          "mesh3d": [
           {
            "colorbar": {
             "outlinewidth": 0,
             "ticks": ""
            },
            "type": "mesh3d"
           }
          ],
          "parcoords": [
           {
            "line": {
             "colorbar": {
              "outlinewidth": 0,
              "ticks": ""
             }
            },
            "type": "parcoords"
           }
          ],
          "pie": [
           {
            "automargin": true,
            "type": "pie"
           }
          ],
          "scatter": [
           {
            "fillpattern": {
             "fillmode": "overlay",
             "size": 10,
             "solidity": 0.2
            },
            "type": "scatter"
           }
          ],
          "scatter3d": [
           {
            "line": {
             "colorbar": {
              "outlinewidth": 0,
              "ticks": ""
             }
            },
            "marker": {
             "colorbar": {
              "outlinewidth": 0,
              "ticks": ""
             }
            },
            "type": "scatter3d"
           }
          ],
          "scattercarpet": [
           {
            "marker": {
             "colorbar": {
              "outlinewidth": 0,
              "ticks": ""
             }
            },
            "type": "scattercarpet"
           }
          ],
          "scattergeo": [
           {
            "marker": {
             "colorbar": {
              "outlinewidth": 0,
              "ticks": ""
             }
            },
            "type": "scattergeo"
           }
          ],
          "scattergl": [
           {
            "marker": {
             "colorbar": {
              "outlinewidth": 0,
              "ticks": ""
             }
            },
            "type": "scattergl"
           }
          ],
          "scattermapbox": [
           {
            "marker": {
             "colorbar": {
              "outlinewidth": 0,
              "ticks": ""
             }
            },
            "type": "scattermapbox"
           }
          ],
          "scatterpolar": [
           {
            "marker": {
             "colorbar": {
              "outlinewidth": 0,
              "ticks": ""
             }
            },
            "type": "scatterpolar"
           }
          ],
          "scatterpolargl": [
           {
            "marker": {
             "colorbar": {
              "outlinewidth": 0,
              "ticks": ""
             }
            },
            "type": "scatterpolargl"
           }
          ],
          "scatterternary": [
           {
            "marker": {
             "colorbar": {
              "outlinewidth": 0,
              "ticks": ""
             }
            },
            "type": "scatterternary"
           }
          ],
          "surface": [
           {
            "colorbar": {
             "outlinewidth": 0,
             "ticks": ""
            },
            "colorscale": [
             [
              0,
              "#0d0887"
             ],
             [
              0.1111111111111111,
              "#46039f"
             ],
             [
              0.2222222222222222,
              "#7201a8"
             ],
             [
              0.3333333333333333,
              "#9c179e"
             ],
             [
              0.4444444444444444,
              "#bd3786"
             ],
             [
              0.5555555555555556,
              "#d8576b"
             ],
             [
              0.6666666666666666,
              "#ed7953"
             ],
             [
              0.7777777777777778,
              "#fb9f3a"
             ],
             [
              0.8888888888888888,
              "#fdca26"
             ],
             [
              1,
              "#f0f921"
             ]
            ],
            "type": "surface"
           }
          ],
          "table": [
           {
            "cells": {
             "fill": {
              "color": "#EBF0F8"
             },
             "line": {
              "color": "white"
             }
            },
            "header": {
             "fill": {
              "color": "#C8D4E3"
             },
             "line": {
              "color": "white"
             }
            },
            "type": "table"
           }
          ]
         },
         "layout": {
          "annotationdefaults": {
           "arrowcolor": "#2a3f5f",
           "arrowhead": 0,
           "arrowwidth": 1
          },
          "autotypenumbers": "strict",
          "coloraxis": {
           "colorbar": {
            "outlinewidth": 0,
            "ticks": ""
           }
          },
          "colorscale": {
           "diverging": [
            [
             0,
             "#8e0152"
            ],
            [
             0.1,
             "#c51b7d"
            ],
            [
             0.2,
             "#de77ae"
            ],
            [
             0.3,
             "#f1b6da"
            ],
            [
             0.4,
             "#fde0ef"
            ],
            [
             0.5,
             "#f7f7f7"
            ],
            [
             0.6,
             "#e6f5d0"
            ],
            [
             0.7,
             "#b8e186"
            ],
            [
             0.8,
             "#7fbc41"
            ],
            [
             0.9,
             "#4d9221"
            ],
            [
             1,
             "#276419"
            ]
           ],
           "sequential": [
            [
             0,
             "#0d0887"
            ],
            [
             0.1111111111111111,
             "#46039f"
            ],
            [
             0.2222222222222222,
             "#7201a8"
            ],
            [
             0.3333333333333333,
             "#9c179e"
            ],
            [
             0.4444444444444444,
             "#bd3786"
            ],
            [
             0.5555555555555556,
             "#d8576b"
            ],
            [
             0.6666666666666666,
             "#ed7953"
            ],
            [
             0.7777777777777778,
             "#fb9f3a"
            ],
            [
             0.8888888888888888,
             "#fdca26"
            ],
            [
             1,
             "#f0f921"
            ]
           ],
           "sequentialminus": [
            [
             0,
             "#0d0887"
            ],
            [
             0.1111111111111111,
             "#46039f"
            ],
            [
             0.2222222222222222,
             "#7201a8"
            ],
            [
             0.3333333333333333,
             "#9c179e"
            ],
            [
             0.4444444444444444,
             "#bd3786"
            ],
            [
             0.5555555555555556,
             "#d8576b"
            ],
            [
             0.6666666666666666,
             "#ed7953"
            ],
            [
             0.7777777777777778,
             "#fb9f3a"
            ],
            [
             0.8888888888888888,
             "#fdca26"
            ],
            [
             1,
             "#f0f921"
            ]
           ]
          },
          "colorway": [
           "#636efa",
           "#EF553B",
           "#00cc96",
           "#ab63fa",
           "#FFA15A",
           "#19d3f3",
           "#FF6692",
           "#B6E880",
           "#FF97FF",
           "#FECB52"
          ],
          "font": {
           "color": "#2a3f5f"
          },
          "geo": {
           "bgcolor": "white",
           "lakecolor": "white",
           "landcolor": "#E5ECF6",
           "showlakes": true,
           "showland": true,
           "subunitcolor": "white"
          },
          "hoverlabel": {
           "align": "left"
          },
          "hovermode": "closest",
          "mapbox": {
           "style": "light"
          },
          "paper_bgcolor": "white",
          "plot_bgcolor": "#E5ECF6",
          "polar": {
           "angularaxis": {
            "gridcolor": "white",
            "linecolor": "white",
            "ticks": ""
           },
           "bgcolor": "#E5ECF6",
           "radialaxis": {
            "gridcolor": "white",
            "linecolor": "white",
            "ticks": ""
           }
          },
          "scene": {
           "xaxis": {
            "backgroundcolor": "#E5ECF6",
            "gridcolor": "white",
            "gridwidth": 2,
            "linecolor": "white",
            "showbackground": true,
            "ticks": "",
            "zerolinecolor": "white"
           },
           "yaxis": {
            "backgroundcolor": "#E5ECF6",
            "gridcolor": "white",
            "gridwidth": 2,
            "linecolor": "white",
            "showbackground": true,
            "ticks": "",
            "zerolinecolor": "white"
           },
           "zaxis": {
            "backgroundcolor": "#E5ECF6",
            "gridcolor": "white",
            "gridwidth": 2,
            "linecolor": "white",
            "showbackground": true,
            "ticks": "",
            "zerolinecolor": "white"
           }
          },
          "shapedefaults": {
           "line": {
            "color": "#2a3f5f"
           }
          },
          "ternary": {
           "aaxis": {
            "gridcolor": "white",
            "linecolor": "white",
            "ticks": ""
           },
           "baxis": {
            "gridcolor": "white",
            "linecolor": "white",
            "ticks": ""
           },
           "bgcolor": "#E5ECF6",
           "caxis": {
            "gridcolor": "white",
            "linecolor": "white",
            "ticks": ""
           }
          },
          "title": {
           "x": 0.05
          },
          "xaxis": {
           "automargin": true,
           "gridcolor": "white",
           "linecolor": "white",
           "ticks": "",
           "title": {
            "standoff": 15
           },
           "zerolinecolor": "white",
           "zerolinewidth": 2
          },
          "yaxis": {
           "automargin": true,
           "gridcolor": "white",
           "linecolor": "white",
           "ticks": "",
           "title": {
            "standoff": 15
           },
           "zerolinecolor": "white",
           "zerolinewidth": 2
          }
         }
        },
        "title": {
         "font": {
          "color": "#000000"
         },
         "text": "<b>Distribuzione delle recensioni per lunghezza",
         "x": 0.5,
         "xanchor": "center"
        },
        "width": 800,
        "xaxis": {
         "title": {
          "font": {
           "color": "#000000"
          },
          "text": "Lunghezza recensioni"
         }
        },
        "yaxis": {
         "title": {
          "font": {
           "color": "#000000"
          },
          "text": "Numero recensioni"
         }
        }
       }
      }
     },
     "metadata": {},
     "output_type": "display_data"
    }
   ],
   "source": [
    "fig = go.Figure()\n",
    "fig.add_trace(go.Histogram(\n",
    "    x=data['review len'],\n",
    "    marker=dict(\n",
    "        color='rgba(246, 78, 139, 0.6)',\n",
    "        line=dict(color='rgba(246, 78, 139, 1.0)', width=3)\n",
    "    ),\n",
    "    opacity=0.75\n",
    "))\n",
    "\n",
    "fig.update_layout(\n",
    "    title_font=dict(color='#000000'),\n",
    "    xaxis_title_font=dict(color='#000000'),\n",
    "    yaxis_title_font=dict(color='#000000'),\n",
    "    font=dict(color='#000000'),\n",
    "    title_text='<b>Distribuzione delle recensioni per lunghezza', \n",
    "    title_x=0.5,\n",
    "    title_xanchor='center',# title of plot\n",
    "    xaxis_title_text='Lunghezza recensioni', # xaxis label\n",
    "    yaxis_title_text='Numero recensioni', # yaxis label\n",
    "    bargap=0, # gap between bars of adjacent location coordinates\n",
    "    bargroupgap=0.1, # gap between bars of the same location coordinates\n",
    "    width = 800\n",
    ")\n",
    "\n",
    "fig.show()"
   ]
  },
  {
   "cell_type": "markdown",
   "id": "f9e54eb0",
   "metadata": {},
   "source": [
    "# TEXTBLOB"
   ]
  },
  {
   "cell_type": "code",
   "execution_count": 16,
   "id": "8948dffe",
   "metadata": {},
   "outputs": [],
   "source": [
    "data = data.assign(clean_review = data.review.map(lambda x: ' '.join(TextBlob(str(x)).words)))  \n"
   ]
  },
  {
   "cell_type": "code",
   "execution_count": 17,
   "id": "01014e1a",
   "metadata": {},
   "outputs": [],
   "source": [
    "data.clean_review = data.clean_review.map(lambda x: \" \".join([i.strip(\" \") for i in re.sub('[0-9]','',x).split()]))\n",
    "# Remove stopwords & lowercase\n",
    "data.clean_review = data.clean_review.map(lambda x: \" \".join([i.lower() for i in x.split() if i not in stopwords.words('english')]))"
   ]
  },
  {
   "cell_type": "code",
   "execution_count": 18,
   "id": "dad4fe10",
   "metadata": {},
   "outputs": [],
   "source": [
    "data = data.sort_values(by='stars', ascending = False)\n",
    "data['subjectivity'] = data['review'].apply(lambda x: TextBlob(x).subjectivity)\n",
    "data['polarity'] = data['review'].apply(lambda x: TextBlob(x).polarity)"
   ]
  },
  {
   "cell_type": "code",
   "execution_count": 19,
   "metadata": {},
   "outputs": [],
   "source": [
    "\n",
    "company_stats = data.groupby('company').agg({'stars':'mean', 'polarity':'mean','subjectivity':'mean'})\n",
    "company_stats.rename(columns = {'stars': 'avg_stars'}, inplace=True)\n",
    "company_stats.reset_index(inplace=True)\n",
    "company_stats = company_stats.sort_values(by='avg_stars', ascending = False)"
   ]
  },
  {
   "cell_type": "code",
   "execution_count": 20,
   "id": "8974a926",
   "metadata": {},
   "outputs": [
    {
     "name": "stdout",
     "output_type": "stream",
     "text": [
      "MSE: 0.06278344347293088\n",
      "RMSE: 0.2505662456775271\n",
      "MAE: 0.1864732701264302\n",
      "R^2: 0.23035156888537223\n"
     ]
    }
   ],
   "source": [
    "model = LinearRegression()\n",
    "X = np.array(company_stats['avg_stars'])\n",
    "Y = np.array(company_stats['polarity'])\n",
    "model.fit(X.reshape(-1, 1), Y)\n",
    "intercetta = model.intercept_\n",
    "coeff_angolare = model.coef_[0]\n",
    "valori_previsti = model.predict(X.reshape(-1, 1))\n",
    "# Calcolare il MSE\n",
    "mse = mean_squared_error(Y, valori_previsti)\n",
    "# Calcolare il RMSE\n",
    "rmse = np.sqrt(mse)\n",
    "# Calcolare il MAE\n",
    "mae = mean_absolute_error(Y, valori_previsti)\n",
    "# Calcolare l'R quadro\n",
    "r2 = r2_score(Y, valori_previsti)\n",
    "\n",
    "print(f'MSE: {mse}')\n",
    "print(f'RMSE: {rmse}')\n",
    "print(f'MAE: {mae}')\n",
    "print(f'R^2: {r2}')"
   ]
  },
  {
   "cell_type": "code",
   "execution_count": 21,
   "id": "2b304fb9",
   "metadata": {},
   "outputs": [
    {
     "data": {
      "image/png": "[encoded data removed]",
      "text/plain": [
       "<Figure size 640x480 with 1 Axes>"
      ]
     },
     "metadata": {},
     "output_type": "display_data"
    }
   ],
   "source": [
    "plt.scatter(company_stats['avg_stars'],company_stats['polarity'], label = 'polarity', color='blue', marker='o')\n",
    "plt.plot(X, valori_previsti, color='blue', label='Regressione Lineare')\n",
    "plt.legend()\n",
    "plt.grid(True)\n",
    "plt.show()"
   ]
  },
  {
   "cell_type": "code",
   "execution_count": 22,
   "metadata": {},
   "outputs": [
    {
     "data": {
      "text/html": [
       "<div>\n",
       "<style scoped>\n",
       "    .dataframe tbody tr th:only-of-type {\n",
       "        vertical-align: middle;\n",
       "    }\n",
       "\n",
       "    .dataframe tbody tr th {\n",
       "        vertical-align: top;\n",
       "    }\n",
       "\n",
       "    .dataframe thead th {\n",
       "        text-align: right;\n",
       "    }\n",
       "</style>\n",
       "<table border=\"1\" class=\"dataframe\">\n",
       "  <thead>\n",
       "    <tr style=\"text-align: right;\">\n",
       "      <th></th>\n",
       "      <th>company</th>\n",
       "      <th>stars</th>\n",
       "      <th>review</th>\n",
       "      <th>review len</th>\n",
       "      <th>clean_review</th>\n",
       "      <th>subjectivity</th>\n",
       "      <th>polarity</th>\n",
       "    </tr>\n",
       "  </thead>\n",
       "  <tbody>\n",
       "    <tr>\n",
       "      <th>14</th>\n",
       "      <td>AstroBrew Coffee</td>\n",
       "      <td>4.9</td>\n",
       "      <td>AstroBrew Coffee has been consistently impress...</td>\n",
       "      <td>209</td>\n",
       "      <td>astrobrew coffee consistently impressing custo...</td>\n",
       "      <td>0.750000</td>\n",
       "      <td>0.418333</td>\n",
       "    </tr>\n",
       "    <tr>\n",
       "      <th>10</th>\n",
       "      <td>Globex Corporation</td>\n",
       "      <td>4.9</td>\n",
       "      <td>Outstanding service and innovative solutions h...</td>\n",
       "      <td>194</td>\n",
       "      <td>outstanding service innovative solutions consi...</td>\n",
       "      <td>0.656250</td>\n",
       "      <td>0.437500</td>\n",
       "    </tr>\n",
       "    <tr>\n",
       "      <th>40</th>\n",
       "      <td>GourmetGalaxy Restaurants</td>\n",
       "      <td>4.8</td>\n",
       "      <td>The atmosphere at GourmetGalaxy is unmatched, ...</td>\n",
       "      <td>207</td>\n",
       "      <td>the atmosphere gourmetgalaxy unmatched delight...</td>\n",
       "      <td>0.883333</td>\n",
       "      <td>0.716667</td>\n",
       "    </tr>\n",
       "    <tr>\n",
       "      <th>5</th>\n",
       "      <td>BrightPath Tutoring</td>\n",
       "      <td>4.8</td>\n",
       "      <td>The services provided by BrightPath Tutoring w...</td>\n",
       "      <td>171</td>\n",
       "      <td>the services provided brightpath tutoring exce...</td>\n",
       "      <td>0.718333</td>\n",
       "      <td>0.175000</td>\n",
       "    </tr>\n",
       "    <tr>\n",
       "      <th>293</th>\n",
       "      <td>VistaVoyage Tours</td>\n",
       "      <td>4.8</td>\n",
       "      <td>Our experience with VistaVoyage Tours was outs...</td>\n",
       "      <td>218</td>\n",
       "      <td>our experience vistavoyage tours outstanding e...</td>\n",
       "      <td>0.625000</td>\n",
       "      <td>0.430556</td>\n",
       "    </tr>\n",
       "    <tr>\n",
       "      <th>67</th>\n",
       "      <td>NoveltyNest Decor</td>\n",
       "      <td>4.7</td>\n",
       "      <td>The products from NoveltyNest Decor have compl...</td>\n",
       "      <td>225</td>\n",
       "      <td>the products noveltynest decor completely tran...</td>\n",
       "      <td>0.735000</td>\n",
       "      <td>0.283750</td>\n",
       "    </tr>\n",
       "    <tr>\n",
       "      <th>1</th>\n",
       "      <td>CrispCloud Solutions</td>\n",
       "      <td>4.7</td>\n",
       "      <td>CrispCloud Solutions has consistently exceeded...</td>\n",
       "      <td>198</td>\n",
       "      <td>crispcloud solutions consistently exceeded exp...</td>\n",
       "      <td>0.587500</td>\n",
       "      <td>0.379167</td>\n",
       "    </tr>\n",
       "    <tr>\n",
       "      <th>11</th>\n",
       "      <td>NextGen Gaming</td>\n",
       "      <td>4.6</td>\n",
       "      <td>With an extensive library of innovative games ...</td>\n",
       "      <td>176</td>\n",
       "      <td>with extensive library innovative games except...</td>\n",
       "      <td>0.472222</td>\n",
       "      <td>0.294444</td>\n",
       "    </tr>\n",
       "    <tr>\n",
       "      <th>22</th>\n",
       "      <td>BakeMyDay Bakery</td>\n",
       "      <td>4.6</td>\n",
       "      <td>Absolutely delighted with the heavenly pastrie...</td>\n",
       "      <td>146</td>\n",
       "      <td>absolutely delighted heavenly pastries bakemyd...</td>\n",
       "      <td>0.566667</td>\n",
       "      <td>0.229167</td>\n",
       "    </tr>\n",
       "    <tr>\n",
       "      <th>13</th>\n",
       "      <td>PixelPerfect Design</td>\n",
       "      <td>4.5</td>\n",
       "      <td>I'm thoroughly impressed with PixelPerfect Des...</td>\n",
       "      <td>301</td>\n",
       "      <td>i 'm thoroughly impressed pixelperfect design ...</td>\n",
       "      <td>0.885000</td>\n",
       "      <td>0.415000</td>\n",
       "    </tr>\n",
       "    <tr>\n",
       "      <th>38</th>\n",
       "      <td>PixelPioneers Photography</td>\n",
       "      <td>2.9</td>\n",
       "      <td>PixelPioneers Photography provides decent serv...</td>\n",
       "      <td>141</td>\n",
       "      <td>pixelpioneers photography provides decent serv...</td>\n",
       "      <td>0.633333</td>\n",
       "      <td>0.433333</td>\n",
       "    </tr>\n",
       "    <tr>\n",
       "      <th>30</th>\n",
       "      <td>ScribeScript Content Agency</td>\n",
       "      <td>2.7</td>\n",
       "      <td>They are fairly reliable with content delivery...</td>\n",
       "      <td>187</td>\n",
       "      <td>they fairly reliable content delivery 's room ...</td>\n",
       "      <td>0.783333</td>\n",
       "      <td>0.433333</td>\n",
       "    </tr>\n",
       "    <tr>\n",
       "      <th>90</th>\n",
       "      <td>QuantumQuilts Comfortware</td>\n",
       "      <td>2.5</td>\n",
       "      <td>QuantumQuilts Comfortware offers an acceptable...</td>\n",
       "      <td>212</td>\n",
       "      <td>quantumquilts comfortware offers acceptable ra...</td>\n",
       "      <td>0.392857</td>\n",
       "      <td>0.197619</td>\n",
       "    </tr>\n",
       "    <tr>\n",
       "      <th>129</th>\n",
       "      <td>PuzzleParadise Board Games</td>\n",
       "      <td>2.4</td>\n",
       "      <td>Quite disappointed with the quality of the boa...</td>\n",
       "      <td>204</td>\n",
       "      <td>quite disappointed quality board games 're dur...</td>\n",
       "      <td>0.537500</td>\n",
       "      <td>0.062500</td>\n",
       "    </tr>\n",
       "    <tr>\n",
       "      <th>18</th>\n",
       "      <td>Pawsome Petsitters</td>\n",
       "      <td>2.4</td>\n",
       "      <td>I was really disappointed with the service pro...</td>\n",
       "      <td>152</td>\n",
       "      <td>i really disappointed service provided pawsome...</td>\n",
       "      <td>0.875000</td>\n",
       "      <td>0.025000</td>\n",
       "    </tr>\n",
       "    <tr>\n",
       "      <th>230</th>\n",
       "      <td>ArtfulAesthetics Gallery</td>\n",
       "      <td>2.3</td>\n",
       "      <td>Unfortunately, ArtfulAesthetics Gallery was qu...</td>\n",
       "      <td>194</td>\n",
       "      <td>unfortunately artfulaesthetics gallery quite d...</td>\n",
       "      <td>0.477778</td>\n",
       "      <td>-0.061111</td>\n",
       "    </tr>\n",
       "    <tr>\n",
       "      <th>151</th>\n",
       "      <td>PerfectPalette Paints</td>\n",
       "      <td>2.3</td>\n",
       "      <td>Unfortunately, my experience with PerfectPalet...</td>\n",
       "      <td>204</td>\n",
       "      <td>unfortunately experience perfectpalette paints...</td>\n",
       "      <td>0.750000</td>\n",
       "      <td>-0.150000</td>\n",
       "    </tr>\n",
       "    <tr>\n",
       "      <th>21</th>\n",
       "      <td>OmegaTech Solutions</td>\n",
       "      <td>2.3</td>\n",
       "      <td>I'm pretty disappointed with OmegaTech Solutio...</td>\n",
       "      <td>149</td>\n",
       "      <td>i 'm pretty disappointed omegatech solutions t...</td>\n",
       "      <td>0.916667</td>\n",
       "      <td>-0.333333</td>\n",
       "    </tr>\n",
       "    <tr>\n",
       "      <th>95</th>\n",
       "      <td>EliteBook Bindery</td>\n",
       "      <td>2.3</td>\n",
       "      <td>Regrettably, EliteBook Bindery has not lived u...</td>\n",
       "      <td>225</td>\n",
       "      <td>regrettably elitebook bindery lived expectatio...</td>\n",
       "      <td>0.289744</td>\n",
       "      <td>-0.058974</td>\n",
       "    </tr>\n",
       "    <tr>\n",
       "      <th>257</th>\n",
       "      <td>InsightfulMind Therapy</td>\n",
       "      <td>2.3</td>\n",
       "      <td>Patients have been consistently disappointed w...</td>\n",
       "      <td>253</td>\n",
       "      <td>patients consistently disappointed lack person...</td>\n",
       "      <td>0.483333</td>\n",
       "      <td>-0.162500</td>\n",
       "    </tr>\n",
       "  </tbody>\n",
       "</table>\n",
       "</div>"
      ],
      "text/plain": [
       "                         company  stars  \\\n",
       "14              AstroBrew Coffee    4.9   \n",
       "10            Globex Corporation    4.9   \n",
       "40     GourmetGalaxy Restaurants    4.8   \n",
       "5            BrightPath Tutoring    4.8   \n",
       "293            VistaVoyage Tours    4.8   \n",
       "67             NoveltyNest Decor    4.7   \n",
       "1           CrispCloud Solutions    4.7   \n",
       "11                NextGen Gaming    4.6   \n",
       "22              BakeMyDay Bakery    4.6   \n",
       "13           PixelPerfect Design    4.5   \n",
       "38     PixelPioneers Photography    2.9   \n",
       "30   ScribeScript Content Agency    2.7   \n",
       "90     QuantumQuilts Comfortware    2.5   \n",
       "129   PuzzleParadise Board Games    2.4   \n",
       "18            Pawsome Petsitters    2.4   \n",
       "230     ArtfulAesthetics Gallery    2.3   \n",
       "151        PerfectPalette Paints    2.3   \n",
       "21           OmegaTech Solutions    2.3   \n",
       "95             EliteBook Bindery    2.3   \n",
       "257       InsightfulMind Therapy    2.3   \n",
       "\n",
       "                                                review  review len  \\\n",
       "14   AstroBrew Coffee has been consistently impress...         209   \n",
       "10   Outstanding service and innovative solutions h...         194   \n",
       "40   The atmosphere at GourmetGalaxy is unmatched, ...         207   \n",
       "5    The services provided by BrightPath Tutoring w...         171   \n",
       "293  Our experience with VistaVoyage Tours was outs...         218   \n",
       "67   The products from NoveltyNest Decor have compl...         225   \n",
       "1    CrispCloud Solutions has consistently exceeded...         198   \n",
       "11   With an extensive library of innovative games ...         176   \n",
       "22   Absolutely delighted with the heavenly pastrie...         146   \n",
       "13   I'm thoroughly impressed with PixelPerfect Des...         301   \n",
       "38   PixelPioneers Photography provides decent serv...         141   \n",
       "30   They are fairly reliable with content delivery...         187   \n",
       "90   QuantumQuilts Comfortware offers an acceptable...         212   \n",
       "129  Quite disappointed with the quality of the boa...         204   \n",
       "18   I was really disappointed with the service pro...         152   \n",
       "230  Unfortunately, ArtfulAesthetics Gallery was qu...         194   \n",
       "151  Unfortunately, my experience with PerfectPalet...         204   \n",
       "21   I'm pretty disappointed with OmegaTech Solutio...         149   \n",
       "95   Regrettably, EliteBook Bindery has not lived u...         225   \n",
       "257  Patients have been consistently disappointed w...         253   \n",
       "\n",
       "                                          clean_review  subjectivity  polarity  \n",
       "14   astrobrew coffee consistently impressing custo...      0.750000  0.418333  \n",
       "10   outstanding service innovative solutions consi...      0.656250  0.437500  \n",
       "40   the atmosphere gourmetgalaxy unmatched delight...      0.883333  0.716667  \n",
       "5    the services provided brightpath tutoring exce...      0.718333  0.175000  \n",
       "293  our experience vistavoyage tours outstanding e...      0.625000  0.430556  \n",
       "67   the products noveltynest decor completely tran...      0.735000  0.283750  \n",
       "1    crispcloud solutions consistently exceeded exp...      0.587500  0.379167  \n",
       "11   with extensive library innovative games except...      0.472222  0.294444  \n",
       "22   absolutely delighted heavenly pastries bakemyd...      0.566667  0.229167  \n",
       "13   i 'm thoroughly impressed pixelperfect design ...      0.885000  0.415000  \n",
       "38   pixelpioneers photography provides decent serv...      0.633333  0.433333  \n",
       "30   they fairly reliable content delivery 's room ...      0.783333  0.433333  \n",
       "90   quantumquilts comfortware offers acceptable ra...      0.392857  0.197619  \n",
       "129  quite disappointed quality board games 're dur...      0.537500  0.062500  \n",
       "18   i really disappointed service provided pawsome...      0.875000  0.025000  \n",
       "230  unfortunately artfulaesthetics gallery quite d...      0.477778 -0.061111  \n",
       "151  unfortunately experience perfectpalette paints...      0.750000 -0.150000  \n",
       "21   i 'm pretty disappointed omegatech solutions t...      0.916667 -0.333333  \n",
       "95   regrettably elitebook bindery lived expectatio...      0.289744 -0.058974  \n",
       "257  patients consistently disappointed lack person...      0.483333 -0.162500  "
      ]
     },
     "execution_count": 22,
     "metadata": {},
     "output_type": "execute_result"
    }
   ],
   "source": [
    "data.head(20)"
   ]
  },
  {
   "cell_type": "code",
   "execution_count": 23,
   "metadata": {},
   "outputs": [
    {
     "name": "stdout",
     "output_type": "stream",
     "text": [
      "MSE: 0.06278344347293088\n",
      "RMSE: 0.2505662456775271\n",
      "MAE: 0.1864732701264302\n",
      "R^2: 0.23035156888537223\n"
     ]
    }
   ],
   "source": [
    "model = LinearRegression()\n",
    "X = np.array(company_stats['avg_stars'])\n",
    "Y = np.array(company_stats['polarity'])\n",
    "model.fit(X.reshape(-1, 1), Y)\n",
    "intercetta = model.intercept_\n",
    "coeff_angolare = model.coef_[0]\n",
    "valori_previsti = model.predict(X.reshape(-1, 1))\n",
    "# Calcolare il MSE\n",
    "mse = mean_squared_error(Y, valori_previsti)\n",
    "# Calcolare il RMSE\n",
    "rmse = np.sqrt(mse)\n",
    "# Calcolare il MAE\n",
    "mae = mean_absolute_error(Y, valori_previsti)\n",
    "# Calcolare l'R quadro\n",
    "r2 = r2_score(Y, valori_previsti)\n",
    "\n",
    "print(f'MSE: {mse}')\n",
    "print(f'RMSE: {rmse}')\n",
    "print(f'MAE: {mae}')\n",
    "print(f'R^2: {r2}')"
   ]
  },
  {
   "cell_type": "code",
   "execution_count": 24,
   "metadata": {},
   "outputs": [
    {
     "data": {
      "image/png": "[encoded data removed]",
      "text/plain": [
       "<Figure size 640x480 with 1 Axes>"
      ]
     },
     "metadata": {},
     "output_type": "display_data"
    }
   ],
   "source": [
    "plt.scatter(data['stars'],data['polarity'], label = 'polarity', color='blue', marker='o')\n",
    "#plt.plot(X, valori_previsti, color='blue', label='Regressione Lineare')\n",
    "plt.legend()\n",
    "plt.grid(True)\n",
    "plt.show()"
   ]
  },
  {
   "cell_type": "code",
   "execution_count": 25,
   "metadata": {},
   "outputs": [
    {
     "data": {
      "application/vnd.plotly.v1+json": {
       "config": {
        "plotlyServerURL": "https://plot.ly"
       },
       "data": [
        {
         "hovertemplate": "stars=%{x}<br>polarity=%{marker.color}<extra></extra>",
         "legendgroup": "",
         "marker": {
          "color": [
           0.41833333333333333,
           0.4375,
           0.7166666666666667,
           0.175,
           0.4305555555555555,
           0.28375,
           0.37916666666666665,
           0.29444444444444445,
           0.22916666666666666,
           0.415,
           0.4333333333333333,
           0.4333333333333333,
           0.19761904761904764,
           0.0625,
           0.025000000000000022,
           -0.06111111111111114,
           -0.15,
           -0.3333333333333333,
           -0.05897435897435899,
           -0.1625,
           -0.3,
           -0.3533333333333334,
           -0.18333333333333335,
           0.14545454545454548,
           -0.29999999999999993,
           -0.21666666666666667,
           -0.19,
           -0.30416666666666664,
           -0.75,
           0.075,
           -0.02999999999999999,
           -0.2409090909090909,
           0.09333333333333334,
           -0.13333333333333333,
           -0.19999999999999998,
           -0.4583333333333333,
           -0.7375,
           -0.75,
           -0.225,
           -0.3972222222222223,
           -0.44285714285714284,
           -0.75,
           -0.25,
           -0.2541666666666667,
           -0.75,
           -0.21994434137291277,
           -0.23125000000000004,
           0.05333333333333334,
           -0.25272727272727274,
           -0.1826623376623377,
           0.13333333333333336,
           -0.11333333333333333,
           -0.31272727272727274,
           -0.225,
           -0.29,
           0.08333333333333333,
           0.05,
           0,
           0.5,
           -0.21666666666666667,
           -0.39999999999999997,
           -0.022916666666666675,
           -0.06787878787878787,
           -0.20833333333333334,
           -0.054666666666666655,
           -0.125,
           -0.23750000000000004,
           -0.08333333333333333,
           -0.39204545454545453,
           0.06727272727272728,
           -0.125,
           -0.25,
           -0.15,
           -0.3533333333333334,
           -0.288,
           0.05,
           -0.09999999999999999,
           -0.3666666666666667,
           -0.21666666666666665,
           -0.08333333333333333,
           -0.1875,
           -0.325,
           -0.25535714285714284,
           -0.11300000000000002,
           -0.35555555555555557,
           -0.12083333333333332,
           -0.4000000000000001,
           -0.42500000000000004,
           -0.19999999999999998,
           -0.020000000000000025,
           -0.14285714285714288,
           -0.025000000000000012,
           -0.5000000000000001,
           -0.121875,
           -0.2333333333333333,
           -0.75,
           -0.375,
           -0.022023809523809515,
           -0.3166666666666667,
           -0.25555555555555554,
           -0.2125,
           -0.5000000000000001,
           -0.75,
           -0.25,
           -0.32,
           -0.2833333333333334,
           -0.25,
           -0.26,
           -0.45,
           -0.375,
           -0.11875000000000002,
           -0.10833333333333334,
           -0.375,
           -0.10333333333333332,
           0.2125,
           -0.35,
           -0.4875,
           0.05,
           -0.255,
           -0.125,
           -0.475,
           -0.2611111111111111,
           -0.22499999999999998,
           -0.20500000000000002,
           -0.1,
           0,
           -0.22499999999999998,
           -0.1611111111111111,
           0.08666666666666667,
           -0.18333333333333335,
           -0.3,
           -0.36250000000000004,
           -0.3,
           -0.575,
           -0.3683333333333333,
           -0.30000000000000004,
           -0.38333333333333336,
           -0.22777777777777777,
           -0.55,
           -0.4166666666666667,
           -0.09999999999999999,
           0.05000000000000002,
           -0.16666666666666666,
           -0.38749999999999996,
           -0.25,
           0.08333333333333333,
           -0.375,
           -0.55,
           -0.15,
           -0.16999999999999998,
           -0.15555555555555556,
           -0.0875,
           -0.5125,
           -0.5333333333333333,
           -0.75,
           -0.4583333333333333,
           0.4,
           -0.1875,
           -0.17,
           0.2,
           -0.26,
           -0.45,
           -0.5,
           -0.18571428571428572,
           0.037500000000000006,
           -0.6,
           -0.2125,
           0.06000000000000001,
           -0.6,
           -0.265,
           -0.15333333333333338,
           -0.75,
           -0.3833333333333333,
           -0.9750000000000001,
           -0.75,
           -0.145,
           -0.6875,
           -0.2625,
           -0.07222222222222224,
           -0.325,
           -0.1375,
           -0.24333333333333335,
           -0.75,
           -0.475,
           -0.37222222222222223,
           -0.75,
           -0.08333333333333331,
           -0.32499999999999996,
           -0.21333333333333332,
           -0.55,
           -0.16666666666666666,
           -0.25,
           -0.4333333333333333,
           -0.21125,
           -0.15833333333333335,
           -0.16666666666666666,
           -0.3,
           -0.375,
           -0.31875000000000003,
           -0.3,
           -0.1659090909090909,
           0.0625,
           -0.14999999999999997,
           -0.23333333333333336,
           -0.26611111111111113,
           -0.14285714285714285,
           -0.225,
           -0.45,
           -0.575,
           -0.20625,
           -0.21388888888888893,
           -1,
           -0.375,
           -0.3106060606060606,
           0.024999999999999994,
           -0.32999999999999996,
           -0.11333333333333333,
           -0.75,
           -0.6833333333333332,
           -0.6,
           -0.13333333333333333,
           -0.75,
           -0.25,
           -0.35000000000000003,
           -0.16249999999999998,
           -0.41875,
           -0.525,
           -0.26666666666666666,
           -0.09125,
           -0.24333333333333335,
           -0.033333333333333326,
           -0.48888888888888893,
           -0.3666666666666667,
           -0.15000000000000002,
           -0.18,
           -0.21250000000000002,
           -0.125,
           -0.75,
           -0.9750000000000001,
           -0.625,
           0.7,
           0.3214285714285714,
           -0.2708333333333333,
           -0.25,
           0.03333333333333335,
           -0.275,
           -0.5,
           -0.21666666666666667,
           -0.4,
           -0.1285714285714286,
           -0.75,
           -0.3833333333333333,
           -0.11611111111111112,
           -0.32222222222222224,
           -0.32222222222222224,
           -0.4166666666666667,
           -0.75,
           0.125,
           0.28125,
           -0.3666666666666667,
           -0.9750000000000001,
           -0.38333333333333336,
           -0.6,
           -0.75,
           -0.75,
           -0.3,
           -0.4,
           -0.1416666666666667,
           -0.6,
           -0.38749999999999996,
           -0.3875,
           -0.09333333333333331,
           -0.2916666666666667,
           -0.3833333333333333,
           -0.3833333333333333,
           -0.3,
           -0.26785714285714285,
           -0.125,
           -0.4166666666666667,
           -0.35,
           -0.5166666666666667,
           -0.3125,
           -0.525,
           -0.6,
           -0.3666666666666667,
           -0.7,
           -0.3333333333333333,
           -1,
           -0.75,
           -0.75,
           -0.3,
           -0.7166666666666668,
           -0.34166666666666673,
           0.05,
           0.2,
           -0.02083333333333333,
           -0.9375,
           -0.375,
           -0.75,
           -0.55,
           -0.525,
           -0.375,
           0.15000000000000002,
           0.1,
           -0.5,
           -0.45,
           -0.575,
           -0.22916666666666666,
           -0.1125,
           -0.2416666666666667,
           -0.30000000000000004
          ],
          "coloraxis": "coloraxis",
          "symbol": "circle"
         },
         "mode": "markers",
         "name": "",
         "orientation": "v",
         "showlegend": false,
         "type": "scatter",
         "x": [
          4.9,
          4.9,
          4.8,
          4.8,
          4.8,
          4.7,
          4.7,
          4.6,
          4.6,
          4.5,
          2.9,
          2.7,
          2.5,
          2.4,
          2.4,
          2.3,
          2.3,
          2.3,
          2.3,
          2.3,
          2.3,
          2.3,
          2.2,
          2.2,
          2.2,
          2.2,
          2.1,
          2.1,
          2.1,
          2.1,
          2.1,
          2.1,
          2.1,
          2.1,
          2,
          2,
          2,
          2,
          2,
          2,
          2,
          2,
          2,
          2,
          2,
          2,
          2,
          2,
          2,
          1.9,
          1.9,
          1.9,
          1.9,
          1.9,
          1.9,
          1.9,
          1.9,
          1.9,
          1.9,
          1.9,
          1.9,
          1.9,
          1.9,
          1.9,
          1.9,
          1.9,
          1.9,
          1.8,
          1.8,
          1.8,
          1.8,
          1.8,
          1.8,
          1.8,
          1.8,
          1.8,
          1.8,
          1.8,
          1.8,
          1.8,
          1.8,
          1.8,
          1.8,
          1.8,
          1.8,
          1.8,
          1.8,
          1.8,
          1.8,
          1.8,
          1.8,
          1.7,
          1.7,
          1.7,
          1.7,
          1.7,
          1.7,
          1.7,
          1.7,
          1.7,
          1.7,
          1.7,
          1.7,
          1.7,
          1.7,
          1.7,
          1.7,
          1.7,
          1.7,
          1.7,
          1.7,
          1.7,
          1.7,
          1.7,
          1.7,
          1.7,
          1.7,
          1.7,
          1.7,
          1.7,
          1.7,
          1.7,
          1.6,
          1.6,
          1.6,
          1.6,
          1.6,
          1.6,
          1.6,
          1.6,
          1.6,
          1.6,
          1.6,
          1.6,
          1.6,
          1.6,
          1.6,
          1.6,
          1.6,
          1.6,
          1.6,
          1.6,
          1.6,
          1.6,
          1.6,
          1.6,
          1.6,
          1.6,
          1.6,
          1.6,
          1.5,
          1.5,
          1.5,
          1.5,
          1.5,
          1.5,
          1.5,
          1.5,
          1.5,
          1.5,
          1.5,
          1.5,
          1.5,
          1.5,
          1.4,
          1.4,
          1.4,
          1.4,
          1.4,
          1.4,
          1.4,
          1.4,
          1.4,
          1.4,
          1.4,
          1.4,
          1.4,
          1.4,
          1.4,
          1.4,
          1.4,
          1.4,
          1.4,
          1.4,
          1.4,
          1.4,
          1.4,
          1.4,
          1.4,
          1.4,
          1.4,
          1.4,
          1.4,
          1.3,
          1.3,
          1.3,
          1.3,
          1.3,
          1.3,
          1.3,
          1.3,
          1.3,
          1.3,
          1.3,
          1.3,
          1.3,
          1.3,
          1.3,
          1.3,
          1.3,
          1.3,
          1.3,
          1.3,
          1.3,
          1.3,
          1.3,
          1.3,
          1.3,
          1.3,
          1.3,
          1.3,
          1.3,
          1.3,
          1.3,
          1.3,
          1.3,
          1.3,
          1.2,
          1.2,
          1.2,
          1.2,
          1.2,
          1.2,
          1.2,
          1.2,
          1.2,
          1.2,
          1.2,
          1.2,
          1.2,
          1.2,
          1.2,
          1.2,
          1.2,
          1.2,
          1.2,
          1.2,
          1.2,
          1.2,
          1.2,
          1.2,
          1.2,
          1.2,
          1.2,
          1.1,
          1.1,
          1.1,
          1.1,
          1.1,
          1.1,
          1.1,
          1.1,
          1.1,
          1.1,
          1.1,
          1.1,
          1.1,
          1.1,
          1.1,
          1.1,
          1.1,
          1.1,
          1.1,
          1.1,
          1.1,
          1.1,
          1.1,
          1.1,
          1.1,
          1.1,
          1.1,
          1,
          1,
          1,
          1,
          1,
          1,
          1,
          1,
          1,
          1,
          1,
          1,
          1,
          1,
          1,
          1,
          1,
          1,
          1,
          1,
          1,
          1,
          1,
          1,
          0.9,
          0.8,
          0.7,
          0.6,
          0.6,
          0.5
         ],
         "xaxis": "x",
         "y": [
          0.41833333333333333,
          0.4375,
          0.7166666666666667,
          0.175,
          0.4305555555555555,
          0.28375,
          0.37916666666666665,
          0.29444444444444445,
          0.22916666666666666,
          0.415,
          0.4333333333333333,
          0.4333333333333333,
          0.19761904761904764,
          0.0625,
          0.025000000000000022,
          -0.06111111111111114,
          -0.15,
          -0.3333333333333333,
          -0.05897435897435899,
          -0.1625,
          -0.3,
          -0.3533333333333334,
          -0.18333333333333335,
          0.14545454545454548,
          -0.29999999999999993,
          -0.21666666666666667,
          -0.19,
          -0.30416666666666664,
          -0.75,
          0.075,
          -0.02999999999999999,
          -0.2409090909090909,
          0.09333333333333334,
          -0.13333333333333333,
          -0.19999999999999998,
          -0.4583333333333333,
          -0.7375,
          -0.75,
          -0.225,
          -0.3972222222222223,
          -0.44285714285714284,
          -0.75,
          -0.25,
          -0.2541666666666667,
          -0.75,
          -0.21994434137291277,
          -0.23125000000000004,
          0.05333333333333334,
          -0.25272727272727274,
          -0.1826623376623377,
          0.13333333333333336,
          -0.11333333333333333,
          -0.31272727272727274,
          -0.225,
          -0.29,
          0.08333333333333333,
          0.05,
          0,
          0.5,
          -0.21666666666666667,
          -0.39999999999999997,
          -0.022916666666666675,
          -0.06787878787878787,
          -0.20833333333333334,
          -0.054666666666666655,
          -0.125,
          -0.23750000000000004,
          -0.08333333333333333,
          -0.39204545454545453,
          0.06727272727272728,
          -0.125,
          -0.25,
          -0.15,
          -0.3533333333333334,
          -0.288,
          0.05,
          -0.09999999999999999,
          -0.3666666666666667,
          -0.21666666666666665,
          -0.08333333333333333,
          -0.1875,
          -0.325,
          -0.25535714285714284,
          -0.11300000000000002,
          -0.35555555555555557,
          -0.12083333333333332,
          -0.4000000000000001,
          -0.42500000000000004,
          -0.19999999999999998,
          -0.020000000000000025,
          -0.14285714285714288,
          -0.025000000000000012,
          -0.5000000000000001,
          -0.121875,
          -0.2333333333333333,
          -0.75,
          -0.375,
          -0.022023809523809515,
          -0.3166666666666667,
          -0.25555555555555554,
          -0.2125,
          -0.5000000000000001,
          -0.75,
          -0.25,
          -0.32,
          -0.2833333333333334,
          -0.25,
          -0.26,
          -0.45,
          -0.375,
          -0.11875000000000002,
          -0.10833333333333334,
          -0.375,
          -0.10333333333333332,
          0.2125,
          -0.35,
          -0.4875,
          0.05,
          -0.255,
          -0.125,
          -0.475,
          -0.2611111111111111,
          -0.22499999999999998,
          -0.20500000000000002,
          -0.1,
          0,
          -0.22499999999999998,
          -0.1611111111111111,
          0.08666666666666667,
          -0.18333333333333335,
          -0.3,
          -0.36250000000000004,
          -0.3,
          -0.575,
          -0.3683333333333333,
          -0.30000000000000004,
          -0.38333333333333336,
          -0.22777777777777777,
          -0.55,
          -0.4166666666666667,
          -0.09999999999999999,
          0.05000000000000002,
          -0.16666666666666666,
          -0.38749999999999996,
          -0.25,
          0.08333333333333333,
          -0.375,
          -0.55,
          -0.15,
          -0.16999999999999998,
          -0.15555555555555556,
          -0.0875,
          -0.5125,
          -0.5333333333333333,
          -0.75,
          -0.4583333333333333,
          0.4,
          -0.1875,
          -0.17,
          0.2,
          -0.26,
          -0.45,
          -0.5,
          -0.18571428571428572,
          0.037500000000000006,
          -0.6,
          -0.2125,
          0.06000000000000001,
          -0.6,
          -0.265,
          -0.15333333333333338,
          -0.75,
          -0.3833333333333333,
          -0.9750000000000001,
          -0.75,
          -0.145,
          -0.6875,
          -0.2625,
          -0.07222222222222224,
          -0.325,
          -0.1375,
          -0.24333333333333335,
          -0.75,
          -0.475,
          -0.37222222222222223,
          -0.75,
          -0.08333333333333331,
          -0.32499999999999996,
          -0.21333333333333332,
          -0.55,
          -0.16666666666666666,
          -0.25,
          -0.4333333333333333,
          -0.21125,
          -0.15833333333333335,
          -0.16666666666666666,
          -0.3,
          -0.375,
          -0.31875000000000003,
          -0.3,
          -0.1659090909090909,
          0.0625,
          -0.14999999999999997,
          -0.23333333333333336,
          -0.26611111111111113,
          -0.14285714285714285,
          -0.225,
          -0.45,
          -0.575,
          -0.20625,
          -0.21388888888888893,
          -1,
          -0.375,
          -0.3106060606060606,
          0.024999999999999994,
          -0.32999999999999996,
          -0.11333333333333333,
          -0.75,
          -0.6833333333333332,
          -0.6,
          -0.13333333333333333,
          -0.75,
          -0.25,
          -0.35000000000000003,
          -0.16249999999999998,
          -0.41875,
          -0.525,
          -0.26666666666666666,
          -0.09125,
          -0.24333333333333335,
          -0.033333333333333326,
          -0.48888888888888893,
          -0.3666666666666667,
          -0.15000000000000002,
          -0.18,
          -0.21250000000000002,
          -0.125,
          -0.75,
          -0.9750000000000001,
          -0.625,
          0.7,
          0.3214285714285714,
          -0.2708333333333333,
          -0.25,
          0.03333333333333335,
          -0.275,
          -0.5,
          -0.21666666666666667,
          -0.4,
          -0.1285714285714286,
          -0.75,
          -0.3833333333333333,
          -0.11611111111111112,
          -0.32222222222222224,
          -0.32222222222222224,
          -0.4166666666666667,
          -0.75,
          0.125,
          0.28125,
          -0.3666666666666667,
          -0.9750000000000001,
          -0.38333333333333336,
          -0.6,
          -0.75,
          -0.75,
          -0.3,
          -0.4,
          -0.1416666666666667,
          -0.6,
          -0.38749999999999996,
          -0.3875,
          -0.09333333333333331,
          -0.2916666666666667,
          -0.3833333333333333,
          -0.3833333333333333,
          -0.3,
          -0.26785714285714285,
          -0.125,
          -0.4166666666666667,
          -0.35,
          -0.5166666666666667,
          -0.3125,
          -0.525,
          -0.6,
          -0.3666666666666667,
          -0.7,
          -0.3333333333333333,
          -1,
          -0.75,
          -0.75,
          -0.3,
          -0.7166666666666668,
          -0.34166666666666673,
          0.05,
          0.2,
          -0.02083333333333333,
          -0.9375,
          -0.375,
          -0.75,
          -0.55,
          -0.525,
          -0.375,
          0.15000000000000002,
          0.1,
          -0.5,
          -0.45,
          -0.575,
          -0.22916666666666666,
          -0.1125,
          -0.2416666666666667,
          -0.30000000000000004
         ],
         "yaxis": "y"
        },
        {
         "alignmentgroup": "True",
         "bingroup": "x",
         "hovertemplate": "stars=%{x}<br>count=%{y}<extra></extra>",
         "legendgroup": "",
         "marker": {
          "color": "rgba(246, 78, 139, 0.6)",
          "line": {
           "color": "rgba(246, 78, 139, 1.0)",
           "width": 3
          }
         },
         "name": "",
         "offsetgroup": "",
         "opacity": 0.5,
         "showlegend": false,
         "type": "histogram",
         "x": [
          4.9,
          4.9,
          4.8,
          4.8,
          4.8,
          4.7,
          4.7,
          4.6,
          4.6,
          4.5,
          2.9,
          2.7,
          2.5,
          2.4,
          2.4,
          2.3,
          2.3,
          2.3,
          2.3,
          2.3,
          2.3,
          2.3,
          2.2,
          2.2,
          2.2,
          2.2,
          2.1,
          2.1,
          2.1,
          2.1,
          2.1,
          2.1,
          2.1,
          2.1,
          2,
          2,
          2,
          2,
          2,
          2,
          2,
          2,
          2,
          2,
          2,
          2,
          2,
          2,
          2,
          1.9,
          1.9,
          1.9,
          1.9,
          1.9,
          1.9,
          1.9,
          1.9,
          1.9,
          1.9,
          1.9,
          1.9,
          1.9,
          1.9,
          1.9,
          1.9,
          1.9,
          1.9,
          1.8,
          1.8,
          1.8,
          1.8,
          1.8,
          1.8,
          1.8,
          1.8,
          1.8,
          1.8,
          1.8,
          1.8,
          1.8,
          1.8,
          1.8,
          1.8,
          1.8,
          1.8,
          1.8,
          1.8,
          1.8,
          1.8,
          1.8,
          1.8,
          1.7,
          1.7,
          1.7,
          1.7,
          1.7,
          1.7,
          1.7,
          1.7,
          1.7,
          1.7,
          1.7,
          1.7,
          1.7,
          1.7,
          1.7,
          1.7,
          1.7,
          1.7,
          1.7,
          1.7,
          1.7,
          1.7,
          1.7,
          1.7,
          1.7,
          1.7,
          1.7,
          1.7,
          1.7,
          1.7,
          1.7,
          1.6,
          1.6,
          1.6,
          1.6,
          1.6,
          1.6,
          1.6,
          1.6,
          1.6,
          1.6,
          1.6,
          1.6,
          1.6,
          1.6,
          1.6,
          1.6,
          1.6,
          1.6,
          1.6,
          1.6,
          1.6,
          1.6,
          1.6,
          1.6,
          1.6,
          1.6,
          1.6,
          1.6,
          1.5,
          1.5,
          1.5,
          1.5,
          1.5,
          1.5,
          1.5,
          1.5,
          1.5,
          1.5,
          1.5,
          1.5,
          1.5,
          1.5,
          1.4,
          1.4,
          1.4,
          1.4,
          1.4,
          1.4,
          1.4,
          1.4,
          1.4,
          1.4,
          1.4,
          1.4,
          1.4,
          1.4,
          1.4,
          1.4,
          1.4,
          1.4,
          1.4,
          1.4,
          1.4,
          1.4,
          1.4,
          1.4,
          1.4,
          1.4,
          1.4,
          1.4,
          1.4,
          1.3,
          1.3,
          1.3,
          1.3,
          1.3,
          1.3,
          1.3,
          1.3,
          1.3,
          1.3,
          1.3,
          1.3,
          1.3,
          1.3,
          1.3,
          1.3,
          1.3,
          1.3,
          1.3,
          1.3,
          1.3,
          1.3,
          1.3,
          1.3,
          1.3,
          1.3,
          1.3,
          1.3,
          1.3,
          1.3,
          1.3,
          1.3,
          1.3,
          1.3,
          1.2,
          1.2,
          1.2,
          1.2,
          1.2,
          1.2,
          1.2,
          1.2,
          1.2,
          1.2,
          1.2,
          1.2,
          1.2,
          1.2,
          1.2,
          1.2,
          1.2,
          1.2,
          1.2,
          1.2,
          1.2,
          1.2,
          1.2,
          1.2,
          1.2,
          1.2,
          1.2,
          1.1,
          1.1,
          1.1,
          1.1,
          1.1,
          1.1,
          1.1,
          1.1,
          1.1,
          1.1,
          1.1,
          1.1,
          1.1,
          1.1,
          1.1,
          1.1,
          1.1,
          1.1,
          1.1,
          1.1,
          1.1,
          1.1,
          1.1,
          1.1,
          1.1,
          1.1,
          1.1,
          1,
          1,
          1,
          1,
          1,
          1,
          1,
          1,
          1,
          1,
          1,
          1,
          1,
          1,
          1,
          1,
          1,
          1,
          1,
          1,
          1,
          1,
          1,
          1,
          0.9,
          0.8,
          0.7,
          0.6,
          0.6,
          0.5
         ],
         "xaxis": "x2",
         "yaxis": "y2"
        }
       ],
       "layout": {
        "barmode": "overlay",
        "coloraxis": {
         "colorbar": {
          "title": {
           "text": "polarity"
          }
         },
         "colorscale": [
          [
           0,
           "#0d0887"
          ],
          [
           0.1111111111111111,
           "#46039f"
          ],
          [
           0.2222222222222222,
           "#7201a8"
          ],
          [
           0.3333333333333333,
           "#9c179e"
          ],
          [
           0.4444444444444444,
           "#bd3786"
          ],
          [
           0.5555555555555556,
           "#d8576b"
          ],
          [
           0.6666666666666666,
           "#ed7953"
          ],
          [
           0.7777777777777778,
           "#fb9f3a"
          ],
          [
           0.8888888888888888,
           "#fdca26"
          ],
          [
           1,
           "#f0f921"
          ]
         ]
        },
        "legend": {
         "tracegroupgap": 0
        },
        "margin": {
         "t": 60
        },
        "template": {
         "data": {
          "bar": [
           {
            "error_x": {
             "color": "#2a3f5f"
            },
            "error_y": {
             "color": "#2a3f5f"
            },
            "marker": {
             "line": {
              "color": "#E5ECF6",
              "width": 0.5
             },
             "pattern": {
              "fillmode": "overlay",
              "size": 10,
              "solidity": 0.2
             }
            },
            "type": "bar"
           }
          ],
          "barpolar": [
           {
            "marker": {
             "line": {
              "color": "#E5ECF6",
              "width": 0.5
             },
             "pattern": {
              "fillmode": "overlay",
              "size": 10,
              "solidity": 0.2
             }
            },
            "type": "barpolar"
           }
          ],
          "carpet": [
           {
            "aaxis": {
             "endlinecolor": "#2a3f5f",
             "gridcolor": "white",
             "linecolor": "white",
             "minorgridcolor": "white",
             "startlinecolor": "#2a3f5f"
            },
            "baxis": {
             "endlinecolor": "#2a3f5f",
             "gridcolor": "white",
             "linecolor": "white",
             "minorgridcolor": "white",
             "startlinecolor": "#2a3f5f"
            },
            "type": "carpet"
           }
          ],
          "choropleth": [
           {
            "colorbar": {
             "outlinewidth": 0,
             "ticks": ""
            },
            "type": "choropleth"
           }
          ],
          "contour": [
           {
            "colorbar": {
             "outlinewidth": 0,
             "ticks": ""
            },
            "colorscale": [
             [
              0,
              "#0d0887"
             ],
             [
              0.1111111111111111,
              "#46039f"
             ],
             [
              0.2222222222222222,
              "#7201a8"
             ],
             [
              0.3333333333333333,
              "#9c179e"
             ],
             [
              0.4444444444444444,
              "#bd3786"
             ],
             [
              0.5555555555555556,
              "#d8576b"
             ],
             [
              0.6666666666666666,
              "#ed7953"
             ],
             [
              0.7777777777777778,
              "#fb9f3a"
             ],
             [
              0.8888888888888888,
              "#fdca26"
             ],
             [
              1,
              "#f0f921"
             ]
            ],
            "type": "contour"
           }
          ],
          "contourcarpet": [
           {
            "colorbar": {
             "outlinewidth": 0,
             "ticks": ""
            },
            "type": "contourcarpet"
           }
          ],
          "heatmap": [
           {
            "colorbar": {
             "outlinewidth": 0,
             "ticks": ""
            },
            "colorscale": [
             [
              0,
              "#0d0887"
             ],
             [
              0.1111111111111111,
              "#46039f"
             ],
             [
              0.2222222222222222,
              "#7201a8"
             ],
             [
              0.3333333333333333,
              "#9c179e"
             ],
             [
              0.4444444444444444,
              "#bd3786"
             ],
             [
              0.5555555555555556,
              "#d8576b"
             ],
             [
              0.6666666666666666,
              "#ed7953"
             ],
             [
              0.7777777777777778,
              "#fb9f3a"
             ],
             [
              0.8888888888888888,
              "#fdca26"
             ],
             [
              1,
              "#f0f921"
             ]
            ],
            "type": "heatmap"
           }
          ],
          "heatmapgl": [
           {
            "colorbar": {
             "outlinewidth": 0,
             "ticks": ""
            },
            "colorscale": [
             [
              0,
              "#0d0887"
             ],
             [
              0.1111111111111111,
              "#46039f"
             ],
             [
              0.2222222222222222,
              "#7201a8"
             ],
             [
              0.3333333333333333,
              "#9c179e"
             ],
             [
              0.4444444444444444,
              "#bd3786"
             ],
             [
              0.5555555555555556,
              "#d8576b"
             ],
             [
              0.6666666666666666,
              "#ed7953"
             ],
             [
              0.7777777777777778,
              "#fb9f3a"
             ],
             [
              0.8888888888888888,
              "#fdca26"
             ],
             [
              1,
              "#f0f921"
             ]
            ],
            "type": "heatmapgl"
           }
          ],
          "histogram": [
           {
            "marker": {
             "pattern": {
              "fillmode": "overlay",
              "size": 10,
              "solidity": 0.2
             }
            },
            "type": "histogram"
           }
          ],
          "histogram2d": [
           {
            "colorbar": {
             "outlinewidth": 0,
             "ticks": ""
            },
            "colorscale": [
             [
              0,
              "#0d0887"
             ],
             [
              0.1111111111111111,
              "#46039f"
             ],
             [
              0.2222222222222222,
              "#7201a8"
             ],
             [
              0.3333333333333333,
              "#9c179e"
             ],
             [
              0.4444444444444444,
              "#bd3786"
             ],
             [
              0.5555555555555556,
              "#d8576b"
             ],
             [
              0.6666666666666666,
              "#ed7953"
             ],
             [
              0.7777777777777778,
              "#fb9f3a"
             ],
             [
              0.8888888888888888,
              "#fdca26"
             ],
             [
              1,
              "#f0f921"
             ]
            ],
            "type": "histogram2d"
           }
          ],
          "histogram2dcontour": [
           {
            "colorbar": {
             "outlinewidth": 0,
             "ticks": ""
            },
            "colorscale": [
             [
              0,
              "#0d0887"
             ],
             [
              0.1111111111111111,
              "#46039f"
             ],
             [
              0.2222222222222222,
              "#7201a8"
             ],
             [
              0.3333333333333333,
              "#9c179e"
             ],
             [
              0.4444444444444444,
              "#bd3786"
             ],
             [
              0.5555555555555556,
              "#d8576b"
             ],
             [
              0.6666666666666666,
              "#ed7953"
             ],
             [
              0.7777777777777778,
              "#fb9f3a"
             ],
             [
              0.8888888888888888,
              "#fdca26"
             ],
             [
              1,
              "#f0f921"
             ]
            ],
            "type": "histogram2dcontour"
           }
          ],
          "mesh3d": [
           {
            "colorbar": {
             "outlinewidth": 0,
             "ticks": ""
            },
            "type": "mesh3d"
           }
          ],
          "parcoords": [
           {
            "line": {
             "colorbar": {
              "outlinewidth": 0,
              "ticks": ""
             }
            },
            "type": "parcoords"
           }
          ],
          "pie": [
           {
            "automargin": true,
            "type": "pie"
           }
          ],
          "scatter": [
           {
            "fillpattern": {
             "fillmode": "overlay",
             "size": 10,
             "solidity": 0.2
            },
            "type": "scatter"
           }
          ],
          "scatter3d": [
           {
            "line": {
             "colorbar": {
              "outlinewidth": 0,
              "ticks": ""
             }
            },
            "marker": {
             "colorbar": {
              "outlinewidth": 0,
              "ticks": ""
             }
            },
            "type": "scatter3d"
           }
          ],
          "scattercarpet": [
           {
            "marker": {
             "colorbar": {
              "outlinewidth": 0,
              "ticks": ""
             }
            },
            "type": "scattercarpet"
           }
          ],
          "scattergeo": [
           {
            "marker": {
             "colorbar": {
              "outlinewidth": 0,
              "ticks": ""
             }
            },
            "type": "scattergeo"
           }
          ],
          "scattergl": [
           {
            "marker": {
             "colorbar": {
              "outlinewidth": 0,
              "ticks": ""
             }
            },
            "type": "scattergl"
           }
          ],
          "scattermapbox": [
           {
            "marker": {
             "colorbar": {
              "outlinewidth": 0,
              "ticks": ""
             }
            },
            "type": "scattermapbox"
           }
          ],
          "scatterpolar": [
           {
            "marker": {
             "colorbar": {
              "outlinewidth": 0,
              "ticks": ""
             }
            },
            "type": "scatterpolar"
           }
          ],
          "scatterpolargl": [
           {
            "marker": {
             "colorbar": {
              "outlinewidth": 0,
              "ticks": ""
             }
            },
            "type": "scatterpolargl"
           }
          ],
          "scatterternary": [
           {
            "marker": {
             "colorbar": {
              "outlinewidth": 0,
              "ticks": ""
             }
            },
            "type": "scatterternary"
           }
          ],
          "surface": [
           {
            "colorbar": {
             "outlinewidth": 0,
             "ticks": ""
            },
            "colorscale": [
             [
              0,
              "#0d0887"
             ],
             [
              0.1111111111111111,
              "#46039f"
             ],
             [
              0.2222222222222222,
              "#7201a8"
             ],
             [
              0.3333333333333333,
              "#9c179e"
             ],
             [
              0.4444444444444444,
              "#bd3786"
             ],
             [
              0.5555555555555556,
              "#d8576b"
             ],
             [
              0.6666666666666666,
              "#ed7953"
             ],
             [
              0.7777777777777778,
              "#fb9f3a"
             ],
             [
              0.8888888888888888,
              "#fdca26"
             ],
             [
              1,
              "#f0f921"
             ]
            ],
            "type": "surface"
           }
          ],
          "table": [
           {
            "cells": {
             "fill": {
              "color": "#EBF0F8"
             },
             "line": {
              "color": "white"
             }
            },
            "header": {
             "fill": {
              "color": "#C8D4E3"
             },
             "line": {
              "color": "white"
             }
            },
            "type": "table"
           }
          ]
         },
         "layout": {
          "annotationdefaults": {
           "arrowcolor": "#2a3f5f",
           "arrowhead": 0,
           "arrowwidth": 1
          },
          "autotypenumbers": "strict",
          "coloraxis": {
           "colorbar": {
            "outlinewidth": 0,
            "ticks": ""
           }
          },
          "colorscale": {
           "diverging": [
            [
             0,
             "#8e0152"
            ],
            [
             0.1,
             "#c51b7d"
            ],
            [
             0.2,
             "#de77ae"
            ],
            [
             0.3,
             "#f1b6da"
            ],
            [
             0.4,
             "#fde0ef"
            ],
            [
             0.5,
             "#f7f7f7"
            ],
            [
             0.6,
             "#e6f5d0"
            ],
            [
             0.7,
             "#b8e186"
            ],
            [
             0.8,
             "#7fbc41"
            ],
            [
             0.9,
             "#4d9221"
            ],
            [
             1,
             "#276419"
            ]
           ],
           "sequential": [
            [
             0,
             "#0d0887"
            ],
            [
             0.1111111111111111,
             "#46039f"
            ],
            [
             0.2222222222222222,
             "#7201a8"
            ],
            [
             0.3333333333333333,
             "#9c179e"
            ],
            [
             0.4444444444444444,
             "#bd3786"
            ],
            [
             0.5555555555555556,
             "#d8576b"
            ],
            [
             0.6666666666666666,
             "#ed7953"
            ],
            [
             0.7777777777777778,
             "#fb9f3a"
            ],
            [
             0.8888888888888888,
             "#fdca26"
            ],
            [
             1,
             "#f0f921"
            ]
           ],
           "sequentialminus": [
            [
             0,
             "#0d0887"
            ],
            [
             0.1111111111111111,
             "#46039f"
            ],
            [
             0.2222222222222222,
             "#7201a8"
            ],
            [
             0.3333333333333333,
             "#9c179e"
            ],
            [
             0.4444444444444444,
             "#bd3786"
            ],
            [
             0.5555555555555556,
             "#d8576b"
            ],
            [
             0.6666666666666666,
             "#ed7953"
            ],
            [
             0.7777777777777778,
             "#fb9f3a"
            ],
            [
             0.8888888888888888,
             "#fdca26"
            ],
            [
             1,
             "#f0f921"
            ]
           ]
          },
          "colorway": [
           "#636efa",
           "#EF553B",
           "#00cc96",
           "#ab63fa",
           "#FFA15A",
           "#19d3f3",
           "#FF6692",
           "#B6E880",
           "#FF97FF",
           "#FECB52"
          ],
          "font": {
           "color": "#2a3f5f"
          },
          "geo": {
           "bgcolor": "white",
           "lakecolor": "white",
           "landcolor": "#E5ECF6",
           "showlakes": true,
           "showland": true,
           "subunitcolor": "white"
          },
          "hoverlabel": {
           "align": "left"
          },
          "hovermode": "closest",
          "mapbox": {
           "style": "light"
          },
          "paper_bgcolor": "white",
          "plot_bgcolor": "#E5ECF6",
          "polar": {
           "angularaxis": {
            "gridcolor": "white",
            "linecolor": "white",
            "ticks": ""
           },
           "bgcolor": "#E5ECF6",
           "radialaxis": {
            "gridcolor": "white",
            "linecolor": "white",
            "ticks": ""
           }
          },
          "scene": {
           "xaxis": {
            "backgroundcolor": "#E5ECF6",
            "gridcolor": "white",
            "gridwidth": 2,
            "linecolor": "white",
            "showbackground": true,
            "ticks": "",
            "zerolinecolor": "white"
           },
           "yaxis": {
            "backgroundcolor": "#E5ECF6",
            "gridcolor": "white",
            "gridwidth": 2,
            "linecolor": "white",
            "showbackground": true,
            "ticks": "",
            "zerolinecolor": "white"
           },
           "zaxis": {
            "backgroundcolor": "#E5ECF6",
            "gridcolor": "white",
            "gridwidth": 2,
            "linecolor": "white",
            "showbackground": true,
            "ticks": "",
            "zerolinecolor": "white"
           }
          },
          "shapedefaults": {
           "line": {
            "color": "#2a3f5f"
           }
          },
          "ternary": {
           "aaxis": {
            "gridcolor": "white",
            "linecolor": "white",
            "ticks": ""
           },
           "baxis": {
            "gridcolor": "white",
            "linecolor": "white",
            "ticks": ""
           },
           "bgcolor": "#E5ECF6",
           "caxis": {
            "gridcolor": "white",
            "linecolor": "white",
            "ticks": ""
           }
          },
          "title": {
           "x": 0.05
          },
          "xaxis": {
           "automargin": true,
           "gridcolor": "white",
           "linecolor": "white",
           "ticks": "",
           "title": {
            "standoff": 15
           },
           "zerolinecolor": "white",
           "zerolinewidth": 2
          },
          "yaxis": {
           "automargin": true,
           "gridcolor": "white",
           "linecolor": "white",
           "ticks": "",
           "title": {
            "standoff": 15
           },
           "zerolinecolor": "white",
           "zerolinewidth": 2
          }
         }
        },
        "xaxis": {
         "anchor": "y",
         "domain": [
          0,
          1
         ],
         "title": {
          "text": "stars"
         }
        },
        "xaxis2": {
         "anchor": "y2",
         "domain": [
          0,
          1
         ],
         "matches": "x",
         "showgrid": true,
         "showticklabels": false
        },
        "yaxis": {
         "anchor": "x",
         "domain": [
          0,
          0.7326
         ],
         "title": {
          "text": "polarity"
         }
        },
        "yaxis2": {
         "anchor": "x2",
         "domain": [
          0.7426,
          1
         ],
         "matches": "y2",
         "showgrid": true,
         "showline": false,
         "showticklabels": false,
         "ticks": "",
         "title": {
          "text": "Stars freq"
         }
        }
       }
      }
     },
     "metadata": {},
     "output_type": "display_data"
    }
   ],
   "source": [
    "fig = px.scatter(data, x=\"stars\", y=\"polarity\", color='polarity', marginal_x=\"histogram\")\n",
    "fig['data'][1].marker.color = 'rgba(246, 78, 139, 0.6)'  # Cambia 'desired-color' con il tuo colore preferito\n",
    "fig.data[1].marker.line.color = 'rgba(246, 78, 139, 1.0)'  # Sostituisci con il colore desiderato\n",
    "fig.data[1].marker.line.width = 3\n",
    "\n",
    "# Per cambiare la label dell'asse x dell'istogramma:\n",
    "fig.layout.yaxis2.title.text = 'Stars freq'\n",
    "fig.show()"
   ]
  },
  {
   "cell_type": "markdown",
   "id": "ff2149fd",
   "metadata": {},
   "source": [
    "# VADER"
   ]
  },
  {
   "cell_type": "code",
   "execution_count": 26,
   "id": "0bccbe87",
   "metadata": {},
   "outputs": [],
   "source": [
    "sid_obj = SentimentIntensityAnalyzer()"
   ]
  },
  {
   "cell_type": "code",
   "execution_count": 27,
   "id": "f8f46cb1",
   "metadata": {},
   "outputs": [],
   "source": [
    "data['vader_polarity'] = data['review'].apply(sid_obj.polarity_scores)"
   ]
  },
  {
   "cell_type": "code",
   "execution_count": 28,
   "id": "b48734ce",
   "metadata": {},
   "outputs": [],
   "source": [
    "data['compund'] = data['vader_polarity'].apply(lambda x : x['compound'])"
   ]
  },
  {
   "cell_type": "code",
   "execution_count": 29,
   "id": "ee592cbd",
   "metadata": {},
   "outputs": [],
   "source": [
    "data['neg'] = data['vader_polarity'].apply(lambda x : x['neg'])"
   ]
  },
  {
   "cell_type": "code",
   "execution_count": 30,
   "id": "b67921b2",
   "metadata": {},
   "outputs": [],
   "source": [
    "data['pos'] = data['vader_polarity'].apply(lambda x : x['pos'])"
   ]
  },
  {
   "cell_type": "code",
   "execution_count": 31,
   "metadata": {},
   "outputs": [
    {
     "data": {
      "text/html": [
       "<div>\n",
       "<style scoped>\n",
       "    .dataframe tbody tr th:only-of-type {\n",
       "        vertical-align: middle;\n",
       "    }\n",
       "\n",
       "    .dataframe tbody tr th {\n",
       "        vertical-align: top;\n",
       "    }\n",
       "\n",
       "    .dataframe thead th {\n",
       "        text-align: right;\n",
       "    }\n",
       "</style>\n",
       "<table border=\"1\" class=\"dataframe\">\n",
       "  <thead>\n",
       "    <tr style=\"text-align: right;\">\n",
       "      <th></th>\n",
       "      <th>company</th>\n",
       "      <th>stars</th>\n",
       "      <th>review</th>\n",
       "      <th>review len</th>\n",
       "      <th>clean_review</th>\n",
       "      <th>subjectivity</th>\n",
       "      <th>polarity</th>\n",
       "      <th>vader_polarity</th>\n",
       "      <th>compund</th>\n",
       "      <th>neg</th>\n",
       "      <th>pos</th>\n",
       "    </tr>\n",
       "  </thead>\n",
       "  <tbody>\n",
       "    <tr>\n",
       "      <th>14</th>\n",
       "      <td>AstroBrew Coffee</td>\n",
       "      <td>4.9</td>\n",
       "      <td>AstroBrew Coffee has been consistently impress...</td>\n",
       "      <td>209</td>\n",
       "      <td>astrobrew coffee consistently impressing custo...</td>\n",
       "      <td>0.750000</td>\n",
       "      <td>0.418333</td>\n",
       "      <td>{'neg': 0.0, 'neu': 0.602, 'pos': 0.398, 'comp...</td>\n",
       "      <td>0.9477</td>\n",
       "      <td>0.000</td>\n",
       "      <td>0.398</td>\n",
       "    </tr>\n",
       "    <tr>\n",
       "      <th>10</th>\n",
       "      <td>Globex Corporation</td>\n",
       "      <td>4.9</td>\n",
       "      <td>Outstanding service and innovative solutions h...</td>\n",
       "      <td>194</td>\n",
       "      <td>outstanding service innovative solutions consi...</td>\n",
       "      <td>0.656250</td>\n",
       "      <td>0.437500</td>\n",
       "      <td>{'neg': 0.0, 'neu': 0.634, 'pos': 0.366, 'comp...</td>\n",
       "      <td>0.9062</td>\n",
       "      <td>0.000</td>\n",
       "      <td>0.366</td>\n",
       "    </tr>\n",
       "    <tr>\n",
       "      <th>40</th>\n",
       "      <td>GourmetGalaxy Restaurants</td>\n",
       "      <td>4.8</td>\n",
       "      <td>The atmosphere at GourmetGalaxy is unmatched, ...</td>\n",
       "      <td>207</td>\n",
       "      <td>the atmosphere gourmetgalaxy unmatched delight...</td>\n",
       "      <td>0.883333</td>\n",
       "      <td>0.716667</td>\n",
       "      <td>{'neg': 0.037, 'neu': 0.771, 'pos': 0.191, 'co...</td>\n",
       "      <td>0.7506</td>\n",
       "      <td>0.037</td>\n",
       "      <td>0.191</td>\n",
       "    </tr>\n",
       "    <tr>\n",
       "      <th>5</th>\n",
       "      <td>BrightPath Tutoring</td>\n",
       "      <td>4.8</td>\n",
       "      <td>The services provided by BrightPath Tutoring w...</td>\n",
       "      <td>171</td>\n",
       "      <td>the services provided brightpath tutoring exce...</td>\n",
       "      <td>0.718333</td>\n",
       "      <td>0.175000</td>\n",
       "      <td>{'neg': 0.055, 'neu': 0.649, 'pos': 0.296, 'co...</td>\n",
       "      <td>0.8318</td>\n",
       "      <td>0.055</td>\n",
       "      <td>0.296</td>\n",
       "    </tr>\n",
       "    <tr>\n",
       "      <th>293</th>\n",
       "      <td>VistaVoyage Tours</td>\n",
       "      <td>4.8</td>\n",
       "      <td>Our experience with VistaVoyage Tours was outs...</td>\n",
       "      <td>218</td>\n",
       "      <td>our experience vistavoyage tours outstanding e...</td>\n",
       "      <td>0.625000</td>\n",
       "      <td>0.430556</td>\n",
       "      <td>{'neg': 0.0, 'neu': 0.82, 'pos': 0.18, 'compou...</td>\n",
       "      <td>0.7644</td>\n",
       "      <td>0.000</td>\n",
       "      <td>0.180</td>\n",
       "    </tr>\n",
       "  </tbody>\n",
       "</table>\n",
       "</div>"
      ],
      "text/plain": [
       "                       company  stars  \\\n",
       "14            AstroBrew Coffee    4.9   \n",
       "10          Globex Corporation    4.9   \n",
       "40   GourmetGalaxy Restaurants    4.8   \n",
       "5          BrightPath Tutoring    4.8   \n",
       "293          VistaVoyage Tours    4.8   \n",
       "\n",
       "                                                review  review len  \\\n",
       "14   AstroBrew Coffee has been consistently impress...         209   \n",
       "10   Outstanding service and innovative solutions h...         194   \n",
       "40   The atmosphere at GourmetGalaxy is unmatched, ...         207   \n",
       "5    The services provided by BrightPath Tutoring w...         171   \n",
       "293  Our experience with VistaVoyage Tours was outs...         218   \n",
       "\n",
       "                                          clean_review  subjectivity  \\\n",
       "14   astrobrew coffee consistently impressing custo...      0.750000   \n",
       "10   outstanding service innovative solutions consi...      0.656250   \n",
       "40   the atmosphere gourmetgalaxy unmatched delight...      0.883333   \n",
       "5    the services provided brightpath tutoring exce...      0.718333   \n",
       "293  our experience vistavoyage tours outstanding e...      0.625000   \n",
       "\n",
       "     polarity                                     vader_polarity  compund  \\\n",
       "14   0.418333  {'neg': 0.0, 'neu': 0.602, 'pos': 0.398, 'comp...   0.9477   \n",
       "10   0.437500  {'neg': 0.0, 'neu': 0.634, 'pos': 0.366, 'comp...   0.9062   \n",
       "40   0.716667  {'neg': 0.037, 'neu': 0.771, 'pos': 0.191, 'co...   0.7506   \n",
       "5    0.175000  {'neg': 0.055, 'neu': 0.649, 'pos': 0.296, 'co...   0.8318   \n",
       "293  0.430556  {'neg': 0.0, 'neu': 0.82, 'pos': 0.18, 'compou...   0.7644   \n",
       "\n",
       "       neg    pos  \n",
       "14   0.000  0.398  \n",
       "10   0.000  0.366  \n",
       "40   0.037  0.191  \n",
       "5    0.055  0.296  \n",
       "293  0.000  0.180  "
      ]
     },
     "execution_count": 31,
     "metadata": {},
     "output_type": "execute_result"
    }
   ],
   "source": [
    "data.head()"
   ]
  },
  {
   "cell_type": "code",
   "execution_count": 32,
   "metadata": {},
   "outputs": [],
   "source": [
    "company_stats = data.groupby('company').agg({'stars':'mean', 'polarity':'mean','subjectivity':'mean', 'compund':'mean',\n",
    "                                            'pos':'mean','neg':'mean'})\n",
    "company_stats.rename(columns = {'stars': 'avg_stars'}, inplace=True)\n",
    "company_stats.reset_index(inplace=True)"
   ]
  },
  {
   "cell_type": "code",
   "execution_count": 33,
   "metadata": {},
   "outputs": [
    {
     "data": {
      "text/html": [
       "<div>\n",
       "<style scoped>\n",
       "    .dataframe tbody tr th:only-of-type {\n",
       "        vertical-align: middle;\n",
       "    }\n",
       "\n",
       "    .dataframe tbody tr th {\n",
       "        vertical-align: top;\n",
       "    }\n",
       "\n",
       "    .dataframe thead th {\n",
       "        text-align: right;\n",
       "    }\n",
       "</style>\n",
       "<table border=\"1\" class=\"dataframe\">\n",
       "  <thead>\n",
       "    <tr style=\"text-align: right;\">\n",
       "      <th></th>\n",
       "      <th>company</th>\n",
       "      <th>avg_stars</th>\n",
       "      <th>polarity</th>\n",
       "      <th>subjectivity</th>\n",
       "      <th>compund</th>\n",
       "      <th>pos</th>\n",
       "      <th>neg</th>\n",
       "    </tr>\n",
       "  </thead>\n",
       "  <tbody>\n",
       "    <tr>\n",
       "      <th>0</th>\n",
       "      <td>AeroDynamic Drones</td>\n",
       "      <td>1.6</td>\n",
       "      <td>-0.368333</td>\n",
       "      <td>0.498333</td>\n",
       "      <td>-0.8268</td>\n",
       "      <td>0.065</td>\n",
       "      <td>0.289</td>\n",
       "    </tr>\n",
       "  </tbody>\n",
       "</table>\n",
       "</div>"
      ],
      "text/plain": [
       "              company  avg_stars  polarity  subjectivity  compund    pos  \\\n",
       "0  AeroDynamic Drones        1.6 -0.368333      0.498333  -0.8268  0.065   \n",
       "\n",
       "     neg  \n",
       "0  0.289  "
      ]
     },
     "execution_count": 33,
     "metadata": {},
     "output_type": "execute_result"
    }
   ],
   "source": [
    "company_stats.head(1)"
   ]
  },
  {
   "cell_type": "code",
   "execution_count": 34,
   "id": "14cdaa8b",
   "metadata": {},
   "outputs": [
    {
     "name": "stdout",
     "output_type": "stream",
     "text": [
      "MSE: 0.1917102819311037\n",
      "RMSE: 0.4378473271941987\n",
      "MAE: 0.35235321486639304\n",
      "R^2: 0.15286270540951952\n"
     ]
    }
   ],
   "source": [
    "model = LinearRegression()\n",
    "X = np.array(company_stats['avg_stars'])\n",
    "Y = np.array(company_stats['compund'])\n",
    "model.fit(X.reshape(-1, 1), Y)\n",
    "intercetta = model.intercept_\n",
    "coeff_angolare = model.coef_[0]\n",
    "valori_previsti = model.predict(X.reshape(-1, 1))\n",
    "# Calcolare il MSE\n",
    "mse = mean_squared_error(Y, valori_previsti)\n",
    "# Calcolare il RMSE\n",
    "rmse = np.sqrt(mse)\n",
    "# Calcolare il MAE\n",
    "mae = mean_absolute_error(Y, valori_previsti)\n",
    "# Calcolare l'R quadro\n",
    "r2 = r2_score(Y, valori_previsti)\n",
    "\n",
    "print(f'MSE: {mse}')\n",
    "print(f'RMSE: {rmse}')\n",
    "print(f'MAE: {mae}')\n",
    "print(f'R^2: {r2}')"
   ]
  },
  {
   "cell_type": "code",
   "execution_count": 35,
   "id": "bdaf0cff",
   "metadata": {},
   "outputs": [
    {
     "name": "stdout",
     "output_type": "stream",
     "text": [
      "MSE: 0.19775763050308953\n",
      "RMSE: 0.44469948336274184\n",
      "MAE: 0.4261857500012207\n",
      "R^2: -28.013807004242334\n"
     ]
    }
   ],
   "source": [
    "X = np.array(company_stats['avg_stars'])\n",
    "Y_pos = np.array(company_stats['pos'])\n",
    "model.fit(X.reshape(-1, 1), Y)\n",
    "intercetta_pos = model.intercept_\n",
    "coeff_angolare_pos = model.coef_[0]\n",
    "valori_previsti_pos = model.predict(X.reshape(-1, 1))\n",
    "\n",
    "# Calcolare il MSE\n",
    "mse_pos = mean_squared_error(Y_pos, valori_previsti_pos)\n",
    "# Calcolare il RMSE\n",
    "rmse_pos = np.sqrt(mse_pos)\n",
    "# Calcolare il MAE\n",
    "mae_pos = mean_absolute_error(Y_pos, valori_previsti_pos)\n",
    "# Calcolare l'R quadro\n",
    "r2_pos = r2_score(Y_pos, valori_previsti_pos)\n",
    "\n",
    "print(f'MSE: {mse_pos}')\n",
    "print(f'RMSE: {rmse_pos}')\n",
    "print(f'MAE: {mae_pos}')\n",
    "print(f'R^2: {r2_pos}')"
   ]
  },
  {
   "cell_type": "code",
   "execution_count": 83,
   "id": "5eee8303",
   "metadata": {},
   "outputs": [
    {
     "name": "stdout",
     "output_type": "stream",
     "text": [
      "MSE: 0.0064372866225494265\n",
      "RMSE: 0.0802327029492926\n",
      "MAE: 0.06470653328371978\n",
      "R^2: 0.1536591664395177\n"
     ]
    }
   ],
   "source": [
    "X = np.array(company_stats['avg_stars'])\n",
    "Y_neg = np.array(company_stats['neg'])\n",
    "model.fit(X.reshape(-1, 1), Y_neg)\n",
    "intercetta_neg = model.intercept_\n",
    "coeff_angolare_neg = model.coef_[0]\n",
    "valori_previsti_neg = model.predict(X.reshape(-1, 1))\n",
    "\n",
    "# Calcolare il MSE\n",
    "mse_neg = mean_squared_error(Y_neg, valori_previsti_neg)\n",
    "# Calcolare il RMSE\n",
    "rmse_neg = np.sqrt(mse_neg)\n",
    "# Calcolare il MAE\n",
    "mae_neg = mean_absolute_error(Y_neg, valori_previsti_neg)\n",
    "# Calcolare l'R quadro\n",
    "r2_neg = r2_score(Y_neg, valori_previsti_neg)\n",
    "\n",
    "print(f'MSE: {mse_neg}')\n",
    "print(f'RMSE: {rmse_neg}')\n",
    "print(f'MAE: {mae_neg}')\n",
    "print(f'R^2: {r2_neg}')"
   ]
  },
  {
   "cell_type": "code",
   "execution_count": 36,
   "id": "e9536c8f",
   "metadata": {},
   "outputs": [
    {
     "data": {
      "text/html": [
       "<div>\n",
       "<style scoped>\n",
       "    .dataframe tbody tr th:only-of-type {\n",
       "        vertical-align: middle;\n",
       "    }\n",
       "\n",
       "    .dataframe tbody tr th {\n",
       "        vertical-align: top;\n",
       "    }\n",
       "\n",
       "    .dataframe thead th {\n",
       "        text-align: right;\n",
       "    }\n",
       "</style>\n",
       "<table border=\"1\" class=\"dataframe\">\n",
       "  <thead>\n",
       "    <tr style=\"text-align: right;\">\n",
       "      <th></th>\n",
       "      <th>company</th>\n",
       "      <th>avg_stars</th>\n",
       "      <th>polarity</th>\n",
       "      <th>subjectivity</th>\n",
       "      <th>compund</th>\n",
       "      <th>pos</th>\n",
       "      <th>neg</th>\n",
       "    </tr>\n",
       "  </thead>\n",
       "  <tbody>\n",
       "    <tr>\n",
       "      <th>0</th>\n",
       "      <td>AeroDynamic Drones</td>\n",
       "      <td>1.6</td>\n",
       "      <td>-0.368333</td>\n",
       "      <td>0.498333</td>\n",
       "      <td>-0.8268</td>\n",
       "      <td>0.065</td>\n",
       "      <td>0.289</td>\n",
       "    </tr>\n",
       "  </tbody>\n",
       "</table>\n",
       "</div>"
      ],
      "text/plain": [
       "              company  avg_stars  polarity  subjectivity  compund    pos  \\\n",
       "0  AeroDynamic Drones        1.6 -0.368333      0.498333  -0.8268  0.065   \n",
       "\n",
       "     neg  \n",
       "0  0.289  "
      ]
     },
     "execution_count": 36,
     "metadata": {},
     "output_type": "execute_result"
    }
   ],
   "source": [
    "company_stats.head(1)"
   ]
  },
  {
   "cell_type": "code",
   "execution_count": 37,
   "id": "ee717476",
   "metadata": {},
   "outputs": [
    {
     "data": {
      "image/png": "[encoded data removed]",
      "text/plain": [
       "<Figure size 640x480 with 1 Axes>"
      ]
     },
     "metadata": {},
     "output_type": "display_data"
    }
   ],
   "source": [
    "plt.scatter(company_stats['avg_stars'],company_stats['compund'], label = 'polarity', color='blue', marker='o')\n",
    "plt.plot(X, valori_previsti, color='blue', label='Regressione Lineare')\n",
    "plt.grid(True)"
   ]
  },
  {
   "cell_type": "code",
   "execution_count": 38,
   "metadata": {},
   "outputs": [
    {
     "data": {
      "application/vnd.plotly.v1+json": {
       "config": {
        "plotlyServerURL": "https://plot.ly"
       },
       "data": [
        {
         "hovertemplate": "stars=%{x}<br>compund=%{marker.color}<extra></extra>",
         "legendgroup": "",
         "marker": {
          "color": [
           0.9477,
           0.9062,
           0.7506,
           0.8318,
           0.7644,
           0,
           0.7635,
           0.4404,
           0.926,
           0.8953,
           0.714,
           0.8126,
           0.836,
           -0.1893,
           -0.822,
           -0.4509,
           0.0387,
           -0.1779,
           -0.6705,
           -0.1779,
           -0.7574,
           -0.539,
           -0.4019,
           0.0644,
           -0.8807,
           0.2748,
           -0.836,
           -0.7346,
           -0.1531,
           0.7096,
           -0.2006,
           -0.6808,
           -0.6486,
           -0.2023,
           0.4019,
           -0.2195,
           -0.422,
           -0.6705,
           -0.5517,
           -0.2195,
           -0.7096,
           -0.5256,
           0.5586,
           0.0018,
           -0.0516,
           -0.7579,
           -0.1761,
           -0.0258,
           -0.6705,
           -0.7351,
           0.3274,
           -0.5301,
           -0.0772,
           -0.5106,
           -0.5849,
           -0.3375,
           0.7579,
           -0.2263,
           -0.6922,
           -0.5775,
           -0.7964,
           0.0603,
           -0.296,
           -0.6115,
           -0.3517,
           0.4603,
           -0.1761,
           0.2016,
           0.3626,
           0.3612,
           -0.0498,
           0.3291,
           0.6597,
           -0.4588,
           -0.7579,
           0.4767,
           -0.5439,
           0.0516,
           -0.5256,
           0.6249,
           -0.4754,
           -0.6486,
           -0.3612,
           -0.1779,
           -0.1513,
           -0.3508,
           -0.4215,
           -0.8658,
           -0.6908,
           0.1027,
           -0.8214,
           -0.5256,
           -0.6808,
           -0.0495,
           -0.7003,
           -0.8268,
           -0.5106,
           0.2798,
           0.0018,
           0.6003,
           -0.6486,
           -0.6908,
           -0.7713,
           -0.5859,
           -0.8622,
           -0.8316,
           0.4033,
           -0.6798,
           -0.1027,
           -0.5723,
           -0.6373,
           -0.6124,
           -0.8225,
           0.3657,
           -0.2165,
           -0.6708,
           -0.8313,
           0,
           -0.2838,
           -0.8173,
           -0.743,
           -0.2944,
           0.765,
           -0.7757,
           0.0516,
           -0.4802,
           -0.7717,
           -0.6653,
           0.2854,
           -0.5333,
           -0.3839,
           -0.8475,
           -0.6705,
           -0.5256,
           -0.8268,
           -0.8176,
           -0.1285,
           -0.3311,
           -0.6808,
           -0.6705,
           0.5574,
           -0.6486,
           -0.0498,
           -0.5948,
           -0.4215,
           0.204,
           -0.7719,
           -0.3612,
           0.5859,
           0.4854,
           0.6369,
           -0.1761,
           -0.8439,
           -0.836,
           -0.7501,
           -0.7425,
           -0.3818,
           -0.6705,
           -0.7623,
           0,
           -0.802,
           -0.8591,
           -0.6124,
           -0.8591,
           0.7069,
           -0.3672,
           -0.6115,
           -0.5574,
           -0.128,
           -0.8834,
           0.0772,
           -0.7346,
           -0.7272,
           -0.422,
           -0.5256,
           -0.5423,
           -0.8721,
           -0.1761,
           -0.0754,
           -0.5963,
           -0.7501,
           -0.1761,
           -0.5256,
           -0.4694,
           -0.5256,
           -0.5256,
           -0.666,
           -0.3311,
           -0.3311,
           -0.6708,
           0.0772,
           -0.1761,
           -0.5513,
           -0.862,
           -0.7654,
           -0.101,
           -0.8553,
           -0.4005,
           -0.3597,
           -0.5038,
           -0.5106,
           -0.1263,
           -0.0258,
           -0.4327,
           -0.8911,
           -0.7478,
           -0.6198,
           -0.8516,
           -0.5256,
           -0.7836,
           -0.6708,
           -0.7105,
           -0.861,
           -0.7841,
           -0.7543,
           -0.8689,
           -0.3612,
           -0.4754,
           -0.7574,
           -0.5998,
           0.6597,
           -0.5863,
           -0.7783,
           0.025,
           -0.7412,
           -0.3597,
           -0.1761,
           0.4215,
           -0.7178,
           -0.422,
           -0.7354,
           -0.6381,
           -0.4201,
           0.5729,
           -0.4005,
           -0.5578,
           -0.4005,
           -0.8934,
           -0.5998,
           -0.5256,
           0.6597,
           0.9152,
           -0.8808,
           0.1045,
           0.5574,
           -0.4939,
           0.0516,
           0.2953,
           -0.5863,
           -0.4391,
           -0.422,
           -0.623,
           -0.1986,
           -0.3311,
           -0.8016,
           -0.8268,
           -0.2006,
           0.582,
           0.6014,
           -0.7925,
           -0.8022,
           -0.5709,
           -0.6811,
           -0.2944,
           0.3486,
           0.3197,
           -0.8268,
           0.3415,
           -0.6811,
           -0.8169,
           -0.1761,
           0.0258,
           0.2957,
           -0.4914,
           -0.8022,
           -0.2006,
           0.296,
           -0.4391,
           -0.6128,
           -0.4848,
           -0.8226,
           -0.7501,
           -0.54,
           0.5868,
           -0.128,
           -0.8482,
           -0.441,
           -0.8835,
           -0.6265,
           -0.5863,
           -0.7652,
           -0.764,
           -0.1761,
           0.4421,
           -0.422,
           -0.0093,
           -0.8623,
           -0.6965,
           0.3197,
           -0.6811,
           -0.5413,
           -0.1761,
           -0.6478,
           0.0276,
           -0.2481,
           -0.2642,
           -0.8318,
           -0.2465,
           -0.1761,
           -0.5827,
           -0.6261
          ],
          "coloraxis": "coloraxis",
          "symbol": "circle"
         },
         "mode": "markers",
         "name": "",
         "orientation": "v",
         "showlegend": false,
         "type": "scatter",
         "x": [
          4.9,
          4.9,
          4.8,
          4.8,
          4.8,
          4.7,
          4.7,
          4.6,
          4.6,
          4.5,
          2.9,
          2.7,
          2.5,
          2.4,
          2.4,
          2.3,
          2.3,
          2.3,
          2.3,
          2.3,
          2.3,
          2.3,
          2.2,
          2.2,
          2.2,
          2.2,
          2.1,
          2.1,
          2.1,
          2.1,
          2.1,
          2.1,
          2.1,
          2.1,
          2,
          2,
          2,
          2,
          2,
          2,
          2,
          2,
          2,
          2,
          2,
          2,
          2,
          2,
          2,
          1.9,
          1.9,
          1.9,
          1.9,
          1.9,
          1.9,
          1.9,
          1.9,
          1.9,
          1.9,
          1.9,
          1.9,
          1.9,
          1.9,
          1.9,
          1.9,
          1.9,
          1.9,
          1.8,
          1.8,
          1.8,
          1.8,
          1.8,
          1.8,
          1.8,
          1.8,
          1.8,
          1.8,
          1.8,
          1.8,
          1.8,
          1.8,
          1.8,
          1.8,
          1.8,
          1.8,
          1.8,
          1.8,
          1.8,
          1.8,
          1.8,
          1.8,
          1.7,
          1.7,
          1.7,
          1.7,
          1.7,
          1.7,
          1.7,
          1.7,
          1.7,
          1.7,
          1.7,
          1.7,
          1.7,
          1.7,
          1.7,
          1.7,
          1.7,
          1.7,
          1.7,
          1.7,
          1.7,
          1.7,
          1.7,
          1.7,
          1.7,
          1.7,
          1.7,
          1.7,
          1.7,
          1.7,
          1.7,
          1.6,
          1.6,
          1.6,
          1.6,
          1.6,
          1.6,
          1.6,
          1.6,
          1.6,
          1.6,
          1.6,
          1.6,
          1.6,
          1.6,
          1.6,
          1.6,
          1.6,
          1.6,
          1.6,
          1.6,
          1.6,
          1.6,
          1.6,
          1.6,
          1.6,
          1.6,
          1.6,
          1.6,
          1.5,
          1.5,
          1.5,
          1.5,
          1.5,
          1.5,
          1.5,
          1.5,
          1.5,
          1.5,
          1.5,
          1.5,
          1.5,
          1.5,
          1.4,
          1.4,
          1.4,
          1.4,
          1.4,
          1.4,
          1.4,
          1.4,
          1.4,
          1.4,
          1.4,
          1.4,
          1.4,
          1.4,
          1.4,
          1.4,
          1.4,
          1.4,
          1.4,
          1.4,
          1.4,
          1.4,
          1.4,
          1.4,
          1.4,
          1.4,
          1.4,
          1.4,
          1.4,
          1.3,
          1.3,
          1.3,
          1.3,
          1.3,
          1.3,
          1.3,
          1.3,
          1.3,
          1.3,
          1.3,
          1.3,
          1.3,
          1.3,
          1.3,
          1.3,
          1.3,
          1.3,
          1.3,
          1.3,
          1.3,
          1.3,
          1.3,
          1.3,
          1.3,
          1.3,
          1.3,
          1.3,
          1.3,
          1.3,
          1.3,
          1.3,
          1.3,
          1.3,
          1.2,
          1.2,
          1.2,
          1.2,
          1.2,
          1.2,
          1.2,
          1.2,
          1.2,
          1.2,
          1.2,
          1.2,
          1.2,
          1.2,
          1.2,
          1.2,
          1.2,
          1.2,
          1.2,
          1.2,
          1.2,
          1.2,
          1.2,
          1.2,
          1.2,
          1.2,
          1.2,
          1.1,
          1.1,
          1.1,
          1.1,
          1.1,
          1.1,
          1.1,
          1.1,
          1.1,
          1.1,
          1.1,
          1.1,
          1.1,
          1.1,
          1.1,
          1.1,
          1.1,
          1.1,
          1.1,
          1.1,
          1.1,
          1.1,
          1.1,
          1.1,
          1.1,
          1.1,
          1.1,
          1,
          1,
          1,
          1,
          1,
          1,
          1,
          1,
          1,
          1,
          1,
          1,
          1,
          1,
          1,
          1,
          1,
          1,
          1,
          1,
          1,
          1,
          1,
          1,
          0.9,
          0.8,
          0.7,
          0.6,
          0.6,
          0.5
         ],
         "xaxis": "x",
         "y": [
          0.9477,
          0.9062,
          0.7506,
          0.8318,
          0.7644,
          0,
          0.7635,
          0.4404,
          0.926,
          0.8953,
          0.714,
          0.8126,
          0.836,
          -0.1893,
          -0.822,
          -0.4509,
          0.0387,
          -0.1779,
          -0.6705,
          -0.1779,
          -0.7574,
          -0.539,
          -0.4019,
          0.0644,
          -0.8807,
          0.2748,
          -0.836,
          -0.7346,
          -0.1531,
          0.7096,
          -0.2006,
          -0.6808,
          -0.6486,
          -0.2023,
          0.4019,
          -0.2195,
          -0.422,
          -0.6705,
          -0.5517,
          -0.2195,
          -0.7096,
          -0.5256,
          0.5586,
          0.0018,
          -0.0516,
          -0.7579,
          -0.1761,
          -0.0258,
          -0.6705,
          -0.7351,
          0.3274,
          -0.5301,
          -0.0772,
          -0.5106,
          -0.5849,
          -0.3375,
          0.7579,
          -0.2263,
          -0.6922,
          -0.5775,
          -0.7964,
          0.0603,
          -0.296,
          -0.6115,
          -0.3517,
          0.4603,
          -0.1761,
          0.2016,
          0.3626,
          0.3612,
          -0.0498,
          0.3291,
          0.6597,
          -0.4588,
          -0.7579,
          0.4767,
          -0.5439,
          0.0516,
          -0.5256,
          0.6249,
          -0.4754,
          -0.6486,
          -0.3612,
          -0.1779,
          -0.1513,
          -0.3508,
          -0.4215,
          -0.8658,
          -0.6908,
          0.1027,
          -0.8214,
          -0.5256,
          -0.6808,
          -0.0495,
          -0.7003,
          -0.8268,
          -0.5106,
          0.2798,
          0.0018,
          0.6003,
          -0.6486,
          -0.6908,
          -0.7713,
          -0.5859,
          -0.8622,
          -0.8316,
          0.4033,
          -0.6798,
          -0.1027,
          -0.5723,
          -0.6373,
          -0.6124,
          -0.8225,
          0.3657,
          -0.2165,
          -0.6708,
          -0.8313,
          0,
          -0.2838,
          -0.8173,
          -0.743,
          -0.2944,
          0.765,
          -0.7757,
          0.0516,
          -0.4802,
          -0.7717,
          -0.6653,
          0.2854,
          -0.5333,
          -0.3839,
          -0.8475,
          -0.6705,
          -0.5256,
          -0.8268,
          -0.8176,
          -0.1285,
          -0.3311,
          -0.6808,
          -0.6705,
          0.5574,
          -0.6486,
          -0.0498,
          -0.5948,
          -0.4215,
          0.204,
          -0.7719,
          -0.3612,
          0.5859,
          0.4854,
          0.6369,
          -0.1761,
          -0.8439,
          -0.836,
          -0.7501,
          -0.7425,
          -0.3818,
          -0.6705,
          -0.7623,
          0,
          -0.802,
          -0.8591,
          -0.6124,
          -0.8591,
          0.7069,
          -0.3672,
          -0.6115,
          -0.5574,
          -0.128,
          -0.8834,
          0.0772,
          -0.7346,
          -0.7272,
          -0.422,
          -0.5256,
          -0.5423,
          -0.8721,
          -0.1761,
          -0.0754,
          -0.5963,
          -0.7501,
          -0.1761,
          -0.5256,
          -0.4694,
          -0.5256,
          -0.5256,
          -0.666,
          -0.3311,
          -0.3311,
          -0.6708,
          0.0772,
          -0.1761,
          -0.5513,
          -0.862,
          -0.7654,
          -0.101,
          -0.8553,
          -0.4005,
          -0.3597,
          -0.5038,
          -0.5106,
          -0.1263,
          -0.0258,
          -0.4327,
          -0.8911,
          -0.7478,
          -0.6198,
          -0.8516,
          -0.5256,
          -0.7836,
          -0.6708,
          -0.7105,
          -0.861,
          -0.7841,
          -0.7543,
          -0.8689,
          -0.3612,
          -0.4754,
          -0.7574,
          -0.5998,
          0.6597,
          -0.5863,
          -0.7783,
          0.025,
          -0.7412,
          -0.3597,
          -0.1761,
          0.4215,
          -0.7178,
          -0.422,
          -0.7354,
          -0.6381,
          -0.4201,
          0.5729,
          -0.4005,
          -0.5578,
          -0.4005,
          -0.8934,
          -0.5998,
          -0.5256,
          0.6597,
          0.9152,
          -0.8808,
          0.1045,
          0.5574,
          -0.4939,
          0.0516,
          0.2953,
          -0.5863,
          -0.4391,
          -0.422,
          -0.623,
          -0.1986,
          -0.3311,
          -0.8016,
          -0.8268,
          -0.2006,
          0.582,
          0.6014,
          -0.7925,
          -0.8022,
          -0.5709,
          -0.6811,
          -0.2944,
          0.3486,
          0.3197,
          -0.8268,
          0.3415,
          -0.6811,
          -0.8169,
          -0.1761,
          0.0258,
          0.2957,
          -0.4914,
          -0.8022,
          -0.2006,
          0.296,
          -0.4391,
          -0.6128,
          -0.4848,
          -0.8226,
          -0.7501,
          -0.54,
          0.5868,
          -0.128,
          -0.8482,
          -0.441,
          -0.8835,
          -0.6265,
          -0.5863,
          -0.7652,
          -0.764,
          -0.1761,
          0.4421,
          -0.422,
          -0.0093,
          -0.8623,
          -0.6965,
          0.3197,
          -0.6811,
          -0.5413,
          -0.1761,
          -0.6478,
          0.0276,
          -0.2481,
          -0.2642,
          -0.8318,
          -0.2465,
          -0.1761,
          -0.5827,
          -0.6261
         ],
         "yaxis": "y"
        },
        {
         "alignmentgroup": "True",
         "bingroup": "x",
         "hovertemplate": "stars=%{x}<br>count=%{y}<extra></extra>",
         "legendgroup": "",
         "marker": {
          "color": "rgba(246, 78, 139, 0.6)",
          "line": {
           "color": "rgba(246, 78, 139, 1.0)",
           "width": 3
          }
         },
         "name": "",
         "offsetgroup": "",
         "opacity": 0.5,
         "showlegend": false,
         "type": "histogram",
         "x": [
          4.9,
          4.9,
          4.8,
          4.8,
          4.8,
          4.7,
          4.7,
          4.6,
          4.6,
          4.5,
          2.9,
          2.7,
          2.5,
          2.4,
          2.4,
          2.3,
          2.3,
          2.3,
          2.3,
          2.3,
          2.3,
          2.3,
          2.2,
          2.2,
          2.2,
          2.2,
          2.1,
          2.1,
          2.1,
          2.1,
          2.1,
          2.1,
          2.1,
          2.1,
          2,
          2,
          2,
          2,
          2,
          2,
          2,
          2,
          2,
          2,
          2,
          2,
          2,
          2,
          2,
          1.9,
          1.9,
          1.9,
          1.9,
          1.9,
          1.9,
          1.9,
          1.9,
          1.9,
          1.9,
          1.9,
          1.9,
          1.9,
          1.9,
          1.9,
          1.9,
          1.9,
          1.9,
          1.8,
          1.8,
          1.8,
          1.8,
          1.8,
          1.8,
          1.8,
          1.8,
          1.8,
          1.8,
          1.8,
          1.8,
          1.8,
          1.8,
          1.8,
          1.8,
          1.8,
          1.8,
          1.8,
          1.8,
          1.8,
          1.8,
          1.8,
          1.8,
          1.7,
          1.7,
          1.7,
          1.7,
          1.7,
          1.7,
          1.7,
          1.7,
          1.7,
          1.7,
          1.7,
          1.7,
          1.7,
          1.7,
          1.7,
          1.7,
          1.7,
          1.7,
          1.7,
          1.7,
          1.7,
          1.7,
          1.7,
          1.7,
          1.7,
          1.7,
          1.7,
          1.7,
          1.7,
          1.7,
          1.7,
          1.6,
          1.6,
          1.6,
          1.6,
          1.6,
          1.6,
          1.6,
          1.6,
          1.6,
          1.6,
          1.6,
          1.6,
          1.6,
          1.6,
          1.6,
          1.6,
          1.6,
          1.6,
          1.6,
          1.6,
          1.6,
          1.6,
          1.6,
          1.6,
          1.6,
          1.6,
          1.6,
          1.6,
          1.5,
          1.5,
          1.5,
          1.5,
          1.5,
          1.5,
          1.5,
          1.5,
          1.5,
          1.5,
          1.5,
          1.5,
          1.5,
          1.5,
          1.4,
          1.4,
          1.4,
          1.4,
          1.4,
          1.4,
          1.4,
          1.4,
          1.4,
          1.4,
          1.4,
          1.4,
          1.4,
          1.4,
          1.4,
          1.4,
          1.4,
          1.4,
          1.4,
          1.4,
          1.4,
          1.4,
          1.4,
          1.4,
          1.4,
          1.4,
          1.4,
          1.4,
          1.4,
          1.3,
          1.3,
          1.3,
          1.3,
          1.3,
          1.3,
          1.3,
          1.3,
          1.3,
          1.3,
          1.3,
          1.3,
          1.3,
          1.3,
          1.3,
          1.3,
          1.3,
          1.3,
          1.3,
          1.3,
          1.3,
          1.3,
          1.3,
          1.3,
          1.3,
          1.3,
          1.3,
          1.3,
          1.3,
          1.3,
          1.3,
          1.3,
          1.3,
          1.3,
          1.2,
          1.2,
          1.2,
          1.2,
          1.2,
          1.2,
          1.2,
          1.2,
          1.2,
          1.2,
          1.2,
          1.2,
          1.2,
          1.2,
          1.2,
          1.2,
          1.2,
          1.2,
          1.2,
          1.2,
          1.2,
          1.2,
          1.2,
          1.2,
          1.2,
          1.2,
          1.2,
          1.1,
          1.1,
          1.1,
          1.1,
          1.1,
          1.1,
          1.1,
          1.1,
          1.1,
          1.1,
          1.1,
          1.1,
          1.1,
          1.1,
          1.1,
          1.1,
          1.1,
          1.1,
          1.1,
          1.1,
          1.1,
          1.1,
          1.1,
          1.1,
          1.1,
          1.1,
          1.1,
          1,
          1,
          1,
          1,
          1,
          1,
          1,
          1,
          1,
          1,
          1,
          1,
          1,
          1,
          1,
          1,
          1,
          1,
          1,
          1,
          1,
          1,
          1,
          1,
          0.9,
          0.8,
          0.7,
          0.6,
          0.6,
          0.5
         ],
         "xaxis": "x2",
         "yaxis": "y2"
        }
       ],
       "layout": {
        "barmode": "overlay",
        "coloraxis": {
         "colorbar": {
          "title": {
           "text": "compund"
          }
         },
         "colorscale": [
          [
           0,
           "#0d0887"
          ],
          [
           0.1111111111111111,
           "#46039f"
          ],
          [
           0.2222222222222222,
           "#7201a8"
          ],
          [
           0.3333333333333333,
           "#9c179e"
          ],
          [
           0.4444444444444444,
           "#bd3786"
          ],
          [
           0.5555555555555556,
           "#d8576b"
          ],
          [
           0.6666666666666666,
           "#ed7953"
          ],
          [
           0.7777777777777778,
           "#fb9f3a"
          ],
          [
           0.8888888888888888,
           "#fdca26"
          ],
          [
           1,
           "#f0f921"
          ]
         ]
        },
        "legend": {
         "tracegroupgap": 0
        },
        "margin": {
         "t": 60
        },
        "template": {
         "data": {
          "bar": [
           {
            "error_x": {
             "color": "#2a3f5f"
            },
            "error_y": {
             "color": "#2a3f5f"
            },
            "marker": {
             "line": {
              "color": "#E5ECF6",
              "width": 0.5
             },
             "pattern": {
              "fillmode": "overlay",
              "size": 10,
              "solidity": 0.2
             }
            },
            "type": "bar"
           }
          ],
          "barpolar": [
           {
            "marker": {
             "line": {
              "color": "#E5ECF6",
              "width": 0.5
             },
             "pattern": {
              "fillmode": "overlay",
              "size": 10,
              "solidity": 0.2
             }
            },
            "type": "barpolar"
           }
          ],
          "carpet": [
           {
            "aaxis": {
             "endlinecolor": "#2a3f5f",
             "gridcolor": "white",
             "linecolor": "white",
             "minorgridcolor": "white",
             "startlinecolor": "#2a3f5f"
            },
            "baxis": {
             "endlinecolor": "#2a3f5f",
             "gridcolor": "white",
             "linecolor": "white",
             "minorgridcolor": "white",
             "startlinecolor": "#2a3f5f"
            },
            "type": "carpet"
           }
          ],
          "choropleth": [
           {
            "colorbar": {
             "outlinewidth": 0,
             "ticks": ""
            },
            "type": "choropleth"
           }
          ],
          "contour": [
           {
            "colorbar": {
             "outlinewidth": 0,
             "ticks": ""
            },
            "colorscale": [
             [
              0,
              "#0d0887"
             ],
             [
              0.1111111111111111,
              "#46039f"
             ],
             [
              0.2222222222222222,
              "#7201a8"
             ],
             [
              0.3333333333333333,
              "#9c179e"
             ],
             [
              0.4444444444444444,
              "#bd3786"
             ],
             [
              0.5555555555555556,
              "#d8576b"
             ],
             [
              0.6666666666666666,
              "#ed7953"
             ],
             [
              0.7777777777777778,
              "#fb9f3a"
             ],
             [
              0.8888888888888888,
              "#fdca26"
             ],
             [
              1,
              "#f0f921"
             ]
            ],
            "type": "contour"
           }
          ],
          "contourcarpet": [
           {
            "colorbar": {
             "outlinewidth": 0,
             "ticks": ""
            },
            "type": "contourcarpet"
           }
          ],
          "heatmap": [
           {
            "colorbar": {
             "outlinewidth": 0,
             "ticks": ""
            },
            "colorscale": [
             [
              0,
              "#0d0887"
             ],
             [
              0.1111111111111111,
              "#46039f"
             ],
             [
              0.2222222222222222,
              "#7201a8"
             ],
             [
              0.3333333333333333,
              "#9c179e"
             ],
             [
              0.4444444444444444,
              "#bd3786"
             ],
             [
              0.5555555555555556,
              "#d8576b"
             ],
             [
              0.6666666666666666,
              "#ed7953"
             ],
             [
              0.7777777777777778,
              "#fb9f3a"
             ],
             [
              0.8888888888888888,
              "#fdca26"
             ],
             [
              1,
              "#f0f921"
             ]
            ],
            "type": "heatmap"
           }
          ],
          "heatmapgl": [
           {
            "colorbar": {
             "outlinewidth": 0,
             "ticks": ""
            },
            "colorscale": [
             [
              0,
              "#0d0887"
             ],
             [
              0.1111111111111111,
              "#46039f"
             ],
             [
              0.2222222222222222,
              "#7201a8"
             ],
             [
              0.3333333333333333,
              "#9c179e"
             ],
             [
              0.4444444444444444,
              "#bd3786"
             ],
             [
              0.5555555555555556,
              "#d8576b"
             ],
             [
              0.6666666666666666,
              "#ed7953"
             ],
             [
              0.7777777777777778,
              "#fb9f3a"
             ],
             [
              0.8888888888888888,
              "#fdca26"
             ],
             [
              1,
              "#f0f921"
             ]
            ],
            "type": "heatmapgl"
           }
          ],
          "histogram": [
           {
            "marker": {
             "pattern": {
              "fillmode": "overlay",
              "size": 10,
              "solidity": 0.2
             }
            },
            "type": "histogram"
           }
          ],
          "histogram2d": [
           {
            "colorbar": {
             "outlinewidth": 0,
             "ticks": ""
            },
            "colorscale": [
             [
              0,
              "#0d0887"
             ],
             [
              0.1111111111111111,
              "#46039f"
             ],
             [
              0.2222222222222222,
              "#7201a8"
             ],
             [
              0.3333333333333333,
              "#9c179e"
             ],
             [
              0.4444444444444444,
              "#bd3786"
             ],
             [
              0.5555555555555556,
              "#d8576b"
             ],
             [
              0.6666666666666666,
              "#ed7953"
             ],
             [
              0.7777777777777778,
              "#fb9f3a"
             ],
             [
              0.8888888888888888,
              "#fdca26"
             ],
             [
              1,
              "#f0f921"
             ]
            ],
            "type": "histogram2d"
           }
          ],
          "histogram2dcontour": [
           {
            "colorbar": {
             "outlinewidth": 0,
             "ticks": ""
            },
            "colorscale": [
             [
              0,
              "#0d0887"
             ],
             [
              0.1111111111111111,
              "#46039f"
             ],
             [
              0.2222222222222222,
              "#7201a8"
             ],
             [
              0.3333333333333333,
              "#9c179e"
             ],
             [
              0.4444444444444444,
              "#bd3786"
             ],
             [
              0.5555555555555556,
              "#d8576b"
             ],
             [
              0.6666666666666666,
              "#ed7953"
             ],
             [
              0.7777777777777778,
              "#fb9f3a"
             ],
             [
              0.8888888888888888,
              "#fdca26"
             ],
             [
              1,
              "#f0f921"
             ]
            ],
            "type": "histogram2dcontour"
           }
          ],
          "mesh3d": [
           {
            "colorbar": {
             "outlinewidth": 0,
             "ticks": ""
            },
            "type": "mesh3d"
           }
          ],
          "parcoords": [
           {
            "line": {
             "colorbar": {
              "outlinewidth": 0,
              "ticks": ""
             }
            },
            "type": "parcoords"
           }
          ],
          "pie": [
           {
            "automargin": true,
            "type": "pie"
           }
          ],
          "scatter": [
           {
            "fillpattern": {
             "fillmode": "overlay",
             "size": 10,
             "solidity": 0.2
            },
            "type": "scatter"
           }
          ],
          "scatter3d": [
           {
            "line": {
             "colorbar": {
              "outlinewidth": 0,
              "ticks": ""
             }
            },
            "marker": {
             "colorbar": {
              "outlinewidth": 0,
              "ticks": ""
             }
            },
            "type": "scatter3d"
           }
          ],
          "scattercarpet": [
           {
            "marker": {
             "colorbar": {
              "outlinewidth": 0,
              "ticks": ""
             }
            },
            "type": "scattercarpet"
           }
          ],
          "scattergeo": [
           {
            "marker": {
             "colorbar": {
              "outlinewidth": 0,
              "ticks": ""
             }
            },
            "type": "scattergeo"
           }
          ],
          "scattergl": [
           {
            "marker": {
             "colorbar": {
              "outlinewidth": 0,
              "ticks": ""
             }
            },
            "type": "scattergl"
           }
          ],
          "scattermapbox": [
           {
            "marker": {
             "colorbar": {
              "outlinewidth": 0,
              "ticks": ""
             }
            },
            "type": "scattermapbox"
           }
          ],
          "scatterpolar": [
           {
            "marker": {
             "colorbar": {
              "outlinewidth": 0,
              "ticks": ""
             }
            },
            "type": "scatterpolar"
           }
          ],
          "scatterpolargl": [
           {
            "marker": {
             "colorbar": {
              "outlinewidth": 0,
              "ticks": ""
             }
            },
            "type": "scatterpolargl"
           }
          ],
          "scatterternary": [
           {
            "marker": {
             "colorbar": {
              "outlinewidth": 0,
              "ticks": ""
             }
            },
            "type": "scatterternary"
           }
          ],
          "surface": [
           {
            "colorbar": {
             "outlinewidth": 0,
             "ticks": ""
            },
            "colorscale": [
             [
              0,
              "#0d0887"
             ],
             [
              0.1111111111111111,
              "#46039f"
             ],
             [
              0.2222222222222222,
              "#7201a8"
             ],
             [
              0.3333333333333333,
              "#9c179e"
             ],
             [
              0.4444444444444444,
              "#bd3786"
             ],
             [
              0.5555555555555556,
              "#d8576b"
             ],
             [
              0.6666666666666666,
              "#ed7953"
             ],
             [
              0.7777777777777778,
              "#fb9f3a"
             ],
             [
              0.8888888888888888,
              "#fdca26"
             ],
             [
              1,
              "#f0f921"
             ]
            ],
            "type": "surface"
           }
          ],
          "table": [
           {
            "cells": {
             "fill": {
              "color": "#EBF0F8"
             },
             "line": {
              "color": "white"
             }
            },
            "header": {
             "fill": {
              "color": "#C8D4E3"
             },
             "line": {
              "color": "white"
             }
            },
            "type": "table"
           }
          ]
         },
         "layout": {
          "annotationdefaults": {
           "arrowcolor": "#2a3f5f",
           "arrowhead": 0,
           "arrowwidth": 1
          },
          "autotypenumbers": "strict",
          "coloraxis": {
           "colorbar": {
            "outlinewidth": 0,
            "ticks": ""
           }
          },
          "colorscale": {
           "diverging": [
            [
             0,
             "#8e0152"
            ],
            [
             0.1,
             "#c51b7d"
            ],
            [
             0.2,
             "#de77ae"
            ],
            [
             0.3,
             "#f1b6da"
            ],
            [
             0.4,
             "#fde0ef"
            ],
            [
             0.5,
             "#f7f7f7"
            ],
            [
             0.6,
             "#e6f5d0"
            ],
            [
             0.7,
             "#b8e186"
            ],
            [
             0.8,
             "#7fbc41"
            ],
            [
             0.9,
             "#4d9221"
            ],
            [
             1,
             "#276419"
            ]
           ],
           "sequential": [
            [
             0,
             "#0d0887"
            ],
            [
             0.1111111111111111,
             "#46039f"
            ],
            [
             0.2222222222222222,
             "#7201a8"
            ],
            [
             0.3333333333333333,
             "#9c179e"
            ],
            [
             0.4444444444444444,
             "#bd3786"
            ],
            [
             0.5555555555555556,
             "#d8576b"
            ],
            [
             0.6666666666666666,
             "#ed7953"
            ],
            [
             0.7777777777777778,
             "#fb9f3a"
            ],
            [
             0.8888888888888888,
             "#fdca26"
            ],
            [
             1,
             "#f0f921"
            ]
           ],
           "sequentialminus": [
            [
             0,
             "#0d0887"
            ],
            [
             0.1111111111111111,
             "#46039f"
            ],
            [
             0.2222222222222222,
             "#7201a8"
            ],
            [
             0.3333333333333333,
             "#9c179e"
            ],
            [
             0.4444444444444444,
             "#bd3786"
            ],
            [
             0.5555555555555556,
             "#d8576b"
            ],
            [
             0.6666666666666666,
             "#ed7953"
            ],
            [
             0.7777777777777778,
             "#fb9f3a"
            ],
            [
             0.8888888888888888,
             "#fdca26"
            ],
            [
             1,
             "#f0f921"
            ]
           ]
          },
          "colorway": [
           "#636efa",
           "#EF553B",
           "#00cc96",
           "#ab63fa",
           "#FFA15A",
           "#19d3f3",
           "#FF6692",
           "#B6E880",
           "#FF97FF",
           "#FECB52"
          ],
          "font": {
           "color": "#2a3f5f"
          },
          "geo": {
           "bgcolor": "white",
           "lakecolor": "white",
           "landcolor": "#E5ECF6",
           "showlakes": true,
           "showland": true,
           "subunitcolor": "white"
          },
          "hoverlabel": {
           "align": "left"
          },
          "hovermode": "closest",
          "mapbox": {
           "style": "light"
          },
          "paper_bgcolor": "white",
          "plot_bgcolor": "#E5ECF6",
          "polar": {
           "angularaxis": {
            "gridcolor": "white",
            "linecolor": "white",
            "ticks": ""
           },
           "bgcolor": "#E5ECF6",
           "radialaxis": {
            "gridcolor": "white",
            "linecolor": "white",
            "ticks": ""
           }
          },
          "scene": {
           "xaxis": {
            "backgroundcolor": "#E5ECF6",
            "gridcolor": "white",
            "gridwidth": 2,
            "linecolor": "white",
            "showbackground": true,
            "ticks": "",
            "zerolinecolor": "white"
           },
           "yaxis": {
            "backgroundcolor": "#E5ECF6",
            "gridcolor": "white",
            "gridwidth": 2,
            "linecolor": "white",
            "showbackground": true,
            "ticks": "",
            "zerolinecolor": "white"
           },
           "zaxis": {
            "backgroundcolor": "#E5ECF6",
            "gridcolor": "white",
            "gridwidth": 2,
            "linecolor": "white",
            "showbackground": true,
            "ticks": "",
            "zerolinecolor": "white"
           }
          },
          "shapedefaults": {
           "line": {
            "color": "#2a3f5f"
           }
          },
          "ternary": {
           "aaxis": {
            "gridcolor": "white",
            "linecolor": "white",
            "ticks": ""
           },
           "baxis": {
            "gridcolor": "white",
            "linecolor": "white",
            "ticks": ""
           },
           "bgcolor": "#E5ECF6",
           "caxis": {
            "gridcolor": "white",
            "linecolor": "white",
            "ticks": ""
           }
          },
          "title": {
           "x": 0.05
          },
          "xaxis": {
           "automargin": true,
           "gridcolor": "white",
           "linecolor": "white",
           "ticks": "",
           "title": {
            "standoff": 15
           },
           "zerolinecolor": "white",
           "zerolinewidth": 2
          },
          "yaxis": {
           "automargin": true,
           "gridcolor": "white",
           "linecolor": "white",
           "ticks": "",
           "title": {
            "standoff": 15
           },
           "zerolinecolor": "white",
           "zerolinewidth": 2
          }
         }
        },
        "xaxis": {
         "anchor": "y",
         "domain": [
          0,
          1
         ],
         "title": {
          "text": "stars"
         }
        },
        "xaxis2": {
         "anchor": "y2",
         "domain": [
          0,
          1
         ],
         "matches": "x",
         "showgrid": true,
         "showticklabels": false
        },
        "yaxis": {
         "anchor": "x",
         "domain": [
          0,
          0.7326
         ],
         "title": {
          "text": "compund"
         }
        },
        "yaxis2": {
         "anchor": "x2",
         "domain": [
          0.7426,
          1
         ],
         "matches": "y2",
         "showgrid": true,
         "showline": false,
         "showticklabels": false,
         "ticks": "",
         "title": {
          "text": "Stars freq"
         }
        }
       }
      }
     },
     "metadata": {},
     "output_type": "display_data"
    }
   ],
   "source": [
    "\n",
    "fig = px.scatter(data, x=\"stars\", y=\"compund\", color='compund', marginal_x=\"histogram\")\n",
    "fig['data'][1].marker.color = 'rgba(246, 78, 139, 0.6)'  # Cambia 'desired-color' con il tuo colore preferito\n",
    "fig.data[1].marker.line.color = 'rgba(246, 78, 139, 1.0)'  # Sostituisci con il colore desiderato\n",
    "fig.data[1].marker.line.width = 3\n",
    "\n",
    "# Per cambiare la label dell'asse x dell'istogramma:\n",
    "fig.layout.yaxis2.title.text = 'Stars freq'\n",
    "fig.show()"
   ]
  },
  {
   "cell_type": "code",
   "execution_count": 39,
   "metadata": {},
   "outputs": [
    {
     "name": "stdout",
     "output_type": "stream",
     "text": [
      "<class 'pandas.core.frame.DataFrame'>\n",
      "Index: 238 entries, 129 to 262\n",
      "Data columns (total 11 columns):\n",
      " #   Column          Non-Null Count  Dtype  \n",
      "---  ------          --------------  -----  \n",
      " 0   company         238 non-null    object \n",
      " 1   stars           238 non-null    float64\n",
      " 2   review          238 non-null    object \n",
      " 3   review len      238 non-null    int64  \n",
      " 4   clean_review    238 non-null    object \n",
      " 5   subjectivity    238 non-null    float64\n",
      " 6   polarity        238 non-null    float64\n",
      " 7   vader_polarity  238 non-null    object \n",
      " 8   compund         238 non-null    float64\n",
      " 9   neg             238 non-null    float64\n",
      " 10  pos             238 non-null    float64\n",
      "dtypes: float64(6), int64(1), object(4)\n",
      "memory usage: 22.3+ KB\n"
     ]
    }
   ],
   "source": [
    "data[data['compund'] < 0].info()"
   ]
  },
  {
   "cell_type": "code",
   "execution_count": 40,
   "metadata": {},
   "outputs": [
    {
     "name": "stdout",
     "output_type": "stream",
     "text": [
      "<class 'pandas.core.frame.DataFrame'>\n",
      "Index: 264 entries, 230 to 262\n",
      "Data columns (total 11 columns):\n",
      " #   Column          Non-Null Count  Dtype  \n",
      "---  ------          --------------  -----  \n",
      " 0   company         264 non-null    object \n",
      " 1   stars           264 non-null    float64\n",
      " 2   review          264 non-null    object \n",
      " 3   review len      264 non-null    int64  \n",
      " 4   clean_review    264 non-null    object \n",
      " 5   subjectivity    264 non-null    float64\n",
      " 6   polarity        264 non-null    float64\n",
      " 7   vader_polarity  264 non-null    object \n",
      " 8   compund         264 non-null    float64\n",
      " 9   neg             264 non-null    float64\n",
      " 10  pos             264 non-null    float64\n",
      "dtypes: float64(6), int64(1), object(4)\n",
      "memory usage: 24.8+ KB\n"
     ]
    }
   ],
   "source": [
    "data[data['polarity'] < 0].info()"
   ]
  },
  {
   "cell_type": "code",
   "execution_count": 47,
   "metadata": {},
   "outputs": [],
   "source": [
    "data['stars_normalized'] = ((data['stars']/5)*2-1)"
   ]
  },
  {
   "cell_type": "code",
   "execution_count": 48,
   "metadata": {},
   "outputs": [],
   "source": [
    "data['compound stars ratio'] =  abs(data['compund'] - data['stars_normalized'])"
   ]
  },
  {
   "cell_type": "code",
   "execution_count": 49,
   "metadata": {},
   "outputs": [
    {
     "data": {
      "text/plain": [
       "0.35159003215434087"
      ]
     },
     "execution_count": 49,
     "metadata": {},
     "output_type": "execute_result"
    }
   ],
   "source": [
    "data['compound stars ratio'].sum()/len(data)"
   ]
  },
  {
   "cell_type": "code",
   "execution_count": 50,
   "metadata": {},
   "outputs": [],
   "source": [
    "data['polarity stars ratio'] =  abs(data['polarity'] - data['stars_normalized'])"
   ]
  },
  {
   "cell_type": "code",
   "execution_count": 51,
   "metadata": {},
   "outputs": [
    {
     "data": {
      "text/plain": [
       "0.23417526817463655"
      ]
     },
     "execution_count": 51,
     "metadata": {},
     "output_type": "execute_result"
    }
   ],
   "source": [
    "data['polarity stars ratio'].sum()/len(data)"
   ]
  },
  {
   "cell_type": "code",
   "execution_count": null,
   "metadata": {},
   "outputs": [],
   "source": []
  }
 ],
 "metadata": {
  "kernelspec": {
   "display_name": "tesi10",
   "language": "python",
   "name": "p10"
  },
  "language_info": {
   "codemirror_mode": {
    "name": "ipython",
    "version": 3
   },
   "file_extension": ".py",
   "mimetype": "text/x-python",
   "name": "python",
   "nbconvert_exporter": "python",
   "pygments_lexer": "ipython3",
   "version": "3.10.11"
  }
 },
 "nbformat": 4,
 "nbformat_minor": 5
}
