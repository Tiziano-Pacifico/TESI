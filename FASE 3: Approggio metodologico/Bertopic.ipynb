{
 "cells": [
  {
   "cell_type": "code",
   "execution_count": 1,
   "metadata": {},
   "outputs": [],
   "source": [
    "import pandas as pd\n",
    "import numpy as np\n",
    "import matplotlib.pyplot as plt\n",
    "import nltk\n",
    "from nltk.corpus import stopwords\n",
    "from nltk.stem import WordNetLemmatizer\n",
    "import spacy\n",
    "from collections import Counter\n",
    "import matplotlib.pyplot as plt"
   ]
  },
  {
   "cell_type": "code",
   "execution_count": 2,
   "metadata": {},
   "outputs": [],
   "source": [
    "import pandas as pd\n",
    "from bertopic import BERTopic\n",
    "from sentence_transformers import SentenceTransformer, util\n",
    "from umap import UMAP\n",
    "from hdbscan import HDBSCAN\n",
    "from sklearn.feature_extraction.text import CountVectorizer\n",
    "from bertopic.vectorizers import ClassTfidfTransformer\n",
    "import numpy as np\n",
    "from sklearn.metrics.pairwise import cosine_similarity"
   ]
  },
  {
   "cell_type": "code",
   "execution_count": 3,
   "metadata": {},
   "outputs": [],
   "source": [
    "from sklearn.cluster import KMeans"
   ]
  },
  {
   "cell_type": "code",
   "execution_count": 4,
   "metadata": {},
   "outputs": [],
   "source": [
    "path = \"C:\\\\Users\\\\Tiziano Pacifico\\\\Desktop\\\\Applicativi personali\\\\Test LDA,keybert,bertopic\\\\Outputs\\\\\"\n",
    "filename = \"Articles_DF.json\""
   ]
  },
  {
   "cell_type": "code",
   "execution_count": 5,
   "metadata": {},
   "outputs": [],
   "source": [
    "df = pd.read_json(path+filename,lines=True)"
   ]
  },
  {
   "cell_type": "code",
   "execution_count": 6,
   "metadata": {},
   "outputs": [
    {
     "data": {
      "text/html": [
       "<div>\n",
       "<style scoped>\n",
       "    .dataframe tbody tr th:only-of-type {\n",
       "        vertical-align: middle;\n",
       "    }\n",
       "\n",
       "    .dataframe tbody tr th {\n",
       "        vertical-align: top;\n",
       "    }\n",
       "\n",
       "    .dataframe thead th {\n",
       "        text-align: right;\n",
       "    }\n",
       "</style>\n",
       "<table border=\"1\" class=\"dataframe\">\n",
       "  <thead>\n",
       "    <tr style=\"text-align: right;\">\n",
       "      <th></th>\n",
       "      <th>Articolo</th>\n",
       "      <th>Argomento</th>\n",
       "      <th>Descrizione</th>\n",
       "    </tr>\n",
       "  </thead>\n",
       "  <tbody>\n",
       "    <tr>\n",
       "      <th>0</th>\n",
       "      <td>Pop culture, short for popular culture, refers...</td>\n",
       "      <td>The Influence of Pop Culture on Society</td>\n",
       "      <td>Explore how popular culture trends influence f...</td>\n",
       "    </tr>\n",
       "    <tr>\n",
       "      <th>1</th>\n",
       "      <td>In our fast-paced and hectic lives, we often f...</td>\n",
       "      <td>The Benefits of Mindful Eating</td>\n",
       "      <td>Learn how practicing mindful eating can improv...</td>\n",
       "    </tr>\n",
       "    <tr>\n",
       "      <th>2</th>\n",
       "      <td>Financial literacy is a crucial skill that eve...</td>\n",
       "      <td>The Importance of Financial Literacy</td>\n",
       "      <td>Learn about the significance of understanding ...</td>\n",
       "    </tr>\n",
       "    <tr>\n",
       "      <th>3</th>\n",
       "      <td>Fast fashion has become a dominant force in th...</td>\n",
       "      <td>The Impact of Fast Fashion on the Environment</td>\n",
       "      <td>Explore the environmental consequences of fast...</td>\n",
       "    </tr>\n",
       "    <tr>\n",
       "      <th>4</th>\n",
       "      <td>Physical exercise has long been known to have ...</td>\n",
       "      <td>The Benefits of Regular Exercise for Mental He...</td>\n",
       "      <td>Learn how physical activity can improve mental...</td>\n",
       "    </tr>\n",
       "  </tbody>\n",
       "</table>\n",
       "</div>"
      ],
      "text/plain": [
       "                                            Articolo  \\\n",
       "0  Pop culture, short for popular culture, refers...   \n",
       "1  In our fast-paced and hectic lives, we often f...   \n",
       "2  Financial literacy is a crucial skill that eve...   \n",
       "3  Fast fashion has become a dominant force in th...   \n",
       "4  Physical exercise has long been known to have ...   \n",
       "\n",
       "                                           Argomento  \\\n",
       "0            The Influence of Pop Culture on Society   \n",
       "1                     The Benefits of Mindful Eating   \n",
       "2               The Importance of Financial Literacy   \n",
       "3      The Impact of Fast Fashion on the Environment   \n",
       "4  The Benefits of Regular Exercise for Mental He...   \n",
       "\n",
       "                                         Descrizione  \n",
       "0  Explore how popular culture trends influence f...  \n",
       "1  Learn how practicing mindful eating can improv...  \n",
       "2  Learn about the significance of understanding ...  \n",
       "3  Explore the environmental consequences of fast...  \n",
       "4  Learn how physical activity can improve mental...  "
      ]
     },
     "execution_count": 6,
     "metadata": {},
     "output_type": "execute_result"
    }
   ],
   "source": [
    "df.head()"
   ]
  },
  {
   "cell_type": "code",
   "execution_count": 7,
   "metadata": {},
   "outputs": [
    {
     "data": {
      "text/plain": [
       "58"
      ]
     },
     "execution_count": 7,
     "metadata": {},
     "output_type": "execute_result"
    }
   ],
   "source": [
    "df.Argomento.nunique()"
   ]
  },
  {
   "cell_type": "code",
   "execution_count": 8,
   "metadata": {},
   "outputs": [],
   "source": [
    "docs = df.Articolo.values"
   ]
  },
  {
   "cell_type": "code",
   "execution_count": 9,
   "metadata": {},
   "outputs": [
    {
     "data": {
      "application/vnd.jupyter.widget-view+json": {
       "model_id": "6af75cb54e364f6dba8e463f3643b708",
       "version_major": 2,
       "version_minor": 0
      },
      "text/plain": [
       "Batches:   0%|          | 0/10 [00:00<?, ?it/s]"
      ]
     },
     "metadata": {},
     "output_type": "display_data"
    },
    {
     "name": "stderr",
     "output_type": "stream",
     "text": [
      "2023-11-09 15:29:14,244 - BERTopic - Transformed documents to Embeddings\n",
      "2023-11-09 15:29:23,112 - BERTopic - Reduced dimensionality\n",
      "2023-11-09 15:29:23,653 - BERTopic - Clustered reduced embeddings\n"
     ]
    }
   ],
   "source": [
    "#topic_model = BERTopic(language=\"english\", calculate_probabilities=True, verbose=True, top_n_words=15)\n",
    "cluster_model = KMeans(n_clusters=53)\n",
    "topic_model = BERTopic(hdbscan_model=cluster_model, calculate_probabilities=True, verbose=True, top_n_words=30)\n",
    "#generate the topics\n",
    "topics, probs = topic_model.fit_transform(docs)"
   ]
  },
  {
   "cell_type": "code",
   "execution_count": 10,
   "metadata": {},
   "outputs": [
    {
     "data": {
      "text/html": [
       "<div>\n",
       "<style scoped>\n",
       "    .dataframe tbody tr th:only-of-type {\n",
       "        vertical-align: middle;\n",
       "    }\n",
       "\n",
       "    .dataframe tbody tr th {\n",
       "        vertical-align: top;\n",
       "    }\n",
       "\n",
       "    .dataframe thead th {\n",
       "        text-align: right;\n",
       "    }\n",
       "</style>\n",
       "<table border=\"1\" class=\"dataframe\">\n",
       "  <thead>\n",
       "    <tr style=\"text-align: right;\">\n",
       "      <th></th>\n",
       "      <th>Topic</th>\n",
       "      <th>Count</th>\n",
       "      <th>Name</th>\n",
       "      <th>Representation</th>\n",
       "      <th>Representative_Docs</th>\n",
       "    </tr>\n",
       "  </thead>\n",
       "  <tbody>\n",
       "    <tr>\n",
       "      <th>0</th>\n",
       "      <td>0</td>\n",
       "      <td>10</td>\n",
       "      <td>0_celebrities_influence_their_public</td>\n",
       "      <td>[celebrities, influence, their, public, opinio...</td>\n",
       "      <td>[Celebrities have always held a certain level ...</td>\n",
       "    </tr>\n",
       "    <tr>\n",
       "      <th>1</th>\n",
       "      <td>1</td>\n",
       "      <td>9</td>\n",
       "      <td>1_checkups_health_regular_early</td>\n",
       "      <td>[checkups, health, regular, early, detection, ...</td>\n",
       "      <td>[Regular health check-ups are an essential par...</td>\n",
       "    </tr>\n",
       "    <tr>\n",
       "      <th>2</th>\n",
       "      <td>2</td>\n",
       "      <td>9</td>\n",
       "      <td>2_financial_expenses_debt_finance</td>\n",
       "      <td>[financial, expenses, debt, finance, your, mon...</td>\n",
       "      <td>[Managing personal finances can sometimes feel...</td>\n",
       "    </tr>\n",
       "    <tr>\n",
       "      <th>3</th>\n",
       "      <td>3</td>\n",
       "      <td>9</td>\n",
       "      <td>3_meditation_mindfulness_our_practices</td>\n",
       "      <td>[meditation, mindfulness, our, practices, pres...</td>\n",
       "      <td>[In today's fast-paced and stress-filled world...</td>\n",
       "    </tr>\n",
       "    <tr>\n",
       "      <th>4</th>\n",
       "      <td>4</td>\n",
       "      <td>9</td>\n",
       "      <td>4_stress_you_resilience_selfcare</td>\n",
       "      <td>[stress, you, resilience, selfcare, support, r...</td>\n",
       "      <td>[In today's fast-paced and demanding world, st...</td>\n",
       "    </tr>\n",
       "    <tr>\n",
       "      <th>5</th>\n",
       "      <td>5</td>\n",
       "      <td>9</td>\n",
       "      <td>5_urbanization_urban_cities_infrastructure</td>\n",
       "      <td>[urbanization, urban, cities, infrastructure, ...</td>\n",
       "      <td>[Urbanization is the process of the increasing...</td>\n",
       "    </tr>\n",
       "    <tr>\n",
       "      <th>6</th>\n",
       "      <td>6</td>\n",
       "      <td>9</td>\n",
       "      <td>6_advertisements_consumers_consumer_advertising</td>\n",
       "      <td>[advertisements, consumers, consumer, advertis...</td>\n",
       "      <td>[Advertising plays a significant role in influ...</td>\n",
       "    </tr>\n",
       "    <tr>\n",
       "      <th>7</th>\n",
       "      <td>7</td>\n",
       "      <td>8</td>\n",
       "      <td>7_tasks_time_your_productivity</td>\n",
       "      <td>[tasks, time, your, productivity, you, managem...</td>\n",
       "      <td>[Time is a finite resource, and learning how t...</td>\n",
       "    </tr>\n",
       "    <tr>\n",
       "      <th>8</th>\n",
       "      <td>8</td>\n",
       "      <td>8</td>\n",
       "      <td>8_cultural_diversity_language_second</td>\n",
       "      <td>[cultural, diversity, language, second, learni...</td>\n",
       "      <td>[Cultural diversity refers to the presence of ...</td>\n",
       "    </tr>\n",
       "    <tr>\n",
       "      <th>9</th>\n",
       "      <td>9</td>\n",
       "      <td>7</td>\n",
       "      <td>9_conflicts_conflict_workplace_encourage</td>\n",
       "      <td>[conflicts, conflict, workplace, encourage, co...</td>\n",
       "      <td>[Conflict is a natural part of any workplace. ...</td>\n",
       "    </tr>\n",
       "    <tr>\n",
       "      <th>10</th>\n",
       "      <td>10</td>\n",
       "      <td>7</td>\n",
       "      <td>10_climate_change_temperatures_ecosystems</td>\n",
       "      <td>[climate, change, temperatures, ecosystems, we...</td>\n",
       "      <td>[Climate change is a global issue that has far...</td>\n",
       "    </tr>\n",
       "    <tr>\n",
       "      <th>11</th>\n",
       "      <td>11</td>\n",
       "      <td>7</td>\n",
       "      <td>11_communication_person_statements_you</td>\n",
       "      <td>[communication, person, statements, you, your,...</td>\n",
       "      <td>[Communication is the foundation of any succes...</td>\n",
       "    </tr>\n",
       "    <tr>\n",
       "      <th>12</th>\n",
       "      <td>12</td>\n",
       "      <td>7</td>\n",
       "      <td>12_ai_technology_has_way</td>\n",
       "      <td>[ai, technology, has, way, the, transportation...</td>\n",
       "      <td>[Technology has become an integral part of our...</td>\n",
       "    </tr>\n",
       "    <tr>\n",
       "      <th>13</th>\n",
       "      <td>13</td>\n",
       "      <td>7</td>\n",
       "      <td>13_media_social_has_relationships</td>\n",
       "      <td>[media, social, has, relationships, it, societ...</td>\n",
       "      <td>[Social media has undoubtedly revolutionized t...</td>\n",
       "    </tr>\n",
       "    <tr>\n",
       "      <th>14</th>\n",
       "      <td>14</td>\n",
       "      <td>7</td>\n",
       "      <td>14_plastic_conservation_pollution_waste</td>\n",
       "      <td>[plastic, conservation, pollution, waste, envi...</td>\n",
       "      <td>[Plastic pollution has become a significant en...</td>\n",
       "    </tr>\n",
       "    <tr>\n",
       "      <th>15</th>\n",
       "      <td>15</td>\n",
       "      <td>7</td>\n",
       "      <td>15_exercise_regular_weight_routine</td>\n",
       "      <td>[exercise, regular, weight, routine, daily, ph...</td>\n",
       "      <td>[Regular exercise is often overlooked in our b...</td>\n",
       "    </tr>\n",
       "    <tr>\n",
       "      <th>16</th>\n",
       "      <td>16</td>\n",
       "      <td>7</td>\n",
       "      <td>16_positive_mindset_thinking_adopting</td>\n",
       "      <td>[positive, mindset, thinking, adopting, positi...</td>\n",
       "      <td>[In a world filled with uncertainties and chal...</td>\n",
       "    </tr>\n",
       "    <tr>\n",
       "      <th>17</th>\n",
       "      <td>17</td>\n",
       "      <td>6</td>\n",
       "      <td>17_creative_hobbies_our_writing</td>\n",
       "      <td>[creative, hobbies, our, writing, painting, us...</td>\n",
       "      <td>[Engaging in creative hobbies is not only a gr...</td>\n",
       "    </tr>\n",
       "    <tr>\n",
       "      <th>18</th>\n",
       "      <td>18</td>\n",
       "      <td>6</td>\n",
       "      <td>18_television_gender_popular_societal</td>\n",
       "      <td>[television, gender, popular, societal, norms,...</td>\n",
       "      <td>[Television has become an integral part of our...</td>\n",
       "    </tr>\n",
       "    <tr>\n",
       "      <th>19</th>\n",
       "      <td>19</td>\n",
       "      <td>6</td>\n",
       "      <td>19_audience_your_presentation_speaking</td>\n",
       "      <td>[audience, your, presentation, speaking, speec...</td>\n",
       "      <td>[1. Prepare and practice: The key to successfu...</td>\n",
       "    </tr>\n",
       "    <tr>\n",
       "      <th>20</th>\n",
       "      <td>20</td>\n",
       "      <td>6</td>\n",
       "      <td>20_volunteering_communities_others_individuals</td>\n",
       "      <td>[volunteering, communities, others, individual...</td>\n",
       "      <td>[Volunteering is a selfless act that not only ...</td>\n",
       "    </tr>\n",
       "    <tr>\n",
       "      <th>21</th>\n",
       "      <td>21</td>\n",
       "      <td>6</td>\n",
       "      <td>21_reading_books_book_cognitive</td>\n",
       "      <td>[reading, books, book, cognitive, abilities, o...</td>\n",
       "      <td>[In today's fast-paced digital world, reading ...</td>\n",
       "    </tr>\n",
       "    <tr>\n",
       "      <th>22</th>\n",
       "      <td>22</td>\n",
       "      <td>6</td>\n",
       "      <td>22_leader_team_leadership_effective</td>\n",
       "      <td>[leader, team, leadership, effective, qualitie...</td>\n",
       "      <td>[Leadership is an essential skill that can mak...</td>\n",
       "    </tr>\n",
       "    <tr>\n",
       "      <th>23</th>\n",
       "      <td>23</td>\n",
       "      <td>6</td>\n",
       "      <td>23_study_studying_material_your</td>\n",
       "      <td>[study, studying, material, your, you, learnin...</td>\n",
       "      <td>[Studying can sometimes feel like a daunting t...</td>\n",
       "    </tr>\n",
       "    <tr>\n",
       "      <th>24</th>\n",
       "      <td>24</td>\n",
       "      <td>6</td>\n",
       "      <td>24_exercise_mental_activity_physical</td>\n",
       "      <td>[exercise, mental, activity, physical, regular...</td>\n",
       "      <td>[It’s no secret that regular exercise is essen...</td>\n",
       "    </tr>\n",
       "    <tr>\n",
       "      <th>25</th>\n",
       "      <td>25</td>\n",
       "      <td>6</td>\n",
       "      <td>25_education_individuals_empowers_skills</td>\n",
       "      <td>[education, individuals, empowers, skills, equ...</td>\n",
       "      <td>[Education is a powerful tool that has the abi...</td>\n",
       "    </tr>\n",
       "    <tr>\n",
       "      <th>26</th>\n",
       "      <td>26</td>\n",
       "      <td>6</td>\n",
       "      <td>26_project_projects_management_plan</td>\n",
       "      <td>[project, projects, management, plan, team, ri...</td>\n",
       "      <td>[Project management is a crucial skill that ca...</td>\n",
       "    </tr>\n",
       "    <tr>\n",
       "      <th>27</th>\n",
       "      <td>27</td>\n",
       "      <td>5</td>\n",
       "      <td>27_media_mass_behavior_opinion</td>\n",
       "      <td>[media, mass, behavior, opinion, public, shapi...</td>\n",
       "      <td>[Mass media plays a significant role in shapin...</td>\n",
       "    </tr>\n",
       "    <tr>\n",
       "      <th>28</th>\n",
       "      <td>28</td>\n",
       "      <td>5</td>\n",
       "      <td>28_fashion_fast_clothing_waste</td>\n",
       "      <td>[fashion, fast, clothing, waste, industry, sus...</td>\n",
       "      <td>[Fast fashion is a term used to describe the q...</td>\n",
       "    </tr>\n",
       "    <tr>\n",
       "      <th>29</th>\n",
       "      <td>29</td>\n",
       "      <td>5</td>\n",
       "      <td>29_sleep_deprivation_our_lack</td>\n",
       "      <td>[sleep, deprivation, our, lack, mental, effect...</td>\n",
       "      <td>[Sleep is a fundamental part of our daily rout...</td>\n",
       "    </tr>\n",
       "    <tr>\n",
       "      <th>30</th>\n",
       "      <td>30</td>\n",
       "      <td>5</td>\n",
       "      <td>30_ecommerce_online_convenience_shopping</td>\n",
       "      <td>[ecommerce, online, convenience, shopping, bus...</td>\n",
       "      <td>[In today's digital age, online shopping has b...</td>\n",
       "    </tr>\n",
       "    <tr>\n",
       "      <th>31</th>\n",
       "      <td>31</td>\n",
       "      <td>5</td>\n",
       "      <td>31_sites_networking_privacy_share</td>\n",
       "      <td>[sites, networking, privacy, share, platforms,...</td>\n",
       "      <td>[Social networking sites have become an integr...</td>\n",
       "    </tr>\n",
       "    <tr>\n",
       "      <th>32</th>\n",
       "      <td>32</td>\n",
       "      <td>5</td>\n",
       "      <td>32_conflicts_conflict_resolution_ground</td>\n",
       "      <td>[conflicts, conflict, resolution, ground, find...</td>\n",
       "      <td>[Conflict is a natural part of human interacti...</td>\n",
       "    </tr>\n",
       "    <tr>\n",
       "      <th>33</th>\n",
       "      <td>33</td>\n",
       "      <td>5</td>\n",
       "      <td>33_balance_work_personal_worklife</td>\n",
       "      <td>[balance, work, personal, worklife, time, your...</td>\n",
       "      <td>[In today's fast-paced and demanding world, fi...</td>\n",
       "    </tr>\n",
       "    <tr>\n",
       "      <th>34</th>\n",
       "      <td>34</td>\n",
       "      <td>5</td>\n",
       "      <td>34_eating_food_mindful_we</td>\n",
       "      <td>[eating, food, mindful, we, our, digestion, me...</td>\n",
       "      <td>[In today's fast-paced world, we often find ou...</td>\n",
       "    </tr>\n",
       "    <tr>\n",
       "      <th>35</th>\n",
       "      <td>35</td>\n",
       "      <td>4</td>\n",
       "      <td>35_decision_decisionmaking_decisions_making</td>\n",
       "      <td>[decision, decisionmaking, decisions, making, ...</td>\n",
       "      <td>[Making decisions is a fundamental part of our...</td>\n",
       "    </tr>\n",
       "    <tr>\n",
       "      <th>36</th>\n",
       "      <td>36</td>\n",
       "      <td>4</td>\n",
       "      <td>36_inequality_social_opportunities_employment</td>\n",
       "      <td>[inequality, social, opportunities, employment...</td>\n",
       "      <td>[Social inequality is a pervasive issue that h...</td>\n",
       "    </tr>\n",
       "    <tr>\n",
       "      <th>37</th>\n",
       "      <td>37</td>\n",
       "      <td>4</td>\n",
       "      <td>37_checkups_health_regular_early</td>\n",
       "      <td>[checkups, health, regular, early, provider, h...</td>\n",
       "      <td>[Regular physical check-ups are an integral pa...</td>\n",
       "    </tr>\n",
       "    <tr>\n",
       "      <th>38</th>\n",
       "      <td>38</td>\n",
       "      <td>4</td>\n",
       "      <td>38_culture_pop_popular_entertainment</td>\n",
       "      <td>[culture, pop, popular, entertainment, fashion...</td>\n",
       "      <td>[Pop culture has always played a significant r...</td>\n",
       "    </tr>\n",
       "    <tr>\n",
       "      <th>39</th>\n",
       "      <td>39</td>\n",
       "      <td>4</td>\n",
       "      <td>39_games_video_gaming_interactions</td>\n",
       "      <td>[games, video, gaming, interactions, have, cog...</td>\n",
       "      <td>[In recent years, video games have become an i...</td>\n",
       "    </tr>\n",
       "    <tr>\n",
       "      <th>40</th>\n",
       "      <td>40</td>\n",
       "      <td>4</td>\n",
       "      <td>40_goals_goal_setting_want</td>\n",
       "      <td>[goals, goal, setting, want, your, you, set, s...</td>\n",
       "      <td>[Setting goals is an essential part of persona...</td>\n",
       "    </tr>\n",
       "    <tr>\n",
       "      <th>41</th>\n",
       "      <td>41</td>\n",
       "      <td>4</td>\n",
       "      <td>41_music_emotions_mood_has</td>\n",
       "      <td>[music, emotions, mood, has, our, evoke, emoti...</td>\n",
       "      <td>[Music has been a part of human culture for ce...</td>\n",
       "    </tr>\n",
       "    <tr>\n",
       "      <th>42</th>\n",
       "      <td>42</td>\n",
       "      <td>4</td>\n",
       "      <td>42_nature_outdoor_activities_spending</td>\n",
       "      <td>[nature, outdoor, activities, spending, outdoo...</td>\n",
       "      <td>[In today's fast-paced world, many of us spend...</td>\n",
       "    </tr>\n",
       "    <tr>\n",
       "      <th>43</th>\n",
       "      <td>43</td>\n",
       "      <td>4</td>\n",
       "      <td>43_yoga_practice_spiritual_physical</td>\n",
       "      <td>[yoga, practice, spiritual, physical, benefits...</td>\n",
       "      <td>[Yoga has gained immense popularity in recent ...</td>\n",
       "    </tr>\n",
       "    <tr>\n",
       "      <th>44</th>\n",
       "      <td>44</td>\n",
       "      <td>4</td>\n",
       "      <td>44_marketing_media_brand_social</td>\n",
       "      <td>[marketing, media, brand, social, brands, perc...</td>\n",
       "      <td>[Social media has become an integral part of o...</td>\n",
       "    </tr>\n",
       "    <tr>\n",
       "      <th>45</th>\n",
       "      <td>45</td>\n",
       "      <td>4</td>\n",
       "      <td>45_light_artificial_sleep_blue</td>\n",
       "      <td>[light, artificial, sleep, blue, devices, elec...</td>\n",
       "      <td>[In today's modern world, we are constantly su...</td>\n",
       "    </tr>\n",
       "    <tr>\n",
       "      <th>46</th>\n",
       "      <td>46</td>\n",
       "      <td>3</td>\n",
       "      <td>46_threats_cybersecurity_cyber_digital</td>\n",
       "      <td>[threats, cybersecurity, cyber, digital, infor...</td>\n",
       "      <td>[One of the most significant consequences of c...</td>\n",
       "    </tr>\n",
       "    <tr>\n",
       "      <th>47</th>\n",
       "      <td>47</td>\n",
       "      <td>3</td>\n",
       "      <td>47_stress_managing_healthy_worklife</td>\n",
       "      <td>[stress, managing, healthy, worklife, strategi...</td>\n",
       "      <td>[In today's fast-paced and demanding world, st...</td>\n",
       "    </tr>\n",
       "    <tr>\n",
       "      <th>48</th>\n",
       "      <td>48</td>\n",
       "      <td>3</td>\n",
       "      <td>48_technology_students_learning_education</td>\n",
       "      <td>[technology, students, learning, education, te...</td>\n",
       "      <td>[Technology has revolutionized every aspect of...</td>\n",
       "    </tr>\n",
       "    <tr>\n",
       "      <th>49</th>\n",
       "      <td>49</td>\n",
       "      <td>3</td>\n",
       "      <td>49_team_collaboration_teamwork_members</td>\n",
       "      <td>[team, collaboration, teamwork, members, encou...</td>\n",
       "      <td>[In today's fast-paced and interconnected worl...</td>\n",
       "    </tr>\n",
       "    <tr>\n",
       "      <th>50</th>\n",
       "      <td>50</td>\n",
       "      <td>3</td>\n",
       "      <td>50_parenting_children_positive_parents</td>\n",
       "      <td>[parenting, children, positive, parents, bond,...</td>\n",
       "      <td>[Positive parenting is an approach to raising ...</td>\n",
       "    </tr>\n",
       "    <tr>\n",
       "      <th>51</th>\n",
       "      <td>51</td>\n",
       "      <td>3</td>\n",
       "      <td>51_diet_balanced_foods_vegetables</td>\n",
       "      <td>[diet, balanced, foods, vegetables, proteins, ...</td>\n",
       "      <td>[Maintaining a balanced diet is crucial for ou...</td>\n",
       "    </tr>\n",
       "    <tr>\n",
       "      <th>52</th>\n",
       "      <td>52</td>\n",
       "      <td>2</td>\n",
       "      <td>52_mental_health_awareness_promoting</td>\n",
       "      <td>[mental, health, awareness, promoting, individ...</td>\n",
       "      <td>[Mental health is a critical aspect of our ove...</td>\n",
       "    </tr>\n",
       "  </tbody>\n",
       "</table>\n",
       "</div>"
      ],
      "text/plain": [
       "    Topic  Count                                             Name  \\\n",
       "0       0     10             0_celebrities_influence_their_public   \n",
       "1       1      9                  1_checkups_health_regular_early   \n",
       "2       2      9                2_financial_expenses_debt_finance   \n",
       "3       3      9           3_meditation_mindfulness_our_practices   \n",
       "4       4      9                 4_stress_you_resilience_selfcare   \n",
       "5       5      9       5_urbanization_urban_cities_infrastructure   \n",
       "6       6      9  6_advertisements_consumers_consumer_advertising   \n",
       "7       7      8                   7_tasks_time_your_productivity   \n",
       "8       8      8             8_cultural_diversity_language_second   \n",
       "9       9      7         9_conflicts_conflict_workplace_encourage   \n",
       "10     10      7        10_climate_change_temperatures_ecosystems   \n",
       "11     11      7           11_communication_person_statements_you   \n",
       "12     12      7                         12_ai_technology_has_way   \n",
       "13     13      7                13_media_social_has_relationships   \n",
       "14     14      7          14_plastic_conservation_pollution_waste   \n",
       "15     15      7               15_exercise_regular_weight_routine   \n",
       "16     16      7            16_positive_mindset_thinking_adopting   \n",
       "17     17      6                  17_creative_hobbies_our_writing   \n",
       "18     18      6            18_television_gender_popular_societal   \n",
       "19     19      6           19_audience_your_presentation_speaking   \n",
       "20     20      6   20_volunteering_communities_others_individuals   \n",
       "21     21      6                  21_reading_books_book_cognitive   \n",
       "22     22      6              22_leader_team_leadership_effective   \n",
       "23     23      6                  23_study_studying_material_your   \n",
       "24     24      6             24_exercise_mental_activity_physical   \n",
       "25     25      6         25_education_individuals_empowers_skills   \n",
       "26     26      6              26_project_projects_management_plan   \n",
       "27     27      5                   27_media_mass_behavior_opinion   \n",
       "28     28      5                   28_fashion_fast_clothing_waste   \n",
       "29     29      5                    29_sleep_deprivation_our_lack   \n",
       "30     30      5         30_ecommerce_online_convenience_shopping   \n",
       "31     31      5                31_sites_networking_privacy_share   \n",
       "32     32      5          32_conflicts_conflict_resolution_ground   \n",
       "33     33      5                33_balance_work_personal_worklife   \n",
       "34     34      5                        34_eating_food_mindful_we   \n",
       "35     35      4      35_decision_decisionmaking_decisions_making   \n",
       "36     36      4    36_inequality_social_opportunities_employment   \n",
       "37     37      4                 37_checkups_health_regular_early   \n",
       "38     38      4             38_culture_pop_popular_entertainment   \n",
       "39     39      4               39_games_video_gaming_interactions   \n",
       "40     40      4                       40_goals_goal_setting_want   \n",
       "41     41      4                       41_music_emotions_mood_has   \n",
       "42     42      4            42_nature_outdoor_activities_spending   \n",
       "43     43      4              43_yoga_practice_spiritual_physical   \n",
       "44     44      4                  44_marketing_media_brand_social   \n",
       "45     45      4                   45_light_artificial_sleep_blue   \n",
       "46     46      3           46_threats_cybersecurity_cyber_digital   \n",
       "47     47      3              47_stress_managing_healthy_worklife   \n",
       "48     48      3        48_technology_students_learning_education   \n",
       "49     49      3           49_team_collaboration_teamwork_members   \n",
       "50     50      3           50_parenting_children_positive_parents   \n",
       "51     51      3                51_diet_balanced_foods_vegetables   \n",
       "52     52      2             52_mental_health_awareness_promoting   \n",
       "\n",
       "                                       Representation  \\\n",
       "0   [celebrities, influence, their, public, opinio...   \n",
       "1   [checkups, health, regular, early, detection, ...   \n",
       "2   [financial, expenses, debt, finance, your, mon...   \n",
       "3   [meditation, mindfulness, our, practices, pres...   \n",
       "4   [stress, you, resilience, selfcare, support, r...   \n",
       "5   [urbanization, urban, cities, infrastructure, ...   \n",
       "6   [advertisements, consumers, consumer, advertis...   \n",
       "7   [tasks, time, your, productivity, you, managem...   \n",
       "8   [cultural, diversity, language, second, learni...   \n",
       "9   [conflicts, conflict, workplace, encourage, co...   \n",
       "10  [climate, change, temperatures, ecosystems, we...   \n",
       "11  [communication, person, statements, you, your,...   \n",
       "12  [ai, technology, has, way, the, transportation...   \n",
       "13  [media, social, has, relationships, it, societ...   \n",
       "14  [plastic, conservation, pollution, waste, envi...   \n",
       "15  [exercise, regular, weight, routine, daily, ph...   \n",
       "16  [positive, mindset, thinking, adopting, positi...   \n",
       "17  [creative, hobbies, our, writing, painting, us...   \n",
       "18  [television, gender, popular, societal, norms,...   \n",
       "19  [audience, your, presentation, speaking, speec...   \n",
       "20  [volunteering, communities, others, individual...   \n",
       "21  [reading, books, book, cognitive, abilities, o...   \n",
       "22  [leader, team, leadership, effective, qualitie...   \n",
       "23  [study, studying, material, your, you, learnin...   \n",
       "24  [exercise, mental, activity, physical, regular...   \n",
       "25  [education, individuals, empowers, skills, equ...   \n",
       "26  [project, projects, management, plan, team, ri...   \n",
       "27  [media, mass, behavior, opinion, public, shapi...   \n",
       "28  [fashion, fast, clothing, waste, industry, sus...   \n",
       "29  [sleep, deprivation, our, lack, mental, effect...   \n",
       "30  [ecommerce, online, convenience, shopping, bus...   \n",
       "31  [sites, networking, privacy, share, platforms,...   \n",
       "32  [conflicts, conflict, resolution, ground, find...   \n",
       "33  [balance, work, personal, worklife, time, your...   \n",
       "34  [eating, food, mindful, we, our, digestion, me...   \n",
       "35  [decision, decisionmaking, decisions, making, ...   \n",
       "36  [inequality, social, opportunities, employment...   \n",
       "37  [checkups, health, regular, early, provider, h...   \n",
       "38  [culture, pop, popular, entertainment, fashion...   \n",
       "39  [games, video, gaming, interactions, have, cog...   \n",
       "40  [goals, goal, setting, want, your, you, set, s...   \n",
       "41  [music, emotions, mood, has, our, evoke, emoti...   \n",
       "42  [nature, outdoor, activities, spending, outdoo...   \n",
       "43  [yoga, practice, spiritual, physical, benefits...   \n",
       "44  [marketing, media, brand, social, brands, perc...   \n",
       "45  [light, artificial, sleep, blue, devices, elec...   \n",
       "46  [threats, cybersecurity, cyber, digital, infor...   \n",
       "47  [stress, managing, healthy, worklife, strategi...   \n",
       "48  [technology, students, learning, education, te...   \n",
       "49  [team, collaboration, teamwork, members, encou...   \n",
       "50  [parenting, children, positive, parents, bond,...   \n",
       "51  [diet, balanced, foods, vegetables, proteins, ...   \n",
       "52  [mental, health, awareness, promoting, individ...   \n",
       "\n",
       "                                  Representative_Docs  \n",
       "0   [Celebrities have always held a certain level ...  \n",
       "1   [Regular health check-ups are an essential par...  \n",
       "2   [Managing personal finances can sometimes feel...  \n",
       "3   [In today's fast-paced and stress-filled world...  \n",
       "4   [In today's fast-paced and demanding world, st...  \n",
       "5   [Urbanization is the process of the increasing...  \n",
       "6   [Advertising plays a significant role in influ...  \n",
       "7   [Time is a finite resource, and learning how t...  \n",
       "8   [Cultural diversity refers to the presence of ...  \n",
       "9   [Conflict is a natural part of any workplace. ...  \n",
       "10  [Climate change is a global issue that has far...  \n",
       "11  [Communication is the foundation of any succes...  \n",
       "12  [Technology has become an integral part of our...  \n",
       "13  [Social media has undoubtedly revolutionized t...  \n",
       "14  [Plastic pollution has become a significant en...  \n",
       "15  [Regular exercise is often overlooked in our b...  \n",
       "16  [In a world filled with uncertainties and chal...  \n",
       "17  [Engaging in creative hobbies is not only a gr...  \n",
       "18  [Television has become an integral part of our...  \n",
       "19  [1. Prepare and practice: The key to successfu...  \n",
       "20  [Volunteering is a selfless act that not only ...  \n",
       "21  [In today's fast-paced digital world, reading ...  \n",
       "22  [Leadership is an essential skill that can mak...  \n",
       "23  [Studying can sometimes feel like a daunting t...  \n",
       "24  [It’s no secret that regular exercise is essen...  \n",
       "25  [Education is a powerful tool that has the abi...  \n",
       "26  [Project management is a crucial skill that ca...  \n",
       "27  [Mass media plays a significant role in shapin...  \n",
       "28  [Fast fashion is a term used to describe the q...  \n",
       "29  [Sleep is a fundamental part of our daily rout...  \n",
       "30  [In today's digital age, online shopping has b...  \n",
       "31  [Social networking sites have become an integr...  \n",
       "32  [Conflict is a natural part of human interacti...  \n",
       "33  [In today's fast-paced and demanding world, fi...  \n",
       "34  [In today's fast-paced world, we often find ou...  \n",
       "35  [Making decisions is a fundamental part of our...  \n",
       "36  [Social inequality is a pervasive issue that h...  \n",
       "37  [Regular physical check-ups are an integral pa...  \n",
       "38  [Pop culture has always played a significant r...  \n",
       "39  [In recent years, video games have become an i...  \n",
       "40  [Setting goals is an essential part of persona...  \n",
       "41  [Music has been a part of human culture for ce...  \n",
       "42  [In today's fast-paced world, many of us spend...  \n",
       "43  [Yoga has gained immense popularity in recent ...  \n",
       "44  [Social media has become an integral part of o...  \n",
       "45  [In today's modern world, we are constantly su...  \n",
       "46  [One of the most significant consequences of c...  \n",
       "47  [In today's fast-paced and demanding world, st...  \n",
       "48  [Technology has revolutionized every aspect of...  \n",
       "49  [In today's fast-paced and interconnected worl...  \n",
       "50  [Positive parenting is an approach to raising ...  \n",
       "51  [Maintaining a balanced diet is crucial for ou...  \n",
       "52  [Mental health is a critical aspect of our ove...  "
      ]
     },
     "execution_count": 10,
     "metadata": {},
     "output_type": "execute_result"
    }
   ],
   "source": [
    "topic_model.get_topic_info()"
   ]
  },
  {
   "cell_type": "code",
   "execution_count": 11,
   "metadata": {},
   "outputs": [
    {
     "data": {
      "application/vnd.plotly.v1+json": {
       "config": {
        "plotlyServerURL": "https://plot.ly"
       },
       "data": [
        {
         "customdata": [
          [
           0,
           "celebrities | influence | their | public | opinion",
           10
          ],
          [
           1,
           "checkups | health | regular | early | detection",
           9
          ],
          [
           2,
           "financial | expenses | debt | finance | your",
           9
          ],
          [
           3,
           "meditation | mindfulness | our | practices | present",
           9
          ],
          [
           4,
           "stress | you | resilience | selfcare | support",
           9
          ],
          [
           5,
           "urbanization | urban | cities | infrastructure | rapid",
           9
          ],
          [
           6,
           "advertisements | consumers | consumer | advertising | preferences",
           9
          ],
          [
           7,
           "tasks | time | your | productivity | you",
           8
          ],
          [
           8,
           "cultural | diversity | language | second | learning",
           8
          ],
          [
           9,
           "conflicts | conflict | workplace | encourage | common",
           7
          ],
          [
           10,
           "climate | change | temperatures | ecosystems | weather",
           7
          ],
          [
           11,
           "communication | person | statements | you | your",
           7
          ],
          [
           12,
           "ai | technology | has | way | the",
           7
          ],
          [
           13,
           "media | social | has | relationships | it",
           7
          ],
          [
           14,
           "plastic | conservation | pollution | waste | environment",
           7
          ],
          [
           15,
           "exercise | regular | weight | routine | daily",
           7
          ],
          [
           16,
           "positive | mindset | thinking | adopting | positivity",
           7
          ],
          [
           17,
           "creative | hobbies | our | writing | painting",
           6
          ],
          [
           18,
           "television | gender | popular | societal | norms",
           6
          ],
          [
           19,
           "audience | your | presentation | speaking | speech",
           6
          ],
          [
           20,
           "volunteering | communities | others | individuals | helping",
           6
          ],
          [
           21,
           "reading | books | book | cognitive | abilities",
           6
          ],
          [
           22,
           "leader | team | leadership | effective | qualities",
           6
          ],
          [
           23,
           "study | studying | material | your | you",
           6
          ],
          [
           24,
           "exercise | mental | activity | physical | regular",
           6
          ],
          [
           25,
           "education | individuals | empowers | skills | equips",
           6
          ],
          [
           26,
           "project | projects | management | plan | team",
           6
          ],
          [
           27,
           "media | mass | behavior | opinion | public",
           5
          ],
          [
           28,
           "fashion | fast | clothing | waste | industry",
           5
          ],
          [
           29,
           "sleep | deprivation | our | lack | mental",
           5
          ],
          [
           30,
           "ecommerce | online | convenience | shopping | businesses",
           5
          ],
          [
           31,
           "sites | networking | privacy | share | platforms",
           5
          ],
          [
           32,
           "conflicts | conflict | resolution | ground | finding",
           5
          ],
          [
           33,
           "balance | work | personal | worklife | time",
           5
          ],
          [
           34,
           "eating | food | mindful | we | our",
           5
          ],
          [
           35,
           "decision | decisionmaking | decisions | making | choices",
           4
          ],
          [
           36,
           "inequality | social | opportunities | employment | healthcare",
           4
          ],
          [
           37,
           "checkups | health | regular | early | provider",
           4
          ],
          [
           38,
           "culture | pop | popular | entertainment | fashion",
           4
          ],
          [
           39,
           "games | video | gaming | interactions | have",
           4
          ],
          [
           40,
           "goals | goal | setting | want | your",
           4
          ],
          [
           41,
           "music | emotions | mood | has | our",
           4
          ],
          [
           42,
           "nature | outdoor | activities | spending | outdoors",
           4
          ],
          [
           43,
           "yoga | practice | spiritual | physical | benefits",
           4
          ],
          [
           44,
           "marketing | media | brand | social | brands",
           4
          ],
          [
           45,
           "light | artificial | sleep | blue | devices",
           4
          ],
          [
           46,
           "threats | cybersecurity | cyber | digital | information",
           3
          ],
          [
           47,
           "stress | managing | healthy | worklife | strategies",
           3
          ],
          [
           48,
           "technology | students | learning | education | teaching",
           3
          ],
          [
           49,
           "team | collaboration | teamwork | members | encourage",
           3
          ],
          [
           50,
           "parenting | children | positive | parents | bond",
           3
          ],
          [
           51,
           "diet | balanced | foods | vegetables | proteins",
           3
          ],
          [
           52,
           "mental | health | awareness | promoting | individuals",
           2
          ]
         ],
         "hovertemplate": "<b>Topic %{customdata[0]}</b><br>%{customdata[1]}<br>Size: %{customdata[2]}",
         "legendgroup": "",
         "marker": {
          "color": "#B0BEC5",
          "line": {
           "color": "DarkSlateGrey",
           "width": 2
          },
          "size": [
           10,
           9,
           9,
           9,
           9,
           9,
           9,
           8,
           8,
           7,
           7,
           7,
           7,
           7,
           7,
           7,
           7,
           6,
           6,
           6,
           6,
           6,
           6,
           6,
           6,
           6,
           6,
           5,
           5,
           5,
           5,
           5,
           5,
           5,
           5,
           4,
           4,
           4,
           4,
           4,
           4,
           4,
           4,
           4,
           4,
           4,
           3,
           3,
           3,
           3,
           3,
           3,
           2
          ],
          "sizemode": "area",
          "sizeref": 0.00625,
          "symbol": "circle"
         },
         "mode": "markers",
         "name": "",
         "orientation": "v",
         "showlegend": false,
         "type": "scatter",
         "x": [
          15.828987121582031,
          -0.04743501543998718,
          3.1070618629455566,
          0.8499448299407959,
          1.1946862936019897,
          0.41486698389053345,
          11.99771785736084,
          2.322315216064453,
          15.010269165039062,
          9.925591468811035,
          0.27925920486450195,
          10.382624626159668,
          15.48469352722168,
          17.569480895996094,
          0.36751022934913635,
          -9.220149993896484,
          1.2027260065078735,
          0.1581793576478958,
          16.109426498413086,
          10.426555633544922,
          0.06724593788385391,
          2.7069344520568848,
          4.834064483642578,
          2.623514175415039,
          -9.0927734375,
          15.108161926269531,
          5.064014434814453,
          15.879651069641113,
          0.5082157254219055,
          4.564530849456787,
          11.902300834655762,
          17.571117401123047,
          10.160238265991211,
          1.8934788703918457,
          0.8420706391334534,
          2.863025426864624,
          14.881155014038086,
          -0.04673871397972107,
          15.973344802856445,
          -0.025405270978808403,
          2.80726957321167,
          0.32962676882743835,
          -8.926783561706543,
          0.6893159747123718,
          11.830928802490234,
          4.564553737640381,
          17.729703903198242,
          1.5477008819580078,
          15.392128944396973,
          4.922416687011719,
          1.2995094060897827,
          -9.351075172424316,
          1.0934159755706787
         ],
         "xaxis": "x",
         "y": [
          -4.577260494232178,
          -9.324235916137695,
          5.113745212554932,
          3.8851168155670166,
          4.687434673309326,
          10.509908676147461,
          6.85507869720459,
          5.544223308563232,
          5.280248165130615,
          9.872603416442871,
          10.64490795135498,
          9.417980194091797,
          4.7902936935424805,
          16.97414779663086,
          10.557795524597168,
          -6.503806114196777,
          3.4849634170532227,
          3.1858348846435547,
          -4.855822563171387,
          9.373743057250977,
          3.098076105117798,
          6.01740026473999,
          13.687049865722656,
          5.897744178771973,
          -6.631653308868408,
          5.181344985961914,
          13.917560577392578,
          -4.6250996589660645,
          10.41769027709961,
          -4.13339900970459,
          6.950969219207764,
          16.97496223449707,
          9.639331817626953,
          5.3285088539123535,
          3.9966044425964355,
          5.266896724700928,
          5.409514427185059,
          -9.32430362701416,
          -4.71994161605835,
          3.1789348125457764,
          5.2869439125061035,
          2.7932705879211426,
          -6.797607421875,
          3.8697032928466797,
          7.020224094390869,
          -4.133421421051025,
          17.130647659301758,
          5.087235450744629,
          4.885612964630127,
          13.776350975036621,
          3.621375322341919,
          -6.372565746307373,
          3.2009572982788086
         ],
         "yaxis": "y"
        }
       ],
       "layout": {
        "annotations": [
         {
          "showarrow": false,
          "text": "D1",
          "x": -10.753736448287963,
          "y": 4.488647818565368,
          "yshift": 10
         },
         {
          "showarrow": false,
          "text": "D2",
          "x": 4.817711520195008,
          "xshift": 10,
          "y": 19.70024480819702
         }
        ],
        "height": 650,
        "hoverlabel": {
         "bgcolor": "white",
         "font": {
          "family": "Rockwell",
          "size": 16
         }
        },
        "legend": {
         "itemsizing": "constant",
         "tracegroupgap": 0
        },
        "margin": {
         "t": 60
        },
        "shapes": [
         {
          "line": {
           "color": "#CFD8DC",
           "width": 2
          },
          "type": "line",
          "x0": 4.817711520195008,
          "x1": 4.817711520195008,
          "y0": -10.722949171066285,
          "y1": 19.70024480819702
         },
         {
          "line": {
           "color": "#9E9E9E",
           "width": 2
          },
          "type": "line",
          "x0": -10.753736448287963,
          "x1": 20.38915948867798,
          "y0": 4.488647818565368,
          "y1": 4.488647818565368
         }
        ],
        "sliders": [
         {
          "active": 0,
          "pad": {
           "t": 50
          },
          "steps": [
           {
            "args": [
             {
              "marker.color": [
               [
                "red",
                "#B0BEC5",
                "#B0BEC5",
                "#B0BEC5",
                "#B0BEC5",
                "#B0BEC5",
                "#B0BEC5",
                "#B0BEC5",
                "#B0BEC5",
                "#B0BEC5",
                "#B0BEC5",
                "#B0BEC5",
                "#B0BEC5",
                "#B0BEC5",
                "#B0BEC5",
                "#B0BEC5",
                "#B0BEC5",
                "#B0BEC5",
                "#B0BEC5",
                "#B0BEC5",
                "#B0BEC5",
                "#B0BEC5",
                "#B0BEC5",
                "#B0BEC5",
                "#B0BEC5",
                "#B0BEC5",
                "#B0BEC5",
                "#B0BEC5",
                "#B0BEC5",
                "#B0BEC5",
                "#B0BEC5",
                "#B0BEC5",
                "#B0BEC5",
                "#B0BEC5",
                "#B0BEC5",
                "#B0BEC5",
                "#B0BEC5",
                "#B0BEC5",
                "#B0BEC5",
                "#B0BEC5",
                "#B0BEC5",
                "#B0BEC5",
                "#B0BEC5",
                "#B0BEC5",
                "#B0BEC5",
                "#B0BEC5",
                "#B0BEC5",
                "#B0BEC5",
                "#B0BEC5",
                "#B0BEC5",
                "#B0BEC5",
                "#B0BEC5",
                "#B0BEC5"
               ]
              ]
             }
            ],
            "label": "Topic 0",
            "method": "update"
           },
           {
            "args": [
             {
              "marker.color": [
               [
                "#B0BEC5",
                "red",
                "#B0BEC5",
                "#B0BEC5",
                "#B0BEC5",
                "#B0BEC5",
                "#B0BEC5",
                "#B0BEC5",
                "#B0BEC5",
                "#B0BEC5",
                "#B0BEC5",
                "#B0BEC5",
                "#B0BEC5",
                "#B0BEC5",
                "#B0BEC5",
                "#B0BEC5",
                "#B0BEC5",
                "#B0BEC5",
                "#B0BEC5",
                "#B0BEC5",
                "#B0BEC5",
                "#B0BEC5",
                "#B0BEC5",
                "#B0BEC5",
                "#B0BEC5",
                "#B0BEC5",
                "#B0BEC5",
                "#B0BEC5",
                "#B0BEC5",
                "#B0BEC5",
                "#B0BEC5",
                "#B0BEC5",
                "#B0BEC5",
                "#B0BEC5",
                "#B0BEC5",
                "#B0BEC5",
                "#B0BEC5",
                "#B0BEC5",
                "#B0BEC5",
                "#B0BEC5",
                "#B0BEC5",
                "#B0BEC5",
                "#B0BEC5",
                "#B0BEC5",
                "#B0BEC5",
                "#B0BEC5",
                "#B0BEC5",
                "#B0BEC5",
                "#B0BEC5",
                "#B0BEC5",
                "#B0BEC5",
                "#B0BEC5",
                "#B0BEC5"
               ]
              ]
             }
            ],
            "label": "Topic 1",
            "method": "update"
           },
           {
            "args": [
             {
              "marker.color": [
               [
                "#B0BEC5",
                "#B0BEC5",
                "red",
                "#B0BEC5",
                "#B0BEC5",
                "#B0BEC5",
                "#B0BEC5",
                "#B0BEC5",
                "#B0BEC5",
                "#B0BEC5",
                "#B0BEC5",
                "#B0BEC5",
                "#B0BEC5",
                "#B0BEC5",
                "#B0BEC5",
                "#B0BEC5",
                "#B0BEC5",
                "#B0BEC5",
                "#B0BEC5",
                "#B0BEC5",
                "#B0BEC5",
                "#B0BEC5",
                "#B0BEC5",
                "#B0BEC5",
                "#B0BEC5",
                "#B0BEC5",
                "#B0BEC5",
                "#B0BEC5",
                "#B0BEC5",
                "#B0BEC5",
                "#B0BEC5",
                "#B0BEC5",
                "#B0BEC5",
                "#B0BEC5",
                "#B0BEC5",
                "#B0BEC5",
                "#B0BEC5",
                "#B0BEC5",
                "#B0BEC5",
                "#B0BEC5",
                "#B0BEC5",
                "#B0BEC5",
                "#B0BEC5",
                "#B0BEC5",
                "#B0BEC5",
                "#B0BEC5",
                "#B0BEC5",
                "#B0BEC5",
                "#B0BEC5",
                "#B0BEC5",
                "#B0BEC5",
                "#B0BEC5",
                "#B0BEC5"
               ]
              ]
             }
            ],
            "label": "Topic 2",
            "method": "update"
           },
           {
            "args": [
             {
              "marker.color": [
               [
                "#B0BEC5",
                "#B0BEC5",
                "#B0BEC5",
                "red",
                "#B0BEC5",
                "#B0BEC5",
                "#B0BEC5",
                "#B0BEC5",
                "#B0BEC5",
                "#B0BEC5",
                "#B0BEC5",
                "#B0BEC5",
                "#B0BEC5",
                "#B0BEC5",
                "#B0BEC5",
                "#B0BEC5",
                "#B0BEC5",
                "#B0BEC5",
                "#B0BEC5",
                "#B0BEC5",
                "#B0BEC5",
                "#B0BEC5",
                "#B0BEC5",
                "#B0BEC5",
                "#B0BEC5",
                "#B0BEC5",
                "#B0BEC5",
                "#B0BEC5",
                "#B0BEC5",
                "#B0BEC5",
                "#B0BEC5",
                "#B0BEC5",
                "#B0BEC5",
                "#B0BEC5",
                "#B0BEC5",
                "#B0BEC5",
                "#B0BEC5",
                "#B0BEC5",
                "#B0BEC5",
                "#B0BEC5",
                "#B0BEC5",
                "#B0BEC5",
                "#B0BEC5",
                "#B0BEC5",
                "#B0BEC5",
                "#B0BEC5",
                "#B0BEC5",
                "#B0BEC5",
                "#B0BEC5",
                "#B0BEC5",
                "#B0BEC5",
                "#B0BEC5",
                "#B0BEC5"
               ]
              ]
             }
            ],
            "label": "Topic 3",
            "method": "update"
           },
           {
            "args": [
             {
              "marker.color": [
               [
                "#B0BEC5",
                "#B0BEC5",
                "#B0BEC5",
                "#B0BEC5",
                "red",
                "#B0BEC5",
                "#B0BEC5",
                "#B0BEC5",
                "#B0BEC5",
                "#B0BEC5",
                "#B0BEC5",
                "#B0BEC5",
                "#B0BEC5",
                "#B0BEC5",
                "#B0BEC5",
                "#B0BEC5",
                "#B0BEC5",
                "#B0BEC5",
                "#B0BEC5",
                "#B0BEC5",
                "#B0BEC5",
                "#B0BEC5",
                "#B0BEC5",
                "#B0BEC5",
                "#B0BEC5",
                "#B0BEC5",
                "#B0BEC5",
                "#B0BEC5",
                "#B0BEC5",
                "#B0BEC5",
                "#B0BEC5",
                "#B0BEC5",
                "#B0BEC5",
                "#B0BEC5",
                "#B0BEC5",
                "#B0BEC5",
                "#B0BEC5",
                "#B0BEC5",
                "#B0BEC5",
                "#B0BEC5",
                "#B0BEC5",
                "#B0BEC5",
                "#B0BEC5",
                "#B0BEC5",
                "#B0BEC5",
                "#B0BEC5",
                "#B0BEC5",
                "#B0BEC5",
                "#B0BEC5",
                "#B0BEC5",
                "#B0BEC5",
                "#B0BEC5",
                "#B0BEC5"
               ]
              ]
             }
            ],
            "label": "Topic 4",
            "method": "update"
           },
           {
            "args": [
             {
              "marker.color": [
               [
                "#B0BEC5",
                "#B0BEC5",
                "#B0BEC5",
                "#B0BEC5",
                "#B0BEC5",
                "red",
                "#B0BEC5",
                "#B0BEC5",
                "#B0BEC5",
                "#B0BEC5",
                "#B0BEC5",
                "#B0BEC5",
                "#B0BEC5",
                "#B0BEC5",
                "#B0BEC5",
                "#B0BEC5",
                "#B0BEC5",
                "#B0BEC5",
                "#B0BEC5",
                "#B0BEC5",
                "#B0BEC5",
                "#B0BEC5",
                "#B0BEC5",
                "#B0BEC5",
                "#B0BEC5",
                "#B0BEC5",
                "#B0BEC5",
                "#B0BEC5",
                "#B0BEC5",
                "#B0BEC5",
                "#B0BEC5",
                "#B0BEC5",
                "#B0BEC5",
                "#B0BEC5",
                "#B0BEC5",
                "#B0BEC5",
                "#B0BEC5",
                "#B0BEC5",
                "#B0BEC5",
                "#B0BEC5",
                "#B0BEC5",
                "#B0BEC5",
                "#B0BEC5",
                "#B0BEC5",
                "#B0BEC5",
                "#B0BEC5",
                "#B0BEC5",
                "#B0BEC5",
                "#B0BEC5",
                "#B0BEC5",
                "#B0BEC5",
                "#B0BEC5",
                "#B0BEC5"
               ]
              ]
             }
            ],
            "label": "Topic 5",
            "method": "update"
           },
           {
            "args": [
             {
              "marker.color": [
               [
                "#B0BEC5",
                "#B0BEC5",
                "#B0BEC5",
                "#B0BEC5",
                "#B0BEC5",
                "#B0BEC5",
                "red",
                "#B0BEC5",
                "#B0BEC5",
                "#B0BEC5",
                "#B0BEC5",
                "#B0BEC5",
                "#B0BEC5",
                "#B0BEC5",
                "#B0BEC5",
                "#B0BEC5",
                "#B0BEC5",
                "#B0BEC5",
                "#B0BEC5",
                "#B0BEC5",
                "#B0BEC5",
                "#B0BEC5",
                "#B0BEC5",
                "#B0BEC5",
                "#B0BEC5",
                "#B0BEC5",
                "#B0BEC5",
                "#B0BEC5",
                "#B0BEC5",
                "#B0BEC5",
                "#B0BEC5",
                "#B0BEC5",
                "#B0BEC5",
                "#B0BEC5",
                "#B0BEC5",
                "#B0BEC5",
                "#B0BEC5",
                "#B0BEC5",
                "#B0BEC5",
                "#B0BEC5",
                "#B0BEC5",
                "#B0BEC5",
                "#B0BEC5",
                "#B0BEC5",
                "#B0BEC5",
                "#B0BEC5",
                "#B0BEC5",
                "#B0BEC5",
                "#B0BEC5",
                "#B0BEC5",
                "#B0BEC5",
                "#B0BEC5",
                "#B0BEC5"
               ]
              ]
             }
            ],
            "label": "Topic 6",
            "method": "update"
           },
           {
            "args": [
             {
              "marker.color": [
               [
                "#B0BEC5",
                "#B0BEC5",
                "#B0BEC5",
                "#B0BEC5",
                "#B0BEC5",
                "#B0BEC5",
                "#B0BEC5",
                "red",
                "#B0BEC5",
                "#B0BEC5",
                "#B0BEC5",
                "#B0BEC5",
                "#B0BEC5",
                "#B0BEC5",
                "#B0BEC5",
                "#B0BEC5",
                "#B0BEC5",
                "#B0BEC5",
                "#B0BEC5",
                "#B0BEC5",
                "#B0BEC5",
                "#B0BEC5",
                "#B0BEC5",
                "#B0BEC5",
                "#B0BEC5",
                "#B0BEC5",
                "#B0BEC5",
                "#B0BEC5",
                "#B0BEC5",
                "#B0BEC5",
                "#B0BEC5",
                "#B0BEC5",
                "#B0BEC5",
                "#B0BEC5",
                "#B0BEC5",
                "#B0BEC5",
                "#B0BEC5",
                "#B0BEC5",
                "#B0BEC5",
                "#B0BEC5",
                "#B0BEC5",
                "#B0BEC5",
                "#B0BEC5",
                "#B0BEC5",
                "#B0BEC5",
                "#B0BEC5",
                "#B0BEC5",
                "#B0BEC5",
                "#B0BEC5",
                "#B0BEC5",
                "#B0BEC5",
                "#B0BEC5",
                "#B0BEC5"
               ]
              ]
             }
            ],
            "label": "Topic 7",
            "method": "update"
           },
           {
            "args": [
             {
              "marker.color": [
               [
                "#B0BEC5",
                "#B0BEC5",
                "#B0BEC5",
                "#B0BEC5",
                "#B0BEC5",
                "#B0BEC5",
                "#B0BEC5",
                "#B0BEC5",
                "red",
                "#B0BEC5",
                "#B0BEC5",
                "#B0BEC5",
                "#B0BEC5",
                "#B0BEC5",
                "#B0BEC5",
                "#B0BEC5",
                "#B0BEC5",
                "#B0BEC5",
                "#B0BEC5",
                "#B0BEC5",
                "#B0BEC5",
                "#B0BEC5",
                "#B0BEC5",
                "#B0BEC5",
                "#B0BEC5",
                "#B0BEC5",
                "#B0BEC5",
                "#B0BEC5",
                "#B0BEC5",
                "#B0BEC5",
                "#B0BEC5",
                "#B0BEC5",
                "#B0BEC5",
                "#B0BEC5",
                "#B0BEC5",
                "#B0BEC5",
                "#B0BEC5",
                "#B0BEC5",
                "#B0BEC5",
                "#B0BEC5",
                "#B0BEC5",
                "#B0BEC5",
                "#B0BEC5",
                "#B0BEC5",
                "#B0BEC5",
                "#B0BEC5",
                "#B0BEC5",
                "#B0BEC5",
                "#B0BEC5",
                "#B0BEC5",
                "#B0BEC5",
                "#B0BEC5",
                "#B0BEC5"
               ]
              ]
             }
            ],
            "label": "Topic 8",
            "method": "update"
           },
           {
            "args": [
             {
              "marker.color": [
               [
                "#B0BEC5",
                "#B0BEC5",
                "#B0BEC5",
                "#B0BEC5",
                "#B0BEC5",
                "#B0BEC5",
                "#B0BEC5",
                "#B0BEC5",
                "#B0BEC5",
                "red",
                "#B0BEC5",
                "#B0BEC5",
                "#B0BEC5",
                "#B0BEC5",
                "#B0BEC5",
                "#B0BEC5",
                "#B0BEC5",
                "#B0BEC5",
                "#B0BEC5",
                "#B0BEC5",
                "#B0BEC5",
                "#B0BEC5",
                "#B0BEC5",
                "#B0BEC5",
                "#B0BEC5",
                "#B0BEC5",
                "#B0BEC5",
                "#B0BEC5",
                "#B0BEC5",
                "#B0BEC5",
                "#B0BEC5",
                "#B0BEC5",
                "#B0BEC5",
                "#B0BEC5",
                "#B0BEC5",
                "#B0BEC5",
                "#B0BEC5",
                "#B0BEC5",
                "#B0BEC5",
                "#B0BEC5",
                "#B0BEC5",
                "#B0BEC5",
                "#B0BEC5",
                "#B0BEC5",
                "#B0BEC5",
                "#B0BEC5",
                "#B0BEC5",
                "#B0BEC5",
                "#B0BEC5",
                "#B0BEC5",
                "#B0BEC5",
                "#B0BEC5",
                "#B0BEC5"
               ]
              ]
             }
            ],
            "label": "Topic 9",
            "method": "update"
           },
           {
            "args": [
             {
              "marker.color": [
               [
                "#B0BEC5",
                "#B0BEC5",
                "#B0BEC5",
                "#B0BEC5",
                "#B0BEC5",
                "#B0BEC5",
                "#B0BEC5",
                "#B0BEC5",
                "#B0BEC5",
                "#B0BEC5",
                "red",
                "#B0BEC5",
                "#B0BEC5",
                "#B0BEC5",
                "#B0BEC5",
                "#B0BEC5",
                "#B0BEC5",
                "#B0BEC5",
                "#B0BEC5",
                "#B0BEC5",
                "#B0BEC5",
                "#B0BEC5",
                "#B0BEC5",
                "#B0BEC5",
                "#B0BEC5",
                "#B0BEC5",
                "#B0BEC5",
                "#B0BEC5",
                "#B0BEC5",
                "#B0BEC5",
                "#B0BEC5",
                "#B0BEC5",
                "#B0BEC5",
                "#B0BEC5",
                "#B0BEC5",
                "#B0BEC5",
                "#B0BEC5",
                "#B0BEC5",
                "#B0BEC5",
                "#B0BEC5",
                "#B0BEC5",
                "#B0BEC5",
                "#B0BEC5",
                "#B0BEC5",
                "#B0BEC5",
                "#B0BEC5",
                "#B0BEC5",
                "#B0BEC5",
                "#B0BEC5",
                "#B0BEC5",
                "#B0BEC5",
                "#B0BEC5",
                "#B0BEC5"
               ]
              ]
             }
            ],
            "label": "Topic 10",
            "method": "update"
           },
           {
            "args": [
             {
              "marker.color": [
               [
                "#B0BEC5",
                "#B0BEC5",
                "#B0BEC5",
                "#B0BEC5",
                "#B0BEC5",
                "#B0BEC5",
                "#B0BEC5",
                "#B0BEC5",
                "#B0BEC5",
                "#B0BEC5",
                "#B0BEC5",
                "red",
                "#B0BEC5",
                "#B0BEC5",
                "#B0BEC5",
                "#B0BEC5",
                "#B0BEC5",
                "#B0BEC5",
                "#B0BEC5",
                "#B0BEC5",
                "#B0BEC5",
                "#B0BEC5",
                "#B0BEC5",
                "#B0BEC5",
                "#B0BEC5",
                "#B0BEC5",
                "#B0BEC5",
                "#B0BEC5",
                "#B0BEC5",
                "#B0BEC5",
                "#B0BEC5",
                "#B0BEC5",
                "#B0BEC5",
                "#B0BEC5",
                "#B0BEC5",
                "#B0BEC5",
                "#B0BEC5",
                "#B0BEC5",
                "#B0BEC5",
                "#B0BEC5",
                "#B0BEC5",
                "#B0BEC5",
                "#B0BEC5",
                "#B0BEC5",
                "#B0BEC5",
                "#B0BEC5",
                "#B0BEC5",
                "#B0BEC5",
                "#B0BEC5",
                "#B0BEC5",
                "#B0BEC5",
                "#B0BEC5",
                "#B0BEC5"
               ]
              ]
             }
            ],
            "label": "Topic 11",
            "method": "update"
           },
           {
            "args": [
             {
              "marker.color": [
               [
                "#B0BEC5",
                "#B0BEC5",
                "#B0BEC5",
                "#B0BEC5",
                "#B0BEC5",
                "#B0BEC5",
                "#B0BEC5",
                "#B0BEC5",
                "#B0BEC5",
                "#B0BEC5",
                "#B0BEC5",
                "#B0BEC5",
                "red",
                "#B0BEC5",
                "#B0BEC5",
                "#B0BEC5",
                "#B0BEC5",
                "#B0BEC5",
                "#B0BEC5",
                "#B0BEC5",
                "#B0BEC5",
                "#B0BEC5",
                "#B0BEC5",
                "#B0BEC5",
                "#B0BEC5",
                "#B0BEC5",
                "#B0BEC5",
                "#B0BEC5",
                "#B0BEC5",
                "#B0BEC5",
                "#B0BEC5",
                "#B0BEC5",
                "#B0BEC5",
                "#B0BEC5",
                "#B0BEC5",
                "#B0BEC5",
                "#B0BEC5",
                "#B0BEC5",
                "#B0BEC5",
                "#B0BEC5",
                "#B0BEC5",
                "#B0BEC5",
                "#B0BEC5",
                "#B0BEC5",
                "#B0BEC5",
                "#B0BEC5",
                "#B0BEC5",
                "#B0BEC5",
                "#B0BEC5",
                "#B0BEC5",
                "#B0BEC5",
                "#B0BEC5",
                "#B0BEC5"
               ]
              ]
             }
            ],
            "label": "Topic 12",
            "method": "update"
           },
           {
            "args": [
             {
              "marker.color": [
               [
                "#B0BEC5",
                "#B0BEC5",
                "#B0BEC5",
                "#B0BEC5",
                "#B0BEC5",
                "#B0BEC5",
                "#B0BEC5",
                "#B0BEC5",
                "#B0BEC5",
                "#B0BEC5",
                "#B0BEC5",
                "#B0BEC5",
                "#B0BEC5",
                "red",
                "#B0BEC5",
                "#B0BEC5",
                "#B0BEC5",
                "#B0BEC5",
                "#B0BEC5",
                "#B0BEC5",
                "#B0BEC5",
                "#B0BEC5",
                "#B0BEC5",
                "#B0BEC5",
                "#B0BEC5",
                "#B0BEC5",
                "#B0BEC5",
                "#B0BEC5",
                "#B0BEC5",
                "#B0BEC5",
                "#B0BEC5",
                "#B0BEC5",
                "#B0BEC5",
                "#B0BEC5",
                "#B0BEC5",
                "#B0BEC5",
                "#B0BEC5",
                "#B0BEC5",
                "#B0BEC5",
                "#B0BEC5",
                "#B0BEC5",
                "#B0BEC5",
                "#B0BEC5",
                "#B0BEC5",
                "#B0BEC5",
                "#B0BEC5",
                "#B0BEC5",
                "#B0BEC5",
                "#B0BEC5",
                "#B0BEC5",
                "#B0BEC5",
                "#B0BEC5",
                "#B0BEC5"
               ]
              ]
             }
            ],
            "label": "Topic 13",
            "method": "update"
           },
           {
            "args": [
             {
              "marker.color": [
               [
                "#B0BEC5",
                "#B0BEC5",
                "#B0BEC5",
                "#B0BEC5",
                "#B0BEC5",
                "#B0BEC5",
                "#B0BEC5",
                "#B0BEC5",
                "#B0BEC5",
                "#B0BEC5",
                "#B0BEC5",
                "#B0BEC5",
                "#B0BEC5",
                "#B0BEC5",
                "red",
                "#B0BEC5",
                "#B0BEC5",
                "#B0BEC5",
                "#B0BEC5",
                "#B0BEC5",
                "#B0BEC5",
                "#B0BEC5",
                "#B0BEC5",
                "#B0BEC5",
                "#B0BEC5",
                "#B0BEC5",
                "#B0BEC5",
                "#B0BEC5",
                "#B0BEC5",
                "#B0BEC5",
                "#B0BEC5",
                "#B0BEC5",
                "#B0BEC5",
                "#B0BEC5",
                "#B0BEC5",
                "#B0BEC5",
                "#B0BEC5",
                "#B0BEC5",
                "#B0BEC5",
                "#B0BEC5",
                "#B0BEC5",
                "#B0BEC5",
                "#B0BEC5",
                "#B0BEC5",
                "#B0BEC5",
                "#B0BEC5",
                "#B0BEC5",
                "#B0BEC5",
                "#B0BEC5",
                "#B0BEC5",
                "#B0BEC5",
                "#B0BEC5",
                "#B0BEC5"
               ]
              ]
             }
            ],
            "label": "Topic 14",
            "method": "update"
           },
           {
            "args": [
             {
              "marker.color": [
               [
                "#B0BEC5",
                "#B0BEC5",
                "#B0BEC5",
                "#B0BEC5",
                "#B0BEC5",
                "#B0BEC5",
                "#B0BEC5",
                "#B0BEC5",
                "#B0BEC5",
                "#B0BEC5",
                "#B0BEC5",
                "#B0BEC5",
                "#B0BEC5",
                "#B0BEC5",
                "#B0BEC5",
                "red",
                "#B0BEC5",
                "#B0BEC5",
                "#B0BEC5",
                "#B0BEC5",
                "#B0BEC5",
                "#B0BEC5",
                "#B0BEC5",
                "#B0BEC5",
                "#B0BEC5",
                "#B0BEC5",
                "#B0BEC5",
                "#B0BEC5",
                "#B0BEC5",
                "#B0BEC5",
                "#B0BEC5",
                "#B0BEC5",
                "#B0BEC5",
                "#B0BEC5",
                "#B0BEC5",
                "#B0BEC5",
                "#B0BEC5",
                "#B0BEC5",
                "#B0BEC5",
                "#B0BEC5",
                "#B0BEC5",
                "#B0BEC5",
                "#B0BEC5",
                "#B0BEC5",
                "#B0BEC5",
                "#B0BEC5",
                "#B0BEC5",
                "#B0BEC5",
                "#B0BEC5",
                "#B0BEC5",
                "#B0BEC5",
                "#B0BEC5",
                "#B0BEC5"
               ]
              ]
             }
            ],
            "label": "Topic 15",
            "method": "update"
           },
           {
            "args": [
             {
              "marker.color": [
               [
                "#B0BEC5",
                "#B0BEC5",
                "#B0BEC5",
                "#B0BEC5",
                "#B0BEC5",
                "#B0BEC5",
                "#B0BEC5",
                "#B0BEC5",
                "#B0BEC5",
                "#B0BEC5",
                "#B0BEC5",
                "#B0BEC5",
                "#B0BEC5",
                "#B0BEC5",
                "#B0BEC5",
                "#B0BEC5",
                "red",
                "#B0BEC5",
                "#B0BEC5",
                "#B0BEC5",
                "#B0BEC5",
                "#B0BEC5",
                "#B0BEC5",
                "#B0BEC5",
                "#B0BEC5",
                "#B0BEC5",
                "#B0BEC5",
                "#B0BEC5",
                "#B0BEC5",
                "#B0BEC5",
                "#B0BEC5",
                "#B0BEC5",
                "#B0BEC5",
                "#B0BEC5",
                "#B0BEC5",
                "#B0BEC5",
                "#B0BEC5",
                "#B0BEC5",
                "#B0BEC5",
                "#B0BEC5",
                "#B0BEC5",
                "#B0BEC5",
                "#B0BEC5",
                "#B0BEC5",
                "#B0BEC5",
                "#B0BEC5",
                "#B0BEC5",
                "#B0BEC5",
                "#B0BEC5",
                "#B0BEC5",
                "#B0BEC5",
                "#B0BEC5",
                "#B0BEC5"
               ]
              ]
             }
            ],
            "label": "Topic 16",
            "method": "update"
           },
           {
            "args": [
             {
              "marker.color": [
               [
                "#B0BEC5",
                "#B0BEC5",
                "#B0BEC5",
                "#B0BEC5",
                "#B0BEC5",
                "#B0BEC5",
                "#B0BEC5",
                "#B0BEC5",
                "#B0BEC5",
                "#B0BEC5",
                "#B0BEC5",
                "#B0BEC5",
                "#B0BEC5",
                "#B0BEC5",
                "#B0BEC5",
                "#B0BEC5",
                "#B0BEC5",
                "red",
                "#B0BEC5",
                "#B0BEC5",
                "#B0BEC5",
                "#B0BEC5",
                "#B0BEC5",
                "#B0BEC5",
                "#B0BEC5",
                "#B0BEC5",
                "#B0BEC5",
                "#B0BEC5",
                "#B0BEC5",
                "#B0BEC5",
                "#B0BEC5",
                "#B0BEC5",
                "#B0BEC5",
                "#B0BEC5",
                "#B0BEC5",
                "#B0BEC5",
                "#B0BEC5",
                "#B0BEC5",
                "#B0BEC5",
                "#B0BEC5",
                "#B0BEC5",
                "#B0BEC5",
                "#B0BEC5",
                "#B0BEC5",
                "#B0BEC5",
                "#B0BEC5",
                "#B0BEC5",
                "#B0BEC5",
                "#B0BEC5",
                "#B0BEC5",
                "#B0BEC5",
                "#B0BEC5",
                "#B0BEC5"
               ]
              ]
             }
            ],
            "label": "Topic 17",
            "method": "update"
           },
           {
            "args": [
             {
              "marker.color": [
               [
                "#B0BEC5",
                "#B0BEC5",
                "#B0BEC5",
                "#B0BEC5",
                "#B0BEC5",
                "#B0BEC5",
                "#B0BEC5",
                "#B0BEC5",
                "#B0BEC5",
                "#B0BEC5",
                "#B0BEC5",
                "#B0BEC5",
                "#B0BEC5",
                "#B0BEC5",
                "#B0BEC5",
                "#B0BEC5",
                "#B0BEC5",
                "#B0BEC5",
                "red",
                "#B0BEC5",
                "#B0BEC5",
                "#B0BEC5",
                "#B0BEC5",
                "#B0BEC5",
                "#B0BEC5",
                "#B0BEC5",
                "#B0BEC5",
                "#B0BEC5",
                "#B0BEC5",
                "#B0BEC5",
                "#B0BEC5",
                "#B0BEC5",
                "#B0BEC5",
                "#B0BEC5",
                "#B0BEC5",
                "#B0BEC5",
                "#B0BEC5",
                "#B0BEC5",
                "#B0BEC5",
                "#B0BEC5",
                "#B0BEC5",
                "#B0BEC5",
                "#B0BEC5",
                "#B0BEC5",
                "#B0BEC5",
                "#B0BEC5",
                "#B0BEC5",
                "#B0BEC5",
                "#B0BEC5",
                "#B0BEC5",
                "#B0BEC5",
                "#B0BEC5",
                "#B0BEC5"
               ]
              ]
             }
            ],
            "label": "Topic 18",
            "method": "update"
           },
           {
            "args": [
             {
              "marker.color": [
               [
                "#B0BEC5",
                "#B0BEC5",
                "#B0BEC5",
                "#B0BEC5",
                "#B0BEC5",
                "#B0BEC5",
                "#B0BEC5",
                "#B0BEC5",
                "#B0BEC5",
                "#B0BEC5",
                "#B0BEC5",
                "#B0BEC5",
                "#B0BEC5",
                "#B0BEC5",
                "#B0BEC5",
                "#B0BEC5",
                "#B0BEC5",
                "#B0BEC5",
                "#B0BEC5",
                "red",
                "#B0BEC5",
                "#B0BEC5",
                "#B0BEC5",
                "#B0BEC5",
                "#B0BEC5",
                "#B0BEC5",
                "#B0BEC5",
                "#B0BEC5",
                "#B0BEC5",
                "#B0BEC5",
                "#B0BEC5",
                "#B0BEC5",
                "#B0BEC5",
                "#B0BEC5",
                "#B0BEC5",
                "#B0BEC5",
                "#B0BEC5",
                "#B0BEC5",
                "#B0BEC5",
                "#B0BEC5",
                "#B0BEC5",
                "#B0BEC5",
                "#B0BEC5",
                "#B0BEC5",
                "#B0BEC5",
                "#B0BEC5",
                "#B0BEC5",
                "#B0BEC5",
                "#B0BEC5",
                "#B0BEC5",
                "#B0BEC5",
                "#B0BEC5",
                "#B0BEC5"
               ]
              ]
             }
            ],
            "label": "Topic 19",
            "method": "update"
           },
           {
            "args": [
             {
              "marker.color": [
               [
                "#B0BEC5",
                "#B0BEC5",
                "#B0BEC5",
                "#B0BEC5",
                "#B0BEC5",
                "#B0BEC5",
                "#B0BEC5",
                "#B0BEC5",
                "#B0BEC5",
                "#B0BEC5",
                "#B0BEC5",
                "#B0BEC5",
                "#B0BEC5",
                "#B0BEC5",
                "#B0BEC5",
                "#B0BEC5",
                "#B0BEC5",
                "#B0BEC5",
                "#B0BEC5",
                "#B0BEC5",
                "red",
                "#B0BEC5",
                "#B0BEC5",
                "#B0BEC5",
                "#B0BEC5",
                "#B0BEC5",
                "#B0BEC5",
                "#B0BEC5",
                "#B0BEC5",
                "#B0BEC5",
                "#B0BEC5",
                "#B0BEC5",
                "#B0BEC5",
                "#B0BEC5",
                "#B0BEC5",
                "#B0BEC5",
                "#B0BEC5",
                "#B0BEC5",
                "#B0BEC5",
                "#B0BEC5",
                "#B0BEC5",
                "#B0BEC5",
                "#B0BEC5",
                "#B0BEC5",
                "#B0BEC5",
                "#B0BEC5",
                "#B0BEC5",
                "#B0BEC5",
                "#B0BEC5",
                "#B0BEC5",
                "#B0BEC5",
                "#B0BEC5",
                "#B0BEC5"
               ]
              ]
             }
            ],
            "label": "Topic 20",
            "method": "update"
           },
           {
            "args": [
             {
              "marker.color": [
               [
                "#B0BEC5",
                "#B0BEC5",
                "#B0BEC5",
                "#B0BEC5",
                "#B0BEC5",
                "#B0BEC5",
                "#B0BEC5",
                "#B0BEC5",
                "#B0BEC5",
                "#B0BEC5",
                "#B0BEC5",
                "#B0BEC5",
                "#B0BEC5",
                "#B0BEC5",
                "#B0BEC5",
                "#B0BEC5",
                "#B0BEC5",
                "#B0BEC5",
                "#B0BEC5",
                "#B0BEC5",
                "#B0BEC5",
                "red",
                "#B0BEC5",
                "#B0BEC5",
                "#B0BEC5",
                "#B0BEC5",
                "#B0BEC5",
                "#B0BEC5",
                "#B0BEC5",
                "#B0BEC5",
                "#B0BEC5",
                "#B0BEC5",
                "#B0BEC5",
                "#B0BEC5",
                "#B0BEC5",
                "#B0BEC5",
                "#B0BEC5",
                "#B0BEC5",
                "#B0BEC5",
                "#B0BEC5",
                "#B0BEC5",
                "#B0BEC5",
                "#B0BEC5",
                "#B0BEC5",
                "#B0BEC5",
                "#B0BEC5",
                "#B0BEC5",
                "#B0BEC5",
                "#B0BEC5",
                "#B0BEC5",
                "#B0BEC5",
                "#B0BEC5",
                "#B0BEC5"
               ]
              ]
             }
            ],
            "label": "Topic 21",
            "method": "update"
           },
           {
            "args": [
             {
              "marker.color": [
               [
                "#B0BEC5",
                "#B0BEC5",
                "#B0BEC5",
                "#B0BEC5",
                "#B0BEC5",
                "#B0BEC5",
                "#B0BEC5",
                "#B0BEC5",
                "#B0BEC5",
                "#B0BEC5",
                "#B0BEC5",
                "#B0BEC5",
                "#B0BEC5",
                "#B0BEC5",
                "#B0BEC5",
                "#B0BEC5",
                "#B0BEC5",
                "#B0BEC5",
                "#B0BEC5",
                "#B0BEC5",
                "#B0BEC5",
                "#B0BEC5",
                "red",
                "#B0BEC5",
                "#B0BEC5",
                "#B0BEC5",
                "#B0BEC5",
                "#B0BEC5",
                "#B0BEC5",
                "#B0BEC5",
                "#B0BEC5",
                "#B0BEC5",
                "#B0BEC5",
                "#B0BEC5",
                "#B0BEC5",
                "#B0BEC5",
                "#B0BEC5",
                "#B0BEC5",
                "#B0BEC5",
                "#B0BEC5",
                "#B0BEC5",
                "#B0BEC5",
                "#B0BEC5",
                "#B0BEC5",
                "#B0BEC5",
                "#B0BEC5",
                "#B0BEC5",
                "#B0BEC5",
                "#B0BEC5",
                "#B0BEC5",
                "#B0BEC5",
                "#B0BEC5",
                "#B0BEC5"
               ]
              ]
             }
            ],
            "label": "Topic 22",
            "method": "update"
           },
           {
            "args": [
             {
              "marker.color": [
               [
                "#B0BEC5",
                "#B0BEC5",
                "#B0BEC5",
                "#B0BEC5",
                "#B0BEC5",
                "#B0BEC5",
                "#B0BEC5",
                "#B0BEC5",
                "#B0BEC5",
                "#B0BEC5",
                "#B0BEC5",
                "#B0BEC5",
                "#B0BEC5",
                "#B0BEC5",
                "#B0BEC5",
                "#B0BEC5",
                "#B0BEC5",
                "#B0BEC5",
                "#B0BEC5",
                "#B0BEC5",
                "#B0BEC5",
                "#B0BEC5",
                "#B0BEC5",
                "red",
                "#B0BEC5",
                "#B0BEC5",
                "#B0BEC5",
                "#B0BEC5",
                "#B0BEC5",
                "#B0BEC5",
                "#B0BEC5",
                "#B0BEC5",
                "#B0BEC5",
                "#B0BEC5",
                "#B0BEC5",
                "#B0BEC5",
                "#B0BEC5",
                "#B0BEC5",
                "#B0BEC5",
                "#B0BEC5",
                "#B0BEC5",
                "#B0BEC5",
                "#B0BEC5",
                "#B0BEC5",
                "#B0BEC5",
                "#B0BEC5",
                "#B0BEC5",
                "#B0BEC5",
                "#B0BEC5",
                "#B0BEC5",
                "#B0BEC5",
                "#B0BEC5",
                "#B0BEC5"
               ]
              ]
             }
            ],
            "label": "Topic 23",
            "method": "update"
           },
           {
            "args": [
             {
              "marker.color": [
               [
                "#B0BEC5",
                "#B0BEC5",
                "#B0BEC5",
                "#B0BEC5",
                "#B0BEC5",
                "#B0BEC5",
                "#B0BEC5",
                "#B0BEC5",
                "#B0BEC5",
                "#B0BEC5",
                "#B0BEC5",
                "#B0BEC5",
                "#B0BEC5",
                "#B0BEC5",
                "#B0BEC5",
                "#B0BEC5",
                "#B0BEC5",
                "#B0BEC5",
                "#B0BEC5",
                "#B0BEC5",
                "#B0BEC5",
                "#B0BEC5",
                "#B0BEC5",
                "#B0BEC5",
                "red",
                "#B0BEC5",
                "#B0BEC5",
                "#B0BEC5",
                "#B0BEC5",
                "#B0BEC5",
                "#B0BEC5",
                "#B0BEC5",
                "#B0BEC5",
                "#B0BEC5",
                "#B0BEC5",
                "#B0BEC5",
                "#B0BEC5",
                "#B0BEC5",
                "#B0BEC5",
                "#B0BEC5",
                "#B0BEC5",
                "#B0BEC5",
                "#B0BEC5",
                "#B0BEC5",
                "#B0BEC5",
                "#B0BEC5",
                "#B0BEC5",
                "#B0BEC5",
                "#B0BEC5",
                "#B0BEC5",
                "#B0BEC5",
                "#B0BEC5",
                "#B0BEC5"
               ]
              ]
             }
            ],
            "label": "Topic 24",
            "method": "update"
           },
           {
            "args": [
             {
              "marker.color": [
               [
                "#B0BEC5",
                "#B0BEC5",
                "#B0BEC5",
                "#B0BEC5",
                "#B0BEC5",
                "#B0BEC5",
                "#B0BEC5",
                "#B0BEC5",
                "#B0BEC5",
                "#B0BEC5",
                "#B0BEC5",
                "#B0BEC5",
                "#B0BEC5",
                "#B0BEC5",
                "#B0BEC5",
                "#B0BEC5",
                "#B0BEC5",
                "#B0BEC5",
                "#B0BEC5",
                "#B0BEC5",
                "#B0BEC5",
                "#B0BEC5",
                "#B0BEC5",
                "#B0BEC5",
                "#B0BEC5",
                "red",
                "#B0BEC5",
                "#B0BEC5",
                "#B0BEC5",
                "#B0BEC5",
                "#B0BEC5",
                "#B0BEC5",
                "#B0BEC5",
                "#B0BEC5",
                "#B0BEC5",
                "#B0BEC5",
                "#B0BEC5",
                "#B0BEC5",
                "#B0BEC5",
                "#B0BEC5",
                "#B0BEC5",
                "#B0BEC5",
                "#B0BEC5",
                "#B0BEC5",
                "#B0BEC5",
                "#B0BEC5",
                "#B0BEC5",
                "#B0BEC5",
                "#B0BEC5",
                "#B0BEC5",
                "#B0BEC5",
                "#B0BEC5",
                "#B0BEC5"
               ]
              ]
             }
            ],
            "label": "Topic 25",
            "method": "update"
           },
           {
            "args": [
             {
              "marker.color": [
               [
                "#B0BEC5",
                "#B0BEC5",
                "#B0BEC5",
                "#B0BEC5",
                "#B0BEC5",
                "#B0BEC5",
                "#B0BEC5",
                "#B0BEC5",
                "#B0BEC5",
                "#B0BEC5",
                "#B0BEC5",
                "#B0BEC5",
                "#B0BEC5",
                "#B0BEC5",
                "#B0BEC5",
                "#B0BEC5",
                "#B0BEC5",
                "#B0BEC5",
                "#B0BEC5",
                "#B0BEC5",
                "#B0BEC5",
                "#B0BEC5",
                "#B0BEC5",
                "#B0BEC5",
                "#B0BEC5",
                "#B0BEC5",
                "red",
                "#B0BEC5",
                "#B0BEC5",
                "#B0BEC5",
                "#B0BEC5",
                "#B0BEC5",
                "#B0BEC5",
                "#B0BEC5",
                "#B0BEC5",
                "#B0BEC5",
                "#B0BEC5",
                "#B0BEC5",
                "#B0BEC5",
                "#B0BEC5",
                "#B0BEC5",
                "#B0BEC5",
                "#B0BEC5",
                "#B0BEC5",
                "#B0BEC5",
                "#B0BEC5",
                "#B0BEC5",
                "#B0BEC5",
                "#B0BEC5",
                "#B0BEC5",
                "#B0BEC5",
                "#B0BEC5",
                "#B0BEC5"
               ]
              ]
             }
            ],
            "label": "Topic 26",
            "method": "update"
           },
           {
            "args": [
             {
              "marker.color": [
               [
                "#B0BEC5",
                "#B0BEC5",
                "#B0BEC5",
                "#B0BEC5",
                "#B0BEC5",
                "#B0BEC5",
                "#B0BEC5",
                "#B0BEC5",
                "#B0BEC5",
                "#B0BEC5",
                "#B0BEC5",
                "#B0BEC5",
                "#B0BEC5",
                "#B0BEC5",
                "#B0BEC5",
                "#B0BEC5",
                "#B0BEC5",
                "#B0BEC5",
                "#B0BEC5",
                "#B0BEC5",
                "#B0BEC5",
                "#B0BEC5",
                "#B0BEC5",
                "#B0BEC5",
                "#B0BEC5",
                "#B0BEC5",
                "#B0BEC5",
                "red",
                "#B0BEC5",
                "#B0BEC5",
                "#B0BEC5",
                "#B0BEC5",
                "#B0BEC5",
                "#B0BEC5",
                "#B0BEC5",
                "#B0BEC5",
                "#B0BEC5",
                "#B0BEC5",
                "#B0BEC5",
                "#B0BEC5",
                "#B0BEC5",
                "#B0BEC5",
                "#B0BEC5",
                "#B0BEC5",
                "#B0BEC5",
                "#B0BEC5",
                "#B0BEC5",
                "#B0BEC5",
                "#B0BEC5",
                "#B0BEC5",
                "#B0BEC5",
                "#B0BEC5",
                "#B0BEC5"
               ]
              ]
             }
            ],
            "label": "Topic 27",
            "method": "update"
           },
           {
            "args": [
             {
              "marker.color": [
               [
                "#B0BEC5",
                "#B0BEC5",
                "#B0BEC5",
                "#B0BEC5",
                "#B0BEC5",
                "#B0BEC5",
                "#B0BEC5",
                "#B0BEC5",
                "#B0BEC5",
                "#B0BEC5",
                "#B0BEC5",
                "#B0BEC5",
                "#B0BEC5",
                "#B0BEC5",
                "#B0BEC5",
                "#B0BEC5",
                "#B0BEC5",
                "#B0BEC5",
                "#B0BEC5",
                "#B0BEC5",
                "#B0BEC5",
                "#B0BEC5",
                "#B0BEC5",
                "#B0BEC5",
                "#B0BEC5",
                "#B0BEC5",
                "#B0BEC5",
                "#B0BEC5",
                "red",
                "#B0BEC5",
                "#B0BEC5",
                "#B0BEC5",
                "#B0BEC5",
                "#B0BEC5",
                "#B0BEC5",
                "#B0BEC5",
                "#B0BEC5",
                "#B0BEC5",
                "#B0BEC5",
                "#B0BEC5",
                "#B0BEC5",
                "#B0BEC5",
                "#B0BEC5",
                "#B0BEC5",
                "#B0BEC5",
                "#B0BEC5",
                "#B0BEC5",
                "#B0BEC5",
                "#B0BEC5",
                "#B0BEC5",
                "#B0BEC5",
                "#B0BEC5",
                "#B0BEC5"
               ]
              ]
             }
            ],
            "label": "Topic 28",
            "method": "update"
           },
           {
            "args": [
             {
              "marker.color": [
               [
                "#B0BEC5",
                "#B0BEC5",
                "#B0BEC5",
                "#B0BEC5",
                "#B0BEC5",
                "#B0BEC5",
                "#B0BEC5",
                "#B0BEC5",
                "#B0BEC5",
                "#B0BEC5",
                "#B0BEC5",
                "#B0BEC5",
                "#B0BEC5",
                "#B0BEC5",
                "#B0BEC5",
                "#B0BEC5",
                "#B0BEC5",
                "#B0BEC5",
                "#B0BEC5",
                "#B0BEC5",
                "#B0BEC5",
                "#B0BEC5",
                "#B0BEC5",
                "#B0BEC5",
                "#B0BEC5",
                "#B0BEC5",
                "#B0BEC5",
                "#B0BEC5",
                "#B0BEC5",
                "red",
                "#B0BEC5",
                "#B0BEC5",
                "#B0BEC5",
                "#B0BEC5",
                "#B0BEC5",
                "#B0BEC5",
                "#B0BEC5",
                "#B0BEC5",
                "#B0BEC5",
                "#B0BEC5",
                "#B0BEC5",
                "#B0BEC5",
                "#B0BEC5",
                "#B0BEC5",
                "#B0BEC5",
                "#B0BEC5",
                "#B0BEC5",
                "#B0BEC5",
                "#B0BEC5",
                "#B0BEC5",
                "#B0BEC5",
                "#B0BEC5",
                "#B0BEC5"
               ]
              ]
             }
            ],
            "label": "Topic 29",
            "method": "update"
           },
           {
            "args": [
             {
              "marker.color": [
               [
                "#B0BEC5",
                "#B0BEC5",
                "#B0BEC5",
                "#B0BEC5",
                "#B0BEC5",
                "#B0BEC5",
                "#B0BEC5",
                "#B0BEC5",
                "#B0BEC5",
                "#B0BEC5",
                "#B0BEC5",
                "#B0BEC5",
                "#B0BEC5",
                "#B0BEC5",
                "#B0BEC5",
                "#B0BEC5",
                "#B0BEC5",
                "#B0BEC5",
                "#B0BEC5",
                "#B0BEC5",
                "#B0BEC5",
                "#B0BEC5",
                "#B0BEC5",
                "#B0BEC5",
                "#B0BEC5",
                "#B0BEC5",
                "#B0BEC5",
                "#B0BEC5",
                "#B0BEC5",
                "#B0BEC5",
                "red",
                "#B0BEC5",
                "#B0BEC5",
                "#B0BEC5",
                "#B0BEC5",
                "#B0BEC5",
                "#B0BEC5",
                "#B0BEC5",
                "#B0BEC5",
                "#B0BEC5",
                "#B0BEC5",
                "#B0BEC5",
                "#B0BEC5",
                "#B0BEC5",
                "#B0BEC5",
                "#B0BEC5",
                "#B0BEC5",
                "#B0BEC5",
                "#B0BEC5",
                "#B0BEC5",
                "#B0BEC5",
                "#B0BEC5",
                "#B0BEC5"
               ]
              ]
             }
            ],
            "label": "Topic 30",
            "method": "update"
           },
           {
            "args": [
             {
              "marker.color": [
               [
                "#B0BEC5",
                "#B0BEC5",
                "#B0BEC5",
                "#B0BEC5",
                "#B0BEC5",
                "#B0BEC5",
                "#B0BEC5",
                "#B0BEC5",
                "#B0BEC5",
                "#B0BEC5",
                "#B0BEC5",
                "#B0BEC5",
                "#B0BEC5",
                "#B0BEC5",
                "#B0BEC5",
                "#B0BEC5",
                "#B0BEC5",
                "#B0BEC5",
                "#B0BEC5",
                "#B0BEC5",
                "#B0BEC5",
                "#B0BEC5",
                "#B0BEC5",
                "#B0BEC5",
                "#B0BEC5",
                "#B0BEC5",
                "#B0BEC5",
                "#B0BEC5",
                "#B0BEC5",
                "#B0BEC5",
                "#B0BEC5",
                "red",
                "#B0BEC5",
                "#B0BEC5",
                "#B0BEC5",
                "#B0BEC5",
                "#B0BEC5",
                "#B0BEC5",
                "#B0BEC5",
                "#B0BEC5",
                "#B0BEC5",
                "#B0BEC5",
                "#B0BEC5",
                "#B0BEC5",
                "#B0BEC5",
                "#B0BEC5",
                "#B0BEC5",
                "#B0BEC5",
                "#B0BEC5",
                "#B0BEC5",
                "#B0BEC5",
                "#B0BEC5",
                "#B0BEC5"
               ]
              ]
             }
            ],
            "label": "Topic 31",
            "method": "update"
           },
           {
            "args": [
             {
              "marker.color": [
               [
                "#B0BEC5",
                "#B0BEC5",
                "#B0BEC5",
                "#B0BEC5",
                "#B0BEC5",
                "#B0BEC5",
                "#B0BEC5",
                "#B0BEC5",
                "#B0BEC5",
                "#B0BEC5",
                "#B0BEC5",
                "#B0BEC5",
                "#B0BEC5",
                "#B0BEC5",
                "#B0BEC5",
                "#B0BEC5",
                "#B0BEC5",
                "#B0BEC5",
                "#B0BEC5",
                "#B0BEC5",
                "#B0BEC5",
                "#B0BEC5",
                "#B0BEC5",
                "#B0BEC5",
                "#B0BEC5",
                "#B0BEC5",
                "#B0BEC5",
                "#B0BEC5",
                "#B0BEC5",
                "#B0BEC5",
                "#B0BEC5",
                "#B0BEC5",
                "red",
                "#B0BEC5",
                "#B0BEC5",
                "#B0BEC5",
                "#B0BEC5",
                "#B0BEC5",
                "#B0BEC5",
                "#B0BEC5",
                "#B0BEC5",
                "#B0BEC5",
                "#B0BEC5",
                "#B0BEC5",
                "#B0BEC5",
                "#B0BEC5",
                "#B0BEC5",
                "#B0BEC5",
                "#B0BEC5",
                "#B0BEC5",
                "#B0BEC5",
                "#B0BEC5",
                "#B0BEC5"
               ]
              ]
             }
            ],
            "label": "Topic 32",
            "method": "update"
           },
           {
            "args": [
             {
              "marker.color": [
               [
                "#B0BEC5",
                "#B0BEC5",
                "#B0BEC5",
                "#B0BEC5",
                "#B0BEC5",
                "#B0BEC5",
                "#B0BEC5",
                "#B0BEC5",
                "#B0BEC5",
                "#B0BEC5",
                "#B0BEC5",
                "#B0BEC5",
                "#B0BEC5",
                "#B0BEC5",
                "#B0BEC5",
                "#B0BEC5",
                "#B0BEC5",
                "#B0BEC5",
                "#B0BEC5",
                "#B0BEC5",
                "#B0BEC5",
                "#B0BEC5",
                "#B0BEC5",
                "#B0BEC5",
                "#B0BEC5",
                "#B0BEC5",
                "#B0BEC5",
                "#B0BEC5",
                "#B0BEC5",
                "#B0BEC5",
                "#B0BEC5",
                "#B0BEC5",
                "#B0BEC5",
                "red",
                "#B0BEC5",
                "#B0BEC5",
                "#B0BEC5",
                "#B0BEC5",
                "#B0BEC5",
                "#B0BEC5",
                "#B0BEC5",
                "#B0BEC5",
                "#B0BEC5",
                "#B0BEC5",
                "#B0BEC5",
                "#B0BEC5",
                "#B0BEC5",
                "#B0BEC5",
                "#B0BEC5",
                "#B0BEC5",
                "#B0BEC5",
                "#B0BEC5",
                "#B0BEC5"
               ]
              ]
             }
            ],
            "label": "Topic 33",
            "method": "update"
           },
           {
            "args": [
             {
              "marker.color": [
               [
                "#B0BEC5",
                "#B0BEC5",
                "#B0BEC5",
                "#B0BEC5",
                "#B0BEC5",
                "#B0BEC5",
                "#B0BEC5",
                "#B0BEC5",
                "#B0BEC5",
                "#B0BEC5",
                "#B0BEC5",
                "#B0BEC5",
                "#B0BEC5",
                "#B0BEC5",
                "#B0BEC5",
                "#B0BEC5",
                "#B0BEC5",
                "#B0BEC5",
                "#B0BEC5",
                "#B0BEC5",
                "#B0BEC5",
                "#B0BEC5",
                "#B0BEC5",
                "#B0BEC5",
                "#B0BEC5",
                "#B0BEC5",
                "#B0BEC5",
                "#B0BEC5",
                "#B0BEC5",
                "#B0BEC5",
                "#B0BEC5",
                "#B0BEC5",
                "#B0BEC5",
                "#B0BEC5",
                "red",
                "#B0BEC5",
                "#B0BEC5",
                "#B0BEC5",
                "#B0BEC5",
                "#B0BEC5",
                "#B0BEC5",
                "#B0BEC5",
                "#B0BEC5",
                "#B0BEC5",
                "#B0BEC5",
                "#B0BEC5",
                "#B0BEC5",
                "#B0BEC5",
                "#B0BEC5",
                "#B0BEC5",
                "#B0BEC5",
                "#B0BEC5",
                "#B0BEC5"
               ]
              ]
             }
            ],
            "label": "Topic 34",
            "method": "update"
           },
           {
            "args": [
             {
              "marker.color": [
               [
                "#B0BEC5",
                "#B0BEC5",
                "#B0BEC5",
                "#B0BEC5",
                "#B0BEC5",
                "#B0BEC5",
                "#B0BEC5",
                "#B0BEC5",
                "#B0BEC5",
                "#B0BEC5",
                "#B0BEC5",
                "#B0BEC5",
                "#B0BEC5",
                "#B0BEC5",
                "#B0BEC5",
                "#B0BEC5",
                "#B0BEC5",
                "#B0BEC5",
                "#B0BEC5",
                "#B0BEC5",
                "#B0BEC5",
                "#B0BEC5",
                "#B0BEC5",
                "#B0BEC5",
                "#B0BEC5",
                "#B0BEC5",
                "#B0BEC5",
                "#B0BEC5",
                "#B0BEC5",
                "#B0BEC5",
                "#B0BEC5",
                "#B0BEC5",
                "#B0BEC5",
                "#B0BEC5",
                "#B0BEC5",
                "red",
                "#B0BEC5",
                "#B0BEC5",
                "#B0BEC5",
                "#B0BEC5",
                "#B0BEC5",
                "#B0BEC5",
                "#B0BEC5",
                "#B0BEC5",
                "#B0BEC5",
                "#B0BEC5",
                "#B0BEC5",
                "#B0BEC5",
                "#B0BEC5",
                "#B0BEC5",
                "#B0BEC5",
                "#B0BEC5",
                "#B0BEC5"
               ]
              ]
             }
            ],
            "label": "Topic 35",
            "method": "update"
           },
           {
            "args": [
             {
              "marker.color": [
               [
                "#B0BEC5",
                "#B0BEC5",
                "#B0BEC5",
                "#B0BEC5",
                "#B0BEC5",
                "#B0BEC5",
                "#B0BEC5",
                "#B0BEC5",
                "#B0BEC5",
                "#B0BEC5",
                "#B0BEC5",
                "#B0BEC5",
                "#B0BEC5",
                "#B0BEC5",
                "#B0BEC5",
                "#B0BEC5",
                "#B0BEC5",
                "#B0BEC5",
                "#B0BEC5",
                "#B0BEC5",
                "#B0BEC5",
                "#B0BEC5",
                "#B0BEC5",
                "#B0BEC5",
                "#B0BEC5",
                "#B0BEC5",
                "#B0BEC5",
                "#B0BEC5",
                "#B0BEC5",
                "#B0BEC5",
                "#B0BEC5",
                "#B0BEC5",
                "#B0BEC5",
                "#B0BEC5",
                "#B0BEC5",
                "#B0BEC5",
                "red",
                "#B0BEC5",
                "#B0BEC5",
                "#B0BEC5",
                "#B0BEC5",
                "#B0BEC5",
                "#B0BEC5",
                "#B0BEC5",
                "#B0BEC5",
                "#B0BEC5",
                "#B0BEC5",
                "#B0BEC5",
                "#B0BEC5",
                "#B0BEC5",
                "#B0BEC5",
                "#B0BEC5",
                "#B0BEC5"
               ]
              ]
             }
            ],
            "label": "Topic 36",
            "method": "update"
           },
           {
            "args": [
             {
              "marker.color": [
               [
                "#B0BEC5",
                "#B0BEC5",
                "#B0BEC5",
                "#B0BEC5",
                "#B0BEC5",
                "#B0BEC5",
                "#B0BEC5",
                "#B0BEC5",
                "#B0BEC5",
                "#B0BEC5",
                "#B0BEC5",
                "#B0BEC5",
                "#B0BEC5",
                "#B0BEC5",
                "#B0BEC5",
                "#B0BEC5",
                "#B0BEC5",
                "#B0BEC5",
                "#B0BEC5",
                "#B0BEC5",
                "#B0BEC5",
                "#B0BEC5",
                "#B0BEC5",
                "#B0BEC5",
                "#B0BEC5",
                "#B0BEC5",
                "#B0BEC5",
                "#B0BEC5",
                "#B0BEC5",
                "#B0BEC5",
                "#B0BEC5",
                "#B0BEC5",
                "#B0BEC5",
                "#B0BEC5",
                "#B0BEC5",
                "#B0BEC5",
                "#B0BEC5",
                "red",
                "#B0BEC5",
                "#B0BEC5",
                "#B0BEC5",
                "#B0BEC5",
                "#B0BEC5",
                "#B0BEC5",
                "#B0BEC5",
                "#B0BEC5",
                "#B0BEC5",
                "#B0BEC5",
                "#B0BEC5",
                "#B0BEC5",
                "#B0BEC5",
                "#B0BEC5",
                "#B0BEC5"
               ]
              ]
             }
            ],
            "label": "Topic 37",
            "method": "update"
           },
           {
            "args": [
             {
              "marker.color": [
               [
                "#B0BEC5",
                "#B0BEC5",
                "#B0BEC5",
                "#B0BEC5",
                "#B0BEC5",
                "#B0BEC5",
                "#B0BEC5",
                "#B0BEC5",
                "#B0BEC5",
                "#B0BEC5",
                "#B0BEC5",
                "#B0BEC5",
                "#B0BEC5",
                "#B0BEC5",
                "#B0BEC5",
                "#B0BEC5",
                "#B0BEC5",
                "#B0BEC5",
                "#B0BEC5",
                "#B0BEC5",
                "#B0BEC5",
                "#B0BEC5",
                "#B0BEC5",
                "#B0BEC5",
                "#B0BEC5",
                "#B0BEC5",
                "#B0BEC5",
                "#B0BEC5",
                "#B0BEC5",
                "#B0BEC5",
                "#B0BEC5",
                "#B0BEC5",
                "#B0BEC5",
                "#B0BEC5",
                "#B0BEC5",
                "#B0BEC5",
                "#B0BEC5",
                "#B0BEC5",
                "red",
                "#B0BEC5",
                "#B0BEC5",
                "#B0BEC5",
                "#B0BEC5",
                "#B0BEC5",
                "#B0BEC5",
                "#B0BEC5",
                "#B0BEC5",
                "#B0BEC5",
                "#B0BEC5",
                "#B0BEC5",
                "#B0BEC5",
                "#B0BEC5",
                "#B0BEC5"
               ]
              ]
             }
            ],
            "label": "Topic 38",
            "method": "update"
           },
           {
            "args": [
             {
              "marker.color": [
               [
                "#B0BEC5",
                "#B0BEC5",
                "#B0BEC5",
                "#B0BEC5",
                "#B0BEC5",
                "#B0BEC5",
                "#B0BEC5",
                "#B0BEC5",
                "#B0BEC5",
                "#B0BEC5",
                "#B0BEC5",
                "#B0BEC5",
                "#B0BEC5",
                "#B0BEC5",
                "#B0BEC5",
                "#B0BEC5",
                "#B0BEC5",
                "#B0BEC5",
                "#B0BEC5",
                "#B0BEC5",
                "#B0BEC5",
                "#B0BEC5",
                "#B0BEC5",
                "#B0BEC5",
                "#B0BEC5",
                "#B0BEC5",
                "#B0BEC5",
                "#B0BEC5",
                "#B0BEC5",
                "#B0BEC5",
                "#B0BEC5",
                "#B0BEC5",
                "#B0BEC5",
                "#B0BEC5",
                "#B0BEC5",
                "#B0BEC5",
                "#B0BEC5",
                "#B0BEC5",
                "#B0BEC5",
                "red",
                "#B0BEC5",
                "#B0BEC5",
                "#B0BEC5",
                "#B0BEC5",
                "#B0BEC5",
                "#B0BEC5",
                "#B0BEC5",
                "#B0BEC5",
                "#B0BEC5",
                "#B0BEC5",
                "#B0BEC5",
                "#B0BEC5",
                "#B0BEC5"
               ]
              ]
             }
            ],
            "label": "Topic 39",
            "method": "update"
           },
           {
            "args": [
             {
              "marker.color": [
               [
                "#B0BEC5",
                "#B0BEC5",
                "#B0BEC5",
                "#B0BEC5",
                "#B0BEC5",
                "#B0BEC5",
                "#B0BEC5",
                "#B0BEC5",
                "#B0BEC5",
                "#B0BEC5",
                "#B0BEC5",
                "#B0BEC5",
                "#B0BEC5",
                "#B0BEC5",
                "#B0BEC5",
                "#B0BEC5",
                "#B0BEC5",
                "#B0BEC5",
                "#B0BEC5",
                "#B0BEC5",
                "#B0BEC5",
                "#B0BEC5",
                "#B0BEC5",
                "#B0BEC5",
                "#B0BEC5",
                "#B0BEC5",
                "#B0BEC5",
                "#B0BEC5",
                "#B0BEC5",
                "#B0BEC5",
                "#B0BEC5",
                "#B0BEC5",
                "#B0BEC5",
                "#B0BEC5",
                "#B0BEC5",
                "#B0BEC5",
                "#B0BEC5",
                "#B0BEC5",
                "#B0BEC5",
                "#B0BEC5",
                "red",
                "#B0BEC5",
                "#B0BEC5",
                "#B0BEC5",
                "#B0BEC5",
                "#B0BEC5",
                "#B0BEC5",
                "#B0BEC5",
                "#B0BEC5",
                "#B0BEC5",
                "#B0BEC5",
                "#B0BEC5",
                "#B0BEC5"
               ]
              ]
             }
            ],
            "label": "Topic 40",
            "method": "update"
           },
           {
            "args": [
             {
              "marker.color": [
               [
                "#B0BEC5",
                "#B0BEC5",
                "#B0BEC5",
                "#B0BEC5",
                "#B0BEC5",
                "#B0BEC5",
                "#B0BEC5",
                "#B0BEC5",
                "#B0BEC5",
                "#B0BEC5",
                "#B0BEC5",
                "#B0BEC5",
                "#B0BEC5",
                "#B0BEC5",
                "#B0BEC5",
                "#B0BEC5",
                "#B0BEC5",
                "#B0BEC5",
                "#B0BEC5",
                "#B0BEC5",
                "#B0BEC5",
                "#B0BEC5",
                "#B0BEC5",
                "#B0BEC5",
                "#B0BEC5",
                "#B0BEC5",
                "#B0BEC5",
                "#B0BEC5",
                "#B0BEC5",
                "#B0BEC5",
                "#B0BEC5",
                "#B0BEC5",
                "#B0BEC5",
                "#B0BEC5",
                "#B0BEC5",
                "#B0BEC5",
                "#B0BEC5",
                "#B0BEC5",
                "#B0BEC5",
                "#B0BEC5",
                "#B0BEC5",
                "red",
                "#B0BEC5",
                "#B0BEC5",
                "#B0BEC5",
                "#B0BEC5",
                "#B0BEC5",
                "#B0BEC5",
                "#B0BEC5",
                "#B0BEC5",
                "#B0BEC5",
                "#B0BEC5",
                "#B0BEC5"
               ]
              ]
             }
            ],
            "label": "Topic 41",
            "method": "update"
           },
           {
            "args": [
             {
              "marker.color": [
               [
                "#B0BEC5",
                "#B0BEC5",
                "#B0BEC5",
                "#B0BEC5",
                "#B0BEC5",
                "#B0BEC5",
                "#B0BEC5",
                "#B0BEC5",
                "#B0BEC5",
                "#B0BEC5",
                "#B0BEC5",
                "#B0BEC5",
                "#B0BEC5",
                "#B0BEC5",
                "#B0BEC5",
                "#B0BEC5",
                "#B0BEC5",
                "#B0BEC5",
                "#B0BEC5",
                "#B0BEC5",
                "#B0BEC5",
                "#B0BEC5",
                "#B0BEC5",
                "#B0BEC5",
                "#B0BEC5",
                "#B0BEC5",
                "#B0BEC5",
                "#B0BEC5",
                "#B0BEC5",
                "#B0BEC5",
                "#B0BEC5",
                "#B0BEC5",
                "#B0BEC5",
                "#B0BEC5",
                "#B0BEC5",
                "#B0BEC5",
                "#B0BEC5",
                "#B0BEC5",
                "#B0BEC5",
                "#B0BEC5",
                "#B0BEC5",
                "#B0BEC5",
                "red",
                "#B0BEC5",
                "#B0BEC5",
                "#B0BEC5",
                "#B0BEC5",
                "#B0BEC5",
                "#B0BEC5",
                "#B0BEC5",
                "#B0BEC5",
                "#B0BEC5",
                "#B0BEC5"
               ]
              ]
             }
            ],
            "label": "Topic 42",
            "method": "update"
           },
           {
            "args": [
             {
              "marker.color": [
               [
                "#B0BEC5",
                "#B0BEC5",
                "#B0BEC5",
                "#B0BEC5",
                "#B0BEC5",
                "#B0BEC5",
                "#B0BEC5",
                "#B0BEC5",
                "#B0BEC5",
                "#B0BEC5",
                "#B0BEC5",
                "#B0BEC5",
                "#B0BEC5",
                "#B0BEC5",
                "#B0BEC5",
                "#B0BEC5",
                "#B0BEC5",
                "#B0BEC5",
                "#B0BEC5",
                "#B0BEC5",
                "#B0BEC5",
                "#B0BEC5",
                "#B0BEC5",
                "#B0BEC5",
                "#B0BEC5",
                "#B0BEC5",
                "#B0BEC5",
                "#B0BEC5",
                "#B0BEC5",
                "#B0BEC5",
                "#B0BEC5",
                "#B0BEC5",
                "#B0BEC5",
                "#B0BEC5",
                "#B0BEC5",
                "#B0BEC5",
                "#B0BEC5",
                "#B0BEC5",
                "#B0BEC5",
                "#B0BEC5",
                "#B0BEC5",
                "#B0BEC5",
                "#B0BEC5",
                "red",
                "#B0BEC5",
                "#B0BEC5",
                "#B0BEC5",
                "#B0BEC5",
                "#B0BEC5",
                "#B0BEC5",
                "#B0BEC5",
                "#B0BEC5",
                "#B0BEC5"
               ]
              ]
             }
            ],
            "label": "Topic 43",
            "method": "update"
           },
           {
            "args": [
             {
              "marker.color": [
               [
                "#B0BEC5",
                "#B0BEC5",
                "#B0BEC5",
                "#B0BEC5",
                "#B0BEC5",
                "#B0BEC5",
                "#B0BEC5",
                "#B0BEC5",
                "#B0BEC5",
                "#B0BEC5",
                "#B0BEC5",
                "#B0BEC5",
                "#B0BEC5",
                "#B0BEC5",
                "#B0BEC5",
                "#B0BEC5",
                "#B0BEC5",
                "#B0BEC5",
                "#B0BEC5",
                "#B0BEC5",
                "#B0BEC5",
                "#B0BEC5",
                "#B0BEC5",
                "#B0BEC5",
                "#B0BEC5",
                "#B0BEC5",
                "#B0BEC5",
                "#B0BEC5",
                "#B0BEC5",
                "#B0BEC5",
                "#B0BEC5",
                "#B0BEC5",
                "#B0BEC5",
                "#B0BEC5",
                "#B0BEC5",
                "#B0BEC5",
                "#B0BEC5",
                "#B0BEC5",
                "#B0BEC5",
                "#B0BEC5",
                "#B0BEC5",
                "#B0BEC5",
                "#B0BEC5",
                "#B0BEC5",
                "red",
                "#B0BEC5",
                "#B0BEC5",
                "#B0BEC5",
                "#B0BEC5",
                "#B0BEC5",
                "#B0BEC5",
                "#B0BEC5",
                "#B0BEC5"
               ]
              ]
             }
            ],
            "label": "Topic 44",
            "method": "update"
           },
           {
            "args": [
             {
              "marker.color": [
               [
                "#B0BEC5",
                "#B0BEC5",
                "#B0BEC5",
                "#B0BEC5",
                "#B0BEC5",
                "#B0BEC5",
                "#B0BEC5",
                "#B0BEC5",
                "#B0BEC5",
                "#B0BEC5",
                "#B0BEC5",
                "#B0BEC5",
                "#B0BEC5",
                "#B0BEC5",
                "#B0BEC5",
                "#B0BEC5",
                "#B0BEC5",
                "#B0BEC5",
                "#B0BEC5",
                "#B0BEC5",
                "#B0BEC5",
                "#B0BEC5",
                "#B0BEC5",
                "#B0BEC5",
                "#B0BEC5",
                "#B0BEC5",
                "#B0BEC5",
                "#B0BEC5",
                "#B0BEC5",
                "#B0BEC5",
                "#B0BEC5",
                "#B0BEC5",
                "#B0BEC5",
                "#B0BEC5",
                "#B0BEC5",
                "#B0BEC5",
                "#B0BEC5",
                "#B0BEC5",
                "#B0BEC5",
                "#B0BEC5",
                "#B0BEC5",
                "#B0BEC5",
                "#B0BEC5",
                "#B0BEC5",
                "#B0BEC5",
                "red",
                "#B0BEC5",
                "#B0BEC5",
                "#B0BEC5",
                "#B0BEC5",
                "#B0BEC5",
                "#B0BEC5",
                "#B0BEC5"
               ]
              ]
             }
            ],
            "label": "Topic 45",
            "method": "update"
           },
           {
            "args": [
             {
              "marker.color": [
               [
                "#B0BEC5",
                "#B0BEC5",
                "#B0BEC5",
                "#B0BEC5",
                "#B0BEC5",
                "#B0BEC5",
                "#B0BEC5",
                "#B0BEC5",
                "#B0BEC5",
                "#B0BEC5",
                "#B0BEC5",
                "#B0BEC5",
                "#B0BEC5",
                "#B0BEC5",
                "#B0BEC5",
                "#B0BEC5",
                "#B0BEC5",
                "#B0BEC5",
                "#B0BEC5",
                "#B0BEC5",
                "#B0BEC5",
                "#B0BEC5",
                "#B0BEC5",
                "#B0BEC5",
                "#B0BEC5",
                "#B0BEC5",
                "#B0BEC5",
                "#B0BEC5",
                "#B0BEC5",
                "#B0BEC5",
                "#B0BEC5",
                "#B0BEC5",
                "#B0BEC5",
                "#B0BEC5",
                "#B0BEC5",
                "#B0BEC5",
                "#B0BEC5",
                "#B0BEC5",
                "#B0BEC5",
                "#B0BEC5",
                "#B0BEC5",
                "#B0BEC5",
                "#B0BEC5",
                "#B0BEC5",
                "#B0BEC5",
                "#B0BEC5",
                "red",
                "#B0BEC5",
                "#B0BEC5",
                "#B0BEC5",
                "#B0BEC5",
                "#B0BEC5",
                "#B0BEC5"
               ]
              ]
             }
            ],
            "label": "Topic 46",
            "method": "update"
           },
           {
            "args": [
             {
              "marker.color": [
               [
                "#B0BEC5",
                "#B0BEC5",
                "#B0BEC5",
                "#B0BEC5",
                "#B0BEC5",
                "#B0BEC5",
                "#B0BEC5",
                "#B0BEC5",
                "#B0BEC5",
                "#B0BEC5",
                "#B0BEC5",
                "#B0BEC5",
                "#B0BEC5",
                "#B0BEC5",
                "#B0BEC5",
                "#B0BEC5",
                "#B0BEC5",
                "#B0BEC5",
                "#B0BEC5",
                "#B0BEC5",
                "#B0BEC5",
                "#B0BEC5",
                "#B0BEC5",
                "#B0BEC5",
                "#B0BEC5",
                "#B0BEC5",
                "#B0BEC5",
                "#B0BEC5",
                "#B0BEC5",
                "#B0BEC5",
                "#B0BEC5",
                "#B0BEC5",
                "#B0BEC5",
                "#B0BEC5",
                "#B0BEC5",
                "#B0BEC5",
                "#B0BEC5",
                "#B0BEC5",
                "#B0BEC5",
                "#B0BEC5",
                "#B0BEC5",
                "#B0BEC5",
                "#B0BEC5",
                "#B0BEC5",
                "#B0BEC5",
                "#B0BEC5",
                "#B0BEC5",
                "red",
                "#B0BEC5",
                "#B0BEC5",
                "#B0BEC5",
                "#B0BEC5",
                "#B0BEC5"
               ]
              ]
             }
            ],
            "label": "Topic 47",
            "method": "update"
           },
           {
            "args": [
             {
              "marker.color": [
               [
                "#B0BEC5",
                "#B0BEC5",
                "#B0BEC5",
                "#B0BEC5",
                "#B0BEC5",
                "#B0BEC5",
                "#B0BEC5",
                "#B0BEC5",
                "#B0BEC5",
                "#B0BEC5",
                "#B0BEC5",
                "#B0BEC5",
                "#B0BEC5",
                "#B0BEC5",
                "#B0BEC5",
                "#B0BEC5",
                "#B0BEC5",
                "#B0BEC5",
                "#B0BEC5",
                "#B0BEC5",
                "#B0BEC5",
                "#B0BEC5",
                "#B0BEC5",
                "#B0BEC5",
                "#B0BEC5",
                "#B0BEC5",
                "#B0BEC5",
                "#B0BEC5",
                "#B0BEC5",
                "#B0BEC5",
                "#B0BEC5",
                "#B0BEC5",
                "#B0BEC5",
                "#B0BEC5",
                "#B0BEC5",
                "#B0BEC5",
                "#B0BEC5",
                "#B0BEC5",
                "#B0BEC5",
                "#B0BEC5",
                "#B0BEC5",
                "#B0BEC5",
                "#B0BEC5",
                "#B0BEC5",
                "#B0BEC5",
                "#B0BEC5",
                "#B0BEC5",
                "#B0BEC5",
                "red",
                "#B0BEC5",
                "#B0BEC5",
                "#B0BEC5",
                "#B0BEC5"
               ]
              ]
             }
            ],
            "label": "Topic 48",
            "method": "update"
           },
           {
            "args": [
             {
              "marker.color": [
               [
                "#B0BEC5",
                "#B0BEC5",
                "#B0BEC5",
                "#B0BEC5",
                "#B0BEC5",
                "#B0BEC5",
                "#B0BEC5",
                "#B0BEC5",
                "#B0BEC5",
                "#B0BEC5",
                "#B0BEC5",
                "#B0BEC5",
                "#B0BEC5",
                "#B0BEC5",
                "#B0BEC5",
                "#B0BEC5",
                "#B0BEC5",
                "#B0BEC5",
                "#B0BEC5",
                "#B0BEC5",
                "#B0BEC5",
                "#B0BEC5",
                "#B0BEC5",
                "#B0BEC5",
                "#B0BEC5",
                "#B0BEC5",
                "#B0BEC5",
                "#B0BEC5",
                "#B0BEC5",
                "#B0BEC5",
                "#B0BEC5",
                "#B0BEC5",
                "#B0BEC5",
                "#B0BEC5",
                "#B0BEC5",
                "#B0BEC5",
                "#B0BEC5",
                "#B0BEC5",
                "#B0BEC5",
                "#B0BEC5",
                "#B0BEC5",
                "#B0BEC5",
                "#B0BEC5",
                "#B0BEC5",
                "#B0BEC5",
                "#B0BEC5",
                "#B0BEC5",
                "#B0BEC5",
                "#B0BEC5",
                "red",
                "#B0BEC5",
                "#B0BEC5",
                "#B0BEC5"
               ]
              ]
             }
            ],
            "label": "Topic 49",
            "method": "update"
           },
           {
            "args": [
             {
              "marker.color": [
               [
                "#B0BEC5",
                "#B0BEC5",
                "#B0BEC5",
                "#B0BEC5",
                "#B0BEC5",
                "#B0BEC5",
                "#B0BEC5",
                "#B0BEC5",
                "#B0BEC5",
                "#B0BEC5",
                "#B0BEC5",
                "#B0BEC5",
                "#B0BEC5",
                "#B0BEC5",
                "#B0BEC5",
                "#B0BEC5",
                "#B0BEC5",
                "#B0BEC5",
                "#B0BEC5",
                "#B0BEC5",
                "#B0BEC5",
                "#B0BEC5",
                "#B0BEC5",
                "#B0BEC5",
                "#B0BEC5",
                "#B0BEC5",
                "#B0BEC5",
                "#B0BEC5",
                "#B0BEC5",
                "#B0BEC5",
                "#B0BEC5",
                "#B0BEC5",
                "#B0BEC5",
                "#B0BEC5",
                "#B0BEC5",
                "#B0BEC5",
                "#B0BEC5",
                "#B0BEC5",
                "#B0BEC5",
                "#B0BEC5",
                "#B0BEC5",
                "#B0BEC5",
                "#B0BEC5",
                "#B0BEC5",
                "#B0BEC5",
                "#B0BEC5",
                "#B0BEC5",
                "#B0BEC5",
                "#B0BEC5",
                "#B0BEC5",
                "red",
                "#B0BEC5",
                "#B0BEC5"
               ]
              ]
             }
            ],
            "label": "Topic 50",
            "method": "update"
           },
           {
            "args": [
             {
              "marker.color": [
               [
                "#B0BEC5",
                "#B0BEC5",
                "#B0BEC5",
                "#B0BEC5",
                "#B0BEC5",
                "#B0BEC5",
                "#B0BEC5",
                "#B0BEC5",
                "#B0BEC5",
                "#B0BEC5",
                "#B0BEC5",
                "#B0BEC5",
                "#B0BEC5",
                "#B0BEC5",
                "#B0BEC5",
                "#B0BEC5",
                "#B0BEC5",
                "#B0BEC5",
                "#B0BEC5",
                "#B0BEC5",
                "#B0BEC5",
                "#B0BEC5",
                "#B0BEC5",
                "#B0BEC5",
                "#B0BEC5",
                "#B0BEC5",
                "#B0BEC5",
                "#B0BEC5",
                "#B0BEC5",
                "#B0BEC5",
                "#B0BEC5",
                "#B0BEC5",
                "#B0BEC5",
                "#B0BEC5",
                "#B0BEC5",
                "#B0BEC5",
                "#B0BEC5",
                "#B0BEC5",
                "#B0BEC5",
                "#B0BEC5",
                "#B0BEC5",
                "#B0BEC5",
                "#B0BEC5",
                "#B0BEC5",
                "#B0BEC5",
                "#B0BEC5",
                "#B0BEC5",
                "#B0BEC5",
                "#B0BEC5",
                "#B0BEC5",
                "#B0BEC5",
                "red",
                "#B0BEC5"
               ]
              ]
             }
            ],
            "label": "Topic 51",
            "method": "update"
           },
           {
            "args": [
             {
              "marker.color": [
               [
                "#B0BEC5",
                "#B0BEC5",
                "#B0BEC5",
                "#B0BEC5",
                "#B0BEC5",
                "#B0BEC5",
                "#B0BEC5",
                "#B0BEC5",
                "#B0BEC5",
                "#B0BEC5",
                "#B0BEC5",
                "#B0BEC5",
                "#B0BEC5",
                "#B0BEC5",
                "#B0BEC5",
                "#B0BEC5",
                "#B0BEC5",
                "#B0BEC5",
                "#B0BEC5",
                "#B0BEC5",
                "#B0BEC5",
                "#B0BEC5",
                "#B0BEC5",
                "#B0BEC5",
                "#B0BEC5",
                "#B0BEC5",
                "#B0BEC5",
                "#B0BEC5",
                "#B0BEC5",
                "#B0BEC5",
                "#B0BEC5",
                "#B0BEC5",
                "#B0BEC5",
                "#B0BEC5",
                "#B0BEC5",
                "#B0BEC5",
                "#B0BEC5",
                "#B0BEC5",
                "#B0BEC5",
                "#B0BEC5",
                "#B0BEC5",
                "#B0BEC5",
                "#B0BEC5",
                "#B0BEC5",
                "#B0BEC5",
                "#B0BEC5",
                "#B0BEC5",
                "#B0BEC5",
                "#B0BEC5",
                "#B0BEC5",
                "#B0BEC5",
                "#B0BEC5",
                "red"
               ]
              ]
             }
            ],
            "label": "Topic 52",
            "method": "update"
           }
          ]
         }
        ],
        "template": {
         "data": {
          "bar": [
           {
            "error_x": {
             "color": "rgb(36,36,36)"
            },
            "error_y": {
             "color": "rgb(36,36,36)"
            },
            "marker": {
             "line": {
              "color": "white",
              "width": 0.5
             },
             "pattern": {
              "fillmode": "overlay",
              "size": 10,
              "solidity": 0.2
             }
            },
            "type": "bar"
           }
          ],
          "barpolar": [
           {
            "marker": {
             "line": {
              "color": "white",
              "width": 0.5
             },
             "pattern": {
              "fillmode": "overlay",
              "size": 10,
              "solidity": 0.2
             }
            },
            "type": "barpolar"
           }
          ],
          "carpet": [
           {
            "aaxis": {
             "endlinecolor": "rgb(36,36,36)",
             "gridcolor": "white",
             "linecolor": "white",
             "minorgridcolor": "white",
             "startlinecolor": "rgb(36,36,36)"
            },
            "baxis": {
             "endlinecolor": "rgb(36,36,36)",
             "gridcolor": "white",
             "linecolor": "white",
             "minorgridcolor": "white",
             "startlinecolor": "rgb(36,36,36)"
            },
            "type": "carpet"
           }
          ],
          "choropleth": [
           {
            "colorbar": {
             "outlinewidth": 1,
             "tickcolor": "rgb(36,36,36)",
             "ticks": "outside"
            },
            "type": "choropleth"
           }
          ],
          "contour": [
           {
            "colorbar": {
             "outlinewidth": 1,
             "tickcolor": "rgb(36,36,36)",
             "ticks": "outside"
            },
            "colorscale": [
             [
              0,
              "#440154"
             ],
             [
              0.1111111111111111,
              "#482878"
             ],
             [
              0.2222222222222222,
              "#3e4989"
             ],
             [
              0.3333333333333333,
              "#31688e"
             ],
             [
              0.4444444444444444,
              "#26828e"
             ],
             [
              0.5555555555555556,
              "#1f9e89"
             ],
             [
              0.6666666666666666,
              "#35b779"
             ],
             [
              0.7777777777777778,
              "#6ece58"
             ],
             [
              0.8888888888888888,
              "#b5de2b"
             ],
             [
              1,
              "#fde725"
             ]
            ],
            "type": "contour"
           }
          ],
          "contourcarpet": [
           {
            "colorbar": {
             "outlinewidth": 1,
             "tickcolor": "rgb(36,36,36)",
             "ticks": "outside"
            },
            "type": "contourcarpet"
           }
          ],
          "heatmap": [
           {
            "colorbar": {
             "outlinewidth": 1,
             "tickcolor": "rgb(36,36,36)",
             "ticks": "outside"
            },
            "colorscale": [
             [
              0,
              "#440154"
             ],
             [
              0.1111111111111111,
              "#482878"
             ],
             [
              0.2222222222222222,
              "#3e4989"
             ],
             [
              0.3333333333333333,
              "#31688e"
             ],
             [
              0.4444444444444444,
              "#26828e"
             ],
             [
              0.5555555555555556,
              "#1f9e89"
             ],
             [
              0.6666666666666666,
              "#35b779"
             ],
             [
              0.7777777777777778,
              "#6ece58"
             ],
             [
              0.8888888888888888,
              "#b5de2b"
             ],
             [
              1,
              "#fde725"
             ]
            ],
            "type": "heatmap"
           }
          ],
          "heatmapgl": [
           {
            "colorbar": {
             "outlinewidth": 1,
             "tickcolor": "rgb(36,36,36)",
             "ticks": "outside"
            },
            "colorscale": [
             [
              0,
              "#440154"
             ],
             [
              0.1111111111111111,
              "#482878"
             ],
             [
              0.2222222222222222,
              "#3e4989"
             ],
             [
              0.3333333333333333,
              "#31688e"
             ],
             [
              0.4444444444444444,
              "#26828e"
             ],
             [
              0.5555555555555556,
              "#1f9e89"
             ],
             [
              0.6666666666666666,
              "#35b779"
             ],
             [
              0.7777777777777778,
              "#6ece58"
             ],
             [
              0.8888888888888888,
              "#b5de2b"
             ],
             [
              1,
              "#fde725"
             ]
            ],
            "type": "heatmapgl"
           }
          ],
          "histogram": [
           {
            "marker": {
             "line": {
              "color": "white",
              "width": 0.6
             }
            },
            "type": "histogram"
           }
          ],
          "histogram2d": [
           {
            "colorbar": {
             "outlinewidth": 1,
             "tickcolor": "rgb(36,36,36)",
             "ticks": "outside"
            },
            "colorscale": [
             [
              0,
              "#440154"
             ],
             [
              0.1111111111111111,
              "#482878"
             ],
             [
              0.2222222222222222,
              "#3e4989"
             ],
             [
              0.3333333333333333,
              "#31688e"
             ],
             [
              0.4444444444444444,
              "#26828e"
             ],
             [
              0.5555555555555556,
              "#1f9e89"
             ],
             [
              0.6666666666666666,
              "#35b779"
             ],
             [
              0.7777777777777778,
              "#6ece58"
             ],
             [
              0.8888888888888888,
              "#b5de2b"
             ],
             [
              1,
              "#fde725"
             ]
            ],
            "type": "histogram2d"
           }
          ],
          "histogram2dcontour": [
           {
            "colorbar": {
             "outlinewidth": 1,
             "tickcolor": "rgb(36,36,36)",
             "ticks": "outside"
            },
            "colorscale": [
             [
              0,
              "#440154"
             ],
             [
              0.1111111111111111,
              "#482878"
             ],
             [
              0.2222222222222222,
              "#3e4989"
             ],
             [
              0.3333333333333333,
              "#31688e"
             ],
             [
              0.4444444444444444,
              "#26828e"
             ],
             [
              0.5555555555555556,
              "#1f9e89"
             ],
             [
              0.6666666666666666,
              "#35b779"
             ],
             [
              0.7777777777777778,
              "#6ece58"
             ],
             [
              0.8888888888888888,
              "#b5de2b"
             ],
             [
              1,
              "#fde725"
             ]
            ],
            "type": "histogram2dcontour"
           }
          ],
          "mesh3d": [
           {
            "colorbar": {
             "outlinewidth": 1,
             "tickcolor": "rgb(36,36,36)",
             "ticks": "outside"
            },
            "type": "mesh3d"
           }
          ],
          "parcoords": [
           {
            "line": {
             "colorbar": {
              "outlinewidth": 1,
              "tickcolor": "rgb(36,36,36)",
              "ticks": "outside"
             }
            },
            "type": "parcoords"
           }
          ],
          "pie": [
           {
            "automargin": true,
            "type": "pie"
           }
          ],
          "scatter": [
           {
            "fillpattern": {
             "fillmode": "overlay",
             "size": 10,
             "solidity": 0.2
            },
            "type": "scatter"
           }
          ],
          "scatter3d": [
           {
            "line": {
             "colorbar": {
              "outlinewidth": 1,
              "tickcolor": "rgb(36,36,36)",
              "ticks": "outside"
             }
            },
            "marker": {
             "colorbar": {
              "outlinewidth": 1,
              "tickcolor": "rgb(36,36,36)",
              "ticks": "outside"
             }
            },
            "type": "scatter3d"
           }
          ],
          "scattercarpet": [
           {
            "marker": {
             "colorbar": {
              "outlinewidth": 1,
              "tickcolor": "rgb(36,36,36)",
              "ticks": "outside"
             }
            },
            "type": "scattercarpet"
           }
          ],
          "scattergeo": [
           {
            "marker": {
             "colorbar": {
              "outlinewidth": 1,
              "tickcolor": "rgb(36,36,36)",
              "ticks": "outside"
             }
            },
            "type": "scattergeo"
           }
          ],
          "scattergl": [
           {
            "marker": {
             "colorbar": {
              "outlinewidth": 1,
              "tickcolor": "rgb(36,36,36)",
              "ticks": "outside"
             }
            },
            "type": "scattergl"
           }
          ],
          "scattermapbox": [
           {
            "marker": {
             "colorbar": {
              "outlinewidth": 1,
              "tickcolor": "rgb(36,36,36)",
              "ticks": "outside"
             }
            },
            "type": "scattermapbox"
           }
          ],
          "scatterpolar": [
           {
            "marker": {
             "colorbar": {
              "outlinewidth": 1,
              "tickcolor": "rgb(36,36,36)",
              "ticks": "outside"
             }
            },
            "type": "scatterpolar"
           }
          ],
          "scatterpolargl": [
           {
            "marker": {
             "colorbar": {
              "outlinewidth": 1,
              "tickcolor": "rgb(36,36,36)",
              "ticks": "outside"
             }
            },
            "type": "scatterpolargl"
           }
          ],
          "scatterternary": [
           {
            "marker": {
             "colorbar": {
              "outlinewidth": 1,
              "tickcolor": "rgb(36,36,36)",
              "ticks": "outside"
             }
            },
            "type": "scatterternary"
           }
          ],
          "surface": [
           {
            "colorbar": {
             "outlinewidth": 1,
             "tickcolor": "rgb(36,36,36)",
             "ticks": "outside"
            },
            "colorscale": [
             [
              0,
              "#440154"
             ],
             [
              0.1111111111111111,
              "#482878"
             ],
             [
              0.2222222222222222,
              "#3e4989"
             ],
             [
              0.3333333333333333,
              "#31688e"
             ],
             [
              0.4444444444444444,
              "#26828e"
             ],
             [
              0.5555555555555556,
              "#1f9e89"
             ],
             [
              0.6666666666666666,
              "#35b779"
             ],
             [
              0.7777777777777778,
              "#6ece58"
             ],
             [
              0.8888888888888888,
              "#b5de2b"
             ],
             [
              1,
              "#fde725"
             ]
            ],
            "type": "surface"
           }
          ],
          "table": [
           {
            "cells": {
             "fill": {
              "color": "rgb(237,237,237)"
             },
             "line": {
              "color": "white"
             }
            },
            "header": {
             "fill": {
              "color": "rgb(217,217,217)"
             },
             "line": {
              "color": "white"
             }
            },
            "type": "table"
           }
          ]
         },
         "layout": {
          "annotationdefaults": {
           "arrowhead": 0,
           "arrowwidth": 1
          },
          "autotypenumbers": "strict",
          "coloraxis": {
           "colorbar": {
            "outlinewidth": 1,
            "tickcolor": "rgb(36,36,36)",
            "ticks": "outside"
           }
          },
          "colorscale": {
           "diverging": [
            [
             0,
             "rgb(103,0,31)"
            ],
            [
             0.1,
             "rgb(178,24,43)"
            ],
            [
             0.2,
             "rgb(214,96,77)"
            ],
            [
             0.3,
             "rgb(244,165,130)"
            ],
            [
             0.4,
             "rgb(253,219,199)"
            ],
            [
             0.5,
             "rgb(247,247,247)"
            ],
            [
             0.6,
             "rgb(209,229,240)"
            ],
            [
             0.7,
             "rgb(146,197,222)"
            ],
            [
             0.8,
             "rgb(67,147,195)"
            ],
            [
             0.9,
             "rgb(33,102,172)"
            ],
            [
             1,
             "rgb(5,48,97)"
            ]
           ],
           "sequential": [
            [
             0,
             "#440154"
            ],
            [
             0.1111111111111111,
             "#482878"
            ],
            [
             0.2222222222222222,
             "#3e4989"
            ],
            [
             0.3333333333333333,
             "#31688e"
            ],
            [
             0.4444444444444444,
             "#26828e"
            ],
            [
             0.5555555555555556,
             "#1f9e89"
            ],
            [
             0.6666666666666666,
             "#35b779"
            ],
            [
             0.7777777777777778,
             "#6ece58"
            ],
            [
             0.8888888888888888,
             "#b5de2b"
            ],
            [
             1,
             "#fde725"
            ]
           ],
           "sequentialminus": [
            [
             0,
             "#440154"
            ],
            [
             0.1111111111111111,
             "#482878"
            ],
            [
             0.2222222222222222,
             "#3e4989"
            ],
            [
             0.3333333333333333,
             "#31688e"
            ],
            [
             0.4444444444444444,
             "#26828e"
            ],
            [
             0.5555555555555556,
             "#1f9e89"
            ],
            [
             0.6666666666666666,
             "#35b779"
            ],
            [
             0.7777777777777778,
             "#6ece58"
            ],
            [
             0.8888888888888888,
             "#b5de2b"
            ],
            [
             1,
             "#fde725"
            ]
           ]
          },
          "colorway": [
           "#1F77B4",
           "#FF7F0E",
           "#2CA02C",
           "#D62728",
           "#9467BD",
           "#8C564B",
           "#E377C2",
           "#7F7F7F",
           "#BCBD22",
           "#17BECF"
          ],
          "font": {
           "color": "rgb(36,36,36)"
          },
          "geo": {
           "bgcolor": "white",
           "lakecolor": "white",
           "landcolor": "white",
           "showlakes": true,
           "showland": true,
           "subunitcolor": "white"
          },
          "hoverlabel": {
           "align": "left"
          },
          "hovermode": "closest",
          "mapbox": {
           "style": "light"
          },
          "paper_bgcolor": "white",
          "plot_bgcolor": "white",
          "polar": {
           "angularaxis": {
            "gridcolor": "rgb(232,232,232)",
            "linecolor": "rgb(36,36,36)",
            "showgrid": false,
            "showline": true,
            "ticks": "outside"
           },
           "bgcolor": "white",
           "radialaxis": {
            "gridcolor": "rgb(232,232,232)",
            "linecolor": "rgb(36,36,36)",
            "showgrid": false,
            "showline": true,
            "ticks": "outside"
           }
          },
          "scene": {
           "xaxis": {
            "backgroundcolor": "white",
            "gridcolor": "rgb(232,232,232)",
            "gridwidth": 2,
            "linecolor": "rgb(36,36,36)",
            "showbackground": true,
            "showgrid": false,
            "showline": true,
            "ticks": "outside",
            "zeroline": false,
            "zerolinecolor": "rgb(36,36,36)"
           },
           "yaxis": {
            "backgroundcolor": "white",
            "gridcolor": "rgb(232,232,232)",
            "gridwidth": 2,
            "linecolor": "rgb(36,36,36)",
            "showbackground": true,
            "showgrid": false,
            "showline": true,
            "ticks": "outside",
            "zeroline": false,
            "zerolinecolor": "rgb(36,36,36)"
           },
           "zaxis": {
            "backgroundcolor": "white",
            "gridcolor": "rgb(232,232,232)",
            "gridwidth": 2,
            "linecolor": "rgb(36,36,36)",
            "showbackground": true,
            "showgrid": false,
            "showline": true,
            "ticks": "outside",
            "zeroline": false,
            "zerolinecolor": "rgb(36,36,36)"
           }
          },
          "shapedefaults": {
           "fillcolor": "black",
           "line": {
            "width": 0
           },
           "opacity": 0.3
          },
          "ternary": {
           "aaxis": {
            "gridcolor": "rgb(232,232,232)",
            "linecolor": "rgb(36,36,36)",
            "showgrid": false,
            "showline": true,
            "ticks": "outside"
           },
           "baxis": {
            "gridcolor": "rgb(232,232,232)",
            "linecolor": "rgb(36,36,36)",
            "showgrid": false,
            "showline": true,
            "ticks": "outside"
           },
           "bgcolor": "white",
           "caxis": {
            "gridcolor": "rgb(232,232,232)",
            "linecolor": "rgb(36,36,36)",
            "showgrid": false,
            "showline": true,
            "ticks": "outside"
           }
          },
          "title": {
           "x": 0.05
          },
          "xaxis": {
           "automargin": true,
           "gridcolor": "rgb(232,232,232)",
           "linecolor": "rgb(36,36,36)",
           "showgrid": false,
           "showline": true,
           "ticks": "outside",
           "title": {
            "standoff": 15
           },
           "zeroline": false,
           "zerolinecolor": "rgb(36,36,36)"
          },
          "yaxis": {
           "automargin": true,
           "gridcolor": "rgb(232,232,232)",
           "linecolor": "rgb(36,36,36)",
           "showgrid": false,
           "showline": true,
           "ticks": "outside",
           "title": {
            "standoff": 15
           },
           "zeroline": false,
           "zerolinecolor": "rgb(36,36,36)"
          }
         }
        },
        "title": {
         "font": {
          "color": "Black",
          "size": 22
         },
         "text": "<b>Intertopic Distance Map</b>",
         "x": 0.5,
         "xanchor": "center",
         "y": 0.95,
         "yanchor": "top"
        },
        "width": 650,
        "xaxis": {
         "anchor": "y",
         "domain": [
          0,
          1
         ],
         "range": [
          -10.753736448287963,
          20.38915948867798
         ],
         "title": {
          "text": ""
         },
         "visible": false
        },
        "yaxis": {
         "anchor": "x",
         "domain": [
          0,
          1
         ],
         "range": [
          -10.722949171066285,
          19.70024480819702
         ],
         "title": {
          "text": ""
         },
         "visible": false
        }
       }
      }
     },
     "metadata": {},
     "output_type": "display_data"
    }
   ],
   "source": [
    "topic_model.visualize_topics()"
   ]
  },
  {
   "cell_type": "code",
   "execution_count": 59,
   "metadata": {},
   "outputs": [
    {
     "data": {
      "application/vnd.plotly.v1+json": {
       "config": {
        "plotlyServerURL": "https://plot.ly"
       },
       "data": [
        {
         "marker": {
          "color": "#D55E00"
         },
         "orientation": "h",
         "type": "bar",
         "x": [
          0.03872478310332145,
          0.04004667898410381,
          0.05470225827805205,
          0.05587070492914319,
          0.09406862047565834
         ],
         "xaxis": "x",
         "y": [
          "opinion  ",
          "public  ",
          "their  ",
          "influence  ",
          "celebrities  "
         ],
         "yaxis": "y"
        },
        {
         "marker": {
          "color": "#0072B2"
         },
         "orientation": "h",
         "type": "bar",
         "x": [
          0.035460128444283354,
          0.038086701762040265,
          0.03969545196958993,
          0.04578188258603695,
          0.08633716705834024
         ],
         "xaxis": "x2",
         "y": [
          "children  ",
          "parenting  ",
          "thinking  ",
          "mindset  ",
          "positive  "
         ],
         "yaxis": "y2"
        },
        {
         "marker": {
          "color": "#CC79A7"
         },
         "orientation": "h",
         "type": "bar",
         "x": [
          0.03012153538875775,
          0.03475299975565585,
          0.036910638643974404,
          0.046590411928212,
          0.07554394675679746
         ],
         "xaxis": "x3",
         "y": [
          "effective  ",
          "members  ",
          "leadership  ",
          "leader  ",
          "team  "
         ],
         "yaxis": "y3"
        },
        {
         "marker": {
          "color": "#E69F00"
         },
         "orientation": "h",
         "type": "bar",
         "x": [
          0.042229297924009236,
          0.050437156914205764,
          0.05304247124482717,
          0.0533067643128521,
          0.08241103255449547
         ],
         "xaxis": "x4",
         "y": [
          "rapid  ",
          "infrastructure  ",
          "cities  ",
          "urban  ",
          "urbanization  "
         ],
         "yaxis": "y4"
        },
        {
         "marker": {
          "color": "#56B4E9"
         },
         "orientation": "h",
         "type": "bar",
         "x": [
          0.03422861136877496,
          0.03682494128026615,
          0.044878971554093504,
          0.06175715483850359,
          0.10678588147359376
         ],
         "xaxis": "x5",
         "y": [
          "our  ",
          "artificial  ",
          "deprivation  ",
          "light  ",
          "sleep  "
         ],
         "yaxis": "y5"
        },
        {
         "marker": {
          "color": "#009E73"
         },
         "orientation": "h",
         "type": "bar",
         "x": [
          0.04017569713768929,
          0.05128587063527395,
          0.05351137134628101,
          0.06479585009372002,
          0.07957380098252853
         ],
         "xaxis": "x6",
         "y": [
          "preferences  ",
          "advertising  ",
          "consumer  ",
          "consumers  ",
          "advertisements  "
         ],
         "yaxis": "y6"
        },
        {
         "marker": {
          "color": "#F0E442"
         },
         "orientation": "h",
         "type": "bar",
         "x": [
          0.0249323946007686,
          0.03319232897378778,
          0.03698350859853892,
          0.06815563919808536,
          0.0732448990952567
         ],
         "xaxis": "x7",
         "y": [
          "present  ",
          "practices  ",
          "our  ",
          "mindfulness  ",
          "meditation  "
         ],
         "yaxis": "y7"
        },
        {
         "marker": {
          "color": "#D55E00"
         },
         "orientation": "h",
         "type": "bar",
         "x": [
          0.027170579383820895,
          0.027187318552588175,
          0.02803967439386564,
          0.030896820243455393,
          0.08415542159090254
         ],
         "xaxis": "x8",
         "y": [
          "worklife  ",
          "techniques  ",
          "healthy  ",
          "relaxation  ",
          "stress  "
         ],
         "yaxis": "y8"
        }
       ],
       "layout": {
        "annotations": [
         {
          "font": {
           "size": 16
          },
          "showarrow": false,
          "text": "Topic 0",
          "x": 0.0875,
          "xanchor": "center",
          "xref": "paper",
          "y": 1,
          "yanchor": "bottom",
          "yref": "paper"
         },
         {
          "font": {
           "size": 16
          },
          "showarrow": false,
          "text": "Topic 1",
          "x": 0.36250000000000004,
          "xanchor": "center",
          "xref": "paper",
          "y": 1,
          "yanchor": "bottom",
          "yref": "paper"
         },
         {
          "font": {
           "size": 16
          },
          "showarrow": false,
          "text": "Topic 2",
          "x": 0.6375000000000001,
          "xanchor": "center",
          "xref": "paper",
          "y": 1,
          "yanchor": "bottom",
          "yref": "paper"
         },
         {
          "font": {
           "size": 16
          },
          "showarrow": false,
          "text": "Topic 3",
          "x": 0.9125,
          "xanchor": "center",
          "xref": "paper",
          "y": 1,
          "yanchor": "bottom",
          "yref": "paper"
         },
         {
          "font": {
           "size": 16
          },
          "showarrow": false,
          "text": "Topic 4",
          "x": 0.0875,
          "xanchor": "center",
          "xref": "paper",
          "y": 0.4,
          "yanchor": "bottom",
          "yref": "paper"
         },
         {
          "font": {
           "size": 16
          },
          "showarrow": false,
          "text": "Topic 5",
          "x": 0.36250000000000004,
          "xanchor": "center",
          "xref": "paper",
          "y": 0.4,
          "yanchor": "bottom",
          "yref": "paper"
         },
         {
          "font": {
           "size": 16
          },
          "showarrow": false,
          "text": "Topic 6",
          "x": 0.6375000000000001,
          "xanchor": "center",
          "xref": "paper",
          "y": 0.4,
          "yanchor": "bottom",
          "yref": "paper"
         },
         {
          "font": {
           "size": 16
          },
          "showarrow": false,
          "text": "Topic 7",
          "x": 0.9125,
          "xanchor": "center",
          "xref": "paper",
          "y": 0.4,
          "yanchor": "bottom",
          "yref": "paper"
         }
        ],
        "height": 500,
        "hoverlabel": {
         "bgcolor": "white",
         "font": {
          "family": "Rockwell",
          "size": 16
         }
        },
        "showlegend": false,
        "template": {
         "data": {
          "bar": [
           {
            "error_x": {
             "color": "#2a3f5f"
            },
            "error_y": {
             "color": "#2a3f5f"
            },
            "marker": {
             "line": {
              "color": "white",
              "width": 0.5
             },
             "pattern": {
              "fillmode": "overlay",
              "size": 10,
              "solidity": 0.2
             }
            },
            "type": "bar"
           }
          ],
          "barpolar": [
           {
            "marker": {
             "line": {
              "color": "white",
              "width": 0.5
             },
             "pattern": {
              "fillmode": "overlay",
              "size": 10,
              "solidity": 0.2
             }
            },
            "type": "barpolar"
           }
          ],
          "carpet": [
           {
            "aaxis": {
             "endlinecolor": "#2a3f5f",
             "gridcolor": "#C8D4E3",
             "linecolor": "#C8D4E3",
             "minorgridcolor": "#C8D4E3",
             "startlinecolor": "#2a3f5f"
            },
            "baxis": {
             "endlinecolor": "#2a3f5f",
             "gridcolor": "#C8D4E3",
             "linecolor": "#C8D4E3",
             "minorgridcolor": "#C8D4E3",
             "startlinecolor": "#2a3f5f"
            },
            "type": "carpet"
           }
          ],
          "choropleth": [
           {
            "colorbar": {
             "outlinewidth": 0,
             "ticks": ""
            },
            "type": "choropleth"
           }
          ],
          "contour": [
           {
            "colorbar": {
             "outlinewidth": 0,
             "ticks": ""
            },
            "colorscale": [
             [
              0,
              "#0d0887"
             ],
             [
              0.1111111111111111,
              "#46039f"
             ],
             [
              0.2222222222222222,
              "#7201a8"
             ],
             [
              0.3333333333333333,
              "#9c179e"
             ],
             [
              0.4444444444444444,
              "#bd3786"
             ],
             [
              0.5555555555555556,
              "#d8576b"
             ],
             [
              0.6666666666666666,
              "#ed7953"
             ],
             [
              0.7777777777777778,
              "#fb9f3a"
             ],
             [
              0.8888888888888888,
              "#fdca26"
             ],
             [
              1,
              "#f0f921"
             ]
            ],
            "type": "contour"
           }
          ],
          "contourcarpet": [
           {
            "colorbar": {
             "outlinewidth": 0,
             "ticks": ""
            },
            "type": "contourcarpet"
           }
          ],
          "heatmap": [
           {
            "colorbar": {
             "outlinewidth": 0,
             "ticks": ""
            },
            "colorscale": [
             [
              0,
              "#0d0887"
             ],
             [
              0.1111111111111111,
              "#46039f"
             ],
             [
              0.2222222222222222,
              "#7201a8"
             ],
             [
              0.3333333333333333,
              "#9c179e"
             ],
             [
              0.4444444444444444,
              "#bd3786"
             ],
             [
              0.5555555555555556,
              "#d8576b"
             ],
             [
              0.6666666666666666,
              "#ed7953"
             ],
             [
              0.7777777777777778,
              "#fb9f3a"
             ],
             [
              0.8888888888888888,
              "#fdca26"
             ],
             [
              1,
              "#f0f921"
             ]
            ],
            "type": "heatmap"
           }
          ],
          "heatmapgl": [
           {
            "colorbar": {
             "outlinewidth": 0,
             "ticks": ""
            },
            "colorscale": [
             [
              0,
              "#0d0887"
             ],
             [
              0.1111111111111111,
              "#46039f"
             ],
             [
              0.2222222222222222,
              "#7201a8"
             ],
             [
              0.3333333333333333,
              "#9c179e"
             ],
             [
              0.4444444444444444,
              "#bd3786"
             ],
             [
              0.5555555555555556,
              "#d8576b"
             ],
             [
              0.6666666666666666,
              "#ed7953"
             ],
             [
              0.7777777777777778,
              "#fb9f3a"
             ],
             [
              0.8888888888888888,
              "#fdca26"
             ],
             [
              1,
              "#f0f921"
             ]
            ],
            "type": "heatmapgl"
           }
          ],
          "histogram": [
           {
            "marker": {
             "pattern": {
              "fillmode": "overlay",
              "size": 10,
              "solidity": 0.2
             }
            },
            "type": "histogram"
           }
          ],
          "histogram2d": [
           {
            "colorbar": {
             "outlinewidth": 0,
             "ticks": ""
            },
            "colorscale": [
             [
              0,
              "#0d0887"
             ],
             [
              0.1111111111111111,
              "#46039f"
             ],
             [
              0.2222222222222222,
              "#7201a8"
             ],
             [
              0.3333333333333333,
              "#9c179e"
             ],
             [
              0.4444444444444444,
              "#bd3786"
             ],
             [
              0.5555555555555556,
              "#d8576b"
             ],
             [
              0.6666666666666666,
              "#ed7953"
             ],
             [
              0.7777777777777778,
              "#fb9f3a"
             ],
             [
              0.8888888888888888,
              "#fdca26"
             ],
             [
              1,
              "#f0f921"
             ]
            ],
            "type": "histogram2d"
           }
          ],
          "histogram2dcontour": [
           {
            "colorbar": {
             "outlinewidth": 0,
             "ticks": ""
            },
            "colorscale": [
             [
              0,
              "#0d0887"
             ],
             [
              0.1111111111111111,
              "#46039f"
             ],
             [
              0.2222222222222222,
              "#7201a8"
             ],
             [
              0.3333333333333333,
              "#9c179e"
             ],
             [
              0.4444444444444444,
              "#bd3786"
             ],
             [
              0.5555555555555556,
              "#d8576b"
             ],
             [
              0.6666666666666666,
              "#ed7953"
             ],
             [
              0.7777777777777778,
              "#fb9f3a"
             ],
             [
              0.8888888888888888,
              "#fdca26"
             ],
             [
              1,
              "#f0f921"
             ]
            ],
            "type": "histogram2dcontour"
           }
          ],
          "mesh3d": [
           {
            "colorbar": {
             "outlinewidth": 0,
             "ticks": ""
            },
            "type": "mesh3d"
           }
          ],
          "parcoords": [
           {
            "line": {
             "colorbar": {
              "outlinewidth": 0,
              "ticks": ""
             }
            },
            "type": "parcoords"
           }
          ],
          "pie": [
           {
            "automargin": true,
            "type": "pie"
           }
          ],
          "scatter": [
           {
            "fillpattern": {
             "fillmode": "overlay",
             "size": 10,
             "solidity": 0.2
            },
            "type": "scatter"
           }
          ],
          "scatter3d": [
           {
            "line": {
             "colorbar": {
              "outlinewidth": 0,
              "ticks": ""
             }
            },
            "marker": {
             "colorbar": {
              "outlinewidth": 0,
              "ticks": ""
             }
            },
            "type": "scatter3d"
           }
          ],
          "scattercarpet": [
           {
            "marker": {
             "colorbar": {
              "outlinewidth": 0,
              "ticks": ""
             }
            },
            "type": "scattercarpet"
           }
          ],
          "scattergeo": [
           {
            "marker": {
             "colorbar": {
              "outlinewidth": 0,
              "ticks": ""
             }
            },
            "type": "scattergeo"
           }
          ],
          "scattergl": [
           {
            "marker": {
             "colorbar": {
              "outlinewidth": 0,
              "ticks": ""
             }
            },
            "type": "scattergl"
           }
          ],
          "scattermapbox": [
           {
            "marker": {
             "colorbar": {
              "outlinewidth": 0,
              "ticks": ""
             }
            },
            "type": "scattermapbox"
           }
          ],
          "scatterpolar": [
           {
            "marker": {
             "colorbar": {
              "outlinewidth": 0,
              "ticks": ""
             }
            },
            "type": "scatterpolar"
           }
          ],
          "scatterpolargl": [
           {
            "marker": {
             "colorbar": {
              "outlinewidth": 0,
              "ticks": ""
             }
            },
            "type": "scatterpolargl"
           }
          ],
          "scatterternary": [
           {
            "marker": {
             "colorbar": {
              "outlinewidth": 0,
              "ticks": ""
             }
            },
            "type": "scatterternary"
           }
          ],
          "surface": [
           {
            "colorbar": {
             "outlinewidth": 0,
             "ticks": ""
            },
            "colorscale": [
             [
              0,
              "#0d0887"
             ],
             [
              0.1111111111111111,
              "#46039f"
             ],
             [
              0.2222222222222222,
              "#7201a8"
             ],
             [
              0.3333333333333333,
              "#9c179e"
             ],
             [
              0.4444444444444444,
              "#bd3786"
             ],
             [
              0.5555555555555556,
              "#d8576b"
             ],
             [
              0.6666666666666666,
              "#ed7953"
             ],
             [
              0.7777777777777778,
              "#fb9f3a"
             ],
             [
              0.8888888888888888,
              "#fdca26"
             ],
             [
              1,
              "#f0f921"
             ]
            ],
            "type": "surface"
           }
          ],
          "table": [
           {
            "cells": {
             "fill": {
              "color": "#EBF0F8"
             },
             "line": {
              "color": "white"
             }
            },
            "header": {
             "fill": {
              "color": "#C8D4E3"
             },
             "line": {
              "color": "white"
             }
            },
            "type": "table"
           }
          ]
         },
         "layout": {
          "annotationdefaults": {
           "arrowcolor": "#2a3f5f",
           "arrowhead": 0,
           "arrowwidth": 1
          },
          "autotypenumbers": "strict",
          "coloraxis": {
           "colorbar": {
            "outlinewidth": 0,
            "ticks": ""
           }
          },
          "colorscale": {
           "diverging": [
            [
             0,
             "#8e0152"
            ],
            [
             0.1,
             "#c51b7d"
            ],
            [
             0.2,
             "#de77ae"
            ],
            [
             0.3,
             "#f1b6da"
            ],
            [
             0.4,
             "#fde0ef"
            ],
            [
             0.5,
             "#f7f7f7"
            ],
            [
             0.6,
             "#e6f5d0"
            ],
            [
             0.7,
             "#b8e186"
            ],
            [
             0.8,
             "#7fbc41"
            ],
            [
             0.9,
             "#4d9221"
            ],
            [
             1,
             "#276419"
            ]
           ],
           "sequential": [
            [
             0,
             "#0d0887"
            ],
            [
             0.1111111111111111,
             "#46039f"
            ],
            [
             0.2222222222222222,
             "#7201a8"
            ],
            [
             0.3333333333333333,
             "#9c179e"
            ],
            [
             0.4444444444444444,
             "#bd3786"
            ],
            [
             0.5555555555555556,
             "#d8576b"
            ],
            [
             0.6666666666666666,
             "#ed7953"
            ],
            [
             0.7777777777777778,
             "#fb9f3a"
            ],
            [
             0.8888888888888888,
             "#fdca26"
            ],
            [
             1,
             "#f0f921"
            ]
           ],
           "sequentialminus": [
            [
             0,
             "#0d0887"
            ],
            [
             0.1111111111111111,
             "#46039f"
            ],
            [
             0.2222222222222222,
             "#7201a8"
            ],
            [
             0.3333333333333333,
             "#9c179e"
            ],
            [
             0.4444444444444444,
             "#bd3786"
            ],
            [
             0.5555555555555556,
             "#d8576b"
            ],
            [
             0.6666666666666666,
             "#ed7953"
            ],
            [
             0.7777777777777778,
             "#fb9f3a"
            ],
            [
             0.8888888888888888,
             "#fdca26"
            ],
            [
             1,
             "#f0f921"
            ]
           ]
          },
          "colorway": [
           "#636efa",
           "#EF553B",
           "#00cc96",
           "#ab63fa",
           "#FFA15A",
           "#19d3f3",
           "#FF6692",
           "#B6E880",
           "#FF97FF",
           "#FECB52"
          ],
          "font": {
           "color": "#2a3f5f"
          },
          "geo": {
           "bgcolor": "white",
           "lakecolor": "white",
           "landcolor": "white",
           "showlakes": true,
           "showland": true,
           "subunitcolor": "#C8D4E3"
          },
          "hoverlabel": {
           "align": "left"
          },
          "hovermode": "closest",
          "mapbox": {
           "style": "light"
          },
          "paper_bgcolor": "white",
          "plot_bgcolor": "white",
          "polar": {
           "angularaxis": {
            "gridcolor": "#EBF0F8",
            "linecolor": "#EBF0F8",
            "ticks": ""
           },
           "bgcolor": "white",
           "radialaxis": {
            "gridcolor": "#EBF0F8",
            "linecolor": "#EBF0F8",
            "ticks": ""
           }
          },
          "scene": {
           "xaxis": {
            "backgroundcolor": "white",
            "gridcolor": "#DFE8F3",
            "gridwidth": 2,
            "linecolor": "#EBF0F8",
            "showbackground": true,
            "ticks": "",
            "zerolinecolor": "#EBF0F8"
           },
           "yaxis": {
            "backgroundcolor": "white",
            "gridcolor": "#DFE8F3",
            "gridwidth": 2,
            "linecolor": "#EBF0F8",
            "showbackground": true,
            "ticks": "",
            "zerolinecolor": "#EBF0F8"
           },
           "zaxis": {
            "backgroundcolor": "white",
            "gridcolor": "#DFE8F3",
            "gridwidth": 2,
            "linecolor": "#EBF0F8",
            "showbackground": true,
            "ticks": "",
            "zerolinecolor": "#EBF0F8"
           }
          },
          "shapedefaults": {
           "line": {
            "color": "#2a3f5f"
           }
          },
          "ternary": {
           "aaxis": {
            "gridcolor": "#DFE8F3",
            "linecolor": "#A2B1C6",
            "ticks": ""
           },
           "baxis": {
            "gridcolor": "#DFE8F3",
            "linecolor": "#A2B1C6",
            "ticks": ""
           },
           "bgcolor": "white",
           "caxis": {
            "gridcolor": "#DFE8F3",
            "linecolor": "#A2B1C6",
            "ticks": ""
           }
          },
          "title": {
           "x": 0.05
          },
          "xaxis": {
           "automargin": true,
           "gridcolor": "#EBF0F8",
           "linecolor": "#EBF0F8",
           "ticks": "",
           "title": {
            "standoff": 15
           },
           "zerolinecolor": "#EBF0F8",
           "zerolinewidth": 2
          },
          "yaxis": {
           "automargin": true,
           "gridcolor": "#EBF0F8",
           "linecolor": "#EBF0F8",
           "ticks": "",
           "title": {
            "standoff": 15
           },
           "zerolinecolor": "#EBF0F8",
           "zerolinewidth": 2
          }
         }
        },
        "title": {
         "font": {
          "color": "Black",
          "size": 22
         },
         "text": "Topic Word Scores",
         "x": 0.5,
         "xanchor": "center",
         "yanchor": "top"
        },
        "width": 1000,
        "xaxis": {
         "anchor": "y",
         "domain": [
          0,
          0.175
         ],
         "showgrid": true
        },
        "xaxis2": {
         "anchor": "y2",
         "domain": [
          0.275,
          0.45
         ],
         "showgrid": true
        },
        "xaxis3": {
         "anchor": "y3",
         "domain": [
          0.55,
          0.7250000000000001
         ],
         "showgrid": true
        },
        "xaxis4": {
         "anchor": "y4",
         "domain": [
          0.825,
          1
         ],
         "showgrid": true
        },
        "xaxis5": {
         "anchor": "y5",
         "domain": [
          0,
          0.175
         ],
         "showgrid": true
        },
        "xaxis6": {
         "anchor": "y6",
         "domain": [
          0.275,
          0.45
         ],
         "showgrid": true
        },
        "xaxis7": {
         "anchor": "y7",
         "domain": [
          0.55,
          0.7250000000000001
         ],
         "showgrid": true
        },
        "xaxis8": {
         "anchor": "y8",
         "domain": [
          0.825,
          1
         ],
         "showgrid": true
        },
        "yaxis": {
         "anchor": "x",
         "domain": [
          0.6000000000000001,
          1
         ],
         "showgrid": true
        },
        "yaxis2": {
         "anchor": "x2",
         "domain": [
          0.6000000000000001,
          1
         ],
         "showgrid": true
        },
        "yaxis3": {
         "anchor": "x3",
         "domain": [
          0.6000000000000001,
          1
         ],
         "showgrid": true
        },
        "yaxis4": {
         "anchor": "x4",
         "domain": [
          0.6000000000000001,
          1
         ],
         "showgrid": true
        },
        "yaxis5": {
         "anchor": "x5",
         "domain": [
          0,
          0.4
         ],
         "showgrid": true
        },
        "yaxis6": {
         "anchor": "x6",
         "domain": [
          0,
          0.4
         ],
         "showgrid": true
        },
        "yaxis7": {
         "anchor": "x7",
         "domain": [
          0,
          0.4
         ],
         "showgrid": true
        },
        "yaxis8": {
         "anchor": "x8",
         "domain": [
          0,
          0.4
         ],
         "showgrid": true
        }
       }
      },
      "text/html": [
       "<div>                            <div id=\"8ef5930b-e00d-44f6-94cb-cb59bfe6812b\" class=\"plotly-graph-div\" style=\"height:500px; width:1000px;\"></div>            <script type=\"text/javascript\">                require([\"plotly\"], function(Plotly) {                    window.PLOTLYENV=window.PLOTLYENV || {};                                    if (document.getElementById(\"8ef5930b-e00d-44f6-94cb-cb59bfe6812b\")) {                    Plotly.newPlot(                        \"8ef5930b-e00d-44f6-94cb-cb59bfe6812b\",                        [{\"marker\":{\"color\":\"#D55E00\"},\"orientation\":\"h\",\"x\":[0.03872478310332145,0.04004667898410381,0.05470225827805205,0.05587070492914319,0.09406862047565834],\"y\":[\"opinion  \",\"public  \",\"their  \",\"influence  \",\"celebrities  \"],\"type\":\"bar\",\"xaxis\":\"x\",\"yaxis\":\"y\"},{\"marker\":{\"color\":\"#0072B2\"},\"orientation\":\"h\",\"x\":[0.035460128444283354,0.038086701762040265,0.03969545196958993,0.04578188258603695,0.08633716705834024],\"y\":[\"children  \",\"parenting  \",\"thinking  \",\"mindset  \",\"positive  \"],\"type\":\"bar\",\"xaxis\":\"x2\",\"yaxis\":\"y2\"},{\"marker\":{\"color\":\"#CC79A7\"},\"orientation\":\"h\",\"x\":[0.03012153538875775,0.03475299975565585,0.036910638643974404,0.046590411928212,0.07554394675679746],\"y\":[\"effective  \",\"members  \",\"leadership  \",\"leader  \",\"team  \"],\"type\":\"bar\",\"xaxis\":\"x3\",\"yaxis\":\"y3\"},{\"marker\":{\"color\":\"#E69F00\"},\"orientation\":\"h\",\"x\":[0.042229297924009236,0.050437156914205764,0.05304247124482717,0.0533067643128521,0.08241103255449547],\"y\":[\"rapid  \",\"infrastructure  \",\"cities  \",\"urban  \",\"urbanization  \"],\"type\":\"bar\",\"xaxis\":\"x4\",\"yaxis\":\"y4\"},{\"marker\":{\"color\":\"#56B4E9\"},\"orientation\":\"h\",\"x\":[0.03422861136877496,0.03682494128026615,0.044878971554093504,0.06175715483850359,0.10678588147359376],\"y\":[\"our  \",\"artificial  \",\"deprivation  \",\"light  \",\"sleep  \"],\"type\":\"bar\",\"xaxis\":\"x5\",\"yaxis\":\"y5\"},{\"marker\":{\"color\":\"#009E73\"},\"orientation\":\"h\",\"x\":[0.04017569713768929,0.05128587063527395,0.05351137134628101,0.06479585009372002,0.07957380098252853],\"y\":[\"preferences  \",\"advertising  \",\"consumer  \",\"consumers  \",\"advertisements  \"],\"type\":\"bar\",\"xaxis\":\"x6\",\"yaxis\":\"y6\"},{\"marker\":{\"color\":\"#F0E442\"},\"orientation\":\"h\",\"x\":[0.0249323946007686,0.03319232897378778,0.03698350859853892,0.06815563919808536,0.0732448990952567],\"y\":[\"present  \",\"practices  \",\"our  \",\"mindfulness  \",\"meditation  \"],\"type\":\"bar\",\"xaxis\":\"x7\",\"yaxis\":\"y7\"},{\"marker\":{\"color\":\"#D55E00\"},\"orientation\":\"h\",\"x\":[0.027170579383820895,0.027187318552588175,0.02803967439386564,0.030896820243455393,0.08415542159090254],\"y\":[\"worklife  \",\"techniques  \",\"healthy  \",\"relaxation  \",\"stress  \"],\"type\":\"bar\",\"xaxis\":\"x8\",\"yaxis\":\"y8\"}],                        {\"template\":{\"data\":{\"barpolar\":[{\"marker\":{\"line\":{\"color\":\"white\",\"width\":0.5},\"pattern\":{\"fillmode\":\"overlay\",\"size\":10,\"solidity\":0.2}},\"type\":\"barpolar\"}],\"bar\":[{\"error_x\":{\"color\":\"#2a3f5f\"},\"error_y\":{\"color\":\"#2a3f5f\"},\"marker\":{\"line\":{\"color\":\"white\",\"width\":0.5},\"pattern\":{\"fillmode\":\"overlay\",\"size\":10,\"solidity\":0.2}},\"type\":\"bar\"}],\"carpet\":[{\"aaxis\":{\"endlinecolor\":\"#2a3f5f\",\"gridcolor\":\"#C8D4E3\",\"linecolor\":\"#C8D4E3\",\"minorgridcolor\":\"#C8D4E3\",\"startlinecolor\":\"#2a3f5f\"},\"baxis\":{\"endlinecolor\":\"#2a3f5f\",\"gridcolor\":\"#C8D4E3\",\"linecolor\":\"#C8D4E3\",\"minorgridcolor\":\"#C8D4E3\",\"startlinecolor\":\"#2a3f5f\"},\"type\":\"carpet\"}],\"choropleth\":[{\"colorbar\":{\"outlinewidth\":0,\"ticks\":\"\"},\"type\":\"choropleth\"}],\"contourcarpet\":[{\"colorbar\":{\"outlinewidth\":0,\"ticks\":\"\"},\"type\":\"contourcarpet\"}],\"contour\":[{\"colorbar\":{\"outlinewidth\":0,\"ticks\":\"\"},\"colorscale\":[[0.0,\"#0d0887\"],[0.1111111111111111,\"#46039f\"],[0.2222222222222222,\"#7201a8\"],[0.3333333333333333,\"#9c179e\"],[0.4444444444444444,\"#bd3786\"],[0.5555555555555556,\"#d8576b\"],[0.6666666666666666,\"#ed7953\"],[0.7777777777777778,\"#fb9f3a\"],[0.8888888888888888,\"#fdca26\"],[1.0,\"#f0f921\"]],\"type\":\"contour\"}],\"heatmapgl\":[{\"colorbar\":{\"outlinewidth\":0,\"ticks\":\"\"},\"colorscale\":[[0.0,\"#0d0887\"],[0.1111111111111111,\"#46039f\"],[0.2222222222222222,\"#7201a8\"],[0.3333333333333333,\"#9c179e\"],[0.4444444444444444,\"#bd3786\"],[0.5555555555555556,\"#d8576b\"],[0.6666666666666666,\"#ed7953\"],[0.7777777777777778,\"#fb9f3a\"],[0.8888888888888888,\"#fdca26\"],[1.0,\"#f0f921\"]],\"type\":\"heatmapgl\"}],\"heatmap\":[{\"colorbar\":{\"outlinewidth\":0,\"ticks\":\"\"},\"colorscale\":[[0.0,\"#0d0887\"],[0.1111111111111111,\"#46039f\"],[0.2222222222222222,\"#7201a8\"],[0.3333333333333333,\"#9c179e\"],[0.4444444444444444,\"#bd3786\"],[0.5555555555555556,\"#d8576b\"],[0.6666666666666666,\"#ed7953\"],[0.7777777777777778,\"#fb9f3a\"],[0.8888888888888888,\"#fdca26\"],[1.0,\"#f0f921\"]],\"type\":\"heatmap\"}],\"histogram2dcontour\":[{\"colorbar\":{\"outlinewidth\":0,\"ticks\":\"\"},\"colorscale\":[[0.0,\"#0d0887\"],[0.1111111111111111,\"#46039f\"],[0.2222222222222222,\"#7201a8\"],[0.3333333333333333,\"#9c179e\"],[0.4444444444444444,\"#bd3786\"],[0.5555555555555556,\"#d8576b\"],[0.6666666666666666,\"#ed7953\"],[0.7777777777777778,\"#fb9f3a\"],[0.8888888888888888,\"#fdca26\"],[1.0,\"#f0f921\"]],\"type\":\"histogram2dcontour\"}],\"histogram2d\":[{\"colorbar\":{\"outlinewidth\":0,\"ticks\":\"\"},\"colorscale\":[[0.0,\"#0d0887\"],[0.1111111111111111,\"#46039f\"],[0.2222222222222222,\"#7201a8\"],[0.3333333333333333,\"#9c179e\"],[0.4444444444444444,\"#bd3786\"],[0.5555555555555556,\"#d8576b\"],[0.6666666666666666,\"#ed7953\"],[0.7777777777777778,\"#fb9f3a\"],[0.8888888888888888,\"#fdca26\"],[1.0,\"#f0f921\"]],\"type\":\"histogram2d\"}],\"histogram\":[{\"marker\":{\"pattern\":{\"fillmode\":\"overlay\",\"size\":10,\"solidity\":0.2}},\"type\":\"histogram\"}],\"mesh3d\":[{\"colorbar\":{\"outlinewidth\":0,\"ticks\":\"\"},\"type\":\"mesh3d\"}],\"parcoords\":[{\"line\":{\"colorbar\":{\"outlinewidth\":0,\"ticks\":\"\"}},\"type\":\"parcoords\"}],\"pie\":[{\"automargin\":true,\"type\":\"pie\"}],\"scatter3d\":[{\"line\":{\"colorbar\":{\"outlinewidth\":0,\"ticks\":\"\"}},\"marker\":{\"colorbar\":{\"outlinewidth\":0,\"ticks\":\"\"}},\"type\":\"scatter3d\"}],\"scattercarpet\":[{\"marker\":{\"colorbar\":{\"outlinewidth\":0,\"ticks\":\"\"}},\"type\":\"scattercarpet\"}],\"scattergeo\":[{\"marker\":{\"colorbar\":{\"outlinewidth\":0,\"ticks\":\"\"}},\"type\":\"scattergeo\"}],\"scattergl\":[{\"marker\":{\"colorbar\":{\"outlinewidth\":0,\"ticks\":\"\"}},\"type\":\"scattergl\"}],\"scattermapbox\":[{\"marker\":{\"colorbar\":{\"outlinewidth\":0,\"ticks\":\"\"}},\"type\":\"scattermapbox\"}],\"scatterpolargl\":[{\"marker\":{\"colorbar\":{\"outlinewidth\":0,\"ticks\":\"\"}},\"type\":\"scatterpolargl\"}],\"scatterpolar\":[{\"marker\":{\"colorbar\":{\"outlinewidth\":0,\"ticks\":\"\"}},\"type\":\"scatterpolar\"}],\"scatter\":[{\"fillpattern\":{\"fillmode\":\"overlay\",\"size\":10,\"solidity\":0.2},\"type\":\"scatter\"}],\"scatterternary\":[{\"marker\":{\"colorbar\":{\"outlinewidth\":0,\"ticks\":\"\"}},\"type\":\"scatterternary\"}],\"surface\":[{\"colorbar\":{\"outlinewidth\":0,\"ticks\":\"\"},\"colorscale\":[[0.0,\"#0d0887\"],[0.1111111111111111,\"#46039f\"],[0.2222222222222222,\"#7201a8\"],[0.3333333333333333,\"#9c179e\"],[0.4444444444444444,\"#bd3786\"],[0.5555555555555556,\"#d8576b\"],[0.6666666666666666,\"#ed7953\"],[0.7777777777777778,\"#fb9f3a\"],[0.8888888888888888,\"#fdca26\"],[1.0,\"#f0f921\"]],\"type\":\"surface\"}],\"table\":[{\"cells\":{\"fill\":{\"color\":\"#EBF0F8\"},\"line\":{\"color\":\"white\"}},\"header\":{\"fill\":{\"color\":\"#C8D4E3\"},\"line\":{\"color\":\"white\"}},\"type\":\"table\"}]},\"layout\":{\"annotationdefaults\":{\"arrowcolor\":\"#2a3f5f\",\"arrowhead\":0,\"arrowwidth\":1},\"autotypenumbers\":\"strict\",\"coloraxis\":{\"colorbar\":{\"outlinewidth\":0,\"ticks\":\"\"}},\"colorscale\":{\"diverging\":[[0,\"#8e0152\"],[0.1,\"#c51b7d\"],[0.2,\"#de77ae\"],[0.3,\"#f1b6da\"],[0.4,\"#fde0ef\"],[0.5,\"#f7f7f7\"],[0.6,\"#e6f5d0\"],[0.7,\"#b8e186\"],[0.8,\"#7fbc41\"],[0.9,\"#4d9221\"],[1,\"#276419\"]],\"sequential\":[[0.0,\"#0d0887\"],[0.1111111111111111,\"#46039f\"],[0.2222222222222222,\"#7201a8\"],[0.3333333333333333,\"#9c179e\"],[0.4444444444444444,\"#bd3786\"],[0.5555555555555556,\"#d8576b\"],[0.6666666666666666,\"#ed7953\"],[0.7777777777777778,\"#fb9f3a\"],[0.8888888888888888,\"#fdca26\"],[1.0,\"#f0f921\"]],\"sequentialminus\":[[0.0,\"#0d0887\"],[0.1111111111111111,\"#46039f\"],[0.2222222222222222,\"#7201a8\"],[0.3333333333333333,\"#9c179e\"],[0.4444444444444444,\"#bd3786\"],[0.5555555555555556,\"#d8576b\"],[0.6666666666666666,\"#ed7953\"],[0.7777777777777778,\"#fb9f3a\"],[0.8888888888888888,\"#fdca26\"],[1.0,\"#f0f921\"]]},\"colorway\":[\"#636efa\",\"#EF553B\",\"#00cc96\",\"#ab63fa\",\"#FFA15A\",\"#19d3f3\",\"#FF6692\",\"#B6E880\",\"#FF97FF\",\"#FECB52\"],\"font\":{\"color\":\"#2a3f5f\"},\"geo\":{\"bgcolor\":\"white\",\"lakecolor\":\"white\",\"landcolor\":\"white\",\"showlakes\":true,\"showland\":true,\"subunitcolor\":\"#C8D4E3\"},\"hoverlabel\":{\"align\":\"left\"},\"hovermode\":\"closest\",\"mapbox\":{\"style\":\"light\"},\"paper_bgcolor\":\"white\",\"plot_bgcolor\":\"white\",\"polar\":{\"angularaxis\":{\"gridcolor\":\"#EBF0F8\",\"linecolor\":\"#EBF0F8\",\"ticks\":\"\"},\"bgcolor\":\"white\",\"radialaxis\":{\"gridcolor\":\"#EBF0F8\",\"linecolor\":\"#EBF0F8\",\"ticks\":\"\"}},\"scene\":{\"xaxis\":{\"backgroundcolor\":\"white\",\"gridcolor\":\"#DFE8F3\",\"gridwidth\":2,\"linecolor\":\"#EBF0F8\",\"showbackground\":true,\"ticks\":\"\",\"zerolinecolor\":\"#EBF0F8\"},\"yaxis\":{\"backgroundcolor\":\"white\",\"gridcolor\":\"#DFE8F3\",\"gridwidth\":2,\"linecolor\":\"#EBF0F8\",\"showbackground\":true,\"ticks\":\"\",\"zerolinecolor\":\"#EBF0F8\"},\"zaxis\":{\"backgroundcolor\":\"white\",\"gridcolor\":\"#DFE8F3\",\"gridwidth\":2,\"linecolor\":\"#EBF0F8\",\"showbackground\":true,\"ticks\":\"\",\"zerolinecolor\":\"#EBF0F8\"}},\"shapedefaults\":{\"line\":{\"color\":\"#2a3f5f\"}},\"ternary\":{\"aaxis\":{\"gridcolor\":\"#DFE8F3\",\"linecolor\":\"#A2B1C6\",\"ticks\":\"\"},\"baxis\":{\"gridcolor\":\"#DFE8F3\",\"linecolor\":\"#A2B1C6\",\"ticks\":\"\"},\"bgcolor\":\"white\",\"caxis\":{\"gridcolor\":\"#DFE8F3\",\"linecolor\":\"#A2B1C6\",\"ticks\":\"\"}},\"title\":{\"x\":0.05},\"xaxis\":{\"automargin\":true,\"gridcolor\":\"#EBF0F8\",\"linecolor\":\"#EBF0F8\",\"ticks\":\"\",\"title\":{\"standoff\":15},\"zerolinecolor\":\"#EBF0F8\",\"zerolinewidth\":2},\"yaxis\":{\"automargin\":true,\"gridcolor\":\"#EBF0F8\",\"linecolor\":\"#EBF0F8\",\"ticks\":\"\",\"title\":{\"standoff\":15},\"zerolinecolor\":\"#EBF0F8\",\"zerolinewidth\":2}}},\"xaxis\":{\"anchor\":\"y\",\"domain\":[0.0,0.175],\"showgrid\":true},\"yaxis\":{\"anchor\":\"x\",\"domain\":[0.6000000000000001,1.0],\"showgrid\":true},\"xaxis2\":{\"anchor\":\"y2\",\"domain\":[0.275,0.45],\"showgrid\":true},\"yaxis2\":{\"anchor\":\"x2\",\"domain\":[0.6000000000000001,1.0],\"showgrid\":true},\"xaxis3\":{\"anchor\":\"y3\",\"domain\":[0.55,0.7250000000000001],\"showgrid\":true},\"yaxis3\":{\"anchor\":\"x3\",\"domain\":[0.6000000000000001,1.0],\"showgrid\":true},\"xaxis4\":{\"anchor\":\"y4\",\"domain\":[0.825,1.0],\"showgrid\":true},\"yaxis4\":{\"anchor\":\"x4\",\"domain\":[0.6000000000000001,1.0],\"showgrid\":true},\"xaxis5\":{\"anchor\":\"y5\",\"domain\":[0.0,0.175],\"showgrid\":true},\"yaxis5\":{\"anchor\":\"x5\",\"domain\":[0.0,0.4],\"showgrid\":true},\"xaxis6\":{\"anchor\":\"y6\",\"domain\":[0.275,0.45],\"showgrid\":true},\"yaxis6\":{\"anchor\":\"x6\",\"domain\":[0.0,0.4],\"showgrid\":true},\"xaxis7\":{\"anchor\":\"y7\",\"domain\":[0.55,0.7250000000000001],\"showgrid\":true},\"yaxis7\":{\"anchor\":\"x7\",\"domain\":[0.0,0.4],\"showgrid\":true},\"xaxis8\":{\"anchor\":\"y8\",\"domain\":[0.825,1.0],\"showgrid\":true},\"yaxis8\":{\"anchor\":\"x8\",\"domain\":[0.0,0.4],\"showgrid\":true},\"annotations\":[{\"font\":{\"size\":16},\"showarrow\":false,\"text\":\"Topic 0\",\"x\":0.0875,\"xanchor\":\"center\",\"xref\":\"paper\",\"y\":1.0,\"yanchor\":\"bottom\",\"yref\":\"paper\"},{\"font\":{\"size\":16},\"showarrow\":false,\"text\":\"Topic 1\",\"x\":0.36250000000000004,\"xanchor\":\"center\",\"xref\":\"paper\",\"y\":1.0,\"yanchor\":\"bottom\",\"yref\":\"paper\"},{\"font\":{\"size\":16},\"showarrow\":false,\"text\":\"Topic 2\",\"x\":0.6375000000000001,\"xanchor\":\"center\",\"xref\":\"paper\",\"y\":1.0,\"yanchor\":\"bottom\",\"yref\":\"paper\"},{\"font\":{\"size\":16},\"showarrow\":false,\"text\":\"Topic 3\",\"x\":0.9125,\"xanchor\":\"center\",\"xref\":\"paper\",\"y\":1.0,\"yanchor\":\"bottom\",\"yref\":\"paper\"},{\"font\":{\"size\":16},\"showarrow\":false,\"text\":\"Topic 4\",\"x\":0.0875,\"xanchor\":\"center\",\"xref\":\"paper\",\"y\":0.4,\"yanchor\":\"bottom\",\"yref\":\"paper\"},{\"font\":{\"size\":16},\"showarrow\":false,\"text\":\"Topic 5\",\"x\":0.36250000000000004,\"xanchor\":\"center\",\"xref\":\"paper\",\"y\":0.4,\"yanchor\":\"bottom\",\"yref\":\"paper\"},{\"font\":{\"size\":16},\"showarrow\":false,\"text\":\"Topic 6\",\"x\":0.6375000000000001,\"xanchor\":\"center\",\"xref\":\"paper\",\"y\":0.4,\"yanchor\":\"bottom\",\"yref\":\"paper\"},{\"font\":{\"size\":16},\"showarrow\":false,\"text\":\"Topic 7\",\"x\":0.9125,\"xanchor\":\"center\",\"xref\":\"paper\",\"y\":0.4,\"yanchor\":\"bottom\",\"yref\":\"paper\"}],\"title\":{\"font\":{\"size\":22,\"color\":\"Black\"},\"text\":\"Topic Word Scores\",\"x\":0.5,\"xanchor\":\"center\",\"yanchor\":\"top\"},\"hoverlabel\":{\"font\":{\"size\":16,\"family\":\"Rockwell\"},\"bgcolor\":\"white\"},\"showlegend\":false,\"width\":1000,\"height\":500},                        {\"responsive\": true}                    ).then(function(){\n",
       "                            \n",
       "var gd = document.getElementById('8ef5930b-e00d-44f6-94cb-cb59bfe6812b');\n",
       "var x = new MutationObserver(function (mutations, observer) {{\n",
       "        var display = window.getComputedStyle(gd).display;\n",
       "        if (!display || display === 'none') {{\n",
       "            console.log([gd, 'removed!']);\n",
       "            Plotly.purge(gd);\n",
       "            observer.disconnect();\n",
       "        }}\n",
       "}});\n",
       "\n",
       "// Listen for the removal of the full notebook cells\n",
       "var notebookContainer = gd.closest('#notebook-container');\n",
       "if (notebookContainer) {{\n",
       "    x.observe(notebookContainer, {childList: true});\n",
       "}}\n",
       "\n",
       "// Listen for the clearing of the current output cell\n",
       "var outputEl = gd.closest('.output');\n",
       "if (outputEl) {{\n",
       "    x.observe(outputEl, {childList: true});\n",
       "}}\n",
       "\n",
       "                        })                };                });            </script>        </div>"
      ]
     },
     "metadata": {},
     "output_type": "display_data"
    }
   ],
   "source": [
    "topic_model.visualize_barchart()"
   ]
  },
  {
   "cell_type": "code",
   "execution_count": 60,
   "metadata": {},
   "outputs": [
    {
     "data": {
      "application/vnd.plotly.v1+json": {
       "config": {
        "plotlyServerURL": "https://plot.ly"
       },
       "data": [
        {
         "coloraxis": "coloraxis",
         "hovertemplate": "x: %{x}<br>y: %{y}<br>Similarity Score: %{z}<extra></extra>",
         "name": "0",
         "type": "heatmap",
         "x": [
          "0_celebrities_influence_their",
          "1_positive_mindset_thinking",
          "2_team_leader_leadership",
          "3_urbanization_urban_cities",
          "4_sleep_light_deprivation",
          "5_advertisements_consumers_...",
          "6_meditation_mindfulness_our",
          "7_stress_relaxation_healthy",
          "8_tasks_time_your",
          "9_cultural_diversity_language",
          "10_conflicts_conflict_workp...",
          "11_communication_person_sta...",
          "12_checkups_health_regular",
          "13_exercise_regular_weight",
          "14_climate_change_temperatu...",
          "15_plastic_conservation_pol...",
          "16_media_social_has",
          "17_financial_expenses_your",
          "18_study_studying_material",
          "19_audience_your_presentation",
          "20_television_gender_popular",
          "21_exercise_mental_activity",
          "22_creative_hobbies_our",
          "23_project_projects_managem...",
          "24_checkups_health_regular",
          "25_volunteering_communities...",
          "26_reading_books_book",
          "27_education_individuals_em...",
          "28_media_mass_behavior",
          "29_eating_food_mindful",
          "30_ecommerce_online_conveni...",
          "31_sites_networking_privacy",
          "32_balance_work_personal",
          "33_fashion_fast_clothing",
          "34_decision_decisionmaking_...",
          "35_inequality_social_opport...",
          "36_goals_goal_setting",
          "37_conflict_conflicts_resol...",
          "38_culture_pop_popular",
          "39_technology_has_way",
          "40_resilience_times_you",
          "41_music_emotions_mood",
          "42_games_video_gaming",
          "43_nature_outdoor_activities",
          "44_yoga_practice_spiritual",
          "45_marketing_media_brand",
          "46_ai_algorithms_data",
          "47_threats_cybersecurity_cy...",
          "48_technology_students_lear...",
          "49_financial_literacy_debt",
          "50_diet_balanced_foods",
          "51_mental_health_awareness"
         ],
         "xaxis": "x",
         "y": [
          "0_celebrities_influence_their",
          "1_positive_mindset_thinking",
          "2_team_leader_leadership",
          "3_urbanization_urban_cities",
          "4_sleep_light_deprivation",
          "5_advertisements_consumers_...",
          "6_meditation_mindfulness_our",
          "7_stress_relaxation_healthy",
          "8_tasks_time_your",
          "9_cultural_diversity_language",
          "10_conflicts_conflict_workp...",
          "11_communication_person_sta...",
          "12_checkups_health_regular",
          "13_exercise_regular_weight",
          "14_climate_change_temperatu...",
          "15_plastic_conservation_pol...",
          "16_media_social_has",
          "17_financial_expenses_your",
          "18_study_studying_material",
          "19_audience_your_presentation",
          "20_television_gender_popular",
          "21_exercise_mental_activity",
          "22_creative_hobbies_our",
          "23_project_projects_managem...",
          "24_checkups_health_regular",
          "25_volunteering_communities...",
          "26_reading_books_book",
          "27_education_individuals_em...",
          "28_media_mass_behavior",
          "29_eating_food_mindful",
          "30_ecommerce_online_conveni...",
          "31_sites_networking_privacy",
          "32_balance_work_personal",
          "33_fashion_fast_clothing",
          "34_decision_decisionmaking_...",
          "35_inequality_social_opport...",
          "36_goals_goal_setting",
          "37_conflict_conflicts_resol...",
          "38_culture_pop_popular",
          "39_technology_has_way",
          "40_resilience_times_you",
          "41_music_emotions_mood",
          "42_games_video_gaming",
          "43_nature_outdoor_activities",
          "44_yoga_practice_spiritual",
          "45_marketing_media_brand",
          "46_ai_algorithms_data",
          "47_threats_cybersecurity_cy...",
          "48_technology_students_lear...",
          "49_financial_literacy_debt",
          "50_diet_balanced_foods",
          "51_mental_health_awareness"
         ],
         "yaxis": "y",
         "z": [
          [
           0.9999997019767761,
           0.2196400761604309,
           0.22907805442810059,
           0.20541507005691528,
           0.08752316236495972,
           0.513139545917511,
           0.11858116090297699,
           0.11435256898403168,
           0.09809110313653946,
           0.16468408703804016,
           0.16697774827480316,
           0.07482791692018509,
           0.12422813475131989,
           0.12278665602207184,
           0.23359271883964539,
           0.25282344222068787,
           0.3699032664299011,
           0.13809458911418915,
           0.04665951803326607,
           0.2530704736709595,
           0.6487439870834351,
           0.07886024564504623,
           0.30377674102783203,
           0.1347677856683731,
           0.11514246463775635,
           0.22408291697502136,
           0.15567731857299805,
           0.24372413754463196,
           0.6301419734954834,
           0.1233796775341034,
           0.25571736693382263,
           0.35292375087738037,
           0.11413700133562088,
           0.39937782287597656,
           0.1456460952758789,
           0.1620759814977646,
           0.17833980917930603,
           0.11163325607776642,
           0.7482104301452637,
           0.11418803036212921,
           0.10341610759496689,
           0.19018054008483887,
           0.18151909112930298,
           0.1517951339483261,
           0.12325763702392578,
           0.5531467795372009,
           0.0788147896528244,
           0.23886452615261078,
           0.1165468767285347,
           0.14595109224319458,
           0.16806912422180176,
           0.26775622367858887
          ],
          [
           0.2196400761604309,
           1,
           0.3951031565666199,
           0.11902053654193878,
           0.23578573763370514,
           0.313264936208725,
           0.5918533802032471,
           0.49234849214553833,
           0.2800489366054535,
           0.377951979637146,
           0.32038459181785583,
           0.36377060413360596,
           0.3614029884338379,
           0.4106633961200714,
           0.1935523897409439,
           0.2334999144077301,
           0.36768394708633423,
           0.275182843208313,
           0.19693928956985474,
           0.201255202293396,
           0.2721526622772217,
           0.43141746520996094,
           0.5383681058883667,
           0.24687077105045319,
           0.31909820437431335,
           0.5015518069267273,
           0.33300742506980896,
           0.4810221195220947,
           0.22784435749053955,
           0.443838894367218,
           0.12275364995002747,
           0.25951310992240906,
           0.4050440490245819,
           0.05829859897494316,
           0.32704779505729675,
           0.293112576007843,
           0.33750298619270325,
           0.34852662682533264,
           0.20636993646621704,
           0.13882261514663696,
           0.588294267654419,
           0.41621291637420654,
           0.34269043803215027,
           0.44308608770370483,
           0.46385371685028076,
           0.26380231976509094,
           0.125432550907135,
           0.18749414384365082,
           0.13857623934745789,
           0.27139022946357727,
           0.34460949897766113,
           0.5845541954040527
          ],
          [
           0.22907805442810059,
           0.3951031565666199,
           0.9999998807907104,
           0.06342722475528717,
           0.07738807052373886,
           0.1727336049079895,
           0.3466532230377197,
           0.3958170711994171,
           0.448158860206604,
           0.3221213221549988,
           0.5431591272354126,
           0.5412300229072571,
           0.16889074444770813,
           0.18474474549293518,
           0.12295649945735931,
           0.1738601177930832,
           0.13530564308166504,
           0.31733888387680054,
           0.349944531917572,
           0.454738050699234,
           0.17456194758415222,
           0.15072192251682281,
           0.26167115569114685,
           0.6774991750717163,
           0.15540215373039246,
           0.3857206702232361,
           0.2348235696554184,
           0.37077438831329346,
           0.13096760213375092,
           0.23061440885066986,
           0.07489098608493805,
           0.18097397685050964,
           0.3907334506511688,
           0.03270154073834419,
           0.37172943353652954,
           0.08765086531639099,
           0.41383224725723267,
           0.42813965678215027,
           0.13925543427467346,
           0.0989939495921135,
           0.4048916697502136,
           0.1409076452255249,
           0.2782118022441864,
           0.1792442500591278,
           0.2097400426864624,
           0.2530701160430908,
           0.04505918174982071,
           0.10121497511863708,
           0.1230606883764267,
           0.20704641938209534,
           0.30990463495254517,
           0.28477171063423157
          ],
          [
           0.20541507005691528,
           0.11902053654193878,
           0.06342722475528717,
           0.9999996423721313,
           0.18700484931468964,
           0.11078201979398727,
           0.1477009356021881,
           0.12111980468034744,
           0.12597741186618805,
           0.16427427530288696,
           0.030270462855696678,
           0.01934252306818962,
           0.07681550085544586,
           0.1372818648815155,
           0.46661731600761414,
           0.48979562520980835,
           0.1571161448955536,
           0.14667922258377075,
           0.07978057861328125,
           0.06332126259803772,
           0.21220597624778748,
           0.10740926861763,
           0.09454189240932465,
           0.1073986291885376,
           0.10041362047195435,
           0.1991666853427887,
           0.1110558733344078,
           0.23198357224464417,
           0.23708316683769226,
           0.08977501094341278,
           0.16280920803546906,
           0.15892404317855835,
           0.1107778400182724,
           0.369428813457489,
           0.1818017065525055,
           0.31714722514152527,
           0.15335680544376373,
           0.012201822362840176,
           0.21028798818588257,
           0.1253223717212677,
           0.14909854531288147,
           0.08147630095481873,
           0.14938944578170776,
           0.2919124662876129,
           0.11844421923160553,
           0.08761486411094666,
           0.16858725249767303,
           0.19553609192371368,
           0.1194838285446167,
           0.10681766271591187,
           0.17452678084373474,
           0.14864209294319153
          ],
          [
           0.08752316236495972,
           0.23578573763370514,
           0.07738807052373886,
           0.18700484931468964,
           0.9999999403953552,
           0.09402883052825928,
           0.403960645198822,
           0.3833976089954376,
           0.3367660641670227,
           0.1323142647743225,
           0.0538661889731884,
           0.06724845618009567,
           0.2607775926589966,
           0.38497263193130493,
           0.2230740338563919,
           0.20203974843025208,
           0.2430519163608551,
           0.16234144568443298,
           0.33957526087760925,
           0.008797421120107174,
           0.19249586760997772,
           0.4620116949081421,
           0.28169015049934387,
           0.09222541004419327,
           0.22443437576293945,
           0.17461621761322021,
           0.30683180689811707,
           0.14046795666217804,
           0.1440548598766327,
           0.2580118179321289,
           0.14499840140342712,
           0.20827391743659973,
           0.3284946382045746,
           0.18606555461883545,
           0.23436743021011353,
           0.2038838118314743,
           0.13200950622558594,
           0.019378816708922386,
           0.11943262815475464,
           0.20233352482318878,
           0.3507220149040222,
           0.32073789834976196,
           0.26753947138786316,
           0.41744372248649597,
           0.3144376873970032,
           0.062463607639074326,
           0.1736820936203003,
           0.2125537395477295,
           0.21453091502189636,
           0.15930959582328796,
           0.2708238959312439,
           0.2540273070335388
          ],
          [
           0.513139545917511,
           0.313264936208725,
           0.1727336049079895,
           0.11078201979398727,
           0.09402883052825928,
           1.000000238418579,
           0.13097426295280457,
           0.06208471581339836,
           0.11682942509651184,
           0.26966825127601624,
           0.0616581067442894,
           0.14996881783008575,
           0.20239056646823883,
           0.12916748225688934,
           0.13042497634887695,
           0.16703133285045624,
           0.34855926036834717,
           0.18585613369941711,
           0.0907634049654007,
           0.26095470786094666,
           0.5318515300750732,
           0.05564583092927933,
           0.3619120121002197,
           0.07855432480573654,
           0.15554353594779968,
           0.2916213572025299,
           0.2067059725522995,
           0.2875688076019287,
           0.5936658382415771,
           0.2942417562007904,
           0.45403414964675903,
           0.37643349170684814,
           0.10867635160684586,
           0.20804449915885925,
           0.24809050559997559,
           0.11486269533634186,
           0.22591015696525574,
           0.054550886154174805,
           0.5086866021156311,
           0.18398471176624298,
           0.07685835659503937,
           0.21183735132217407,
           0.3032071590423584,
           0.19574648141860962,
           0.15168920159339905,
           0.7171182632446289,
           0.20936453342437744,
           0.26762428879737854,
           0.1954697072505951,
           0.2611348628997803,
           0.19248390197753906,
           0.3001072406768799
          ],
          [
           0.11858116090297699,
           0.5918533802032471,
           0.3466532230377197,
           0.1477009356021881,
           0.403960645198822,
           0.13097426295280457,
           1.0000001192092896,
           0.7460154294967651,
           0.4298534691333771,
           0.35759982466697693,
           0.3023013472557068,
           0.36677777767181396,
           0.35753902792930603,
           0.567668080329895,
           0.18775683641433716,
           0.2744714915752411,
           0.298417866230011,
           0.25443941354751587,
           0.42962390184402466,
           0.25200462341308594,
           0.1466885805130005,
           0.6291748881340027,
           0.5869894027709961,
           0.24440130591392517,
           0.3440299332141876,
           0.45027250051498413,
           0.4868570864200592,
           0.30779457092285156,
           0.12178774178028107,
           0.5994844436645508,
           0.12553654611110687,
           0.23722723126411438,
           0.5125062465667725,
           0.10010587424039841,
           0.29526323080062866,
           0.1566058099269867,
           0.2533602714538574,
           0.31167060136795044,
           0.13336516916751862,
           0.21260777115821838,
           0.5928211212158203,
           0.5383366346359253,
           0.3018842339515686,
           0.6233941316604614,
           0.695339560508728,
           0.10200443863868713,
           0.07070200145244598,
           0.08472660183906555,
           0.17908482253551483,
           0.19789576530456543,
           0.39506450295448303,
           0.5292280912399292
          ],
          [
           0.11435256898403168,
           0.49234849214553833,
           0.3958170711994171,
           0.12111980468034744,
           0.3833976089954376,
           0.06208471581339836,
           0.7460154294967651,
           0.9999997019767761,
           0.6627200841903687,
           0.24528884887695312,
           0.452772319316864,
           0.36697492003440857,
           0.3650124669075012,
           0.48382240533828735,
           0.1822987049818039,
           0.23909947276115417,
           0.254564106464386,
           0.4633009731769562,
           0.5190578103065491,
           0.22767499089241028,
           0.11220315098762512,
           0.5173444747924805,
           0.5047814846038818,
           0.4147288203239441,
           0.3465155363082886,
           0.33572980761528015,
           0.40868473052978516,
           0.21050599217414856,
           0.06434551626443863,
           0.4044609069824219,
           0.06783190369606018,
           0.15690593421459198,
           0.7488626837730408,
           0.13847985863685608,
           0.3778040111064911,
           0.09600003063678741,
           0.3691795766353607,
           0.4009668827056885,
           0.1306723803281784,
           0.14254800975322723,
           0.8093147873878479,
           0.3740077018737793,
           0.22211042046546936,
           0.4669577181339264,
           0.5348337888717651,
           0.061344001442193985,
           0.09443913400173187,
           0.08079107850790024,
           0.08461594581604004,
           0.242783784866333,
           0.42012181878089905,
           0.43970245122909546
          ],
          [
           0.09809110313653946,
           0.2800489366054535,
           0.448158860206604,
           0.12597741186618805,
           0.3367660641670227,
           0.11682942509651184,
           0.4298534691333771,
           0.6627200841903687,
           0.9999999403953552,
           0.2042330503463745,
           0.37086373567581177,
           0.22885408997535706,
           0.2800062596797943,
           0.34733760356903076,
           0.1472969949245453,
           0.20548608899116516,
           0.12827974557876587,
           0.5471026301383972,
           0.6272758841514587,
           0.25341248512268066,
           0.09630125761032104,
           0.3259861469268799,
           0.378738671541214,
           0.5660908222198486,
           0.263012170791626,
           0.2599494457244873,
           0.3438465893268585,
           0.23491421341896057,
           0.08107998967170715,
           0.3521483540534973,
           0.15368852019309998,
           0.12304238975048065,
           0.7073774933815002,
           0.18320026993751526,
           0.5175601840019226,
           0.06409583985805511,
           0.5575588345527649,
           0.2367449849843979,
           0.10561218857765198,
           0.19204850494861603,
           0.5722994804382324,
           0.1472359001636505,
           0.2573941946029663,
           0.3189941644668579,
           0.26654958724975586,
           0.08397823572158813,
           0.18691009283065796,
           0.05949597805738449,
           0.2111099660396576,
           0.3088454008102417,
           0.33724021911621094,
           0.22650191187858582
          ],
          [
           0.16468408703804016,
           0.377951979637146,
           0.3221213221549988,
           0.16427427530288696,
           0.1323142647743225,
           0.26966825127601624,
           0.35759982466697693,
           0.24528884887695312,
           0.2042330503463745,
           1,
           0.27438148856163025,
           0.2322697639465332,
           0.08709448575973511,
           0.24553707242012024,
           0.195816308259964,
           0.2552854120731354,
           0.2738323211669922,
           0.15344785153865814,
           0.23435905575752258,
           0.17051294445991516,
           0.3477843999862671,
           0.22317636013031006,
           0.4750820994377136,
           0.16241514682769775,
           0.07765726000070572,
           0.40188753604888916,
           0.427590012550354,
           0.5078059434890747,
           0.25710776448249817,
           0.28288790583610535,
           0.26930341124534607,
           0.2643970847129822,
           0.22619011998176575,
           0.0933779776096344,
           0.26398468017578125,
           0.22033250331878662,
           0.16959115862846375,
           0.20278798043727875,
           0.3595515787601471,
           0.1466471552848816,
           0.21875542402267456,
           0.27720075845718384,
           0.3325100541114807,
           0.3102268576622009,
           0.32748734951019287,
           0.264151006937027,
           0.06388482451438904,
           0.1175413429737091,
           0.28608787059783936,
           0.2867891192436218,
           0.24699486792087555,
           0.29197871685028076
          ],
          [
           0.16697774827480316,
           0.32038459181785583,
           0.5431591272354126,
           0.030270462855696678,
           0.0538661889731884,
           0.0616581067442894,
           0.3023013472557068,
           0.452772319316864,
           0.37086373567581177,
           0.27438148856163025,
           1,
           0.54497230052948,
           0.05493985861539841,
           0.05489354208111763,
           0.21431183815002441,
           0.1722169816493988,
           0.18535834550857544,
           0.26826152205467224,
           0.2720189690589905,
           0.28761017322540283,
           0.11231200397014618,
           0.08553506433963776,
           0.23959380388259888,
           0.4674718379974365,
           0.05103940889239311,
           0.16950680315494537,
           0.14953944087028503,
           0.18780922889709473,
           0.09991267323493958,
           0.13322462141513824,
           0.027240591123700142,
           0.12211204320192337,
           0.3763832449913025,
           -0.020876148715615273,
           0.34848499298095703,
           0.07845324277877808,
           0.21655994653701782,
           0.8563237190246582,
           0.10545314103364944,
           0.039142709225416183,
           0.3909847140312195,
           0.1630813181400299,
           0.17279952764511108,
           0.09450553357601166,
           0.13125087320804596,
           0.11132751405239105,
           0.020376082509756088,
           0.10522376000881195,
           0.04408511891961098,
           0.09281948208808899,
           0.19808301329612732,
           0.2262255698442459
          ],
          [
           0.07482791692018509,
           0.36377060413360596,
           0.5412300229072571,
           0.01934252306818962,
           0.06724845618009567,
           0.14996881783008575,
           0.36677777767181396,
           0.36697492003440857,
           0.22885408997535706,
           0.2322697639465332,
           0.54497230052948,
           1,
           0.08690815418958664,
           0.12046094238758087,
           0.12205614149570465,
           0.1181751936674118,
           0.36417433619499207,
           0.25777125358581543,
           0.30477964878082275,
           0.548374593257904,
           0.14778992533683777,
           0.12928971648216248,
           0.263916015625,
           0.3598548173904419,
           0.08234108984470367,
           0.1913760006427765,
           0.22710877656936646,
           0.1961348056793213,
           0.1071871742606163,
           0.21116049587726593,
           0.031794145703315735,
           0.33086061477661133,
           0.3122583031654358,
           -0.05829782783985138,
           0.2545274794101715,
           0.03685557469725609,
           0.19365499913692474,
           0.6943503618240356,
           0.0664074569940567,
           0.1636696457862854,
           0.39462849497795105,
           0.19483909010887146,
           0.2671349048614502,
           0.16658294200897217,
           0.21433107554912567,
           0.2356163114309311,
           0.01173965260386467,
           0.09885959327220917,
           0.0802234336733818,
           0.18672174215316772,
           0.16799089312553406,
           0.2812980115413666
          ],
          [
           0.12422813475131989,
           0.3614029884338379,
           0.16889074444770813,
           0.07681550085544586,
           0.2607775926589966,
           0.20239056646823883,
           0.35753902792930603,
           0.3650124669075012,
           0.2800062596797943,
           0.08709448575973511,
           0.05493985861539841,
           0.08690815418958664,
           1.0000001192092896,
           0.4478718936443329,
           0.11253656446933746,
           0.14140503108501434,
           0.14021596312522888,
           0.26186949014663696,
           0.20482459664344788,
           0.0747622475028038,
           0.14819617569446564,
           0.3598405420780182,
           0.22129836678504944,
           0.13181574642658234,
           0.9525713920593262,
           0.23310285806655884,
           0.20182427763938904,
           0.1722206026315689,
           0.08344841748476028,
           0.3058444857597351,
           0.16535063087940216,
           0.18361110985279083,
           0.3639886975288391,
           0.10814942419528961,
           0.22535589337348938,
           0.20687618851661682,
           0.27201011776924133,
           0.02905949577689171,
           0.09184025228023529,
           0.287317156791687,
           0.31267714500427246,
           0.14652080833911896,
           0.13786332309246063,
           0.34656667709350586,
           0.3423267602920532,
           0.11453529447317123,
           0.2888917922973633,
           0.18867814540863037,
           0.08473378419876099,
           0.2184763103723526,
           0.382689893245697,
           0.4388241171836853
          ],
          [
           0.12278665602207184,
           0.4106633961200714,
           0.18474474549293518,
           0.1372818648815155,
           0.38497263193130493,
           0.12916748225688934,
           0.567668080329895,
           0.48382240533828735,
           0.34733760356903076,
           0.24553707242012024,
           0.05489354208111763,
           0.12046094238758087,
           0.4478718936443329,
           1.0000001192092896,
           0.16545836627483368,
           0.27234551310539246,
           0.2295902967453003,
           0.2169709950685501,
           0.28658950328826904,
           0.07061132788658142,
           0.16255494952201843,
           0.9049891829490662,
           0.46074020862579346,
           0.17387712001800537,
           0.4895923137664795,
           0.36649179458618164,
           0.36590293049812317,
           0.23961688578128815,
           0.14424185454845428,
           0.4528470039367676,
           0.08595085144042969,
           0.19274310767650604,
           0.4505663216114044,
           0.11365702748298645,
           0.19797739386558533,
           0.14572280645370483,
           0.3754120469093323,
           0.037048667669296265,
           0.15494024753570557,
           0.14703068137168884,
           0.3887070417404175,
           0.40279996395111084,
           0.3230434060096741,
           0.6837420463562012,
           0.6583608984947205,
           0.09686113148927689,
           0.11821609735488892,
           0.10845541954040527,
           0.08631709218025208,
           0.193789541721344,
           0.5983610153198242,
           0.40030935406684875
          ],
          [
           0.23359271883964539,
           0.1935523897409439,
           0.12295649945735931,
           0.46661731600761414,
           0.2230740338563919,
           0.13042497634887695,
           0.18775683641433716,
           0.1822987049818039,
           0.1472969949245453,
           0.195816308259964,
           0.21431183815002441,
           0.12205614149570465,
           0.11253656446933746,
           0.16545836627483368,
           0.9999999403953552,
           0.6237654685974121,
           0.196834996342659,
           0.13830046355724335,
           0.08665880560874939,
           0.10895776748657227,
           0.20620197057724,
           0.1370079666376114,
           0.19568857550621033,
           0.15367978811264038,
           0.09461851418018341,
           0.2030848264694214,
           0.20124974846839905,
           0.22431671619415283,
           0.19003532826900482,
           0.12697897851467133,
           0.10302818566560745,
           0.17060266435146332,
           0.10712788254022598,
           0.25827211141586304,
           0.12098804861307144,
           0.22037547826766968,
           0.1582750380039215,
           0.1567976027727127,
           0.17713001370429993,
           0.10906851291656494,
           0.19110755622386932,
           0.19071060419082642,
           0.19754548370838165,
           0.3279843330383301,
           0.13441601395606995,
           0.11004231870174408,
           0.07486843317747116,
           0.28511565923690796,
           0.17011785507202148,
           0.1351383924484253,
           0.21590495109558105,
           0.1889640986919403
          ],
          [
           0.25282344222068787,
           0.2334999144077301,
           0.1738601177930832,
           0.48979562520980835,
           0.20203974843025208,
           0.16703133285045624,
           0.2744714915752411,
           0.23909947276115417,
           0.20548608899116516,
           0.2552854120731354,
           0.1722169816493988,
           0.1181751936674118,
           0.14140503108501434,
           0.27234551310539246,
           0.6237654685974121,
           0.9999999403953552,
           0.16330298781394958,
           0.2439100444316864,
           0.22912873327732086,
           0.10897226631641388,
           0.17413821816444397,
           0.22575441002845764,
           0.2876144051551819,
           0.21393197774887085,
           0.13995006680488586,
           0.238088920712471,
           0.20578451454639435,
           0.244874507188797,
           0.19916178286075592,
           0.21164090931415558,
           0.13727068901062012,
           0.1436787098646164,
           0.17352917790412903,
           0.44802021980285645,
           0.23759786784648895,
           0.1326478272676468,
           0.18096452951431274,
           0.13380379974842072,
           0.1701120138168335,
           0.06006374955177307,
           0.18717056512832642,
           0.2020895630121231,
           0.18807007372379303,
           0.4465768039226532,
           0.23346629738807678,
           0.13021957874298096,
           0.05192910134792328,
           0.19091078639030457,
           0.1737363487482071,
           0.16984900832176208,
           0.3126027584075928,
           0.22058771550655365
          ],
          [
           0.3699032664299011,
           0.36768394708633423,
           0.13530564308166504,
           0.1571161448955536,
           0.2430519163608551,
           0.34855926036834717,
           0.298417866230011,
           0.254564106464386,
           0.12827974557876587,
           0.2738323211669922,
           0.18535834550857544,
           0.36417433619499207,
           0.14021596312522888,
           0.2295902967453003,
           0.196834996342659,
           0.16330298781394958,
           1.000000238418579,
           0.11065677553415298,
           0.09624234586954117,
           0.09672947973012924,
           0.4628896713256836,
           0.255729615688324,
           0.4052055776119232,
           0.006876298692077398,
           0.11162184178829193,
           0.3360697627067566,
           0.27593082189559937,
           0.2507309913635254,
           0.5494139194488525,
           0.20490914583206177,
           0.2964015007019043,
           0.8068629503250122,
           0.24198687076568604,
           0.10256659984588623,
           0.07868198305368423,
           0.23826298117637634,
           0.05927912890911102,
           0.30183660984039307,
           0.4029807448387146,
           0.38577425479888916,
           0.2621152400970459,
           0.2965458631515503,
           0.4385877549648285,
           0.3101443648338318,
           0.2303473949432373,
           0.6009836196899414,
           0.12185230851173401,
           0.33670204877853394,
           0.2672542333602905,
           0.13627567887306213,
           0.15256759524345398,
           0.39021050930023193
          ],
          [
           0.13809458911418915,
           0.275182843208313,
           0.31733888387680054,
           0.14667922258377075,
           0.16234144568443298,
           0.18585613369941711,
           0.25443941354751587,
           0.4633009731769562,
           0.5471026301383972,
           0.15344785153865814,
           0.26826152205467224,
           0.25777125358581543,
           0.26186949014663696,
           0.2169709950685501,
           0.13830046355724335,
           0.2439100444316864,
           0.11065677553415298,
           1,
           0.5177346467971802,
           0.21940100193023682,
           0.13595916330814362,
           0.10973790287971497,
           0.20723101496696472,
           0.4914531707763672,
           0.2401709258556366,
           0.1661342978477478,
           0.226534903049469,
           0.23002399504184723,
           0.1040152981877327,
           0.23074296116828918,
           0.18149788677692413,
           0.15729951858520508,
           0.47157052159309387,
           0.1467493772506714,
           0.4397214353084564,
           0.07732663303613663,
           0.5328773856163025,
           0.20279881358146667,
           0.13411565124988556,
           0.08123733103275299,
           0.44343629479408264,
           0.063944011926651,
           0.1518586128950119,
           0.12459929287433624,
           0.1844756007194519,
           0.14401346445083618,
           0.26385563611984253,
           0.21808937191963196,
           0.135640487074852,
           0.6998876333236694,
           0.28122368454933167,
           0.21524938941001892
          ],
          [
           0.04665951803326607,
           0.19693928956985474,
           0.349944531917572,
           0.07978057861328125,
           0.33957526087760925,
           0.0907634049654007,
           0.42962390184402466,
           0.5190578103065491,
           0.6272758841514587,
           0.23435905575752258,
           0.2720189690589905,
           0.30477964878082275,
           0.20482459664344788,
           0.28658950328826904,
           0.08665880560874939,
           0.22912873327732086,
           0.09624234586954117,
           0.5177346467971802,
           1.0000001192092896,
           0.33326634764671326,
           0.07567740976810455,
           0.26124048233032227,
           0.3191286325454712,
           0.4237862229347229,
           0.19931328296661377,
           0.2029283493757248,
           0.5442720651626587,
           0.28936076164245605,
           0.06469141691923141,
           0.3105771541595459,
           0.1723511815071106,
           0.09101183712482452,
           0.4932805895805359,
           0.1178203821182251,
           0.45130130648612976,
           0.039070744067430496,
           0.3319230079650879,
           0.20098766684532166,
           0.08118689060211182,
           0.11078184843063354,
           0.45296692848205566,
           0.18157337605953217,
           0.2259637713432312,
           0.27968767285346985,
           0.2692742347717285,
           0.047862179577350616,
           0.06156966835260391,
           0.09675566852092743,
           0.3618607819080353,
           0.40409570932388306,
           0.2706177234649658,
           0.1352027803659439
          ],
          [
           0.2530704736709595,
           0.201255202293396,
           0.454738050699234,
           0.06332126259803772,
           0.008797421120107174,
           0.26095470786094666,
           0.25200462341308594,
           0.22767499089241028,
           0.25341248512268066,
           0.17051294445991516,
           0.28761017322540283,
           0.548374593257904,
           0.0747622475028038,
           0.07061132788658142,
           0.10895776748657227,
           0.10897226631641388,
           0.09672947973012924,
           0.21940100193023682,
           0.33326634764671326,
           0.9999998807907104,
           0.2359919399023056,
           0.06930683553218842,
           0.19759376347064972,
           0.3893507122993469,
           0.055987220257520676,
           0.16998718678951263,
           0.18254253268241882,
           0.19524845480918884,
           0.2790549695491791,
           0.1258227825164795,
           0.05024123564362526,
           0.17048457264900208,
           0.18252605199813843,
           -0.010014012455940247,
           0.2161792665719986,
           0.06987816095352173,
           0.25833722949028015,
           0.29489120841026306,
           0.21217015385627747,
           0.09110350161790848,
           0.2661097049713135,
           0.10144025832414627,
           0.12962673604488373,
           0.08432565629482269,
           0.20157918334007263,
           0.2399115115404129,
           -0.014984600245952606,
           0.08482931554317474,
           0.15071317553520203,
           0.15712770819664001,
           0.1294274926185608,
           0.2796512246131897
          ],
          [
           0.6487439870834351,
           0.2721526622772217,
           0.17456194758415222,
           0.21220597624778748,
           0.19249586760997772,
           0.5318515300750732,
           0.1466885805130005,
           0.11220315098762512,
           0.09630125761032104,
           0.3477843999862671,
           0.11231200397014618,
           0.14778992533683777,
           0.14819617569446564,
           0.16255494952201843,
           0.20620197057724,
           0.17413821816444397,
           0.4628896713256836,
           0.13595916330814362,
           0.07567740976810455,
           0.2359919399023056,
           1.000000238418579,
           0.13088007271289825,
           0.33273398876190186,
           0.019991273060441017,
           0.12208761274814606,
           0.2590414583683014,
           0.26451539993286133,
           0.30272477865219116,
           0.7028889060020447,
           0.17634013295173645,
           0.2528270483016968,
           0.39594197273254395,
           0.16993728280067444,
           0.2511748969554901,
           0.16221082210540771,
           0.23176422715187073,
           0.1677398979663849,
           0.10115799307823181,
           0.7752160429954529,
           0.1884462833404541,
           0.1358831226825714,
           0.18853282928466797,
           0.38422685861587524,
           0.16981905698776245,
           0.1457667350769043,
           0.4833212196826935,
           0.15948861837387085,
           0.2523350715637207,
           0.1887974888086319,
           0.22445055842399597,
           0.1839054822921753,
           0.28273409605026245
          ],
          [
           0.07886024564504623,
           0.43141746520996094,
           0.15072192251682281,
           0.10740926861763,
           0.4620116949081421,
           0.05564583092927933,
           0.6291748881340027,
           0.5173444747924805,
           0.3259861469268799,
           0.22317636013031006,
           0.08553506433963776,
           0.12928971648216248,
           0.3598405420780182,
           0.9049891829490662,
           0.1370079666376114,
           0.22575441002845764,
           0.255729615688324,
           0.10973790287971497,
           0.26124048233032227,
           0.06930683553218842,
           0.13088007271289825,
           1,
           0.4881950616836548,
           0.13887757062911987,
           0.3976181149482727,
           0.34595465660095215,
           0.3548111915588379,
           0.1990475058555603,
           0.12611937522888184,
           0.4374026358127594,
           0.06643861532211304,
           0.1779569387435913,
           0.398412823677063,
           0.08652851730585098,
           0.17746438086032867,
           0.11657273769378662,
           0.27065926790237427,
           0.07977493852376938,
           0.11605611443519592,
           0.15071174502372742,
           0.3961413502693176,
           0.486757755279541,
           0.35483551025390625,
           0.6990303993225098,
           0.6481916904449463,
           0.05232087895274162,
           0.09163953363895416,
           0.10444875061511993,
           0.08803119510412216,
           0.10365131497383118,
           0.42529797554016113,
           0.4428558051586151
          ],
          [
           0.30377674102783203,
           0.5383681058883667,
           0.26167115569114685,
           0.09454189240932465,
           0.28169015049934387,
           0.3619120121002197,
           0.5869894027709961,
           0.5047814846038818,
           0.378738671541214,
           0.4750820994377136,
           0.23959380388259888,
           0.263916015625,
           0.22129836678504944,
           0.46074020862579346,
           0.19568857550621033,
           0.2876144051551819,
           0.4052055776119232,
           0.20723101496696472,
           0.3191286325454712,
           0.19759376347064972,
           0.33273398876190186,
           0.4881950616836548,
           1.000000238418579,
           0.21731382608413696,
           0.2043505758047104,
           0.5255481004714966,
           0.5340455770492554,
           0.4018285870552063,
           0.291353702545166,
           0.4229466915130615,
           0.20191359519958496,
           0.3420138955116272,
           0.44808194041252136,
           0.14107923209667206,
           0.3116564154624939,
           0.12120026350021362,
           0.27846717834472656,
           0.24123814702033997,
           0.3653640151023865,
           0.2105894833803177,
           0.4608379602432251,
           0.5538426637649536,
           0.4569573700428009,
           0.5733190774917603,
           0.45997628569602966,
           0.290228009223938,
           0.08952410519123077,
           0.15137463808059692,
           0.2770252525806427,
           0.2866836190223694,
           0.2818037271499634,
           0.43817952275276184
          ],
          [
           0.1347677856683731,
           0.24687077105045319,
           0.6774991750717163,
           0.1073986291885376,
           0.09222541004419327,
           0.07855432480573654,
           0.24440130591392517,
           0.4147288203239441,
           0.5660908222198486,
           0.16241514682769775,
           0.4674718379974365,
           0.3598548173904419,
           0.13181574642658234,
           0.17387712001800537,
           0.15367978811264038,
           0.21393197774887085,
           0.006876298692077398,
           0.4914531707763672,
           0.4237862229347229,
           0.3893507122993469,
           0.019991273060441017,
           0.13887757062911987,
           0.21731382608413696,
           1,
           0.11961448192596436,
           0.16179226338863373,
           0.13293948769569397,
           0.21422363817691803,
           0.06476132571697235,
           0.20134074985980988,
           0.00927911326289177,
           0.05166444182395935,
           0.3610040545463562,
           0.06293769925832748,
           0.45114943385124207,
           -0.052686531096696854,
           0.5448989868164062,
           0.32951968908309937,
           0.058558039367198944,
           0.02319744974374771,
           0.37552663683891296,
           0.059890490025281906,
           0.15217657387256622,
           0.11221504211425781,
           0.16070815920829773,
           0.10330013185739517,
           0.022927168756723404,
           0.1040736585855484,
           0.05491273105144501,
           0.28444528579711914,
           0.2565041780471802,
           0.2137373685836792
          ],
          [
           0.11514246463775635,
           0.31909820437431335,
           0.15540215373039246,
           0.10041362047195435,
           0.22443437576293945,
           0.15554353594779968,
           0.3440299332141876,
           0.3465155363082886,
           0.263012170791626,
           0.07765726000070572,
           0.05103940889239311,
           0.08234108984470367,
           0.9525713920593262,
           0.4895923137664795,
           0.09461851418018341,
           0.13995006680488586,
           0.11162184178829193,
           0.2401709258556366,
           0.19931328296661377,
           0.055987220257520676,
           0.12208761274814606,
           0.3976181149482727,
           0.2043505758047104,
           0.11961448192596436,
           1.000000238418579,
           0.2284049391746521,
           0.19360703229904175,
           0.13994738459587097,
           0.052298836410045624,
           0.3011709153652191,
           0.16318181157112122,
           0.1679266095161438,
           0.3326830267906189,
           0.0941164493560791,
           0.20486822724342346,
           0.16502296924591064,
           0.2561136484146118,
           0.03256267309188843,
           0.07546750456094742,
           0.27568942308425903,
           0.27462270855903625,
           0.14076663553714752,
           0.12896721065044403,
           0.3602673411369324,
           0.3579293489456177,
           0.07890264689922333,
           0.251615434885025,
           0.15449051558971405,
           0.08470939099788666,
           0.1867465078830719,
           0.3561408519744873,
           0.386028528213501
          ],
          [
           0.22408291697502136,
           0.5015518069267273,
           0.3857206702232361,
           0.1991666853427887,
           0.17461621761322021,
           0.2916213572025299,
           0.45027250051498413,
           0.33572980761528015,
           0.2599494457244873,
           0.40188753604888916,
           0.16950680315494537,
           0.1913760006427765,
           0.23310285806655884,
           0.36649179458618164,
           0.2030848264694214,
           0.238088920712471,
           0.3360697627067566,
           0.1661342978477478,
           0.2029283493757248,
           0.16998718678951263,
           0.2590414583683014,
           0.34595465660095215,
           0.5255481004714966,
           0.16179226338863373,
           0.2284049391746521,
           1,
           0.36096084117889404,
           0.422578364610672,
           0.20738738775253296,
           0.30164602398872375,
           0.1467772275209427,
           0.27138587832450867,
           0.367548406124115,
           0.07087041437625885,
           0.18318605422973633,
           0.2968994975090027,
           0.24266281723976135,
           0.16593800485134125,
           0.18715906143188477,
           0.13527582585811615,
           0.40081310272216797,
           0.3532256782054901,
           0.3412989675998688,
           0.48934152722358704,
           0.4162590801715851,
           0.2299671620130539,
           0.0660402774810791,
           0.07683783024549484,
           0.20246779918670654,
           0.23477789759635925,
           0.28623807430267334,
           0.4278941750526428
          ],
          [
           0.15567731857299805,
           0.33300742506980896,
           0.2348235696554184,
           0.1110558733344078,
           0.30683180689811707,
           0.2067059725522995,
           0.4868570864200592,
           0.40868473052978516,
           0.3438465893268585,
           0.427590012550354,
           0.14953944087028503,
           0.22710877656936646,
           0.20182427763938904,
           0.36590293049812317,
           0.20124974846839905,
           0.20578451454639435,
           0.27593082189559937,
           0.226534903049469,
           0.5442720651626587,
           0.18254253268241882,
           0.26451539993286133,
           0.3548111915588379,
           0.5340455770492554,
           0.13293948769569397,
           0.19360703229904175,
           0.36096084117889404,
           0.9999998807907104,
           0.3711250424385071,
           0.21208709478378296,
           0.41820186376571655,
           0.25125741958618164,
           0.21587121486663818,
           0.32356351613998413,
           0.06485850363969803,
           0.2533597946166992,
           0.1027032658457756,
           0.1892579048871994,
           0.12291637063026428,
           0.2368336319923401,
           0.20110593736171722,
           0.37047427892684937,
           0.35562118887901306,
           0.3974301815032959,
           0.44276535511016846,
           0.3597266674041748,
           0.16468475759029388,
           0.0982835590839386,
           0.14187385141849518,
           0.39333516359329224,
           0.4059845209121704,
           0.3034060597419739,
           0.27207016944885254
          ],
          [
           0.24372413754463196,
           0.4810221195220947,
           0.37077438831329346,
           0.23198357224464417,
           0.14046795666217804,
           0.2875688076019287,
           0.30779457092285156,
           0.21050599217414856,
           0.23491421341896057,
           0.5078059434890747,
           0.18780922889709473,
           0.1961348056793213,
           0.1722206026315689,
           0.23961688578128815,
           0.22431671619415283,
           0.244874507188797,
           0.2507309913635254,
           0.23002399504184723,
           0.28936076164245605,
           0.19524845480918884,
           0.30272477865219116,
           0.1990475058555603,
           0.4018285870552063,
           0.21422363817691803,
           0.13994738459587097,
           0.422578364610672,
           0.3711250424385071,
           0.9999998211860657,
           0.26962220668792725,
           0.23509898781776428,
           0.18959027528762817,
           0.24782675504684448,
           0.23765510320663452,
           0.04814647510647774,
           0.34729650616645813,
           0.45476463437080383,
           0.29804056882858276,
           0.15388430655002594,
           0.2574237287044525,
           0.2206277847290039,
           0.2948000133037567,
           0.19873419404029846,
           0.3662374019622803,
           0.22791580855846405,
           0.23044294118881226,
           0.29371216893196106,
           0.13566114008426666,
           0.22626301646232605,
           0.4948338270187378,
           0.43774938583374023,
           0.25657379627227783,
           0.3595619797706604
          ],
          [
           0.6301419734954834,
           0.22784435749053955,
           0.13096760213375092,
           0.23708316683769226,
           0.1440548598766327,
           0.5936658382415771,
           0.12178774178028107,
           0.06434551626443863,
           0.08107998967170715,
           0.25710776448249817,
           0.09991267323493958,
           0.1071871742606163,
           0.08344841748476028,
           0.14424185454845428,
           0.19003532826900482,
           0.19916178286075592,
           0.5494139194488525,
           0.1040152981877327,
           0.06469141691923141,
           0.2790549695491791,
           0.7028889060020447,
           0.12611937522888184,
           0.291353702545166,
           0.06476132571697235,
           0.052298836410045624,
           0.20738738775253296,
           0.21208709478378296,
           0.26962220668792725,
           0.9999998807907104,
           0.19611185789108276,
           0.36246946454048157,
           0.48171883821487427,
           0.05619591847062111,
           0.22375720739364624,
           0.1310422420501709,
           0.15122482180595398,
           0.09371798485517502,
           0.06252306699752808,
           0.7053766250610352,
           0.22141525149345398,
           0.0584111213684082,
           0.28875279426574707,
           0.35098958015441895,
           0.16469106078147888,
           0.11177130788564682,
           0.6479054093360901,
           0.10335370898246765,
           0.29385390877723694,
           0.2307528257369995,
           0.16374900937080383,
           0.1572931706905365,
           0.24500355124473572
          ],
          [
           0.1233796775341034,
           0.443838894367218,
           0.23061440885066986,
           0.08977501094341278,
           0.2580118179321289,
           0.2942417562007904,
           0.5994844436645508,
           0.4044609069824219,
           0.3521483540534973,
           0.28288790583610535,
           0.13322462141513824,
           0.21116049587726593,
           0.3058444857597351,
           0.4528470039367676,
           0.12697897851467133,
           0.21164090931415558,
           0.20490914583206177,
           0.23074296116828918,
           0.3105771541595459,
           0.1258227825164795,
           0.17634013295173645,
           0.4374026358127594,
           0.4229466915130615,
           0.20134074985980988,
           0.3011709153652191,
           0.30164602398872375,
           0.41820186376571655,
           0.23509898781776428,
           0.19611185789108276,
           1.0000001192092896,
           0.16912493109703064,
           0.17606131732463837,
           0.3523787260055542,
           0.11565275490283966,
           0.24427485466003418,
           0.045084405690431595,
           0.2806129455566406,
           0.1473945677280426,
           0.14907220005989075,
           0.08428415656089783,
           0.3193548917770386,
           0.34471070766448975,
           0.3302571773529053,
           0.45579707622528076,
           0.3919558823108673,
           0.17673611640930176,
           0.05927065387368202,
           0.05094391480088234,
           0.12958072125911713,
           0.23359856009483337,
           0.5000808238983154,
           0.3497242331504822
          ],
          [
           0.25571736693382263,
           0.12275364995002747,
           0.07489098608493805,
           0.16280920803546906,
           0.14499840140342712,
           0.45403414964675903,
           0.12553654611110687,
           0.06783190369606018,
           0.15368852019309998,
           0.26930341124534607,
           0.027240591123700142,
           0.031794145703315735,
           0.16535063087940216,
           0.08595085144042969,
           0.10302818566560745,
           0.13727068901062012,
           0.2964015007019043,
           0.18149788677692413,
           0.1723511815071106,
           0.05024123564362526,
           0.2528270483016968,
           0.06643861532211304,
           0.20191359519958496,
           0.00927911326289177,
           0.16318181157112122,
           0.1467772275209427,
           0.25125741958618164,
           0.18959027528762817,
           0.36246946454048157,
           0.16912493109703064,
           1,
           0.33766454458236694,
           0.13167598843574524,
           0.3114573657512665,
           0.17573487758636475,
           0.09807181358337402,
           0.08068212866783142,
           -0.032193005084991455,
           0.3058679699897766,
           0.36408865451812744,
           0.04463322460651398,
           0.11317293345928192,
           0.2902594804763794,
           0.2009933441877365,
           0.1267211139202118,
           0.451581209897995,
           0.23618361353874207,
           0.3381059765815735,
           0.4209640622138977,
           0.18827958405017853,
           0.11999969929456711,
           0.11878345161676407
          ],
          [
           0.35292375087738037,
           0.25951310992240906,
           0.18097397685050964,
           0.15892404317855835,
           0.20827391743659973,
           0.37643349170684814,
           0.23722723126411438,
           0.15690593421459198,
           0.12304238975048065,
           0.2643970847129822,
           0.12211204320192337,
           0.33086061477661133,
           0.18361110985279083,
           0.19274310767650604,
           0.17060266435146332,
           0.1436787098646164,
           0.8068629503250122,
           0.15729951858520508,
           0.09101183712482452,
           0.17048457264900208,
           0.39594197273254395,
           0.1779569387435913,
           0.3420138955116272,
           0.05166444182395935,
           0.1679266095161438,
           0.27138587832450867,
           0.21587121486663818,
           0.24782675504684448,
           0.48171883821487427,
           0.17606131732463837,
           0.33766454458236694,
           1.0000001192092896,
           0.1743876338005066,
           0.07388170063495636,
           0.1142851859331131,
           0.2070314884185791,
           0.09477191418409348,
           0.19187459349632263,
           0.3519529700279236,
           0.44834545254707336,
           0.137587308883667,
           0.15217070281505585,
           0.38718181848526,
           0.25105270743370056,
           0.19690176844596863,
           0.6383249163627625,
           0.16143453121185303,
           0.43779975175857544,
           0.3589971661567688,
           0.18229155242443085,
           0.10998240858316422,
           0.3144147992134094
          ],
          [
           0.11413700133562088,
           0.4050440490245819,
           0.3907334506511688,
           0.1107778400182724,
           0.3284946382045746,
           0.10867635160684586,
           0.5125062465667725,
           0.7488626837730408,
           0.7073774933815002,
           0.22619011998176575,
           0.3763832449913025,
           0.3122583031654358,
           0.3639886975288391,
           0.4505663216114044,
           0.10712788254022598,
           0.17352917790412903,
           0.24198687076568604,
           0.47157052159309387,
           0.4932805895805359,
           0.18252605199813843,
           0.16993728280067444,
           0.398412823677063,
           0.44808194041252136,
           0.3610040545463562,
           0.3326830267906189,
           0.367548406124115,
           0.32356351613998413,
           0.23765510320663452,
           0.05619591847062111,
           0.3523787260055542,
           0.13167598843574524,
           0.1743876338005066,
           0.9999998807907104,
           0.14667260646820068,
           0.4506832957267761,
           0.2317844182252884,
           0.48311692476272583,
           0.340562105178833,
           0.14087043702602386,
           0.1794133484363556,
           0.693757951259613,
           0.22412991523742676,
           0.22792617976665497,
           0.3898851275444031,
           0.3946076035499573,
           0.08570152521133423,
           0.15853041410446167,
           0.0615052655339241,
           0.11074302345514297,
           0.26270052790641785,
           0.5261606574058533,
           0.28685200214385986
          ],
          [
           0.39937782287597656,
           0.05829859897494316,
           0.03270154073834419,
           0.369428813457489,
           0.18606555461883545,
           0.20804449915885925,
           0.10010587424039841,
           0.13847985863685608,
           0.18320026993751526,
           0.0933779776096344,
           -0.020876148715615273,
           -0.05829782783985138,
           0.10814942419528961,
           0.11365702748298645,
           0.25827211141586304,
           0.44802021980285645,
           0.10256659984588623,
           0.1467493772506714,
           0.1178203821182251,
           -0.010014012455940247,
           0.2511748969554901,
           0.08652851730585098,
           0.14107923209667206,
           0.06293769925832748,
           0.0941164493560791,
           0.07087041437625885,
           0.06485850363969803,
           0.04814647510647774,
           0.22375720739364624,
           0.11565275490283966,
           0.3114573657512665,
           0.07388170063495636,
           0.14667260646820068,
           1,
           0.1284637451171875,
           0.10322882235050201,
           0.14193524420261383,
           -0.08322812616825104,
           0.36161088943481445,
           0.0456494577229023,
           0.09602946043014526,
           0.0624191015958786,
           0.00708976574242115,
           0.20864135026931763,
           0.10897215455770493,
           0.15586955845355988,
           0.13821303844451904,
           0.18641743063926697,
           0.07421208918094635,
           0.06818675994873047,
           0.12921042740345,
           0.0860164612531662
          ],
          [
           0.1456460952758789,
           0.32704779505729675,
           0.37172943353652954,
           0.1818017065525055,
           0.23436743021011353,
           0.24809050559997559,
           0.29526323080062866,
           0.3778040111064911,
           0.5175601840019226,
           0.26398468017578125,
           0.34848499298095703,
           0.2545274794101715,
           0.22535589337348938,
           0.19797739386558533,
           0.12098804861307144,
           0.23759786784648895,
           0.07868198305368423,
           0.4397214353084564,
           0.45130130648612976,
           0.2161792665719986,
           0.16221082210540771,
           0.17746438086032867,
           0.3116564154624939,
           0.45114943385124207,
           0.20486822724342346,
           0.18318605422973633,
           0.2533597946166992,
           0.34729650616645813,
           0.1310422420501709,
           0.24427485466003418,
           0.17573487758636475,
           0.1142851859331131,
           0.4506832957267761,
           0.1284637451171875,
           0.9999999403953552,
           0.1251610517501831,
           0.5203635096549988,
           0.2929372191429138,
           0.11732268333435059,
           0.15950587391853333,
           0.39283287525177,
           0.0896846354007721,
           0.20275989174842834,
           0.19798940420150757,
           0.16453847289085388,
           0.14022386074066162,
           0.21355120837688446,
           0.13160943984985352,
           0.12416970729827881,
           0.4168175458908081,
           0.25366368889808655,
           0.22231075167655945
          ],
          [
           0.1620759814977646,
           0.293112576007843,
           0.08765086531639099,
           0.31714722514152527,
           0.2038838118314743,
           0.11486269533634186,
           0.1566058099269867,
           0.09600003063678741,
           0.06409583985805511,
           0.22033250331878662,
           0.07845324277877808,
           0.03685557469725609,
           0.20687618851661682,
           0.14572280645370483,
           0.22037547826766968,
           0.1326478272676468,
           0.23826298117637634,
           0.07732663303613663,
           0.039070744067430496,
           0.06987816095352173,
           0.23176422715187073,
           0.11657273769378662,
           0.12120026350021362,
           -0.052686531096696854,
           0.16502296924591064,
           0.2968994975090027,
           0.1027032658457756,
           0.45476463437080383,
           0.15122482180595398,
           0.045084405690431595,
           0.09807181358337402,
           0.2070314884185791,
           0.2317844182252884,
           0.10322882235050201,
           0.1251610517501831,
           0.9999998807907104,
           0.13111692667007446,
           0.07614415884017944,
           0.14458663761615753,
           0.24209657311439514,
           0.2086736559867859,
           0.08783674240112305,
           0.1716100573539734,
           0.18601420521736145,
           0.11044622957706451,
           0.09949753433465958,
           0.14896410703659058,
           0.19227808713912964,
           0.24928736686706543,
           0.16322150826454163,
           0.20944175124168396,
           0.31481388211250305
          ],
          [
           0.17833980917930603,
           0.33750298619270325,
           0.41383224725723267,
           0.15335680544376373,
           0.13200950622558594,
           0.22591015696525574,
           0.2533602714538574,
           0.3691795766353607,
           0.5575588345527649,
           0.16959115862846375,
           0.21655994653701782,
           0.19365499913692474,
           0.27201011776924133,
           0.3754120469093323,
           0.1582750380039215,
           0.18096452951431274,
           0.05927912890911102,
           0.5328773856163025,
           0.3319230079650879,
           0.25833722949028015,
           0.1677398979663849,
           0.27065926790237427,
           0.27846717834472656,
           0.5448989868164062,
           0.2561136484146118,
           0.24266281723976135,
           0.1892579048871994,
           0.29804056882858276,
           0.09371798485517502,
           0.2806129455566406,
           0.08068212866783142,
           0.09477191418409348,
           0.48311692476272583,
           0.14193524420261383,
           0.5203635096549988,
           0.13111692667007446,
           1,
           0.17736242711544037,
           0.12076320499181747,
           0.07287132740020752,
           0.45977783203125,
           0.07220067083835602,
           0.14516876637935638,
           0.19707313179969788,
           0.2069561630487442,
           0.1483459770679474,
           0.20009712874889374,
           0.10552051663398743,
           0.045260775834321976,
           0.3871234059333801,
           0.3242000639438629,
           0.2839873433113098
          ],
          [
           0.11163325607776642,
           0.34852662682533264,
           0.42813965678215027,
           0.012201822362840176,
           0.019378816708922386,
           0.054550886154174805,
           0.31167060136795044,
           0.4009668827056885,
           0.2367449849843979,
           0.20278798043727875,
           0.8563237190246582,
           0.6943503618240356,
           0.02905949577689171,
           0.037048667669296265,
           0.1567976027727127,
           0.13380379974842072,
           0.30183660984039307,
           0.20279881358146667,
           0.20098766684532166,
           0.29489120841026306,
           0.10115799307823181,
           0.07977493852376938,
           0.24123814702033997,
           0.32951968908309937,
           0.03256267309188843,
           0.16593800485134125,
           0.12291637063026428,
           0.15388430655002594,
           0.06252306699752808,
           0.1473945677280426,
           -0.032193005084991455,
           0.19187459349632263,
           0.340562105178833,
           -0.08322812616825104,
           0.2929372191429138,
           0.07614415884017944,
           0.17736242711544037,
           0.9999997615814209,
           0.03867108374834061,
           0.043400589376688004,
           0.4109688401222229,
           0.1734534502029419,
           0.19223785400390625,
           0.09724763035774231,
           0.14310720562934875,
           0.12013465166091919,
           -0.041976649314165115,
           0.06064866855740547,
           -0.0049900151789188385,
           0.07489512860774994,
           0.14039847254753113,
           0.24046561121940613
          ],
          [
           0.7482104301452637,
           0.20636993646621704,
           0.13925543427467346,
           0.21028798818588257,
           0.11943262815475464,
           0.5086866021156311,
           0.13336516916751862,
           0.1306723803281784,
           0.10561218857765198,
           0.3595515787601471,
           0.10545314103364944,
           0.0664074569940567,
           0.09184025228023529,
           0.15494024753570557,
           0.17713001370429993,
           0.1701120138168335,
           0.4029807448387146,
           0.13411565124988556,
           0.08118689060211182,
           0.21217015385627747,
           0.7752160429954529,
           0.11605611443519592,
           0.3653640151023865,
           0.058558039367198944,
           0.07546750456094742,
           0.18715906143188477,
           0.2368336319923401,
           0.2574237287044525,
           0.7053766250610352,
           0.14907220005989075,
           0.3058679699897766,
           0.3519529700279236,
           0.14087043702602386,
           0.36161088943481445,
           0.11732268333435059,
           0.14458663761615753,
           0.12076320499181747,
           0.03867108374834061,
           1.0000001192092896,
           0.15363621711730957,
           0.13489140570163727,
           0.3000694513320923,
           0.3062783479690552,
           0.17953845858573914,
           0.15075801312923431,
           0.4984368085861206,
           0.07324954867362976,
           0.2245086133480072,
           0.14426961541175842,
           0.1610453724861145,
           0.140770822763443,
           0.24737969040870667
          ],
          [
           0.11418803036212921,
           0.13882261514663696,
           0.0989939495921135,
           0.1253223717212677,
           0.20233352482318878,
           0.18398471176624298,
           0.21260777115821838,
           0.14254800975322723,
           0.19204850494861603,
           0.1466471552848816,
           0.039142709225416183,
           0.1636696457862854,
           0.287317156791687,
           0.14703068137168884,
           0.10906851291656494,
           0.06006374955177307,
           0.38577425479888916,
           0.08123733103275299,
           0.11078184843063354,
           0.09110350161790848,
           0.1884462833404541,
           0.15071174502372742,
           0.2105894833803177,
           0.02319744974374771,
           0.27568942308425903,
           0.13527582585811615,
           0.20110593736171722,
           0.2206277847290039,
           0.22141525149345398,
           0.08428415656089783,
           0.36408865451812744,
           0.44834545254707336,
           0.1794133484363556,
           0.0456494577229023,
           0.15950587391853333,
           0.24209657311439514,
           0.07287132740020752,
           0.043400589376688004,
           0.15363621711730957,
           1.000000238418579,
           0.12000009417533875,
           0.11455807089805603,
           0.22678160667419434,
           0.26012736558914185,
           0.18268677592277527,
           0.2712956666946411,
           0.42187631130218506,
           0.28555750846862793,
           0.5009098052978516,
           0.1240135133266449,
           0.06703846901655197,
           0.1957937479019165
          ],
          [
           0.10341610759496689,
           0.588294267654419,
           0.4048916697502136,
           0.14909854531288147,
           0.3507220149040222,
           0.07685835659503937,
           0.5928211212158203,
           0.8093147873878479,
           0.5722994804382324,
           0.21875542402267456,
           0.3909847140312195,
           0.39462849497795105,
           0.31267714500427246,
           0.3887070417404175,
           0.19110755622386932,
           0.18717056512832642,
           0.2621152400970459,
           0.44343629479408264,
           0.45296692848205566,
           0.2661097049713135,
           0.1358831226825714,
           0.3961413502693176,
           0.4608379602432251,
           0.37552663683891296,
           0.27462270855903625,
           0.40081310272216797,
           0.37047427892684937,
           0.2948000133037567,
           0.0584111213684082,
           0.3193548917770386,
           0.04463322460651398,
           0.137587308883667,
           0.693757951259613,
           0.09602946043014526,
           0.39283287525177,
           0.2086736559867859,
           0.45977783203125,
           0.4109688401222229,
           0.13489140570163727,
           0.12000009417533875,
           0.9999999403953552,
           0.32742828130722046,
           0.2290371060371399,
           0.4157390892505646,
           0.405500590801239,
           0.07022963464260101,
           0.10478393733501434,
           0.14608633518218994,
           0.0931222140789032,
           0.27792707085609436,
           0.363744854927063,
           0.47197258472442627
          ],
          [
           0.19018054008483887,
           0.41621291637420654,
           0.1409076452255249,
           0.08147630095481873,
           0.32073789834976196,
           0.21183735132217407,
           0.5383366346359253,
           0.3740077018737793,
           0.1472359001636505,
           0.27720075845718384,
           0.1630813181400299,
           0.19483909010887146,
           0.14652080833911896,
           0.40279996395111084,
           0.19071060419082642,
           0.2020895630121231,
           0.2965458631515503,
           0.063944011926651,
           0.18157337605953217,
           0.10144025832414627,
           0.18853282928466797,
           0.486757755279541,
           0.5538426637649536,
           0.059890490025281906,
           0.14076663553714752,
           0.3532256782054901,
           0.35562118887901306,
           0.19873419404029846,
           0.28875279426574707,
           0.34471070766448975,
           0.11317293345928192,
           0.15217070281505585,
           0.22412991523742676,
           0.0624191015958786,
           0.0896846354007721,
           0.08783674240112305,
           0.07220067083835602,
           0.1734534502029419,
           0.3000694513320923,
           0.11455807089805603,
           0.32742828130722046,
           0.9999999403953552,
           0.27716392278671265,
           0.5052590370178223,
           0.40877023339271545,
           0.1370638906955719,
           0.036361485719680786,
           0.1114741712808609,
           0.08373726904392242,
           0.08588942140340805,
           0.2892695963382721,
           0.3841339647769928
          ],
          [
           0.18151909112930298,
           0.34269043803215027,
           0.2782118022441864,
           0.14938944578170776,
           0.26753947138786316,
           0.3032071590423584,
           0.3018842339515686,
           0.22211042046546936,
           0.2573941946029663,
           0.3325100541114807,
           0.17279952764511108,
           0.2671349048614502,
           0.13786332309246063,
           0.3230434060096741,
           0.19754548370838165,
           0.18807007372379303,
           0.4385877549648285,
           0.1518586128950119,
           0.2259637713432312,
           0.12962673604488373,
           0.38422685861587524,
           0.35483551025390625,
           0.4569573700428009,
           0.15217657387256622,
           0.12896721065044403,
           0.3412989675998688,
           0.3974301815032959,
           0.3662374019622803,
           0.35098958015441895,
           0.3302571773529053,
           0.2902594804763794,
           0.38718181848526,
           0.22792617976665497,
           0.00708976574242115,
           0.20275989174842834,
           0.1716100573539734,
           0.14516876637935638,
           0.19223785400390625,
           0.3062783479690552,
           0.22678160667419434,
           0.2290371060371399,
           0.27716392278671265,
           1,
           0.38213908672332764,
           0.23078542947769165,
           0.3159649968147278,
           0.1404939591884613,
           0.2697717547416687,
           0.40017127990722656,
           0.2625884413719177,
           0.20253869891166687,
           0.3072039484977722
          ],
          [
           0.1517951339483261,
           0.44308608770370483,
           0.1792442500591278,
           0.2919124662876129,
           0.41744372248649597,
           0.19574648141860962,
           0.6233941316604614,
           0.4669577181339264,
           0.3189941644668579,
           0.3102268576622009,
           0.09450553357601166,
           0.16658294200897217,
           0.34656667709350586,
           0.6837420463562012,
           0.3279843330383301,
           0.4465768039226532,
           0.3101443648338318,
           0.12459929287433624,
           0.27968767285346985,
           0.08432565629482269,
           0.16981905698776245,
           0.6990303993225098,
           0.5733190774917603,
           0.11221504211425781,
           0.3602673411369324,
           0.48934152722358704,
           0.44276535511016846,
           0.22791580855846405,
           0.16469106078147888,
           0.45579707622528076,
           0.2009933441877365,
           0.25105270743370056,
           0.3898851275444031,
           0.20864135026931763,
           0.19798940420150757,
           0.18601420521736145,
           0.19707313179969788,
           0.09724763035774231,
           0.17953845858573914,
           0.26012736558914185,
           0.4157390892505646,
           0.5052590370178223,
           0.38213908672332764,
           1.0000003576278687,
           0.5703165531158447,
           0.12145653367042542,
           0.05944380164146423,
           0.12165024876594543,
           0.1966627687215805,
           0.13320358097553253,
           0.423536479473114,
           0.4212723970413208
          ],
          [
           0.12325763702392578,
           0.46385371685028076,
           0.2097400426864624,
           0.11844421923160553,
           0.3144376873970032,
           0.15168920159339905,
           0.695339560508728,
           0.5348337888717651,
           0.26654958724975586,
           0.32748734951019287,
           0.13125087320804596,
           0.21433107554912567,
           0.3423267602920532,
           0.6583608984947205,
           0.13441601395606995,
           0.23346629738807678,
           0.2303473949432373,
           0.1844756007194519,
           0.2692742347717285,
           0.20157918334007263,
           0.1457667350769043,
           0.6481916904449463,
           0.45997628569602966,
           0.16070815920829773,
           0.3579293489456177,
           0.4162590801715851,
           0.3597266674041748,
           0.23044294118881226,
           0.11177130788564682,
           0.3919558823108673,
           0.1267211139202118,
           0.19690176844596863,
           0.3946076035499573,
           0.10897215455770493,
           0.16453847289085388,
           0.11044622957706451,
           0.2069561630487442,
           0.14310720562934875,
           0.15075801312923431,
           0.18268677592277527,
           0.405500590801239,
           0.40877023339271545,
           0.23078542947769165,
           0.5703165531158447,
           1.000000238418579,
           0.13305751979351044,
           0.10063304007053375,
           0.09492715448141098,
           0.12662869691848755,
           0.18316103518009186,
           0.43645143508911133,
           0.4135536551475525
          ],
          [
           0.5531467795372009,
           0.26380231976509094,
           0.2530701160430908,
           0.08761486411094666,
           0.062463607639074326,
           0.7171182632446289,
           0.10200443863868713,
           0.061344001442193985,
           0.08397823572158813,
           0.264151006937027,
           0.11132751405239105,
           0.2356163114309311,
           0.11453529447317123,
           0.09686113148927689,
           0.11004231870174408,
           0.13021957874298096,
           0.6009836196899414,
           0.14401346445083618,
           0.047862179577350616,
           0.2399115115404129,
           0.4833212196826935,
           0.05232087895274162,
           0.290228009223938,
           0.10330013185739517,
           0.07890264689922333,
           0.2299671620130539,
           0.16468475759029388,
           0.29371216893196106,
           0.6479054093360901,
           0.17673611640930176,
           0.451581209897995,
           0.6383249163627625,
           0.08570152521133423,
           0.15586955845355988,
           0.14022386074066162,
           0.09949753433465958,
           0.1483459770679474,
           0.12013465166091919,
           0.4984368085861206,
           0.2712956666946411,
           0.07022963464260101,
           0.1370638906955719,
           0.3159649968147278,
           0.12145653367042542,
           0.13305751979351044,
           1,
           0.17729556560516357,
           0.33293092250823975,
           0.2719024419784546,
           0.20396941900253296,
           0.17183953523635864,
           0.2391185164451599
          ],
          [
           0.0788147896528244,
           0.125432550907135,
           0.04505918174982071,
           0.16858725249767303,
           0.1736820936203003,
           0.20936453342437744,
           0.07070200145244598,
           0.09443913400173187,
           0.18691009283065796,
           0.06388482451438904,
           0.020376082509756088,
           0.01173965260386467,
           0.2888917922973633,
           0.11821609735488892,
           0.07486843317747116,
           0.05192910134792328,
           0.12185230851173401,
           0.26385563611984253,
           0.06156966835260391,
           -0.014984600245952606,
           0.15948861837387085,
           0.09163953363895416,
           0.08952410519123077,
           0.022927168756723404,
           0.251615434885025,
           0.0660402774810791,
           0.0982835590839386,
           0.13566114008426666,
           0.10335370898246765,
           0.05927065387368202,
           0.23618361353874207,
           0.16143453121185303,
           0.15853041410446167,
           0.13821303844451904,
           0.21355120837688446,
           0.14896410703659058,
           0.20009712874889374,
           -0.041976649314165115,
           0.07324954867362976,
           0.42187631130218506,
           0.10478393733501434,
           0.036361485719680786,
           0.1404939591884613,
           0.05944380164146423,
           0.10063304007053375,
           0.17729556560516357,
           1.000000238418579,
           0.3477071523666382,
           0.13942883908748627,
           0.28762781620025635,
           0.055754996836185455,
           0.1554262489080429
          ],
          [
           0.23886452615261078,
           0.18749414384365082,
           0.10121497511863708,
           0.19553609192371368,
           0.2125537395477295,
           0.26762428879737854,
           0.08472660183906555,
           0.08079107850790024,
           0.05949597805738449,
           0.1175413429737091,
           0.10522376000881195,
           0.09885959327220917,
           0.18867814540863037,
           0.10845541954040527,
           0.28511565923690796,
           0.19091078639030457,
           0.33670204877853394,
           0.21808937191963196,
           0.09675566852092743,
           0.08482931554317474,
           0.2523350715637207,
           0.10444875061511993,
           0.15137463808059692,
           0.1040736585855484,
           0.15449051558971405,
           0.07683783024549484,
           0.14187385141849518,
           0.22626301646232605,
           0.29385390877723694,
           0.05094391480088234,
           0.3381059765815735,
           0.43779975175857544,
           0.0615052655339241,
           0.18641743063926697,
           0.13160943984985352,
           0.19227808713912964,
           0.10552051663398743,
           0.06064866855740547,
           0.2245086133480072,
           0.28555750846862793,
           0.14608633518218994,
           0.1114741712808609,
           0.2697717547416687,
           0.12165024876594543,
           0.09492715448141098,
           0.33293092250823975,
           0.3477071523666382,
           0.9999998807907104,
           0.23031064867973328,
           0.3213096857070923,
           0.06265777349472046,
           0.19375669956207275
          ],
          [
           0.1165468767285347,
           0.13857623934745789,
           0.1230606883764267,
           0.1194838285446167,
           0.21453091502189636,
           0.1954697072505951,
           0.17908482253551483,
           0.08461594581604004,
           0.2111099660396576,
           0.28608787059783936,
           0.04408511891961098,
           0.0802234336733818,
           0.08473378419876099,
           0.08631709218025208,
           0.17011785507202148,
           0.1737363487482071,
           0.2672542333602905,
           0.135640487074852,
           0.3618607819080353,
           0.15071317553520203,
           0.1887974888086319,
           0.08803119510412216,
           0.2770252525806427,
           0.05491273105144501,
           0.08470939099788666,
           0.20246779918670654,
           0.39333516359329224,
           0.4948338270187378,
           0.2307528257369995,
           0.12958072125911713,
           0.4209640622138977,
           0.3589971661567688,
           0.11074302345514297,
           0.07421208918094635,
           0.12416970729827881,
           0.24928736686706543,
           0.045260775834321976,
           -0.0049900151789188385,
           0.14426961541175842,
           0.5009098052978516,
           0.0931222140789032,
           0.08373726904392242,
           0.40017127990722656,
           0.1966627687215805,
           0.12662869691848755,
           0.2719024419784546,
           0.13942883908748627,
           0.23031064867973328,
           1.000000238418579,
           0.28387731313705444,
           0.10693024098873138,
           0.12214703857898712
          ],
          [
           0.14595109224319458,
           0.27139022946357727,
           0.20704641938209534,
           0.10681766271591187,
           0.15930959582328796,
           0.2611348628997803,
           0.19789576530456543,
           0.242783784866333,
           0.3088454008102417,
           0.2867891192436218,
           0.09281948208808899,
           0.18672174215316772,
           0.2184763103723526,
           0.193789541721344,
           0.1351383924484253,
           0.16984900832176208,
           0.13627567887306213,
           0.6998876333236694,
           0.40409570932388306,
           0.15712770819664001,
           0.22445055842399597,
           0.10365131497383118,
           0.2866836190223694,
           0.28444528579711914,
           0.1867465078830719,
           0.23477789759635925,
           0.4059845209121704,
           0.43774938583374023,
           0.16374900937080383,
           0.23359856009483337,
           0.18827958405017853,
           0.18229155242443085,
           0.26270052790641785,
           0.06818675994873047,
           0.4168175458908081,
           0.16322150826454163,
           0.3871234059333801,
           0.07489512860774994,
           0.1610453724861145,
           0.1240135133266449,
           0.27792707085609436,
           0.08588942140340805,
           0.2625884413719177,
           0.13320358097553253,
           0.18316103518009186,
           0.20396941900253296,
           0.28762781620025635,
           0.3213096857070923,
           0.28387731313705444,
           1.0000001192092896,
           0.24875226616859436,
           0.24721887707710266
          ],
          [
           0.16806912422180176,
           0.34460949897766113,
           0.30990463495254517,
           0.17452678084373474,
           0.2708238959312439,
           0.19248390197753906,
           0.39506450295448303,
           0.42012181878089905,
           0.33724021911621094,
           0.24699486792087555,
           0.19808301329612732,
           0.16799089312553406,
           0.382689893245697,
           0.5983610153198242,
           0.21590495109558105,
           0.3126027584075928,
           0.15256759524345398,
           0.28122368454933167,
           0.2706177234649658,
           0.1294274926185608,
           0.1839054822921753,
           0.42529797554016113,
           0.2818037271499634,
           0.2565041780471802,
           0.3561408519744873,
           0.28623807430267334,
           0.3034060597419739,
           0.25657379627227783,
           0.1572931706905365,
           0.5000808238983154,
           0.11999969929456711,
           0.10998240858316422,
           0.5261606574058533,
           0.12921042740345,
           0.25366368889808655,
           0.20944175124168396,
           0.3242000639438629,
           0.14039847254753113,
           0.140770822763443,
           0.06703846901655197,
           0.363744854927063,
           0.2892695963382721,
           0.20253869891166687,
           0.423536479473114,
           0.43645143508911133,
           0.17183953523635864,
           0.055754996836185455,
           0.06265777349472046,
           0.10693024098873138,
           0.24875226616859436,
           0.9999998807907104,
           0.2970860004425049
          ],
          [
           0.26775622367858887,
           0.5845541954040527,
           0.28477171063423157,
           0.14864209294319153,
           0.2540273070335388,
           0.3001072406768799,
           0.5292280912399292,
           0.43970245122909546,
           0.22650191187858582,
           0.29197871685028076,
           0.2262255698442459,
           0.2812980115413666,
           0.4388241171836853,
           0.40030935406684875,
           0.1889640986919403,
           0.22058771550655365,
           0.39021050930023193,
           0.21524938941001892,
           0.1352027803659439,
           0.2796512246131897,
           0.28273409605026245,
           0.4428558051586151,
           0.43817952275276184,
           0.2137373685836792,
           0.386028528213501,
           0.4278941750526428,
           0.27207016944885254,
           0.3595619797706604,
           0.24500355124473572,
           0.3497242331504822,
           0.11878345161676407,
           0.3144147992134094,
           0.28685200214385986,
           0.0860164612531662,
           0.22231075167655945,
           0.31481388211250305,
           0.2839873433113098,
           0.24046561121940613,
           0.24737969040870667,
           0.1957937479019165,
           0.47197258472442627,
           0.3841339647769928,
           0.3072039484977722,
           0.4212723970413208,
           0.4135536551475525,
           0.2391185164451599,
           0.1554262489080429,
           0.19375669956207275,
           0.12214703857898712,
           0.24721887707710266,
           0.2970860004425049,
           0.9999997019767761
          ]
         ]
        }
       ],
       "layout": {
        "coloraxis": {
         "colorbar": {
          "title": {
           "text": "Similarity Score"
          }
         },
         "colorscale": [
          [
           0,
           "rgb(247,252,240)"
          ],
          [
           0.125,
           "rgb(224,243,219)"
          ],
          [
           0.25,
           "rgb(204,235,197)"
          ],
          [
           0.375,
           "rgb(168,221,181)"
          ],
          [
           0.5,
           "rgb(123,204,196)"
          ],
          [
           0.625,
           "rgb(78,179,211)"
          ],
          [
           0.75,
           "rgb(43,140,190)"
          ],
          [
           0.875,
           "rgb(8,104,172)"
          ],
          [
           1,
           "rgb(8,64,129)"
          ]
         ]
        },
        "height": 800,
        "hoverlabel": {
         "bgcolor": "white",
         "font": {
          "family": "Rockwell",
          "size": 16
         }
        },
        "legend": {
         "title": {
          "text": "Trend"
         }
        },
        "margin": {
         "t": 60
        },
        "showlegend": true,
        "template": {
         "data": {
          "bar": [
           {
            "error_x": {
             "color": "#2a3f5f"
            },
            "error_y": {
             "color": "#2a3f5f"
            },
            "marker": {
             "line": {
              "color": "#E5ECF6",
              "width": 0.5
             },
             "pattern": {
              "fillmode": "overlay",
              "size": 10,
              "solidity": 0.2
             }
            },
            "type": "bar"
           }
          ],
          "barpolar": [
           {
            "marker": {
             "line": {
              "color": "#E5ECF6",
              "width": 0.5
             },
             "pattern": {
              "fillmode": "overlay",
              "size": 10,
              "solidity": 0.2
             }
            },
            "type": "barpolar"
           }
          ],
          "carpet": [
           {
            "aaxis": {
             "endlinecolor": "#2a3f5f",
             "gridcolor": "white",
             "linecolor": "white",
             "minorgridcolor": "white",
             "startlinecolor": "#2a3f5f"
            },
            "baxis": {
             "endlinecolor": "#2a3f5f",
             "gridcolor": "white",
             "linecolor": "white",
             "minorgridcolor": "white",
             "startlinecolor": "#2a3f5f"
            },
            "type": "carpet"
           }
          ],
          "choropleth": [
           {
            "colorbar": {
             "outlinewidth": 0,
             "ticks": ""
            },
            "type": "choropleth"
           }
          ],
          "contour": [
           {
            "colorbar": {
             "outlinewidth": 0,
             "ticks": ""
            },
            "colorscale": [
             [
              0,
              "#0d0887"
             ],
             [
              0.1111111111111111,
              "#46039f"
             ],
             [
              0.2222222222222222,
              "#7201a8"
             ],
             [
              0.3333333333333333,
              "#9c179e"
             ],
             [
              0.4444444444444444,
              "#bd3786"
             ],
             [
              0.5555555555555556,
              "#d8576b"
             ],
             [
              0.6666666666666666,
              "#ed7953"
             ],
             [
              0.7777777777777778,
              "#fb9f3a"
             ],
             [
              0.8888888888888888,
              "#fdca26"
             ],
             [
              1,
              "#f0f921"
             ]
            ],
            "type": "contour"
           }
          ],
          "contourcarpet": [
           {
            "colorbar": {
             "outlinewidth": 0,
             "ticks": ""
            },
            "type": "contourcarpet"
           }
          ],
          "heatmap": [
           {
            "colorbar": {
             "outlinewidth": 0,
             "ticks": ""
            },
            "colorscale": [
             [
              0,
              "#0d0887"
             ],
             [
              0.1111111111111111,
              "#46039f"
             ],
             [
              0.2222222222222222,
              "#7201a8"
             ],
             [
              0.3333333333333333,
              "#9c179e"
             ],
             [
              0.4444444444444444,
              "#bd3786"
             ],
             [
              0.5555555555555556,
              "#d8576b"
             ],
             [
              0.6666666666666666,
              "#ed7953"
             ],
             [
              0.7777777777777778,
              "#fb9f3a"
             ],
             [
              0.8888888888888888,
              "#fdca26"
             ],
             [
              1,
              "#f0f921"
             ]
            ],
            "type": "heatmap"
           }
          ],
          "heatmapgl": [
           {
            "colorbar": {
             "outlinewidth": 0,
             "ticks": ""
            },
            "colorscale": [
             [
              0,
              "#0d0887"
             ],
             [
              0.1111111111111111,
              "#46039f"
             ],
             [
              0.2222222222222222,
              "#7201a8"
             ],
             [
              0.3333333333333333,
              "#9c179e"
             ],
             [
              0.4444444444444444,
              "#bd3786"
             ],
             [
              0.5555555555555556,
              "#d8576b"
             ],
             [
              0.6666666666666666,
              "#ed7953"
             ],
             [
              0.7777777777777778,
              "#fb9f3a"
             ],
             [
              0.8888888888888888,
              "#fdca26"
             ],
             [
              1,
              "#f0f921"
             ]
            ],
            "type": "heatmapgl"
           }
          ],
          "histogram": [
           {
            "marker": {
             "pattern": {
              "fillmode": "overlay",
              "size": 10,
              "solidity": 0.2
             }
            },
            "type": "histogram"
           }
          ],
          "histogram2d": [
           {
            "colorbar": {
             "outlinewidth": 0,
             "ticks": ""
            },
            "colorscale": [
             [
              0,
              "#0d0887"
             ],
             [
              0.1111111111111111,
              "#46039f"
             ],
             [
              0.2222222222222222,
              "#7201a8"
             ],
             [
              0.3333333333333333,
              "#9c179e"
             ],
             [
              0.4444444444444444,
              "#bd3786"
             ],
             [
              0.5555555555555556,
              "#d8576b"
             ],
             [
              0.6666666666666666,
              "#ed7953"
             ],
             [
              0.7777777777777778,
              "#fb9f3a"
             ],
             [
              0.8888888888888888,
              "#fdca26"
             ],
             [
              1,
              "#f0f921"
             ]
            ],
            "type": "histogram2d"
           }
          ],
          "histogram2dcontour": [
           {
            "colorbar": {
             "outlinewidth": 0,
             "ticks": ""
            },
            "colorscale": [
             [
              0,
              "#0d0887"
             ],
             [
              0.1111111111111111,
              "#46039f"
             ],
             [
              0.2222222222222222,
              "#7201a8"
             ],
             [
              0.3333333333333333,
              "#9c179e"
             ],
             [
              0.4444444444444444,
              "#bd3786"
             ],
             [
              0.5555555555555556,
              "#d8576b"
             ],
             [
              0.6666666666666666,
              "#ed7953"
             ],
             [
              0.7777777777777778,
              "#fb9f3a"
             ],
             [
              0.8888888888888888,
              "#fdca26"
             ],
             [
              1,
              "#f0f921"
             ]
            ],
            "type": "histogram2dcontour"
           }
          ],
          "mesh3d": [
           {
            "colorbar": {
             "outlinewidth": 0,
             "ticks": ""
            },
            "type": "mesh3d"
           }
          ],
          "parcoords": [
           {
            "line": {
             "colorbar": {
              "outlinewidth": 0,
              "ticks": ""
             }
            },
            "type": "parcoords"
           }
          ],
          "pie": [
           {
            "automargin": true,
            "type": "pie"
           }
          ],
          "scatter": [
           {
            "fillpattern": {
             "fillmode": "overlay",
             "size": 10,
             "solidity": 0.2
            },
            "type": "scatter"
           }
          ],
          "scatter3d": [
           {
            "line": {
             "colorbar": {
              "outlinewidth": 0,
              "ticks": ""
             }
            },
            "marker": {
             "colorbar": {
              "outlinewidth": 0,
              "ticks": ""
             }
            },
            "type": "scatter3d"
           }
          ],
          "scattercarpet": [
           {
            "marker": {
             "colorbar": {
              "outlinewidth": 0,
              "ticks": ""
             }
            },
            "type": "scattercarpet"
           }
          ],
          "scattergeo": [
           {
            "marker": {
             "colorbar": {
              "outlinewidth": 0,
              "ticks": ""
             }
            },
            "type": "scattergeo"
           }
          ],
          "scattergl": [
           {
            "marker": {
             "colorbar": {
              "outlinewidth": 0,
              "ticks": ""
             }
            },
            "type": "scattergl"
           }
          ],
          "scattermapbox": [
           {
            "marker": {
             "colorbar": {
              "outlinewidth": 0,
              "ticks": ""
             }
            },
            "type": "scattermapbox"
           }
          ],
          "scatterpolar": [
           {
            "marker": {
             "colorbar": {
              "outlinewidth": 0,
              "ticks": ""
             }
            },
            "type": "scatterpolar"
           }
          ],
          "scatterpolargl": [
           {
            "marker": {
             "colorbar": {
              "outlinewidth": 0,
              "ticks": ""
             }
            },
            "type": "scatterpolargl"
           }
          ],
          "scatterternary": [
           {
            "marker": {
             "colorbar": {
              "outlinewidth": 0,
              "ticks": ""
             }
            },
            "type": "scatterternary"
           }
          ],
          "surface": [
           {
            "colorbar": {
             "outlinewidth": 0,
             "ticks": ""
            },
            "colorscale": [
             [
              0,
              "#0d0887"
             ],
             [
              0.1111111111111111,
              "#46039f"
             ],
             [
              0.2222222222222222,
              "#7201a8"
             ],
             [
              0.3333333333333333,
              "#9c179e"
             ],
             [
              0.4444444444444444,
              "#bd3786"
             ],
             [
              0.5555555555555556,
              "#d8576b"
             ],
             [
              0.6666666666666666,
              "#ed7953"
             ],
             [
              0.7777777777777778,
              "#fb9f3a"
             ],
             [
              0.8888888888888888,
              "#fdca26"
             ],
             [
              1,
              "#f0f921"
             ]
            ],
            "type": "surface"
           }
          ],
          "table": [
           {
            "cells": {
             "fill": {
              "color": "#EBF0F8"
             },
             "line": {
              "color": "white"
             }
            },
            "header": {
             "fill": {
              "color": "#C8D4E3"
             },
             "line": {
              "color": "white"
             }
            },
            "type": "table"
           }
          ]
         },
         "layout": {
          "annotationdefaults": {
           "arrowcolor": "#2a3f5f",
           "arrowhead": 0,
           "arrowwidth": 1
          },
          "autotypenumbers": "strict",
          "coloraxis": {
           "colorbar": {
            "outlinewidth": 0,
            "ticks": ""
           }
          },
          "colorscale": {
           "diverging": [
            [
             0,
             "#8e0152"
            ],
            [
             0.1,
             "#c51b7d"
            ],
            [
             0.2,
             "#de77ae"
            ],
            [
             0.3,
             "#f1b6da"
            ],
            [
             0.4,
             "#fde0ef"
            ],
            [
             0.5,
             "#f7f7f7"
            ],
            [
             0.6,
             "#e6f5d0"
            ],
            [
             0.7,
             "#b8e186"
            ],
            [
             0.8,
             "#7fbc41"
            ],
            [
             0.9,
             "#4d9221"
            ],
            [
             1,
             "#276419"
            ]
           ],
           "sequential": [
            [
             0,
             "#0d0887"
            ],
            [
             0.1111111111111111,
             "#46039f"
            ],
            [
             0.2222222222222222,
             "#7201a8"
            ],
            [
             0.3333333333333333,
             "#9c179e"
            ],
            [
             0.4444444444444444,
             "#bd3786"
            ],
            [
             0.5555555555555556,
             "#d8576b"
            ],
            [
             0.6666666666666666,
             "#ed7953"
            ],
            [
             0.7777777777777778,
             "#fb9f3a"
            ],
            [
             0.8888888888888888,
             "#fdca26"
            ],
            [
             1,
             "#f0f921"
            ]
           ],
           "sequentialminus": [
            [
             0,
             "#0d0887"
            ],
            [
             0.1111111111111111,
             "#46039f"
            ],
            [
             0.2222222222222222,
             "#7201a8"
            ],
            [
             0.3333333333333333,
             "#9c179e"
            ],
            [
             0.4444444444444444,
             "#bd3786"
            ],
            [
             0.5555555555555556,
             "#d8576b"
            ],
            [
             0.6666666666666666,
             "#ed7953"
            ],
            [
             0.7777777777777778,
             "#fb9f3a"
            ],
            [
             0.8888888888888888,
             "#fdca26"
            ],
            [
             1,
             "#f0f921"
            ]
           ]
          },
          "colorway": [
           "#636efa",
           "#EF553B",
           "#00cc96",
           "#ab63fa",
           "#FFA15A",
           "#19d3f3",
           "#FF6692",
           "#B6E880",
           "#FF97FF",
           "#FECB52"
          ],
          "font": {
           "color": "#2a3f5f"
          },
          "geo": {
           "bgcolor": "white",
           "lakecolor": "white",
           "landcolor": "#E5ECF6",
           "showlakes": true,
           "showland": true,
           "subunitcolor": "white"
          },
          "hoverlabel": {
           "align": "left"
          },
          "hovermode": "closest",
          "mapbox": {
           "style": "light"
          },
          "paper_bgcolor": "white",
          "plot_bgcolor": "#E5ECF6",
          "polar": {
           "angularaxis": {
            "gridcolor": "white",
            "linecolor": "white",
            "ticks": ""
           },
           "bgcolor": "#E5ECF6",
           "radialaxis": {
            "gridcolor": "white",
            "linecolor": "white",
            "ticks": ""
           }
          },
          "scene": {
           "xaxis": {
            "backgroundcolor": "#E5ECF6",
            "gridcolor": "white",
            "gridwidth": 2,
            "linecolor": "white",
            "showbackground": true,
            "ticks": "",
            "zerolinecolor": "white"
           },
           "yaxis": {
            "backgroundcolor": "#E5ECF6",
            "gridcolor": "white",
            "gridwidth": 2,
            "linecolor": "white",
            "showbackground": true,
            "ticks": "",
            "zerolinecolor": "white"
           },
           "zaxis": {
            "backgroundcolor": "#E5ECF6",
            "gridcolor": "white",
            "gridwidth": 2,
            "linecolor": "white",
            "showbackground": true,
            "ticks": "",
            "zerolinecolor": "white"
           }
          },
          "shapedefaults": {
           "line": {
            "color": "#2a3f5f"
           }
          },
          "ternary": {
           "aaxis": {
            "gridcolor": "white",
            "linecolor": "white",
            "ticks": ""
           },
           "baxis": {
            "gridcolor": "white",
            "linecolor": "white",
            "ticks": ""
           },
           "bgcolor": "#E5ECF6",
           "caxis": {
            "gridcolor": "white",
            "linecolor": "white",
            "ticks": ""
           }
          },
          "title": {
           "x": 0.05
          },
          "xaxis": {
           "automargin": true,
           "gridcolor": "white",
           "linecolor": "white",
           "ticks": "",
           "title": {
            "standoff": 15
           },
           "zerolinecolor": "white",
           "zerolinewidth": 2
          },
          "yaxis": {
           "automargin": true,
           "gridcolor": "white",
           "linecolor": "white",
           "ticks": "",
           "title": {
            "standoff": 15
           },
           "zerolinecolor": "white",
           "zerolinewidth": 2
          }
         }
        },
        "title": {
         "font": {
          "color": "Black",
          "size": 22
         },
         "text": "<b>Similarity Matrix</b>",
         "x": 0.55,
         "xanchor": "center",
         "y": 0.95,
         "yanchor": "top"
        },
        "width": 800,
        "xaxis": {
         "anchor": "y",
         "constrain": "domain",
         "domain": [
          0,
          1
         ],
         "scaleanchor": "y"
        },
        "yaxis": {
         "anchor": "x",
         "autorange": "reversed",
         "constrain": "domain",
         "domain": [
          0,
          1
         ]
        }
       }
      },
      "text/html": [
       "<div>                            <div id=\"fec07340-3181-4f9a-8ed2-393ba99f426e\" class=\"plotly-graph-div\" style=\"height:800px; width:800px;\"></div>            <script type=\"text/javascript\">                require([\"plotly\"], function(Plotly) {                    window.PLOTLYENV=window.PLOTLYENV || {};                                    if (document.getElementById(\"fec07340-3181-4f9a-8ed2-393ba99f426e\")) {                    Plotly.newPlot(                        \"fec07340-3181-4f9a-8ed2-393ba99f426e\",                        [{\"coloraxis\":\"coloraxis\",\"name\":\"0\",\"x\":[\"0_celebrities_influence_their\",\"1_positive_mindset_thinking\",\"2_team_leader_leadership\",\"3_urbanization_urban_cities\",\"4_sleep_light_deprivation\",\"5_advertisements_consumers_...\",\"6_meditation_mindfulness_our\",\"7_stress_relaxation_healthy\",\"8_tasks_time_your\",\"9_cultural_diversity_language\",\"10_conflicts_conflict_workp...\",\"11_communication_person_sta...\",\"12_checkups_health_regular\",\"13_exercise_regular_weight\",\"14_climate_change_temperatu...\",\"15_plastic_conservation_pol...\",\"16_media_social_has\",\"17_financial_expenses_your\",\"18_study_studying_material\",\"19_audience_your_presentation\",\"20_television_gender_popular\",\"21_exercise_mental_activity\",\"22_creative_hobbies_our\",\"23_project_projects_managem...\",\"24_checkups_health_regular\",\"25_volunteering_communities...\",\"26_reading_books_book\",\"27_education_individuals_em...\",\"28_media_mass_behavior\",\"29_eating_food_mindful\",\"30_ecommerce_online_conveni...\",\"31_sites_networking_privacy\",\"32_balance_work_personal\",\"33_fashion_fast_clothing\",\"34_decision_decisionmaking_...\",\"35_inequality_social_opport...\",\"36_goals_goal_setting\",\"37_conflict_conflicts_resol...\",\"38_culture_pop_popular\",\"39_technology_has_way\",\"40_resilience_times_you\",\"41_music_emotions_mood\",\"42_games_video_gaming\",\"43_nature_outdoor_activities\",\"44_yoga_practice_spiritual\",\"45_marketing_media_brand\",\"46_ai_algorithms_data\",\"47_threats_cybersecurity_cy...\",\"48_technology_students_lear...\",\"49_financial_literacy_debt\",\"50_diet_balanced_foods\",\"51_mental_health_awareness\"],\"y\":[\"0_celebrities_influence_their\",\"1_positive_mindset_thinking\",\"2_team_leader_leadership\",\"3_urbanization_urban_cities\",\"4_sleep_light_deprivation\",\"5_advertisements_consumers_...\",\"6_meditation_mindfulness_our\",\"7_stress_relaxation_healthy\",\"8_tasks_time_your\",\"9_cultural_diversity_language\",\"10_conflicts_conflict_workp...\",\"11_communication_person_sta...\",\"12_checkups_health_regular\",\"13_exercise_regular_weight\",\"14_climate_change_temperatu...\",\"15_plastic_conservation_pol...\",\"16_media_social_has\",\"17_financial_expenses_your\",\"18_study_studying_material\",\"19_audience_your_presentation\",\"20_television_gender_popular\",\"21_exercise_mental_activity\",\"22_creative_hobbies_our\",\"23_project_projects_managem...\",\"24_checkups_health_regular\",\"25_volunteering_communities...\",\"26_reading_books_book\",\"27_education_individuals_em...\",\"28_media_mass_behavior\",\"29_eating_food_mindful\",\"30_ecommerce_online_conveni...\",\"31_sites_networking_privacy\",\"32_balance_work_personal\",\"33_fashion_fast_clothing\",\"34_decision_decisionmaking_...\",\"35_inequality_social_opport...\",\"36_goals_goal_setting\",\"37_conflict_conflicts_resol...\",\"38_culture_pop_popular\",\"39_technology_has_way\",\"40_resilience_times_you\",\"41_music_emotions_mood\",\"42_games_video_gaming\",\"43_nature_outdoor_activities\",\"44_yoga_practice_spiritual\",\"45_marketing_media_brand\",\"46_ai_algorithms_data\",\"47_threats_cybersecurity_cy...\",\"48_technology_students_lear...\",\"49_financial_literacy_debt\",\"50_diet_balanced_foods\",\"51_mental_health_awareness\"],\"z\":[[0.9999997019767761,0.2196400761604309,0.22907805442810059,0.20541507005691528,0.08752316236495972,0.513139545917511,0.11858116090297699,0.11435256898403168,0.09809110313653946,0.16468408703804016,0.16697774827480316,0.07482791692018509,0.12422813475131989,0.12278665602207184,0.23359271883964539,0.25282344222068787,0.3699032664299011,0.13809458911418915,0.04665951803326607,0.2530704736709595,0.6487439870834351,0.07886024564504623,0.30377674102783203,0.1347677856683731,0.11514246463775635,0.22408291697502136,0.15567731857299805,0.24372413754463196,0.6301419734954834,0.1233796775341034,0.25571736693382263,0.35292375087738037,0.11413700133562088,0.39937782287597656,0.1456460952758789,0.1620759814977646,0.17833980917930603,0.11163325607776642,0.7482104301452637,0.11418803036212921,0.10341610759496689,0.19018054008483887,0.18151909112930298,0.1517951339483261,0.12325763702392578,0.5531467795372009,0.0788147896528244,0.23886452615261078,0.1165468767285347,0.14595109224319458,0.16806912422180176,0.26775622367858887],[0.2196400761604309,1.0,0.3951031565666199,0.11902053654193878,0.23578573763370514,0.313264936208725,0.5918533802032471,0.49234849214553833,0.2800489366054535,0.377951979637146,0.32038459181785583,0.36377060413360596,0.3614029884338379,0.4106633961200714,0.1935523897409439,0.2334999144077301,0.36768394708633423,0.275182843208313,0.19693928956985474,0.201255202293396,0.2721526622772217,0.43141746520996094,0.5383681058883667,0.24687077105045319,0.31909820437431335,0.5015518069267273,0.33300742506980896,0.4810221195220947,0.22784435749053955,0.443838894367218,0.12275364995002747,0.25951310992240906,0.4050440490245819,0.05829859897494316,0.32704779505729675,0.293112576007843,0.33750298619270325,0.34852662682533264,0.20636993646621704,0.13882261514663696,0.588294267654419,0.41621291637420654,0.34269043803215027,0.44308608770370483,0.46385371685028076,0.26380231976509094,0.125432550907135,0.18749414384365082,0.13857623934745789,0.27139022946357727,0.34460949897766113,0.5845541954040527],[0.22907805442810059,0.3951031565666199,0.9999998807907104,0.06342722475528717,0.07738807052373886,0.1727336049079895,0.3466532230377197,0.3958170711994171,0.448158860206604,0.3221213221549988,0.5431591272354126,0.5412300229072571,0.16889074444770813,0.18474474549293518,0.12295649945735931,0.1738601177930832,0.13530564308166504,0.31733888387680054,0.349944531917572,0.454738050699234,0.17456194758415222,0.15072192251682281,0.26167115569114685,0.6774991750717163,0.15540215373039246,0.3857206702232361,0.2348235696554184,0.37077438831329346,0.13096760213375092,0.23061440885066986,0.07489098608493805,0.18097397685050964,0.3907334506511688,0.03270154073834419,0.37172943353652954,0.08765086531639099,0.41383224725723267,0.42813965678215027,0.13925543427467346,0.0989939495921135,0.4048916697502136,0.1409076452255249,0.2782118022441864,0.1792442500591278,0.2097400426864624,0.2530701160430908,0.04505918174982071,0.10121497511863708,0.1230606883764267,0.20704641938209534,0.30990463495254517,0.28477171063423157],[0.20541507005691528,0.11902053654193878,0.06342722475528717,0.9999996423721313,0.18700484931468964,0.11078201979398727,0.1477009356021881,0.12111980468034744,0.12597741186618805,0.16427427530288696,0.030270462855696678,0.01934252306818962,0.07681550085544586,0.1372818648815155,0.46661731600761414,0.48979562520980835,0.1571161448955536,0.14667922258377075,0.07978057861328125,0.06332126259803772,0.21220597624778748,0.10740926861763,0.09454189240932465,0.1073986291885376,0.10041362047195435,0.1991666853427887,0.1110558733344078,0.23198357224464417,0.23708316683769226,0.08977501094341278,0.16280920803546906,0.15892404317855835,0.1107778400182724,0.369428813457489,0.1818017065525055,0.31714722514152527,0.15335680544376373,0.012201822362840176,0.21028798818588257,0.1253223717212677,0.14909854531288147,0.08147630095481873,0.14938944578170776,0.2919124662876129,0.11844421923160553,0.08761486411094666,0.16858725249767303,0.19553609192371368,0.1194838285446167,0.10681766271591187,0.17452678084373474,0.14864209294319153],[0.08752316236495972,0.23578573763370514,0.07738807052373886,0.18700484931468964,0.9999999403953552,0.09402883052825928,0.403960645198822,0.3833976089954376,0.3367660641670227,0.1323142647743225,0.0538661889731884,0.06724845618009567,0.2607775926589966,0.38497263193130493,0.2230740338563919,0.20203974843025208,0.2430519163608551,0.16234144568443298,0.33957526087760925,0.008797421120107174,0.19249586760997772,0.4620116949081421,0.28169015049934387,0.09222541004419327,0.22443437576293945,0.17461621761322021,0.30683180689811707,0.14046795666217804,0.1440548598766327,0.2580118179321289,0.14499840140342712,0.20827391743659973,0.3284946382045746,0.18606555461883545,0.23436743021011353,0.2038838118314743,0.13200950622558594,0.019378816708922386,0.11943262815475464,0.20233352482318878,0.3507220149040222,0.32073789834976196,0.26753947138786316,0.41744372248649597,0.3144376873970032,0.062463607639074326,0.1736820936203003,0.2125537395477295,0.21453091502189636,0.15930959582328796,0.2708238959312439,0.2540273070335388],[0.513139545917511,0.313264936208725,0.1727336049079895,0.11078201979398727,0.09402883052825928,1.000000238418579,0.13097426295280457,0.06208471581339836,0.11682942509651184,0.26966825127601624,0.0616581067442894,0.14996881783008575,0.20239056646823883,0.12916748225688934,0.13042497634887695,0.16703133285045624,0.34855926036834717,0.18585613369941711,0.0907634049654007,0.26095470786094666,0.5318515300750732,0.05564583092927933,0.3619120121002197,0.07855432480573654,0.15554353594779968,0.2916213572025299,0.2067059725522995,0.2875688076019287,0.5936658382415771,0.2942417562007904,0.45403414964675903,0.37643349170684814,0.10867635160684586,0.20804449915885925,0.24809050559997559,0.11486269533634186,0.22591015696525574,0.054550886154174805,0.5086866021156311,0.18398471176624298,0.07685835659503937,0.21183735132217407,0.3032071590423584,0.19574648141860962,0.15168920159339905,0.7171182632446289,0.20936453342437744,0.26762428879737854,0.1954697072505951,0.2611348628997803,0.19248390197753906,0.3001072406768799],[0.11858116090297699,0.5918533802032471,0.3466532230377197,0.1477009356021881,0.403960645198822,0.13097426295280457,1.0000001192092896,0.7460154294967651,0.4298534691333771,0.35759982466697693,0.3023013472557068,0.36677777767181396,0.35753902792930603,0.567668080329895,0.18775683641433716,0.2744714915752411,0.298417866230011,0.25443941354751587,0.42962390184402466,0.25200462341308594,0.1466885805130005,0.6291748881340027,0.5869894027709961,0.24440130591392517,0.3440299332141876,0.45027250051498413,0.4868570864200592,0.30779457092285156,0.12178774178028107,0.5994844436645508,0.12553654611110687,0.23722723126411438,0.5125062465667725,0.10010587424039841,0.29526323080062866,0.1566058099269867,0.2533602714538574,0.31167060136795044,0.13336516916751862,0.21260777115821838,0.5928211212158203,0.5383366346359253,0.3018842339515686,0.6233941316604614,0.695339560508728,0.10200443863868713,0.07070200145244598,0.08472660183906555,0.17908482253551483,0.19789576530456543,0.39506450295448303,0.5292280912399292],[0.11435256898403168,0.49234849214553833,0.3958170711994171,0.12111980468034744,0.3833976089954376,0.06208471581339836,0.7460154294967651,0.9999997019767761,0.6627200841903687,0.24528884887695312,0.452772319316864,0.36697492003440857,0.3650124669075012,0.48382240533828735,0.1822987049818039,0.23909947276115417,0.254564106464386,0.4633009731769562,0.5190578103065491,0.22767499089241028,0.11220315098762512,0.5173444747924805,0.5047814846038818,0.4147288203239441,0.3465155363082886,0.33572980761528015,0.40868473052978516,0.21050599217414856,0.06434551626443863,0.4044609069824219,0.06783190369606018,0.15690593421459198,0.7488626837730408,0.13847985863685608,0.3778040111064911,0.09600003063678741,0.3691795766353607,0.4009668827056885,0.1306723803281784,0.14254800975322723,0.8093147873878479,0.3740077018737793,0.22211042046546936,0.4669577181339264,0.5348337888717651,0.061344001442193985,0.09443913400173187,0.08079107850790024,0.08461594581604004,0.242783784866333,0.42012181878089905,0.43970245122909546],[0.09809110313653946,0.2800489366054535,0.448158860206604,0.12597741186618805,0.3367660641670227,0.11682942509651184,0.4298534691333771,0.6627200841903687,0.9999999403953552,0.2042330503463745,0.37086373567581177,0.22885408997535706,0.2800062596797943,0.34733760356903076,0.1472969949245453,0.20548608899116516,0.12827974557876587,0.5471026301383972,0.6272758841514587,0.25341248512268066,0.09630125761032104,0.3259861469268799,0.378738671541214,0.5660908222198486,0.263012170791626,0.2599494457244873,0.3438465893268585,0.23491421341896057,0.08107998967170715,0.3521483540534973,0.15368852019309998,0.12304238975048065,0.7073774933815002,0.18320026993751526,0.5175601840019226,0.06409583985805511,0.5575588345527649,0.2367449849843979,0.10561218857765198,0.19204850494861603,0.5722994804382324,0.1472359001636505,0.2573941946029663,0.3189941644668579,0.26654958724975586,0.08397823572158813,0.18691009283065796,0.05949597805738449,0.2111099660396576,0.3088454008102417,0.33724021911621094,0.22650191187858582],[0.16468408703804016,0.377951979637146,0.3221213221549988,0.16427427530288696,0.1323142647743225,0.26966825127601624,0.35759982466697693,0.24528884887695312,0.2042330503463745,1.0,0.27438148856163025,0.2322697639465332,0.08709448575973511,0.24553707242012024,0.195816308259964,0.2552854120731354,0.2738323211669922,0.15344785153865814,0.23435905575752258,0.17051294445991516,0.3477843999862671,0.22317636013031006,0.4750820994377136,0.16241514682769775,0.07765726000070572,0.40188753604888916,0.427590012550354,0.5078059434890747,0.25710776448249817,0.28288790583610535,0.26930341124534607,0.2643970847129822,0.22619011998176575,0.0933779776096344,0.26398468017578125,0.22033250331878662,0.16959115862846375,0.20278798043727875,0.3595515787601471,0.1466471552848816,0.21875542402267456,0.27720075845718384,0.3325100541114807,0.3102268576622009,0.32748734951019287,0.264151006937027,0.06388482451438904,0.1175413429737091,0.28608787059783936,0.2867891192436218,0.24699486792087555,0.29197871685028076],[0.16697774827480316,0.32038459181785583,0.5431591272354126,0.030270462855696678,0.0538661889731884,0.0616581067442894,0.3023013472557068,0.452772319316864,0.37086373567581177,0.27438148856163025,1.0,0.54497230052948,0.05493985861539841,0.05489354208111763,0.21431183815002441,0.1722169816493988,0.18535834550857544,0.26826152205467224,0.2720189690589905,0.28761017322540283,0.11231200397014618,0.08553506433963776,0.23959380388259888,0.4674718379974365,0.05103940889239311,0.16950680315494537,0.14953944087028503,0.18780922889709473,0.09991267323493958,0.13322462141513824,0.027240591123700142,0.12211204320192337,0.3763832449913025,-0.020876148715615273,0.34848499298095703,0.07845324277877808,0.21655994653701782,0.8563237190246582,0.10545314103364944,0.039142709225416183,0.3909847140312195,0.1630813181400299,0.17279952764511108,0.09450553357601166,0.13125087320804596,0.11132751405239105,0.020376082509756088,0.10522376000881195,0.04408511891961098,0.09281948208808899,0.19808301329612732,0.2262255698442459],[0.07482791692018509,0.36377060413360596,0.5412300229072571,0.01934252306818962,0.06724845618009567,0.14996881783008575,0.36677777767181396,0.36697492003440857,0.22885408997535706,0.2322697639465332,0.54497230052948,1.0,0.08690815418958664,0.12046094238758087,0.12205614149570465,0.1181751936674118,0.36417433619499207,0.25777125358581543,0.30477964878082275,0.548374593257904,0.14778992533683777,0.12928971648216248,0.263916015625,0.3598548173904419,0.08234108984470367,0.1913760006427765,0.22710877656936646,0.1961348056793213,0.1071871742606163,0.21116049587726593,0.031794145703315735,0.33086061477661133,0.3122583031654358,-0.05829782783985138,0.2545274794101715,0.03685557469725609,0.19365499913692474,0.6943503618240356,0.0664074569940567,0.1636696457862854,0.39462849497795105,0.19483909010887146,0.2671349048614502,0.16658294200897217,0.21433107554912567,0.2356163114309311,0.01173965260386467,0.09885959327220917,0.0802234336733818,0.18672174215316772,0.16799089312553406,0.2812980115413666],[0.12422813475131989,0.3614029884338379,0.16889074444770813,0.07681550085544586,0.2607775926589966,0.20239056646823883,0.35753902792930603,0.3650124669075012,0.2800062596797943,0.08709448575973511,0.05493985861539841,0.08690815418958664,1.0000001192092896,0.4478718936443329,0.11253656446933746,0.14140503108501434,0.14021596312522888,0.26186949014663696,0.20482459664344788,0.0747622475028038,0.14819617569446564,0.3598405420780182,0.22129836678504944,0.13181574642658234,0.9525713920593262,0.23310285806655884,0.20182427763938904,0.1722206026315689,0.08344841748476028,0.3058444857597351,0.16535063087940216,0.18361110985279083,0.3639886975288391,0.10814942419528961,0.22535589337348938,0.20687618851661682,0.27201011776924133,0.02905949577689171,0.09184025228023529,0.287317156791687,0.31267714500427246,0.14652080833911896,0.13786332309246063,0.34656667709350586,0.3423267602920532,0.11453529447317123,0.2888917922973633,0.18867814540863037,0.08473378419876099,0.2184763103723526,0.382689893245697,0.4388241171836853],[0.12278665602207184,0.4106633961200714,0.18474474549293518,0.1372818648815155,0.38497263193130493,0.12916748225688934,0.567668080329895,0.48382240533828735,0.34733760356903076,0.24553707242012024,0.05489354208111763,0.12046094238758087,0.4478718936443329,1.0000001192092896,0.16545836627483368,0.27234551310539246,0.2295902967453003,0.2169709950685501,0.28658950328826904,0.07061132788658142,0.16255494952201843,0.9049891829490662,0.46074020862579346,0.17387712001800537,0.4895923137664795,0.36649179458618164,0.36590293049812317,0.23961688578128815,0.14424185454845428,0.4528470039367676,0.08595085144042969,0.19274310767650604,0.4505663216114044,0.11365702748298645,0.19797739386558533,0.14572280645370483,0.3754120469093323,0.037048667669296265,0.15494024753570557,0.14703068137168884,0.3887070417404175,0.40279996395111084,0.3230434060096741,0.6837420463562012,0.6583608984947205,0.09686113148927689,0.11821609735488892,0.10845541954040527,0.08631709218025208,0.193789541721344,0.5983610153198242,0.40030935406684875],[0.23359271883964539,0.1935523897409439,0.12295649945735931,0.46661731600761414,0.2230740338563919,0.13042497634887695,0.18775683641433716,0.1822987049818039,0.1472969949245453,0.195816308259964,0.21431183815002441,0.12205614149570465,0.11253656446933746,0.16545836627483368,0.9999999403953552,0.6237654685974121,0.196834996342659,0.13830046355724335,0.08665880560874939,0.10895776748657227,0.20620197057724,0.1370079666376114,0.19568857550621033,0.15367978811264038,0.09461851418018341,0.2030848264694214,0.20124974846839905,0.22431671619415283,0.19003532826900482,0.12697897851467133,0.10302818566560745,0.17060266435146332,0.10712788254022598,0.25827211141586304,0.12098804861307144,0.22037547826766968,0.1582750380039215,0.1567976027727127,0.17713001370429993,0.10906851291656494,0.19110755622386932,0.19071060419082642,0.19754548370838165,0.3279843330383301,0.13441601395606995,0.11004231870174408,0.07486843317747116,0.28511565923690796,0.17011785507202148,0.1351383924484253,0.21590495109558105,0.1889640986919403],[0.25282344222068787,0.2334999144077301,0.1738601177930832,0.48979562520980835,0.20203974843025208,0.16703133285045624,0.2744714915752411,0.23909947276115417,0.20548608899116516,0.2552854120731354,0.1722169816493988,0.1181751936674118,0.14140503108501434,0.27234551310539246,0.6237654685974121,0.9999999403953552,0.16330298781394958,0.2439100444316864,0.22912873327732086,0.10897226631641388,0.17413821816444397,0.22575441002845764,0.2876144051551819,0.21393197774887085,0.13995006680488586,0.238088920712471,0.20578451454639435,0.244874507188797,0.19916178286075592,0.21164090931415558,0.13727068901062012,0.1436787098646164,0.17352917790412903,0.44802021980285645,0.23759786784648895,0.1326478272676468,0.18096452951431274,0.13380379974842072,0.1701120138168335,0.06006374955177307,0.18717056512832642,0.2020895630121231,0.18807007372379303,0.4465768039226532,0.23346629738807678,0.13021957874298096,0.05192910134792328,0.19091078639030457,0.1737363487482071,0.16984900832176208,0.3126027584075928,0.22058771550655365],[0.3699032664299011,0.36768394708633423,0.13530564308166504,0.1571161448955536,0.2430519163608551,0.34855926036834717,0.298417866230011,0.254564106464386,0.12827974557876587,0.2738323211669922,0.18535834550857544,0.36417433619499207,0.14021596312522888,0.2295902967453003,0.196834996342659,0.16330298781394958,1.000000238418579,0.11065677553415298,0.09624234586954117,0.09672947973012924,0.4628896713256836,0.255729615688324,0.4052055776119232,0.006876298692077398,0.11162184178829193,0.3360697627067566,0.27593082189559937,0.2507309913635254,0.5494139194488525,0.20490914583206177,0.2964015007019043,0.8068629503250122,0.24198687076568604,0.10256659984588623,0.07868198305368423,0.23826298117637634,0.05927912890911102,0.30183660984039307,0.4029807448387146,0.38577425479888916,0.2621152400970459,0.2965458631515503,0.4385877549648285,0.3101443648338318,0.2303473949432373,0.6009836196899414,0.12185230851173401,0.33670204877853394,0.2672542333602905,0.13627567887306213,0.15256759524345398,0.39021050930023193],[0.13809458911418915,0.275182843208313,0.31733888387680054,0.14667922258377075,0.16234144568443298,0.18585613369941711,0.25443941354751587,0.4633009731769562,0.5471026301383972,0.15344785153865814,0.26826152205467224,0.25777125358581543,0.26186949014663696,0.2169709950685501,0.13830046355724335,0.2439100444316864,0.11065677553415298,1.0,0.5177346467971802,0.21940100193023682,0.13595916330814362,0.10973790287971497,0.20723101496696472,0.4914531707763672,0.2401709258556366,0.1661342978477478,0.226534903049469,0.23002399504184723,0.1040152981877327,0.23074296116828918,0.18149788677692413,0.15729951858520508,0.47157052159309387,0.1467493772506714,0.4397214353084564,0.07732663303613663,0.5328773856163025,0.20279881358146667,0.13411565124988556,0.08123733103275299,0.44343629479408264,0.063944011926651,0.1518586128950119,0.12459929287433624,0.1844756007194519,0.14401346445083618,0.26385563611984253,0.21808937191963196,0.135640487074852,0.6998876333236694,0.28122368454933167,0.21524938941001892],[0.04665951803326607,0.19693928956985474,0.349944531917572,0.07978057861328125,0.33957526087760925,0.0907634049654007,0.42962390184402466,0.5190578103065491,0.6272758841514587,0.23435905575752258,0.2720189690589905,0.30477964878082275,0.20482459664344788,0.28658950328826904,0.08665880560874939,0.22912873327732086,0.09624234586954117,0.5177346467971802,1.0000001192092896,0.33326634764671326,0.07567740976810455,0.26124048233032227,0.3191286325454712,0.4237862229347229,0.19931328296661377,0.2029283493757248,0.5442720651626587,0.28936076164245605,0.06469141691923141,0.3105771541595459,0.1723511815071106,0.09101183712482452,0.4932805895805359,0.1178203821182251,0.45130130648612976,0.039070744067430496,0.3319230079650879,0.20098766684532166,0.08118689060211182,0.11078184843063354,0.45296692848205566,0.18157337605953217,0.2259637713432312,0.27968767285346985,0.2692742347717285,0.047862179577350616,0.06156966835260391,0.09675566852092743,0.3618607819080353,0.40409570932388306,0.2706177234649658,0.1352027803659439],[0.2530704736709595,0.201255202293396,0.454738050699234,0.06332126259803772,0.008797421120107174,0.26095470786094666,0.25200462341308594,0.22767499089241028,0.25341248512268066,0.17051294445991516,0.28761017322540283,0.548374593257904,0.0747622475028038,0.07061132788658142,0.10895776748657227,0.10897226631641388,0.09672947973012924,0.21940100193023682,0.33326634764671326,0.9999998807907104,0.2359919399023056,0.06930683553218842,0.19759376347064972,0.3893507122993469,0.055987220257520676,0.16998718678951263,0.18254253268241882,0.19524845480918884,0.2790549695491791,0.1258227825164795,0.05024123564362526,0.17048457264900208,0.18252605199813843,-0.010014012455940247,0.2161792665719986,0.06987816095352173,0.25833722949028015,0.29489120841026306,0.21217015385627747,0.09110350161790848,0.2661097049713135,0.10144025832414627,0.12962673604488373,0.08432565629482269,0.20157918334007263,0.2399115115404129,-0.014984600245952606,0.08482931554317474,0.15071317553520203,0.15712770819664001,0.1294274926185608,0.2796512246131897],[0.6487439870834351,0.2721526622772217,0.17456194758415222,0.21220597624778748,0.19249586760997772,0.5318515300750732,0.1466885805130005,0.11220315098762512,0.09630125761032104,0.3477843999862671,0.11231200397014618,0.14778992533683777,0.14819617569446564,0.16255494952201843,0.20620197057724,0.17413821816444397,0.4628896713256836,0.13595916330814362,0.07567740976810455,0.2359919399023056,1.000000238418579,0.13088007271289825,0.33273398876190186,0.019991273060441017,0.12208761274814606,0.2590414583683014,0.26451539993286133,0.30272477865219116,0.7028889060020447,0.17634013295173645,0.2528270483016968,0.39594197273254395,0.16993728280067444,0.2511748969554901,0.16221082210540771,0.23176422715187073,0.1677398979663849,0.10115799307823181,0.7752160429954529,0.1884462833404541,0.1358831226825714,0.18853282928466797,0.38422685861587524,0.16981905698776245,0.1457667350769043,0.4833212196826935,0.15948861837387085,0.2523350715637207,0.1887974888086319,0.22445055842399597,0.1839054822921753,0.28273409605026245],[0.07886024564504623,0.43141746520996094,0.15072192251682281,0.10740926861763,0.4620116949081421,0.05564583092927933,0.6291748881340027,0.5173444747924805,0.3259861469268799,0.22317636013031006,0.08553506433963776,0.12928971648216248,0.3598405420780182,0.9049891829490662,0.1370079666376114,0.22575441002845764,0.255729615688324,0.10973790287971497,0.26124048233032227,0.06930683553218842,0.13088007271289825,1.0,0.4881950616836548,0.13887757062911987,0.3976181149482727,0.34595465660095215,0.3548111915588379,0.1990475058555603,0.12611937522888184,0.4374026358127594,0.06643861532211304,0.1779569387435913,0.398412823677063,0.08652851730585098,0.17746438086032867,0.11657273769378662,0.27065926790237427,0.07977493852376938,0.11605611443519592,0.15071174502372742,0.3961413502693176,0.486757755279541,0.35483551025390625,0.6990303993225098,0.6481916904449463,0.05232087895274162,0.09163953363895416,0.10444875061511993,0.08803119510412216,0.10365131497383118,0.42529797554016113,0.4428558051586151],[0.30377674102783203,0.5383681058883667,0.26167115569114685,0.09454189240932465,0.28169015049934387,0.3619120121002197,0.5869894027709961,0.5047814846038818,0.378738671541214,0.4750820994377136,0.23959380388259888,0.263916015625,0.22129836678504944,0.46074020862579346,0.19568857550621033,0.2876144051551819,0.4052055776119232,0.20723101496696472,0.3191286325454712,0.19759376347064972,0.33273398876190186,0.4881950616836548,1.000000238418579,0.21731382608413696,0.2043505758047104,0.5255481004714966,0.5340455770492554,0.4018285870552063,0.291353702545166,0.4229466915130615,0.20191359519958496,0.3420138955116272,0.44808194041252136,0.14107923209667206,0.3116564154624939,0.12120026350021362,0.27846717834472656,0.24123814702033997,0.3653640151023865,0.2105894833803177,0.4608379602432251,0.5538426637649536,0.4569573700428009,0.5733190774917603,0.45997628569602966,0.290228009223938,0.08952410519123077,0.15137463808059692,0.2770252525806427,0.2866836190223694,0.2818037271499634,0.43817952275276184],[0.1347677856683731,0.24687077105045319,0.6774991750717163,0.1073986291885376,0.09222541004419327,0.07855432480573654,0.24440130591392517,0.4147288203239441,0.5660908222198486,0.16241514682769775,0.4674718379974365,0.3598548173904419,0.13181574642658234,0.17387712001800537,0.15367978811264038,0.21393197774887085,0.006876298692077398,0.4914531707763672,0.4237862229347229,0.3893507122993469,0.019991273060441017,0.13887757062911987,0.21731382608413696,1.0,0.11961448192596436,0.16179226338863373,0.13293948769569397,0.21422363817691803,0.06476132571697235,0.20134074985980988,0.00927911326289177,0.05166444182395935,0.3610040545463562,0.06293769925832748,0.45114943385124207,-0.052686531096696854,0.5448989868164062,0.32951968908309937,0.058558039367198944,0.02319744974374771,0.37552663683891296,0.059890490025281906,0.15217657387256622,0.11221504211425781,0.16070815920829773,0.10330013185739517,0.022927168756723404,0.1040736585855484,0.05491273105144501,0.28444528579711914,0.2565041780471802,0.2137373685836792],[0.11514246463775635,0.31909820437431335,0.15540215373039246,0.10041362047195435,0.22443437576293945,0.15554353594779968,0.3440299332141876,0.3465155363082886,0.263012170791626,0.07765726000070572,0.05103940889239311,0.08234108984470367,0.9525713920593262,0.4895923137664795,0.09461851418018341,0.13995006680488586,0.11162184178829193,0.2401709258556366,0.19931328296661377,0.055987220257520676,0.12208761274814606,0.3976181149482727,0.2043505758047104,0.11961448192596436,1.000000238418579,0.2284049391746521,0.19360703229904175,0.13994738459587097,0.052298836410045624,0.3011709153652191,0.16318181157112122,0.1679266095161438,0.3326830267906189,0.0941164493560791,0.20486822724342346,0.16502296924591064,0.2561136484146118,0.03256267309188843,0.07546750456094742,0.27568942308425903,0.27462270855903625,0.14076663553714752,0.12896721065044403,0.3602673411369324,0.3579293489456177,0.07890264689922333,0.251615434885025,0.15449051558971405,0.08470939099788666,0.1867465078830719,0.3561408519744873,0.386028528213501],[0.22408291697502136,0.5015518069267273,0.3857206702232361,0.1991666853427887,0.17461621761322021,0.2916213572025299,0.45027250051498413,0.33572980761528015,0.2599494457244873,0.40188753604888916,0.16950680315494537,0.1913760006427765,0.23310285806655884,0.36649179458618164,0.2030848264694214,0.238088920712471,0.3360697627067566,0.1661342978477478,0.2029283493757248,0.16998718678951263,0.2590414583683014,0.34595465660095215,0.5255481004714966,0.16179226338863373,0.2284049391746521,1.0,0.36096084117889404,0.422578364610672,0.20738738775253296,0.30164602398872375,0.1467772275209427,0.27138587832450867,0.367548406124115,0.07087041437625885,0.18318605422973633,0.2968994975090027,0.24266281723976135,0.16593800485134125,0.18715906143188477,0.13527582585811615,0.40081310272216797,0.3532256782054901,0.3412989675998688,0.48934152722358704,0.4162590801715851,0.2299671620130539,0.0660402774810791,0.07683783024549484,0.20246779918670654,0.23477789759635925,0.28623807430267334,0.4278941750526428],[0.15567731857299805,0.33300742506980896,0.2348235696554184,0.1110558733344078,0.30683180689811707,0.2067059725522995,0.4868570864200592,0.40868473052978516,0.3438465893268585,0.427590012550354,0.14953944087028503,0.22710877656936646,0.20182427763938904,0.36590293049812317,0.20124974846839905,0.20578451454639435,0.27593082189559937,0.226534903049469,0.5442720651626587,0.18254253268241882,0.26451539993286133,0.3548111915588379,0.5340455770492554,0.13293948769569397,0.19360703229904175,0.36096084117889404,0.9999998807907104,0.3711250424385071,0.21208709478378296,0.41820186376571655,0.25125741958618164,0.21587121486663818,0.32356351613998413,0.06485850363969803,0.2533597946166992,0.1027032658457756,0.1892579048871994,0.12291637063026428,0.2368336319923401,0.20110593736171722,0.37047427892684937,0.35562118887901306,0.3974301815032959,0.44276535511016846,0.3597266674041748,0.16468475759029388,0.0982835590839386,0.14187385141849518,0.39333516359329224,0.4059845209121704,0.3034060597419739,0.27207016944885254],[0.24372413754463196,0.4810221195220947,0.37077438831329346,0.23198357224464417,0.14046795666217804,0.2875688076019287,0.30779457092285156,0.21050599217414856,0.23491421341896057,0.5078059434890747,0.18780922889709473,0.1961348056793213,0.1722206026315689,0.23961688578128815,0.22431671619415283,0.244874507188797,0.2507309913635254,0.23002399504184723,0.28936076164245605,0.19524845480918884,0.30272477865219116,0.1990475058555603,0.4018285870552063,0.21422363817691803,0.13994738459587097,0.422578364610672,0.3711250424385071,0.9999998211860657,0.26962220668792725,0.23509898781776428,0.18959027528762817,0.24782675504684448,0.23765510320663452,0.04814647510647774,0.34729650616645813,0.45476463437080383,0.29804056882858276,0.15388430655002594,0.2574237287044525,0.2206277847290039,0.2948000133037567,0.19873419404029846,0.3662374019622803,0.22791580855846405,0.23044294118881226,0.29371216893196106,0.13566114008426666,0.22626301646232605,0.4948338270187378,0.43774938583374023,0.25657379627227783,0.3595619797706604],[0.6301419734954834,0.22784435749053955,0.13096760213375092,0.23708316683769226,0.1440548598766327,0.5936658382415771,0.12178774178028107,0.06434551626443863,0.08107998967170715,0.25710776448249817,0.09991267323493958,0.1071871742606163,0.08344841748476028,0.14424185454845428,0.19003532826900482,0.19916178286075592,0.5494139194488525,0.1040152981877327,0.06469141691923141,0.2790549695491791,0.7028889060020447,0.12611937522888184,0.291353702545166,0.06476132571697235,0.052298836410045624,0.20738738775253296,0.21208709478378296,0.26962220668792725,0.9999998807907104,0.19611185789108276,0.36246946454048157,0.48171883821487427,0.05619591847062111,0.22375720739364624,0.1310422420501709,0.15122482180595398,0.09371798485517502,0.06252306699752808,0.7053766250610352,0.22141525149345398,0.0584111213684082,0.28875279426574707,0.35098958015441895,0.16469106078147888,0.11177130788564682,0.6479054093360901,0.10335370898246765,0.29385390877723694,0.2307528257369995,0.16374900937080383,0.1572931706905365,0.24500355124473572],[0.1233796775341034,0.443838894367218,0.23061440885066986,0.08977501094341278,0.2580118179321289,0.2942417562007904,0.5994844436645508,0.4044609069824219,0.3521483540534973,0.28288790583610535,0.13322462141513824,0.21116049587726593,0.3058444857597351,0.4528470039367676,0.12697897851467133,0.21164090931415558,0.20490914583206177,0.23074296116828918,0.3105771541595459,0.1258227825164795,0.17634013295173645,0.4374026358127594,0.4229466915130615,0.20134074985980988,0.3011709153652191,0.30164602398872375,0.41820186376571655,0.23509898781776428,0.19611185789108276,1.0000001192092896,0.16912493109703064,0.17606131732463837,0.3523787260055542,0.11565275490283966,0.24427485466003418,0.045084405690431595,0.2806129455566406,0.1473945677280426,0.14907220005989075,0.08428415656089783,0.3193548917770386,0.34471070766448975,0.3302571773529053,0.45579707622528076,0.3919558823108673,0.17673611640930176,0.05927065387368202,0.05094391480088234,0.12958072125911713,0.23359856009483337,0.5000808238983154,0.3497242331504822],[0.25571736693382263,0.12275364995002747,0.07489098608493805,0.16280920803546906,0.14499840140342712,0.45403414964675903,0.12553654611110687,0.06783190369606018,0.15368852019309998,0.26930341124534607,0.027240591123700142,0.031794145703315735,0.16535063087940216,0.08595085144042969,0.10302818566560745,0.13727068901062012,0.2964015007019043,0.18149788677692413,0.1723511815071106,0.05024123564362526,0.2528270483016968,0.06643861532211304,0.20191359519958496,0.00927911326289177,0.16318181157112122,0.1467772275209427,0.25125741958618164,0.18959027528762817,0.36246946454048157,0.16912493109703064,1.0,0.33766454458236694,0.13167598843574524,0.3114573657512665,0.17573487758636475,0.09807181358337402,0.08068212866783142,-0.032193005084991455,0.3058679699897766,0.36408865451812744,0.04463322460651398,0.11317293345928192,0.2902594804763794,0.2009933441877365,0.1267211139202118,0.451581209897995,0.23618361353874207,0.3381059765815735,0.4209640622138977,0.18827958405017853,0.11999969929456711,0.11878345161676407],[0.35292375087738037,0.25951310992240906,0.18097397685050964,0.15892404317855835,0.20827391743659973,0.37643349170684814,0.23722723126411438,0.15690593421459198,0.12304238975048065,0.2643970847129822,0.12211204320192337,0.33086061477661133,0.18361110985279083,0.19274310767650604,0.17060266435146332,0.1436787098646164,0.8068629503250122,0.15729951858520508,0.09101183712482452,0.17048457264900208,0.39594197273254395,0.1779569387435913,0.3420138955116272,0.05166444182395935,0.1679266095161438,0.27138587832450867,0.21587121486663818,0.24782675504684448,0.48171883821487427,0.17606131732463837,0.33766454458236694,1.0000001192092896,0.1743876338005066,0.07388170063495636,0.1142851859331131,0.2070314884185791,0.09477191418409348,0.19187459349632263,0.3519529700279236,0.44834545254707336,0.137587308883667,0.15217070281505585,0.38718181848526,0.25105270743370056,0.19690176844596863,0.6383249163627625,0.16143453121185303,0.43779975175857544,0.3589971661567688,0.18229155242443085,0.10998240858316422,0.3144147992134094],[0.11413700133562088,0.4050440490245819,0.3907334506511688,0.1107778400182724,0.3284946382045746,0.10867635160684586,0.5125062465667725,0.7488626837730408,0.7073774933815002,0.22619011998176575,0.3763832449913025,0.3122583031654358,0.3639886975288391,0.4505663216114044,0.10712788254022598,0.17352917790412903,0.24198687076568604,0.47157052159309387,0.4932805895805359,0.18252605199813843,0.16993728280067444,0.398412823677063,0.44808194041252136,0.3610040545463562,0.3326830267906189,0.367548406124115,0.32356351613998413,0.23765510320663452,0.05619591847062111,0.3523787260055542,0.13167598843574524,0.1743876338005066,0.9999998807907104,0.14667260646820068,0.4506832957267761,0.2317844182252884,0.48311692476272583,0.340562105178833,0.14087043702602386,0.1794133484363556,0.693757951259613,0.22412991523742676,0.22792617976665497,0.3898851275444031,0.3946076035499573,0.08570152521133423,0.15853041410446167,0.0615052655339241,0.11074302345514297,0.26270052790641785,0.5261606574058533,0.28685200214385986],[0.39937782287597656,0.05829859897494316,0.03270154073834419,0.369428813457489,0.18606555461883545,0.20804449915885925,0.10010587424039841,0.13847985863685608,0.18320026993751526,0.0933779776096344,-0.020876148715615273,-0.05829782783985138,0.10814942419528961,0.11365702748298645,0.25827211141586304,0.44802021980285645,0.10256659984588623,0.1467493772506714,0.1178203821182251,-0.010014012455940247,0.2511748969554901,0.08652851730585098,0.14107923209667206,0.06293769925832748,0.0941164493560791,0.07087041437625885,0.06485850363969803,0.04814647510647774,0.22375720739364624,0.11565275490283966,0.3114573657512665,0.07388170063495636,0.14667260646820068,1.0,0.1284637451171875,0.10322882235050201,0.14193524420261383,-0.08322812616825104,0.36161088943481445,0.0456494577229023,0.09602946043014526,0.0624191015958786,0.00708976574242115,0.20864135026931763,0.10897215455770493,0.15586955845355988,0.13821303844451904,0.18641743063926697,0.07421208918094635,0.06818675994873047,0.12921042740345,0.0860164612531662],[0.1456460952758789,0.32704779505729675,0.37172943353652954,0.1818017065525055,0.23436743021011353,0.24809050559997559,0.29526323080062866,0.3778040111064911,0.5175601840019226,0.26398468017578125,0.34848499298095703,0.2545274794101715,0.22535589337348938,0.19797739386558533,0.12098804861307144,0.23759786784648895,0.07868198305368423,0.4397214353084564,0.45130130648612976,0.2161792665719986,0.16221082210540771,0.17746438086032867,0.3116564154624939,0.45114943385124207,0.20486822724342346,0.18318605422973633,0.2533597946166992,0.34729650616645813,0.1310422420501709,0.24427485466003418,0.17573487758636475,0.1142851859331131,0.4506832957267761,0.1284637451171875,0.9999999403953552,0.1251610517501831,0.5203635096549988,0.2929372191429138,0.11732268333435059,0.15950587391853333,0.39283287525177,0.0896846354007721,0.20275989174842834,0.19798940420150757,0.16453847289085388,0.14022386074066162,0.21355120837688446,0.13160943984985352,0.12416970729827881,0.4168175458908081,0.25366368889808655,0.22231075167655945],[0.1620759814977646,0.293112576007843,0.08765086531639099,0.31714722514152527,0.2038838118314743,0.11486269533634186,0.1566058099269867,0.09600003063678741,0.06409583985805511,0.22033250331878662,0.07845324277877808,0.03685557469725609,0.20687618851661682,0.14572280645370483,0.22037547826766968,0.1326478272676468,0.23826298117637634,0.07732663303613663,0.039070744067430496,0.06987816095352173,0.23176422715187073,0.11657273769378662,0.12120026350021362,-0.052686531096696854,0.16502296924591064,0.2968994975090027,0.1027032658457756,0.45476463437080383,0.15122482180595398,0.045084405690431595,0.09807181358337402,0.2070314884185791,0.2317844182252884,0.10322882235050201,0.1251610517501831,0.9999998807907104,0.13111692667007446,0.07614415884017944,0.14458663761615753,0.24209657311439514,0.2086736559867859,0.08783674240112305,0.1716100573539734,0.18601420521736145,0.11044622957706451,0.09949753433465958,0.14896410703659058,0.19227808713912964,0.24928736686706543,0.16322150826454163,0.20944175124168396,0.31481388211250305],[0.17833980917930603,0.33750298619270325,0.41383224725723267,0.15335680544376373,0.13200950622558594,0.22591015696525574,0.2533602714538574,0.3691795766353607,0.5575588345527649,0.16959115862846375,0.21655994653701782,0.19365499913692474,0.27201011776924133,0.3754120469093323,0.1582750380039215,0.18096452951431274,0.05927912890911102,0.5328773856163025,0.3319230079650879,0.25833722949028015,0.1677398979663849,0.27065926790237427,0.27846717834472656,0.5448989868164062,0.2561136484146118,0.24266281723976135,0.1892579048871994,0.29804056882858276,0.09371798485517502,0.2806129455566406,0.08068212866783142,0.09477191418409348,0.48311692476272583,0.14193524420261383,0.5203635096549988,0.13111692667007446,1.0,0.17736242711544037,0.12076320499181747,0.07287132740020752,0.45977783203125,0.07220067083835602,0.14516876637935638,0.19707313179969788,0.2069561630487442,0.1483459770679474,0.20009712874889374,0.10552051663398743,0.045260775834321976,0.3871234059333801,0.3242000639438629,0.2839873433113098],[0.11163325607776642,0.34852662682533264,0.42813965678215027,0.012201822362840176,0.019378816708922386,0.054550886154174805,0.31167060136795044,0.4009668827056885,0.2367449849843979,0.20278798043727875,0.8563237190246582,0.6943503618240356,0.02905949577689171,0.037048667669296265,0.1567976027727127,0.13380379974842072,0.30183660984039307,0.20279881358146667,0.20098766684532166,0.29489120841026306,0.10115799307823181,0.07977493852376938,0.24123814702033997,0.32951968908309937,0.03256267309188843,0.16593800485134125,0.12291637063026428,0.15388430655002594,0.06252306699752808,0.1473945677280426,-0.032193005084991455,0.19187459349632263,0.340562105178833,-0.08322812616825104,0.2929372191429138,0.07614415884017944,0.17736242711544037,0.9999997615814209,0.03867108374834061,0.043400589376688004,0.4109688401222229,0.1734534502029419,0.19223785400390625,0.09724763035774231,0.14310720562934875,0.12013465166091919,-0.041976649314165115,0.06064866855740547,-0.0049900151789188385,0.07489512860774994,0.14039847254753113,0.24046561121940613],[0.7482104301452637,0.20636993646621704,0.13925543427467346,0.21028798818588257,0.11943262815475464,0.5086866021156311,0.13336516916751862,0.1306723803281784,0.10561218857765198,0.3595515787601471,0.10545314103364944,0.0664074569940567,0.09184025228023529,0.15494024753570557,0.17713001370429993,0.1701120138168335,0.4029807448387146,0.13411565124988556,0.08118689060211182,0.21217015385627747,0.7752160429954529,0.11605611443519592,0.3653640151023865,0.058558039367198944,0.07546750456094742,0.18715906143188477,0.2368336319923401,0.2574237287044525,0.7053766250610352,0.14907220005989075,0.3058679699897766,0.3519529700279236,0.14087043702602386,0.36161088943481445,0.11732268333435059,0.14458663761615753,0.12076320499181747,0.03867108374834061,1.0000001192092896,0.15363621711730957,0.13489140570163727,0.3000694513320923,0.3062783479690552,0.17953845858573914,0.15075801312923431,0.4984368085861206,0.07324954867362976,0.2245086133480072,0.14426961541175842,0.1610453724861145,0.140770822763443,0.24737969040870667],[0.11418803036212921,0.13882261514663696,0.0989939495921135,0.1253223717212677,0.20233352482318878,0.18398471176624298,0.21260777115821838,0.14254800975322723,0.19204850494861603,0.1466471552848816,0.039142709225416183,0.1636696457862854,0.287317156791687,0.14703068137168884,0.10906851291656494,0.06006374955177307,0.38577425479888916,0.08123733103275299,0.11078184843063354,0.09110350161790848,0.1884462833404541,0.15071174502372742,0.2105894833803177,0.02319744974374771,0.27568942308425903,0.13527582585811615,0.20110593736171722,0.2206277847290039,0.22141525149345398,0.08428415656089783,0.36408865451812744,0.44834545254707336,0.1794133484363556,0.0456494577229023,0.15950587391853333,0.24209657311439514,0.07287132740020752,0.043400589376688004,0.15363621711730957,1.000000238418579,0.12000009417533875,0.11455807089805603,0.22678160667419434,0.26012736558914185,0.18268677592277527,0.2712956666946411,0.42187631130218506,0.28555750846862793,0.5009098052978516,0.1240135133266449,0.06703846901655197,0.1957937479019165],[0.10341610759496689,0.588294267654419,0.4048916697502136,0.14909854531288147,0.3507220149040222,0.07685835659503937,0.5928211212158203,0.8093147873878479,0.5722994804382324,0.21875542402267456,0.3909847140312195,0.39462849497795105,0.31267714500427246,0.3887070417404175,0.19110755622386932,0.18717056512832642,0.2621152400970459,0.44343629479408264,0.45296692848205566,0.2661097049713135,0.1358831226825714,0.3961413502693176,0.4608379602432251,0.37552663683891296,0.27462270855903625,0.40081310272216797,0.37047427892684937,0.2948000133037567,0.0584111213684082,0.3193548917770386,0.04463322460651398,0.137587308883667,0.693757951259613,0.09602946043014526,0.39283287525177,0.2086736559867859,0.45977783203125,0.4109688401222229,0.13489140570163727,0.12000009417533875,0.9999999403953552,0.32742828130722046,0.2290371060371399,0.4157390892505646,0.405500590801239,0.07022963464260101,0.10478393733501434,0.14608633518218994,0.0931222140789032,0.27792707085609436,0.363744854927063,0.47197258472442627],[0.19018054008483887,0.41621291637420654,0.1409076452255249,0.08147630095481873,0.32073789834976196,0.21183735132217407,0.5383366346359253,0.3740077018737793,0.1472359001636505,0.27720075845718384,0.1630813181400299,0.19483909010887146,0.14652080833911896,0.40279996395111084,0.19071060419082642,0.2020895630121231,0.2965458631515503,0.063944011926651,0.18157337605953217,0.10144025832414627,0.18853282928466797,0.486757755279541,0.5538426637649536,0.059890490025281906,0.14076663553714752,0.3532256782054901,0.35562118887901306,0.19873419404029846,0.28875279426574707,0.34471070766448975,0.11317293345928192,0.15217070281505585,0.22412991523742676,0.0624191015958786,0.0896846354007721,0.08783674240112305,0.07220067083835602,0.1734534502029419,0.3000694513320923,0.11455807089805603,0.32742828130722046,0.9999999403953552,0.27716392278671265,0.5052590370178223,0.40877023339271545,0.1370638906955719,0.036361485719680786,0.1114741712808609,0.08373726904392242,0.08588942140340805,0.2892695963382721,0.3841339647769928],[0.18151909112930298,0.34269043803215027,0.2782118022441864,0.14938944578170776,0.26753947138786316,0.3032071590423584,0.3018842339515686,0.22211042046546936,0.2573941946029663,0.3325100541114807,0.17279952764511108,0.2671349048614502,0.13786332309246063,0.3230434060096741,0.19754548370838165,0.18807007372379303,0.4385877549648285,0.1518586128950119,0.2259637713432312,0.12962673604488373,0.38422685861587524,0.35483551025390625,0.4569573700428009,0.15217657387256622,0.12896721065044403,0.3412989675998688,0.3974301815032959,0.3662374019622803,0.35098958015441895,0.3302571773529053,0.2902594804763794,0.38718181848526,0.22792617976665497,0.00708976574242115,0.20275989174842834,0.1716100573539734,0.14516876637935638,0.19223785400390625,0.3062783479690552,0.22678160667419434,0.2290371060371399,0.27716392278671265,1.0,0.38213908672332764,0.23078542947769165,0.3159649968147278,0.1404939591884613,0.2697717547416687,0.40017127990722656,0.2625884413719177,0.20253869891166687,0.3072039484977722],[0.1517951339483261,0.44308608770370483,0.1792442500591278,0.2919124662876129,0.41744372248649597,0.19574648141860962,0.6233941316604614,0.4669577181339264,0.3189941644668579,0.3102268576622009,0.09450553357601166,0.16658294200897217,0.34656667709350586,0.6837420463562012,0.3279843330383301,0.4465768039226532,0.3101443648338318,0.12459929287433624,0.27968767285346985,0.08432565629482269,0.16981905698776245,0.6990303993225098,0.5733190774917603,0.11221504211425781,0.3602673411369324,0.48934152722358704,0.44276535511016846,0.22791580855846405,0.16469106078147888,0.45579707622528076,0.2009933441877365,0.25105270743370056,0.3898851275444031,0.20864135026931763,0.19798940420150757,0.18601420521736145,0.19707313179969788,0.09724763035774231,0.17953845858573914,0.26012736558914185,0.4157390892505646,0.5052590370178223,0.38213908672332764,1.0000003576278687,0.5703165531158447,0.12145653367042542,0.05944380164146423,0.12165024876594543,0.1966627687215805,0.13320358097553253,0.423536479473114,0.4212723970413208],[0.12325763702392578,0.46385371685028076,0.2097400426864624,0.11844421923160553,0.3144376873970032,0.15168920159339905,0.695339560508728,0.5348337888717651,0.26654958724975586,0.32748734951019287,0.13125087320804596,0.21433107554912567,0.3423267602920532,0.6583608984947205,0.13441601395606995,0.23346629738807678,0.2303473949432373,0.1844756007194519,0.2692742347717285,0.20157918334007263,0.1457667350769043,0.6481916904449463,0.45997628569602966,0.16070815920829773,0.3579293489456177,0.4162590801715851,0.3597266674041748,0.23044294118881226,0.11177130788564682,0.3919558823108673,0.1267211139202118,0.19690176844596863,0.3946076035499573,0.10897215455770493,0.16453847289085388,0.11044622957706451,0.2069561630487442,0.14310720562934875,0.15075801312923431,0.18268677592277527,0.405500590801239,0.40877023339271545,0.23078542947769165,0.5703165531158447,1.000000238418579,0.13305751979351044,0.10063304007053375,0.09492715448141098,0.12662869691848755,0.18316103518009186,0.43645143508911133,0.4135536551475525],[0.5531467795372009,0.26380231976509094,0.2530701160430908,0.08761486411094666,0.062463607639074326,0.7171182632446289,0.10200443863868713,0.061344001442193985,0.08397823572158813,0.264151006937027,0.11132751405239105,0.2356163114309311,0.11453529447317123,0.09686113148927689,0.11004231870174408,0.13021957874298096,0.6009836196899414,0.14401346445083618,0.047862179577350616,0.2399115115404129,0.4833212196826935,0.05232087895274162,0.290228009223938,0.10330013185739517,0.07890264689922333,0.2299671620130539,0.16468475759029388,0.29371216893196106,0.6479054093360901,0.17673611640930176,0.451581209897995,0.6383249163627625,0.08570152521133423,0.15586955845355988,0.14022386074066162,0.09949753433465958,0.1483459770679474,0.12013465166091919,0.4984368085861206,0.2712956666946411,0.07022963464260101,0.1370638906955719,0.3159649968147278,0.12145653367042542,0.13305751979351044,1.0,0.17729556560516357,0.33293092250823975,0.2719024419784546,0.20396941900253296,0.17183953523635864,0.2391185164451599],[0.0788147896528244,0.125432550907135,0.04505918174982071,0.16858725249767303,0.1736820936203003,0.20936453342437744,0.07070200145244598,0.09443913400173187,0.18691009283065796,0.06388482451438904,0.020376082509756088,0.01173965260386467,0.2888917922973633,0.11821609735488892,0.07486843317747116,0.05192910134792328,0.12185230851173401,0.26385563611984253,0.06156966835260391,-0.014984600245952606,0.15948861837387085,0.09163953363895416,0.08952410519123077,0.022927168756723404,0.251615434885025,0.0660402774810791,0.0982835590839386,0.13566114008426666,0.10335370898246765,0.05927065387368202,0.23618361353874207,0.16143453121185303,0.15853041410446167,0.13821303844451904,0.21355120837688446,0.14896410703659058,0.20009712874889374,-0.041976649314165115,0.07324954867362976,0.42187631130218506,0.10478393733501434,0.036361485719680786,0.1404939591884613,0.05944380164146423,0.10063304007053375,0.17729556560516357,1.000000238418579,0.3477071523666382,0.13942883908748627,0.28762781620025635,0.055754996836185455,0.1554262489080429],[0.23886452615261078,0.18749414384365082,0.10121497511863708,0.19553609192371368,0.2125537395477295,0.26762428879737854,0.08472660183906555,0.08079107850790024,0.05949597805738449,0.1175413429737091,0.10522376000881195,0.09885959327220917,0.18867814540863037,0.10845541954040527,0.28511565923690796,0.19091078639030457,0.33670204877853394,0.21808937191963196,0.09675566852092743,0.08482931554317474,0.2523350715637207,0.10444875061511993,0.15137463808059692,0.1040736585855484,0.15449051558971405,0.07683783024549484,0.14187385141849518,0.22626301646232605,0.29385390877723694,0.05094391480088234,0.3381059765815735,0.43779975175857544,0.0615052655339241,0.18641743063926697,0.13160943984985352,0.19227808713912964,0.10552051663398743,0.06064866855740547,0.2245086133480072,0.28555750846862793,0.14608633518218994,0.1114741712808609,0.2697717547416687,0.12165024876594543,0.09492715448141098,0.33293092250823975,0.3477071523666382,0.9999998807907104,0.23031064867973328,0.3213096857070923,0.06265777349472046,0.19375669956207275],[0.1165468767285347,0.13857623934745789,0.1230606883764267,0.1194838285446167,0.21453091502189636,0.1954697072505951,0.17908482253551483,0.08461594581604004,0.2111099660396576,0.28608787059783936,0.04408511891961098,0.0802234336733818,0.08473378419876099,0.08631709218025208,0.17011785507202148,0.1737363487482071,0.2672542333602905,0.135640487074852,0.3618607819080353,0.15071317553520203,0.1887974888086319,0.08803119510412216,0.2770252525806427,0.05491273105144501,0.08470939099788666,0.20246779918670654,0.39333516359329224,0.4948338270187378,0.2307528257369995,0.12958072125911713,0.4209640622138977,0.3589971661567688,0.11074302345514297,0.07421208918094635,0.12416970729827881,0.24928736686706543,0.045260775834321976,-0.0049900151789188385,0.14426961541175842,0.5009098052978516,0.0931222140789032,0.08373726904392242,0.40017127990722656,0.1966627687215805,0.12662869691848755,0.2719024419784546,0.13942883908748627,0.23031064867973328,1.000000238418579,0.28387731313705444,0.10693024098873138,0.12214703857898712],[0.14595109224319458,0.27139022946357727,0.20704641938209534,0.10681766271591187,0.15930959582328796,0.2611348628997803,0.19789576530456543,0.242783784866333,0.3088454008102417,0.2867891192436218,0.09281948208808899,0.18672174215316772,0.2184763103723526,0.193789541721344,0.1351383924484253,0.16984900832176208,0.13627567887306213,0.6998876333236694,0.40409570932388306,0.15712770819664001,0.22445055842399597,0.10365131497383118,0.2866836190223694,0.28444528579711914,0.1867465078830719,0.23477789759635925,0.4059845209121704,0.43774938583374023,0.16374900937080383,0.23359856009483337,0.18827958405017853,0.18229155242443085,0.26270052790641785,0.06818675994873047,0.4168175458908081,0.16322150826454163,0.3871234059333801,0.07489512860774994,0.1610453724861145,0.1240135133266449,0.27792707085609436,0.08588942140340805,0.2625884413719177,0.13320358097553253,0.18316103518009186,0.20396941900253296,0.28762781620025635,0.3213096857070923,0.28387731313705444,1.0000001192092896,0.24875226616859436,0.24721887707710266],[0.16806912422180176,0.34460949897766113,0.30990463495254517,0.17452678084373474,0.2708238959312439,0.19248390197753906,0.39506450295448303,0.42012181878089905,0.33724021911621094,0.24699486792087555,0.19808301329612732,0.16799089312553406,0.382689893245697,0.5983610153198242,0.21590495109558105,0.3126027584075928,0.15256759524345398,0.28122368454933167,0.2706177234649658,0.1294274926185608,0.1839054822921753,0.42529797554016113,0.2818037271499634,0.2565041780471802,0.3561408519744873,0.28623807430267334,0.3034060597419739,0.25657379627227783,0.1572931706905365,0.5000808238983154,0.11999969929456711,0.10998240858316422,0.5261606574058533,0.12921042740345,0.25366368889808655,0.20944175124168396,0.3242000639438629,0.14039847254753113,0.140770822763443,0.06703846901655197,0.363744854927063,0.2892695963382721,0.20253869891166687,0.423536479473114,0.43645143508911133,0.17183953523635864,0.055754996836185455,0.06265777349472046,0.10693024098873138,0.24875226616859436,0.9999998807907104,0.2970860004425049],[0.26775622367858887,0.5845541954040527,0.28477171063423157,0.14864209294319153,0.2540273070335388,0.3001072406768799,0.5292280912399292,0.43970245122909546,0.22650191187858582,0.29197871685028076,0.2262255698442459,0.2812980115413666,0.4388241171836853,0.40030935406684875,0.1889640986919403,0.22058771550655365,0.39021050930023193,0.21524938941001892,0.1352027803659439,0.2796512246131897,0.28273409605026245,0.4428558051586151,0.43817952275276184,0.2137373685836792,0.386028528213501,0.4278941750526428,0.27207016944885254,0.3595619797706604,0.24500355124473572,0.3497242331504822,0.11878345161676407,0.3144147992134094,0.28685200214385986,0.0860164612531662,0.22231075167655945,0.31481388211250305,0.2839873433113098,0.24046561121940613,0.24737969040870667,0.1957937479019165,0.47197258472442627,0.3841339647769928,0.3072039484977722,0.4212723970413208,0.4135536551475525,0.2391185164451599,0.1554262489080429,0.19375669956207275,0.12214703857898712,0.24721887707710266,0.2970860004425049,0.9999997019767761]],\"type\":\"heatmap\",\"xaxis\":\"x\",\"yaxis\":\"y\",\"hovertemplate\":\"x: %{x}\\u003cbr\\u003ey: %{y}\\u003cbr\\u003eSimilarity Score: %{z}\\u003cextra\\u003e\\u003c\\u002fextra\\u003e\"}],                        {\"template\":{\"data\":{\"histogram2dcontour\":[{\"type\":\"histogram2dcontour\",\"colorbar\":{\"outlinewidth\":0,\"ticks\":\"\"},\"colorscale\":[[0.0,\"#0d0887\"],[0.1111111111111111,\"#46039f\"],[0.2222222222222222,\"#7201a8\"],[0.3333333333333333,\"#9c179e\"],[0.4444444444444444,\"#bd3786\"],[0.5555555555555556,\"#d8576b\"],[0.6666666666666666,\"#ed7953\"],[0.7777777777777778,\"#fb9f3a\"],[0.8888888888888888,\"#fdca26\"],[1.0,\"#f0f921\"]]}],\"choropleth\":[{\"type\":\"choropleth\",\"colorbar\":{\"outlinewidth\":0,\"ticks\":\"\"}}],\"histogram2d\":[{\"type\":\"histogram2d\",\"colorbar\":{\"outlinewidth\":0,\"ticks\":\"\"},\"colorscale\":[[0.0,\"#0d0887\"],[0.1111111111111111,\"#46039f\"],[0.2222222222222222,\"#7201a8\"],[0.3333333333333333,\"#9c179e\"],[0.4444444444444444,\"#bd3786\"],[0.5555555555555556,\"#d8576b\"],[0.6666666666666666,\"#ed7953\"],[0.7777777777777778,\"#fb9f3a\"],[0.8888888888888888,\"#fdca26\"],[1.0,\"#f0f921\"]]}],\"heatmap\":[{\"type\":\"heatmap\",\"colorbar\":{\"outlinewidth\":0,\"ticks\":\"\"},\"colorscale\":[[0.0,\"#0d0887\"],[0.1111111111111111,\"#46039f\"],[0.2222222222222222,\"#7201a8\"],[0.3333333333333333,\"#9c179e\"],[0.4444444444444444,\"#bd3786\"],[0.5555555555555556,\"#d8576b\"],[0.6666666666666666,\"#ed7953\"],[0.7777777777777778,\"#fb9f3a\"],[0.8888888888888888,\"#fdca26\"],[1.0,\"#f0f921\"]]}],\"heatmapgl\":[{\"type\":\"heatmapgl\",\"colorbar\":{\"outlinewidth\":0,\"ticks\":\"\"},\"colorscale\":[[0.0,\"#0d0887\"],[0.1111111111111111,\"#46039f\"],[0.2222222222222222,\"#7201a8\"],[0.3333333333333333,\"#9c179e\"],[0.4444444444444444,\"#bd3786\"],[0.5555555555555556,\"#d8576b\"],[0.6666666666666666,\"#ed7953\"],[0.7777777777777778,\"#fb9f3a\"],[0.8888888888888888,\"#fdca26\"],[1.0,\"#f0f921\"]]}],\"contourcarpet\":[{\"type\":\"contourcarpet\",\"colorbar\":{\"outlinewidth\":0,\"ticks\":\"\"}}],\"contour\":[{\"type\":\"contour\",\"colorbar\":{\"outlinewidth\":0,\"ticks\":\"\"},\"colorscale\":[[0.0,\"#0d0887\"],[0.1111111111111111,\"#46039f\"],[0.2222222222222222,\"#7201a8\"],[0.3333333333333333,\"#9c179e\"],[0.4444444444444444,\"#bd3786\"],[0.5555555555555556,\"#d8576b\"],[0.6666666666666666,\"#ed7953\"],[0.7777777777777778,\"#fb9f3a\"],[0.8888888888888888,\"#fdca26\"],[1.0,\"#f0f921\"]]}],\"surface\":[{\"type\":\"surface\",\"colorbar\":{\"outlinewidth\":0,\"ticks\":\"\"},\"colorscale\":[[0.0,\"#0d0887\"],[0.1111111111111111,\"#46039f\"],[0.2222222222222222,\"#7201a8\"],[0.3333333333333333,\"#9c179e\"],[0.4444444444444444,\"#bd3786\"],[0.5555555555555556,\"#d8576b\"],[0.6666666666666666,\"#ed7953\"],[0.7777777777777778,\"#fb9f3a\"],[0.8888888888888888,\"#fdca26\"],[1.0,\"#f0f921\"]]}],\"mesh3d\":[{\"type\":\"mesh3d\",\"colorbar\":{\"outlinewidth\":0,\"ticks\":\"\"}}],\"scatter\":[{\"fillpattern\":{\"fillmode\":\"overlay\",\"size\":10,\"solidity\":0.2},\"type\":\"scatter\"}],\"parcoords\":[{\"type\":\"parcoords\",\"line\":{\"colorbar\":{\"outlinewidth\":0,\"ticks\":\"\"}}}],\"scatterpolargl\":[{\"type\":\"scatterpolargl\",\"marker\":{\"colorbar\":{\"outlinewidth\":0,\"ticks\":\"\"}}}],\"bar\":[{\"error_x\":{\"color\":\"#2a3f5f\"},\"error_y\":{\"color\":\"#2a3f5f\"},\"marker\":{\"line\":{\"color\":\"#E5ECF6\",\"width\":0.5},\"pattern\":{\"fillmode\":\"overlay\",\"size\":10,\"solidity\":0.2}},\"type\":\"bar\"}],\"scattergeo\":[{\"type\":\"scattergeo\",\"marker\":{\"colorbar\":{\"outlinewidth\":0,\"ticks\":\"\"}}}],\"scatterpolar\":[{\"type\":\"scatterpolar\",\"marker\":{\"colorbar\":{\"outlinewidth\":0,\"ticks\":\"\"}}}],\"histogram\":[{\"marker\":{\"pattern\":{\"fillmode\":\"overlay\",\"size\":10,\"solidity\":0.2}},\"type\":\"histogram\"}],\"scattergl\":[{\"type\":\"scattergl\",\"marker\":{\"colorbar\":{\"outlinewidth\":0,\"ticks\":\"\"}}}],\"scatter3d\":[{\"type\":\"scatter3d\",\"line\":{\"colorbar\":{\"outlinewidth\":0,\"ticks\":\"\"}},\"marker\":{\"colorbar\":{\"outlinewidth\":0,\"ticks\":\"\"}}}],\"scattermapbox\":[{\"type\":\"scattermapbox\",\"marker\":{\"colorbar\":{\"outlinewidth\":0,\"ticks\":\"\"}}}],\"scatterternary\":[{\"type\":\"scatterternary\",\"marker\":{\"colorbar\":{\"outlinewidth\":0,\"ticks\":\"\"}}}],\"scattercarpet\":[{\"type\":\"scattercarpet\",\"marker\":{\"colorbar\":{\"outlinewidth\":0,\"ticks\":\"\"}}}],\"carpet\":[{\"aaxis\":{\"endlinecolor\":\"#2a3f5f\",\"gridcolor\":\"white\",\"linecolor\":\"white\",\"minorgridcolor\":\"white\",\"startlinecolor\":\"#2a3f5f\"},\"baxis\":{\"endlinecolor\":\"#2a3f5f\",\"gridcolor\":\"white\",\"linecolor\":\"white\",\"minorgridcolor\":\"white\",\"startlinecolor\":\"#2a3f5f\"},\"type\":\"carpet\"}],\"table\":[{\"cells\":{\"fill\":{\"color\":\"#EBF0F8\"},\"line\":{\"color\":\"white\"}},\"header\":{\"fill\":{\"color\":\"#C8D4E3\"},\"line\":{\"color\":\"white\"}},\"type\":\"table\"}],\"barpolar\":[{\"marker\":{\"line\":{\"color\":\"#E5ECF6\",\"width\":0.5},\"pattern\":{\"fillmode\":\"overlay\",\"size\":10,\"solidity\":0.2}},\"type\":\"barpolar\"}],\"pie\":[{\"automargin\":true,\"type\":\"pie\"}]},\"layout\":{\"autotypenumbers\":\"strict\",\"colorway\":[\"#636efa\",\"#EF553B\",\"#00cc96\",\"#ab63fa\",\"#FFA15A\",\"#19d3f3\",\"#FF6692\",\"#B6E880\",\"#FF97FF\",\"#FECB52\"],\"font\":{\"color\":\"#2a3f5f\"},\"hovermode\":\"closest\",\"hoverlabel\":{\"align\":\"left\"},\"paper_bgcolor\":\"white\",\"plot_bgcolor\":\"#E5ECF6\",\"polar\":{\"bgcolor\":\"#E5ECF6\",\"angularaxis\":{\"gridcolor\":\"white\",\"linecolor\":\"white\",\"ticks\":\"\"},\"radialaxis\":{\"gridcolor\":\"white\",\"linecolor\":\"white\",\"ticks\":\"\"}},\"ternary\":{\"bgcolor\":\"#E5ECF6\",\"aaxis\":{\"gridcolor\":\"white\",\"linecolor\":\"white\",\"ticks\":\"\"},\"baxis\":{\"gridcolor\":\"white\",\"linecolor\":\"white\",\"ticks\":\"\"},\"caxis\":{\"gridcolor\":\"white\",\"linecolor\":\"white\",\"ticks\":\"\"}},\"coloraxis\":{\"colorbar\":{\"outlinewidth\":0,\"ticks\":\"\"}},\"colorscale\":{\"sequential\":[[0.0,\"#0d0887\"],[0.1111111111111111,\"#46039f\"],[0.2222222222222222,\"#7201a8\"],[0.3333333333333333,\"#9c179e\"],[0.4444444444444444,\"#bd3786\"],[0.5555555555555556,\"#d8576b\"],[0.6666666666666666,\"#ed7953\"],[0.7777777777777778,\"#fb9f3a\"],[0.8888888888888888,\"#fdca26\"],[1.0,\"#f0f921\"]],\"sequentialminus\":[[0.0,\"#0d0887\"],[0.1111111111111111,\"#46039f\"],[0.2222222222222222,\"#7201a8\"],[0.3333333333333333,\"#9c179e\"],[0.4444444444444444,\"#bd3786\"],[0.5555555555555556,\"#d8576b\"],[0.6666666666666666,\"#ed7953\"],[0.7777777777777778,\"#fb9f3a\"],[0.8888888888888888,\"#fdca26\"],[1.0,\"#f0f921\"]],\"diverging\":[[0,\"#8e0152\"],[0.1,\"#c51b7d\"],[0.2,\"#de77ae\"],[0.3,\"#f1b6da\"],[0.4,\"#fde0ef\"],[0.5,\"#f7f7f7\"],[0.6,\"#e6f5d0\"],[0.7,\"#b8e186\"],[0.8,\"#7fbc41\"],[0.9,\"#4d9221\"],[1,\"#276419\"]]},\"xaxis\":{\"gridcolor\":\"white\",\"linecolor\":\"white\",\"ticks\":\"\",\"title\":{\"standoff\":15},\"zerolinecolor\":\"white\",\"automargin\":true,\"zerolinewidth\":2},\"yaxis\":{\"gridcolor\":\"white\",\"linecolor\":\"white\",\"ticks\":\"\",\"title\":{\"standoff\":15},\"zerolinecolor\":\"white\",\"automargin\":true,\"zerolinewidth\":2},\"scene\":{\"xaxis\":{\"backgroundcolor\":\"#E5ECF6\",\"gridcolor\":\"white\",\"linecolor\":\"white\",\"showbackground\":true,\"ticks\":\"\",\"zerolinecolor\":\"white\",\"gridwidth\":2},\"yaxis\":{\"backgroundcolor\":\"#E5ECF6\",\"gridcolor\":\"white\",\"linecolor\":\"white\",\"showbackground\":true,\"ticks\":\"\",\"zerolinecolor\":\"white\",\"gridwidth\":2},\"zaxis\":{\"backgroundcolor\":\"#E5ECF6\",\"gridcolor\":\"white\",\"linecolor\":\"white\",\"showbackground\":true,\"ticks\":\"\",\"zerolinecolor\":\"white\",\"gridwidth\":2}},\"shapedefaults\":{\"line\":{\"color\":\"#2a3f5f\"}},\"annotationdefaults\":{\"arrowcolor\":\"#2a3f5f\",\"arrowhead\":0,\"arrowwidth\":1},\"geo\":{\"bgcolor\":\"white\",\"landcolor\":\"#E5ECF6\",\"subunitcolor\":\"white\",\"showland\":true,\"showlakes\":true,\"lakecolor\":\"white\"},\"title\":{\"x\":0.05},\"mapbox\":{\"style\":\"light\"}}},\"xaxis\":{\"anchor\":\"y\",\"domain\":[0.0,1.0],\"scaleanchor\":\"y\",\"constrain\":\"domain\"},\"yaxis\":{\"anchor\":\"x\",\"domain\":[0.0,1.0],\"autorange\":\"reversed\",\"constrain\":\"domain\"},\"coloraxis\":{\"colorbar\":{\"title\":{\"text\":\"Similarity Score\"}},\"colorscale\":[[0.0,\"rgb(247,252,240)\"],[0.125,\"rgb(224,243,219)\"],[0.25,\"rgb(204,235,197)\"],[0.375,\"rgb(168,221,181)\"],[0.5,\"rgb(123,204,196)\"],[0.625,\"rgb(78,179,211)\"],[0.75,\"rgb(43,140,190)\"],[0.875,\"rgb(8,104,172)\"],[1.0,\"rgb(8,64,129)\"]]},\"margin\":{\"t\":60},\"title\":{\"font\":{\"size\":22,\"color\":\"Black\"},\"text\":\"\\u003cb\\u003eSimilarity Matrix\\u003c\\u002fb\\u003e\",\"y\":0.95,\"x\":0.55,\"xanchor\":\"center\",\"yanchor\":\"top\"},\"hoverlabel\":{\"font\":{\"size\":16,\"family\":\"Rockwell\"},\"bgcolor\":\"white\"},\"width\":800,\"height\":800,\"showlegend\":true,\"legend\":{\"title\":{\"text\":\"Trend\"}}},                        {\"responsive\": true}                    ).then(function(){\n",
       "                            \n",
       "var gd = document.getElementById('fec07340-3181-4f9a-8ed2-393ba99f426e');\n",
       "var x = new MutationObserver(function (mutations, observer) {{\n",
       "        var display = window.getComputedStyle(gd).display;\n",
       "        if (!display || display === 'none') {{\n",
       "            console.log([gd, 'removed!']);\n",
       "            Plotly.purge(gd);\n",
       "            observer.disconnect();\n",
       "        }}\n",
       "}});\n",
       "\n",
       "// Listen for the removal of the full notebook cells\n",
       "var notebookContainer = gd.closest('#notebook-container');\n",
       "if (notebookContainer) {{\n",
       "    x.observe(notebookContainer, {childList: true});\n",
       "}}\n",
       "\n",
       "// Listen for the clearing of the current output cell\n",
       "var outputEl = gd.closest('.output');\n",
       "if (outputEl) {{\n",
       "    x.observe(outputEl, {childList: true});\n",
       "}}\n",
       "\n",
       "                        })                };                });            </script>        </div>"
      ]
     },
     "metadata": {},
     "output_type": "display_data"
    }
   ],
   "source": [
    "topic_model.visualize_heatmap()"
   ]
  },
  {
   "cell_type": "code",
   "execution_count": 12,
   "metadata": {},
   "outputs": [
    {
     "data": {
      "text/html": [
       "<div>\n",
       "<style scoped>\n",
       "    .dataframe tbody tr th:only-of-type {\n",
       "        vertical-align: middle;\n",
       "    }\n",
       "\n",
       "    .dataframe tbody tr th {\n",
       "        vertical-align: top;\n",
       "    }\n",
       "\n",
       "    .dataframe thead th {\n",
       "        text-align: right;\n",
       "    }\n",
       "</style>\n",
       "<table border=\"1\" class=\"dataframe\">\n",
       "  <thead>\n",
       "    <tr style=\"text-align: right;\">\n",
       "      <th></th>\n",
       "      <th>Document</th>\n",
       "      <th>Topic</th>\n",
       "      <th>Name</th>\n",
       "      <th>Representation</th>\n",
       "      <th>Representative_Docs</th>\n",
       "      <th>Top_n_words</th>\n",
       "      <th>Representative_document</th>\n",
       "    </tr>\n",
       "  </thead>\n",
       "  <tbody>\n",
       "    <tr>\n",
       "      <th>0</th>\n",
       "      <td>Pop culture, short for popular culture, refers...</td>\n",
       "      <td>38</td>\n",
       "      <td>38_culture_pop_popular_entertainment</td>\n",
       "      <td>[culture, pop, popular, entertainment, fashion...</td>\n",
       "      <td>[Pop culture has always played a significant r...</td>\n",
       "      <td>culture - pop - popular - entertainment - fash...</td>\n",
       "      <td>True</td>\n",
       "    </tr>\n",
       "    <tr>\n",
       "      <th>1</th>\n",
       "      <td>In our fast-paced and hectic lives, we often f...</td>\n",
       "      <td>34</td>\n",
       "      <td>34_eating_food_mindful_we</td>\n",
       "      <td>[eating, food, mindful, we, our, digestion, me...</td>\n",
       "      <td>[In today's fast-paced world, we often find ou...</td>\n",
       "      <td>eating - food - mindful - we - our - digestion...</td>\n",
       "      <td>False</td>\n",
       "    </tr>\n",
       "    <tr>\n",
       "      <th>2</th>\n",
       "      <td>Financial literacy is a crucial skill that eve...</td>\n",
       "      <td>2</td>\n",
       "      <td>2_financial_expenses_debt_finance</td>\n",
       "      <td>[financial, expenses, debt, finance, your, mon...</td>\n",
       "      <td>[Managing personal finances can sometimes feel...</td>\n",
       "      <td>financial - expenses - debt - finance - your -...</td>\n",
       "      <td>False</td>\n",
       "    </tr>\n",
       "    <tr>\n",
       "      <th>3</th>\n",
       "      <td>Fast fashion has become a dominant force in th...</td>\n",
       "      <td>28</td>\n",
       "      <td>28_fashion_fast_clothing_waste</td>\n",
       "      <td>[fashion, fast, clothing, waste, industry, sus...</td>\n",
       "      <td>[Fast fashion is a term used to describe the q...</td>\n",
       "      <td>fashion - fast - clothing - waste - industry -...</td>\n",
       "      <td>True</td>\n",
       "    </tr>\n",
       "    <tr>\n",
       "      <th>4</th>\n",
       "      <td>Physical exercise has long been known to have ...</td>\n",
       "      <td>24</td>\n",
       "      <td>24_exercise_mental_activity_physical</td>\n",
       "      <td>[exercise, mental, activity, physical, regular...</td>\n",
       "      <td>[It’s no secret that regular exercise is essen...</td>\n",
       "      <td>exercise - mental - activity - physical - regu...</td>\n",
       "      <td>True</td>\n",
       "    </tr>\n",
       "  </tbody>\n",
       "</table>\n",
       "</div>"
      ],
      "text/plain": [
       "                                            Document  Topic  \\\n",
       "0  Pop culture, short for popular culture, refers...     38   \n",
       "1  In our fast-paced and hectic lives, we often f...     34   \n",
       "2  Financial literacy is a crucial skill that eve...      2   \n",
       "3  Fast fashion has become a dominant force in th...     28   \n",
       "4  Physical exercise has long been known to have ...     24   \n",
       "\n",
       "                                   Name  \\\n",
       "0  38_culture_pop_popular_entertainment   \n",
       "1             34_eating_food_mindful_we   \n",
       "2     2_financial_expenses_debt_finance   \n",
       "3        28_fashion_fast_clothing_waste   \n",
       "4  24_exercise_mental_activity_physical   \n",
       "\n",
       "                                      Representation  \\\n",
       "0  [culture, pop, popular, entertainment, fashion...   \n",
       "1  [eating, food, mindful, we, our, digestion, me...   \n",
       "2  [financial, expenses, debt, finance, your, mon...   \n",
       "3  [fashion, fast, clothing, waste, industry, sus...   \n",
       "4  [exercise, mental, activity, physical, regular...   \n",
       "\n",
       "                                 Representative_Docs  \\\n",
       "0  [Pop culture has always played a significant r...   \n",
       "1  [In today's fast-paced world, we often find ou...   \n",
       "2  [Managing personal finances can sometimes feel...   \n",
       "3  [Fast fashion is a term used to describe the q...   \n",
       "4  [It’s no secret that regular exercise is essen...   \n",
       "\n",
       "                                         Top_n_words  Representative_document  \n",
       "0  culture - pop - popular - entertainment - fash...                     True  \n",
       "1  eating - food - mindful - we - our - digestion...                    False  \n",
       "2  financial - expenses - debt - finance - your -...                    False  \n",
       "3  fashion - fast - clothing - waste - industry -...                     True  \n",
       "4  exercise - mental - activity - physical - regu...                     True  "
      ]
     },
     "execution_count": 12,
     "metadata": {},
     "output_type": "execute_result"
    }
   ],
   "source": [
    "df_topics = topic_model.get_document_info(docs)\n",
    "df_topics.head()"
   ]
  },
  {
   "cell_type": "code",
   "execution_count": 13,
   "metadata": {},
   "outputs": [],
   "source": [
    "df['Topic'] = df_topics['Topic']"
   ]
  },
  {
   "cell_type": "code",
   "execution_count": 14,
   "metadata": {},
   "outputs": [
    {
     "data": {
      "text/html": [
       "<div>\n",
       "<style scoped>\n",
       "    .dataframe tbody tr th:only-of-type {\n",
       "        vertical-align: middle;\n",
       "    }\n",
       "\n",
       "    .dataframe tbody tr th {\n",
       "        vertical-align: top;\n",
       "    }\n",
       "\n",
       "    .dataframe thead th {\n",
       "        text-align: right;\n",
       "    }\n",
       "</style>\n",
       "<table border=\"1\" class=\"dataframe\">\n",
       "  <thead>\n",
       "    <tr style=\"text-align: right;\">\n",
       "      <th></th>\n",
       "      <th>Articolo</th>\n",
       "      <th>Argomento</th>\n",
       "      <th>Descrizione</th>\n",
       "      <th>Topic</th>\n",
       "    </tr>\n",
       "  </thead>\n",
       "  <tbody>\n",
       "    <tr>\n",
       "      <th>0</th>\n",
       "      <td>Pop culture, short for popular culture, refers...</td>\n",
       "      <td>The Influence of Pop Culture on Society</td>\n",
       "      <td>Explore how popular culture trends influence f...</td>\n",
       "      <td>38</td>\n",
       "    </tr>\n",
       "    <tr>\n",
       "      <th>1</th>\n",
       "      <td>In our fast-paced and hectic lives, we often f...</td>\n",
       "      <td>The Benefits of Mindful Eating</td>\n",
       "      <td>Learn how practicing mindful eating can improv...</td>\n",
       "      <td>34</td>\n",
       "    </tr>\n",
       "    <tr>\n",
       "      <th>2</th>\n",
       "      <td>Financial literacy is a crucial skill that eve...</td>\n",
       "      <td>The Importance of Financial Literacy</td>\n",
       "      <td>Learn about the significance of understanding ...</td>\n",
       "      <td>2</td>\n",
       "    </tr>\n",
       "    <tr>\n",
       "      <th>3</th>\n",
       "      <td>Fast fashion has become a dominant force in th...</td>\n",
       "      <td>The Impact of Fast Fashion on the Environment</td>\n",
       "      <td>Explore the environmental consequences of fast...</td>\n",
       "      <td>28</td>\n",
       "    </tr>\n",
       "    <tr>\n",
       "      <th>4</th>\n",
       "      <td>Physical exercise has long been known to have ...</td>\n",
       "      <td>The Benefits of Regular Exercise for Mental He...</td>\n",
       "      <td>Learn how physical activity can improve mental...</td>\n",
       "      <td>24</td>\n",
       "    </tr>\n",
       "  </tbody>\n",
       "</table>\n",
       "</div>"
      ],
      "text/plain": [
       "                                            Articolo  \\\n",
       "0  Pop culture, short for popular culture, refers...   \n",
       "1  In our fast-paced and hectic lives, we often f...   \n",
       "2  Financial literacy is a crucial skill that eve...   \n",
       "3  Fast fashion has become a dominant force in th...   \n",
       "4  Physical exercise has long been known to have ...   \n",
       "\n",
       "                                           Argomento  \\\n",
       "0            The Influence of Pop Culture on Society   \n",
       "1                     The Benefits of Mindful Eating   \n",
       "2               The Importance of Financial Literacy   \n",
       "3      The Impact of Fast Fashion on the Environment   \n",
       "4  The Benefits of Regular Exercise for Mental He...   \n",
       "\n",
       "                                         Descrizione  Topic  \n",
       "0  Explore how popular culture trends influence f...     38  \n",
       "1  Learn how practicing mindful eating can improv...     34  \n",
       "2  Learn about the significance of understanding ...      2  \n",
       "3  Explore the environmental consequences of fast...     28  \n",
       "4  Learn how physical activity can improve mental...     24  "
      ]
     },
     "execution_count": 14,
     "metadata": {},
     "output_type": "execute_result"
    }
   ],
   "source": [
    "df.head()"
   ]
  },
  {
   "cell_type": "code",
   "execution_count": 15,
   "metadata": {},
   "outputs": [],
   "source": [
    "topics_dict = topic_model.get_topics()"
   ]
  },
  {
   "cell_type": "code",
   "execution_count": 16,
   "metadata": {},
   "outputs": [
    {
     "data": {
      "text/plain": [
       "[('celebrities', 0.09350227402681173),\n",
       " ('influence', 0.05549470714839569),\n",
       " ('their', 0.05417027571586483),\n",
       " ('public', 0.03980714731343298),\n",
       " ('opinion', 0.03852932927883447),\n",
       " ('movements', 0.03557326447406272),\n",
       " ('trends', 0.031186161366673633),\n",
       " ('fashion', 0.030283700422114743),\n",
       " ('celebrity', 0.030263548177656655),\n",
       " ('society', 0.027799916102521992),\n",
       " ('opinions', 0.02698383426157327),\n",
       " ('political', 0.025625465678494948),\n",
       " ('causes', 0.02236161403569448),\n",
       " ('shape', 0.021982629074963844),\n",
       " ('social', 0.020750667237746913),\n",
       " ('sway', 0.02006082490352138),\n",
       " ('have', 0.019830085730120836),\n",
       " ('they', 0.019696338889615743),\n",
       " ('fans', 0.019172154419624565),\n",
       " ('choices', 0.018628876166843014),\n",
       " ('to', 0.018296841657992665),\n",
       " ('important', 0.01797608390151004),\n",
       " ('style', 0.016810375096602135),\n",
       " ('impact', 0.016305614061918047),\n",
       " ('or', 0.016223156041532277),\n",
       " ('on', 0.01601814743140038),\n",
       " ('is', 0.01576542508668955),\n",
       " ('endorsements', 0.015490573726992097),\n",
       " ('it', 0.01543820010478493),\n",
       " ('the', 0.015054184906494506)]"
      ]
     },
     "execution_count": 16,
     "metadata": {},
     "output_type": "execute_result"
    }
   ],
   "source": [
    "topics_dict[0]"
   ]
  },
  {
   "cell_type": "code",
   "execution_count": 65,
   "metadata": {},
   "outputs": [],
   "source": [
    "def extract_top_words(topic_id):\n",
    "    return topics_dict[topic_id]\n",
    "    "
   ]
  },
  {
   "cell_type": "code",
   "execution_count": 66,
   "metadata": {},
   "outputs": [],
   "source": [
    "df['top_words'] = df['Topic'].apply(extract_top_words)"
   ]
  },
  {
   "cell_type": "code",
   "execution_count": 67,
   "metadata": {},
   "outputs": [
    {
     "data": {
      "text/html": [
       "<div>\n",
       "<style scoped>\n",
       "    .dataframe tbody tr th:only-of-type {\n",
       "        vertical-align: middle;\n",
       "    }\n",
       "\n",
       "    .dataframe tbody tr th {\n",
       "        vertical-align: top;\n",
       "    }\n",
       "\n",
       "    .dataframe thead th {\n",
       "        text-align: right;\n",
       "    }\n",
       "</style>\n",
       "<table border=\"1\" class=\"dataframe\">\n",
       "  <thead>\n",
       "    <tr style=\"text-align: right;\">\n",
       "      <th></th>\n",
       "      <th>Articolo</th>\n",
       "      <th>Argomento</th>\n",
       "      <th>Descrizione</th>\n",
       "      <th>Topic</th>\n",
       "      <th>top_words</th>\n",
       "    </tr>\n",
       "  </thead>\n",
       "  <tbody>\n",
       "    <tr>\n",
       "      <th>0</th>\n",
       "      <td>Pop culture, short for popular culture, refers...</td>\n",
       "      <td>The Influence of Pop Culture on Society</td>\n",
       "      <td>Explore how popular culture trends influence f...</td>\n",
       "      <td>38</td>\n",
       "      <td>[(culture, 0.102516673715912), (pop, 0.0867954...</td>\n",
       "    </tr>\n",
       "    <tr>\n",
       "      <th>1</th>\n",
       "      <td>In our fast-paced and hectic lives, we often f...</td>\n",
       "      <td>The Benefits of Mindful Eating</td>\n",
       "      <td>Learn how practicing mindful eating can improv...</td>\n",
       "      <td>29</td>\n",
       "      <td>[(eating, 0.11861944183679486), (food, 0.07184...</td>\n",
       "    </tr>\n",
       "    <tr>\n",
       "      <th>2</th>\n",
       "      <td>Financial literacy is a crucial skill that eve...</td>\n",
       "      <td>The Importance of Financial Literacy</td>\n",
       "      <td>Learn about the significance of understanding ...</td>\n",
       "      <td>49</td>\n",
       "      <td>[(financial, 0.16059164572001008), (literacy, ...</td>\n",
       "    </tr>\n",
       "    <tr>\n",
       "      <th>3</th>\n",
       "      <td>Fast fashion has become a dominant force in th...</td>\n",
       "      <td>The Impact of Fast Fashion on the Environment</td>\n",
       "      <td>Explore the environmental consequences of fast...</td>\n",
       "      <td>33</td>\n",
       "      <td>[(fashion, 0.09808000428804091), (fast, 0.0800...</td>\n",
       "    </tr>\n",
       "    <tr>\n",
       "      <th>4</th>\n",
       "      <td>Physical exercise has long been known to have ...</td>\n",
       "      <td>The Benefits of Regular Exercise for Mental He...</td>\n",
       "      <td>Learn how physical activity can improve mental...</td>\n",
       "      <td>21</td>\n",
       "      <td>[(exercise, 0.07247635175061841), (mental, 0.0...</td>\n",
       "    </tr>\n",
       "  </tbody>\n",
       "</table>\n",
       "</div>"
      ],
      "text/plain": [
       "                                            Articolo  \\\n",
       "0  Pop culture, short for popular culture, refers...   \n",
       "1  In our fast-paced and hectic lives, we often f...   \n",
       "2  Financial literacy is a crucial skill that eve...   \n",
       "3  Fast fashion has become a dominant force in th...   \n",
       "4  Physical exercise has long been known to have ...   \n",
       "\n",
       "                                           Argomento  \\\n",
       "0            The Influence of Pop Culture on Society   \n",
       "1                     The Benefits of Mindful Eating   \n",
       "2               The Importance of Financial Literacy   \n",
       "3      The Impact of Fast Fashion on the Environment   \n",
       "4  The Benefits of Regular Exercise for Mental He...   \n",
       "\n",
       "                                         Descrizione  Topic  \\\n",
       "0  Explore how popular culture trends influence f...     38   \n",
       "1  Learn how practicing mindful eating can improv...     29   \n",
       "2  Learn about the significance of understanding ...     49   \n",
       "3  Explore the environmental consequences of fast...     33   \n",
       "4  Learn how physical activity can improve mental...     21   \n",
       "\n",
       "                                           top_words  \n",
       "0  [(culture, 0.102516673715912), (pop, 0.0867954...  \n",
       "1  [(eating, 0.11861944183679486), (food, 0.07184...  \n",
       "2  [(financial, 0.16059164572001008), (literacy, ...  \n",
       "3  [(fashion, 0.09808000428804091), (fast, 0.0800...  \n",
       "4  [(exercise, 0.07247635175061841), (mental, 0.0...  "
      ]
     },
     "execution_count": 67,
     "metadata": {},
     "output_type": "execute_result"
    }
   ],
   "source": [
    "df.head()"
   ]
  },
  {
   "cell_type": "code",
   "execution_count": 68,
   "metadata": {},
   "outputs": [],
   "source": [
    "path = \"C:\\\\Users\\\\Tiziano Pacifico\\\\Desktop\\\\Applicativi personali\\\\Test Bertopic\\Output\\\\\"\n",
    "filename = \"bert_result.json\""
   ]
  },
  {
   "cell_type": "code",
   "execution_count": 69,
   "metadata": {},
   "outputs": [],
   "source": [
    "df.to_json(path+filename, orient=\"records\", lines=True)"
   ]
  },
  {
   "cell_type": "code",
   "execution_count": null,
   "metadata": {},
   "outputs": [],
   "source": []
  }
 ],
 "metadata": {
  "kernelspec": {
   "display_name": "tesi10",
   "language": "python",
   "name": "p10"
  },
  "language_info": {
   "codemirror_mode": {
    "name": "ipython",
    "version": 3
   },
   "file_extension": ".py",
   "mimetype": "text/x-python",
   "name": "python",
   "nbconvert_exporter": "python",
   "pygments_lexer": "ipython3",
   "version": "3.10.11"
  }
 },
 "nbformat": 4,
 "nbformat_minor": 2
}
