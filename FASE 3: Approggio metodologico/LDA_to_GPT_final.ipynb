{
 "cells": [
  {
   "cell_type": "code",
   "execution_count": 1,
   "id": "d96dc367",
   "metadata": {},
   "outputs": [],
   "source": [
    "from decouple import Config, RepositoryEnv\n",
    "from json import dumps\n",
    "import json\n",
    "import openai\n",
    "from langchain.prompts import ChatPromptTemplate\n",
    "from langchain.chat_models import ChatOpenAI\n",
    "import pandas as pd\n",
    "from pydantic import BaseModel, ValidationError, Field\n",
    "from typing import List, Tuple , Union, Optional\n",
    "from langchain.schema import HumanMessage, SystemMessage, AIMessage"
   ]
  },
  {
   "cell_type": "code",
   "execution_count": 2,
   "id": "778e81f7",
   "metadata": {},
   "outputs": [],
   "source": [
    "from sentence_transformers import SentenceTransformer, util\n",
    "import time\n",
    "import matplotlib.pyplot as plt\n",
    "import seaborn as sns"
   ]
  },
  {
   "cell_type": "code",
   "execution_count": 3,
   "id": "94e0ea94",
   "metadata": {},
   "outputs": [],
   "source": [
    "DOTENV_FILE = 'C:\\\\Users\\\\Tiziano Pacifico\\\\Desktop\\\\OpenAICourses\\\\.env'\n",
    "env_config = Config(RepositoryEnv(DOTENV_FILE))\n",
    "openai.api_key = env_config.get('CHATGPT_API_KEY')"
   ]
  },
  {
   "cell_type": "code",
   "execution_count": 4,
   "id": "5ab6efea",
   "metadata": {},
   "outputs": [],
   "source": [
    "path = \"C:\\\\Users\\\\Tiziano Pacifico\\\\Desktop\\\\Applicativi personali\\\\Test LDA,keybert,bertopic\\\\Outputs\\\\\"\n",
    "filename = \"LDA_results.json\""
   ]
  },
  {
   "cell_type": "code",
   "execution_count": 5,
   "id": "a22cd812",
   "metadata": {},
   "outputs": [],
   "source": [
    "df = pd.read_json(path+filename,lines=True)"
   ]
  },
  {
   "cell_type": "code",
   "execution_count": 6,
   "id": "2c888575",
   "metadata": {},
   "outputs": [],
   "source": [
    "systemMessage = SystemMessage(content=\"\"\"You will act as a topic label creator. \\\n",
    "You will create a label that identify a topic given a set of 10 keywords that are meaningfull for the topic. The topic can be one word or one short sentence, depending how many words you need\\\n",
    "                              to capture the essence of the text. The text will be given in input as human message. Give as output just the sentence or the words that identify the topic.\\\n",
    "                              The keywords list will be given as a result of a LDA alghoritm over a short article in the following format: ###\\\n",
    "                              (0.048*\"influence\" + 0.044*\"celebrity\" + 0.026*\"trend\" + 0.025*\"society\" + 0.024*\"fashion\" + 0.024*\"opinion\" + 0.022*\"shape\" + 0.021*\"social\" + 0.020*\"public\" + 0.018*\"impact)\\\n",
    "                                where each number before the word state how important is the word in the topic description\"\"\")\n",
    "            "
   ]
  },
  {
   "cell_type": "code",
   "execution_count": 9,
   "id": "ebb0019b",
   "metadata": {},
   "outputs": [
    {
     "data": {
      "text/html": [
       "<div>\n",
       "<style scoped>\n",
       "    .dataframe tbody tr th:only-of-type {\n",
       "        vertical-align: middle;\n",
       "    }\n",
       "\n",
       "    .dataframe tbody tr th {\n",
       "        vertical-align: top;\n",
       "    }\n",
       "\n",
       "    .dataframe thead th {\n",
       "        text-align: right;\n",
       "    }\n",
       "</style>\n",
       "<table border=\"1\" class=\"dataframe\">\n",
       "  <thead>\n",
       "    <tr style=\"text-align: right;\">\n",
       "      <th></th>\n",
       "      <th>Articolo</th>\n",
       "      <th>Argomento</th>\n",
       "      <th>Descrizione</th>\n",
       "      <th>Articoli preprocessati</th>\n",
       "      <th>Articolo_tokens</th>\n",
       "      <th>LDA topic</th>\n",
       "      <th>LDA keyword</th>\n",
       "      <th>LDA output</th>\n",
       "    </tr>\n",
       "  </thead>\n",
       "  <tbody>\n",
       "    <tr>\n",
       "      <th>0</th>\n",
       "      <td>Pop culture, short for popular culture, refers...</td>\n",
       "      <td>The Influence of Pop Culture on Society</td>\n",
       "      <td>Explore how popular culture trends influence f...</td>\n",
       "      <td>pop culture short popular culture refer collec...</td>\n",
       "      <td>[pop, culture, short, popular, culture, refer,...</td>\n",
       "      <td>30</td>\n",
       "      <td>[culture, influence, shape, medium, mass, popu...</td>\n",
       "      <td>0.052*\"culture\" + 0.036*\"influence\" + 0.030*\"s...</td>\n",
       "    </tr>\n",
       "  </tbody>\n",
       "</table>\n",
       "</div>"
      ],
      "text/plain": [
       "                                            Articolo  \\\n",
       "0  Pop culture, short for popular culture, refers...   \n",
       "\n",
       "                                 Argomento  \\\n",
       "0  The Influence of Pop Culture on Society   \n",
       "\n",
       "                                         Descrizione  \\\n",
       "0  Explore how popular culture trends influence f...   \n",
       "\n",
       "                              Articoli preprocessati  \\\n",
       "0  pop culture short popular culture refer collec...   \n",
       "\n",
       "                                     Articolo_tokens  LDA topic  \\\n",
       "0  [pop, culture, short, popular, culture, refer,...         30   \n",
       "\n",
       "                                         LDA keyword  \\\n",
       "0  [culture, influence, shape, medium, mass, popu...   \n",
       "\n",
       "                                          LDA output  \n",
       "0  0.052*\"culture\" + 0.036*\"influence\" + 0.030*\"s...  "
      ]
     },
     "execution_count": 9,
     "metadata": {},
     "output_type": "execute_result"
    }
   ],
   "source": [
    "df.head(1)"
   ]
  },
  {
   "cell_type": "code",
   "execution_count": 11,
   "id": "927a20a0",
   "metadata": {},
   "outputs": [],
   "source": [
    "LDA_out = list(df['LDA output'].unique())"
   ]
  },
  {
   "cell_type": "code",
   "execution_count": 10,
   "id": "facd776d",
   "metadata": {},
   "outputs": [],
   "source": [
    "chat = ChatOpenAI(temperature=0.7, model=\"gpt-4\")"
   ]
  },
  {
   "cell_type": "code",
   "execution_count": 13,
   "id": "6ea4429a",
   "metadata": {},
   "outputs": [
    {
     "name": "stdout",
     "output_type": "stream",
     "text": [
      "elaborato messaggio n: 0\n",
      "elaborato messaggio n: 1\n",
      "elaborato messaggio n: 2\n",
      "elaborato messaggio n: 3\n",
      "elaborato messaggio n: 4\n",
      "elaborato messaggio n: 5\n",
      "elaborato messaggio n: 6\n",
      "elaborato messaggio n: 7\n"
     ]
    },
    {
     "name": "stderr",
     "output_type": "stream",
     "text": [
      "Retrying langchain.chat_models.openai.ChatOpenAI.completion_with_retry.<locals>._completion_with_retry in 4.0 seconds as it raised Timeout: Request timed out: HTTPSConnectionPool(host='api.openai.com', port=443): Read timed out. (read timeout=600).\n"
     ]
    },
    {
     "name": "stdout",
     "output_type": "stream",
     "text": [
      "elaborato messaggio n: 8\n",
      "elaborato messaggio n: 9\n",
      "elaborato messaggio n: 10\n",
      "elaborato messaggio n: 11\n",
      "elaborato messaggio n: 12\n",
      "elaborato messaggio n: 13\n",
      "elaborato messaggio n: 14\n",
      "elaborato messaggio n: 15\n",
      "elaborato messaggio n: 16\n",
      "elaborato messaggio n: 17\n",
      "elaborato messaggio n: 18\n",
      "elaborato messaggio n: 19\n",
      "elaborato messaggio n: 20\n",
      "elaborato messaggio n: 21\n",
      "elaborato messaggio n: 22\n",
      "elaborato messaggio n: 23\n",
      "elaborato messaggio n: 24\n",
      "elaborato messaggio n: 25\n",
      "elaborato messaggio n: 26\n",
      "elaborato messaggio n: 27\n",
      "elaborato messaggio n: 28\n",
      "elaborato messaggio n: 29\n",
      "elaborato messaggio n: 30\n",
      "elaborato messaggio n: 31\n",
      "elaborato messaggio n: 32\n",
      "elaborato messaggio n: 33\n",
      "elaborato messaggio n: 34\n",
      "elaborato messaggio n: 35\n",
      "----------System Pause----------\n",
      "----------system restart----------\n",
      "elaborato messaggio n: 36\n",
      "elaborato messaggio n: 37\n",
      "elaborato messaggio n: 38\n",
      "elaborato messaggio n: 39\n",
      "elaborato messaggio n: 40\n"
     ]
    }
   ],
   "source": [
    "GPT_topics = []\n",
    "for i,out in enumerate(LDA_out):\n",
    "    humanMessage=HumanMessage(content=f\"Create a topic label for the following LDA output{out}\")\n",
    "    messages = [systemMessage, humanMessage]\n",
    "    topic = chat(messages)\n",
    "    print(f\"elaborato messaggio n: {i}\")\n",
    "    GPT_topics.append((out,topic.content))\n",
    "    if i%35 == 0 and i!=0:\n",
    "        print(\"----------System Pause----------\")\n",
    "        time.sleep(80)\n",
    "        print(\"----------system restart----------\")"
   ]
  },
  {
   "cell_type": "code",
   "execution_count": 14,
   "id": "0350a8bc",
   "metadata": {},
   "outputs": [],
   "source": [
    "model = SentenceTransformer('bert-base-nli-mean-tokens')"
   ]
  },
  {
   "cell_type": "code",
   "execution_count": 17,
   "id": "4bebfc3c",
   "metadata": {},
   "outputs": [
    {
     "name": "stdout",
     "output_type": "stream",
     "text": [
      "Influence of Pop Culture on Social Norms and Behavior\n",
      "Mindful Eating Practices\n",
      "Financial Literacy and Informed Decision Making\n",
      "Sustainable Fashion and Yoga Industry\n",
      "Benefits of Regular Physical Exercise\n",
      "Impact of Light on Sleep Patterns and Health\n",
      "Project Team Management\n",
      "Decision Making in E-commerce\n",
      "Benefits of Reading and Language Learning\n",
      "Social Media Brand Marketing\n",
      "Effective Time Management and Productivity\n",
      "Goal Setting in Positive Parenting\n",
      "Education and Social Inequality\n",
      "Promoting Cultural and Gender Diversity in Society\n",
      "Work-Life Balance and Stress Management\n",
      "Personal Finance Management\n",
      "Effective Leadership and Communication\n",
      "Benefits of Mindfulness and Meditation on Mental Health\n",
      "Impact of Technology on Student Learning\n",
      "Plastic Pollution and its Environmental Impact\n",
      "Personal Growth and Positive Thinking\n",
      "Consumer Behavior in Advertising\n",
      "Environmental Conservation and Climate Change\n",
      "Climate Change Impact and Consequences\n",
      "Benefits of Outdoor Activities on Health\n",
      "Impact of Video Games on Individual Behavior and Social Interaction\n",
      "Regular Health Check-ups\n",
      "Social Networking Sites and Privacy\n",
      "Cybersecurity Threats and Their Impact\n",
      "Celebrity Influence on Public Opinion and Trends\n",
      "Public Speaking and Presentation Skills\n",
      "Impact of Technology on Life and Society\n",
      "AI's Impact and Potential in Industry\n",
      "Conflict Resolution Strategies\n",
      "Mental Health Promotion and Stress Reduction\n",
      "Impact of Rapid Urbanization on Cities and Communities\n",
      "Influence of Television on Society and Culture\n",
      "Impact of Volunteering on Individual Growth and Community\n",
      "Impact of Social Media on Mental Health and Relationships\n",
      "Balanced Diet and Health\n",
      "The Emotional Impact of Music\n"
     ]
    }
   ],
   "source": [
    "for topic in GPT_topics_cleaned:\n",
    "    print(topic[1])"
   ]
  },
  {
   "cell_type": "code",
   "execution_count": 16,
   "id": "14f8ec08",
   "metadata": {},
   "outputs": [],
   "source": [
    "GPT_topics_cleaned = []\n",
    "for topic in GPT_topics:\n",
    "    if len(topic[1].split(\"\\\"\")) > 1:\n",
    "        GPT_topics_cleaned.append((topic[0],topic[1].split(\"\\\"\")[1]))\n",
    "    else:\n",
    "        GPT_topics_cleaned.append(topic)"
   ]
  },
  {
   "cell_type": "code",
   "execution_count": 18,
   "id": "923b5014",
   "metadata": {},
   "outputs": [],
   "source": [
    "GPT_topics = GPT_topics_cleaned"
   ]
  },
  {
   "cell_type": "code",
   "execution_count": 19,
   "id": "e47cabd4",
   "metadata": {},
   "outputs": [
    {
     "data": {
      "text/html": [
       "<div>\n",
       "<style scoped>\n",
       "    .dataframe tbody tr th:only-of-type {\n",
       "        vertical-align: middle;\n",
       "    }\n",
       "\n",
       "    .dataframe tbody tr th {\n",
       "        vertical-align: top;\n",
       "    }\n",
       "\n",
       "    .dataframe thead th {\n",
       "        text-align: right;\n",
       "    }\n",
       "</style>\n",
       "<table border=\"1\" class=\"dataframe\">\n",
       "  <thead>\n",
       "    <tr style=\"text-align: right;\">\n",
       "      <th></th>\n",
       "      <th>Articolo</th>\n",
       "      <th>Argomento</th>\n",
       "      <th>Descrizione</th>\n",
       "      <th>Articoli preprocessati</th>\n",
       "      <th>Articolo_tokens</th>\n",
       "      <th>LDA topic</th>\n",
       "      <th>LDA keyword</th>\n",
       "      <th>LDA output</th>\n",
       "    </tr>\n",
       "  </thead>\n",
       "  <tbody>\n",
       "    <tr>\n",
       "      <th>0</th>\n",
       "      <td>Pop culture, short for popular culture, refers...</td>\n",
       "      <td>The Influence of Pop Culture on Society</td>\n",
       "      <td>Explore how popular culture trends influence f...</td>\n",
       "      <td>pop culture short popular culture refer collec...</td>\n",
       "      <td>[pop, culture, short, popular, culture, refer,...</td>\n",
       "      <td>30</td>\n",
       "      <td>[culture, influence, shape, medium, mass, popu...</td>\n",
       "      <td>0.052*\"culture\" + 0.036*\"influence\" + 0.030*\"s...</td>\n",
       "    </tr>\n",
       "  </tbody>\n",
       "</table>\n",
       "</div>"
      ],
      "text/plain": [
       "                                            Articolo  \\\n",
       "0  Pop culture, short for popular culture, refers...   \n",
       "\n",
       "                                 Argomento  \\\n",
       "0  The Influence of Pop Culture on Society   \n",
       "\n",
       "                                         Descrizione  \\\n",
       "0  Explore how popular culture trends influence f...   \n",
       "\n",
       "                              Articoli preprocessati  \\\n",
       "0  pop culture short popular culture refer collec...   \n",
       "\n",
       "                                     Articolo_tokens  LDA topic  \\\n",
       "0  [pop, culture, short, popular, culture, refer,...         30   \n",
       "\n",
       "                                         LDA keyword  \\\n",
       "0  [culture, influence, shape, medium, mass, popu...   \n",
       "\n",
       "                                          LDA output  \n",
       "0  0.052*\"culture\" + 0.036*\"influence\" + 0.030*\"s...  "
      ]
     },
     "execution_count": 19,
     "metadata": {},
     "output_type": "execute_result"
    }
   ],
   "source": [
    "df.head(1)"
   ]
  },
  {
   "cell_type": "code",
   "execution_count": 20,
   "id": "1a8b4b3e",
   "metadata": {},
   "outputs": [],
   "source": [
    "df_topic = []\n",
    "for i, row in df.iterrows():\n",
    "    for topic in GPT_topics:\n",
    "        if topic[0] == row['LDA output']:\n",
    "            df_topic.append(topic[1])"
   ]
  },
  {
   "cell_type": "code",
   "execution_count": 22,
   "id": "c0003e8b",
   "metadata": {},
   "outputs": [],
   "source": [
    "original_topic_embeddings = model.encode(list(df['Argomento']), convert_to_tensor=True)\n",
    "GPT_topic_embeddings = model.encode(df_topic, convert_to_tensor=True)"
   ]
  },
  {
   "cell_type": "code",
   "execution_count": 23,
   "id": "0014a89f",
   "metadata": {},
   "outputs": [],
   "source": [
    "sim = []\n",
    "for a,b in zip(original_topic_embeddings,GPT_topic_embeddings):\n",
    "    value = util.pytorch_cos_sim(a.unsqueeze(0), b.unsqueeze(0))\n",
    "    sim.append(value.item())"
   ]
  },
  {
   "cell_type": "code",
   "execution_count": 24,
   "id": "a0c2195e",
   "metadata": {},
   "outputs": [
    {
     "data": {
      "text/plain": [
       "0.9887341260910034"
      ]
     },
     "execution_count": 24,
     "metadata": {},
     "output_type": "execute_result"
    }
   ],
   "source": [
    "max(sim)"
   ]
  },
  {
   "cell_type": "code",
   "execution_count": 25,
   "id": "b4671a0c",
   "metadata": {},
   "outputs": [
    {
     "data": {
      "text/plain": [
       "0.7927805720766385"
      ]
     },
     "execution_count": 25,
     "metadata": {},
     "output_type": "execute_result"
    }
   ],
   "source": [
    "sum(sim)/len(sim)"
   ]
  },
  {
   "cell_type": "code",
   "execution_count": 26,
   "id": "09f7ad28",
   "metadata": {},
   "outputs": [],
   "source": [
    "df['Similarity'] = sim"
   ]
  },
  {
   "cell_type": "code",
   "execution_count": 27,
   "id": "cee8e857",
   "metadata": {},
   "outputs": [],
   "source": [
    "filename =\"GPT_topic.txt\"\n",
    "with open(path+filename, \"w\") as file:\n",
    "    for element in df_topic:\n",
    "        file.write(element + \"\\n\")"
   ]
  },
  {
   "cell_type": "code",
   "execution_count": 28,
   "id": "55103d18",
   "metadata": {},
   "outputs": [
    {
     "data": {
      "image/png": "[encoded data removed]",
      "text/plain": [
       "<Figure size 800x600 with 1 Axes>"
      ]
     },
     "metadata": {},
     "output_type": "display_data"
    }
   ],
   "source": [
    "plt.figure(figsize=(8, 6))\n",
    "plt.hist(df['Similarity'], bins=20, edgecolor='k', alpha=0.7)\n",
    "plt.xlabel('Cosine Similarity')\n",
    "plt.ylabel('Numero di Articoli')\n",
    "plt.title('Distribuzione degli Articoli per Cosine Similarity')\n",
    "plt.tight_layout()\n",
    "\n",
    "# Mostra il grafico\n",
    "plt.show()"
   ]
  },
  {
   "cell_type": "code",
   "execution_count": 29,
   "id": "e3dc9ff0",
   "metadata": {},
   "outputs": [
    {
     "data": {
      "image/png": "[encoded data removed]",
      "text/plain": [
       "<Figure size 800x600 with 1 Axes>"
      ]
     },
     "metadata": {},
     "output_type": "display_data"
    }
   ],
   "source": [
    "plt.figure(figsize=(8, 6))\n",
    "sns.boxplot(x='Similarity', data=df)\n",
    "plt.xlabel('Numero di Parole per Articolo')\n",
    "plt.title('Distribuzione degli Articoli per Lunghezza (Boxplot)')\n",
    "plt.tight_layout()\n",
    "\n",
    "# Mostra il grafico\n",
    "plt.show()"
   ]
  },
  {
   "cell_type": "code",
   "execution_count": 30,
   "id": "3e2f62f6",
   "metadata": {},
   "outputs": [],
   "source": [
    "def reclass_similarity(similarity):\n",
    "    start = 0.5\n",
    "    end = 1.0\n",
    "    classi = [x / 10.0 for x in range(int(start * 10), int(end * 10) + 1)]\n",
    "    for classe in classi:\n",
    "        if similarity < classe:\n",
    "            return \"< \" + str(classe)"
   ]
  },
  {
   "cell_type": "code",
   "execution_count": 31,
   "id": "e948a3d3",
   "metadata": {},
   "outputs": [],
   "source": [
    "df = df.drop(['Articolo','Articoli preprocessati', 'Articolo_tokens','LDA topic','LDA keyword','LDA output'], axis=1)"
   ]
  },
  {
   "cell_type": "code",
   "execution_count": 32,
   "id": "8b95b13c",
   "metadata": {},
   "outputs": [],
   "source": [
    "df['GPT topic'] = df_topic"
   ]
  },
  {
   "cell_type": "code",
   "execution_count": 33,
   "id": "8d217130",
   "metadata": {},
   "outputs": [],
   "source": [
    "df['Similarity class'] = df['Similarity'].apply(reclass_similarity)"
   ]
  },
  {
   "cell_type": "code",
   "execution_count": 34,
   "id": "2a86b8f5",
   "metadata": {},
   "outputs": [],
   "source": [
    "df_freq_sim = df.groupby('Similarity class').size().reset_index(name='Frequenza')"
   ]
  },
  {
   "cell_type": "code",
   "execution_count": 35,
   "id": "5dd7b534",
   "metadata": {},
   "outputs": [
    {
     "data": {
      "image/png": "[encoded data removed]",
      "text/plain": [
       "<Figure size 600x600 with 1 Axes>"
      ]
     },
     "metadata": {},
     "output_type": "display_data"
    }
   ],
   "source": [
    "plt.figure(figsize=(6, 6))  # Imposta la dimensione del grafico\n",
    "plt.pie(df_freq_sim['Frequenza'], labels=df_freq_sim['Similarity class'], autopct='%1.1f%%', startangle=140)\n",
    "\n",
    "# Aggiunge un titolo\n",
    "plt.title('Distribuzione delle Classi')\n",
    "\n",
    "# Mostra il grafico\n",
    "plt.axis('equal')  # Imposta gli assi per avere un aspetto circolare\n",
    "plt.show()"
   ]
  },
  {
   "cell_type": "code",
   "execution_count": null,
   "id": "8bb93ddf",
   "metadata": {},
   "outputs": [],
   "source": []
  }
 ],
 "metadata": {
  "kernelspec": {
   "display_name": "tesi10",
   "language": "python",
   "name": "p10"
  },
  "language_info": {
   "codemirror_mode": {
    "name": "ipython",
    "version": 3
   },
   "file_extension": ".py",
   "mimetype": "text/x-python",
   "name": "python",
   "nbconvert_exporter": "python",
   "pygments_lexer": "ipython3",
   "version": "3.10.11"
  }
 },
 "nbformat": 4,
 "nbformat_minor": 5
}
