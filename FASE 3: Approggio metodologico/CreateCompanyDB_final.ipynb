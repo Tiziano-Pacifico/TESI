{
 "cells": [
  {
   "cell_type": "code",
   "execution_count": 3,
   "id": "d7c52c11",
   "metadata": {},
   "outputs": [],
   "source": [
    "from decouple import Config, RepositoryEnv\n",
    "import requests\n",
    "from json import dumps\n",
    "import json\n",
    "import openai\n",
    "from langchain.prompts import ChatPromptTemplate\n",
    "from langchain.chat_models import ChatOpenAI\n",
    "import pandas as pd\n",
    "import logging\n",
    "from pydantic import BaseModel, ValidationError, Field\n",
    "from typing import List, Tuple , Union, Optional\n",
    "from langchain.schema import HumanMessage, SystemMessage, AIMessage\n",
    "import random\n",
    "import time\n",
    "from langchain.output_parsers import PydanticOutputParser\n",
    "import re"
   ]
  },
  {
   "cell_type": "code",
   "execution_count": 4,
   "id": "20533f01",
   "metadata": {},
   "outputs": [],
   "source": [
    "import time"
   ]
  },
  {
   "cell_type": "code",
   "execution_count": 5,
   "id": "388c0e74",
   "metadata": {},
   "outputs": [],
   "source": [
    "DOTENV_FILE = 'C:\\\\Users\\\\Tiziano Pacifico\\\\Desktop\\\\OpenAICourses\\\\.env'\n",
    "env_config = Config(RepositoryEnv(DOTENV_FILE))\n",
    "openai.api_key = env_config.get('CHATGPT_API_KEY')"
   ]
  },
  {
   "cell_type": "code",
   "execution_count": 6,
   "id": "80f257a1",
   "metadata": {
    "collapsed": true
   },
   "outputs": [
    {
     "name": "stdout",
     "output_type": "stream",
     "text": [
      "text-search-babbage-doc-001\n",
      "gpt-3.5-turbo-16k-0613\n",
      "curie-search-query\n",
      "gpt-3.5-turbo-16k\n",
      "text-search-babbage-query-001\n",
      "babbage\n",
      "babbage-search-query\n",
      "text-babbage-001\n",
      "text-similarity-davinci-001\n",
      "gpt-4-1106-preview\n",
      "davinci-similarity\n",
      "code-davinci-edit-001\n",
      "curie-similarity\n",
      "babbage-search-document\n",
      "curie-instruct-beta\n",
      "gpt-3.5-turbo\n",
      "gpt-3.5-turbo-1106\n",
      "text-search-ada-doc-001\n",
      "davinci-instruct-beta\n",
      "text-similarity-babbage-001\n",
      "text-search-davinci-doc-001\n",
      "babbage-similarity\n",
      "text-embedding-ada-002\n",
      "davinci-search-query\n",
      "gpt-4-vision-preview\n",
      "text-similarity-curie-001\n",
      "gpt-4\n",
      "text-davinci-001\n",
      "text-search-davinci-query-001\n",
      "ada-search-document\n",
      "ada-code-search-code\n",
      "babbage-002\n",
      "davinci-002\n",
      "davinci-search-document\n",
      "curie-search-document\n",
      "babbage-code-search-code\n",
      "text-search-ada-query-001\n",
      "code-search-ada-text-001\n",
      "babbage-code-search-text\n",
      "code-search-babbage-code-001\n",
      "ada-search-query\n",
      "ada-code-search-text\n",
      "tts-1-hd\n",
      "text-search-curie-query-001\n",
      "text-davinci-002\n",
      "text-davinci-edit-001\n",
      "code-search-babbage-text-001\n",
      "tts-1-hd-1106\n",
      "gpt-3.5-turbo-instruct-0914\n",
      "ada\n",
      "gpt-3.5-turbo-0613\n",
      "text-ada-001\n",
      "ada-similarity\n",
      "code-search-ada-code-001\n",
      "text-similarity-ada-001\n",
      "gpt-3.5-turbo-0301\n",
      "gpt-3.5-turbo-instruct\n",
      "gpt-4-0613\n",
      "text-search-curie-doc-001\n",
      "text-davinci-003\n",
      "text-curie-001\n",
      "whisper-1\n",
      "curie\n",
      "gpt-4-0314\n",
      "canary-tts\n",
      "tts-1\n",
      "davinci\n",
      "dall-e-2\n",
      "tts-1-1106\n",
      "dall-e-3\n"
     ]
    }
   ],
   "source": [
    "for model in openai.Model.list()[\"data\"]:\n",
    "    print(model[\"id\"])"
   ]
  },
  {
   "cell_type": "code",
   "execution_count": 38,
   "id": "dbf6eff3",
   "metadata": {},
   "outputs": [],
   "source": [
    "def create(messages : List[Union[HumanMessage,SystemMessage,AIMessage]], model_class: BaseModel, retry=2, temperature=0.7, debug = False) -> BaseModel:\n",
    "    chat = ChatOpenAI(temperature=0.7, model=\"gpt-3.5-turbo\")\n",
    "    system_update = f\"Please respond ONLY with valid json that conforms to this pydantic\\\n",
    "    json_schema: {model_class.schema_json()}. \\\n",
    "    Do not include additional text other than the object json as we will load this object with json.loads() and pydantic.\\\n",
    "    Don't give any introduciton like 'here the response i made for you' or 'json'\"\n",
    "    \n",
    "    system_message = messages[0].content\n",
    "    update_system_message = system_message + system_update\n",
    "    messages[0].content = update_system_message\n",
    "    if debug:\n",
    "        print(messages)\n",
    "        \n",
    "    for i in range(retry+1):\n",
    "        response = chat(messages)\n",
    "        content = response.content\n",
    "        content = content.replace(\"```\",\"\")\n",
    "        content = content.replace(\"json\",\"\")\n",
    "        content = content.strip()\n",
    "        try:\n",
    "            if debug:\n",
    "                print(\"-------------response---------\")\n",
    "                print(response.content)\n",
    "            json_content = json.loads(content, strict=False)\n",
    "        except Exception as e:\n",
    "            last_exception = e\n",
    "            error_msg = f\"json.loads exception: {e}\"\n",
    "            logging.error(error_msg)\n",
    "            #Aggiungere il messaggio di errore nel sistema\n",
    "            continue\n",
    "        try:\n",
    "            return model_class(**json_content)\n",
    "        except ValidationError as e:\n",
    "            last_exception = e\n",
    "            error_msg = f\"pydantic exception: {e}\"\n",
    "            logging.error(error_msg)\n",
    "            #appendere il messaggio di errore nel sistema\n",
    "    raise last_exception"
   ]
  },
  {
   "cell_type": "code",
   "execution_count": 8,
   "id": "2fda9a1b",
   "metadata": {},
   "outputs": [],
   "source": [
    "class company(BaseModel):\n",
    "    name: str = Field(description = \"Company name\")\n",
    "    rating: str = Field(description=\"A score rating the companies. A float value between 0 and 5. Please provide some negative rating below 2.5. Even far below 2.5\")\n",
    "    reviews: str = Field(description=\"A review of the company. It can be positive negative or neutral. The sentiment of \\\n",
    "    reviews depends on the company rating. A 2.5 rating is neutral, each value below is negative and each value above is positive.\\\n",
    "    The amount of positive/negative sentiment depends on how much up or down 2.5 is the score\")"
   ]
  },
  {
   "cell_type": "code",
   "execution_count": 27,
   "id": "f76d62be",
   "metadata": {},
   "outputs": [],
   "source": [
    "sm = \"\\\n",
    "I need you to create a set of data defining a company.\\\n",
    "I will give you a list of companies already in the database with the relative score.\\\n",
    "If a company is already in the database don't create the same company again.\\\n",
    "Please read the following instructions before creating any output.\\\n",
    "1) Carefully read the companies list given as input.\\\n",
    "2) Randomly create a business niche.\\\n",
    "3) For the business niche create first a company name that is not already in the list.\\\n",
    "3) Then give the company a rating between 0 and 5.\\\n",
    "The rating is a real number\\\n",
    "The task is a fantasy scenario for evaluating a sentiment calssifier. I NEED SOME BAD REEVIEWS TOO, below 2.5.\\\n",
    "If the companies list given as input has too many positive reviews YOU MUST GIVE some negative reviews.\\\n",
    "4)  Write a 100 token review based on the score: below 2.5 is negative, above 2.5 is positive, and exactly 2.5 is neutral. The degree of sentiment reflects the score's deviation from 2.5.\\\n",
    "5) Format your response following the given json schema\\\n",
    "\""
   ]
  },
  {
   "cell_type": "code",
   "execution_count": 15,
   "id": "c11b9b08",
   "metadata": {},
   "outputs": [],
   "source": [
    "companies = []\n",
    "messages = []\n",
    "com_str = 'List of companies already in the database: \\n'\n",
    "human_message = HumanMessage(content=com_str)\n",
    "messages.append(systemMessage)\n",
    "messages.append(human_message)"
   ]
  },
  {
   "cell_type": "code",
   "execution_count": 41,
   "id": "1fc943db",
   "metadata": {
    "collapsed": true
   },
   "outputs": [
    {
     "name": "stdout",
     "output_type": "stream",
     "text": [
      "messaggio n: 0\n",
      "messaggio n: 1\n",
      "messaggio n: 2\n",
      "messaggio n: 3\n",
      "messaggio n: 4\n",
      "messaggio n: 5\n",
      "messaggio n: 6\n",
      "messaggio n: 7\n",
      "messaggio n: 8\n",
      "messaggio n: 9\n",
      "messaggio n: 10\n",
      "messaggio n: 11\n",
      "messaggio n: 12\n",
      "messaggio n: 13\n",
      "messaggio n: 14\n",
      "messaggio n: 15\n",
      "messaggio n: 16\n",
      "messaggio n: 17\n",
      "messaggio n: 18\n",
      "messaggio n: 19\n",
      "messaggio n: 20\n",
      "messaggio n: 21\n",
      "messaggio n: 22\n",
      "messaggio n: 23\n",
      "messaggio n: 24\n",
      "messaggio n: 25\n",
      "messaggio n: 26\n",
      "messaggio n: 27\n",
      "messaggio n: 28\n",
      "messaggio n: 29\n",
      "messaggio n: 30\n",
      "messaggio n: 31\n",
      "messaggio n: 32\n",
      "messaggio n: 33\n",
      "messaggio n: 34\n",
      "messaggio n: 35\n",
      "messaggio n: 36\n",
      "messaggio n: 37\n",
      "messaggio n: 38\n",
      "messaggio n: 39\n",
      "messaggio n: 40\n",
      "messaggio n: 41\n",
      "messaggio n: 42\n",
      "messaggio n: 43\n",
      "messaggio n: 44\n",
      "messaggio n: 45\n",
      "messaggio n: 46\n",
      "messaggio n: 47\n",
      "messaggio n: 48\n",
      "messaggio n: 49\n",
      "messaggio n: 50\n",
      "messaggio n: 51\n",
      "messaggio n: 52\n",
      "messaggio n: 53\n",
      "messaggio n: 54\n",
      "messaggio n: 55\n",
      "messaggio n: 56\n",
      "messaggio n: 57\n",
      "messaggio n: 58\n",
      "messaggio n: 59\n",
      "messaggio n: 60\n",
      "messaggio n: 61\n",
      "messaggio n: 62\n",
      "messaggio n: 63\n",
      "messaggio n: 64\n",
      "messaggio n: 65\n",
      "messaggio n: 66\n",
      "messaggio n: 67\n",
      "messaggio n: 68\n",
      "messaggio n: 69\n",
      "messaggio n: 70\n",
      "messaggio n: 71\n",
      "messaggio n: 72\n",
      "messaggio n: 73\n",
      "messaggio n: 74\n",
      "messaggio n: 75\n",
      "messaggio n: 76\n",
      "messaggio n: 77\n",
      "messaggio n: 78\n",
      "messaggio n: 79\n",
      "messaggio n: 80\n",
      "messaggio n: 81\n",
      "messaggio n: 82\n",
      "messaggio n: 83\n",
      "messaggio n: 84\n",
      "messaggio n: 85\n",
      "messaggio n: 86\n",
      "messaggio n: 87\n",
      "messaggio n: 88\n",
      "messaggio n: 89\n",
      "messaggio n: 90\n",
      "messaggio n: 91\n",
      "messaggio n: 92\n",
      "messaggio n: 93\n",
      "messaggio n: 94\n",
      "messaggio n: 95\n",
      "messaggio n: 96\n",
      "messaggio n: 97\n",
      "messaggio n: 98\n",
      "messaggio n: 99\n"
     ]
    }
   ],
   "source": [
    "systemMessage = SystemMessage(content=sm)\n",
    "messages = []\n",
    "human_message = HumanMessage(content=com_str)\n",
    "messages.append(systemMessage)\n",
    "messages.append(human_message)\n",
    "for i in range(300):\n",
    "    print(f\"messaggio n: {i}\")\n",
    "    res = create(messages, company, debug = False)\n",
    "    companies.append(res)\n",
    "    com_str += res.name + ' - ' + res.rating + '\\n'\n",
    "    systemMessage = SystemMessage(content=sm)\n",
    "    human_message = HumanMessage(content=com_str)\n",
    "    messages = [systemMessage, human_message]\n",
    "    if i%35 == 0 and i!= 0:\n",
    "        time.sleep(60)"
   ]
  },
  {
   "cell_type": "code",
   "execution_count": 42,
   "id": "9f165118",
   "metadata": {},
   "outputs": [
    {
     "data": {
      "text/plain": [
       "311"
      ]
     },
     "execution_count": 42,
     "metadata": {},
     "output_type": "execute_result"
    }
   ],
   "source": [
    "len(companies)"
   ]
  },
  {
   "cell_type": "code",
   "execution_count": 44,
   "id": "28f286c1",
   "metadata": {},
   "outputs": [],
   "source": [
    "names = []\n",
    "reviews = []\n",
    "ratings = []\n",
    "for company in companies:\n",
    "    names.append(company.name)\n",
    "    reviews.append(company.reviews)\n",
    "    ratings.append(company.rating)"
   ]
  },
  {
   "cell_type": "code",
   "execution_count": 48,
   "id": "7c1ba18f",
   "metadata": {},
   "outputs": [],
   "source": [
    "df = pd.DataFrame(columns=['name','rating','review'])"
   ]
  },
  {
   "cell_type": "code",
   "execution_count": 50,
   "id": "3e0cf992",
   "metadata": {},
   "outputs": [],
   "source": [
    "df['name'] = names\n",
    "df['review'] = reviews\n",
    "df['rating'] = ratings"
   ]
  },
  {
   "cell_type": "code",
   "execution_count": 54,
   "id": "17cd6fde",
   "metadata": {},
   "outputs": [],
   "source": [
    "path = \"C:\\\\Users\\\\Tiziano Pacifico\\\\Desktop\\\\Applicativi personali\\\\Sentiment\\\\Outputs\\\\\"\n",
    "filename = \"Company_DF.json\""
   ]
  },
  {
   "cell_type": "code",
   "execution_count": 55,
   "id": "93be4427",
   "metadata": {},
   "outputs": [],
   "source": [
    "df.to_json(path+filename, orient=\"records\", lines=True)"
   ]
  },
  {
   "cell_type": "code",
   "execution_count": null,
   "id": "f544a25b",
   "metadata": {},
   "outputs": [],
   "source": []
  }
 ],
 "metadata": {
  "kernelspec": {
   "display_name": "tesi10",
   "language": "python",
   "name": "p10"
  },
  "language_info": {
   "codemirror_mode": {
    "name": "ipython",
    "version": 3
   },
   "file_extension": ".py",
   "mimetype": "text/x-python",
   "name": "python",
   "nbconvert_exporter": "python",
   "pygments_lexer": "ipython3",
   "version": "3.10.11"
  }
 },
 "nbformat": 4,
 "nbformat_minor": 5
}
