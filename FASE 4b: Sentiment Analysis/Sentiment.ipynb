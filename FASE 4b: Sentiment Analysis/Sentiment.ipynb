{
 "cells": [
  {
   "cell_type": "code",
   "execution_count": 1,
   "metadata": {},
   "outputs": [],
   "source": [
    "import pandas as pd\n",
    "\n",
    "import matplotlib.pyplot as plt\n",
    "import numpy as np\n",
    "from textblob import TextBlob\n",
    "import re"
   ]
  },
  {
   "cell_type": "code",
   "execution_count": 2,
   "metadata": {},
   "outputs": [],
   "source": [
    "path = \"C:\\\\Users\\\\Tiziano Pacifico\\\\Desktop\\\\TESI\\\\RedditDS\\\\chatGPT\\\\BERTopic_out\\\\\"\n",
    "filename = \"BERTopic_gpt_out_df.json\""
   ]
  },
  {
   "cell_type": "code",
   "execution_count": 4,
   "metadata": {},
   "outputs": [],
   "source": [
    "df = pd.read_json(path+filename, lines = True)"
   ]
  },
  {
   "cell_type": "code",
   "execution_count": 9,
   "metadata": {},
   "outputs": [
    {
     "data": {
      "text/html": [
       "<div>\n",
       "<style scoped>\n",
       "    .dataframe tbody tr th:only-of-type {\n",
       "        vertical-align: middle;\n",
       "    }\n",
       "\n",
       "    .dataframe tbody tr th {\n",
       "        vertical-align: top;\n",
       "    }\n",
       "\n",
       "    .dataframe thead th {\n",
       "        text-align: right;\n",
       "    }\n",
       "</style>\n",
       "<table border=\"1\" class=\"dataframe\">\n",
       "  <thead>\n",
       "    <tr style=\"text-align: right;\">\n",
       "      <th></th>\n",
       "      <th>Document</th>\n",
       "      <th>Topic</th>\n",
       "      <th>id</th>\n",
       "      <th>BERT_out</th>\n",
       "      <th>top_words_str</th>\n",
       "      <th>GPT_label</th>\n",
       "      <th>subjectivity</th>\n",
       "      <th>polarity</th>\n",
       "    </tr>\n",
       "  </thead>\n",
       "  <tbody>\n",
       "    <tr>\n",
       "      <th>0</th>\n",
       "      <td>chatgpt stand dont think michael anyth hey ple...</td>\n",
       "      <td>7</td>\n",
       "      <td>134stgc</td>\n",
       "      <td>[[bot, 0.12105691510000001], [pleas, 0.0709474...</td>\n",
       "      <td>(bot, 0.12105691510000001) (pleas, 0.070947460...</td>\n",
       "      <td>AI Chatbot Interaction and Assistance on Cloud...</td>\n",
       "      <td>0.487247</td>\n",
       "      <td>0.117045</td>\n",
       "    </tr>\n",
       "  </tbody>\n",
       "</table>\n",
       "</div>"
      ],
      "text/plain": [
       "                                            Document  Topic       id  \\\n",
       "0  chatgpt stand dont think michael anyth hey ple...      7  134stgc   \n",
       "\n",
       "                                            BERT_out  \\\n",
       "0  [[bot, 0.12105691510000001], [pleas, 0.0709474...   \n",
       "\n",
       "                                       top_words_str  \\\n",
       "0  (bot, 0.12105691510000001) (pleas, 0.070947460...   \n",
       "\n",
       "                                           GPT_label  subjectivity  polarity  \n",
       "0  AI Chatbot Interaction and Assistance on Cloud...      0.487247  0.117045  "
      ]
     },
     "execution_count": 9,
     "metadata": {},
     "output_type": "execute_result"
    }
   ],
   "source": [
    "df.head(1)"
   ]
  },
  {
   "cell_type": "code",
   "execution_count": 8,
   "metadata": {},
   "outputs": [],
   "source": [
    "df['subjectivity'] = df['Document'].apply(lambda x: TextBlob(x).subjectivity)\n",
    "df['polarity'] = df['Document'].apply(lambda x: TextBlob(x).polarity)"
   ]
  },
  {
   "cell_type": "code",
   "execution_count": 11,
   "metadata": {},
   "outputs": [
    {
     "data": {
      "text/plain": [
       "Document         57646\n",
       "Topic            57646\n",
       "id               57646\n",
       "BERT_out         57646\n",
       "top_words_str    57646\n",
       "GPT_label        57646\n",
       "subjectivity     57646\n",
       "polarity         57646\n",
       "dtype: int64"
      ]
     },
     "execution_count": 11,
     "metadata": {},
     "output_type": "execute_result"
    }
   ],
   "source": [
    "df[df['polarity'] > 0].count()"
   ]
  },
  {
   "cell_type": "code",
   "execution_count": 12,
   "metadata": {},
   "outputs": [],
   "source": [
    "path = \"C:\\\\Users\\\\Tiziano Pacifico\\\\Desktop\\\\TESI\\\\RedditDS\\\\chatGPT\\\\Sentiment\\\\\"\n",
    "filename = \"DF_sentiment.json\""
   ]
  },
  {
   "cell_type": "code",
   "execution_count": 14,
   "metadata": {},
   "outputs": [],
   "source": [
    "df.to_json(path+filename, orient=\"records\", lines=True)"
   ]
  },
  {
   "cell_type": "code",
   "execution_count": null,
   "metadata": {},
   "outputs": [],
   "source": []
  }
 ],
 "metadata": {
  "kernelspec": {
   "display_name": "tesi10",
   "language": "python",
   "name": "p10"
  },
  "language_info": {
   "codemirror_mode": {
    "name": "ipython",
    "version": 3
   },
   "file_extension": ".py",
   "mimetype": "text/x-python",
   "name": "python",
   "nbconvert_exporter": "python",
   "pygments_lexer": "ipython3",
   "version": "3.10.11"
  }
 },
 "nbformat": 4,
 "nbformat_minor": 2
}
