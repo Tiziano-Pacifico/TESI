{
 "cells": [
  {
   "cell_type": "code",
   "execution_count": 2,
   "id": "d2fe0ade",
   "metadata": {},
   "outputs": [],
   "source": [
    "import pandas as pd"
   ]
  },
  {
   "cell_type": "code",
   "execution_count": 3,
   "id": "9df2e70f",
   "metadata": {},
   "outputs": [],
   "source": [
    "path = \"C:\\\\Users\\\\Tiziano Pacifico\\\\Desktop\\\\TESI\\\\RedditDS\\\\chatGPT\\\\BERTopic_out\\\\\"\n",
    "filename = \"BERTopic_gpt_out_df.json\"\n",
    "df_topic = pd.read_json(path+filename, lines=True)"
   ]
  },
  {
   "cell_type": "code",
   "execution_count": 4,
   "id": "c6b9cdee",
   "metadata": {},
   "outputs": [],
   "source": [
    "path = \"C:\\\\Users\\\\Tiziano Pacifico\\\\Desktop\\\\TESI\\\\RedditDS\\\\chatGPT\\\\Sentiment\\\\\"\n",
    "filename = \"DF_sentiment.json\"\n",
    "df_sentiment = pd.read_json(path+filename, lines=True)"
   ]
  },
  {
   "cell_type": "code",
   "execution_count": 7,
   "id": "7043a103",
   "metadata": {},
   "outputs": [],
   "source": [
    "path = \"C:\\\\Users\\\\Tiziano Pacifico\\\\Desktop\\\\TESI\\\\RedditDS\\\\chatGPT\\\\FASE 1\\\\splitted_df_sub_blob\\\\\"\n",
    "dfs = []\n",
    "for i in range(0,75):\n",
    "    file = f\"splitted_df_sub_blob{i+1}.json\"\n",
    "    df = pd.read_json(path+file,encoding='utf-8', lines = True)\n",
    "    dfs.append(df)"
   ]
  },
  {
   "cell_type": "code",
   "execution_count": 13,
   "id": "1f6457a0",
   "metadata": {},
   "outputs": [
    {
     "data": {
      "text/html": [
       "<div>\n",
       "<style scoped>\n",
       "    .dataframe tbody tr th:only-of-type {\n",
       "        vertical-align: middle;\n",
       "    }\n",
       "\n",
       "    .dataframe tbody tr th {\n",
       "        vertical-align: top;\n",
       "    }\n",
       "\n",
       "    .dataframe thead th {\n",
       "        text-align: right;\n",
       "    }\n",
       "</style>\n",
       "<table border=\"1\" class=\"dataframe\">\n",
       "  <thead>\n",
       "    <tr style=\"text-align: right;\">\n",
       "      <th></th>\n",
       "      <th>id</th>\n",
       "      <th>author</th>\n",
       "      <th>created_utc</th>\n",
       "      <th>edited</th>\n",
       "      <th>num_comments</th>\n",
       "      <th>self_text</th>\n",
       "      <th>title</th>\n",
       "      <th>utc_datetime_str</th>\n",
       "      <th>blob</th>\n",
       "    </tr>\n",
       "  </thead>\n",
       "  <tbody>\n",
       "    <tr>\n",
       "      <th>0</th>\n",
       "      <td>134stgc</td>\n",
       "      <td>tattedboi1_</td>\n",
       "      <td>1682960456</td>\n",
       "      <td>False</td>\n",
       "      <td>3</td>\n",
       "      <td>I don’t think Michael McIntyre has anything to...</td>\n",
       "      <td>ChatGPT does not do stand up comedy</td>\n",
       "      <td>2023-05-01 17:00:56</td>\n",
       "      <td>ChatGPT does not do stand up comedyI don’t thi...</td>\n",
       "    </tr>\n",
       "  </tbody>\n",
       "</table>\n",
       "</div>"
      ],
      "text/plain": [
       "        id       author  created_utc  edited  num_comments  \\\n",
       "0  134stgc  tattedboi1_   1682960456   False             3   \n",
       "\n",
       "                                           self_text  \\\n",
       "0  I don’t think Michael McIntyre has anything to...   \n",
       "\n",
       "                                 title     utc_datetime_str  \\\n",
       "0  ChatGPT does not do stand up comedy  2023-05-01 17:00:56   \n",
       "\n",
       "                                                blob  \n",
       "0  ChatGPT does not do stand up comedyI don’t thi...  "
      ]
     },
     "execution_count": 13,
     "metadata": {},
     "output_type": "execute_result"
    }
   ],
   "source": [
    "dfs[0].head(1)"
   ]
  },
  {
   "cell_type": "code",
   "execution_count": 24,
   "id": "0d715d4f",
   "metadata": {},
   "outputs": [],
   "source": [
    "author = []\n",
    "created_utc = []\n",
    "num_comments = []\n",
    "utc_datetime_str = []\n",
    "text = []\n",
    "id = []\n",
    "for df in dfs:\n",
    "    author.extend(df['author'])\n",
    "    created_utc.extend(df['created_utc'])\n",
    "    num_comments.extend(df['num_comments'])\n",
    "    utc_datetime_str.extend(df['utc_datetime_str'])\n",
    "    text.extend(df['blob'])\n",
    "    id.extend(df['id'])"
   ]
  },
  {
   "cell_type": "code",
   "execution_count": 25,
   "id": "54a91830",
   "metadata": {},
   "outputs": [],
   "source": [
    "final_df = pd.DataFrame()\n",
    "final_df['author'] = author\n",
    "final_df['created_utc'] = created_utc\n",
    "final_df['num_comments'] = num_comments\n",
    "final_df['utc_datetime_str'] = utc_datetime_str\n",
    "final_df['text'] = text\n",
    "final_df['id'] = id"
   ]
  },
  {
   "cell_type": "code",
   "execution_count": 10,
   "id": "e8b948cd",
   "metadata": {},
   "outputs": [
    {
     "data": {
      "text/html": [
       "<div>\n",
       "<style scoped>\n",
       "    .dataframe tbody tr th:only-of-type {\n",
       "        vertical-align: middle;\n",
       "    }\n",
       "\n",
       "    .dataframe tbody tr th {\n",
       "        vertical-align: top;\n",
       "    }\n",
       "\n",
       "    .dataframe thead th {\n",
       "        text-align: right;\n",
       "    }\n",
       "</style>\n",
       "<table border=\"1\" class=\"dataframe\">\n",
       "  <thead>\n",
       "    <tr style=\"text-align: right;\">\n",
       "      <th></th>\n",
       "      <th>Document</th>\n",
       "      <th>Topic</th>\n",
       "      <th>id</th>\n",
       "      <th>BERT_out</th>\n",
       "      <th>top_words_str</th>\n",
       "      <th>GPT_label</th>\n",
       "    </tr>\n",
       "  </thead>\n",
       "  <tbody>\n",
       "    <tr>\n",
       "      <th>0</th>\n",
       "      <td>chatgpt stand dont think michael anyth hey ple...</td>\n",
       "      <td>7</td>\n",
       "      <td>134stgc</td>\n",
       "      <td>[[bot, 0.12105691510000001], [pleas, 0.0709474...</td>\n",
       "      <td>(bot, 0.12105691510000001) (pleas, 0.070947460...</td>\n",
       "      <td>AI Chatbot Interaction and Assistance on Cloud...</td>\n",
       "    </tr>\n",
       "  </tbody>\n",
       "</table>\n",
       "</div>"
      ],
      "text/plain": [
       "                                            Document  Topic       id  \\\n",
       "0  chatgpt stand dont think michael anyth hey ple...      7  134stgc   \n",
       "\n",
       "                                            BERT_out  \\\n",
       "0  [[bot, 0.12105691510000001], [pleas, 0.0709474...   \n",
       "\n",
       "                                       top_words_str  \\\n",
       "0  (bot, 0.12105691510000001) (pleas, 0.070947460...   \n",
       "\n",
       "                                           GPT_label  \n",
       "0  AI Chatbot Interaction and Assistance on Cloud...  "
      ]
     },
     "execution_count": 10,
     "metadata": {},
     "output_type": "execute_result"
    }
   ],
   "source": [
    "df_topic.head(1)"
   ]
  },
  {
   "cell_type": "code",
   "execution_count": 11,
   "id": "a2ecf558",
   "metadata": {},
   "outputs": [
    {
     "data": {
      "text/html": [
       "<div>\n",
       "<style scoped>\n",
       "    .dataframe tbody tr th:only-of-type {\n",
       "        vertical-align: middle;\n",
       "    }\n",
       "\n",
       "    .dataframe tbody tr th {\n",
       "        vertical-align: top;\n",
       "    }\n",
       "\n",
       "    .dataframe thead th {\n",
       "        text-align: right;\n",
       "    }\n",
       "</style>\n",
       "<table border=\"1\" class=\"dataframe\">\n",
       "  <thead>\n",
       "    <tr style=\"text-align: right;\">\n",
       "      <th></th>\n",
       "      <th>Document</th>\n",
       "      <th>Topic</th>\n",
       "      <th>id</th>\n",
       "      <th>BERT_out</th>\n",
       "      <th>top_words_str</th>\n",
       "      <th>GPT_label</th>\n",
       "      <th>subjectivity</th>\n",
       "      <th>polarity</th>\n",
       "    </tr>\n",
       "  </thead>\n",
       "  <tbody>\n",
       "    <tr>\n",
       "      <th>0</th>\n",
       "      <td>chatgpt stand dont think michael anyth hey ple...</td>\n",
       "      <td>7</td>\n",
       "      <td>134stgc</td>\n",
       "      <td>[[bot, 0.12105691510000001], [pleas, 0.0709474...</td>\n",
       "      <td>(bot, 0.12105691510000001) (pleas, 0.070947460...</td>\n",
       "      <td>AI Chatbot Interaction and Assistance on Cloud...</td>\n",
       "      <td>0.487247</td>\n",
       "      <td>0.117045</td>\n",
       "    </tr>\n",
       "  </tbody>\n",
       "</table>\n",
       "</div>"
      ],
      "text/plain": [
       "                                            Document  Topic       id  \\\n",
       "0  chatgpt stand dont think michael anyth hey ple...      7  134stgc   \n",
       "\n",
       "                                            BERT_out  \\\n",
       "0  [[bot, 0.12105691510000001], [pleas, 0.0709474...   \n",
       "\n",
       "                                       top_words_str  \\\n",
       "0  (bot, 0.12105691510000001) (pleas, 0.070947460...   \n",
       "\n",
       "                                           GPT_label  subjectivity  polarity  \n",
       "0  AI Chatbot Interaction and Assistance on Cloud...      0.487247  0.117045  "
      ]
     },
     "execution_count": 11,
     "metadata": {},
     "output_type": "execute_result"
    }
   ],
   "source": [
    "df_sentiment.head(1)"
   ]
  },
  {
   "cell_type": "code",
   "execution_count": 29,
   "id": "98b0f117",
   "metadata": {},
   "outputs": [
    {
     "data": {
      "text/plain": [
       "\"🌟 ChatGPT: Making Life Easier & Learning a Breeze! 🚀[deleted]What's the last thing you learned with the help of ChatGPT?\""
      ]
     },
     "execution_count": 29,
     "metadata": {},
     "output_type": "execute_result"
    }
   ],
   "source": [
    "final_df['text'].iloc[10]"
   ]
  },
  {
   "cell_type": "code",
   "execution_count": 26,
   "id": "c97732af",
   "metadata": {},
   "outputs": [],
   "source": [
    "final_df = final_df.merge(df_topic[['id','BERT_out','GPT_label']], how='left', on=\"id\")"
   ]
  },
  {
   "cell_type": "code",
   "execution_count": 27,
   "id": "457e79ee",
   "metadata": {},
   "outputs": [],
   "source": [
    "final_df = final_df.merge(df_sentiment[['id','subjectivity','polarity']], how='left', on=\"id\")"
   ]
  },
  {
   "cell_type": "code",
   "execution_count": 28,
   "id": "81946a0b",
   "metadata": {},
   "outputs": [
    {
     "data": {
      "text/html": [
       "<div>\n",
       "<style scoped>\n",
       "    .dataframe tbody tr th:only-of-type {\n",
       "        vertical-align: middle;\n",
       "    }\n",
       "\n",
       "    .dataframe tbody tr th {\n",
       "        vertical-align: top;\n",
       "    }\n",
       "\n",
       "    .dataframe thead th {\n",
       "        text-align: right;\n",
       "    }\n",
       "</style>\n",
       "<table border=\"1\" class=\"dataframe\">\n",
       "  <thead>\n",
       "    <tr style=\"text-align: right;\">\n",
       "      <th></th>\n",
       "      <th>author</th>\n",
       "      <th>created_utc</th>\n",
       "      <th>num_comments</th>\n",
       "      <th>utc_datetime_str</th>\n",
       "      <th>text</th>\n",
       "      <th>id</th>\n",
       "      <th>BERT_out</th>\n",
       "      <th>GPT_label</th>\n",
       "      <th>subjectivity</th>\n",
       "      <th>polarity</th>\n",
       "    </tr>\n",
       "  </thead>\n",
       "  <tbody>\n",
       "    <tr>\n",
       "      <th>0</th>\n",
       "      <td>tattedboi1_</td>\n",
       "      <td>1682960456</td>\n",
       "      <td>3</td>\n",
       "      <td>2023-05-01 17:00:56</td>\n",
       "      <td>ChatGPT does not do stand up comedyI don’t thi...</td>\n",
       "      <td>134stgc</td>\n",
       "      <td>[[bot, 0.12105691510000001], [pleas, 0.0709474...</td>\n",
       "      <td>AI Chatbot Interaction and Assistance on Cloud...</td>\n",
       "      <td>0.487247</td>\n",
       "      <td>0.117045</td>\n",
       "    </tr>\n",
       "  </tbody>\n",
       "</table>\n",
       "</div>"
      ],
      "text/plain": [
       "        author  created_utc  num_comments     utc_datetime_str  \\\n",
       "0  tattedboi1_   1682960456             3  2023-05-01 17:00:56   \n",
       "\n",
       "                                                text       id  \\\n",
       "0  ChatGPT does not do stand up comedyI don’t thi...  134stgc   \n",
       "\n",
       "                                            BERT_out  \\\n",
       "0  [[bot, 0.12105691510000001], [pleas, 0.0709474...   \n",
       "\n",
       "                                           GPT_label  subjectivity  polarity  \n",
       "0  AI Chatbot Interaction and Assistance on Cloud...      0.487247  0.117045  "
      ]
     },
     "execution_count": 28,
     "metadata": {},
     "output_type": "execute_result"
    }
   ],
   "source": [
    "final_df.head(1)"
   ]
  },
  {
   "cell_type": "code",
   "execution_count": 22,
   "id": "2afd6d0e",
   "metadata": {},
   "outputs": [],
   "source": [
    "path = \"C:\\\\Users\\\\Tiziano Pacifico\\\\Desktop\\\\TESI\\\\RedditDS\\\\chatGPT\\\\final_df\\\\\"\n",
    "filename = \"final_df.json\""
   ]
  },
  {
   "cell_type": "code",
   "execution_count": 23,
   "id": "598ce911",
   "metadata": {},
   "outputs": [],
   "source": [
    "final_df.to_json(path+filename, orient=\"records\", lines=True)"
   ]
  },
  {
   "cell_type": "code",
   "execution_count": null,
   "id": "75c7f4e7",
   "metadata": {},
   "outputs": [],
   "source": []
  }
 ],
 "metadata": {
  "kernelspec": {
   "display_name": "tesi10",
   "language": "python",
   "name": "p10"
  },
  "language_info": {
   "codemirror_mode": {
    "name": "ipython",
    "version": 3
   },
   "file_extension": ".py",
   "mimetype": "text/x-python",
   "name": "python",
   "nbconvert_exporter": "python",
   "pygments_lexer": "ipython3",
   "version": "3.10.11"
  }
 },
 "nbformat": 4,
 "nbformat_minor": 5
}
