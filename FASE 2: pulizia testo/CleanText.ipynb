{
 "cells": [
  {
   "cell_type": "code",
   "execution_count": 1,
   "id": "67e9712c",
   "metadata": {},
   "outputs": [
    {
     "name": "stderr",
     "output_type": "stream",
     "text": [
      "[nltk_data] Downloading package stopwords to C:\\Users\\Tiziano\n",
      "[nltk_data]     Pacifico\\AppData\\Roaming\\nltk_data...\n",
      "[nltk_data]   Package stopwords is already up-to-date!\n"
     ]
    }
   ],
   "source": [
    "import pandas as pd\n",
    "import os\n",
    "os.chdir('C:\\\\Users\\\\Tiziano Pacifico\\\\Desktop\\\\TESI')\n",
    "import re\n",
    "\n",
    "import nltk.corpus\n",
    "nltk.download('stopwords')\n",
    "from nltk.corpus import stopwords\n",
    "\n",
    "import nltk\n",
    "from nltk.stem.porter import PorterStemmer\n",
    "from spellchecker import SpellChecker\n",
    "import csv"
   ]
  },
  {
   "cell_type": "code",
   "execution_count": 2,
   "id": "df7a4868",
   "metadata": {},
   "outputs": [],
   "source": [
    "#Carico tutti i dataset in una lista di dataset\n",
    "start = 1\n",
    "end = 75\n",
    "dfs = []\n",
    "for i in range(start,end+1):\n",
    "    read_file = f'redditDS\\\\splitted_df_sub_blob\\\\splitted_df_sub_blob{i}.json'\n",
    "    df = pd.read_json(read_file, lines = True)\n",
    "    dfs.append(df)"
   ]
  },
  {
   "cell_type": "code",
   "execution_count": 3,
   "id": "f254e241",
   "metadata": {},
   "outputs": [],
   "source": [
    "#ho bisogno di estrarre soltanto la colonna dei blob per tutti i df\n",
    "blob_lists = []\n",
    "for df in dfs:\n",
    "    blob_list = list(df['blob'])\n",
    "    blob_lists.append(blob_list)"
   ]
  },
  {
   "cell_type": "code",
   "execution_count": 4,
   "id": "444aada7",
   "metadata": {},
   "outputs": [],
   "source": [
    "# Carico i dizionari"
   ]
  },
  {
   "cell_type": "code",
   "execution_count": 5,
   "id": "d5e65293",
   "metadata": {},
   "outputs": [],
   "source": [
    "base_path = 'FASE 2 Pulizia Testo\\\\Dizionari\\\\dict\\\\'\n",
    "file = open(base_path + \"acronimi.csv\",'r')\n",
    "acronimi = list(csv.reader(file, delimiter=\",\"))[0]\n",
    "file.close()"
   ]
  },
  {
   "cell_type": "code",
   "execution_count": 6,
   "id": "2b0e715f",
   "metadata": {},
   "outputs": [],
   "source": [
    "file = open(base_path + \"keywords.csv\",'r')\n",
    "keywords = list(csv.reader(file, delimiter=\",\"))[0]\n",
    "file.close()"
   ]
  },
  {
   "cell_type": "code",
   "execution_count": 7,
   "id": "4ce241ba",
   "metadata": {},
   "outputs": [],
   "source": [
    "file = open(base_path + \"persone.csv\",'r')\n",
    "persone = list(csv.reader(file, delimiter=\",\"))[0]\n",
    "file.close()"
   ]
  },
  {
   "cell_type": "code",
   "execution_count": 8,
   "id": "9b10b426",
   "metadata": {},
   "outputs": [],
   "source": [
    "file = open(base_path + \"hashtag.csv\",'r')\n",
    "hashtags = list(csv.reader(file, delimiter=\",\"))[0]\n",
    "file.close()"
   ]
  },
  {
   "cell_type": "code",
   "execution_count": 9,
   "id": "1858d6d1",
   "metadata": {},
   "outputs": [],
   "source": [
    "# Case normalization\n",
    "# remove punctuations, emoji's, url, mentions\n",
    "# Remove stopwords\n",
    "# Stemming\n",
    "# Remove numbers and word with numbers\n",
    "# Accorpare le espressioni e i nomi propri\n",
    "# Remove unknown words"
   ]
  },
  {
   "cell_type": "code",
   "execution_count": 10,
   "id": "a60e42ea",
   "metadata": {},
   "outputs": [],
   "source": [
    "stop = stopwords.words('english')\n",
    "stemmer = PorterStemmer()\n",
    "spell = SpellChecker()\n",
    "blob_lists_1 = []\n",
    "for bl in blob_lists:\n",
    "    blob_1 = []\n",
    "    for blob in bl:\n",
    "        blob = blob.lower()\n",
    "        blob = re.sub(r\"(@\\[A-Za-z0-9]+)|([^0-9A-Za-z \\t])|(\\w+:\\/\\/\\S+)|^rt|http.+?\", \"\", blob)\n",
    "        blob = \" \".join([word for word in blob.split() if word not in (stop)])\n",
    "        blob = \" \".join([stemmer.stem(word) for word in blob.split()])\n",
    "        blob = ' '.join(s for s in blob.split() if not any(c.isdigit() for c in s))\n",
    "        for k in keywords:\n",
    "            if k in blob:\n",
    "                #print(k)\n",
    "                blob = blob.replace(k, k.replace(\" \",\"\"))\n",
    "        for p in persone:\n",
    "            if p in blob:\n",
    "                #print(p)\n",
    "                blob = blob.replace(p, p.replace(\" \",\"\"))\n",
    "        for h in hashtags:\n",
    "            if (h in blob and len(h.split())>1):\n",
    "                blob = blob.replace(h, h.replace(\" \",\"\"))\n",
    "        blob_1.append(blob)\n",
    "    blob_lists_1.append(blob_1)"
   ]
  },
  {
   "cell_type": "code",
   "execution_count": 11,
   "id": "f8ba3255",
   "metadata": {},
   "outputs": [],
   "source": [
    "#creo dizionari con tutte le espressioni attaccate in una sola parola\n",
    "keywords_nos = []\n",
    "persone_nos = []\n",
    "hashtags_nos = []\n",
    "for k in keywords:\n",
    "    keywords_nos.append(k.replace(\" \",\"\"))\n",
    "for p in persone:\n",
    "    persone_nos.append(p.replace(\" \",\"\"))\n",
    "for h in hashtags:\n",
    "    hashtags_nos.append(h.replace(\" \",\"\"))"
   ]
  },
  {
   "cell_type": "code",
   "execution_count": 12,
   "id": "c9e082be",
   "metadata": {},
   "outputs": [],
   "source": [
    "#Creo un'unica lista per tutti i dizionari\n",
    "all_dict = []\n",
    "all_dict.extend(acronimi)\n",
    "all_dict.extend(keywords_nos)\n",
    "all_dict.extend(persone_nos)\n",
    "all_dict.extend(hashtags_nos)"
   ]
  },
  {
   "cell_type": "code",
   "execution_count": 13,
   "id": "0b648bda",
   "metadata": {},
   "outputs": [],
   "source": [
    "#Controllo sule parole sconosciute\n",
    "blob_list_2 = []\n",
    "for bl in blob_lists_1:\n",
    "    blob_1 = []\n",
    "    for blob in bl:\n",
    "        sconosciute = list(spell.unknown([w for w in blob.split()]))\n",
    "        res = list(filter(lambda x: x not in set(all_dict),sconosciute))\n",
    "        blob = ' '.join(word for word in blob.split() if word not in res)\n",
    "        blob_1.append(blob)\n",
    "    blob_list_2.append(blob_1)"
   ]
  },
  {
   "cell_type": "code",
   "execution_count": 14,
   "id": "16827b3e",
   "metadata": {},
   "outputs": [],
   "source": [
    "dfs_1 = []\n",
    "for i,df in enumerate(dfs):\n",
    "    df['clean_blob'] = blob_list_2[i]\n",
    "    df = df.drop('blob', axis=1)\n",
    "    dfs_1.append(df)\n",
    "    df.to_json(f\"RedditDS\\\\splitted_df_cleaned_a\\\\splitted_df_cleaned{i}_a.json\",orient='records',lines=True)"
   ]
  },
  {
   "cell_type": "code",
   "execution_count": null,
   "id": "d57dfffe",
   "metadata": {},
   "outputs": [],
   "source": []
  }
 ],
 "metadata": {
  "kernelspec": {
   "display_name": "Python 3 (ipykernel)",
   "language": "python",
   "name": "python3"
  },
  "language_info": {
   "codemirror_mode": {
    "name": "ipython",
    "version": 3
   },
   "file_extension": ".py",
   "mimetype": "text/x-python",
   "name": "python",
   "nbconvert_exporter": "python",
   "pygments_lexer": "ipython3",
   "version": "3.10.9"
  }
 },
 "nbformat": 4,
 "nbformat_minor": 5
}
