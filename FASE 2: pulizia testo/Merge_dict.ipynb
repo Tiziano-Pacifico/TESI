{
 "cells": [
  {
   "cell_type": "code",
   "execution_count": 13,
   "id": "0f295e73",
   "metadata": {},
   "outputs": [],
   "source": [
    "import csv\n",
    "import os\n",
    "os.chdir('C:\\\\Users\\\\Tiziano Pacifico\\\\Desktop\\\\TESI')"
   ]
  },
  {
   "cell_type": "code",
   "execution_count": 6,
   "id": "a5e893bc",
   "metadata": {},
   "outputs": [],
   "source": [
    "base_path = 'FASE 2 Pulizia Testo\\\\Dizionari\\\\dict\\\\'\n",
    "file = open(base_path + \"acronimi.csv\",'r')\n",
    "acronimi = list(csv.reader(file, delimiter=\",\"))[0]\n",
    "file.close()"
   ]
  },
  {
   "cell_type": "code",
   "execution_count": 7,
   "id": "d010ca60",
   "metadata": {},
   "outputs": [],
   "source": [
    "file = open(base_path + \"keywords.csv\",'r')\n",
    "keywords = list(csv.reader(file, delimiter=\",\"))[0]\n",
    "file.close()"
   ]
  },
  {
   "cell_type": "code",
   "execution_count": 8,
   "id": "ede21b73",
   "metadata": {},
   "outputs": [],
   "source": [
    "file = open(base_path + \"persone.csv\",'r')\n",
    "persone = list(csv.reader(file, delimiter=\",\"))[0]\n",
    "file.close()"
   ]
  },
  {
   "cell_type": "code",
   "execution_count": 9,
   "id": "ca6ab84f",
   "metadata": {},
   "outputs": [],
   "source": [
    "file = open(base_path + \"hashtag.csv\",'r')\n",
    "hashtags = list(csv.reader(file, delimiter=\",\"))[0]\n",
    "file.close()"
   ]
  },
  {
   "cell_type": "code",
   "execution_count": 10,
   "id": "b3e22df8",
   "metadata": {},
   "outputs": [],
   "source": [
    "#creo dizionari con tutte le espressioni attaccate in una sola parola\n",
    "keywords_nos = []\n",
    "persone_nos = []\n",
    "hashtags_nos = []\n",
    "for k in keywords:\n",
    "    keywords_nos.append(k.replace(\" \",\"\"))\n",
    "for p in persone:\n",
    "    persone_nos.append(p.replace(\" \",\"\"))\n",
    "for h in hashtags:\n",
    "    hashtags_nos.append(h.replace(\" \",\"\"))"
   ]
  },
  {
   "cell_type": "code",
   "execution_count": 16,
   "id": "6d3c836a",
   "metadata": {},
   "outputs": [],
   "source": [
    "os.chdir('C:\\\\Users\\\\Tiziano Pacifico\\\\Desktop\\\\TESI\\\\FASE 2 Pulizia Testo\\\\Dizionari\\\\merged_dict')"
   ]
  },
  {
   "cell_type": "code",
   "execution_count": 18,
   "id": "985dbfbe",
   "metadata": {},
   "outputs": [],
   "source": [
    "with open('acronimi_m.csv','w') as f:\n",
    "    csv_writer = csv.writer(f)\n",
    "    csv_writer.writerow(acronimi)"
   ]
  },
  {
   "cell_type": "code",
   "execution_count": 20,
   "id": "0aa11456",
   "metadata": {},
   "outputs": [],
   "source": [
    "with open('keywords_m.csv','w') as f:\n",
    "    csv_writer = csv.writer(f)\n",
    "    csv_writer.writerow(keywords_nos)"
   ]
  },
  {
   "cell_type": "code",
   "execution_count": 21,
   "id": "57bcda51",
   "metadata": {},
   "outputs": [],
   "source": [
    "with open('persone_m.csv','w') as f:\n",
    "    csv_writer = csv.writer(f)\n",
    "    csv_writer.writerow(persone_nos)"
   ]
  },
  {
   "cell_type": "code",
   "execution_count": 23,
   "id": "ccd35191",
   "metadata": {},
   "outputs": [],
   "source": [
    "with open('hashtag_m.csv','w') as f:\n",
    "    csv_writer = csv.writer(f)\n",
    "    csv_writer.writerow(hashtags_nos)"
   ]
  },
  {
   "cell_type": "code",
   "execution_count": null,
   "id": "94e287ad",
   "metadata": {},
   "outputs": [],
   "source": []
  }
 ],
 "metadata": {
  "kernelspec": {
   "display_name": "Python 3 (ipykernel)",
   "language": "python",
   "name": "python3"
  },
  "language_info": {
   "codemirror_mode": {
    "name": "ipython",
    "version": 3
   },
   "file_extension": ".py",
   "mimetype": "text/x-python",
   "name": "python",
   "nbconvert_exporter": "python",
   "pygments_lexer": "ipython3",
   "version": "3.10.9"
  }
 },
 "nbformat": 4,
 "nbformat_minor": 5
}
